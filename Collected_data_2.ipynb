{
 "cells": [
  {
   "cell_type": "markdown",
   "metadata": {},
   "source": [
    "Required libraries "
   ]
  },
  {
   "cell_type": "code",
   "execution_count": 1,
   "metadata": {},
   "outputs": [],
   "source": [
    "import pandas as pd\n",
    "import selenium\n",
    "from selenium import webdriver\n",
    "import time\n",
    "from selenium.common.exceptions import NoSuchElementException"
   ]
  },
  {
   "cell_type": "raw",
   "metadata": {},
   "source": [
    "We are going to scrap the data from cardekho website, in this website we have an option to select owners and location.  "
   ]
  },
  {
   "cell_type": "markdown",
   "metadata": {},
   "source": [
    "# chennai"
   ]
  },
  {
   "cell_type": "code",
   "execution_count": 2,
   "metadata": {},
   "outputs": [],
   "source": [
    "driver=webdriver.Firefox(\"C:\\geckodriver-v0.29.1-win64\")"
   ]
  },
  {
   "cell_type": "code",
   "execution_count": 3,
   "metadata": {},
   "outputs": [],
   "source": [
    "driver.get(\"https://www.cardekho.com/\") #getting the website"
   ]
  },
  {
   "cell_type": "code",
   "execution_count": 4,
   "metadata": {},
   "outputs": [],
   "source": [
    "#Selecting Used Cars option\n",
    "k=driver.find_element_by_xpath(\"//ul[@class='gsc-ta-clickWrap ']/li[2]\")\n",
    "k.click() "
   ]
  },
  {
   "cell_type": "code",
   "execution_count": 5,
   "metadata": {},
   "outputs": [],
   "source": [
    "#Selecting serach option\n",
    "driver.find_element_by_xpath(\"(//div[@class='modelname ']/div/ul/li[3]/button)[2]\").click()"
   ]
  },
  {
   "cell_type": "code",
   "execution_count": 6,
   "metadata": {},
   "outputs": [],
   "source": [
    "#entering city name\n",
    "City=driver.find_element_by_id(\"autocomplete\")\n",
    "City.send_keys(\"Chennai\")"
   ]
  },
  {
   "cell_type": "code",
   "execution_count": 7,
   "metadata": {},
   "outputs": [],
   "source": [
    "#selecting the city drop down\n",
    "select=driver.find_element_by_xpath(\"//div[@class='pac-container pac-logo']/div[1]\")\n",
    "select.click()"
   ]
  },
  {
   "cell_type": "code",
   "execution_count": 9,
   "metadata": {},
   "outputs": [],
   "source": [
    "#extracting data for the cars where owners is \"first owner\" for Chennai city.\n",
    "#selecting the \"first onwer\" option from filters.\n",
    "driver.find_element_by_xpath(\"//ul[@class='checkBoxWrap sellerTypes ownerTypes']/li[2]\").click()"
   ]
  },
  {
   "cell_type": "code",
   "execution_count": 41,
   "metadata": {},
   "outputs": [],
   "source": [
    "#creating empty list for data to be collected.\n",
    "Price=[]\n",
    "Car_name=[]\n",
    "Kilometers_driven=[]\n",
    "Fuel=[]\n",
    "Transmission=[]\n",
    "Variant=[]\n",
    "Location=[]"
   ]
  },
  {
   "cell_type": "code",
   "execution_count": 10,
   "metadata": {},
   "outputs": [],
   "source": [
    "#Collectig data .\n",
    "\n",
    "\n",
    "car_name=[] #collecting car name\n",
    "for i in driver.find_elements_by_xpath(\"//div[@class='gsc_col-xs-7 carsName']/a\")[0:200]:\n",
    "    car_name.append(i.text)\n",
    "time.sleep(4)\n",
    "\n",
    "\n",
    "Variant=[] #collecting car variant data\n",
    "for i in driver.find_elements_by_xpath(\"//div[@class='gsc_col-xs-7 carsName']/div[1]\")[0:200]:\n",
    "    Variant.append(i.text)\n",
    "time.sleep(4)\n",
    "\n",
    "\n",
    "Kilometers_driven=[] #collecting car kilometers dreiven \n",
    "for i in driver.find_elements_by_xpath(\"//div[@class='gsc_col-xs-7 carsName']/div[2]/span[1]\")[0:200]:\n",
    "    Kilometers_driven.append(i.text)\n",
    "time.sleep(4)\n",
    "\n",
    "Fuel=[] #which fuel is used for th car\n",
    "for i in driver.find_elements_by_xpath(\"//div[@class='gsc_col-xs-7 carsName']/div[2]/span[2]\")[0:200]:\n",
    "    Fuel.append(i.text)\n",
    "time.sleep(4)\n",
    "\n",
    "Transmission=[] #collecting car transmission data\n",
    "for i in driver.find_elements_by_xpath(\"//div[@class='gsc_col-xs-7 carsName']/div[2]/span[3]\")[0:200]:\n",
    "    Transmission.append(i.text)\n",
    "time.sleep(4)\n",
    "\n",
    "Price=[] #collecting car price\n",
    "for i in driver.find_elements_by_xpath(\"//div[@class='price gsc_col-xs-5 text-right']/span\")[0:200]:\n",
    "    Price.append(i.text)\n",
    "time.sleep(4)"
   ]
  },
  {
   "cell_type": "code",
   "execution_count": 12,
   "metadata": {},
   "outputs": [
    {
     "name": "stdout",
     "output_type": "stream",
     "text": [
      "Car_name 160\n",
      "Price 160\n",
      "Transmission 160\n",
      "Fuel 160\n",
      "Variant 160\n",
      "Kilometers_driven 160\n"
     ]
    }
   ],
   "source": [
    "print(\"Car_name\",len(car_name))\n",
    "print(\"Price\",len(Price))\n",
    "print(\"Transmission\",len(Transmission))\n",
    "print(\"Fuel\",len(Fuel))\n",
    "print(\"Variant\",len(Variant))\n",
    "print(\"Kilometers_driven\",len(Kilometers_driven))"
   ]
  },
  {
   "cell_type": "code",
   "execution_count": 15,
   "metadata": {},
   "outputs": [],
   "source": [
    "#creating data frame for the collected data.\n",
    "car_deko_4=pd.DataFrame({})\n",
    "car_deko_4['Price']=Price\n",
    "car_deko_4['Brand']=car_name\n",
    "car_deko_4['Kilometers_driven']=Kilometers_driven\n",
    "car_deko_4['Fuel']=Fuel\n",
    "car_deko_4['Transmission']=Transmission\n",
    "car_deko_4['Variant']=Variant\n",
    "#we know that the data is from First owner cars. \n",
    "#So we will add the First owner value for all the rows in data frama by creating a seperate column for owners. \n",
    "#Same we will do for location('chennai'.)\n",
    "car_deko_4['No_owners']=\"FirstOwner\"\n",
    "car_deko_4['Location']='Chennai'  "
   ]
  },
  {
   "cell_type": "code",
   "execution_count": 16,
   "metadata": {},
   "outputs": [
    {
     "data": {
      "text/html": [
       "<div>\n",
       "<style scoped>\n",
       "    .dataframe tbody tr th:only-of-type {\n",
       "        vertical-align: middle;\n",
       "    }\n",
       "\n",
       "    .dataframe tbody tr th {\n",
       "        vertical-align: top;\n",
       "    }\n",
       "\n",
       "    .dataframe thead th {\n",
       "        text-align: right;\n",
       "    }\n",
       "</style>\n",
       "<table border=\"1\" class=\"dataframe\">\n",
       "  <thead>\n",
       "    <tr style=\"text-align: right;\">\n",
       "      <th></th>\n",
       "      <th>Price</th>\n",
       "      <th>Brand</th>\n",
       "      <th>Kilometers_driven</th>\n",
       "      <th>Fuel</th>\n",
       "      <th>Transmission</th>\n",
       "      <th>Variant</th>\n",
       "      <th>No_owners</th>\n",
       "      <th>Location</th>\n",
       "    </tr>\n",
       "  </thead>\n",
       "  <tbody>\n",
       "    <tr>\n",
       "      <th>0</th>\n",
       "      <td>6.25 Lakh</td>\n",
       "      <td>2012 Maruti Ertiga</td>\n",
       "      <td>33,000 kms</td>\n",
       "      <td>Diesel</td>\n",
       "      <td>Manual</td>\n",
       "      <td>VDI</td>\n",
       "      <td>FirstOwner</td>\n",
       "      <td>Chennai</td>\n",
       "    </tr>\n",
       "    <tr>\n",
       "      <th>1</th>\n",
       "      <td>16.75 Lakh</td>\n",
       "      <td>2021 Kia Seltos</td>\n",
       "      <td>2,600 kms</td>\n",
       "      <td>Petrol</td>\n",
       "      <td>Manual</td>\n",
       "      <td>HTX G</td>\n",
       "      <td>FirstOwner</td>\n",
       "      <td>Chennai</td>\n",
       "    </tr>\n",
       "    <tr>\n",
       "      <th>2</th>\n",
       "      <td>6 Lakh</td>\n",
       "      <td>2013 Volkswagen Vento</td>\n",
       "      <td>30,000 kms</td>\n",
       "      <td>Diesel</td>\n",
       "      <td>Manual</td>\n",
       "      <td>1.5 TDI Highline</td>\n",
       "      <td>FirstOwner</td>\n",
       "      <td>Chennai</td>\n",
       "    </tr>\n",
       "    <tr>\n",
       "      <th>3</th>\n",
       "      <td>4.25 Lakh</td>\n",
       "      <td>2014 Hyundai Grand i10</td>\n",
       "      <td>42,000 kms</td>\n",
       "      <td>Petrol</td>\n",
       "      <td>Manual</td>\n",
       "      <td>Magna</td>\n",
       "      <td>FirstOwner</td>\n",
       "      <td>Chennai</td>\n",
       "    </tr>\n",
       "    <tr>\n",
       "      <th>4</th>\n",
       "      <td>6.45 Lakh</td>\n",
       "      <td>2016 Nissan Terrano</td>\n",
       "      <td>29,000 kms</td>\n",
       "      <td>Petrol</td>\n",
       "      <td>Manual</td>\n",
       "      <td>XL</td>\n",
       "      <td>FirstOwner</td>\n",
       "      <td>Chennai</td>\n",
       "    </tr>\n",
       "  </tbody>\n",
       "</table>\n",
       "</div>"
      ],
      "text/plain": [
       "        Price                   Brand Kilometers_driven    Fuel Transmission  \\\n",
       "0   6.25 Lakh      2012 Maruti Ertiga        33,000 kms  Diesel       Manual   \n",
       "1  16.75 Lakh         2021 Kia Seltos         2,600 kms  Petrol       Manual   \n",
       "2      6 Lakh   2013 Volkswagen Vento        30,000 kms  Diesel       Manual   \n",
       "3   4.25 Lakh  2014 Hyundai Grand i10        42,000 kms  Petrol       Manual   \n",
       "4   6.45 Lakh     2016 Nissan Terrano        29,000 kms  Petrol       Manual   \n",
       "\n",
       "            Variant   No_owners Location  \n",
       "0               VDI  FirstOwner  Chennai  \n",
       "1             HTX G  FirstOwner  Chennai  \n",
       "2  1.5 TDI Highline  FirstOwner  Chennai  \n",
       "3             Magna  FirstOwner  Chennai  \n",
       "4                XL  FirstOwner  Chennai  "
      ]
     },
     "execution_count": 16,
     "metadata": {},
     "output_type": "execute_result"
    }
   ],
   "source": [
    "car_deko_4.head()"
   ]
  },
  {
   "cell_type": "code",
   "execution_count": null,
   "metadata": {},
   "outputs": [],
   "source": []
  },
  {
   "cell_type": "code",
   "execution_count": 18,
   "metadata": {},
   "outputs": [],
   "source": [
    "#Lets scrap data for Second owner cars for chennai location"
   ]
  },
  {
   "cell_type": "code",
   "execution_count": 19,
   "metadata": {},
   "outputs": [],
   "source": [
    "#extracting data for the cars where owners is \"second owner\" for Chennai city.\n",
    "#selecting the \"second onwer\" option.\n",
    "driver.find_element_by_xpath(\"//ul[@class='checkBoxWrap sellerTypes ownerTypes']/li[3]\").click()"
   ]
  },
  {
   "cell_type": "code",
   "execution_count": 20,
   "metadata": {},
   "outputs": [],
   "source": [
    "#creating empty list for the scraped data\n",
    "Price=[]\n",
    "Car_name=[]\n",
    "Kilometers_driven=[]\n",
    "Fuel=[]\n",
    "Transmission=[]\n",
    "Variant=[]"
   ]
  },
  {
   "cell_type": "code",
   "execution_count": 21,
   "metadata": {},
   "outputs": [],
   "source": [
    "#Collectig data .\n",
    "\n",
    "\n",
    "car_name=[] #collecting car name\n",
    "for i in driver.find_elements_by_xpath(\"//div[@class='gsc_col-xs-7 carsName']/a\")[0:200]:\n",
    "    car_name.append(i.text)\n",
    "time.sleep(4)\n",
    "\n",
    "\n",
    "Variant=[] #collecting car variant data\n",
    "for i in driver.find_elements_by_xpath(\"//div[@class='gsc_col-xs-7 carsName']/div[1]\")[0:200]:\n",
    "    Variant.append(i.text)\n",
    "time.sleep(4)\n",
    "\n",
    "\n",
    "Kilometers_driven=[] #collecting car kilometers dreiven \n",
    "for i in driver.find_elements_by_xpath(\"//div[@class='gsc_col-xs-7 carsName']/div[2]/span[1]\")[0:200]:\n",
    "    Kilometers_driven.append(i.text)\n",
    "time.sleep(4)\n",
    "\n",
    "Fuel=[] #which fuel is used for th car\n",
    "for i in driver.find_elements_by_xpath(\"//div[@class='gsc_col-xs-7 carsName']/div[2]/span[2]\")[0:200]:\n",
    "    Fuel.append(i.text)\n",
    "time.sleep(4)\n",
    "\n",
    "Transmission=[] #collecting car transmission data\n",
    "for i in driver.find_elements_by_xpath(\"//div[@class='gsc_col-xs-7 carsName']/div[2]/span[3]\")[0:200]:\n",
    "    Transmission.append(i.text)\n",
    "time.sleep(4)\n",
    "\n",
    "Price=[] #collecting car price\n",
    "for i in driver.find_elements_by_xpath(\"//div[@class='price gsc_col-xs-5 text-right']/span\")[0:200]:\n",
    "    Price.append(i.text)\n",
    "time.sleep(4)"
   ]
  },
  {
   "cell_type": "code",
   "execution_count": 22,
   "metadata": {},
   "outputs": [
    {
     "name": "stdout",
     "output_type": "stream",
     "text": [
      "Car_name 200\n",
      "Price 200\n",
      "Transmission 200\n",
      "Fuel 200\n",
      "Variant 200\n",
      "Kilometers_driven 200\n"
     ]
    }
   ],
   "source": [
    "#checking length of each scrapped data\n",
    "print(\"Car_name\",len(car_name))\n",
    "print(\"Price\",len(Price))\n",
    "print(\"Transmission\",len(Transmission))\n",
    "print(\"Fuel\",len(Fuel))\n",
    "print(\"Variant\",len(Variant))\n",
    "print(\"Kilometers_driven\",len(Kilometers_driven))"
   ]
  },
  {
   "cell_type": "code",
   "execution_count": 24,
   "metadata": {},
   "outputs": [],
   "source": [
    "#creating data frame for the collected data.\n",
    "car_deko_4_a=pd.DataFrame({})\n",
    "car_deko_4_a['Price']=Price\n",
    "car_deko_4_a['Brand']=car_name\n",
    "car_deko_4_a['Kilometers_driven']=Kilometers_driven\n",
    "car_deko_4_a['Fuel']=Fuel\n",
    "car_deko_4_a['Transmission']=Transmission\n",
    "car_deko_4_a['Variant']=Variant\n",
    "#we know that the data is from First owner cars. \n",
    "#So we will add the second owner value for all the rows in data frama by creating a seperate column for owners. \n",
    "#Same we will do for location('chennai'.)\n",
    "car_deko_4_a['No_owners']=\"SecondOwner\"          \n",
    "car_deko_4_a['Location']='Chennai'  "
   ]
  },
  {
   "cell_type": "code",
   "execution_count": 25,
   "metadata": {},
   "outputs": [
    {
     "data": {
      "text/html": [
       "<div>\n",
       "<style scoped>\n",
       "    .dataframe tbody tr th:only-of-type {\n",
       "        vertical-align: middle;\n",
       "    }\n",
       "\n",
       "    .dataframe tbody tr th {\n",
       "        vertical-align: top;\n",
       "    }\n",
       "\n",
       "    .dataframe thead th {\n",
       "        text-align: right;\n",
       "    }\n",
       "</style>\n",
       "<table border=\"1\" class=\"dataframe\">\n",
       "  <thead>\n",
       "    <tr style=\"text-align: right;\">\n",
       "      <th></th>\n",
       "      <th>Price</th>\n",
       "      <th>Brand</th>\n",
       "      <th>Kilometers_driven</th>\n",
       "      <th>Fuel</th>\n",
       "      <th>Transmission</th>\n",
       "      <th>Variant</th>\n",
       "      <th>No_owners</th>\n",
       "      <th>Location</th>\n",
       "    </tr>\n",
       "  </thead>\n",
       "  <tbody>\n",
       "    <tr>\n",
       "      <th>0</th>\n",
       "      <td>4.6 Lakh</td>\n",
       "      <td>2012 Toyota Etios Liva</td>\n",
       "      <td>33,000 kms</td>\n",
       "      <td>Diesel</td>\n",
       "      <td>Manual</td>\n",
       "      <td>GD</td>\n",
       "      <td>SecondOwner</td>\n",
       "      <td>Chennai</td>\n",
       "    </tr>\n",
       "    <tr>\n",
       "      <th>1</th>\n",
       "      <td>5.5 Lakh</td>\n",
       "      <td>2013 Honda City</td>\n",
       "      <td>47,000 kms</td>\n",
       "      <td>Petrol</td>\n",
       "      <td>Automatic</td>\n",
       "      <td>V AT</td>\n",
       "      <td>SecondOwner</td>\n",
       "      <td>Chennai</td>\n",
       "    </tr>\n",
       "    <tr>\n",
       "      <th>2</th>\n",
       "      <td>2.4 Lakh</td>\n",
       "      <td>2010 Maruti Zen Estilo</td>\n",
       "      <td>58,000 kms</td>\n",
       "      <td>Petrol</td>\n",
       "      <td>Manual</td>\n",
       "      <td>VXI BSIII</td>\n",
       "      <td>SecondOwner</td>\n",
       "      <td>Chennai</td>\n",
       "    </tr>\n",
       "    <tr>\n",
       "      <th>3</th>\n",
       "      <td>4.65 Lakh</td>\n",
       "      <td>2016 Hyundai Grand i10</td>\n",
       "      <td>43,000 kms</td>\n",
       "      <td>Petrol</td>\n",
       "      <td>Manual</td>\n",
       "      <td>Asta</td>\n",
       "      <td>SecondOwner</td>\n",
       "      <td>Chennai</td>\n",
       "    </tr>\n",
       "    <tr>\n",
       "      <th>4</th>\n",
       "      <td>2.9 Lakh</td>\n",
       "      <td>2008 Honda City</td>\n",
       "      <td>1,10,000 kms</td>\n",
       "      <td>Petrol</td>\n",
       "      <td>Manual</td>\n",
       "      <td>GXi</td>\n",
       "      <td>SecondOwner</td>\n",
       "      <td>Chennai</td>\n",
       "    </tr>\n",
       "  </tbody>\n",
       "</table>\n",
       "</div>"
      ],
      "text/plain": [
       "       Price                   Brand Kilometers_driven    Fuel Transmission  \\\n",
       "0   4.6 Lakh  2012 Toyota Etios Liva        33,000 kms  Diesel       Manual   \n",
       "1   5.5 Lakh         2013 Honda City        47,000 kms  Petrol    Automatic   \n",
       "2   2.4 Lakh  2010 Maruti Zen Estilo        58,000 kms  Petrol       Manual   \n",
       "3  4.65 Lakh  2016 Hyundai Grand i10        43,000 kms  Petrol       Manual   \n",
       "4   2.9 Lakh         2008 Honda City      1,10,000 kms  Petrol       Manual   \n",
       "\n",
       "     Variant    No_owners Location  \n",
       "0         GD  SecondOwner  Chennai  \n",
       "1       V AT  SecondOwner  Chennai  \n",
       "2  VXI BSIII  SecondOwner  Chennai  \n",
       "3       Asta  SecondOwner  Chennai  \n",
       "4        GXi  SecondOwner  Chennai  "
      ]
     },
     "execution_count": 25,
     "metadata": {},
     "output_type": "execute_result"
    }
   ],
   "source": [
    "car_deko_4_a.head()"
   ]
  },
  {
   "cell_type": "code",
   "execution_count": null,
   "metadata": {},
   "outputs": [],
   "source": []
  },
  {
   "cell_type": "code",
   "execution_count": 26,
   "metadata": {},
   "outputs": [],
   "source": [
    "##Lets scrap data for \"Third owner\" cars for chennai location"
   ]
  },
  {
   "cell_type": "code",
   "execution_count": 27,
   "metadata": {},
   "outputs": [],
   "source": [
    "#extracting data for the cars where owners is \"Third owner\" for Chennai city.\n",
    "#selecting the \"Third onwer\" option.\n",
    "driver.find_element_by_xpath(\"//ul[@class='checkBoxWrap sellerTypes ownerTypes']/li[4]\").click()"
   ]
  },
  {
   "cell_type": "code",
   "execution_count": 28,
   "metadata": {},
   "outputs": [],
   "source": [
    "#creating empty list for the scraped data\n",
    "Price=[]\n",
    "Car_name=[]\n",
    "Kilometers_driven=[]\n",
    "Fuel=[]\n",
    "Transmission=[]\n",
    "Variant=[]"
   ]
  },
  {
   "cell_type": "code",
   "execution_count": 29,
   "metadata": {},
   "outputs": [],
   "source": [
    "#Collectig data .\n",
    "\n",
    "\n",
    "car_name=[] #collecting car name\n",
    "for i in driver.find_elements_by_xpath(\"//div[@class='gsc_col-xs-7 carsName']/a\")[0:200]:\n",
    "    car_name.append(i.text)\n",
    "time.sleep(4)\n",
    "\n",
    "\n",
    "Variant=[] #collecting car variant data\n",
    "for i in driver.find_elements_by_xpath(\"//div[@class='gsc_col-xs-7 carsName']/div[1]\")[0:200]:\n",
    "    Variant.append(i.text)\n",
    "time.sleep(4)\n",
    "\n",
    "\n",
    "Kilometers_driven=[] #collecting car kilometers dreiven \n",
    "for i in driver.find_elements_by_xpath(\"//div[@class='gsc_col-xs-7 carsName']/div[2]/span[1]\")[0:200]:\n",
    "    Kilometers_driven.append(i.text)\n",
    "time.sleep(4)\n",
    "\n",
    "Fuel=[] #which fuel is used for th car\n",
    "for i in driver.find_elements_by_xpath(\"//div[@class='gsc_col-xs-7 carsName']/div[2]/span[2]\")[0:200]:\n",
    "    Fuel.append(i.text)\n",
    "time.sleep(4)\n",
    "\n",
    "Transmission=[] #collecting car transmission data\n",
    "for i in driver.find_elements_by_xpath(\"//div[@class='gsc_col-xs-7 carsName']/div[2]/span[3]\")[0:200]:\n",
    "    Transmission.append(i.text)\n",
    "time.sleep(4)\n",
    "\n",
    "Price=[] #collecting car price\n",
    "for i in driver.find_elements_by_xpath(\"//div[@class='price gsc_col-xs-5 text-right']/span\")[0:200]:\n",
    "    Price.append(i.text)\n",
    "time.sleep(4)"
   ]
  },
  {
   "cell_type": "code",
   "execution_count": 30,
   "metadata": {},
   "outputs": [
    {
     "name": "stdout",
     "output_type": "stream",
     "text": [
      "Car_name 42\n",
      "Price 42\n",
      "Transmission 42\n",
      "Fuel 42\n",
      "Variant 42\n",
      "Kilometers_driven 42\n"
     ]
    }
   ],
   "source": [
    "#checking length of each scrapped data\n",
    "print(\"Car_name\",len(car_name))\n",
    "print(\"Price\",len(Price))\n",
    "print(\"Transmission\",len(Transmission))\n",
    "print(\"Fuel\",len(Fuel))\n",
    "print(\"Variant\",len(Variant))\n",
    "print(\"Kilometers_driven\",len(Kilometers_driven))"
   ]
  },
  {
   "cell_type": "code",
   "execution_count": 32,
   "metadata": {},
   "outputs": [],
   "source": [
    "#creating data frame for the collected data.\n",
    "car_deko_4_b=pd.DataFrame({})\n",
    "car_deko_4_b['Price']=Price\n",
    "car_deko_4_b['Brand']=car_name\n",
    "car_deko_4_b['Kilometers_driven']=Kilometers_driven\n",
    "car_deko_4_b['Fuel']=Fuel\n",
    "car_deko_4_b['Transmission']=Transmission\n",
    "car_deko_4_b['Variant']=Variant\n",
    "#we know that the data is from First owner cars. \n",
    "#So we will add the Third owner value for all the rows in data frama by creating a seperate column for owners. \n",
    "#Same we will do for location('chennai'.)\n",
    "car_deko_4_b['No_owners']=\"Thirdowner\"          \n",
    "car_deko_4_b['Location']='Chennai'  "
   ]
  },
  {
   "cell_type": "code",
   "execution_count": 33,
   "metadata": {},
   "outputs": [
    {
     "data": {
      "text/html": [
       "<div>\n",
       "<style scoped>\n",
       "    .dataframe tbody tr th:only-of-type {\n",
       "        vertical-align: middle;\n",
       "    }\n",
       "\n",
       "    .dataframe tbody tr th {\n",
       "        vertical-align: top;\n",
       "    }\n",
       "\n",
       "    .dataframe thead th {\n",
       "        text-align: right;\n",
       "    }\n",
       "</style>\n",
       "<table border=\"1\" class=\"dataframe\">\n",
       "  <thead>\n",
       "    <tr style=\"text-align: right;\">\n",
       "      <th></th>\n",
       "      <th>Price</th>\n",
       "      <th>Brand</th>\n",
       "      <th>Kilometers_driven</th>\n",
       "      <th>Fuel</th>\n",
       "      <th>Transmission</th>\n",
       "      <th>Variant</th>\n",
       "      <th>No_owners</th>\n",
       "      <th>Location</th>\n",
       "    </tr>\n",
       "  </thead>\n",
       "  <tbody>\n",
       "    <tr>\n",
       "      <th>0</th>\n",
       "      <td>10.85 Lakh</td>\n",
       "      <td>2011 Toyota Fortuner</td>\n",
       "      <td>1,59,000 kms</td>\n",
       "      <td>Diesel</td>\n",
       "      <td>Manual</td>\n",
       "      <td>3.0 Diesel</td>\n",
       "      <td>Thirdowner</td>\n",
       "      <td>Chennai</td>\n",
       "    </tr>\n",
       "    <tr>\n",
       "      <th>1</th>\n",
       "      <td>1.8 Lakh</td>\n",
       "      <td>2008 Hyundai Verna</td>\n",
       "      <td>82,000 kms</td>\n",
       "      <td>Petrol</td>\n",
       "      <td>Manual</td>\n",
       "      <td>i (Petrol)</td>\n",
       "      <td>Thirdowner</td>\n",
       "      <td>Chennai</td>\n",
       "    </tr>\n",
       "    <tr>\n",
       "      <th>2</th>\n",
       "      <td>2.25 Lakh</td>\n",
       "      <td>2010 Hyundai Verna</td>\n",
       "      <td>98,422 kms</td>\n",
       "      <td>Diesel</td>\n",
       "      <td>Manual</td>\n",
       "      <td>Transform VGT CRDi with Audio BS III</td>\n",
       "      <td>Thirdowner</td>\n",
       "      <td>Chennai</td>\n",
       "    </tr>\n",
       "    <tr>\n",
       "      <th>3</th>\n",
       "      <td>2.5 Lakh</td>\n",
       "      <td>2006 Mahindra Bolero</td>\n",
       "      <td>1,40,000 kms</td>\n",
       "      <td>Diesel</td>\n",
       "      <td>Manual</td>\n",
       "      <td>Sports</td>\n",
       "      <td>Thirdowner</td>\n",
       "      <td>Chennai</td>\n",
       "    </tr>\n",
       "    <tr>\n",
       "      <th>4</th>\n",
       "      <td>75,000</td>\n",
       "      <td>2001 Maruti Omni</td>\n",
       "      <td>80,000 kms</td>\n",
       "      <td>Petrol</td>\n",
       "      <td>Manual</td>\n",
       "      <td>8 Seater BSII</td>\n",
       "      <td>Thirdowner</td>\n",
       "      <td>Chennai</td>\n",
       "    </tr>\n",
       "  </tbody>\n",
       "</table>\n",
       "</div>"
      ],
      "text/plain": [
       "        Price                 Brand Kilometers_driven    Fuel Transmission  \\\n",
       "0  10.85 Lakh  2011 Toyota Fortuner      1,59,000 kms  Diesel       Manual   \n",
       "1    1.8 Lakh    2008 Hyundai Verna        82,000 kms  Petrol       Manual   \n",
       "2   2.25 Lakh    2010 Hyundai Verna        98,422 kms  Diesel       Manual   \n",
       "3    2.5 Lakh  2006 Mahindra Bolero      1,40,000 kms  Diesel       Manual   \n",
       "4      75,000      2001 Maruti Omni        80,000 kms  Petrol       Manual   \n",
       "\n",
       "                                Variant   No_owners Location  \n",
       "0                            3.0 Diesel  Thirdowner  Chennai  \n",
       "1                            i (Petrol)  Thirdowner  Chennai  \n",
       "2  Transform VGT CRDi with Audio BS III  Thirdowner  Chennai  \n",
       "3                                Sports  Thirdowner  Chennai  \n",
       "4                         8 Seater BSII  Thirdowner  Chennai  "
      ]
     },
     "execution_count": 33,
     "metadata": {},
     "output_type": "execute_result"
    }
   ],
   "source": [
    "car_deko_4_b.head()"
   ]
  },
  {
   "cell_type": "code",
   "execution_count": 34,
   "metadata": {},
   "outputs": [],
   "source": [
    "#Concatenate all chennai cars scrapped data\n",
    "car_dekho_chennai=pd.concat([car_deko_4,car_deko_4_a,car_deko_4_b])"
   ]
  },
  {
   "cell_type": "code",
   "execution_count": 35,
   "metadata": {},
   "outputs": [
    {
     "data": {
      "text/plain": [
       "(402, 8)"
      ]
     },
     "execution_count": 35,
     "metadata": {},
     "output_type": "execute_result"
    }
   ],
   "source": [
    "car_dekho_chennai.shape"
   ]
  },
  {
   "cell_type": "code",
   "execution_count": 60,
   "metadata": {},
   "outputs": [],
   "source": [
    "driver.close()"
   ]
  },
  {
   "cell_type": "markdown",
   "metadata": {},
   "source": [
    "# Bangalore"
   ]
  },
  {
   "cell_type": "code",
   "execution_count": 61,
   "metadata": {},
   "outputs": [],
   "source": [
    "driver=webdriver.Firefox(\"C:\\geckodriver-v0.29.1-win64\")"
   ]
  },
  {
   "cell_type": "code",
   "execution_count": 62,
   "metadata": {},
   "outputs": [],
   "source": [
    "#Getting website\n",
    "driver.get(\"https://www.cardekho.com/\")"
   ]
  },
  {
   "cell_type": "code",
   "execution_count": 63,
   "metadata": {},
   "outputs": [],
   "source": [
    "#Selecting Used Cars option\n",
    "k=driver.find_element_by_xpath(\"//ul[@class='gsc-ta-clickWrap ']/li[2]\")\n",
    "k.click() "
   ]
  },
  {
   "cell_type": "code",
   "execution_count": 64,
   "metadata": {},
   "outputs": [],
   "source": [
    "#Selecting serach option\n",
    "driver.find_element_by_xpath(\"(//div[@class='modelname ']/div/ul/li[3]/button)[2]\").click()"
   ]
  },
  {
   "cell_type": "code",
   "execution_count": 67,
   "metadata": {},
   "outputs": [],
   "source": [
    "#Entering city name\n",
    "city=driver.find_element_by_id(\"autocomplete\")\n",
    "city.send_keys(\"Bangalore\")"
   ]
  },
  {
   "cell_type": "code",
   "execution_count": 68,
   "metadata": {},
   "outputs": [],
   "source": [
    "#selecting city from drop down\n",
    "driver.find_element_by_xpath(\"//div[@class='pac-container pac-logo']/div[1]\").click()"
   ]
  },
  {
   "cell_type": "code",
   "execution_count": 69,
   "metadata": {},
   "outputs": [],
   "source": [
    "#extracting data for the cars where owners is \"first owner\" for bangalore city.\n",
    "#selecting the \"first onwer\" option from filters.\n",
    "driver.find_element_by_xpath(\"//ul[@class='checkBoxWrap sellerTypes ownerTypes']/li[2]\").click()"
   ]
  },
  {
   "cell_type": "code",
   "execution_count": 70,
   "metadata": {},
   "outputs": [],
   "source": [
    "#creating empty list for data to be collected.\n",
    "Price=[]\n",
    "Car_name=[]\n",
    "Kilometers_driven=[]\n",
    "Fuel=[]\n",
    "Transmission=[]\n",
    "Variant=[]\n",
    "Location=[]"
   ]
  },
  {
   "cell_type": "code",
   "execution_count": 71,
   "metadata": {},
   "outputs": [],
   "source": [
    "#Collectig data .\n",
    "\n",
    "\n",
    "car_name=[] #collecting car name\n",
    "for i in driver.find_elements_by_xpath(\"//div[@class='gsc_col-xs-7 carsName']/a\")[0:200]:\n",
    "    car_name.append(i.text)\n",
    "time.sleep(4)\n",
    "\n",
    "\n",
    "Variant=[] #collecting car variant data\n",
    "for i in driver.find_elements_by_xpath(\"//div[@class='gsc_col-xs-7 carsName']/div[1]\")[0:200]:\n",
    "    Variant.append(i.text)\n",
    "time.sleep(4)\n",
    "\n",
    "\n",
    "Kilometers_driven=[] #collecting car kilometers dreiven \n",
    "for i in driver.find_elements_by_xpath(\"//div[@class='gsc_col-xs-7 carsName']/div[2]/span[1]\")[0:200]:\n",
    "    Kilometers_driven.append(i.text)\n",
    "time.sleep(4)\n",
    "\n",
    "Fuel=[] #which fuel is used for th car\n",
    "for i in driver.find_elements_by_xpath(\"//div[@class='gsc_col-xs-7 carsName']/div[2]/span[2]\")[0:200]:\n",
    "    Fuel.append(i.text)\n",
    "time.sleep(4)\n",
    "\n",
    "Transmission=[] #collecting car transmission data\n",
    "for i in driver.find_elements_by_xpath(\"//div[@class='gsc_col-xs-7 carsName']/div[2]/span[3]\")[0:200]:\n",
    "    Transmission.append(i.text)\n",
    "time.sleep(4)\n",
    "\n",
    "Price=[] #collecting car price\n",
    "for i in driver.find_elements_by_xpath(\"//div[@class='price gsc_col-xs-5 text-right']/span\")[0:200]:\n",
    "    Price.append(i.text)\n",
    "time.sleep(4)"
   ]
  },
  {
   "cell_type": "code",
   "execution_count": 72,
   "metadata": {},
   "outputs": [
    {
     "name": "stdout",
     "output_type": "stream",
     "text": [
      "Car_name 200\n",
      "Price 200\n",
      "Transmission 200\n",
      "Fuel 200\n",
      "Variant 200\n",
      "Kilometers_driven 200\n"
     ]
    }
   ],
   "source": [
    "print(\"Car_name\",len(car_name))\n",
    "print(\"Price\",len(Price))\n",
    "print(\"Transmission\",len(Transmission))\n",
    "print(\"Fuel\",len(Fuel))\n",
    "print(\"Variant\",len(Variant))\n",
    "print(\"Kilometers_driven\",len(Kilometers_driven))"
   ]
  },
  {
   "cell_type": "code",
   "execution_count": 74,
   "metadata": {},
   "outputs": [],
   "source": [
    "#creating data frame for the collected data.\n",
    "car_deko_5=pd.DataFrame({})\n",
    "car_deko_5['Price']=Price\n",
    "car_deko_5['Brand']=car_name\n",
    "car_deko_5['Kilometers_driven']=Kilometers_driven\n",
    "car_deko_5['Fuel']=Fuel\n",
    "car_deko_5['Transmission']=Transmission\n",
    "car_deko_5['Variant']=Variant\n",
    "#we know hat the data is from First owner cars. \n",
    "#So we will add the First owner value for all the rows in data frama by creating a seperate column for owners. \n",
    "#Same we will do for location('chennai'.)\n",
    "car_deko_5['No_owners']=\"FirstOwner\"\n",
    "car_deko_5['Location']=\"Bangalore\""
   ]
  },
  {
   "cell_type": "code",
   "execution_count": 75,
   "metadata": {},
   "outputs": [
    {
     "data": {
      "text/html": [
       "<div>\n",
       "<style scoped>\n",
       "    .dataframe tbody tr th:only-of-type {\n",
       "        vertical-align: middle;\n",
       "    }\n",
       "\n",
       "    .dataframe tbody tr th {\n",
       "        vertical-align: top;\n",
       "    }\n",
       "\n",
       "    .dataframe thead th {\n",
       "        text-align: right;\n",
       "    }\n",
       "</style>\n",
       "<table border=\"1\" class=\"dataframe\">\n",
       "  <thead>\n",
       "    <tr style=\"text-align: right;\">\n",
       "      <th></th>\n",
       "      <th>Price</th>\n",
       "      <th>Brand</th>\n",
       "      <th>Kilometers_driven</th>\n",
       "      <th>Fuel</th>\n",
       "      <th>Transmission</th>\n",
       "      <th>Variant</th>\n",
       "      <th>No_owners</th>\n",
       "      <th>Location</th>\n",
       "    </tr>\n",
       "  </thead>\n",
       "  <tbody>\n",
       "    <tr>\n",
       "      <th>0</th>\n",
       "      <td>6.68 Lakh</td>\n",
       "      <td>2015 Honda Jazz</td>\n",
       "      <td>42,361 kms</td>\n",
       "      <td>Diesel</td>\n",
       "      <td>Manual</td>\n",
       "      <td>1.5 VX i DTEC</td>\n",
       "      <td>FirstOwner</td>\n",
       "      <td>Bangalore</td>\n",
       "    </tr>\n",
       "    <tr>\n",
       "      <th>1</th>\n",
       "      <td>3.28 Lakh</td>\n",
       "      <td>2016 Maruti Alto 800</td>\n",
       "      <td>53,908 kms</td>\n",
       "      <td>Petrol</td>\n",
       "      <td>Manual</td>\n",
       "      <td>LXI</td>\n",
       "      <td>FirstOwner</td>\n",
       "      <td>Bangalore</td>\n",
       "    </tr>\n",
       "    <tr>\n",
       "      <th>2</th>\n",
       "      <td>4.26 Lakh</td>\n",
       "      <td>2013 Honda Brio</td>\n",
       "      <td>84,561 kms</td>\n",
       "      <td>Petrol</td>\n",
       "      <td>Automatic</td>\n",
       "      <td>1.2 VX AT</td>\n",
       "      <td>FirstOwner</td>\n",
       "      <td>Bangalore</td>\n",
       "    </tr>\n",
       "    <tr>\n",
       "      <th>3</th>\n",
       "      <td>6.22 Lakh</td>\n",
       "      <td>2017 Maruti Ignis</td>\n",
       "      <td>13,107 kms</td>\n",
       "      <td>Petrol</td>\n",
       "      <td>Automatic</td>\n",
       "      <td>1.2 AMT Delta BSIV</td>\n",
       "      <td>FirstOwner</td>\n",
       "      <td>Bangalore</td>\n",
       "    </tr>\n",
       "    <tr>\n",
       "      <th>4</th>\n",
       "      <td>6.32 Lakh</td>\n",
       "      <td>2015 Hyundai i20 Active</td>\n",
       "      <td>81,242 kms</td>\n",
       "      <td>Diesel</td>\n",
       "      <td>Manual</td>\n",
       "      <td>SX Diesel</td>\n",
       "      <td>FirstOwner</td>\n",
       "      <td>Bangalore</td>\n",
       "    </tr>\n",
       "  </tbody>\n",
       "</table>\n",
       "</div>"
      ],
      "text/plain": [
       "       Price                    Brand Kilometers_driven    Fuel Transmission  \\\n",
       "0  6.68 Lakh          2015 Honda Jazz        42,361 kms  Diesel       Manual   \n",
       "1  3.28 Lakh     2016 Maruti Alto 800        53,908 kms  Petrol       Manual   \n",
       "2  4.26 Lakh          2013 Honda Brio        84,561 kms  Petrol    Automatic   \n",
       "3  6.22 Lakh        2017 Maruti Ignis        13,107 kms  Petrol    Automatic   \n",
       "4  6.32 Lakh  2015 Hyundai i20 Active        81,242 kms  Diesel       Manual   \n",
       "\n",
       "              Variant   No_owners   Location  \n",
       "0       1.5 VX i DTEC  FirstOwner  Bangalore  \n",
       "1                 LXI  FirstOwner  Bangalore  \n",
       "2           1.2 VX AT  FirstOwner  Bangalore  \n",
       "3  1.2 AMT Delta BSIV  FirstOwner  Bangalore  \n",
       "4           SX Diesel  FirstOwner  Bangalore  "
      ]
     },
     "execution_count": 75,
     "metadata": {},
     "output_type": "execute_result"
    }
   ],
   "source": [
    "car_deko_5.head()"
   ]
  },
  {
   "cell_type": "code",
   "execution_count": null,
   "metadata": {},
   "outputs": [],
   "source": []
  },
  {
   "cell_type": "code",
   "execution_count": 76,
   "metadata": {},
   "outputs": [],
   "source": [
    "#Let's scrap second owner cars data"
   ]
  },
  {
   "cell_type": "code",
   "execution_count": 82,
   "metadata": {},
   "outputs": [],
   "source": [
    "#extracting data for the cars where owners is \"second owner\" for bangalore city.\n",
    "#selecting the \"second onwer\" option from filters.\n",
    "driver.find_element_by_xpath(\"//ul[@class='checkBoxWrap sellerTypes ownerTypes']/li[3]\").click()"
   ]
  },
  {
   "cell_type": "code",
   "execution_count": 83,
   "metadata": {},
   "outputs": [],
   "source": [
    "#creating empty list for data to be collected.\n",
    "Price=[]\n",
    "Car_name=[]\n",
    "Kilometers_driven=[]\n",
    "Fuel=[]\n",
    "Transmission=[]\n",
    "Variant=[]"
   ]
  },
  {
   "cell_type": "code",
   "execution_count": 84,
   "metadata": {},
   "outputs": [],
   "source": [
    "#Collectig data .\n",
    "\n",
    "\n",
    "car_name=[] #collecting car name\n",
    "for i in driver.find_elements_by_xpath(\"//div[@class='gsc_col-xs-7 carsName']/a\")[0:200]:\n",
    "    car_name.append(i.text)\n",
    "time.sleep(4)\n",
    "\n",
    "\n",
    "Variant=[] #collecting car variant data\n",
    "for i in driver.find_elements_by_xpath(\"//div[@class='gsc_col-xs-7 carsName']/div[1]\")[0:200]:\n",
    "    Variant.append(i.text)\n",
    "time.sleep(4)\n",
    "\n",
    "\n",
    "Kilometers_driven=[] #collecting car kilometers dreiven \n",
    "for i in driver.find_elements_by_xpath(\"//div[@class='gsc_col-xs-7 carsName']/div[2]/span[1]\")[0:200]:\n",
    "    Kilometers_driven.append(i.text)\n",
    "time.sleep(4)\n",
    "\n",
    "Fuel=[] #which fuel is used for th car\n",
    "for i in driver.find_elements_by_xpath(\"//div[@class='gsc_col-xs-7 carsName']/div[2]/span[2]\")[0:200]:\n",
    "    Fuel.append(i.text)\n",
    "time.sleep(4)\n",
    "\n",
    "Transmission=[] #collecting car transmission data\n",
    "for i in driver.find_elements_by_xpath(\"//div[@class='gsc_col-xs-7 carsName']/div[2]/span[3]\")[0:200]:\n",
    "    Transmission.append(i.text)\n",
    "time.sleep(4)\n",
    "\n",
    "Price=[] #collecting car price\n",
    "for i in driver.find_elements_by_xpath(\"//div[@class='price gsc_col-xs-5 text-right']/span\")[0:200]:\n",
    "    Price.append(i.text)\n",
    "time.sleep(4)"
   ]
  },
  {
   "cell_type": "code",
   "execution_count": 85,
   "metadata": {},
   "outputs": [
    {
     "name": "stdout",
     "output_type": "stream",
     "text": [
      "Car_name 200\n",
      "Price 200\n",
      "Transmission 200\n",
      "Fuel 200\n",
      "Variant 200\n",
      "Kilometers_driven 200\n"
     ]
    }
   ],
   "source": [
    "print(\"Car_name\",len(car_name))\n",
    "print(\"Price\",len(Price))\n",
    "print(\"Transmission\",len(Transmission))\n",
    "print(\"Fuel\",len(Fuel))\n",
    "print(\"Variant\",len(Variant))\n",
    "print(\"Kilometers_driven\",len(Kilometers_driven))"
   ]
  },
  {
   "cell_type": "code",
   "execution_count": 88,
   "metadata": {},
   "outputs": [],
   "source": [
    "\n",
    "#creating data frame for the collected data.\n",
    "car_deko_5_a=pd.DataFrame({})\n",
    "car_deko_5_a['Price']=Price\n",
    "car_deko_5_a['Brand']=car_name\n",
    "car_deko_5_a['Kilometers_driven']=Kilometers_driven\n",
    "car_deko_5_a['Fuel']=Fuel\n",
    "car_deko_5_a['Transmission']=Transmission\n",
    "car_deko_5_a['Variant']=Variant\n",
    "#we know that the data is from second owner cars. \n",
    "#So we will add the second owner value for all the rows in data frama by creating a seperate column for owners. \n",
    "#Same we will do for location('Bangalore'.)\n",
    "car_deko_5_a['No_owners']=\"SecondOwner\"\n",
    "car_deko_5_a['Location']=\"Bangalore\" "
   ]
  },
  {
   "cell_type": "code",
   "execution_count": 89,
   "metadata": {},
   "outputs": [
    {
     "data": {
      "text/html": [
       "<div>\n",
       "<style scoped>\n",
       "    .dataframe tbody tr th:only-of-type {\n",
       "        vertical-align: middle;\n",
       "    }\n",
       "\n",
       "    .dataframe tbody tr th {\n",
       "        vertical-align: top;\n",
       "    }\n",
       "\n",
       "    .dataframe thead th {\n",
       "        text-align: right;\n",
       "    }\n",
       "</style>\n",
       "<table border=\"1\" class=\"dataframe\">\n",
       "  <thead>\n",
       "    <tr style=\"text-align: right;\">\n",
       "      <th></th>\n",
       "      <th>Price</th>\n",
       "      <th>Brand</th>\n",
       "      <th>Kilometers_driven</th>\n",
       "      <th>Fuel</th>\n",
       "      <th>Transmission</th>\n",
       "      <th>Variant</th>\n",
       "      <th>No_owners</th>\n",
       "      <th>Location</th>\n",
       "    </tr>\n",
       "  </thead>\n",
       "  <tbody>\n",
       "    <tr>\n",
       "      <th>0</th>\n",
       "      <td>7.27 Lakh</td>\n",
       "      <td>2016 Mahindra TUV 300</td>\n",
       "      <td>45,484 kms</td>\n",
       "      <td>Diesel</td>\n",
       "      <td>Manual</td>\n",
       "      <td>T8</td>\n",
       "      <td>SecondOwner</td>\n",
       "      <td>Bangalore</td>\n",
       "    </tr>\n",
       "    <tr>\n",
       "      <th>1</th>\n",
       "      <td>6.16 Lakh</td>\n",
       "      <td>2017 Hyundai i20</td>\n",
       "      <td>18,756 kms</td>\n",
       "      <td>Petrol</td>\n",
       "      <td>Manual</td>\n",
       "      <td>1.2 Magna Executive</td>\n",
       "      <td>SecondOwner</td>\n",
       "      <td>Bangalore</td>\n",
       "    </tr>\n",
       "    <tr>\n",
       "      <th>2</th>\n",
       "      <td>3.29 Lakh</td>\n",
       "      <td>2009 Maruti Swift Dzire</td>\n",
       "      <td>86,950 kms</td>\n",
       "      <td>Petrol</td>\n",
       "      <td>Manual</td>\n",
       "      <td>VXi</td>\n",
       "      <td>SecondOwner</td>\n",
       "      <td>Bangalore</td>\n",
       "    </tr>\n",
       "    <tr>\n",
       "      <th>3</th>\n",
       "      <td>4.47 Lakh</td>\n",
       "      <td>2014 Hyundai Grand i10</td>\n",
       "      <td>46,687 kms</td>\n",
       "      <td>Petrol</td>\n",
       "      <td>Manual</td>\n",
       "      <td>Sportz</td>\n",
       "      <td>SecondOwner</td>\n",
       "      <td>Bangalore</td>\n",
       "    </tr>\n",
       "    <tr>\n",
       "      <th>4</th>\n",
       "      <td>1.96 Lakh</td>\n",
       "      <td>2008 Maruti Alto</td>\n",
       "      <td>44,812 kms</td>\n",
       "      <td>Petrol</td>\n",
       "      <td>Manual</td>\n",
       "      <td>LXi BSIII</td>\n",
       "      <td>SecondOwner</td>\n",
       "      <td>Bangalore</td>\n",
       "    </tr>\n",
       "  </tbody>\n",
       "</table>\n",
       "</div>"
      ],
      "text/plain": [
       "       Price                    Brand Kilometers_driven    Fuel Transmission  \\\n",
       "0  7.27 Lakh    2016 Mahindra TUV 300        45,484 kms  Diesel       Manual   \n",
       "1  6.16 Lakh         2017 Hyundai i20        18,756 kms  Petrol       Manual   \n",
       "2  3.29 Lakh  2009 Maruti Swift Dzire        86,950 kms  Petrol       Manual   \n",
       "3  4.47 Lakh   2014 Hyundai Grand i10        46,687 kms  Petrol       Manual   \n",
       "4  1.96 Lakh         2008 Maruti Alto        44,812 kms  Petrol       Manual   \n",
       "\n",
       "               Variant    No_owners   Location  \n",
       "0                   T8  SecondOwner  Bangalore  \n",
       "1  1.2 Magna Executive  SecondOwner  Bangalore  \n",
       "2                  VXi  SecondOwner  Bangalore  \n",
       "3               Sportz  SecondOwner  Bangalore  \n",
       "4            LXi BSIII  SecondOwner  Bangalore  "
      ]
     },
     "execution_count": 89,
     "metadata": {},
     "output_type": "execute_result"
    }
   ],
   "source": [
    "car_deko_5_a.head()"
   ]
  },
  {
   "cell_type": "code",
   "execution_count": null,
   "metadata": {},
   "outputs": [],
   "source": []
  },
  {
   "cell_type": "code",
   "execution_count": 90,
   "metadata": {},
   "outputs": [],
   "source": [
    "#Let scrap data for third owner cars"
   ]
  },
  {
   "cell_type": "code",
   "execution_count": 91,
   "metadata": {},
   "outputs": [],
   "source": [
    "#extracting data for the cars where owners is \"third owner\" for bangalore city.\n",
    "#selecting the \"third onwer\" option from filters.\n",
    "driver.find_element_by_xpath(\"//ul[@class='checkBoxWrap sellerTypes ownerTypes']/li[4]\").click()"
   ]
  },
  {
   "cell_type": "code",
   "execution_count": 92,
   "metadata": {},
   "outputs": [],
   "source": [
    "#creating empty list for data to be collected.\n",
    "Price=[]\n",
    "Car_name=[]\n",
    "Kilometers_driven=[]\n",
    "Fuel=[]\n",
    "Transmission=[]\n",
    "Variant=[]"
   ]
  },
  {
   "cell_type": "code",
   "execution_count": 93,
   "metadata": {},
   "outputs": [],
   "source": [
    "#Collectig data .\n",
    "\n",
    "\n",
    "car_name=[] #collecting car name\n",
    "for i in driver.find_elements_by_xpath(\"//div[@class='gsc_col-xs-7 carsName']/a\")[0:200]:\n",
    "    car_name.append(i.text)\n",
    "time.sleep(4)\n",
    "\n",
    "\n",
    "Variant=[] #collecting car variant data\n",
    "for i in driver.find_elements_by_xpath(\"//div[@class='gsc_col-xs-7 carsName']/div[1]\")[0:200]:\n",
    "    Variant.append(i.text)\n",
    "time.sleep(4)\n",
    "\n",
    "\n",
    "Kilometers_driven=[] #collecting car kilometers dreiven \n",
    "for i in driver.find_elements_by_xpath(\"//div[@class='gsc_col-xs-7 carsName']/div[2]/span[1]\")[0:200]:\n",
    "    Kilometers_driven.append(i.text)\n",
    "time.sleep(4)\n",
    "\n",
    "Fuel=[] #which fuel is used for th car\n",
    "for i in driver.find_elements_by_xpath(\"//div[@class='gsc_col-xs-7 carsName']/div[2]/span[2]\")[0:200]:\n",
    "    Fuel.append(i.text)\n",
    "time.sleep(4)\n",
    "\n",
    "Transmission=[] #collecting car transmission data\n",
    "for i in driver.find_elements_by_xpath(\"//div[@class='gsc_col-xs-7 carsName']/div[2]/span[3]\")[0:200]:\n",
    "    Transmission.append(i.text)\n",
    "time.sleep(4)\n",
    "\n",
    "Price=[] #collecting car price\n",
    "for i in driver.find_elements_by_xpath(\"//div[@class='price gsc_col-xs-5 text-right']/span\")[0:200]:\n",
    "    Price.append(i.text)\n",
    "time.sleep(4)"
   ]
  },
  {
   "cell_type": "code",
   "execution_count": 94,
   "metadata": {},
   "outputs": [
    {
     "name": "stdout",
     "output_type": "stream",
     "text": [
      "Car_name 137\n",
      "Price 137\n",
      "Transmission 137\n",
      "Fuel 137\n",
      "Variant 137\n",
      "Kilometers_driven 137\n"
     ]
    }
   ],
   "source": [
    "print(\"Car_name\",len(car_name))\n",
    "print(\"Price\",len(Price))\n",
    "print(\"Transmission\",len(Transmission))\n",
    "print(\"Fuel\",len(Fuel))\n",
    "print(\"Variant\",len(Variant))\n",
    "print(\"Kilometers_driven\",len(Kilometers_driven))"
   ]
  },
  {
   "cell_type": "code",
   "execution_count": 95,
   "metadata": {},
   "outputs": [],
   "source": [
    "#creating data frame for the collected data.\n",
    "car_deko_5_b=pd.DataFrame({})\n",
    "car_deko_5_b['Price']=Price\n",
    "car_deko_5_b['Brand']=car_name\n",
    "car_deko_5_b['Kilometers_driven']=Kilometers_driven\n",
    "car_deko_5_b['Fuel']=Fuel\n",
    "car_deko_5_b['Transmission']=Transmission\n",
    "car_deko_5_b['Variant']=Variant\n",
    "#we know that the data is from third owner cars. \n",
    "#So we will add the third owner value for all the rows in data frama by creating a seperate column for owners. \n",
    "#Same we will do for location('bangalore'.)\n",
    "car_deko_5_b['No_owners']=\"Thirdowner\"\n",
    "car_deko_5_b['Location']=\"Bangalore\""
   ]
  },
  {
   "cell_type": "code",
   "execution_count": 96,
   "metadata": {},
   "outputs": [
    {
     "data": {
      "text/html": [
       "<div>\n",
       "<style scoped>\n",
       "    .dataframe tbody tr th:only-of-type {\n",
       "        vertical-align: middle;\n",
       "    }\n",
       "\n",
       "    .dataframe tbody tr th {\n",
       "        vertical-align: top;\n",
       "    }\n",
       "\n",
       "    .dataframe thead th {\n",
       "        text-align: right;\n",
       "    }\n",
       "</style>\n",
       "<table border=\"1\" class=\"dataframe\">\n",
       "  <thead>\n",
       "    <tr style=\"text-align: right;\">\n",
       "      <th></th>\n",
       "      <th>Price</th>\n",
       "      <th>Brand</th>\n",
       "      <th>Kilometers_driven</th>\n",
       "      <th>Fuel</th>\n",
       "      <th>Transmission</th>\n",
       "      <th>Variant</th>\n",
       "      <th>No_owners</th>\n",
       "      <th>Location</th>\n",
       "    </tr>\n",
       "  </thead>\n",
       "  <tbody>\n",
       "    <tr>\n",
       "      <th>0</th>\n",
       "      <td>2.62 Lakh</td>\n",
       "      <td>2014 Maruti Alto 800</td>\n",
       "      <td>34,929 kms</td>\n",
       "      <td>Petrol</td>\n",
       "      <td>Manual</td>\n",
       "      <td>VXI</td>\n",
       "      <td>Thirdowner</td>\n",
       "      <td>Bangalore</td>\n",
       "    </tr>\n",
       "    <tr>\n",
       "      <th>1</th>\n",
       "      <td>2.45 Lakh</td>\n",
       "      <td>2011 Maruti Alto</td>\n",
       "      <td>55,000 kms</td>\n",
       "      <td>Petrol</td>\n",
       "      <td>Manual</td>\n",
       "      <td>LXi</td>\n",
       "      <td>Thirdowner</td>\n",
       "      <td>Bangalore</td>\n",
       "    </tr>\n",
       "    <tr>\n",
       "      <th>2</th>\n",
       "      <td>1.65 Lakh</td>\n",
       "      <td>2006 Maruti Baleno</td>\n",
       "      <td>80,000 kms</td>\n",
       "      <td>Petrol</td>\n",
       "      <td>Manual</td>\n",
       "      <td>Vxi</td>\n",
       "      <td>Thirdowner</td>\n",
       "      <td>Bangalore</td>\n",
       "    </tr>\n",
       "    <tr>\n",
       "      <th>3</th>\n",
       "      <td>1.25 Lakh</td>\n",
       "      <td>2006 Tata Indicab</td>\n",
       "      <td>80,000 kms</td>\n",
       "      <td>Diesel</td>\n",
       "      <td>Manual</td>\n",
       "      <td>DLE</td>\n",
       "      <td>Thirdowner</td>\n",
       "      <td>Bangalore</td>\n",
       "    </tr>\n",
       "    <tr>\n",
       "      <th>4</th>\n",
       "      <td>1.49 Lakh</td>\n",
       "      <td>2007 Hyundai Getz</td>\n",
       "      <td>70,159 kms</td>\n",
       "      <td>Petrol</td>\n",
       "      <td>Manual</td>\n",
       "      <td>GLE</td>\n",
       "      <td>Thirdowner</td>\n",
       "      <td>Bangalore</td>\n",
       "    </tr>\n",
       "  </tbody>\n",
       "</table>\n",
       "</div>"
      ],
      "text/plain": [
       "       Price                 Brand Kilometers_driven    Fuel Transmission  \\\n",
       "0  2.62 Lakh  2014 Maruti Alto 800        34,929 kms  Petrol       Manual   \n",
       "1  2.45 Lakh      2011 Maruti Alto        55,000 kms  Petrol       Manual   \n",
       "2  1.65 Lakh    2006 Maruti Baleno        80,000 kms  Petrol       Manual   \n",
       "3  1.25 Lakh     2006 Tata Indicab        80,000 kms  Diesel       Manual   \n",
       "4  1.49 Lakh     2007 Hyundai Getz        70,159 kms  Petrol       Manual   \n",
       "\n",
       "  Variant   No_owners   Location  \n",
       "0     VXI  Thirdowner  Bangalore  \n",
       "1     LXi  Thirdowner  Bangalore  \n",
       "2     Vxi  Thirdowner  Bangalore  \n",
       "3     DLE  Thirdowner  Bangalore  \n",
       "4     GLE  Thirdowner  Bangalore  "
      ]
     },
     "execution_count": 96,
     "metadata": {},
     "output_type": "execute_result"
    }
   ],
   "source": [
    "car_deko_5_b.head()"
   ]
  },
  {
   "cell_type": "code",
   "execution_count": 97,
   "metadata": {},
   "outputs": [],
   "source": [
    "car_deko_bangalore=pd.concat([car_deko_5,car_deko_5_a,car_deko_5_b])"
   ]
  },
  {
   "cell_type": "code",
   "execution_count": 99,
   "metadata": {},
   "outputs": [
    {
     "data": {
      "text/plain": [
       "(537, 8)"
      ]
     },
     "execution_count": 99,
     "metadata": {},
     "output_type": "execute_result"
    }
   ],
   "source": [
    "car_deko_bangalore.shape"
   ]
  },
  {
   "cell_type": "code",
   "execution_count": 100,
   "metadata": {},
   "outputs": [],
   "source": [
    "driver.close()"
   ]
  },
  {
   "cell_type": "code",
   "execution_count": null,
   "metadata": {},
   "outputs": [],
   "source": []
  },
  {
   "cell_type": "markdown",
   "metadata": {},
   "source": [
    "# Delhi"
   ]
  },
  {
   "cell_type": "code",
   "execution_count": 101,
   "metadata": {},
   "outputs": [],
   "source": [
    "driver=webdriver.Firefox(\"C:\\geckodriver-v0.29.1-win64\")"
   ]
  },
  {
   "cell_type": "code",
   "execution_count": 102,
   "metadata": {},
   "outputs": [],
   "source": [
    "driver.get(\"https://www.cardekho.com/\") #getting the website"
   ]
  },
  {
   "cell_type": "code",
   "execution_count": 103,
   "metadata": {},
   "outputs": [],
   "source": [
    "#Selecting Used Cars option\n",
    "k=driver.find_element_by_xpath(\"//ul[@class='gsc-ta-clickWrap ']/li[2]\")\n",
    "k.click()"
   ]
  },
  {
   "cell_type": "code",
   "execution_count": 104,
   "metadata": {},
   "outputs": [],
   "source": [
    "#Selecting serach option\n",
    "driver.find_element_by_xpath(\"(//div[@class='modelname ']/div/ul/li[3]/button)[2]\").click()"
   ]
  },
  {
   "cell_type": "code",
   "execution_count": 105,
   "metadata": {},
   "outputs": [],
   "source": [
    "#Entering city name\n",
    "city=driver.find_element_by_id(\"autocomplete\")\n",
    "city.send_keys(\"Delhi\")"
   ]
  },
  {
   "cell_type": "code",
   "execution_count": 106,
   "metadata": {},
   "outputs": [],
   "source": [
    "#selecting city from drop down\n",
    "driver.find_element_by_xpath(\"//div[@class='pac-container pac-logo']/div[1]\").click()"
   ]
  },
  {
   "cell_type": "code",
   "execution_count": 107,
   "metadata": {},
   "outputs": [],
   "source": [
    "#extracting data for the cars where owners is \"first owner\" for Delhi city.\n",
    "#selecting the \"first onwer\" option from filters.\n",
    "driver.find_element_by_xpath(\"//ul[@class='checkBoxWrap sellerTypes ownerTypes']/li[2]\").click()"
   ]
  },
  {
   "cell_type": "code",
   "execution_count": 108,
   "metadata": {},
   "outputs": [],
   "source": [
    "#creating empty list for data to be collected.\n",
    "Price=[]\n",
    "Car_name=[]\n",
    "Kilometers_driven=[]\n",
    "Fuel=[]\n",
    "Transmission=[]\n",
    "Variant=[]"
   ]
  },
  {
   "cell_type": "code",
   "execution_count": 109,
   "metadata": {},
   "outputs": [],
   "source": [
    "#Collectig data .\n",
    "\n",
    "\n",
    "car_name=[] #collecting car name\n",
    "for i in driver.find_elements_by_xpath(\"//div[@class='gsc_col-xs-7 carsName']/a\")[0:200]:\n",
    "    car_name.append(i.text)\n",
    "time.sleep(4)\n",
    "\n",
    "\n",
    "Variant=[] #collecting car variant data\n",
    "for i in driver.find_elements_by_xpath(\"//div[@class='gsc_col-xs-7 carsName']/div[1]\")[0:200]:\n",
    "    Variant.append(i.text)\n",
    "time.sleep(4)\n",
    "\n",
    "\n",
    "Kilometers_driven=[] #collecting car kilometers dreiven \n",
    "for i in driver.find_elements_by_xpath(\"//div[@class='gsc_col-xs-7 carsName']/div[2]/span[1]\")[0:200]:\n",
    "    Kilometers_driven.append(i.text)\n",
    "time.sleep(4)\n",
    "\n",
    "Fuel=[] #which fuel is used for th car\n",
    "for i in driver.find_elements_by_xpath(\"//div[@class='gsc_col-xs-7 carsName']/div[2]/span[2]\")[0:200]:\n",
    "    Fuel.append(i.text)\n",
    "time.sleep(4)\n",
    "\n",
    "Transmission=[] #collecting car transmission data\n",
    "for i in driver.find_elements_by_xpath(\"//div[@class='gsc_col-xs-7 carsName']/div[2]/span[3]\")[0:200]:\n",
    "    Transmission.append(i.text)\n",
    "time.sleep(4)\n",
    "\n",
    "Price=[] #collecting car price\n",
    "for i in driver.find_elements_by_xpath(\"//div[@class='price gsc_col-xs-5 text-right']/span\")[0:200]:\n",
    "    Price.append(i.text)\n",
    "time.sleep(4)"
   ]
  },
  {
   "cell_type": "code",
   "execution_count": 110,
   "metadata": {},
   "outputs": [
    {
     "name": "stdout",
     "output_type": "stream",
     "text": [
      "Car_name 200\n",
      "Price 200\n",
      "Transmission 200\n",
      "Fuel 200\n",
      "Variant 200\n",
      "Kilometers_driven 200\n"
     ]
    }
   ],
   "source": [
    "print(\"Car_name\",len(car_name))\n",
    "print(\"Price\",len(Price))\n",
    "print(\"Transmission\",len(Transmission))\n",
    "print(\"Fuel\",len(Fuel))\n",
    "print(\"Variant\",len(Variant))\n",
    "print(\"Kilometers_driven\",len(Kilometers_driven))"
   ]
  },
  {
   "cell_type": "code",
   "execution_count": 112,
   "metadata": {},
   "outputs": [],
   "source": [
    "#creating data frame for the collected data.\n",
    "car_deko_6=pd.DataFrame({})\n",
    "car_deko_6['Price']=Price\n",
    "car_deko_6['Brand']=car_name\n",
    "car_deko_6['Kilometers_driven']=Kilometers_driven\n",
    "car_deko_6['Fuel']=Fuel\n",
    "car_deko_6['Transmission']=Transmission\n",
    "car_deko_6['Variant']=Variant\n",
    "#we know that the data is from first owner cars. \n",
    "#So we will add the first owner value for all the rows in data frama by creating a seperate column for owners. \n",
    "#Same we will do for location('delhi'.)\n",
    "car_deko_6['No_owners']=\"FirstOwner\"\n",
    "car_deko_6['Location']=\"Delhi\""
   ]
  },
  {
   "cell_type": "code",
   "execution_count": 113,
   "metadata": {},
   "outputs": [
    {
     "data": {
      "text/html": [
       "<div>\n",
       "<style scoped>\n",
       "    .dataframe tbody tr th:only-of-type {\n",
       "        vertical-align: middle;\n",
       "    }\n",
       "\n",
       "    .dataframe tbody tr th {\n",
       "        vertical-align: top;\n",
       "    }\n",
       "\n",
       "    .dataframe thead th {\n",
       "        text-align: right;\n",
       "    }\n",
       "</style>\n",
       "<table border=\"1\" class=\"dataframe\">\n",
       "  <thead>\n",
       "    <tr style=\"text-align: right;\">\n",
       "      <th></th>\n",
       "      <th>Price</th>\n",
       "      <th>Brand</th>\n",
       "      <th>Kilometers_driven</th>\n",
       "      <th>Fuel</th>\n",
       "      <th>Transmission</th>\n",
       "      <th>Variant</th>\n",
       "      <th>No_owners</th>\n",
       "      <th>Location</th>\n",
       "    </tr>\n",
       "  </thead>\n",
       "  <tbody>\n",
       "    <tr>\n",
       "      <th>0</th>\n",
       "      <td>3.44 Lakh</td>\n",
       "      <td>2016 Maruti Celerio</td>\n",
       "      <td>36,243 kms</td>\n",
       "      <td>Petrol</td>\n",
       "      <td>Manual</td>\n",
       "      <td>VXI</td>\n",
       "      <td>FirstOwner</td>\n",
       "      <td>Delhi</td>\n",
       "    </tr>\n",
       "    <tr>\n",
       "      <th>1</th>\n",
       "      <td>9.27 Lakh</td>\n",
       "      <td>2016 Hyundai Creta</td>\n",
       "      <td>96,195 kms</td>\n",
       "      <td>Diesel</td>\n",
       "      <td>Automatic</td>\n",
       "      <td>1.6 CRDi AT SX Plus</td>\n",
       "      <td>FirstOwner</td>\n",
       "      <td>Delhi</td>\n",
       "    </tr>\n",
       "    <tr>\n",
       "      <th>2</th>\n",
       "      <td>1.89 Lakh</td>\n",
       "      <td>2012 Maruti Alto</td>\n",
       "      <td>28,123 kms</td>\n",
       "      <td>Petrol</td>\n",
       "      <td>Manual</td>\n",
       "      <td>LXi</td>\n",
       "      <td>FirstOwner</td>\n",
       "      <td>Delhi</td>\n",
       "    </tr>\n",
       "    <tr>\n",
       "      <th>3</th>\n",
       "      <td>6.05 Lakh</td>\n",
       "      <td>2016 Ford Ecosport</td>\n",
       "      <td>87,967 kms</td>\n",
       "      <td>Diesel</td>\n",
       "      <td>Manual</td>\n",
       "      <td>1.5 Diesel Titanium</td>\n",
       "      <td>FirstOwner</td>\n",
       "      <td>Delhi</td>\n",
       "    </tr>\n",
       "    <tr>\n",
       "      <th>4</th>\n",
       "      <td>4.78 Lakh</td>\n",
       "      <td>2018 Maruti Celerio</td>\n",
       "      <td>9,277 kms</td>\n",
       "      <td>Petrol</td>\n",
       "      <td>Automatic</td>\n",
       "      <td>ZXI Optional AMT BSIV</td>\n",
       "      <td>FirstOwner</td>\n",
       "      <td>Delhi</td>\n",
       "    </tr>\n",
       "  </tbody>\n",
       "</table>\n",
       "</div>"
      ],
      "text/plain": [
       "       Price                Brand Kilometers_driven    Fuel Transmission  \\\n",
       "0  3.44 Lakh  2016 Maruti Celerio        36,243 kms  Petrol       Manual   \n",
       "1  9.27 Lakh   2016 Hyundai Creta        96,195 kms  Diesel    Automatic   \n",
       "2  1.89 Lakh     2012 Maruti Alto        28,123 kms  Petrol       Manual   \n",
       "3  6.05 Lakh   2016 Ford Ecosport        87,967 kms  Diesel       Manual   \n",
       "4  4.78 Lakh  2018 Maruti Celerio         9,277 kms  Petrol    Automatic   \n",
       "\n",
       "                 Variant   No_owners Location  \n",
       "0                    VXI  FirstOwner    Delhi  \n",
       "1    1.6 CRDi AT SX Plus  FirstOwner    Delhi  \n",
       "2                    LXi  FirstOwner    Delhi  \n",
       "3    1.5 Diesel Titanium  FirstOwner    Delhi  \n",
       "4  ZXI Optional AMT BSIV  FirstOwner    Delhi  "
      ]
     },
     "execution_count": 113,
     "metadata": {},
     "output_type": "execute_result"
    }
   ],
   "source": [
    "car_deko_6.head()"
   ]
  },
  {
   "cell_type": "code",
   "execution_count": null,
   "metadata": {},
   "outputs": [],
   "source": []
  },
  {
   "cell_type": "code",
   "execution_count": 114,
   "metadata": {},
   "outputs": [],
   "source": [
    "#let's scrap second owner cars data"
   ]
  },
  {
   "cell_type": "code",
   "execution_count": 115,
   "metadata": {},
   "outputs": [],
   "source": [
    "#extracting data for the cars where owners is \"second owner\" for delhi city.\n",
    "#selecting the \"second onwer\" option from filters.\n",
    "driver.find_element_by_xpath(\"//ul[@class='checkBoxWrap sellerTypes ownerTypes']/li[3]\").click()"
   ]
  },
  {
   "cell_type": "code",
   "execution_count": 116,
   "metadata": {},
   "outputs": [],
   "source": [
    "#creating empty list for data to be collected.\n",
    "Price=[]\n",
    "Car_name=[]\n",
    "Kilometers_driven=[]\n",
    "Fuel=[]\n",
    "Transmission=[]\n",
    "Variant=[]"
   ]
  },
  {
   "cell_type": "code",
   "execution_count": 117,
   "metadata": {},
   "outputs": [],
   "source": [
    "#Collectig data .\n",
    "\n",
    "\n",
    "car_name=[] #collecting car name\n",
    "for i in driver.find_elements_by_xpath(\"//div[@class='gsc_col-xs-7 carsName']/a\")[0:200]:\n",
    "    car_name.append(i.text)\n",
    "time.sleep(4)\n",
    "\n",
    "\n",
    "Variant=[] #collecting car variant data\n",
    "for i in driver.find_elements_by_xpath(\"//div[@class='gsc_col-xs-7 carsName']/div[1]\")[0:200]:\n",
    "    Variant.append(i.text)\n",
    "time.sleep(4)\n",
    "\n",
    "\n",
    "Kilometers_driven=[] #collecting car kilometers dreiven \n",
    "for i in driver.find_elements_by_xpath(\"//div[@class='gsc_col-xs-7 carsName']/div[2]/span[1]\")[0:200]:\n",
    "    Kilometers_driven.append(i.text)\n",
    "time.sleep(4)\n",
    "\n",
    "Fuel=[] #which fuel is used for th car\n",
    "for i in driver.find_elements_by_xpath(\"//div[@class='gsc_col-xs-7 carsName']/div[2]/span[2]\")[0:200]:\n",
    "    Fuel.append(i.text)\n",
    "time.sleep(4)\n",
    "\n",
    "Transmission=[] #collecting car transmission data\n",
    "for i in driver.find_elements_by_xpath(\"//div[@class='gsc_col-xs-7 carsName']/div[2]/span[3]\")[0:200]:\n",
    "    Transmission.append(i.text)\n",
    "time.sleep(4)\n",
    "\n",
    "Price=[] #collecting car price\n",
    "for i in driver.find_elements_by_xpath(\"//div[@class='price gsc_col-xs-5 text-right']/span\")[0:200]:\n",
    "    Price.append(i.text)\n",
    "time.sleep(4)"
   ]
  },
  {
   "cell_type": "code",
   "execution_count": 118,
   "metadata": {},
   "outputs": [
    {
     "name": "stdout",
     "output_type": "stream",
     "text": [
      "Car_name 200\n",
      "Price 200\n",
      "Transmission 200\n",
      "Fuel 200\n",
      "Variant 200\n",
      "Kilometers_driven 200\n"
     ]
    }
   ],
   "source": [
    "print(\"Car_name\",len(car_name))\n",
    "print(\"Price\",len(Price))\n",
    "print(\"Transmission\",len(Transmission))\n",
    "print(\"Fuel\",len(Fuel))\n",
    "print(\"Variant\",len(Variant))\n",
    "print(\"Kilometers_driven\",len(Kilometers_driven))"
   ]
  },
  {
   "cell_type": "code",
   "execution_count": 119,
   "metadata": {},
   "outputs": [],
   "source": [
    "#creating data frame for the collected data.\n",
    "car_deko_6_a=pd.DataFrame({})\n",
    "car_deko_6_a['Price']=Price\n",
    "car_deko_6_a['Brand']=car_name\n",
    "car_deko_6_a['Kilometers_driven']=Kilometers_driven\n",
    "car_deko_6_a['Fuel']=Fuel\n",
    "car_deko_6_a['Transmission']=Transmission\n",
    "car_deko_6_a['Variant']=Variant\n",
    "#we know that the data is from second owner cars. \n",
    "#So we will add the second owner value for all the rows in data frama by creating a seperate column for owners. \n",
    "#Same we will do for location('Delhi'.)\n",
    "car_deko_6_a['No_owners']=\"SecondOwner\"\n",
    "car_deko_6_a['Location']=\"Delhi\""
   ]
  },
  {
   "cell_type": "code",
   "execution_count": 120,
   "metadata": {},
   "outputs": [
    {
     "data": {
      "text/html": [
       "<div>\n",
       "<style scoped>\n",
       "    .dataframe tbody tr th:only-of-type {\n",
       "        vertical-align: middle;\n",
       "    }\n",
       "\n",
       "    .dataframe tbody tr th {\n",
       "        vertical-align: top;\n",
       "    }\n",
       "\n",
       "    .dataframe thead th {\n",
       "        text-align: right;\n",
       "    }\n",
       "</style>\n",
       "<table border=\"1\" class=\"dataframe\">\n",
       "  <thead>\n",
       "    <tr style=\"text-align: right;\">\n",
       "      <th></th>\n",
       "      <th>Price</th>\n",
       "      <th>Brand</th>\n",
       "      <th>Kilometers_driven</th>\n",
       "      <th>Fuel</th>\n",
       "      <th>Transmission</th>\n",
       "      <th>Variant</th>\n",
       "      <th>No_owners</th>\n",
       "      <th>Location</th>\n",
       "    </tr>\n",
       "  </thead>\n",
       "  <tbody>\n",
       "    <tr>\n",
       "      <th>0</th>\n",
       "      <td>2.29 Lakh</td>\n",
       "      <td>2012 Honda Brio</td>\n",
       "      <td>2,73,71 kms</td>\n",
       "      <td>Petrol</td>\n",
       "      <td>Manual</td>\n",
       "      <td>S MT</td>\n",
       "      <td>SecondOwner</td>\n",
       "      <td>Delhi</td>\n",
       "    </tr>\n",
       "    <tr>\n",
       "      <th>1</th>\n",
       "      <td>7.38 Lakh</td>\n",
       "      <td>2018 Ford Ecosport</td>\n",
       "      <td>80,505 kms</td>\n",
       "      <td>Diesel</td>\n",
       "      <td>Manual</td>\n",
       "      <td>1.5 Diesel Titanium Plus BSIV</td>\n",
       "      <td>SecondOwner</td>\n",
       "      <td>Delhi</td>\n",
       "    </tr>\n",
       "    <tr>\n",
       "      <th>2</th>\n",
       "      <td>4.18 Lakh</td>\n",
       "      <td>2013 Ford EcoSport</td>\n",
       "      <td>91,401 kms</td>\n",
       "      <td>Diesel</td>\n",
       "      <td>Manual</td>\n",
       "      <td>1.5 DV5 MT Titanium Optional</td>\n",
       "      <td>SecondOwner</td>\n",
       "      <td>Delhi</td>\n",
       "    </tr>\n",
       "    <tr>\n",
       "      <th>3</th>\n",
       "      <td>4.32 Lakh</td>\n",
       "      <td>2014 Nissan Terrano</td>\n",
       "      <td>85,542 kms</td>\n",
       "      <td>Diesel</td>\n",
       "      <td>Manual</td>\n",
       "      <td>XV 110 PS</td>\n",
       "      <td>SecondOwner</td>\n",
       "      <td>Delhi</td>\n",
       "    </tr>\n",
       "    <tr>\n",
       "      <th>4</th>\n",
       "      <td>3.28 Lakh</td>\n",
       "      <td>2017 Maruti Alto K10</td>\n",
       "      <td>18,075 kms</td>\n",
       "      <td>Petrol</td>\n",
       "      <td>Manual</td>\n",
       "      <td>VXI</td>\n",
       "      <td>SecondOwner</td>\n",
       "      <td>Delhi</td>\n",
       "    </tr>\n",
       "  </tbody>\n",
       "</table>\n",
       "</div>"
      ],
      "text/plain": [
       "       Price                 Brand Kilometers_driven    Fuel Transmission  \\\n",
       "0  2.29 Lakh       2012 Honda Brio       2,73,71 kms  Petrol       Manual   \n",
       "1  7.38 Lakh    2018 Ford Ecosport        80,505 kms  Diesel       Manual   \n",
       "2  4.18 Lakh    2013 Ford EcoSport        91,401 kms  Diesel       Manual   \n",
       "3  4.32 Lakh   2014 Nissan Terrano        85,542 kms  Diesel       Manual   \n",
       "4  3.28 Lakh  2017 Maruti Alto K10        18,075 kms  Petrol       Manual   \n",
       "\n",
       "                         Variant    No_owners Location  \n",
       "0                           S MT  SecondOwner    Delhi  \n",
       "1  1.5 Diesel Titanium Plus BSIV  SecondOwner    Delhi  \n",
       "2   1.5 DV5 MT Titanium Optional  SecondOwner    Delhi  \n",
       "3                      XV 110 PS  SecondOwner    Delhi  \n",
       "4                            VXI  SecondOwner    Delhi  "
      ]
     },
     "execution_count": 120,
     "metadata": {},
     "output_type": "execute_result"
    }
   ],
   "source": [
    "car_deko_6_a.head()"
   ]
  },
  {
   "cell_type": "code",
   "execution_count": null,
   "metadata": {},
   "outputs": [],
   "source": []
  },
  {
   "cell_type": "code",
   "execution_count": 121,
   "metadata": {},
   "outputs": [],
   "source": [
    "#Let's scrap data for \"third owner\" cars"
   ]
  },
  {
   "cell_type": "code",
   "execution_count": 122,
   "metadata": {},
   "outputs": [],
   "source": [
    "#extracting data for the cars where owners is \"third owner\" for delhi city.\n",
    "#selecting the \"third onwer\" option from filters.\n",
    "driver.find_element_by_xpath(\"//ul[@class='checkBoxWrap sellerTypes ownerTypes']/li[4]\").click()"
   ]
  },
  {
   "cell_type": "code",
   "execution_count": 123,
   "metadata": {},
   "outputs": [],
   "source": [
    "#creating empty list for data to be collected.\n",
    "Price=[]\n",
    "Car_name=[]\n",
    "Kilometers_driven=[]\n",
    "Fuel=[]\n",
    "Transmission=[]\n",
    "Variant=[]"
   ]
  },
  {
   "cell_type": "code",
   "execution_count": 124,
   "metadata": {},
   "outputs": [],
   "source": [
    "#Collectig data .\n",
    "\n",
    "\n",
    "car_name=[] #collecting car name\n",
    "for i in driver.find_elements_by_xpath(\"//div[@class='gsc_col-xs-7 carsName']/a\")[0:200]:\n",
    "    car_name.append(i.text)\n",
    "time.sleep(4)\n",
    "\n",
    "\n",
    "Variant=[] #collecting car variant data\n",
    "for i in driver.find_elements_by_xpath(\"//div[@class='gsc_col-xs-7 carsName']/div[1]\")[0:200]:\n",
    "    Variant.append(i.text)\n",
    "time.sleep(4)\n",
    "\n",
    "\n",
    "Kilometers_driven=[] #collecting car kilometers dreiven \n",
    "for i in driver.find_elements_by_xpath(\"//div[@class='gsc_col-xs-7 carsName']/div[2]/span[1]\")[0:200]:\n",
    "    Kilometers_driven.append(i.text)\n",
    "time.sleep(4)\n",
    "\n",
    "Fuel=[] #which fuel is used for th car\n",
    "for i in driver.find_elements_by_xpath(\"//div[@class='gsc_col-xs-7 carsName']/div[2]/span[2]\")[0:200]:\n",
    "    Fuel.append(i.text)\n",
    "time.sleep(4)\n",
    "\n",
    "Transmission=[] #collecting car transmission data\n",
    "for i in driver.find_elements_by_xpath(\"//div[@class='gsc_col-xs-7 carsName']/div[2]/span[3]\")[0:200]:\n",
    "    Transmission.append(i.text)\n",
    "time.sleep(4)\n",
    "\n",
    "Price=[] #collecting car price\n",
    "for i in driver.find_elements_by_xpath(\"//div[@class='price gsc_col-xs-5 text-right']/span\")[0:200]:\n",
    "    Price.append(i.text)\n",
    "time.sleep(4)"
   ]
  },
  {
   "cell_type": "code",
   "execution_count": 125,
   "metadata": {},
   "outputs": [
    {
     "name": "stdout",
     "output_type": "stream",
     "text": [
      "Car_name 167\n",
      "Price 167\n",
      "Transmission 167\n",
      "Fuel 167\n",
      "Variant 167\n",
      "Kilometers_driven 167\n"
     ]
    }
   ],
   "source": [
    "print(\"Car_name\",len(car_name))\n",
    "print(\"Price\",len(Price))\n",
    "print(\"Transmission\",len(Transmission))\n",
    "print(\"Fuel\",len(Fuel))\n",
    "print(\"Variant\",len(Variant))\n",
    "print(\"Kilometers_driven\",len(Kilometers_driven))"
   ]
  },
  {
   "cell_type": "code",
   "execution_count": 126,
   "metadata": {},
   "outputs": [],
   "source": [
    "#creating data frame for the collected data.\n",
    "car_deko_6_b=pd.DataFrame({})\n",
    "car_deko_6_b['Price']=Price\n",
    "car_deko_6_b['Brand']=car_name\n",
    "car_deko_6_b['Kilometers_driven']=Kilometers_driven\n",
    "car_deko_6_b['Fuel']=Fuel\n",
    "car_deko_6_b['Transmission']=Transmission\n",
    "car_deko_6_b['Variant']=Variant\n",
    "#we know that the data is from third owner cars. \n",
    "#So we will add the third owner value for all the rows in data frama by creating a seperate column for owners. \n",
    "#Same we will do for location('bangalore'.)\n",
    "car_deko_6_b['No_owners']=\"Thirdowner\"\n",
    "car_deko_6_b['Location']=\"Delhi\"\n"
   ]
  },
  {
   "cell_type": "code",
   "execution_count": 127,
   "metadata": {},
   "outputs": [
    {
     "data": {
      "text/html": [
       "<div>\n",
       "<style scoped>\n",
       "    .dataframe tbody tr th:only-of-type {\n",
       "        vertical-align: middle;\n",
       "    }\n",
       "\n",
       "    .dataframe tbody tr th {\n",
       "        vertical-align: top;\n",
       "    }\n",
       "\n",
       "    .dataframe thead th {\n",
       "        text-align: right;\n",
       "    }\n",
       "</style>\n",
       "<table border=\"1\" class=\"dataframe\">\n",
       "  <thead>\n",
       "    <tr style=\"text-align: right;\">\n",
       "      <th></th>\n",
       "      <th>Price</th>\n",
       "      <th>Brand</th>\n",
       "      <th>Kilometers_driven</th>\n",
       "      <th>Fuel</th>\n",
       "      <th>Transmission</th>\n",
       "      <th>Variant</th>\n",
       "      <th>No_owners</th>\n",
       "      <th>Location</th>\n",
       "    </tr>\n",
       "  </thead>\n",
       "  <tbody>\n",
       "    <tr>\n",
       "      <th>0</th>\n",
       "      <td>3.33 Lakh</td>\n",
       "      <td>2010 Toyota Corolla Altis</td>\n",
       "      <td>89,658 kms</td>\n",
       "      <td>Petrol</td>\n",
       "      <td>Automatic</td>\n",
       "      <td>1.8 VL AT</td>\n",
       "      <td>Thirdowner</td>\n",
       "      <td>Delhi</td>\n",
       "    </tr>\n",
       "    <tr>\n",
       "      <th>1</th>\n",
       "      <td>4.36 Lakh</td>\n",
       "      <td>2017 Maruti Swift</td>\n",
       "      <td>63,614 kms</td>\n",
       "      <td>Petrol</td>\n",
       "      <td>Manual</td>\n",
       "      <td>LXI Option</td>\n",
       "      <td>Thirdowner</td>\n",
       "      <td>Delhi</td>\n",
       "    </tr>\n",
       "    <tr>\n",
       "      <th>2</th>\n",
       "      <td>2.1 Lakh</td>\n",
       "      <td>2009 Maruti Swift Dzire</td>\n",
       "      <td>43,000 kms</td>\n",
       "      <td>Petrol</td>\n",
       "      <td>Manual</td>\n",
       "      <td>VXi</td>\n",
       "      <td>Thirdowner</td>\n",
       "      <td>Delhi</td>\n",
       "    </tr>\n",
       "    <tr>\n",
       "      <th>3</th>\n",
       "      <td>1.65 Lakh</td>\n",
       "      <td>2009 Maruti A-Star</td>\n",
       "      <td>60,000 kms</td>\n",
       "      <td>Petrol</td>\n",
       "      <td>Manual</td>\n",
       "      <td>Lxi</td>\n",
       "      <td>Thirdowner</td>\n",
       "      <td>Delhi</td>\n",
       "    </tr>\n",
       "    <tr>\n",
       "      <th>4</th>\n",
       "      <td>65,000</td>\n",
       "      <td>2007 Maruti Alto</td>\n",
       "      <td>1,47,000 kms</td>\n",
       "      <td>Petrol</td>\n",
       "      <td>Manual</td>\n",
       "      <td>LX BSIII</td>\n",
       "      <td>Thirdowner</td>\n",
       "      <td>Delhi</td>\n",
       "    </tr>\n",
       "  </tbody>\n",
       "</table>\n",
       "</div>"
      ],
      "text/plain": [
       "       Price                      Brand Kilometers_driven    Fuel  \\\n",
       "0  3.33 Lakh  2010 Toyota Corolla Altis        89,658 kms  Petrol   \n",
       "1  4.36 Lakh          2017 Maruti Swift        63,614 kms  Petrol   \n",
       "2   2.1 Lakh    2009 Maruti Swift Dzire        43,000 kms  Petrol   \n",
       "3  1.65 Lakh         2009 Maruti A-Star        60,000 kms  Petrol   \n",
       "4     65,000           2007 Maruti Alto      1,47,000 kms  Petrol   \n",
       "\n",
       "  Transmission     Variant   No_owners Location  \n",
       "0    Automatic   1.8 VL AT  Thirdowner    Delhi  \n",
       "1       Manual  LXI Option  Thirdowner    Delhi  \n",
       "2       Manual         VXi  Thirdowner    Delhi  \n",
       "3       Manual         Lxi  Thirdowner    Delhi  \n",
       "4       Manual    LX BSIII  Thirdowner    Delhi  "
      ]
     },
     "execution_count": 127,
     "metadata": {},
     "output_type": "execute_result"
    }
   ],
   "source": [
    "car_deko_6_b.head()"
   ]
  },
  {
   "cell_type": "code",
   "execution_count": 128,
   "metadata": {},
   "outputs": [],
   "source": [
    "#concateinating all Delhi scrapped data\n",
    "car_deko_delhi=pd.concat([car_deko_6,car_deko_6_a,car_deko_6_b])"
   ]
  },
  {
   "cell_type": "code",
   "execution_count": 129,
   "metadata": {},
   "outputs": [
    {
     "data": {
      "text/plain": [
       "(567, 8)"
      ]
     },
     "execution_count": 129,
     "metadata": {},
     "output_type": "execute_result"
    }
   ],
   "source": [
    "car_deko_delhi.shape"
   ]
  },
  {
   "cell_type": "code",
   "execution_count": 130,
   "metadata": {},
   "outputs": [],
   "source": [
    "driver.close()"
   ]
  },
  {
   "cell_type": "markdown",
   "metadata": {},
   "source": [
    "# Hyderabad"
   ]
  },
  {
   "cell_type": "code",
   "execution_count": 131,
   "metadata": {},
   "outputs": [],
   "source": [
    "driver=webdriver.Firefox(\"C:\\geckodriver-v0.29.1-win64\")"
   ]
  },
  {
   "cell_type": "code",
   "execution_count": 132,
   "metadata": {},
   "outputs": [],
   "source": [
    "driver.get(\"https://www.cardekho.com/\") #getting the website"
   ]
  },
  {
   "cell_type": "code",
   "execution_count": 133,
   "metadata": {},
   "outputs": [],
   "source": [
    "#Selecting Used Cars option\n",
    "k=driver.find_element_by_xpath(\"//ul[@class='gsc-ta-clickWrap ']/li[2]\")\n",
    "k.click() "
   ]
  },
  {
   "cell_type": "code",
   "execution_count": 134,
   "metadata": {},
   "outputs": [],
   "source": [
    "#Selecting serach option\n",
    "driver.find_element_by_xpath(\"(//div[@class='modelname ']/div/ul/li[3]/button)[2]\").click()"
   ]
  },
  {
   "cell_type": "code",
   "execution_count": 135,
   "metadata": {},
   "outputs": [],
   "source": [
    "#Entering city name\n",
    "city=driver.find_element_by_id(\"autocomplete\")\n",
    "city.send_keys(\"Hyderabad\")"
   ]
  },
  {
   "cell_type": "code",
   "execution_count": 136,
   "metadata": {},
   "outputs": [],
   "source": [
    "#selecting city from drop down\n",
    "driver.find_element_by_xpath(\"//div[@class='pac-container pac-logo']/div[1]\").click()"
   ]
  },
  {
   "cell_type": "code",
   "execution_count": 138,
   "metadata": {},
   "outputs": [],
   "source": [
    "#extracting data for the cars where owners is \"first owner\" from hydrabad city.\n",
    "#selecting the \"first onwer\" option from filters.\n",
    "driver.find_element_by_xpath(\"//ul[@class='checkBoxWrap sellerTypes ownerTypes']/li[1]\").click()"
   ]
  },
  {
   "cell_type": "code",
   "execution_count": 139,
   "metadata": {},
   "outputs": [],
   "source": [
    "#creating empty list for data to be collected.\n",
    "Price=[]\n",
    "Car_name=[]\n",
    "Kilometers_driven=[]\n",
    "Fuel=[]\n",
    "Transmission=[]\n",
    "Variant=[]"
   ]
  },
  {
   "cell_type": "code",
   "execution_count": 140,
   "metadata": {},
   "outputs": [],
   "source": [
    "#Collectig data .\n",
    "\n",
    "\n",
    "car_name=[] #collecting car name\n",
    "for i in driver.find_elements_by_xpath(\"//div[@class='gsc_col-xs-7 carsName']/a\")[0:200]:\n",
    "    car_name.append(i.text)\n",
    "time.sleep(4)\n",
    "\n",
    "\n",
    "Variant=[] #collecting car variant data\n",
    "for i in driver.find_elements_by_xpath(\"//div[@class='gsc_col-xs-7 carsName']/div[1]\")[0:200]:\n",
    "    Variant.append(i.text)\n",
    "time.sleep(4)\n",
    "\n",
    "\n",
    "Kilometers_driven=[] #collecting car kilometers dreiven \n",
    "for i in driver.find_elements_by_xpath(\"//div[@class='gsc_col-xs-7 carsName']/div[2]/span[1]\")[0:200]:\n",
    "    Kilometers_driven.append(i.text)\n",
    "time.sleep(4)\n",
    "\n",
    "Fuel=[] #which fuel is used for th car\n",
    "for i in driver.find_elements_by_xpath(\"//div[@class='gsc_col-xs-7 carsName']/div[2]/span[2]\")[0:200]:\n",
    "    Fuel.append(i.text)\n",
    "time.sleep(4)\n",
    "\n",
    "Transmission=[] #collecting car transmission data\n",
    "for i in driver.find_elements_by_xpath(\"//div[@class='gsc_col-xs-7 carsName']/div[2]/span[3]\")[0:200]:\n",
    "    Transmission.append(i.text)\n",
    "time.sleep(4)\n",
    "\n",
    "Price=[] #collecting car price\n",
    "for i in driver.find_elements_by_xpath(\"//div[@class='price gsc_col-xs-5 text-right']/span\")[0:200]:\n",
    "    Price.append(i.text)\n",
    "time.sleep(4)"
   ]
  },
  {
   "cell_type": "code",
   "execution_count": 141,
   "metadata": {},
   "outputs": [
    {
     "name": "stdout",
     "output_type": "stream",
     "text": [
      "Car_name 200\n",
      "Price 200\n",
      "Transmission 200\n",
      "Fuel 200\n",
      "Variant 200\n",
      "Kilometers_driven 200\n"
     ]
    }
   ],
   "source": [
    "print(\"Car_name\",len(car_name))\n",
    "print(\"Price\",len(Price))\n",
    "print(\"Transmission\",len(Transmission))\n",
    "print(\"Fuel\",len(Fuel))\n",
    "print(\"Variant\",len(Variant))\n",
    "print(\"Kilometers_driven\",len(Kilometers_driven))"
   ]
  },
  {
   "cell_type": "code",
   "execution_count": 142,
   "metadata": {},
   "outputs": [],
   "source": [
    "#creating data frame for the collected data.\n",
    "car_deko_7=pd.DataFrame({})\n",
    "car_deko_7['Price']=Price\n",
    "car_deko_7['Brand']=car_name\n",
    "car_deko_7['Kilometers_driven']=Kilometers_driven\n",
    "car_deko_7['Fuel']=Fuel\n",
    "car_deko_7['Transmission']=Transmission\n",
    "car_deko_7['Variant']=Variant\n",
    "#we know that the data is from first owner cars. \n",
    "#So we will add the third owner value for all the rows in data frama by creating a seperate column for owners. \n",
    "#Same we will do for location('hyderbad'.)\n",
    "car_deko_7['No_owners']=\"First owner\"\n",
    "car_deko_7['Location']=\"Hyderabad\""
   ]
  },
  {
   "cell_type": "code",
   "execution_count": 143,
   "metadata": {},
   "outputs": [
    {
     "data": {
      "text/html": [
       "<div>\n",
       "<style scoped>\n",
       "    .dataframe tbody tr th:only-of-type {\n",
       "        vertical-align: middle;\n",
       "    }\n",
       "\n",
       "    .dataframe tbody tr th {\n",
       "        vertical-align: top;\n",
       "    }\n",
       "\n",
       "    .dataframe thead th {\n",
       "        text-align: right;\n",
       "    }\n",
       "</style>\n",
       "<table border=\"1\" class=\"dataframe\">\n",
       "  <thead>\n",
       "    <tr style=\"text-align: right;\">\n",
       "      <th></th>\n",
       "      <th>Price</th>\n",
       "      <th>Brand</th>\n",
       "      <th>Kilometers_driven</th>\n",
       "      <th>Fuel</th>\n",
       "      <th>Transmission</th>\n",
       "      <th>Variant</th>\n",
       "      <th>No_owners</th>\n",
       "      <th>Location</th>\n",
       "    </tr>\n",
       "  </thead>\n",
       "  <tbody>\n",
       "    <tr>\n",
       "      <th>0</th>\n",
       "      <td>5.4 Lakh</td>\n",
       "      <td>2018 Maruti Celerio</td>\n",
       "      <td>14,610 kms</td>\n",
       "      <td>Petrol</td>\n",
       "      <td>Automatic</td>\n",
       "      <td>ZXI Optional AMT BSIV</td>\n",
       "      <td>First owner</td>\n",
       "      <td>Hyderabad</td>\n",
       "    </tr>\n",
       "    <tr>\n",
       "      <th>1</th>\n",
       "      <td>4.67 Lakh</td>\n",
       "      <td>2018 Hyundai Santro</td>\n",
       "      <td>23,849 kms</td>\n",
       "      <td>Petrol</td>\n",
       "      <td>Manual</td>\n",
       "      <td>Sportz BSIV</td>\n",
       "      <td>First owner</td>\n",
       "      <td>Hyderabad</td>\n",
       "    </tr>\n",
       "    <tr>\n",
       "      <th>2</th>\n",
       "      <td>4.7 Lakh</td>\n",
       "      <td>2014 Honda Amaze</td>\n",
       "      <td>1,04,292 kms</td>\n",
       "      <td>Diesel</td>\n",
       "      <td>Manual</td>\n",
       "      <td>VX i-DTEC</td>\n",
       "      <td>First owner</td>\n",
       "      <td>Hyderabad</td>\n",
       "    </tr>\n",
       "    <tr>\n",
       "      <th>3</th>\n",
       "      <td>7.03 Lakh</td>\n",
       "      <td>2017 Maruti Ciaz</td>\n",
       "      <td>15,018 kms</td>\n",
       "      <td>Petrol</td>\n",
       "      <td>Manual</td>\n",
       "      <td>Zeta</td>\n",
       "      <td>First owner</td>\n",
       "      <td>Hyderabad</td>\n",
       "    </tr>\n",
       "    <tr>\n",
       "      <th>4</th>\n",
       "      <td>5.88 Lakh</td>\n",
       "      <td>2017 Hyundai Grand i10</td>\n",
       "      <td>25,760 kms</td>\n",
       "      <td>Petrol</td>\n",
       "      <td>Manual</td>\n",
       "      <td>1.2 Kappa Asta</td>\n",
       "      <td>First owner</td>\n",
       "      <td>Hyderabad</td>\n",
       "    </tr>\n",
       "  </tbody>\n",
       "</table>\n",
       "</div>"
      ],
      "text/plain": [
       "       Price                   Brand Kilometers_driven    Fuel Transmission  \\\n",
       "0   5.4 Lakh     2018 Maruti Celerio        14,610 kms  Petrol    Automatic   \n",
       "1  4.67 Lakh     2018 Hyundai Santro        23,849 kms  Petrol       Manual   \n",
       "2   4.7 Lakh        2014 Honda Amaze      1,04,292 kms  Diesel       Manual   \n",
       "3  7.03 Lakh        2017 Maruti Ciaz        15,018 kms  Petrol       Manual   \n",
       "4  5.88 Lakh  2017 Hyundai Grand i10        25,760 kms  Petrol       Manual   \n",
       "\n",
       "                 Variant    No_owners   Location  \n",
       "0  ZXI Optional AMT BSIV  First owner  Hyderabad  \n",
       "1            Sportz BSIV  First owner  Hyderabad  \n",
       "2              VX i-DTEC  First owner  Hyderabad  \n",
       "3                   Zeta  First owner  Hyderabad  \n",
       "4         1.2 Kappa Asta  First owner  Hyderabad  "
      ]
     },
     "execution_count": 143,
     "metadata": {},
     "output_type": "execute_result"
    }
   ],
   "source": [
    "car_deko_7.head()"
   ]
  },
  {
   "cell_type": "code",
   "execution_count": null,
   "metadata": {},
   "outputs": [],
   "source": []
  },
  {
   "cell_type": "code",
   "execution_count": 144,
   "metadata": {},
   "outputs": [],
   "source": [
    "#let's scrap for second owner data"
   ]
  },
  {
   "cell_type": "code",
   "execution_count": 145,
   "metadata": {},
   "outputs": [],
   "source": [
    "\n",
    "#extracting data for the cars where owners is \"second owner\" from hydrabad city.\n",
    "#selecting the \"second onwer\" option from filters.\n",
    "driver.find_element_by_xpath(\"//ul[@class='checkBoxWrap sellerTypes ownerTypes']/li[2]\").click()\n"
   ]
  },
  {
   "cell_type": "code",
   "execution_count": 146,
   "metadata": {},
   "outputs": [],
   "source": [
    "#creating empty list for data to be collected.\n",
    "Price=[]\n",
    "Car_name=[]\n",
    "Kilometers_driven=[]\n",
    "Fuel=[]\n",
    "Transmission=[]\n",
    "Variant=[]"
   ]
  },
  {
   "cell_type": "code",
   "execution_count": 147,
   "metadata": {},
   "outputs": [],
   "source": [
    "#Collectig data .\n",
    "\n",
    "\n",
    "car_name=[] #collecting car name\n",
    "for i in driver.find_elements_by_xpath(\"//div[@class='gsc_col-xs-7 carsName']/a\")[0:200]:\n",
    "    car_name.append(i.text)\n",
    "time.sleep(4)\n",
    "\n",
    "\n",
    "Variant=[] #collecting car variant data\n",
    "for i in driver.find_elements_by_xpath(\"//div[@class='gsc_col-xs-7 carsName']/div[1]\")[0:200]:\n",
    "    Variant.append(i.text)\n",
    "time.sleep(4)\n",
    "\n",
    "\n",
    "Kilometers_driven=[] #collecting car kilometers dreiven \n",
    "for i in driver.find_elements_by_xpath(\"//div[@class='gsc_col-xs-7 carsName']/div[2]/span[1]\")[0:200]:\n",
    "    Kilometers_driven.append(i.text)\n",
    "time.sleep(4)\n",
    "\n",
    "Fuel=[] #which fuel is used for th car\n",
    "for i in driver.find_elements_by_xpath(\"//div[@class='gsc_col-xs-7 carsName']/div[2]/span[2]\")[0:200]:\n",
    "    Fuel.append(i.text)\n",
    "time.sleep(4)\n",
    "\n",
    "Transmission=[] #collecting car transmission data\n",
    "for i in driver.find_elements_by_xpath(\"//div[@class='gsc_col-xs-7 carsName']/div[2]/span[3]\")[0:200]:\n",
    "    Transmission.append(i.text)\n",
    "time.sleep(4)\n",
    "\n",
    "Price=[] #collecting car price\n",
    "for i in driver.find_elements_by_xpath(\"//div[@class='price gsc_col-xs-5 text-right']/span\")[0:200]:\n",
    "    Price.append(i.text)\n",
    "time.sleep(4)"
   ]
  },
  {
   "cell_type": "code",
   "execution_count": 148,
   "metadata": {},
   "outputs": [
    {
     "name": "stdout",
     "output_type": "stream",
     "text": [
      "Car_name 159\n",
      "Price 159\n",
      "Transmission 159\n",
      "Fuel 159\n",
      "Variant 159\n",
      "Kilometers_driven 159\n"
     ]
    }
   ],
   "source": [
    "print(\"Car_name\",len(car_name))\n",
    "print(\"Price\",len(Price))\n",
    "print(\"Transmission\",len(Transmission))\n",
    "print(\"Fuel\",len(Fuel))\n",
    "print(\"Variant\",len(Variant))\n",
    "print(\"Kilometers_driven\",len(Kilometers_driven))"
   ]
  },
  {
   "cell_type": "code",
   "execution_count": 149,
   "metadata": {},
   "outputs": [],
   "source": [
    "#creating data frame for the collected data.\n",
    "car_deko_7_a=pd.DataFrame({})\n",
    "car_deko_7_a['Price']=Price\n",
    "car_deko_7_a['Brand']=car_name\n",
    "car_deko_7_a['Kilometers_driven']=Kilometers_driven\n",
    "car_deko_7_a['Fuel']=Fuel\n",
    "car_deko_7_a['Transmission']=Transmission\n",
    "car_deko_7_a['Variant']=Variant\n",
    "#we know that the data is from seccond owner cars. \n",
    "#So we will add the secind owner value for all the rows in data frama by creating a seperate column for owners. \n",
    "#Same we will do for location('Hyderabad'.)\n",
    "car_deko_7_a['No_owners']=\"SecondOwner\"\n",
    "car_deko_7_a['Location']=\"Hyderabad\""
   ]
  },
  {
   "cell_type": "code",
   "execution_count": 150,
   "metadata": {},
   "outputs": [
    {
     "data": {
      "text/html": [
       "<div>\n",
       "<style scoped>\n",
       "    .dataframe tbody tr th:only-of-type {\n",
       "        vertical-align: middle;\n",
       "    }\n",
       "\n",
       "    .dataframe tbody tr th {\n",
       "        vertical-align: top;\n",
       "    }\n",
       "\n",
       "    .dataframe thead th {\n",
       "        text-align: right;\n",
       "    }\n",
       "</style>\n",
       "<table border=\"1\" class=\"dataframe\">\n",
       "  <thead>\n",
       "    <tr style=\"text-align: right;\">\n",
       "      <th></th>\n",
       "      <th>Price</th>\n",
       "      <th>Brand</th>\n",
       "      <th>Kilometers_driven</th>\n",
       "      <th>Fuel</th>\n",
       "      <th>Transmission</th>\n",
       "      <th>Variant</th>\n",
       "      <th>No_owners</th>\n",
       "      <th>Location</th>\n",
       "    </tr>\n",
       "  </thead>\n",
       "  <tbody>\n",
       "    <tr>\n",
       "      <th>0</th>\n",
       "      <td>5.66 Lakh</td>\n",
       "      <td>2015 Honda Jazz</td>\n",
       "      <td>38,339 kms</td>\n",
       "      <td>Petrol</td>\n",
       "      <td>Manual</td>\n",
       "      <td>V</td>\n",
       "      <td>SecondOwner</td>\n",
       "      <td>Hyderabad</td>\n",
       "    </tr>\n",
       "    <tr>\n",
       "      <th>1</th>\n",
       "      <td>4.45 Lakh</td>\n",
       "      <td>2015 Volkswagen Polo</td>\n",
       "      <td>98,265 kms</td>\n",
       "      <td>Diesel</td>\n",
       "      <td>Manual</td>\n",
       "      <td>1.5 TDI Highline</td>\n",
       "      <td>SecondOwner</td>\n",
       "      <td>Hyderabad</td>\n",
       "    </tr>\n",
       "    <tr>\n",
       "      <th>2</th>\n",
       "      <td>4.78 Lakh</td>\n",
       "      <td>2015 Hyundai Grand i10</td>\n",
       "      <td>37,272 kms</td>\n",
       "      <td>Petrol</td>\n",
       "      <td>Manual</td>\n",
       "      <td>Asta Option</td>\n",
       "      <td>SecondOwner</td>\n",
       "      <td>Hyderabad</td>\n",
       "    </tr>\n",
       "    <tr>\n",
       "      <th>3</th>\n",
       "      <td>4.84 Lakh</td>\n",
       "      <td>2015 Maruti Swift</td>\n",
       "      <td>1,08,190 kms</td>\n",
       "      <td>Diesel</td>\n",
       "      <td>Manual</td>\n",
       "      <td>VDI BSIV</td>\n",
       "      <td>SecondOwner</td>\n",
       "      <td>Hyderabad</td>\n",
       "    </tr>\n",
       "    <tr>\n",
       "      <th>4</th>\n",
       "      <td>4.03 Lakh</td>\n",
       "      <td>2015 Maruti Celerio</td>\n",
       "      <td>21,688 kms</td>\n",
       "      <td>Petrol</td>\n",
       "      <td>Automatic</td>\n",
       "      <td>ZXI AT</td>\n",
       "      <td>SecondOwner</td>\n",
       "      <td>Hyderabad</td>\n",
       "    </tr>\n",
       "  </tbody>\n",
       "</table>\n",
       "</div>"
      ],
      "text/plain": [
       "       Price                   Brand Kilometers_driven    Fuel Transmission  \\\n",
       "0  5.66 Lakh         2015 Honda Jazz        38,339 kms  Petrol       Manual   \n",
       "1  4.45 Lakh    2015 Volkswagen Polo        98,265 kms  Diesel       Manual   \n",
       "2  4.78 Lakh  2015 Hyundai Grand i10        37,272 kms  Petrol       Manual   \n",
       "3  4.84 Lakh       2015 Maruti Swift      1,08,190 kms  Diesel       Manual   \n",
       "4  4.03 Lakh     2015 Maruti Celerio        21,688 kms  Petrol    Automatic   \n",
       "\n",
       "            Variant    No_owners   Location  \n",
       "0                 V  SecondOwner  Hyderabad  \n",
       "1  1.5 TDI Highline  SecondOwner  Hyderabad  \n",
       "2       Asta Option  SecondOwner  Hyderabad  \n",
       "3          VDI BSIV  SecondOwner  Hyderabad  \n",
       "4            ZXI AT  SecondOwner  Hyderabad  "
      ]
     },
     "execution_count": 150,
     "metadata": {},
     "output_type": "execute_result"
    }
   ],
   "source": [
    "car_deko_7_a.head()"
   ]
  },
  {
   "cell_type": "code",
   "execution_count": null,
   "metadata": {},
   "outputs": [],
   "source": []
  },
  {
   "cell_type": "code",
   "execution_count": 151,
   "metadata": {},
   "outputs": [],
   "source": [
    "#Let's scrap data for third owner cars"
   ]
  },
  {
   "cell_type": "code",
   "execution_count": null,
   "metadata": {},
   "outputs": [],
   "source": []
  },
  {
   "cell_type": "code",
   "execution_count": 152,
   "metadata": {},
   "outputs": [],
   "source": [
    "#extracting data for the cars where owners is \"third owner\" from hydrabad city.\n",
    "#selecting the \"third onwer\" option from filters.\n",
    "driver.find_element_by_xpath(\"//ul[@class='checkBoxWrap sellerTypes ownerTypes']/li[3]\").click()"
   ]
  },
  {
   "cell_type": "code",
   "execution_count": 153,
   "metadata": {},
   "outputs": [],
   "source": [
    "#creating empty list for data to be collected.\n",
    "Price=[]\n",
    "Car_name=[]\n",
    "Kilometers_driven=[]\n",
    "Fuel=[]\n",
    "Transmission=[]\n",
    "Variant=[]"
   ]
  },
  {
   "cell_type": "code",
   "execution_count": 154,
   "metadata": {},
   "outputs": [],
   "source": [
    "#Collectig data .\n",
    "\n",
    "\n",
    "car_name=[] #collecting car name\n",
    "for i in driver.find_elements_by_xpath(\"//div[@class='gsc_col-xs-7 carsName']/a\")[0:200]:\n",
    "    car_name.append(i.text)\n",
    "time.sleep(4)\n",
    "\n",
    "\n",
    "Variant=[] #collecting car variant data\n",
    "for i in driver.find_elements_by_xpath(\"//div[@class='gsc_col-xs-7 carsName']/div[1]\")[0:200]:\n",
    "    Variant.append(i.text)\n",
    "time.sleep(4)\n",
    "\n",
    "\n",
    "Kilometers_driven=[] #collecting car kilometers dreiven \n",
    "for i in driver.find_elements_by_xpath(\"//div[@class='gsc_col-xs-7 carsName']/div[2]/span[1]\")[0:200]:\n",
    "    Kilometers_driven.append(i.text)\n",
    "time.sleep(4)\n",
    "\n",
    "Fuel=[] #which fuel is used for th car\n",
    "for i in driver.find_elements_by_xpath(\"//div[@class='gsc_col-xs-7 carsName']/div[2]/span[2]\")[0:200]:\n",
    "    Fuel.append(i.text)\n",
    "time.sleep(4)\n",
    "\n",
    "Transmission=[] #collecting car transmission data\n",
    "for i in driver.find_elements_by_xpath(\"//div[@class='gsc_col-xs-7 carsName']/div[2]/span[3]\")[0:200]:\n",
    "    Transmission.append(i.text)\n",
    "time.sleep(4)\n",
    "\n",
    "Price=[] #collecting car price\n",
    "for i in driver.find_elements_by_xpath(\"//div[@class='price gsc_col-xs-5 text-right']/span\")[0:200]:\n",
    "    Price.append(i.text)\n",
    "time.sleep(4)"
   ]
  },
  {
   "cell_type": "code",
   "execution_count": 155,
   "metadata": {},
   "outputs": [
    {
     "name": "stdout",
     "output_type": "stream",
     "text": [
      "Car_name 26\n",
      "Price 26\n",
      "Transmission 26\n",
      "Fuel 26\n",
      "Variant 26\n",
      "Kilometers_driven 26\n"
     ]
    }
   ],
   "source": [
    "print(\"Car_name\",len(car_name))\n",
    "print(\"Price\",len(Price))\n",
    "print(\"Transmission\",len(Transmission))\n",
    "print(\"Fuel\",len(Fuel))\n",
    "print(\"Variant\",len(Variant))\n",
    "print(\"Kilometers_driven\",len(Kilometers_driven))"
   ]
  },
  {
   "cell_type": "code",
   "execution_count": 156,
   "metadata": {},
   "outputs": [],
   "source": [
    "#creating data frame for the collected data.\n",
    "car_deko_7_b=pd.DataFrame({})\n",
    "car_deko_7_b['Price']=Price\n",
    "car_deko_7_b['Brand']=car_name\n",
    "car_deko_7_b['Kilometers_driven']=Kilometers_driven\n",
    "car_deko_7_b['Fuel']=Fuel\n",
    "car_deko_7_b['Transmission']=Transmission\n",
    "car_deko_7_b['Variant']=Variant\n",
    "#we know that the data is from third owner cars. \n",
    "#So we will add the third owner value for all the rows in data frama by creating a seperate column for owners. \n",
    "#Same we will do for location('hyderabad'.)\n",
    "car_deko_7_b['No_owners']=\"Thirdowner\"\n",
    "car_deko_7_b['Location']=\"Hyderabad\""
   ]
  },
  {
   "cell_type": "code",
   "execution_count": 157,
   "metadata": {},
   "outputs": [
    {
     "data": {
      "text/html": [
       "<div>\n",
       "<style scoped>\n",
       "    .dataframe tbody tr th:only-of-type {\n",
       "        vertical-align: middle;\n",
       "    }\n",
       "\n",
       "    .dataframe tbody tr th {\n",
       "        vertical-align: top;\n",
       "    }\n",
       "\n",
       "    .dataframe thead th {\n",
       "        text-align: right;\n",
       "    }\n",
       "</style>\n",
       "<table border=\"1\" class=\"dataframe\">\n",
       "  <thead>\n",
       "    <tr style=\"text-align: right;\">\n",
       "      <th></th>\n",
       "      <th>Price</th>\n",
       "      <th>Brand</th>\n",
       "      <th>Kilometers_driven</th>\n",
       "      <th>Fuel</th>\n",
       "      <th>Transmission</th>\n",
       "      <th>Variant</th>\n",
       "      <th>No_owners</th>\n",
       "      <th>Location</th>\n",
       "    </tr>\n",
       "  </thead>\n",
       "  <tbody>\n",
       "    <tr>\n",
       "      <th>0</th>\n",
       "      <td>3.12 Lakh</td>\n",
       "      <td>2009 Honda City</td>\n",
       "      <td>1,23,678 kms</td>\n",
       "      <td>Petrol</td>\n",
       "      <td>Manual</td>\n",
       "      <td>1.5 S MT</td>\n",
       "      <td>Thirdowner</td>\n",
       "      <td>Hyderabad</td>\n",
       "    </tr>\n",
       "    <tr>\n",
       "      <th>1</th>\n",
       "      <td>6.7 Lakh</td>\n",
       "      <td>2017 Hyundai i20</td>\n",
       "      <td>24,337 kms</td>\n",
       "      <td>Petrol</td>\n",
       "      <td>Manual</td>\n",
       "      <td>1.2 Spotz</td>\n",
       "      <td>Thirdowner</td>\n",
       "      <td>Hyderabad</td>\n",
       "    </tr>\n",
       "    <tr>\n",
       "      <th>2</th>\n",
       "      <td>1.7 Lakh</td>\n",
       "      <td>2006 Hyundai Santro Xing</td>\n",
       "      <td>90,000 kms</td>\n",
       "      <td>Petrol</td>\n",
       "      <td>Manual</td>\n",
       "      <td>XO</td>\n",
       "      <td>Thirdowner</td>\n",
       "      <td>Hyderabad</td>\n",
       "    </tr>\n",
       "    <tr>\n",
       "      <th>3</th>\n",
       "      <td>1.2 Lakh</td>\n",
       "      <td>2002 Maruti Zen</td>\n",
       "      <td>70,000 kms</td>\n",
       "      <td>Petrol</td>\n",
       "      <td>Manual</td>\n",
       "      <td>LXi - BS III</td>\n",
       "      <td>Thirdowner</td>\n",
       "      <td>Hyderabad</td>\n",
       "    </tr>\n",
       "    <tr>\n",
       "      <th>4</th>\n",
       "      <td>2.7 Lakh</td>\n",
       "      <td>2008 Maruti Wagon R</td>\n",
       "      <td>68,000 kms</td>\n",
       "      <td>Petrol</td>\n",
       "      <td>Manual</td>\n",
       "      <td>LX BSIII</td>\n",
       "      <td>Thirdowner</td>\n",
       "      <td>Hyderabad</td>\n",
       "    </tr>\n",
       "  </tbody>\n",
       "</table>\n",
       "</div>"
      ],
      "text/plain": [
       "       Price                     Brand Kilometers_driven    Fuel Transmission  \\\n",
       "0  3.12 Lakh           2009 Honda City      1,23,678 kms  Petrol       Manual   \n",
       "1   6.7 Lakh          2017 Hyundai i20        24,337 kms  Petrol       Manual   \n",
       "2   1.7 Lakh  2006 Hyundai Santro Xing        90,000 kms  Petrol       Manual   \n",
       "3   1.2 Lakh           2002 Maruti Zen        70,000 kms  Petrol       Manual   \n",
       "4   2.7 Lakh       2008 Maruti Wagon R        68,000 kms  Petrol       Manual   \n",
       "\n",
       "        Variant   No_owners   Location  \n",
       "0      1.5 S MT  Thirdowner  Hyderabad  \n",
       "1     1.2 Spotz  Thirdowner  Hyderabad  \n",
       "2            XO  Thirdowner  Hyderabad  \n",
       "3  LXi - BS III  Thirdowner  Hyderabad  \n",
       "4      LX BSIII  Thirdowner  Hyderabad  "
      ]
     },
     "execution_count": 157,
     "metadata": {},
     "output_type": "execute_result"
    }
   ],
   "source": [
    "car_deko_7_b.head()"
   ]
  },
  {
   "cell_type": "code",
   "execution_count": 158,
   "metadata": {},
   "outputs": [],
   "source": [
    "#concatenate scrapped data of Hyderabad city\n",
    "car_dekho_Hyderabad=pd.concat([car_deko_7,car_deko_7_a,car_deko_7_b])"
   ]
  },
  {
   "cell_type": "code",
   "execution_count": 159,
   "metadata": {},
   "outputs": [
    {
     "data": {
      "text/plain": [
       "(385, 8)"
      ]
     },
     "execution_count": 159,
     "metadata": {},
     "output_type": "execute_result"
    }
   ],
   "source": [
    "car_dekho_Hyderabad.shape"
   ]
  },
  {
   "cell_type": "code",
   "execution_count": 160,
   "metadata": {},
   "outputs": [],
   "source": [
    "driver.close()"
   ]
  },
  {
   "cell_type": "code",
   "execution_count": null,
   "metadata": {},
   "outputs": [],
   "source": []
  },
  {
   "cell_type": "markdown",
   "metadata": {},
   "source": [
    "# Mumbai"
   ]
  },
  {
   "cell_type": "code",
   "execution_count": 161,
   "metadata": {},
   "outputs": [],
   "source": [
    "driver=webdriver.Firefox(\"C:\\geckodriver-v0.29.1-win64\")"
   ]
  },
  {
   "cell_type": "code",
   "execution_count": 162,
   "metadata": {},
   "outputs": [],
   "source": [
    "driver.get(\"https://www.cardekho.com/\") #getting the website"
   ]
  },
  {
   "cell_type": "code",
   "execution_count": 163,
   "metadata": {},
   "outputs": [],
   "source": [
    "#Selecting Used Cars option\n",
    "k=driver.find_element_by_xpath(\"//ul[@class='gsc-ta-clickWrap ']/li[2]\")\n",
    "k.click() "
   ]
  },
  {
   "cell_type": "code",
   "execution_count": 164,
   "metadata": {},
   "outputs": [],
   "source": [
    "#Selecting serach option\n",
    "driver.find_element_by_xpath(\"(//div[@class='modelname ']/div/ul/li[3]/button)[2]\").click()"
   ]
  },
  {
   "cell_type": "code",
   "execution_count": 165,
   "metadata": {},
   "outputs": [],
   "source": [
    "#Entering city name\n",
    "city=driver.find_element_by_id(\"autocomplete\")\n",
    "city.send_keys(\"Mumbai\")"
   ]
  },
  {
   "cell_type": "code",
   "execution_count": 166,
   "metadata": {},
   "outputs": [],
   "source": [
    "#selecting city from drop down\n",
    "driver.find_element_by_xpath(\"//div[@class='pac-container pac-logo']/div[1]\").click()"
   ]
  },
  {
   "cell_type": "code",
   "execution_count": 167,
   "metadata": {},
   "outputs": [],
   "source": [
    "#extracting data for the cars where owners is \"first owner\" from Mumbai city.\n",
    "#selecting the \"first onwer\" option from filters.\n",
    "driver.find_element_by_xpath(\"//ul[@class='checkBoxWrap sellerTypes ownerTypes']/li[2]\").click()"
   ]
  },
  {
   "cell_type": "code",
   "execution_count": 168,
   "metadata": {},
   "outputs": [],
   "source": [
    "#creating empty list for data to be collected.\n",
    "Price=[]\n",
    "Car_name=[]\n",
    "Kilometers_driven=[]\n",
    "Fuel=[]\n",
    "Transmission=[]\n",
    "Variant=[]"
   ]
  },
  {
   "cell_type": "code",
   "execution_count": 169,
   "metadata": {},
   "outputs": [],
   "source": [
    "#Collectig data .\n",
    "\n",
    "\n",
    "car_name=[] #collecting car name\n",
    "for i in driver.find_elements_by_xpath(\"//div[@class='gsc_col-xs-7 carsName']/a\")[0:200]:\n",
    "    car_name.append(i.text)\n",
    "time.sleep(4)\n",
    "\n",
    "\n",
    "Variant=[] #collecting car variant data\n",
    "for i in driver.find_elements_by_xpath(\"//div[@class='gsc_col-xs-7 carsName']/div[1]\")[0:200]:\n",
    "    Variant.append(i.text)\n",
    "time.sleep(4)\n",
    "\n",
    "\n",
    "Kilometers_driven=[] #collecting car kilometers dreiven \n",
    "for i in driver.find_elements_by_xpath(\"//div[@class='gsc_col-xs-7 carsName']/div[2]/span[1]\")[0:200]:\n",
    "    Kilometers_driven.append(i.text)\n",
    "time.sleep(4)\n",
    "\n",
    "Fuel=[] #which fuel is used for th car\n",
    "for i in driver.find_elements_by_xpath(\"//div[@class='gsc_col-xs-7 carsName']/div[2]/span[2]\")[0:200]:\n",
    "    Fuel.append(i.text)\n",
    "time.sleep(4)\n",
    "\n",
    "Transmission=[] #collecting car transmission data\n",
    "for i in driver.find_elements_by_xpath(\"//div[@class='gsc_col-xs-7 carsName']/div[2]/span[3]\")[0:200]:\n",
    "    Transmission.append(i.text)\n",
    "time.sleep(4)\n",
    "\n",
    "Price=[] #collecting car price\n",
    "for i in driver.find_elements_by_xpath(\"//div[@class='price gsc_col-xs-5 text-right']/span\")[0:200]:\n",
    "    Price.append(i.text)\n",
    "time.sleep(4)"
   ]
  },
  {
   "cell_type": "code",
   "execution_count": 170,
   "metadata": {},
   "outputs": [
    {
     "name": "stdout",
     "output_type": "stream",
     "text": [
      "Car_name 200\n",
      "Price 200\n",
      "Transmission 200\n",
      "Fuel 200\n",
      "Variant 200\n",
      "Kilometers_driven 200\n"
     ]
    }
   ],
   "source": [
    "print(\"Car_name\",len(car_name))\n",
    "print(\"Price\",len(Price))\n",
    "print(\"Transmission\",len(Transmission))\n",
    "print(\"Fuel\",len(Fuel))\n",
    "print(\"Variant\",len(Variant))\n",
    "print(\"Kilometers_driven\",len(Kilometers_driven))"
   ]
  },
  {
   "cell_type": "code",
   "execution_count": 171,
   "metadata": {},
   "outputs": [],
   "source": [
    "#creating data frame for the collected data.\n",
    "car_deko_8=pd.DataFrame({})\n",
    "car_deko_8['Price']=Price\n",
    "car_deko_8['Brand']=car_name\n",
    "car_deko_8['Kilometers_driven']=Kilometers_driven\n",
    "car_deko_8['Fuel']=Fuel\n",
    "car_deko_8['Transmission']=Transmission\n",
    "car_deko_8['Variant']=Variant\n",
    "#we know that the data is from first owner cars. \n",
    "#So we will add the first owner value for all the rows in data frama by creating a seperate column for owners. \n",
    "#Same we will do for location('Mumbai')\n",
    "car_deko_8['No_owners']=\"FirstOwner\"\n",
    "car_deko_8['Location']=\"Mumbai\""
   ]
  },
  {
   "cell_type": "code",
   "execution_count": 172,
   "metadata": {},
   "outputs": [
    {
     "data": {
      "text/html": [
       "<div>\n",
       "<style scoped>\n",
       "    .dataframe tbody tr th:only-of-type {\n",
       "        vertical-align: middle;\n",
       "    }\n",
       "\n",
       "    .dataframe tbody tr th {\n",
       "        vertical-align: top;\n",
       "    }\n",
       "\n",
       "    .dataframe thead th {\n",
       "        text-align: right;\n",
       "    }\n",
       "</style>\n",
       "<table border=\"1\" class=\"dataframe\">\n",
       "  <thead>\n",
       "    <tr style=\"text-align: right;\">\n",
       "      <th></th>\n",
       "      <th>Price</th>\n",
       "      <th>Brand</th>\n",
       "      <th>Kilometers_driven</th>\n",
       "      <th>Fuel</th>\n",
       "      <th>Transmission</th>\n",
       "      <th>Variant</th>\n",
       "      <th>No_owners</th>\n",
       "      <th>Location</th>\n",
       "    </tr>\n",
       "  </thead>\n",
       "  <tbody>\n",
       "    <tr>\n",
       "      <th>0</th>\n",
       "      <td>6.62 Lakh</td>\n",
       "      <td>2016 Maruti Ertiga</td>\n",
       "      <td>48,376 kms</td>\n",
       "      <td>Petrol</td>\n",
       "      <td>Manual</td>\n",
       "      <td>BSIV ZXI</td>\n",
       "      <td>FirstOwner</td>\n",
       "      <td>Mumbai</td>\n",
       "    </tr>\n",
       "    <tr>\n",
       "      <th>1</th>\n",
       "      <td>5.3 Lakh</td>\n",
       "      <td>2012 Mahindra XUV500</td>\n",
       "      <td>1,08,871 kms</td>\n",
       "      <td>Diesel</td>\n",
       "      <td>Manual</td>\n",
       "      <td>W8 FWD</td>\n",
       "      <td>FirstOwner</td>\n",
       "      <td>Mumbai</td>\n",
       "    </tr>\n",
       "    <tr>\n",
       "      <th>2</th>\n",
       "      <td>5.05 Lakh</td>\n",
       "      <td>2015 Hyundai i20</td>\n",
       "      <td>1,03,266 kms</td>\n",
       "      <td>Diesel</td>\n",
       "      <td>Manual</td>\n",
       "      <td>Asta 1.4 CRDi</td>\n",
       "      <td>FirstOwner</td>\n",
       "      <td>Mumbai</td>\n",
       "    </tr>\n",
       "    <tr>\n",
       "      <th>3</th>\n",
       "      <td>14.72 Lakh</td>\n",
       "      <td>2018 Jeep Compass</td>\n",
       "      <td>27,881 kms</td>\n",
       "      <td>Diesel</td>\n",
       "      <td>Manual</td>\n",
       "      <td>2.0 Sport</td>\n",
       "      <td>FirstOwner</td>\n",
       "      <td>Mumbai</td>\n",
       "    </tr>\n",
       "    <tr>\n",
       "      <th>4</th>\n",
       "      <td>3.77 Lakh</td>\n",
       "      <td>2015 Maruti Wagon R</td>\n",
       "      <td>9,329 kms</td>\n",
       "      <td>Petrol</td>\n",
       "      <td>Manual</td>\n",
       "      <td>VXI BS IV</td>\n",
       "      <td>FirstOwner</td>\n",
       "      <td>Mumbai</td>\n",
       "    </tr>\n",
       "  </tbody>\n",
       "</table>\n",
       "</div>"
      ],
      "text/plain": [
       "        Price                 Brand Kilometers_driven    Fuel Transmission  \\\n",
       "0   6.62 Lakh    2016 Maruti Ertiga        48,376 kms  Petrol       Manual   \n",
       "1    5.3 Lakh  2012 Mahindra XUV500      1,08,871 kms  Diesel       Manual   \n",
       "2   5.05 Lakh      2015 Hyundai i20      1,03,266 kms  Diesel       Manual   \n",
       "3  14.72 Lakh     2018 Jeep Compass        27,881 kms  Diesel       Manual   \n",
       "4   3.77 Lakh   2015 Maruti Wagon R         9,329 kms  Petrol       Manual   \n",
       "\n",
       "         Variant   No_owners Location  \n",
       "0       BSIV ZXI  FirstOwner   Mumbai  \n",
       "1         W8 FWD  FirstOwner   Mumbai  \n",
       "2  Asta 1.4 CRDi  FirstOwner   Mumbai  \n",
       "3      2.0 Sport  FirstOwner   Mumbai  \n",
       "4      VXI BS IV  FirstOwner   Mumbai  "
      ]
     },
     "execution_count": 172,
     "metadata": {},
     "output_type": "execute_result"
    }
   ],
   "source": [
    "car_deko_8.head()"
   ]
  },
  {
   "cell_type": "code",
   "execution_count": null,
   "metadata": {},
   "outputs": [],
   "source": []
  },
  {
   "cell_type": "code",
   "execution_count": 173,
   "metadata": {},
   "outputs": [],
   "source": [
    "#let's scrap second owner car data."
   ]
  },
  {
   "cell_type": "code",
   "execution_count": 174,
   "metadata": {},
   "outputs": [],
   "source": [
    "#extracting data for the cars where owners is \"second owner\" from Mumbai city.\n",
    "#selecting the \"second onwer\" option from filters.\n",
    "driver.find_element_by_xpath(\"//ul[@class='checkBoxWrap sellerTypes ownerTypes']/li[3]\").click()"
   ]
  },
  {
   "cell_type": "code",
   "execution_count": 178,
   "metadata": {},
   "outputs": [],
   "source": [
    "#creating empty list for data to be collected.\n",
    "Price=[]\n",
    "Car_name=[]\n",
    "Kilometers_driven=[]\n",
    "Fuel=[]\n",
    "Transmission=[]\n",
    "Variant=[]"
   ]
  },
  {
   "cell_type": "code",
   "execution_count": 179,
   "metadata": {},
   "outputs": [],
   "source": [
    "#Collectig data .\n",
    "\n",
    "\n",
    "car_name=[] #collecting car name\n",
    "for i in driver.find_elements_by_xpath(\"//div[@class='gsc_col-xs-7 carsName']/a\")[0:200]:\n",
    "    car_name.append(i.text)\n",
    "time.sleep(4)\n",
    "\n",
    "\n",
    "Variant=[] #collecting car variant data\n",
    "for i in driver.find_elements_by_xpath(\"//div[@class='gsc_col-xs-7 carsName']/div[1]\")[0:200]:\n",
    "    Variant.append(i.text)\n",
    "time.sleep(4)\n",
    "\n",
    "\n",
    "Kilometers_driven=[] #collecting car kilometers dreiven \n",
    "for i in driver.find_elements_by_xpath(\"//div[@class='gsc_col-xs-7 carsName']/div[2]/span[1]\")[0:200]:\n",
    "    Kilometers_driven.append(i.text)\n",
    "time.sleep(4)\n",
    "\n",
    "Fuel=[] #which fuel is used for th car\n",
    "for i in driver.find_elements_by_xpath(\"//div[@class='gsc_col-xs-7 carsName']/div[2]/span[2]\")[0:200]:\n",
    "    Fuel.append(i.text)\n",
    "time.sleep(4)\n",
    "\n",
    "Transmission=[] #collecting car transmission data\n",
    "for i in driver.find_elements_by_xpath(\"//div[@class='gsc_col-xs-7 carsName']/div[2]/span[3]\")[0:200]:\n",
    "    Transmission.append(i.text)\n",
    "time.sleep(4)\n",
    "\n",
    "Price=[] #collecting car price\n",
    "for i in driver.find_elements_by_xpath(\"//div[@class='price gsc_col-xs-5 text-right']/span\")[0:200]:\n",
    "    Price.append(i.text)\n",
    "time.sleep(4)"
   ]
  },
  {
   "cell_type": "code",
   "execution_count": 180,
   "metadata": {},
   "outputs": [
    {
     "name": "stdout",
     "output_type": "stream",
     "text": [
      "Car_name 200\n",
      "Price 200\n",
      "Transmission 200\n",
      "Fuel 200\n",
      "Variant 200\n",
      "Kilometers_driven 200\n"
     ]
    }
   ],
   "source": [
    "print(\"Car_name\",len(car_name))\n",
    "print(\"Price\",len(Price))\n",
    "print(\"Transmission\",len(Transmission))\n",
    "print(\"Fuel\",len(Fuel))\n",
    "print(\"Variant\",len(Variant))\n",
    "print(\"Kilometers_driven\",len(Kilometers_driven))"
   ]
  },
  {
   "cell_type": "code",
   "execution_count": 181,
   "metadata": {},
   "outputs": [],
   "source": [
    "#creating data frame for the collected data.\n",
    "car_deko_8_a=pd.DataFrame({})\n",
    "car_deko_8_a['Price']=Price\n",
    "car_deko_8_a['Brand']=car_name\n",
    "car_deko_8_a['Kilometers_driven']=Kilometers_driven\n",
    "car_deko_8_a['Fuel']=Fuel\n",
    "car_deko_8_a['Transmission']=Transmission\n",
    "car_deko_8_a['Variant']=Variant\n",
    "#we know that the data is from second owner cars. \n",
    "#So we will add the second owner value for all the rows in data frama by creating a seperate column for owners. \n",
    "#Same we will do for location('Mumbai'.)\n",
    "car_deko_8_a['No_owners']=\"SecondOwner\"\n",
    "car_deko_8_a['Location']=\"Mumbai\""
   ]
  },
  {
   "cell_type": "code",
   "execution_count": 182,
   "metadata": {},
   "outputs": [
    {
     "data": {
      "text/html": [
       "<div>\n",
       "<style scoped>\n",
       "    .dataframe tbody tr th:only-of-type {\n",
       "        vertical-align: middle;\n",
       "    }\n",
       "\n",
       "    .dataframe tbody tr th {\n",
       "        vertical-align: top;\n",
       "    }\n",
       "\n",
       "    .dataframe thead th {\n",
       "        text-align: right;\n",
       "    }\n",
       "</style>\n",
       "<table border=\"1\" class=\"dataframe\">\n",
       "  <thead>\n",
       "    <tr style=\"text-align: right;\">\n",
       "      <th></th>\n",
       "      <th>Price</th>\n",
       "      <th>Brand</th>\n",
       "      <th>Kilometers_driven</th>\n",
       "      <th>Fuel</th>\n",
       "      <th>Transmission</th>\n",
       "      <th>Variant</th>\n",
       "      <th>No_owners</th>\n",
       "      <th>Location</th>\n",
       "    </tr>\n",
       "  </thead>\n",
       "  <tbody>\n",
       "    <tr>\n",
       "      <th>0</th>\n",
       "      <td>4.51 Lakh</td>\n",
       "      <td>2012 Hyundai Verna</td>\n",
       "      <td>85,295 kms</td>\n",
       "      <td>Diesel</td>\n",
       "      <td>Automatic</td>\n",
       "      <td>1.6 CRDI AT SX Option</td>\n",
       "      <td>SecondOwner</td>\n",
       "      <td>Mumbai</td>\n",
       "    </tr>\n",
       "    <tr>\n",
       "      <th>1</th>\n",
       "      <td>1.64 Lakh</td>\n",
       "      <td>2010 Hyundai Grand i10</td>\n",
       "      <td>40,914 kms</td>\n",
       "      <td>Petrol</td>\n",
       "      <td>Manual</td>\n",
       "      <td>Era 1.1</td>\n",
       "      <td>SecondOwner</td>\n",
       "      <td>Mumbai</td>\n",
       "    </tr>\n",
       "    <tr>\n",
       "      <th>2</th>\n",
       "      <td>2.4 Lakh</td>\n",
       "      <td>2011 Maruti Wagon R</td>\n",
       "      <td>70,221 kms</td>\n",
       "      <td>CNG</td>\n",
       "      <td>Manual</td>\n",
       "      <td>LXI CNG</td>\n",
       "      <td>SecondOwner</td>\n",
       "      <td>Mumbai</td>\n",
       "    </tr>\n",
       "    <tr>\n",
       "      <th>3</th>\n",
       "      <td>4.71 Lakh</td>\n",
       "      <td>2014 Renault Duster</td>\n",
       "      <td>42,118 kms</td>\n",
       "      <td>Diesel</td>\n",
       "      <td>Manual</td>\n",
       "      <td>85PS Diesel RxL</td>\n",
       "      <td>SecondOwner</td>\n",
       "      <td>Mumbai</td>\n",
       "    </tr>\n",
       "    <tr>\n",
       "      <th>4</th>\n",
       "      <td>1.72 Lakh</td>\n",
       "      <td>2009 Maruti SX4</td>\n",
       "      <td>33,725 kms</td>\n",
       "      <td>Petrol</td>\n",
       "      <td>Manual</td>\n",
       "      <td>Vxi BSIII</td>\n",
       "      <td>SecondOwner</td>\n",
       "      <td>Mumbai</td>\n",
       "    </tr>\n",
       "  </tbody>\n",
       "</table>\n",
       "</div>"
      ],
      "text/plain": [
       "       Price                   Brand Kilometers_driven    Fuel Transmission  \\\n",
       "0  4.51 Lakh      2012 Hyundai Verna        85,295 kms  Diesel    Automatic   \n",
       "1  1.64 Lakh  2010 Hyundai Grand i10        40,914 kms  Petrol       Manual   \n",
       "2   2.4 Lakh     2011 Maruti Wagon R        70,221 kms     CNG       Manual   \n",
       "3  4.71 Lakh     2014 Renault Duster        42,118 kms  Diesel       Manual   \n",
       "4  1.72 Lakh         2009 Maruti SX4        33,725 kms  Petrol       Manual   \n",
       "\n",
       "                 Variant    No_owners Location  \n",
       "0  1.6 CRDI AT SX Option  SecondOwner   Mumbai  \n",
       "1                Era 1.1  SecondOwner   Mumbai  \n",
       "2                LXI CNG  SecondOwner   Mumbai  \n",
       "3        85PS Diesel RxL  SecondOwner   Mumbai  \n",
       "4              Vxi BSIII  SecondOwner   Mumbai  "
      ]
     },
     "execution_count": 182,
     "metadata": {},
     "output_type": "execute_result"
    }
   ],
   "source": [
    "car_deko_8_a.head()"
   ]
  },
  {
   "cell_type": "code",
   "execution_count": null,
   "metadata": {},
   "outputs": [],
   "source": []
  },
  {
   "cell_type": "code",
   "execution_count": 183,
   "metadata": {},
   "outputs": [],
   "source": [
    "#let's scrap third owner cars data"
   ]
  },
  {
   "cell_type": "code",
   "execution_count": 184,
   "metadata": {},
   "outputs": [],
   "source": [
    "#extracting data for the cars where owners is \"third owner\" from mumbai city.\n",
    "#selecting the \"third onwer\" option from filters.\n",
    "driver.find_element_by_xpath(\"//ul[@class='checkBoxWrap sellerTypes ownerTypes']/li[4]\").click()"
   ]
  },
  {
   "cell_type": "code",
   "execution_count": 185,
   "metadata": {},
   "outputs": [],
   "source": [
    "#creating empty list for data to be collected.\n",
    "Price=[]\n",
    "Car_name=[]\n",
    "Kilometers_driven=[]\n",
    "Fuel=[]\n",
    "Transmission=[]\n",
    "Variant=[]"
   ]
  },
  {
   "cell_type": "code",
   "execution_count": 186,
   "metadata": {},
   "outputs": [],
   "source": [
    "#Collectig data .\n",
    "\n",
    "\n",
    "car_name=[] #collecting car name\n",
    "for i in driver.find_elements_by_xpath(\"//div[@class='gsc_col-xs-7 carsName']/a\")[0:200]:\n",
    "    car_name.append(i.text)\n",
    "time.sleep(4)\n",
    "\n",
    "\n",
    "Variant=[] #collecting car variant data\n",
    "for i in driver.find_elements_by_xpath(\"//div[@class='gsc_col-xs-7 carsName']/div[1]\")[0:200]:\n",
    "    Variant.append(i.text)\n",
    "time.sleep(4)\n",
    "\n",
    "\n",
    "Kilometers_driven=[] #collecting car kilometers dreiven \n",
    "for i in driver.find_elements_by_xpath(\"//div[@class='gsc_col-xs-7 carsName']/div[2]/span[1]\")[0:200]:\n",
    "    Kilometers_driven.append(i.text)\n",
    "time.sleep(4)\n",
    "\n",
    "Fuel=[] #which fuel is used for th car\n",
    "for i in driver.find_elements_by_xpath(\"//div[@class='gsc_col-xs-7 carsName']/div[2]/span[2]\")[0:200]:\n",
    "    Fuel.append(i.text)\n",
    "time.sleep(4)\n",
    "\n",
    "Transmission=[] #collecting car transmission data\n",
    "for i in driver.find_elements_by_xpath(\"//div[@class='gsc_col-xs-7 carsName']/div[2]/span[3]\")[0:200]:\n",
    "    Transmission.append(i.text)\n",
    "time.sleep(4)\n",
    "\n",
    "Price=[] #collecting car price\n",
    "for i in driver.find_elements_by_xpath(\"//div[@class='price gsc_col-xs-5 text-right']/span\")[0:200]:\n",
    "    Price.append(i.text)\n",
    "time.sleep(4)"
   ]
  },
  {
   "cell_type": "code",
   "execution_count": 187,
   "metadata": {},
   "outputs": [
    {
     "name": "stdout",
     "output_type": "stream",
     "text": [
      "Car_name 116\n",
      "Price 116\n",
      "Transmission 116\n",
      "Fuel 116\n",
      "Variant 116\n",
      "Kilometers_driven 116\n"
     ]
    }
   ],
   "source": [
    "print(\"Car_name\",len(car_name))\n",
    "print(\"Price\",len(Price))\n",
    "print(\"Transmission\",len(Transmission))\n",
    "print(\"Fuel\",len(Fuel))\n",
    "print(\"Variant\",len(Variant))\n",
    "print(\"Kilometers_driven\",len(Kilometers_driven))"
   ]
  },
  {
   "cell_type": "code",
   "execution_count": 188,
   "metadata": {},
   "outputs": [],
   "source": [
    "#creating data frame for the collected data.\n",
    "car_deko_8_b=pd.DataFrame({})\n",
    "car_deko_8_b['Price']=Price\n",
    "car_deko_8_b['Brand']=car_name\n",
    "car_deko_8_b['Kilometers_driven']=Kilometers_driven\n",
    "car_deko_8_b['Fuel']=Fuel\n",
    "car_deko_8_b['Transmission']=Transmission\n",
    "car_deko_8_b['Variant']=Variant\n",
    "#we know that the data is from third owner cars. \n",
    "#So we will add the third owner value for all the rows in data frama by creating a seperate column for owners. \n",
    "#Same we will do for location('Mumbai'.)\n",
    "car_deko_8_b['No_owners']=\"Thirdowner\"\n",
    "car_deko_8_b['Location']=\"Mumbai\""
   ]
  },
  {
   "cell_type": "code",
   "execution_count": 189,
   "metadata": {},
   "outputs": [],
   "source": [
    "#concatenate all Mumbai scrapped data\n",
    "car_deko_Mumbai=pd.concat([car_deko_8,car_deko_8_a,car_deko_8_b])"
   ]
  },
  {
   "cell_type": "code",
   "execution_count": 190,
   "metadata": {},
   "outputs": [
    {
     "data": {
      "text/plain": [
       "(516, 8)"
      ]
     },
     "execution_count": 190,
     "metadata": {},
     "output_type": "execute_result"
    }
   ],
   "source": [
    "car_deko_Mumbai.shape"
   ]
  },
  {
   "cell_type": "code",
   "execution_count": null,
   "metadata": {},
   "outputs": [],
   "source": []
  },
  {
   "cell_type": "markdown",
   "metadata": {},
   "source": [
    "# Pune"
   ]
  },
  {
   "cell_type": "code",
   "execution_count": 196,
   "metadata": {},
   "outputs": [],
   "source": [
    "driver=webdriver.Firefox(\"C:\\geckodriver-v0.29.1-win64\")"
   ]
  },
  {
   "cell_type": "code",
   "execution_count": 197,
   "metadata": {},
   "outputs": [],
   "source": [
    "driver.get(\"https://www.cardekho.com/\") #getting the website"
   ]
  },
  {
   "cell_type": "code",
   "execution_count": 198,
   "metadata": {},
   "outputs": [],
   "source": [
    "#Selecting Used Cars option\n",
    "k=driver.find_element_by_xpath(\"//ul[@class='gsc-ta-clickWrap ']/li[2]\")\n",
    "k.click() "
   ]
  },
  {
   "cell_type": "code",
   "execution_count": 199,
   "metadata": {},
   "outputs": [],
   "source": [
    "#Selecting serach option\n",
    "driver.find_element_by_xpath(\"(//div[@class='modelname ']/div/ul/li[3]/button)[2]\").click()"
   ]
  },
  {
   "cell_type": "code",
   "execution_count": 200,
   "metadata": {},
   "outputs": [],
   "source": [
    "#Entering city name\n",
    "city=driver.find_element_by_id(\"autocomplete\")\n",
    "city.send_keys(\"Pune\")"
   ]
  },
  {
   "cell_type": "code",
   "execution_count": 201,
   "metadata": {},
   "outputs": [],
   "source": [
    "#selecting city from drop down\n",
    "driver.find_element_by_xpath(\"//div[@class='pac-container pac-logo']/div[1]\").click()"
   ]
  },
  {
   "cell_type": "code",
   "execution_count": 202,
   "metadata": {},
   "outputs": [],
   "source": [
    "#extracting data for the cars where owners is \"first owner\" from pune city.\n",
    "#selecting the \"first onwer\" option from filters.\n",
    "driver.find_element_by_xpath(\"//ul[@class='checkBoxWrap sellerTypes ownerTypes']/li[2]\").click()"
   ]
  },
  {
   "cell_type": "code",
   "execution_count": 203,
   "metadata": {},
   "outputs": [],
   "source": [
    "#creating empty list for data to be collected.\n",
    "Price=[]\n",
    "Car_name=[]\n",
    "Kilometers_driven=[]\n",
    "Fuel=[]\n",
    "Transmission=[]\n",
    "Variant=[]"
   ]
  },
  {
   "cell_type": "code",
   "execution_count": 204,
   "metadata": {},
   "outputs": [],
   "source": [
    "#Collectig data .\n",
    "\n",
    "\n",
    "car_name=[] #collecting car name\n",
    "for i in driver.find_elements_by_xpath(\"//div[@class='gsc_col-xs-7 carsName']/a\")[0:200]:\n",
    "    car_name.append(i.text)\n",
    "time.sleep(4)\n",
    "\n",
    "\n",
    "Variant=[] #collecting car variant data\n",
    "for i in driver.find_elements_by_xpath(\"//div[@class='gsc_col-xs-7 carsName']/div[1]\")[0:200]:\n",
    "    Variant.append(i.text)\n",
    "time.sleep(4)\n",
    "\n",
    "\n",
    "Kilometers_driven=[] #collecting car kilometers dreiven \n",
    "for i in driver.find_elements_by_xpath(\"//div[@class='gsc_col-xs-7 carsName']/div[2]/span[1]\")[0:200]:\n",
    "    Kilometers_driven.append(i.text)\n",
    "time.sleep(4)\n",
    "\n",
    "Fuel=[] #which fuel is used for th car\n",
    "for i in driver.find_elements_by_xpath(\"//div[@class='gsc_col-xs-7 carsName']/div[2]/span[2]\")[0:200]:\n",
    "    Fuel.append(i.text)\n",
    "time.sleep(4)\n",
    "\n",
    "Transmission=[] #collecting car transmission data\n",
    "for i in driver.find_elements_by_xpath(\"//div[@class='gsc_col-xs-7 carsName']/div[2]/span[3]\")[0:200]:\n",
    "    Transmission.append(i.text)\n",
    "time.sleep(4)\n",
    "\n",
    "Price=[] #collecting car price\n",
    "for i in driver.find_elements_by_xpath(\"//div[@class='price gsc_col-xs-5 text-right']/span\")[0:200]:\n",
    "    Price.append(i.text)\n",
    "time.sleep(4)"
   ]
  },
  {
   "cell_type": "code",
   "execution_count": 205,
   "metadata": {},
   "outputs": [
    {
     "name": "stdout",
     "output_type": "stream",
     "text": [
      "Car_name 200\n",
      "Price 200\n",
      "Transmission 200\n",
      "Fuel 200\n",
      "Variant 200\n",
      "Kilometers_driven 200\n"
     ]
    }
   ],
   "source": [
    "print(\"Car_name\",len(car_name))\n",
    "print(\"Price\",len(Price))\n",
    "print(\"Transmission\",len(Transmission))\n",
    "print(\"Fuel\",len(Fuel))\n",
    "print(\"Variant\",len(Variant))\n",
    "print(\"Kilometers_driven\",len(Kilometers_driven))"
   ]
  },
  {
   "cell_type": "code",
   "execution_count": 206,
   "metadata": {},
   "outputs": [],
   "source": [
    "#creating data frame for the collected data.\n",
    "car_deko_9=pd.DataFrame({})\n",
    "car_deko_9['Price']=Price\n",
    "car_deko_9['Brand']=car_name\n",
    "car_deko_9['Kilometers_driven']=Kilometers_driven\n",
    "car_deko_9['Fuel']=Fuel\n",
    "car_deko_9['Transmission']=Transmission\n",
    "car_deko_9['Variant']=Variant\n",
    "#we know that the data is from first owner cars. \n",
    "#So we will add the first owner value for all the rows in data frama by creating a seperate column for owners. \n",
    "#Same we will do for location('pune'.)\n",
    "car_deko_9['No_owners']=\"FirstOwner\"\n",
    "car_deko_9['Location']=\"Pune\""
   ]
  },
  {
   "cell_type": "code",
   "execution_count": 207,
   "metadata": {},
   "outputs": [
    {
     "data": {
      "text/html": [
       "<div>\n",
       "<style scoped>\n",
       "    .dataframe tbody tr th:only-of-type {\n",
       "        vertical-align: middle;\n",
       "    }\n",
       "\n",
       "    .dataframe tbody tr th {\n",
       "        vertical-align: top;\n",
       "    }\n",
       "\n",
       "    .dataframe thead th {\n",
       "        text-align: right;\n",
       "    }\n",
       "</style>\n",
       "<table border=\"1\" class=\"dataframe\">\n",
       "  <thead>\n",
       "    <tr style=\"text-align: right;\">\n",
       "      <th></th>\n",
       "      <th>Price</th>\n",
       "      <th>Brand</th>\n",
       "      <th>Kilometers_driven</th>\n",
       "      <th>Fuel</th>\n",
       "      <th>Transmission</th>\n",
       "      <th>Variant</th>\n",
       "      <th>No_owners</th>\n",
       "      <th>Location</th>\n",
       "    </tr>\n",
       "  </thead>\n",
       "  <tbody>\n",
       "    <tr>\n",
       "      <th>0</th>\n",
       "      <td>3.27 Lakh</td>\n",
       "      <td>2017 Maruti Alto 800</td>\n",
       "      <td>90,516 kms</td>\n",
       "      <td>Petrol</td>\n",
       "      <td>Manual</td>\n",
       "      <td>VXI</td>\n",
       "      <td>FirstOwner</td>\n",
       "      <td>Pune</td>\n",
       "    </tr>\n",
       "    <tr>\n",
       "      <th>1</th>\n",
       "      <td>8.38 Lakh</td>\n",
       "      <td>2017 Maruti Vitara Brezza</td>\n",
       "      <td>60,688 kms</td>\n",
       "      <td>Diesel</td>\n",
       "      <td>Manual</td>\n",
       "      <td>ZDi</td>\n",
       "      <td>FirstOwner</td>\n",
       "      <td>Pune</td>\n",
       "    </tr>\n",
       "    <tr>\n",
       "      <th>2</th>\n",
       "      <td>3.76 Lakh</td>\n",
       "      <td>2016 Tata Tiago</td>\n",
       "      <td>49,487 kms</td>\n",
       "      <td>Petrol</td>\n",
       "      <td>Manual</td>\n",
       "      <td>XT</td>\n",
       "      <td>FirstOwner</td>\n",
       "      <td>Pune</td>\n",
       "    </tr>\n",
       "    <tr>\n",
       "      <th>3</th>\n",
       "      <td>3.62 Lakh</td>\n",
       "      <td>2015 Hyundai Grand i10</td>\n",
       "      <td>70,182 kms</td>\n",
       "      <td>Petrol</td>\n",
       "      <td>Manual</td>\n",
       "      <td>Asta Option</td>\n",
       "      <td>FirstOwner</td>\n",
       "      <td>Pune</td>\n",
       "    </tr>\n",
       "    <tr>\n",
       "      <th>4</th>\n",
       "      <td>2.87 Lakh</td>\n",
       "      <td>2016 Maruti Alto 800</td>\n",
       "      <td>67,531 kms</td>\n",
       "      <td>Petrol</td>\n",
       "      <td>Manual</td>\n",
       "      <td>VXI</td>\n",
       "      <td>FirstOwner</td>\n",
       "      <td>Pune</td>\n",
       "    </tr>\n",
       "  </tbody>\n",
       "</table>\n",
       "</div>"
      ],
      "text/plain": [
       "       Price                      Brand Kilometers_driven    Fuel  \\\n",
       "0  3.27 Lakh       2017 Maruti Alto 800        90,516 kms  Petrol   \n",
       "1  8.38 Lakh  2017 Maruti Vitara Brezza        60,688 kms  Diesel   \n",
       "2  3.76 Lakh            2016 Tata Tiago        49,487 kms  Petrol   \n",
       "3  3.62 Lakh     2015 Hyundai Grand i10        70,182 kms  Petrol   \n",
       "4  2.87 Lakh       2016 Maruti Alto 800        67,531 kms  Petrol   \n",
       "\n",
       "  Transmission      Variant   No_owners Location  \n",
       "0       Manual          VXI  FirstOwner     Pune  \n",
       "1       Manual          ZDi  FirstOwner     Pune  \n",
       "2       Manual           XT  FirstOwner     Pune  \n",
       "3       Manual  Asta Option  FirstOwner     Pune  \n",
       "4       Manual          VXI  FirstOwner     Pune  "
      ]
     },
     "execution_count": 207,
     "metadata": {},
     "output_type": "execute_result"
    }
   ],
   "source": [
    "car_deko_9.head()"
   ]
  },
  {
   "cell_type": "code",
   "execution_count": null,
   "metadata": {},
   "outputs": [],
   "source": []
  },
  {
   "cell_type": "code",
   "execution_count": 208,
   "metadata": {},
   "outputs": [],
   "source": [
    "#Let's scrap second owner cars data"
   ]
  },
  {
   "cell_type": "code",
   "execution_count": 209,
   "metadata": {},
   "outputs": [],
   "source": [
    "#extracting data for the cars where owners is \"second owner\" from hydrabad city.\n",
    "#selecting the \"second onwer\" option from filters.\n",
    "driver.find_element_by_xpath(\"//ul[@class='checkBoxWrap sellerTypes ownerTypes']/li[3]\").click()"
   ]
  },
  {
   "cell_type": "code",
   "execution_count": 210,
   "metadata": {},
   "outputs": [],
   "source": [
    "#creating empty list for data to be collected.\n",
    "Price=[]\n",
    "Car_name=[]\n",
    "Kilometers_driven=[]\n",
    "Fuel=[]\n",
    "Transmission=[]\n",
    "Variant=[]"
   ]
  },
  {
   "cell_type": "code",
   "execution_count": 211,
   "metadata": {},
   "outputs": [],
   "source": [
    "#Collectig data .\n",
    "\n",
    "\n",
    "car_name=[] #collecting car name\n",
    "for i in driver.find_elements_by_xpath(\"//div[@class='gsc_col-xs-7 carsName']/a\")[0:200]:\n",
    "    car_name.append(i.text)\n",
    "time.sleep(4)\n",
    "\n",
    "\n",
    "Variant=[] #collecting car variant data\n",
    "for i in driver.find_elements_by_xpath(\"//div[@class='gsc_col-xs-7 carsName']/div[1]\")[0:200]:\n",
    "    Variant.append(i.text)\n",
    "time.sleep(4)\n",
    "\n",
    "\n",
    "Kilometers_driven=[] #collecting car kilometers dreiven \n",
    "for i in driver.find_elements_by_xpath(\"//div[@class='gsc_col-xs-7 carsName']/div[2]/span[1]\")[0:200]:\n",
    "    Kilometers_driven.append(i.text)\n",
    "time.sleep(4)\n",
    "\n",
    "Fuel=[] #which fuel is used for th car\n",
    "for i in driver.find_elements_by_xpath(\"//div[@class='gsc_col-xs-7 carsName']/div[2]/span[2]\")[0:200]:\n",
    "    Fuel.append(i.text)\n",
    "time.sleep(4)\n",
    "\n",
    "Transmission=[] #collecting car transmission data\n",
    "for i in driver.find_elements_by_xpath(\"//div[@class='gsc_col-xs-7 carsName']/div[2]/span[3]\")[0:200]:\n",
    "    Transmission.append(i.text)\n",
    "time.sleep(4)\n",
    "\n",
    "Price=[] #collecting car price\n",
    "for i in driver.find_elements_by_xpath(\"//div[@class='price gsc_col-xs-5 text-right']/span\")[0:200]:\n",
    "    Price.append(i.text)\n",
    "time.sleep(4)"
   ]
  },
  {
   "cell_type": "code",
   "execution_count": 213,
   "metadata": {},
   "outputs": [
    {
     "name": "stdout",
     "output_type": "stream",
     "text": [
      "Car_name 200\n",
      "Price 200\n",
      "Transmission 200\n",
      "Fuel 200\n",
      "Variant 200\n",
      "Kilometers_driven 200\n"
     ]
    }
   ],
   "source": [
    "print(\"Car_name\",len(car_name))\n",
    "print(\"Price\",len(Price))\n",
    "print(\"Transmission\",len(Transmission))\n",
    "print(\"Fuel\",len(Fuel))\n",
    "print(\"Variant\",len(Variant))\n",
    "print(\"Kilometers_driven\",len(Kilometers_driven))"
   ]
  },
  {
   "cell_type": "code",
   "execution_count": 214,
   "metadata": {},
   "outputs": [],
   "source": [
    "#creating data frame for the collected data.\n",
    "car_deko_9_a=pd.DataFrame({})\n",
    "car_deko_9_a['Price']=Price\n",
    "car_deko_9_a['Brand']=car_name\n",
    "car_deko_9_a['Kilometers_driven']=Kilometers_driven\n",
    "car_deko_9_a['Fuel']=Fuel\n",
    "car_deko_9_a['Transmission']=Transmission\n",
    "car_deko_9_a['Variant']=Variant\n",
    "#we know that the data is from second owner cars. \n",
    "#So we will add the second owner value for all the rows in data frama by creating a seperate column for owners. \n",
    "#Same we will do for location('Pune'.)\n",
    "car_deko_9_a['No_owners']=\"SecondOwner\"\n",
    "car_deko_9_a['Location']=\"Pune\""
   ]
  },
  {
   "cell_type": "code",
   "execution_count": 215,
   "metadata": {},
   "outputs": [
    {
     "data": {
      "text/html": [
       "<div>\n",
       "<style scoped>\n",
       "    .dataframe tbody tr th:only-of-type {\n",
       "        vertical-align: middle;\n",
       "    }\n",
       "\n",
       "    .dataframe tbody tr th {\n",
       "        vertical-align: top;\n",
       "    }\n",
       "\n",
       "    .dataframe thead th {\n",
       "        text-align: right;\n",
       "    }\n",
       "</style>\n",
       "<table border=\"1\" class=\"dataframe\">\n",
       "  <thead>\n",
       "    <tr style=\"text-align: right;\">\n",
       "      <th></th>\n",
       "      <th>Price</th>\n",
       "      <th>Brand</th>\n",
       "      <th>Kilometers_driven</th>\n",
       "      <th>Fuel</th>\n",
       "      <th>Transmission</th>\n",
       "      <th>Variant</th>\n",
       "      <th>No_owners</th>\n",
       "      <th>Location</th>\n",
       "    </tr>\n",
       "  </thead>\n",
       "  <tbody>\n",
       "    <tr>\n",
       "      <th>0</th>\n",
       "      <td>6.03 Lakh</td>\n",
       "      <td>2019 Honda Amaze</td>\n",
       "      <td>10,510 kms</td>\n",
       "      <td>Petrol</td>\n",
       "      <td>Manual</td>\n",
       "      <td>S i-VTEC</td>\n",
       "      <td>SecondOwner</td>\n",
       "      <td>Pune</td>\n",
       "    </tr>\n",
       "    <tr>\n",
       "      <th>1</th>\n",
       "      <td>4.72 Lakh</td>\n",
       "      <td>2015 Hyundai Grand i10</td>\n",
       "      <td>62,193 kms</td>\n",
       "      <td>Petrol</td>\n",
       "      <td>Automatic</td>\n",
       "      <td>AT Asta</td>\n",
       "      <td>SecondOwner</td>\n",
       "      <td>Pune</td>\n",
       "    </tr>\n",
       "    <tr>\n",
       "      <th>2</th>\n",
       "      <td>5.73 Lakh</td>\n",
       "      <td>2015 Maruti Ertiga</td>\n",
       "      <td>52,545 kms</td>\n",
       "      <td>Petrol</td>\n",
       "      <td>Manual</td>\n",
       "      <td>VXI</td>\n",
       "      <td>SecondOwner</td>\n",
       "      <td>Pune</td>\n",
       "    </tr>\n",
       "    <tr>\n",
       "      <th>3</th>\n",
       "      <td>8.02 Lakh</td>\n",
       "      <td>2018 Maruti Baleno</td>\n",
       "      <td>24,229 kms</td>\n",
       "      <td>Petrol</td>\n",
       "      <td>Automatic</td>\n",
       "      <td>1.2 CVT Alpha</td>\n",
       "      <td>SecondOwner</td>\n",
       "      <td>Pune</td>\n",
       "    </tr>\n",
       "    <tr>\n",
       "      <th>4</th>\n",
       "      <td>4.88 Lakh</td>\n",
       "      <td>2016 Honda Jazz</td>\n",
       "      <td>27,332 kms</td>\n",
       "      <td>Petrol</td>\n",
       "      <td>Manual</td>\n",
       "      <td>V</td>\n",
       "      <td>SecondOwner</td>\n",
       "      <td>Pune</td>\n",
       "    </tr>\n",
       "  </tbody>\n",
       "</table>\n",
       "</div>"
      ],
      "text/plain": [
       "       Price                   Brand Kilometers_driven    Fuel Transmission  \\\n",
       "0  6.03 Lakh        2019 Honda Amaze        10,510 kms  Petrol       Manual   \n",
       "1  4.72 Lakh  2015 Hyundai Grand i10        62,193 kms  Petrol    Automatic   \n",
       "2  5.73 Lakh      2015 Maruti Ertiga        52,545 kms  Petrol       Manual   \n",
       "3  8.02 Lakh      2018 Maruti Baleno        24,229 kms  Petrol    Automatic   \n",
       "4  4.88 Lakh         2016 Honda Jazz        27,332 kms  Petrol       Manual   \n",
       "\n",
       "         Variant    No_owners Location  \n",
       "0       S i-VTEC  SecondOwner     Pune  \n",
       "1        AT Asta  SecondOwner     Pune  \n",
       "2            VXI  SecondOwner     Pune  \n",
       "3  1.2 CVT Alpha  SecondOwner     Pune  \n",
       "4              V  SecondOwner     Pune  "
      ]
     },
     "execution_count": 215,
     "metadata": {},
     "output_type": "execute_result"
    }
   ],
   "source": [
    "car_deko_9_a.head()"
   ]
  },
  {
   "cell_type": "code",
   "execution_count": null,
   "metadata": {},
   "outputs": [],
   "source": []
  },
  {
   "cell_type": "code",
   "execution_count": 216,
   "metadata": {},
   "outputs": [],
   "source": [
    "#let's scrap third owner cars data"
   ]
  },
  {
   "cell_type": "code",
   "execution_count": 217,
   "metadata": {},
   "outputs": [],
   "source": [
    "#extracting data for the cars where owners is \"third owner\" from pune city.\n",
    "#selecting the \"third onwer\" option from filters.\n",
    "driver.find_element_by_xpath(\"//ul[@class='checkBoxWrap sellerTypes ownerTypes']/li[4]\").click()"
   ]
  },
  {
   "cell_type": "code",
   "execution_count": 218,
   "metadata": {},
   "outputs": [],
   "source": [
    "#creating empty list for data to be collected.\n",
    "Price=[]\n",
    "Car_name=[]\n",
    "Kilometers_driven=[]\n",
    "Fuel=[]\n",
    "Transmission=[]\n",
    "Variant=[]"
   ]
  },
  {
   "cell_type": "code",
   "execution_count": 219,
   "metadata": {},
   "outputs": [],
   "source": [
    "#Collectig data .\n",
    "\n",
    "\n",
    "car_name=[] #collecting car name\n",
    "for i in driver.find_elements_by_xpath(\"//div[@class='gsc_col-xs-7 carsName']/a\")[0:200]:\n",
    "    car_name.append(i.text)\n",
    "time.sleep(4)\n",
    "\n",
    "\n",
    "Variant=[] #collecting car variant data\n",
    "for i in driver.find_elements_by_xpath(\"//div[@class='gsc_col-xs-7 carsName']/div[1]\")[0:200]:\n",
    "    Variant.append(i.text)\n",
    "time.sleep(4)\n",
    "\n",
    "\n",
    "Kilometers_driven=[] #collecting car kilometers dreiven \n",
    "for i in driver.find_elements_by_xpath(\"//div[@class='gsc_col-xs-7 carsName']/div[2]/span[1]\")[0:200]:\n",
    "    Kilometers_driven.append(i.text)\n",
    "time.sleep(4)\n",
    "\n",
    "Fuel=[] #which fuel is used for th car\n",
    "for i in driver.find_elements_by_xpath(\"//div[@class='gsc_col-xs-7 carsName']/div[2]/span[2]\")[0:200]:\n",
    "    Fuel.append(i.text)\n",
    "time.sleep(4)\n",
    "\n",
    "Transmission=[] #collecting car transmission data\n",
    "for i in driver.find_elements_by_xpath(\"//div[@class='gsc_col-xs-7 carsName']/div[2]/span[3]\")[0:200]:\n",
    "    Transmission.append(i.text)\n",
    "time.sleep(4)\n",
    "\n",
    "Price=[] #collecting car price\n",
    "for i in driver.find_elements_by_xpath(\"//div[@class='price gsc_col-xs-5 text-right']/span\")[0:200]:\n",
    "    Price.append(i.text)\n",
    "time.sleep(4)"
   ]
  },
  {
   "cell_type": "code",
   "execution_count": 220,
   "metadata": {},
   "outputs": [
    {
     "name": "stdout",
     "output_type": "stream",
     "text": [
      "Car_name 58\n",
      "Price 58\n",
      "Transmission 58\n",
      "Fuel 58\n",
      "Variant 58\n",
      "Kilometers_driven 58\n"
     ]
    }
   ],
   "source": [
    "print(\"Car_name\",len(car_name))\n",
    "print(\"Price\",len(Price))\n",
    "print(\"Transmission\",len(Transmission))\n",
    "print(\"Fuel\",len(Fuel))\n",
    "print(\"Variant\",len(Variant))\n",
    "print(\"Kilometers_driven\",len(Kilometers_driven))"
   ]
  },
  {
   "cell_type": "code",
   "execution_count": 221,
   "metadata": {},
   "outputs": [],
   "source": [
    "#creating data frame for the collected data.\n",
    "car_deko_9_b=pd.DataFrame({})\n",
    "car_deko_9_b['Price']=Price\n",
    "car_deko_9_b['Brand']=car_name\n",
    "car_deko_9_b['Kilometers_driven']=Kilometers_driven\n",
    "car_deko_9_b['Fuel']=Fuel\n",
    "car_deko_9_b['Transmission']=Transmission\n",
    "car_deko_9_b['Variant']=Variant\n",
    "#we know that the data is from third owner cars. \n",
    "#So we will add the third owner value for all the rows in data frama by creating a seperate column for owners. \n",
    "#Same we will do for location('pune'.)\n",
    "car_deko_9_b['No_owners']=\"Thirdowner\"\n",
    "car_deko_9_b['Location']=\"Pune\""
   ]
  },
  {
   "cell_type": "code",
   "execution_count": 222,
   "metadata": {},
   "outputs": [
    {
     "data": {
      "text/html": [
       "<div>\n",
       "<style scoped>\n",
       "    .dataframe tbody tr th:only-of-type {\n",
       "        vertical-align: middle;\n",
       "    }\n",
       "\n",
       "    .dataframe tbody tr th {\n",
       "        vertical-align: top;\n",
       "    }\n",
       "\n",
       "    .dataframe thead th {\n",
       "        text-align: right;\n",
       "    }\n",
       "</style>\n",
       "<table border=\"1\" class=\"dataframe\">\n",
       "  <thead>\n",
       "    <tr style=\"text-align: right;\">\n",
       "      <th></th>\n",
       "      <th>Price</th>\n",
       "      <th>Brand</th>\n",
       "      <th>Kilometers_driven</th>\n",
       "      <th>Fuel</th>\n",
       "      <th>Transmission</th>\n",
       "      <th>Variant</th>\n",
       "      <th>No_owners</th>\n",
       "      <th>Location</th>\n",
       "    </tr>\n",
       "  </thead>\n",
       "  <tbody>\n",
       "    <tr>\n",
       "      <th>0</th>\n",
       "      <td>3.25 Lakh</td>\n",
       "      <td>2011 Maruti Swift Dzire</td>\n",
       "      <td>80,000 kms</td>\n",
       "      <td>Petrol</td>\n",
       "      <td>Manual</td>\n",
       "      <td>VXi</td>\n",
       "      <td>Thirdowner</td>\n",
       "      <td>Pune</td>\n",
       "    </tr>\n",
       "    <tr>\n",
       "      <th>1</th>\n",
       "      <td>2 Lakh</td>\n",
       "      <td>2011 Fiat Grande Punto</td>\n",
       "      <td>1,10,000 kms</td>\n",
       "      <td>Diesel</td>\n",
       "      <td>Manual</td>\n",
       "      <td>1.3 Emotion Pack (Diesel)</td>\n",
       "      <td>Thirdowner</td>\n",
       "      <td>Pune</td>\n",
       "    </tr>\n",
       "    <tr>\n",
       "      <th>2</th>\n",
       "      <td>9 Lakh</td>\n",
       "      <td>2013 Mercedes-Benz A Class</td>\n",
       "      <td>83,000 kms</td>\n",
       "      <td>Petrol</td>\n",
       "      <td>Automatic</td>\n",
       "      <td>A180 Sport</td>\n",
       "      <td>Thirdowner</td>\n",
       "      <td>Pune</td>\n",
       "    </tr>\n",
       "    <tr>\n",
       "      <th>3</th>\n",
       "      <td>17.5 Lakh</td>\n",
       "      <td>2013 Land Rover Freelander 2</td>\n",
       "      <td>80,000 kms</td>\n",
       "      <td>Diesel</td>\n",
       "      <td>Automatic</td>\n",
       "      <td>SE</td>\n",
       "      <td>Thirdowner</td>\n",
       "      <td>Pune</td>\n",
       "    </tr>\n",
       "    <tr>\n",
       "      <th>4</th>\n",
       "      <td>13.5 Lakh</td>\n",
       "      <td>2014 Audi A4</td>\n",
       "      <td>78,000 kms</td>\n",
       "      <td>Diesel</td>\n",
       "      <td>Automatic</td>\n",
       "      <td>2.0 TDI</td>\n",
       "      <td>Thirdowner</td>\n",
       "      <td>Pune</td>\n",
       "    </tr>\n",
       "  </tbody>\n",
       "</table>\n",
       "</div>"
      ],
      "text/plain": [
       "       Price                         Brand Kilometers_driven    Fuel  \\\n",
       "0  3.25 Lakh       2011 Maruti Swift Dzire        80,000 kms  Petrol   \n",
       "1     2 Lakh        2011 Fiat Grande Punto      1,10,000 kms  Diesel   \n",
       "2     9 Lakh    2013 Mercedes-Benz A Class        83,000 kms  Petrol   \n",
       "3  17.5 Lakh  2013 Land Rover Freelander 2        80,000 kms  Diesel   \n",
       "4  13.5 Lakh                  2014 Audi A4        78,000 kms  Diesel   \n",
       "\n",
       "  Transmission                    Variant   No_owners Location  \n",
       "0       Manual                        VXi  Thirdowner     Pune  \n",
       "1       Manual  1.3 Emotion Pack (Diesel)  Thirdowner     Pune  \n",
       "2    Automatic                 A180 Sport  Thirdowner     Pune  \n",
       "3    Automatic                         SE  Thirdowner     Pune  \n",
       "4    Automatic                    2.0 TDI  Thirdowner     Pune  "
      ]
     },
     "execution_count": 222,
     "metadata": {},
     "output_type": "execute_result"
    }
   ],
   "source": [
    "car_deko_9_b.head()"
   ]
  },
  {
   "cell_type": "code",
   "execution_count": 223,
   "metadata": {},
   "outputs": [],
   "source": [
    "#Let's concatenate all the Pune cars scrapped data\n",
    "car_deko_Pune=pd.concat([car_deko_9,car_deko_9_a,car_deko_9_b])"
   ]
  },
  {
   "cell_type": "code",
   "execution_count": 224,
   "metadata": {},
   "outputs": [
    {
     "data": {
      "text/plain": [
       "(458, 8)"
      ]
     },
     "execution_count": 224,
     "metadata": {},
     "output_type": "execute_result"
    }
   ],
   "source": [
    "car_deko_Pune.shape"
   ]
  },
  {
   "cell_type": "code",
   "execution_count": 225,
   "metadata": {},
   "outputs": [],
   "source": [
    "driver.close()"
   ]
  },
  {
   "cell_type": "code",
   "execution_count": null,
   "metadata": {},
   "outputs": [],
   "source": []
  },
  {
   "cell_type": "markdown",
   "metadata": {},
   "source": [
    "# Kolkata"
   ]
  },
  {
   "cell_type": "code",
   "execution_count": 226,
   "metadata": {},
   "outputs": [],
   "source": [
    "driver=webdriver.Firefox(\"C:\\geckodriver-v0.29.1-win64\")"
   ]
  },
  {
   "cell_type": "code",
   "execution_count": 227,
   "metadata": {},
   "outputs": [],
   "source": [
    "driver.get(\"https://www.cardekho.com/\") #getting the website"
   ]
  },
  {
   "cell_type": "code",
   "execution_count": 228,
   "metadata": {},
   "outputs": [],
   "source": [
    "#Selecting Used Cars option\n",
    "k=driver.find_element_by_xpath(\"//ul[@class='gsc-ta-clickWrap ']/li[2]\")\n",
    "k.click() "
   ]
  },
  {
   "cell_type": "code",
   "execution_count": 229,
   "metadata": {},
   "outputs": [],
   "source": [
    "#Selecting serach option\n",
    "driver.find_element_by_xpath(\"(//div[@class='modelname ']/div/ul/li[3]/button)[2]\").click()"
   ]
  },
  {
   "cell_type": "code",
   "execution_count": 230,
   "metadata": {},
   "outputs": [],
   "source": [
    "#Entering city name\n",
    "city=driver.find_element_by_id(\"autocomplete\")\n",
    "city.send_keys(\"Kolkata\")"
   ]
  },
  {
   "cell_type": "code",
   "execution_count": 231,
   "metadata": {},
   "outputs": [],
   "source": [
    "#selecting city from drop down\n",
    "driver.find_element_by_xpath(\"//div[@class='pac-container pac-logo']/div[1]\").click()"
   ]
  },
  {
   "cell_type": "code",
   "execution_count": 236,
   "metadata": {},
   "outputs": [],
   "source": [
    "#extracting data for the cars where owners is \"first owner\" from kolkata city.\n",
    "#selecting the \"first onwer\" option from filters.\n",
    "driver.find_element_by_xpath(\"//ul[@class='checkBoxWrap sellerTypes ownerTypes']/li[1]\").click()"
   ]
  },
  {
   "cell_type": "code",
   "execution_count": 237,
   "metadata": {},
   "outputs": [],
   "source": [
    "#creating empty list for data to be collected.\n",
    "Price=[]\n",
    "Car_name=[]\n",
    "Kilometers_driven=[]\n",
    "Fuel=[]\n",
    "Transmission=[]\n",
    "Variant=[]"
   ]
  },
  {
   "cell_type": "code",
   "execution_count": 238,
   "metadata": {},
   "outputs": [],
   "source": [
    "#Collectig data .\n",
    "\n",
    "\n",
    "car_name=[] #collecting car name\n",
    "for i in driver.find_elements_by_xpath(\"//div[@class='gsc_col-xs-7 carsName']/a\")[0:200]:\n",
    "    car_name.append(i.text)\n",
    "time.sleep(4)\n",
    "\n",
    "\n",
    "Variant=[] #collecting car variant data\n",
    "for i in driver.find_elements_by_xpath(\"//div[@class='gsc_col-xs-7 carsName']/div[1]\")[0:200]:\n",
    "    Variant.append(i.text)\n",
    "time.sleep(4)\n",
    "\n",
    "\n",
    "Kilometers_driven=[] #collecting car kilometers dreiven \n",
    "for i in driver.find_elements_by_xpath(\"//div[@class='gsc_col-xs-7 carsName']/div[2]/span[1]\")[0:200]:\n",
    "    Kilometers_driven.append(i.text)\n",
    "time.sleep(4)\n",
    "\n",
    "Fuel=[] #which fuel is used for th car\n",
    "for i in driver.find_elements_by_xpath(\"//div[@class='gsc_col-xs-7 carsName']/div[2]/span[2]\")[0:200]:\n",
    "    Fuel.append(i.text)\n",
    "time.sleep(4)\n",
    "\n",
    "Transmission=[] #collecting car transmission data\n",
    "for i in driver.find_elements_by_xpath(\"//div[@class='gsc_col-xs-7 carsName']/div[2]/span[3]\")[0:200]:\n",
    "    Transmission.append(i.text)\n",
    "time.sleep(4)\n",
    "\n",
    "Price=[] #collecting car price\n",
    "for i in driver.find_elements_by_xpath(\"//div[@class='price gsc_col-xs-5 text-right']/span\")[0:200]:\n",
    "    Price.append(i.text)\n",
    "time.sleep(4)"
   ]
  },
  {
   "cell_type": "code",
   "execution_count": 239,
   "metadata": {},
   "outputs": [
    {
     "name": "stdout",
     "output_type": "stream",
     "text": [
      "Car_name 200\n",
      "Price 200\n",
      "Transmission 200\n",
      "Fuel 200\n",
      "Variant 200\n",
      "Kilometers_driven 200\n"
     ]
    }
   ],
   "source": [
    "print(\"Car_name\",len(car_name))\n",
    "print(\"Price\",len(Price))\n",
    "print(\"Transmission\",len(Transmission))\n",
    "print(\"Fuel\",len(Fuel))\n",
    "print(\"Variant\",len(Variant))\n",
    "print(\"Kilometers_driven\",len(Kilometers_driven))"
   ]
  },
  {
   "cell_type": "code",
   "execution_count": 240,
   "metadata": {},
   "outputs": [],
   "source": [
    "#creating data frame for the collected data.\n",
    "car_deko_10=pd.DataFrame({})\n",
    "car_deko_10['Price']=Price\n",
    "car_deko_10['Brand']=car_name\n",
    "car_deko_10['Kilometers_driven']=Kilometers_driven\n",
    "car_deko_10['Fuel']=Fuel\n",
    "car_deko_10['Transmission']=Transmission\n",
    "car_deko_10['Variant']=Variant\n",
    "#we know that the data is from first owner cars. \n",
    "#So we will add the first owner value for all the rows in data frama by creating a seperate column for owners. \n",
    "#Same we will do for location('kolkata'.)\n",
    "car_deko_10['No_owners']=\"Firstowner\"\n",
    "car_deko_10['Location']=\"Kolkata\""
   ]
  },
  {
   "cell_type": "code",
   "execution_count": 241,
   "metadata": {},
   "outputs": [
    {
     "data": {
      "text/html": [
       "<div>\n",
       "<style scoped>\n",
       "    .dataframe tbody tr th:only-of-type {\n",
       "        vertical-align: middle;\n",
       "    }\n",
       "\n",
       "    .dataframe tbody tr th {\n",
       "        vertical-align: top;\n",
       "    }\n",
       "\n",
       "    .dataframe thead th {\n",
       "        text-align: right;\n",
       "    }\n",
       "</style>\n",
       "<table border=\"1\" class=\"dataframe\">\n",
       "  <thead>\n",
       "    <tr style=\"text-align: right;\">\n",
       "      <th></th>\n",
       "      <th>Price</th>\n",
       "      <th>Brand</th>\n",
       "      <th>Kilometers_driven</th>\n",
       "      <th>Fuel</th>\n",
       "      <th>Transmission</th>\n",
       "      <th>Variant</th>\n",
       "      <th>No_owners</th>\n",
       "      <th>Location</th>\n",
       "    </tr>\n",
       "  </thead>\n",
       "  <tbody>\n",
       "    <tr>\n",
       "      <th>0</th>\n",
       "      <td>3.4 Lakh</td>\n",
       "      <td>2015 Nissan Sunny</td>\n",
       "      <td>39,000 kms</td>\n",
       "      <td>Petrol</td>\n",
       "      <td>Manual</td>\n",
       "      <td>XL</td>\n",
       "      <td>Firstowner</td>\n",
       "      <td>Kolkata</td>\n",
       "    </tr>\n",
       "    <tr>\n",
       "      <th>1</th>\n",
       "      <td>3.25 Lakh</td>\n",
       "      <td>2012 Hyundai Verna</td>\n",
       "      <td>42,000 kms</td>\n",
       "      <td>Petrol</td>\n",
       "      <td>Manual</td>\n",
       "      <td>1.6 SX VTVT (O)</td>\n",
       "      <td>Firstowner</td>\n",
       "      <td>Kolkata</td>\n",
       "    </tr>\n",
       "    <tr>\n",
       "      <th>2</th>\n",
       "      <td>6 Lakh</td>\n",
       "      <td>2016 Maruti SX4 S Cross</td>\n",
       "      <td>55,000 kms</td>\n",
       "      <td>Diesel</td>\n",
       "      <td>Manual</td>\n",
       "      <td>DDiS 200 Zeta</td>\n",
       "      <td>Firstowner</td>\n",
       "      <td>Kolkata</td>\n",
       "    </tr>\n",
       "    <tr>\n",
       "      <th>3</th>\n",
       "      <td>2.25 Lakh</td>\n",
       "      <td>2010 Maruti Ritz</td>\n",
       "      <td>45,000 kms</td>\n",
       "      <td>Petrol</td>\n",
       "      <td>Manual</td>\n",
       "      <td>VXI</td>\n",
       "      <td>Firstowner</td>\n",
       "      <td>Kolkata</td>\n",
       "    </tr>\n",
       "    <tr>\n",
       "      <th>4</th>\n",
       "      <td>2 Lakh</td>\n",
       "      <td>2011 Toyota Etios Liva</td>\n",
       "      <td>48,200 kms</td>\n",
       "      <td>Diesel</td>\n",
       "      <td>Manual</td>\n",
       "      <td>GD SP</td>\n",
       "      <td>Firstowner</td>\n",
       "      <td>Kolkata</td>\n",
       "    </tr>\n",
       "  </tbody>\n",
       "</table>\n",
       "</div>"
      ],
      "text/plain": [
       "       Price                    Brand Kilometers_driven    Fuel Transmission  \\\n",
       "0   3.4 Lakh        2015 Nissan Sunny        39,000 kms  Petrol       Manual   \n",
       "1  3.25 Lakh       2012 Hyundai Verna        42,000 kms  Petrol       Manual   \n",
       "2     6 Lakh  2016 Maruti SX4 S Cross        55,000 kms  Diesel       Manual   \n",
       "3  2.25 Lakh         2010 Maruti Ritz        45,000 kms  Petrol       Manual   \n",
       "4     2 Lakh   2011 Toyota Etios Liva        48,200 kms  Diesel       Manual   \n",
       "\n",
       "           Variant   No_owners Location  \n",
       "0               XL  Firstowner  Kolkata  \n",
       "1  1.6 SX VTVT (O)  Firstowner  Kolkata  \n",
       "2    DDiS 200 Zeta  Firstowner  Kolkata  \n",
       "3              VXI  Firstowner  Kolkata  \n",
       "4            GD SP  Firstowner  Kolkata  "
      ]
     },
     "execution_count": 241,
     "metadata": {},
     "output_type": "execute_result"
    }
   ],
   "source": [
    "car_deko_10.head()"
   ]
  },
  {
   "cell_type": "code",
   "execution_count": null,
   "metadata": {},
   "outputs": [],
   "source": []
  },
  {
   "cell_type": "code",
   "execution_count": 242,
   "metadata": {},
   "outputs": [],
   "source": [
    "#Let's scrap second owner cars data"
   ]
  },
  {
   "cell_type": "code",
   "execution_count": 243,
   "metadata": {},
   "outputs": [],
   "source": [
    "#extracting data for the cars where owners is \"second owner\" from Kolkata city.\n",
    "#selecting the \"second onwer\" option from filters.\n",
    "driver.find_element_by_xpath(\"//ul[@class='checkBoxWrap sellerTypes ownerTypes']/li[2]\").click()"
   ]
  },
  {
   "cell_type": "code",
   "execution_count": 244,
   "metadata": {},
   "outputs": [],
   "source": [
    "#creating empty list for data to be collected.\n",
    "Price=[]\n",
    "Car_name=[]\n",
    "Kilometers_driven=[]\n",
    "Fuel=[]\n",
    "Transmission=[]\n",
    "Variant=[]"
   ]
  },
  {
   "cell_type": "code",
   "execution_count": 252,
   "metadata": {},
   "outputs": [],
   "source": [
    "#Collectig data .\n",
    "\n",
    "\n",
    "car_name=[] #collecting car name\n",
    "for i in driver.find_elements_by_xpath(\"//div[@class='gsc_col-xs-7 carsName']/a\")[0:200]:\n",
    "    car_name.append(i.text)\n",
    "time.sleep(4)\n",
    "\n",
    "\n",
    "Variant=[] #collecting car variant data\n",
    "for i in driver.find_elements_by_xpath(\"//div[@class='gsc_col-xs-7 carsName']/div[1]\")[0:200]:\n",
    "    Variant.append(i.text)\n",
    "time.sleep(4)\n",
    "\n",
    "\n",
    "Kilometers_driven=[] #collecting car kilometers dreiven \n",
    "for i in driver.find_elements_by_xpath(\"//div[@class='gsc_col-xs-7 carsName']/div[2]/span[1]\")[0:200]:\n",
    "    Kilometers_driven.append(i.text)\n",
    "time.sleep(4)\n",
    "\n",
    "Fuel=[] #which fuel is used for th car\n",
    "for i in driver.find_elements_by_xpath(\"//div[@class='gsc_col-xs-7 carsName']/div[2]/span[2]\")[0:200]:\n",
    "    Fuel.append(i.text)\n",
    "time.sleep(4)\n",
    "\n",
    "Transmission=[] #collecting car transmission data\n",
    "for i in driver.find_elements_by_xpath(\"//div[@class='gsc_col-xs-7 carsName']/div[2]/span[3]\")[0:200]:\n",
    "    Transmission.append(i.text)\n",
    "time.sleep(4)\n",
    "\n",
    "Price=[] #collecting car price\n",
    "for i in driver.find_elements_by_xpath(\"//div[@class='price gsc_col-xs-5 text-right']/span\")[0:200]:\n",
    "    Price.append(i.text)\n",
    "time.sleep(4)"
   ]
  },
  {
   "cell_type": "code",
   "execution_count": 246,
   "metadata": {},
   "outputs": [
    {
     "name": "stdout",
     "output_type": "stream",
     "text": [
      "Car_name 96\n",
      "Price 96\n",
      "Transmission 96\n",
      "Fuel 96\n",
      "Variant 96\n",
      "Kilometers_driven 96\n"
     ]
    }
   ],
   "source": [
    "print(\"Car_name\",len(car_name))\n",
    "print(\"Price\",len(Price))\n",
    "print(\"Transmission\",len(Transmission))\n",
    "print(\"Fuel\",len(Fuel))\n",
    "print(\"Variant\",len(Variant))\n",
    "print(\"Kilometers_driven\",len(Kilometers_driven))"
   ]
  },
  {
   "cell_type": "code",
   "execution_count": 247,
   "metadata": {},
   "outputs": [],
   "source": [
    "#creating data frame for the collected data.\n",
    "car_deko_10_a=pd.DataFrame({})\n",
    "car_deko_10_a['Price']=Price\n",
    "car_deko_10_a['Brand']=car_name\n",
    "car_deko_10_a['Kilometers_driven']=Kilometers_driven\n",
    "car_deko_10_a['Fuel']=Fuel\n",
    "car_deko_10_a['Transmission']=Transmission\n",
    "car_deko_10_a['Variant']=Variant\n",
    "#we know that the data is from second owner cars. \n",
    "#So we will add the second owner value for all the rows in data frama by creating a seperate column for owners. \n",
    "#Same we will do for location('Kolkata'.)\n",
    "car_deko_10_a['No_owners']=\"SecondOwner\"\n",
    "car_deko_10_a['Location']=\"Kolkata\""
   ]
  },
  {
   "cell_type": "code",
   "execution_count": 248,
   "metadata": {},
   "outputs": [
    {
     "data": {
      "text/html": [
       "<div>\n",
       "<style scoped>\n",
       "    .dataframe tbody tr th:only-of-type {\n",
       "        vertical-align: middle;\n",
       "    }\n",
       "\n",
       "    .dataframe tbody tr th {\n",
       "        vertical-align: top;\n",
       "    }\n",
       "\n",
       "    .dataframe thead th {\n",
       "        text-align: right;\n",
       "    }\n",
       "</style>\n",
       "<table border=\"1\" class=\"dataframe\">\n",
       "  <thead>\n",
       "    <tr style=\"text-align: right;\">\n",
       "      <th></th>\n",
       "      <th>Price</th>\n",
       "      <th>Brand</th>\n",
       "      <th>Kilometers_driven</th>\n",
       "      <th>Fuel</th>\n",
       "      <th>Transmission</th>\n",
       "      <th>Variant</th>\n",
       "      <th>No_owners</th>\n",
       "      <th>Location</th>\n",
       "    </tr>\n",
       "  </thead>\n",
       "  <tbody>\n",
       "    <tr>\n",
       "      <th>0</th>\n",
       "      <td>7.99 Lakh</td>\n",
       "      <td>2015 Toyota Innova</td>\n",
       "      <td>68,500 kms</td>\n",
       "      <td>Diesel</td>\n",
       "      <td>Manual</td>\n",
       "      <td>2.5 G (Diesel) 7 Seater BS IV</td>\n",
       "      <td>SecondOwner</td>\n",
       "      <td>Kolkata</td>\n",
       "    </tr>\n",
       "    <tr>\n",
       "      <th>1</th>\n",
       "      <td>1.5 Lakh</td>\n",
       "      <td>2006 Maruti Swift</td>\n",
       "      <td>40,808 kms</td>\n",
       "      <td>Petrol</td>\n",
       "      <td>Manual</td>\n",
       "      <td>1.3 VXi</td>\n",
       "      <td>SecondOwner</td>\n",
       "      <td>Kolkata</td>\n",
       "    </tr>\n",
       "    <tr>\n",
       "      <th>2</th>\n",
       "      <td>4.5 Lakh</td>\n",
       "      <td>2015 Renault Duster</td>\n",
       "      <td>52,000 kms</td>\n",
       "      <td>Diesel</td>\n",
       "      <td>Manual</td>\n",
       "      <td>85PS Diesel RxE</td>\n",
       "      <td>SecondOwner</td>\n",
       "      <td>Kolkata</td>\n",
       "    </tr>\n",
       "    <tr>\n",
       "      <th>3</th>\n",
       "      <td>2.75 Lakh</td>\n",
       "      <td>2014 Datsun GO</td>\n",
       "      <td>29,000 kms</td>\n",
       "      <td>Petrol</td>\n",
       "      <td>Manual</td>\n",
       "      <td>T</td>\n",
       "      <td>SecondOwner</td>\n",
       "      <td>Kolkata</td>\n",
       "    </tr>\n",
       "    <tr>\n",
       "      <th>4</th>\n",
       "      <td>3.35 Lakh</td>\n",
       "      <td>2012 Maruti Swift</td>\n",
       "      <td>59,000 kms</td>\n",
       "      <td>Petrol</td>\n",
       "      <td>Manual</td>\n",
       "      <td>ZXI</td>\n",
       "      <td>SecondOwner</td>\n",
       "      <td>Kolkata</td>\n",
       "    </tr>\n",
       "  </tbody>\n",
       "</table>\n",
       "</div>"
      ],
      "text/plain": [
       "       Price                Brand Kilometers_driven    Fuel Transmission  \\\n",
       "0  7.99 Lakh   2015 Toyota Innova        68,500 kms  Diesel       Manual   \n",
       "1   1.5 Lakh    2006 Maruti Swift        40,808 kms  Petrol       Manual   \n",
       "2   4.5 Lakh  2015 Renault Duster        52,000 kms  Diesel       Manual   \n",
       "3  2.75 Lakh       2014 Datsun GO        29,000 kms  Petrol       Manual   \n",
       "4  3.35 Lakh    2012 Maruti Swift        59,000 kms  Petrol       Manual   \n",
       "\n",
       "                         Variant    No_owners Location  \n",
       "0  2.5 G (Diesel) 7 Seater BS IV  SecondOwner  Kolkata  \n",
       "1                        1.3 VXi  SecondOwner  Kolkata  \n",
       "2                85PS Diesel RxE  SecondOwner  Kolkata  \n",
       "3                              T  SecondOwner  Kolkata  \n",
       "4                            ZXI  SecondOwner  Kolkata  "
      ]
     },
     "execution_count": 248,
     "metadata": {},
     "output_type": "execute_result"
    }
   ],
   "source": [
    "car_deko_10_a.head()"
   ]
  },
  {
   "cell_type": "code",
   "execution_count": null,
   "metadata": {},
   "outputs": [],
   "source": []
  },
  {
   "cell_type": "code",
   "execution_count": 249,
   "metadata": {},
   "outputs": [],
   "source": [
    "#Let's scrap third owner cars data."
   ]
  },
  {
   "cell_type": "code",
   "execution_count": 250,
   "metadata": {},
   "outputs": [],
   "source": [
    "#extracting data for the cars where owners is \"third owner\" from kolkata city.\n",
    "#selecting the \"third onwer\" option from filters.\n",
    "driver.find_element_by_xpath(\"//ul[@class='checkBoxWrap sellerTypes ownerTypes']/li[3]\").click()"
   ]
  },
  {
   "cell_type": "code",
   "execution_count": 253,
   "metadata": {},
   "outputs": [],
   "source": [
    "#creating empty list for data to be collected.\n",
    "Price=[]\n",
    "Car_name=[]\n",
    "Kilometers_driven=[]\n",
    "Fuel=[]\n",
    "Transmission=[]\n",
    "Variant=[]"
   ]
  },
  {
   "cell_type": "code",
   "execution_count": 254,
   "metadata": {},
   "outputs": [],
   "source": [
    "#Collectig data .\n",
    "\n",
    "\n",
    "car_name=[] #collecting car name\n",
    "for i in driver.find_elements_by_xpath(\"//div[@class='gsc_col-xs-7 carsName']/a\")[0:200]:\n",
    "    car_name.append(i.text)\n",
    "time.sleep(4)\n",
    "\n",
    "\n",
    "Variant=[] #collecting car variant data\n",
    "for i in driver.find_elements_by_xpath(\"//div[@class='gsc_col-xs-7 carsName']/div[1]\")[0:200]:\n",
    "    Variant.append(i.text)\n",
    "time.sleep(4)\n",
    "\n",
    "\n",
    "Kilometers_driven=[] #collecting car kilometers dreiven \n",
    "for i in driver.find_elements_by_xpath(\"//div[@class='gsc_col-xs-7 carsName']/div[2]/span[1]\")[0:200]:\n",
    "    Kilometers_driven.append(i.text)\n",
    "time.sleep(4)\n",
    "\n",
    "Fuel=[] #which fuel is used for th car\n",
    "for i in driver.find_elements_by_xpath(\"//div[@class='gsc_col-xs-7 carsName']/div[2]/span[2]\")[0:200]:\n",
    "    Fuel.append(i.text)\n",
    "time.sleep(4)\n",
    "\n",
    "Transmission=[] #collecting car transmission data\n",
    "for i in driver.find_elements_by_xpath(\"//div[@class='gsc_col-xs-7 carsName']/div[2]/span[3]\")[0:200]:\n",
    "    Transmission.append(i.text)\n",
    "time.sleep(4)\n",
    "\n",
    "Price=[] #collecting car price\n",
    "for i in driver.find_elements_by_xpath(\"//div[@class='price gsc_col-xs-5 text-right']/span\")[0:200]:\n",
    "    Price.append(i.text)\n",
    "time.sleep(4)"
   ]
  },
  {
   "cell_type": "code",
   "execution_count": 255,
   "metadata": {},
   "outputs": [
    {
     "name": "stdout",
     "output_type": "stream",
     "text": [
      "Car_name 16\n",
      "Price 16\n",
      "Transmission 16\n",
      "Fuel 16\n",
      "Variant 16\n",
      "Kilometers_driven 16\n"
     ]
    }
   ],
   "source": [
    "print(\"Car_name\",len(car_name))\n",
    "print(\"Price\",len(Price))\n",
    "print(\"Transmission\",len(Transmission))\n",
    "print(\"Fuel\",len(Fuel))\n",
    "print(\"Variant\",len(Variant))\n",
    "print(\"Kilometers_driven\",len(Kilometers_driven))"
   ]
  },
  {
   "cell_type": "code",
   "execution_count": 256,
   "metadata": {},
   "outputs": [],
   "source": [
    "#creating data frame for the collected data.\n",
    "car_deko_10_b=pd.DataFrame({})\n",
    "car_deko_10_b['Price']=Price\n",
    "car_deko_10_b['Brand']=car_name\n",
    "car_deko_10_b['Kilometers_driven']=Kilometers_driven\n",
    "car_deko_10_b['Fuel']=Fuel\n",
    "car_deko_10_b['Transmission']=Transmission\n",
    "car_deko_10_b['Variant']=Variant\n",
    "#we know that the data is from third owner cars. \n",
    "#So we will add the third owner value for all the rows in data frama by creating a seperate column for owners. \n",
    "#Same we will do for location('Kolkata'.)\n",
    "car_deko_10_b['No_owners']=\"Thirdowner\"\n",
    "car_deko_10_b['Location']=\"Kolkata\"\n"
   ]
  },
  {
   "cell_type": "code",
   "execution_count": 257,
   "metadata": {},
   "outputs": [
    {
     "data": {
      "text/html": [
       "<div>\n",
       "<style scoped>\n",
       "    .dataframe tbody tr th:only-of-type {\n",
       "        vertical-align: middle;\n",
       "    }\n",
       "\n",
       "    .dataframe tbody tr th {\n",
       "        vertical-align: top;\n",
       "    }\n",
       "\n",
       "    .dataframe thead th {\n",
       "        text-align: right;\n",
       "    }\n",
       "</style>\n",
       "<table border=\"1\" class=\"dataframe\">\n",
       "  <thead>\n",
       "    <tr style=\"text-align: right;\">\n",
       "      <th></th>\n",
       "      <th>Price</th>\n",
       "      <th>Brand</th>\n",
       "      <th>Kilometers_driven</th>\n",
       "      <th>Fuel</th>\n",
       "      <th>Transmission</th>\n",
       "      <th>Variant</th>\n",
       "      <th>No_owners</th>\n",
       "      <th>Location</th>\n",
       "    </tr>\n",
       "  </thead>\n",
       "  <tbody>\n",
       "    <tr>\n",
       "      <th>0</th>\n",
       "      <td>1.65 Lakh</td>\n",
       "      <td>2010 Hyundai Santro Xing</td>\n",
       "      <td>46,000 kms</td>\n",
       "      <td>Petrol</td>\n",
       "      <td>Manual</td>\n",
       "      <td>GLS</td>\n",
       "      <td>Thirdowner</td>\n",
       "      <td>Kolkata</td>\n",
       "    </tr>\n",
       "    <tr>\n",
       "      <th>1</th>\n",
       "      <td>1.8 Lakh</td>\n",
       "      <td>2007 Honda City</td>\n",
       "      <td>51,050 kms</td>\n",
       "      <td>Petrol</td>\n",
       "      <td>Manual</td>\n",
       "      <td>1.5 GXI</td>\n",
       "      <td>Thirdowner</td>\n",
       "      <td>Kolkata</td>\n",
       "    </tr>\n",
       "    <tr>\n",
       "      <th>2</th>\n",
       "      <td>4.2 Lakh</td>\n",
       "      <td>2014 Maruti Swift Dzire</td>\n",
       "      <td>51,000 kms</td>\n",
       "      <td>Diesel</td>\n",
       "      <td>Manual</td>\n",
       "      <td>ZDI</td>\n",
       "      <td>Thirdowner</td>\n",
       "      <td>Kolkata</td>\n",
       "    </tr>\n",
       "    <tr>\n",
       "      <th>3</th>\n",
       "      <td>2.2 Lakh</td>\n",
       "      <td>2011 Hyundai i10</td>\n",
       "      <td>40,000 kms</td>\n",
       "      <td>Petrol</td>\n",
       "      <td>Manual</td>\n",
       "      <td>Sportz</td>\n",
       "      <td>Thirdowner</td>\n",
       "      <td>Kolkata</td>\n",
       "    </tr>\n",
       "    <tr>\n",
       "      <th>4</th>\n",
       "      <td>1.1 Lakh</td>\n",
       "      <td>2008 Hyundai Santro Xing</td>\n",
       "      <td>40,000 kms</td>\n",
       "      <td>Petrol</td>\n",
       "      <td>Manual</td>\n",
       "      <td>GLS</td>\n",
       "      <td>Thirdowner</td>\n",
       "      <td>Kolkata</td>\n",
       "    </tr>\n",
       "  </tbody>\n",
       "</table>\n",
       "</div>"
      ],
      "text/plain": [
       "       Price                     Brand Kilometers_driven    Fuel Transmission  \\\n",
       "0  1.65 Lakh  2010 Hyundai Santro Xing        46,000 kms  Petrol       Manual   \n",
       "1   1.8 Lakh           2007 Honda City        51,050 kms  Petrol       Manual   \n",
       "2   4.2 Lakh   2014 Maruti Swift Dzire        51,000 kms  Diesel       Manual   \n",
       "3   2.2 Lakh          2011 Hyundai i10        40,000 kms  Petrol       Manual   \n",
       "4   1.1 Lakh  2008 Hyundai Santro Xing        40,000 kms  Petrol       Manual   \n",
       "\n",
       "   Variant   No_owners Location  \n",
       "0      GLS  Thirdowner  Kolkata  \n",
       "1  1.5 GXI  Thirdowner  Kolkata  \n",
       "2      ZDI  Thirdowner  Kolkata  \n",
       "3   Sportz  Thirdowner  Kolkata  \n",
       "4      GLS  Thirdowner  Kolkata  "
      ]
     },
     "execution_count": 257,
     "metadata": {},
     "output_type": "execute_result"
    }
   ],
   "source": [
    "car_deko_10_b.head()"
   ]
  },
  {
   "cell_type": "code",
   "execution_count": 258,
   "metadata": {},
   "outputs": [],
   "source": [
    "#Let's concatenate Kolkata city scrapped data\n",
    "car_deko_Kolkata=pd.concat([car_deko_10,car_deko_10_a,car_deko_10_b])"
   ]
  },
  {
   "cell_type": "code",
   "execution_count": 259,
   "metadata": {},
   "outputs": [
    {
     "data": {
      "text/plain": [
       "(312, 8)"
      ]
     },
     "execution_count": 259,
     "metadata": {},
     "output_type": "execute_result"
    }
   ],
   "source": [
    "car_deko_Kolkata.shape"
   ]
  },
  {
   "cell_type": "code",
   "execution_count": null,
   "metadata": {},
   "outputs": [],
   "source": []
  },
  {
   "cell_type": "markdown",
   "metadata": {},
   "source": [
    "Let's concatenate till now scrapped data into a single data frame and save it as csv"
   ]
  },
  {
   "cell_type": "code",
   "execution_count": 265,
   "metadata": {},
   "outputs": [],
   "source": [
    "df_car_dekho_1=pd.concat([car_deko_Kolkata,car_deko_delhi,car_deko_Pune,car_deko_Mumbai,car_deko_bangalore,car_dekho_chennai,car_dekho_Hyderabad])"
   ]
  },
  {
   "cell_type": "code",
   "execution_count": 266,
   "metadata": {},
   "outputs": [
    {
     "data": {
      "text/plain": [
       "(3177, 8)"
      ]
     },
     "execution_count": 266,
     "metadata": {},
     "output_type": "execute_result"
    }
   ],
   "source": [
    "df_car_dekho_1.shape"
   ]
  },
  {
   "cell_type": "code",
   "execution_count": 267,
   "metadata": {},
   "outputs": [],
   "source": [
    "df_car_dekho_1.to_csv(\"car_dekho_scrapped_data_one.csv\")"
   ]
  },
  {
   "cell_type": "code",
   "execution_count": null,
   "metadata": {},
   "outputs": [],
   "source": []
  },
  {
   "cell_type": "code",
   "execution_count": 2,
   "metadata": {},
   "outputs": [],
   "source": [
    "df=pd.read_csv(\"car_dekho_scrapped_data_one.csv\")"
   ]
  },
  {
   "cell_type": "code",
   "execution_count": 4,
   "metadata": {},
   "outputs": [
    {
     "data": {
      "text/plain": [
       "Delhi        567\n",
       "Bangalore    537\n",
       "Mumbai       516\n",
       "Pune         458\n",
       "Chennai      402\n",
       "Hyderabad    385\n",
       "Kolkata      312\n",
       "Name: Location, dtype: int64"
      ]
     },
     "execution_count": 4,
     "metadata": {},
     "output_type": "execute_result"
    }
   ],
   "source": [
    "df[\"Location\"].value_counts()"
   ]
  },
  {
   "cell_type": "markdown",
   "metadata": {},
   "source": [
    "# Ahmedabad"
   ]
  },
  {
   "cell_type": "code",
   "execution_count": 6,
   "metadata": {},
   "outputs": [],
   "source": [
    "driver=webdriver.Firefox(\"C:\\geckodriver-v0.29.1-win64\")"
   ]
  },
  {
   "cell_type": "code",
   "execution_count": 7,
   "metadata": {},
   "outputs": [],
   "source": [
    "driver.get(\"https://www.cardekho.com/\") #getting the website"
   ]
  },
  {
   "cell_type": "code",
   "execution_count": 8,
   "metadata": {},
   "outputs": [],
   "source": [
    "#Selecting Used Cars option\n",
    "k=driver.find_element_by_xpath(\"//ul[@class='gsc-ta-clickWrap ']/li[2]\")\n",
    "k.click() "
   ]
  },
  {
   "cell_type": "code",
   "execution_count": 9,
   "metadata": {},
   "outputs": [],
   "source": [
    "#Selecting serach option\n",
    "driver.find_element_by_xpath(\"(//div[@class='modelname ']/div/ul/li[3]/button)[2]\").click()"
   ]
  },
  {
   "cell_type": "code",
   "execution_count": 10,
   "metadata": {},
   "outputs": [],
   "source": [
    "#Entering city name\n",
    "city=driver.find_element_by_id(\"autocomplete\")\n",
    "city.send_keys(\"Ahmedabad\")"
   ]
  },
  {
   "cell_type": "code",
   "execution_count": 11,
   "metadata": {},
   "outputs": [],
   "source": [
    "#selecting city from drop down\n",
    "driver.find_element_by_xpath(\"//div[@class='pac-container pac-logo']/div[1]\").click()"
   ]
  },
  {
   "cell_type": "code",
   "execution_count": 12,
   "metadata": {},
   "outputs": [],
   "source": [
    "#extracting data for the cars where owners is \"first owner\" from Ahmedabad city.\n",
    "#selecting the \"first onwer\" option from filters.\n",
    "driver.find_element_by_xpath(\"//ul[@class='checkBoxWrap sellerTypes ownerTypes']/li[1]\").click()"
   ]
  },
  {
   "cell_type": "code",
   "execution_count": 13,
   "metadata": {},
   "outputs": [],
   "source": [
    "#creating empty list for data to be collected.\n",
    "Price=[]\n",
    "Car_name=[]\n",
    "Kilometers_driven=[]\n",
    "Fuel=[]\n",
    "Transmission=[]\n",
    "Variant=[]"
   ]
  },
  {
   "cell_type": "code",
   "execution_count": 14,
   "metadata": {},
   "outputs": [],
   "source": [
    "#Collectig data .\n",
    "\n",
    "\n",
    "car_name=[] #collecting car name\n",
    "for i in driver.find_elements_by_xpath(\"//div[@class='gsc_col-xs-7 carsName']/a\")[0:200]:\n",
    "    car_name.append(i.text)\n",
    "time.sleep(4)\n",
    "\n",
    "\n",
    "Variant=[] #collecting car variant data\n",
    "for i in driver.find_elements_by_xpath(\"//div[@class='gsc_col-xs-7 carsName']/div[1]\")[0:200]:\n",
    "    Variant.append(i.text)\n",
    "time.sleep(4)\n",
    "\n",
    "\n",
    "Kilometers_driven=[] #collecting car kilometers dreiven \n",
    "for i in driver.find_elements_by_xpath(\"//div[@class='gsc_col-xs-7 carsName']/div[2]/span[1]\")[0:200]:\n",
    "    Kilometers_driven.append(i.text)\n",
    "time.sleep(4)\n",
    "\n",
    "Fuel=[] #which fuel is used for th car\n",
    "for i in driver.find_elements_by_xpath(\"//div[@class='gsc_col-xs-7 carsName']/div[2]/span[2]\")[0:200]:\n",
    "    Fuel.append(i.text)\n",
    "time.sleep(4)\n",
    "\n",
    "Transmission=[] #collecting car transmission data\n",
    "for i in driver.find_elements_by_xpath(\"//div[@class='gsc_col-xs-7 carsName']/div[2]/span[3]\")[0:200]:\n",
    "    Transmission.append(i.text)\n",
    "time.sleep(4)\n",
    "\n",
    "Price=[] #collecting car price\n",
    "for i in driver.find_elements_by_xpath(\"//div[@class='price gsc_col-xs-5 text-right']/span\")[0:200]:\n",
    "    Price.append(i.text)\n",
    "time.sleep(4)"
   ]
  },
  {
   "cell_type": "code",
   "execution_count": 15,
   "metadata": {},
   "outputs": [
    {
     "name": "stdout",
     "output_type": "stream",
     "text": [
      "Car_name 200\n",
      "Price 200\n",
      "Transmission 200\n",
      "Fuel 200\n",
      "Variant 200\n",
      "Kilometers_driven 200\n"
     ]
    }
   ],
   "source": [
    "print(\"Car_name\",len(car_name))\n",
    "print(\"Price\",len(Price))\n",
    "print(\"Transmission\",len(Transmission))\n",
    "print(\"Fuel\",len(Fuel))\n",
    "print(\"Variant\",len(Variant))\n",
    "print(\"Kilometers_driven\",len(Kilometers_driven))"
   ]
  },
  {
   "cell_type": "code",
   "execution_count": 16,
   "metadata": {},
   "outputs": [],
   "source": [
    "#creating data frame for the collected data.\n",
    "car_deko_11=pd.DataFrame({})\n",
    "car_deko_11['Price']=Price\n",
    "car_deko_11['Brand']=car_name\n",
    "car_deko_11['Kilometers_driven']=Kilometers_driven\n",
    "car_deko_11['Fuel']=Fuel\n",
    "car_deko_11['Transmission']=Transmission\n",
    "car_deko_11['Variant']=Variant\n",
    "#we know that the data is from first owner cars. \n",
    "#So we will add the first owner value for all the rows in data frama by creating a seperate column for owners. \n",
    "#Same we will do for location('Ahmedabad'.)\n",
    "car_deko_11['No_owners']=\"FirstOwner\"\n",
    "car_deko_11['Location']=\"Ahmedabad\""
   ]
  },
  {
   "cell_type": "code",
   "execution_count": 17,
   "metadata": {},
   "outputs": [
    {
     "data": {
      "text/html": [
       "<div>\n",
       "<style scoped>\n",
       "    .dataframe tbody tr th:only-of-type {\n",
       "        vertical-align: middle;\n",
       "    }\n",
       "\n",
       "    .dataframe tbody tr th {\n",
       "        vertical-align: top;\n",
       "    }\n",
       "\n",
       "    .dataframe thead th {\n",
       "        text-align: right;\n",
       "    }\n",
       "</style>\n",
       "<table border=\"1\" class=\"dataframe\">\n",
       "  <thead>\n",
       "    <tr style=\"text-align: right;\">\n",
       "      <th></th>\n",
       "      <th>Price</th>\n",
       "      <th>Brand</th>\n",
       "      <th>Kilometers_driven</th>\n",
       "      <th>Fuel</th>\n",
       "      <th>Transmission</th>\n",
       "      <th>Variant</th>\n",
       "      <th>No_owners</th>\n",
       "      <th>Location</th>\n",
       "    </tr>\n",
       "  </thead>\n",
       "  <tbody>\n",
       "    <tr>\n",
       "      <th>0</th>\n",
       "      <td>6.65 Lakh</td>\n",
       "      <td>2019 Maruti Swift Dzire</td>\n",
       "      <td>9,718 kms</td>\n",
       "      <td>Petrol</td>\n",
       "      <td>Manual</td>\n",
       "      <td>VXI 1.2</td>\n",
       "      <td>FirstOwner</td>\n",
       "      <td>Ahmedabad</td>\n",
       "    </tr>\n",
       "    <tr>\n",
       "      <th>1</th>\n",
       "      <td>3.6 Lakh</td>\n",
       "      <td>2016 Maruti Wagon R</td>\n",
       "      <td>81,674 kms</td>\n",
       "      <td>Petrol</td>\n",
       "      <td>Manual</td>\n",
       "      <td>VXI</td>\n",
       "      <td>FirstOwner</td>\n",
       "      <td>Ahmedabad</td>\n",
       "    </tr>\n",
       "    <tr>\n",
       "      <th>2</th>\n",
       "      <td>3.99 Lakh</td>\n",
       "      <td>2011 Honda City</td>\n",
       "      <td>38,647 kms</td>\n",
       "      <td>Petrol</td>\n",
       "      <td>Manual</td>\n",
       "      <td>1.5 V MT</td>\n",
       "      <td>FirstOwner</td>\n",
       "      <td>Ahmedabad</td>\n",
       "    </tr>\n",
       "    <tr>\n",
       "      <th>3</th>\n",
       "      <td>1.77 Lakh</td>\n",
       "      <td>2012 Maruti Alto K10</td>\n",
       "      <td>89,579 kms</td>\n",
       "      <td>Petrol</td>\n",
       "      <td>Manual</td>\n",
       "      <td>LXI</td>\n",
       "      <td>FirstOwner</td>\n",
       "      <td>Ahmedabad</td>\n",
       "    </tr>\n",
       "    <tr>\n",
       "      <th>4</th>\n",
       "      <td>4.22 Lakh</td>\n",
       "      <td>2019 Maruti S-Presso</td>\n",
       "      <td>24,230 kms</td>\n",
       "      <td>Petrol</td>\n",
       "      <td>Manual</td>\n",
       "      <td>VXI</td>\n",
       "      <td>FirstOwner</td>\n",
       "      <td>Ahmedabad</td>\n",
       "    </tr>\n",
       "  </tbody>\n",
       "</table>\n",
       "</div>"
      ],
      "text/plain": [
       "       Price                    Brand Kilometers_driven    Fuel Transmission  \\\n",
       "0  6.65 Lakh  2019 Maruti Swift Dzire         9,718 kms  Petrol       Manual   \n",
       "1   3.6 Lakh      2016 Maruti Wagon R        81,674 kms  Petrol       Manual   \n",
       "2  3.99 Lakh          2011 Honda City        38,647 kms  Petrol       Manual   \n",
       "3  1.77 Lakh     2012 Maruti Alto K10        89,579 kms  Petrol       Manual   \n",
       "4  4.22 Lakh     2019 Maruti S-Presso        24,230 kms  Petrol       Manual   \n",
       "\n",
       "    Variant   No_owners   Location  \n",
       "0   VXI 1.2  FirstOwner  Ahmedabad  \n",
       "1       VXI  FirstOwner  Ahmedabad  \n",
       "2  1.5 V MT  FirstOwner  Ahmedabad  \n",
       "3       LXI  FirstOwner  Ahmedabad  \n",
       "4       VXI  FirstOwner  Ahmedabad  "
      ]
     },
     "execution_count": 17,
     "metadata": {},
     "output_type": "execute_result"
    }
   ],
   "source": [
    "car_deko_11.head()"
   ]
  },
  {
   "cell_type": "code",
   "execution_count": null,
   "metadata": {},
   "outputs": [],
   "source": []
  },
  {
   "cell_type": "code",
   "execution_count": 18,
   "metadata": {},
   "outputs": [],
   "source": [
    "#Let's scrap second owner data"
   ]
  },
  {
   "cell_type": "code",
   "execution_count": 19,
   "metadata": {},
   "outputs": [],
   "source": [
    "#extracting data for the cars where owners is \"second owner\" from Ahemedabad city.\n",
    "#selecting the \"second onwer\" option from filters.\n",
    "driver.find_element_by_xpath(\"//ul[@class='checkBoxWrap sellerTypes ownerTypes']/li[2]\").click()"
   ]
  },
  {
   "cell_type": "code",
   "execution_count": 20,
   "metadata": {},
   "outputs": [],
   "source": [
    "#creating empty list for data to be collected.\n",
    "Price=[]\n",
    "Car_name=[]\n",
    "Kilometers_driven=[]\n",
    "Fuel=[]\n",
    "Transmission=[]\n",
    "Variant=[]"
   ]
  },
  {
   "cell_type": "code",
   "execution_count": 21,
   "metadata": {},
   "outputs": [],
   "source": [
    "#Collectig data .\n",
    "\n",
    "\n",
    "car_name=[] #collecting car name\n",
    "for i in driver.find_elements_by_xpath(\"//div[@class='gsc_col-xs-7 carsName']/a\")[0:200]:\n",
    "    car_name.append(i.text)\n",
    "time.sleep(4)\n",
    "\n",
    "\n",
    "Variant=[] #collecting car variant data\n",
    "for i in driver.find_elements_by_xpath(\"//div[@class='gsc_col-xs-7 carsName']/div[1]\")[0:200]:\n",
    "    Variant.append(i.text)\n",
    "time.sleep(4)\n",
    "\n",
    "\n",
    "Kilometers_driven=[] #collecting car kilometers dreiven \n",
    "for i in driver.find_elements_by_xpath(\"//div[@class='gsc_col-xs-7 carsName']/div[2]/span[1]\")[0:200]:\n",
    "    Kilometers_driven.append(i.text)\n",
    "time.sleep(4)\n",
    "\n",
    "Fuel=[] #which fuel is used for th car\n",
    "for i in driver.find_elements_by_xpath(\"//div[@class='gsc_col-xs-7 carsName']/div[2]/span[2]\")[0:200]:\n",
    "    Fuel.append(i.text)\n",
    "time.sleep(4)\n",
    "\n",
    "Transmission=[] #collecting car transmission data\n",
    "for i in driver.find_elements_by_xpath(\"//div[@class='gsc_col-xs-7 carsName']/div[2]/span[3]\")[0:200]:\n",
    "    Transmission.append(i.text)\n",
    "time.sleep(4)\n",
    "\n",
    "Price=[] #collecting car price\n",
    "for i in driver.find_elements_by_xpath(\"//div[@class='price gsc_col-xs-5 text-right']/span\")[0:200]:\n",
    "    Price.append(i.text)\n",
    "time.sleep(4)"
   ]
  },
  {
   "cell_type": "code",
   "execution_count": 22,
   "metadata": {},
   "outputs": [
    {
     "name": "stdout",
     "output_type": "stream",
     "text": [
      "Car_name 187\n",
      "Price 187\n",
      "Transmission 187\n",
      "Fuel 187\n",
      "Variant 187\n",
      "Kilometers_driven 187\n"
     ]
    }
   ],
   "source": [
    "print(\"Car_name\",len(car_name))\n",
    "print(\"Price\",len(Price))\n",
    "print(\"Transmission\",len(Transmission))\n",
    "print(\"Fuel\",len(Fuel))\n",
    "print(\"Variant\",len(Variant))\n",
    "print(\"Kilometers_driven\",len(Kilometers_driven))"
   ]
  },
  {
   "cell_type": "code",
   "execution_count": 23,
   "metadata": {},
   "outputs": [],
   "source": [
    "#creating data frame for the collected data.\n",
    "car_deko_11_a=pd.DataFrame({})\n",
    "car_deko_11_a['Price']=Price\n",
    "car_deko_11_a['Brand']=car_name\n",
    "car_deko_11_a['Kilometers_driven']=Kilometers_driven\n",
    "car_deko_11_a['Fuel']=Fuel\n",
    "car_deko_11_a['Transmission']=Transmission\n",
    "car_deko_11_a['Variant']=Variant\n",
    "#we know that the data is from second owner cars. \n",
    "#So we will add the second owner value for all the rows in data frama by creating a seperate column for owners. \n",
    "#Same we will do for location('Ahmedabad'.)\n",
    "car_deko_11_a['No_owners']=\"SecondOwner\"\n",
    "car_deko_11_a['Location']=\"Ahmedabad\""
   ]
  },
  {
   "cell_type": "code",
   "execution_count": 24,
   "metadata": {},
   "outputs": [
    {
     "data": {
      "text/html": [
       "<div>\n",
       "<style scoped>\n",
       "    .dataframe tbody tr th:only-of-type {\n",
       "        vertical-align: middle;\n",
       "    }\n",
       "\n",
       "    .dataframe tbody tr th {\n",
       "        vertical-align: top;\n",
       "    }\n",
       "\n",
       "    .dataframe thead th {\n",
       "        text-align: right;\n",
       "    }\n",
       "</style>\n",
       "<table border=\"1\" class=\"dataframe\">\n",
       "  <thead>\n",
       "    <tr style=\"text-align: right;\">\n",
       "      <th></th>\n",
       "      <th>Price</th>\n",
       "      <th>Brand</th>\n",
       "      <th>Kilometers_driven</th>\n",
       "      <th>Fuel</th>\n",
       "      <th>Transmission</th>\n",
       "      <th>Variant</th>\n",
       "      <th>No_owners</th>\n",
       "      <th>Location</th>\n",
       "    </tr>\n",
       "  </thead>\n",
       "  <tbody>\n",
       "    <tr>\n",
       "      <th>0</th>\n",
       "      <td>4.8 Lakh</td>\n",
       "      <td>2016 Nissan Terrano</td>\n",
       "      <td>74,431 kms</td>\n",
       "      <td>Diesel</td>\n",
       "      <td>Manual</td>\n",
       "      <td>XL Plus 85 PS</td>\n",
       "      <td>SecondOwner</td>\n",
       "      <td>Ahmedabad</td>\n",
       "    </tr>\n",
       "    <tr>\n",
       "      <th>1</th>\n",
       "      <td>2.8 Lakh</td>\n",
       "      <td>2013 Maruti Wagon R</td>\n",
       "      <td>85,416 kms</td>\n",
       "      <td>Petrol</td>\n",
       "      <td>Manual</td>\n",
       "      <td>LXI BS IV</td>\n",
       "      <td>SecondOwner</td>\n",
       "      <td>Ahmedabad</td>\n",
       "    </tr>\n",
       "    <tr>\n",
       "      <th>2</th>\n",
       "      <td>4.64 Lakh</td>\n",
       "      <td>2016 Maruti Swift</td>\n",
       "      <td>45,090 kms</td>\n",
       "      <td>Petrol</td>\n",
       "      <td>Manual</td>\n",
       "      <td>VXI Optional</td>\n",
       "      <td>SecondOwner</td>\n",
       "      <td>Ahmedabad</td>\n",
       "    </tr>\n",
       "    <tr>\n",
       "      <th>3</th>\n",
       "      <td>2.03 Lakh</td>\n",
       "      <td>2014 Maruti Alto 800</td>\n",
       "      <td>79,386 kms</td>\n",
       "      <td>Petrol</td>\n",
       "      <td>Manual</td>\n",
       "      <td>LXI</td>\n",
       "      <td>SecondOwner</td>\n",
       "      <td>Ahmedabad</td>\n",
       "    </tr>\n",
       "    <tr>\n",
       "      <th>4</th>\n",
       "      <td>6.7 Lakh</td>\n",
       "      <td>2013 Toyota Innova</td>\n",
       "      <td>94,754 kms</td>\n",
       "      <td>Diesel</td>\n",
       "      <td>Manual</td>\n",
       "      <td>2.5 VX (Diesel) 8 Seater</td>\n",
       "      <td>SecondOwner</td>\n",
       "      <td>Ahmedabad</td>\n",
       "    </tr>\n",
       "  </tbody>\n",
       "</table>\n",
       "</div>"
      ],
      "text/plain": [
       "       Price                 Brand Kilometers_driven    Fuel Transmission  \\\n",
       "0   4.8 Lakh   2016 Nissan Terrano        74,431 kms  Diesel       Manual   \n",
       "1   2.8 Lakh   2013 Maruti Wagon R        85,416 kms  Petrol       Manual   \n",
       "2  4.64 Lakh     2016 Maruti Swift        45,090 kms  Petrol       Manual   \n",
       "3  2.03 Lakh  2014 Maruti Alto 800        79,386 kms  Petrol       Manual   \n",
       "4   6.7 Lakh    2013 Toyota Innova        94,754 kms  Diesel       Manual   \n",
       "\n",
       "                    Variant    No_owners   Location  \n",
       "0             XL Plus 85 PS  SecondOwner  Ahmedabad  \n",
       "1                 LXI BS IV  SecondOwner  Ahmedabad  \n",
       "2              VXI Optional  SecondOwner  Ahmedabad  \n",
       "3                       LXI  SecondOwner  Ahmedabad  \n",
       "4  2.5 VX (Diesel) 8 Seater  SecondOwner  Ahmedabad  "
      ]
     },
     "execution_count": 24,
     "metadata": {},
     "output_type": "execute_result"
    }
   ],
   "source": [
    "car_deko_11_a.head()"
   ]
  },
  {
   "cell_type": "code",
   "execution_count": null,
   "metadata": {},
   "outputs": [],
   "source": []
  },
  {
   "cell_type": "code",
   "execution_count": 25,
   "metadata": {},
   "outputs": [],
   "source": [
    "#Let's scrap data for third owner cars"
   ]
  },
  {
   "cell_type": "code",
   "execution_count": 26,
   "metadata": {},
   "outputs": [],
   "source": [
    "#extracting data for the cars where owners is \"third owner\" from Ahmedabad city.\n",
    "#selecting the \"third onwer\" option from filters.\n",
    "driver.find_element_by_xpath(\"//ul[@class='checkBoxWrap sellerTypes ownerTypes']/li[3]\").click()"
   ]
  },
  {
   "cell_type": "code",
   "execution_count": 27,
   "metadata": {},
   "outputs": [],
   "source": [
    "#creating empty list for data to be collected.\n",
    "Price=[]\n",
    "Car_name=[]\n",
    "Kilometers_driven=[]\n",
    "Fuel=[]\n",
    "Transmission=[]\n",
    "Variant=[]"
   ]
  },
  {
   "cell_type": "code",
   "execution_count": 28,
   "metadata": {},
   "outputs": [],
   "source": [
    "#Collectig data .\n",
    "\n",
    "\n",
    "car_name=[] #collecting car name\n",
    "for i in driver.find_elements_by_xpath(\"//div[@class='gsc_col-xs-7 carsName']/a\")[0:200]:\n",
    "    car_name.append(i.text)\n",
    "time.sleep(4)\n",
    "\n",
    "\n",
    "Variant=[] #collecting car variant data\n",
    "for i in driver.find_elements_by_xpath(\"//div[@class='gsc_col-xs-7 carsName']/div[1]\")[0:200]:\n",
    "    Variant.append(i.text)\n",
    "time.sleep(4)\n",
    "\n",
    "\n",
    "Kilometers_driven=[] #collecting car kilometers dreiven \n",
    "for i in driver.find_elements_by_xpath(\"//div[@class='gsc_col-xs-7 carsName']/div[2]/span[1]\")[0:200]:\n",
    "    Kilometers_driven.append(i.text)\n",
    "time.sleep(4)\n",
    "\n",
    "Fuel=[] #which fuel is used for th car\n",
    "for i in driver.find_elements_by_xpath(\"//div[@class='gsc_col-xs-7 carsName']/div[2]/span[2]\")[0:200]:\n",
    "    Fuel.append(i.text)\n",
    "time.sleep(4)\n",
    "\n",
    "Transmission=[] #collecting car transmission data\n",
    "for i in driver.find_elements_by_xpath(\"//div[@class='gsc_col-xs-7 carsName']/div[2]/span[3]\")[0:200]:\n",
    "    Transmission.append(i.text)\n",
    "time.sleep(4)\n",
    "\n",
    "Price=[] #collecting car price\n",
    "for i in driver.find_elements_by_xpath(\"//div[@class='price gsc_col-xs-5 text-right']/span\")[0:200]:\n",
    "    Price.append(i.text)\n",
    "time.sleep(4)"
   ]
  },
  {
   "cell_type": "code",
   "execution_count": 29,
   "metadata": {},
   "outputs": [
    {
     "name": "stdout",
     "output_type": "stream",
     "text": [
      "Car_name 56\n",
      "Price 56\n",
      "Transmission 56\n",
      "Fuel 56\n",
      "Variant 56\n",
      "Kilometers_driven 56\n"
     ]
    }
   ],
   "source": [
    "print(\"Car_name\",len(car_name))\n",
    "print(\"Price\",len(Price))\n",
    "print(\"Transmission\",len(Transmission))\n",
    "print(\"Fuel\",len(Fuel))\n",
    "print(\"Variant\",len(Variant))\n",
    "print(\"Kilometers_driven\",len(Kilometers_driven))"
   ]
  },
  {
   "cell_type": "code",
   "execution_count": 30,
   "metadata": {},
   "outputs": [],
   "source": [
    "#creating data frame for the collected data.\n",
    "car_deko_11_b=pd.DataFrame({})\n",
    "car_deko_11_b['Price']=Price\n",
    "car_deko_11_b['Brand']=car_name\n",
    "car_deko_11_b['Kilometers_driven']=Kilometers_driven\n",
    "car_deko_11_b['Fuel']=Fuel\n",
    "car_deko_11_b['Transmission']=Transmission\n",
    "car_deko_11_b['Variant']=Variant\n",
    "#we know that the data is from third owner cars. \n",
    "#So we will add the third owner value for all the rows in data frama by creating a seperate column for owners. \n",
    "#Same we will do for location('Ahmedabad'.)\n",
    "car_deko_11_b['No_owners']=\"Thirdowner\"\n",
    "car_deko_11_b['Location']=\"Ahmedabad\""
   ]
  },
  {
   "cell_type": "code",
   "execution_count": 31,
   "metadata": {},
   "outputs": [],
   "source": [
    "#concatenate the Ahemedabad cars scrapped data\n",
    "car_dekho_Ahmedabad=pd.concat([car_deko_11,car_deko_11_a,car_deko_11_b])"
   ]
  },
  {
   "cell_type": "code",
   "execution_count": 32,
   "metadata": {},
   "outputs": [
    {
     "data": {
      "text/plain": [
       "(443, 8)"
      ]
     },
     "execution_count": 32,
     "metadata": {},
     "output_type": "execute_result"
    }
   ],
   "source": [
    "car_dekho_Ahmedabad.shape"
   ]
  },
  {
   "cell_type": "code",
   "execution_count": 33,
   "metadata": {},
   "outputs": [],
   "source": [
    "driver.close()"
   ]
  },
  {
   "cell_type": "markdown",
   "metadata": {},
   "source": [
    "# Shimla"
   ]
  },
  {
   "cell_type": "code",
   "execution_count": 34,
   "metadata": {},
   "outputs": [],
   "source": [
    "driver=webdriver.Firefox(\"C:\\geckodriver-v0.29.1-win64\")"
   ]
  },
  {
   "cell_type": "code",
   "execution_count": 35,
   "metadata": {},
   "outputs": [],
   "source": [
    "driver.get(\"https://www.cardekho.com/\") #getting the website"
   ]
  },
  {
   "cell_type": "code",
   "execution_count": 36,
   "metadata": {},
   "outputs": [],
   "source": [
    "#Selecting Used Cars option\n",
    "k=driver.find_element_by_xpath(\"//ul[@class='gsc-ta-clickWrap ']/li[2]\")\n",
    "k.click() "
   ]
  },
  {
   "cell_type": "code",
   "execution_count": 37,
   "metadata": {},
   "outputs": [],
   "source": [
    "#Selecting serach option\n",
    "driver.find_element_by_xpath(\"(//div[@class='modelname ']/div/ul/li[3]/button)[2]\").click()"
   ]
  },
  {
   "cell_type": "code",
   "execution_count": 38,
   "metadata": {},
   "outputs": [],
   "source": [
    "#Entering city name\n",
    "city=driver.find_element_by_id(\"autocomplete\")\n",
    "city.send_keys(\"Shimla\")"
   ]
  },
  {
   "cell_type": "code",
   "execution_count": 39,
   "metadata": {},
   "outputs": [],
   "source": [
    "#selecting city from drop down\n",
    "driver.find_element_by_xpath(\"//div[@class='pac-container pac-logo']/div[1]\").click()"
   ]
  },
  {
   "cell_type": "code",
   "execution_count": 40,
   "metadata": {},
   "outputs": [],
   "source": [
    "#extracting data for the cars where owners is \"first owner\" from shimla city.\n",
    "#selecting the \"first onwer\" option from filters.\n",
    "driver.find_element_by_xpath(\"//ul[@class='checkBoxWrap sellerTypes ownerTypes']/li[1]\").click()"
   ]
  },
  {
   "cell_type": "code",
   "execution_count": 41,
   "metadata": {},
   "outputs": [],
   "source": [
    "#creating empty list for data to be collected.\n",
    "Price=[]\n",
    "Car_name=[]\n",
    "Kilometers_driven=[]\n",
    "Fuel=[]\n",
    "Transmission=[]\n",
    "Variant=[]"
   ]
  },
  {
   "cell_type": "code",
   "execution_count": 42,
   "metadata": {},
   "outputs": [],
   "source": [
    "#Collectig data .\n",
    "\n",
    "\n",
    "car_name=[] #collecting car name\n",
    "for i in driver.find_elements_by_xpath(\"//div[@class='gsc_col-xs-7 carsName']/a\")[0:200]:\n",
    "    car_name.append(i.text)\n",
    "time.sleep(4)\n",
    "\n",
    "\n",
    "Variant=[] #collecting car variant data\n",
    "for i in driver.find_elements_by_xpath(\"//div[@class='gsc_col-xs-7 carsName']/div[1]\")[0:200]:\n",
    "    Variant.append(i.text)\n",
    "time.sleep(4)\n",
    "\n",
    "\n",
    "Kilometers_driven=[] #collecting car kilometers dreiven \n",
    "for i in driver.find_elements_by_xpath(\"//div[@class='gsc_col-xs-7 carsName']/div[2]/span[1]\")[0:200]:\n",
    "    Kilometers_driven.append(i.text)\n",
    "time.sleep(4)\n",
    "\n",
    "Fuel=[] #which fuel is used for th car\n",
    "for i in driver.find_elements_by_xpath(\"//div[@class='gsc_col-xs-7 carsName']/div[2]/span[2]\")[0:200]:\n",
    "    Fuel.append(i.text)\n",
    "time.sleep(4)\n",
    "\n",
    "Transmission=[] #collecting car transmission data\n",
    "for i in driver.find_elements_by_xpath(\"//div[@class='gsc_col-xs-7 carsName']/div[2]/span[3]\")[0:200]:\n",
    "    Transmission.append(i.text)\n",
    "time.sleep(4)\n",
    "\n",
    "Price=[] #collecting car price\n",
    "for i in driver.find_elements_by_xpath(\"//div[@class='price gsc_col-xs-5 text-right']/span\")[0:200]:\n",
    "    Price.append(i.text)\n",
    "time.sleep(4)"
   ]
  },
  {
   "cell_type": "code",
   "execution_count": 43,
   "metadata": {},
   "outputs": [
    {
     "name": "stdout",
     "output_type": "stream",
     "text": [
      "Car_name 12\n",
      "Price 12\n",
      "Transmission 12\n",
      "Fuel 12\n",
      "Variant 12\n",
      "Kilometers_driven 12\n"
     ]
    }
   ],
   "source": [
    "print(\"Car_name\",len(car_name))\n",
    "print(\"Price\",len(Price))\n",
    "print(\"Transmission\",len(Transmission))\n",
    "print(\"Fuel\",len(Fuel))\n",
    "print(\"Variant\",len(Variant))\n",
    "print(\"Kilometers_driven\",len(Kilometers_driven))"
   ]
  },
  {
   "cell_type": "code",
   "execution_count": 44,
   "metadata": {},
   "outputs": [],
   "source": [
    "#creating data frame for the collected data.\n",
    "car_deko_12=pd.DataFrame({})\n",
    "car_deko_12['Price']=Price\n",
    "car_deko_12['Brand']=car_name\n",
    "car_deko_12['Kilometers_driven']=Kilometers_driven\n",
    "car_deko_12['Fuel']=Fuel\n",
    "car_deko_12['Transmission']=Transmission\n",
    "car_deko_12['Variant']=Variant\n",
    "#we know that the data is from first owner cars. \n",
    "#So we will add the first owner value for all the rows in data frama by creating a seperate column for owners. \n",
    "#Same we will do for location('Shimla'.)\n",
    "car_deko_12['No_owners']=\"FirstOwner\"\n",
    "car_deko_12['Location']=\"Shimla\""
   ]
  },
  {
   "cell_type": "code",
   "execution_count": 45,
   "metadata": {},
   "outputs": [
    {
     "data": {
      "text/html": [
       "<div>\n",
       "<style scoped>\n",
       "    .dataframe tbody tr th:only-of-type {\n",
       "        vertical-align: middle;\n",
       "    }\n",
       "\n",
       "    .dataframe tbody tr th {\n",
       "        vertical-align: top;\n",
       "    }\n",
       "\n",
       "    .dataframe thead th {\n",
       "        text-align: right;\n",
       "    }\n",
       "</style>\n",
       "<table border=\"1\" class=\"dataframe\">\n",
       "  <thead>\n",
       "    <tr style=\"text-align: right;\">\n",
       "      <th></th>\n",
       "      <th>Price</th>\n",
       "      <th>Brand</th>\n",
       "      <th>Kilometers_driven</th>\n",
       "      <th>Fuel</th>\n",
       "      <th>Transmission</th>\n",
       "      <th>Variant</th>\n",
       "      <th>No_owners</th>\n",
       "      <th>Location</th>\n",
       "    </tr>\n",
       "  </thead>\n",
       "  <tbody>\n",
       "    <tr>\n",
       "      <th>0</th>\n",
       "      <td>7.5 Lakh</td>\n",
       "      <td>2015 Renault Duster</td>\n",
       "      <td>35,000 kms</td>\n",
       "      <td>Diesel</td>\n",
       "      <td>Manual</td>\n",
       "      <td>110PS Diesel RXZ Optional with Nav</td>\n",
       "      <td>FirstOwner</td>\n",
       "      <td>Shimla</td>\n",
       "    </tr>\n",
       "    <tr>\n",
       "      <th>1</th>\n",
       "      <td>5.9 Lakh</td>\n",
       "      <td>2012 Mahindra Scorpio</td>\n",
       "      <td>70,000 kms</td>\n",
       "      <td>Diesel</td>\n",
       "      <td>Automatic</td>\n",
       "      <td>VLS AT 2.2 mHAWK</td>\n",
       "      <td>FirstOwner</td>\n",
       "      <td>Shimla</td>\n",
       "    </tr>\n",
       "    <tr>\n",
       "      <th>2</th>\n",
       "      <td>14.5 Lakh</td>\n",
       "      <td>2018 Mahindra XUV500</td>\n",
       "      <td>50,000 kms</td>\n",
       "      <td>Diesel</td>\n",
       "      <td>Manual</td>\n",
       "      <td>W11 Option BSIV</td>\n",
       "      <td>FirstOwner</td>\n",
       "      <td>Shimla</td>\n",
       "    </tr>\n",
       "    <tr>\n",
       "      <th>3</th>\n",
       "      <td>1.5 Lakh</td>\n",
       "      <td>2013 Chevrolet Beat</td>\n",
       "      <td>1,00,000 kms</td>\n",
       "      <td>Diesel</td>\n",
       "      <td>Manual</td>\n",
       "      <td>Diesel</td>\n",
       "      <td>FirstOwner</td>\n",
       "      <td>Shimla</td>\n",
       "    </tr>\n",
       "    <tr>\n",
       "      <th>4</th>\n",
       "      <td>2.2 Lakh</td>\n",
       "      <td>2010 Hyundai i10</td>\n",
       "      <td>1,20,000 kms</td>\n",
       "      <td>Petrol</td>\n",
       "      <td>Manual</td>\n",
       "      <td>Sportz</td>\n",
       "      <td>FirstOwner</td>\n",
       "      <td>Shimla</td>\n",
       "    </tr>\n",
       "  </tbody>\n",
       "</table>\n",
       "</div>"
      ],
      "text/plain": [
       "       Price                  Brand Kilometers_driven    Fuel Transmission  \\\n",
       "0   7.5 Lakh    2015 Renault Duster        35,000 kms  Diesel       Manual   \n",
       "1   5.9 Lakh  2012 Mahindra Scorpio        70,000 kms  Diesel    Automatic   \n",
       "2  14.5 Lakh   2018 Mahindra XUV500        50,000 kms  Diesel       Manual   \n",
       "3   1.5 Lakh    2013 Chevrolet Beat      1,00,000 kms  Diesel       Manual   \n",
       "4   2.2 Lakh       2010 Hyundai i10      1,20,000 kms  Petrol       Manual   \n",
       "\n",
       "                              Variant   No_owners Location  \n",
       "0  110PS Diesel RXZ Optional with Nav  FirstOwner   Shimla  \n",
       "1                    VLS AT 2.2 mHAWK  FirstOwner   Shimla  \n",
       "2                     W11 Option BSIV  FirstOwner   Shimla  \n",
       "3                              Diesel  FirstOwner   Shimla  \n",
       "4                              Sportz  FirstOwner   Shimla  "
      ]
     },
     "execution_count": 45,
     "metadata": {},
     "output_type": "execute_result"
    }
   ],
   "source": [
    "car_deko_12.head()"
   ]
  },
  {
   "cell_type": "code",
   "execution_count": null,
   "metadata": {},
   "outputs": [],
   "source": []
  },
  {
   "cell_type": "code",
   "execution_count": 46,
   "metadata": {},
   "outputs": [],
   "source": [
    "#Let's scrap second owner cars data"
   ]
  },
  {
   "cell_type": "code",
   "execution_count": 47,
   "metadata": {},
   "outputs": [],
   "source": [
    "#extracting data for the cars where owners is \"second owner\" from shimla city.\n",
    "#selecting the \"second onwer\" option from filters.\n",
    "driver.find_element_by_xpath(\"//ul[@class='checkBoxWrap sellerTypes ownerTypes']/li[2]\").click()"
   ]
  },
  {
   "cell_type": "code",
   "execution_count": 48,
   "metadata": {},
   "outputs": [],
   "source": [
    "#creating empty list for data to be collected.\n",
    "Price=[]\n",
    "Car_name=[]\n",
    "Kilometers_driven=[]\n",
    "Fuel=[]\n",
    "Transmission=[]\n",
    "Variant=[]"
   ]
  },
  {
   "cell_type": "code",
   "execution_count": 49,
   "metadata": {},
   "outputs": [],
   "source": [
    "#Collectig data .\n",
    "\n",
    "\n",
    "car_name=[] #collecting car name\n",
    "for i in driver.find_elements_by_xpath(\"//div[@class='gsc_col-xs-7 carsName']/a\")[0:200]:\n",
    "    car_name.append(i.text)\n",
    "time.sleep(4)\n",
    "\n",
    "\n",
    "Variant=[] #collecting car variant data\n",
    "for i in driver.find_elements_by_xpath(\"//div[@class='gsc_col-xs-7 carsName']/div[1]\")[0:200]:\n",
    "    Variant.append(i.text)\n",
    "time.sleep(4)\n",
    "\n",
    "\n",
    "Kilometers_driven=[] #collecting car kilometers dreiven \n",
    "for i in driver.find_elements_by_xpath(\"//div[@class='gsc_col-xs-7 carsName']/div[2]/span[1]\")[0:200]:\n",
    "    Kilometers_driven.append(i.text)\n",
    "time.sleep(4)\n",
    "\n",
    "Fuel=[] #which fuel is used for th car\n",
    "for i in driver.find_elements_by_xpath(\"//div[@class='gsc_col-xs-7 carsName']/div[2]/span[2]\")[0:200]:\n",
    "    Fuel.append(i.text)\n",
    "time.sleep(4)\n",
    "\n",
    "Transmission=[] #collecting car transmission data\n",
    "for i in driver.find_elements_by_xpath(\"//div[@class='gsc_col-xs-7 carsName']/div[2]/span[3]\")[0:200]:\n",
    "    Transmission.append(i.text)\n",
    "time.sleep(4)\n",
    "\n",
    "Price=[] #collecting car price\n",
    "for i in driver.find_elements_by_xpath(\"//div[@class='price gsc_col-xs-5 text-right']/span\")[0:200]:\n",
    "    Price.append(i.text)\n",
    "time.sleep(4)"
   ]
  },
  {
   "cell_type": "code",
   "execution_count": 50,
   "metadata": {},
   "outputs": [
    {
     "name": "stdout",
     "output_type": "stream",
     "text": [
      "Car_name 8\n",
      "Price 8\n",
      "Transmission 8\n",
      "Fuel 8\n",
      "Variant 8\n",
      "Kilometers_driven 8\n"
     ]
    }
   ],
   "source": [
    "print(\"Car_name\",len(car_name))\n",
    "print(\"Price\",len(Price))\n",
    "print(\"Transmission\",len(Transmission))\n",
    "print(\"Fuel\",len(Fuel))\n",
    "print(\"Variant\",len(Variant))\n",
    "print(\"Kilometers_driven\",len(Kilometers_driven))"
   ]
  },
  {
   "cell_type": "code",
   "execution_count": 51,
   "metadata": {},
   "outputs": [],
   "source": [
    "#creating data frame for the collected data.\n",
    "car_deko_12_a=pd.DataFrame({})\n",
    "car_deko_12_a['Price']=Price\n",
    "car_deko_12_a['Brand']=car_name\n",
    "car_deko_12_a['Kilometers_driven']=Kilometers_driven\n",
    "car_deko_12_a['Fuel']=Fuel\n",
    "car_deko_12_a['Transmission']=Transmission\n",
    "car_deko_12_a['Variant']=Variant\n",
    "#we know that the data is from second owner cars. \n",
    "#So we will add the second owner value for all the rows in data frama by creating a seperate column for owners. \n",
    "#Same we will do for location('Shimla'.)\n",
    "car_deko_12_a['No_owners']=\"SecondOwner\"\n",
    "car_deko_12_a['Location']=\"Shimla\""
   ]
  },
  {
   "cell_type": "code",
   "execution_count": 52,
   "metadata": {},
   "outputs": [
    {
     "data": {
      "text/html": [
       "<div>\n",
       "<style scoped>\n",
       "    .dataframe tbody tr th:only-of-type {\n",
       "        vertical-align: middle;\n",
       "    }\n",
       "\n",
       "    .dataframe tbody tr th {\n",
       "        vertical-align: top;\n",
       "    }\n",
       "\n",
       "    .dataframe thead th {\n",
       "        text-align: right;\n",
       "    }\n",
       "</style>\n",
       "<table border=\"1\" class=\"dataframe\">\n",
       "  <thead>\n",
       "    <tr style=\"text-align: right;\">\n",
       "      <th></th>\n",
       "      <th>Price</th>\n",
       "      <th>Brand</th>\n",
       "      <th>Kilometers_driven</th>\n",
       "      <th>Fuel</th>\n",
       "      <th>Transmission</th>\n",
       "      <th>Variant</th>\n",
       "      <th>No_owners</th>\n",
       "      <th>Location</th>\n",
       "    </tr>\n",
       "  </thead>\n",
       "  <tbody>\n",
       "    <tr>\n",
       "      <th>0</th>\n",
       "      <td>5.5 Lakh</td>\n",
       "      <td>2016 Toyota Etios</td>\n",
       "      <td>1,00,000 kms</td>\n",
       "      <td>Diesel</td>\n",
       "      <td>Manual</td>\n",
       "      <td>GD</td>\n",
       "      <td>SecondOwner</td>\n",
       "      <td>Shimla</td>\n",
       "    </tr>\n",
       "    <tr>\n",
       "      <th>1</th>\n",
       "      <td>3.5 Lakh</td>\n",
       "      <td>2015 Volkswagen Polo</td>\n",
       "      <td>75,994 kms</td>\n",
       "      <td>Petrol</td>\n",
       "      <td>Manual</td>\n",
       "      <td>1.2 MPI Comfortline</td>\n",
       "      <td>SecondOwner</td>\n",
       "      <td>Shimla</td>\n",
       "    </tr>\n",
       "    <tr>\n",
       "      <th>2</th>\n",
       "      <td>2.5 Lakh</td>\n",
       "      <td>2010 Hyundai i20</td>\n",
       "      <td>1,20,000 kms</td>\n",
       "      <td>Petrol</td>\n",
       "      <td>Manual</td>\n",
       "      <td>1.2 Magna</td>\n",
       "      <td>SecondOwner</td>\n",
       "      <td>Shimla</td>\n",
       "    </tr>\n",
       "    <tr>\n",
       "      <th>3</th>\n",
       "      <td>90,000</td>\n",
       "      <td>2007 Maruti Wagon R</td>\n",
       "      <td>80,000 kms</td>\n",
       "      <td>Petrol</td>\n",
       "      <td>Manual</td>\n",
       "      <td>LXI Minor</td>\n",
       "      <td>SecondOwner</td>\n",
       "      <td>Shimla</td>\n",
       "    </tr>\n",
       "    <tr>\n",
       "      <th>4</th>\n",
       "      <td>65,000</td>\n",
       "      <td>2001 Maruti 800</td>\n",
       "      <td>60,000 kms</td>\n",
       "      <td>Petrol</td>\n",
       "      <td>Manual</td>\n",
       "      <td>DX</td>\n",
       "      <td>SecondOwner</td>\n",
       "      <td>Shimla</td>\n",
       "    </tr>\n",
       "  </tbody>\n",
       "</table>\n",
       "</div>"
      ],
      "text/plain": [
       "      Price                 Brand Kilometers_driven    Fuel Transmission  \\\n",
       "0  5.5 Lakh     2016 Toyota Etios      1,00,000 kms  Diesel       Manual   \n",
       "1  3.5 Lakh  2015 Volkswagen Polo        75,994 kms  Petrol       Manual   \n",
       "2  2.5 Lakh      2010 Hyundai i20      1,20,000 kms  Petrol       Manual   \n",
       "3    90,000   2007 Maruti Wagon R        80,000 kms  Petrol       Manual   \n",
       "4    65,000       2001 Maruti 800        60,000 kms  Petrol       Manual   \n",
       "\n",
       "               Variant    No_owners Location  \n",
       "0                   GD  SecondOwner   Shimla  \n",
       "1  1.2 MPI Comfortline  SecondOwner   Shimla  \n",
       "2            1.2 Magna  SecondOwner   Shimla  \n",
       "3            LXI Minor  SecondOwner   Shimla  \n",
       "4                   DX  SecondOwner   Shimla  "
      ]
     },
     "execution_count": 52,
     "metadata": {},
     "output_type": "execute_result"
    }
   ],
   "source": [
    "car_deko_12_a.head()"
   ]
  },
  {
   "cell_type": "code",
   "execution_count": null,
   "metadata": {},
   "outputs": [],
   "source": []
  },
  {
   "cell_type": "code",
   "execution_count": 53,
   "metadata": {},
   "outputs": [],
   "source": [
    "#Let's scrap third owner cars data"
   ]
  },
  {
   "cell_type": "code",
   "execution_count": 54,
   "metadata": {},
   "outputs": [],
   "source": [
    "#extracting data for the cars where owners is \"third owner\" from shimla city.\n",
    "#selecting the \"third onwer\" option from filters.\n",
    "driver.find_element_by_xpath(\"//ul[@class='checkBoxWrap sellerTypes ownerTypes']/li[3]\").click()"
   ]
  },
  {
   "cell_type": "code",
   "execution_count": 55,
   "metadata": {},
   "outputs": [],
   "source": [
    "#creating empty list for data to be collected.\n",
    "Price=[]\n",
    "Car_name=[]\n",
    "Kilometers_driven=[]\n",
    "Fuel=[]\n",
    "Transmission=[]\n",
    "Variant=[]"
   ]
  },
  {
   "cell_type": "code",
   "execution_count": 56,
   "metadata": {},
   "outputs": [],
   "source": [
    "#Collectig data .\n",
    "\n",
    "\n",
    "car_name=[] #collecting car name\n",
    "for i in driver.find_elements_by_xpath(\"//div[@class='gsc_col-xs-7 carsName']/a\")[0:200]:\n",
    "    car_name.append(i.text)\n",
    "time.sleep(4)\n",
    "\n",
    "\n",
    "Variant=[] #collecting car variant data\n",
    "for i in driver.find_elements_by_xpath(\"//div[@class='gsc_col-xs-7 carsName']/div[1]\")[0:200]:\n",
    "    Variant.append(i.text)\n",
    "time.sleep(4)\n",
    "\n",
    "\n",
    "Kilometers_driven=[] #collecting car kilometers dreiven \n",
    "for i in driver.find_elements_by_xpath(\"//div[@class='gsc_col-xs-7 carsName']/div[2]/span[1]\")[0:200]:\n",
    "    Kilometers_driven.append(i.text)\n",
    "time.sleep(4)\n",
    "\n",
    "Fuel=[] #which fuel is used for th car\n",
    "for i in driver.find_elements_by_xpath(\"//div[@class='gsc_col-xs-7 carsName']/div[2]/span[2]\")[0:200]:\n",
    "    Fuel.append(i.text)\n",
    "time.sleep(4)\n",
    "\n",
    "Transmission=[] #collecting car transmission data\n",
    "for i in driver.find_elements_by_xpath(\"//div[@class='gsc_col-xs-7 carsName']/div[2]/span[3]\")[0:200]:\n",
    "    Transmission.append(i.text)\n",
    "time.sleep(4)\n",
    "\n",
    "Price=[] #collecting car price\n",
    "for i in driver.find_elements_by_xpath(\"//div[@class='price gsc_col-xs-5 text-right']/span\")[0:200]:\n",
    "    Price.append(i.text)\n",
    "time.sleep(4)"
   ]
  },
  {
   "cell_type": "code",
   "execution_count": 57,
   "metadata": {},
   "outputs": [
    {
     "name": "stdout",
     "output_type": "stream",
     "text": [
      "Car_name 2\n",
      "Price 2\n",
      "Transmission 2\n",
      "Fuel 2\n",
      "Variant 2\n",
      "Kilometers_driven 2\n"
     ]
    }
   ],
   "source": [
    "print(\"Car_name\",len(car_name))\n",
    "print(\"Price\",len(Price))\n",
    "print(\"Transmission\",len(Transmission))\n",
    "print(\"Fuel\",len(Fuel))\n",
    "print(\"Variant\",len(Variant))\n",
    "print(\"Kilometers_driven\",len(Kilometers_driven))"
   ]
  },
  {
   "cell_type": "code",
   "execution_count": 58,
   "metadata": {},
   "outputs": [],
   "source": [
    "#creating data frame for the collected data.\n",
    "car_deko_12_b=pd.DataFrame({})\n",
    "car_deko_12_b['Price']=Price\n",
    "car_deko_12_b['Brand']=car_name\n",
    "car_deko_12_b['Kilometers_driven']=Kilometers_driven\n",
    "car_deko_12_b['Fuel']=Fuel\n",
    "car_deko_12_b['Transmission']=Transmission\n",
    "car_deko_12_b['Variant']=Variant\n",
    "#we know that the data is from third owner cars. \n",
    "#So we will add the third owner value for all the rows in data frama by creating a seperate column for owners. \n",
    "#Same we will do for location('Shimla'.)\n",
    "car_deko_12_b['No_owners']=\"Thirdowner\"\n",
    "car_deko_12_b['Location']=\"Shimla\""
   ]
  },
  {
   "cell_type": "code",
   "execution_count": 59,
   "metadata": {},
   "outputs": [
    {
     "data": {
      "text/html": [
       "<div>\n",
       "<style scoped>\n",
       "    .dataframe tbody tr th:only-of-type {\n",
       "        vertical-align: middle;\n",
       "    }\n",
       "\n",
       "    .dataframe tbody tr th {\n",
       "        vertical-align: top;\n",
       "    }\n",
       "\n",
       "    .dataframe thead th {\n",
       "        text-align: right;\n",
       "    }\n",
       "</style>\n",
       "<table border=\"1\" class=\"dataframe\">\n",
       "  <thead>\n",
       "    <tr style=\"text-align: right;\">\n",
       "      <th></th>\n",
       "      <th>Price</th>\n",
       "      <th>Brand</th>\n",
       "      <th>Kilometers_driven</th>\n",
       "      <th>Fuel</th>\n",
       "      <th>Transmission</th>\n",
       "      <th>Variant</th>\n",
       "      <th>No_owners</th>\n",
       "      <th>Location</th>\n",
       "    </tr>\n",
       "  </thead>\n",
       "  <tbody>\n",
       "    <tr>\n",
       "      <th>0</th>\n",
       "      <td>1.15 Lakh</td>\n",
       "      <td>2004 Maruti Alto</td>\n",
       "      <td>80,000 kms</td>\n",
       "      <td>Petrol</td>\n",
       "      <td>Manual</td>\n",
       "      <td>LX</td>\n",
       "      <td>Thirdowner</td>\n",
       "      <td>Shimla</td>\n",
       "    </tr>\n",
       "    <tr>\n",
       "      <th>1</th>\n",
       "      <td>60,000</td>\n",
       "      <td>2002 Maruti 800</td>\n",
       "      <td>15,000 kms</td>\n",
       "      <td>Petrol</td>\n",
       "      <td>Manual</td>\n",
       "      <td>AC</td>\n",
       "      <td>Thirdowner</td>\n",
       "      <td>Shimla</td>\n",
       "    </tr>\n",
       "  </tbody>\n",
       "</table>\n",
       "</div>"
      ],
      "text/plain": [
       "       Price             Brand Kilometers_driven    Fuel Transmission Variant  \\\n",
       "0  1.15 Lakh  2004 Maruti Alto        80,000 kms  Petrol       Manual      LX   \n",
       "1     60,000   2002 Maruti 800        15,000 kms  Petrol       Manual      AC   \n",
       "\n",
       "    No_owners Location  \n",
       "0  Thirdowner   Shimla  \n",
       "1  Thirdowner   Shimla  "
      ]
     },
     "execution_count": 59,
     "metadata": {},
     "output_type": "execute_result"
    }
   ],
   "source": [
    "car_deko_12_b.head()"
   ]
  },
  {
   "cell_type": "code",
   "execution_count": 60,
   "metadata": {},
   "outputs": [],
   "source": [
    "#let's concatenate scrapped data of Shimla\n",
    "car_dekho_Shimla=pd.concat([car_deko_12,car_deko_12_a,car_deko_12_b])"
   ]
  },
  {
   "cell_type": "code",
   "execution_count": 61,
   "metadata": {},
   "outputs": [
    {
     "data": {
      "text/plain": [
       "(22, 8)"
      ]
     },
     "execution_count": 61,
     "metadata": {},
     "output_type": "execute_result"
    }
   ],
   "source": [
    "car_dekho_Shimla.shape"
   ]
  },
  {
   "cell_type": "code",
   "execution_count": 62,
   "metadata": {},
   "outputs": [],
   "source": [
    "driver.close()"
   ]
  },
  {
   "cell_type": "code",
   "execution_count": null,
   "metadata": {},
   "outputs": [],
   "source": []
  },
  {
   "cell_type": "markdown",
   "metadata": {},
   "source": [
    "# Lucknow"
   ]
  },
  {
   "cell_type": "code",
   "execution_count": 63,
   "metadata": {},
   "outputs": [],
   "source": [
    "driver=webdriver.Firefox(\"C:\\geckodriver-v0.29.1-win64\")"
   ]
  },
  {
   "cell_type": "code",
   "execution_count": 64,
   "metadata": {},
   "outputs": [],
   "source": [
    "driver.get(\"https://www.cardekho.com/\") #getting the website"
   ]
  },
  {
   "cell_type": "code",
   "execution_count": 65,
   "metadata": {},
   "outputs": [],
   "source": [
    "#Selecting Used Cars option\n",
    "k=driver.find_element_by_xpath(\"//ul[@class='gsc-ta-clickWrap ']/li[2]\")\n",
    "k.click() "
   ]
  },
  {
   "cell_type": "code",
   "execution_count": 66,
   "metadata": {},
   "outputs": [],
   "source": [
    "#Selecting serach option\n",
    "driver.find_element_by_xpath(\"(//div[@class='modelname ']/div/ul/li[3]/button)[2]\").click()"
   ]
  },
  {
   "cell_type": "code",
   "execution_count": 67,
   "metadata": {},
   "outputs": [],
   "source": [
    "#Entering city name\n",
    "city=driver.find_element_by_id(\"autocomplete\")\n",
    "city.send_keys(\"Lucknow\")"
   ]
  },
  {
   "cell_type": "code",
   "execution_count": 68,
   "metadata": {},
   "outputs": [],
   "source": [
    "#selecting city from drop down\n",
    "driver.find_element_by_xpath(\"//div[@class='pac-container pac-logo']/div[1]\").click()"
   ]
  },
  {
   "cell_type": "code",
   "execution_count": 69,
   "metadata": {},
   "outputs": [],
   "source": [
    "#extracting data for the cars where owners is \"first owner\" from lucknow city.\n",
    "#selecting the \"first onwer\" option from filters.\n",
    "driver.find_element_by_xpath(\"//ul[@class='checkBoxWrap sellerTypes ownerTypes']/li[2]\").click()"
   ]
  },
  {
   "cell_type": "code",
   "execution_count": 70,
   "metadata": {},
   "outputs": [],
   "source": [
    "#creating empty list for data to be collected.\n",
    "Price=[]\n",
    "Car_name=[]\n",
    "Kilometers_driven=[]\n",
    "Fuel=[]\n",
    "Transmission=[]\n",
    "Variant=[]"
   ]
  },
  {
   "cell_type": "code",
   "execution_count": 71,
   "metadata": {},
   "outputs": [],
   "source": [
    "#Collectig data .\n",
    "\n",
    "\n",
    "car_name=[] #collecting car name\n",
    "for i in driver.find_elements_by_xpath(\"//div[@class='gsc_col-xs-7 carsName']/a\")[0:200]:\n",
    "    car_name.append(i.text)\n",
    "time.sleep(4)\n",
    "\n",
    "\n",
    "Variant=[] #collecting car variant data\n",
    "for i in driver.find_elements_by_xpath(\"//div[@class='gsc_col-xs-7 carsName']/div[1]\")[0:200]:\n",
    "    Variant.append(i.text)\n",
    "time.sleep(4)\n",
    "\n",
    "\n",
    "Kilometers_driven=[] #collecting car kilometers dreiven \n",
    "for i in driver.find_elements_by_xpath(\"//div[@class='gsc_col-xs-7 carsName']/div[2]/span[1]\")[0:200]:\n",
    "    Kilometers_driven.append(i.text)\n",
    "time.sleep(4)\n",
    "\n",
    "Fuel=[] #which fuel is used for th car\n",
    "for i in driver.find_elements_by_xpath(\"//div[@class='gsc_col-xs-7 carsName']/div[2]/span[2]\")[0:200]:\n",
    "    Fuel.append(i.text)\n",
    "time.sleep(4)\n",
    "\n",
    "Transmission=[] #collecting car transmission data\n",
    "for i in driver.find_elements_by_xpath(\"//div[@class='gsc_col-xs-7 carsName']/div[2]/span[3]\")[0:200]:\n",
    "    Transmission.append(i.text)\n",
    "time.sleep(4)\n",
    "\n",
    "Price=[] #collecting car price\n",
    "for i in driver.find_elements_by_xpath(\"//div[@class='price gsc_col-xs-5 text-right']/span\")[0:200]:\n",
    "    Price.append(i.text)\n",
    "time.sleep(4)"
   ]
  },
  {
   "cell_type": "code",
   "execution_count": 72,
   "metadata": {},
   "outputs": [
    {
     "name": "stdout",
     "output_type": "stream",
     "text": [
      "Car_name 200\n",
      "Price 200\n",
      "Transmission 200\n",
      "Fuel 200\n",
      "Variant 200\n",
      "Kilometers_driven 200\n"
     ]
    }
   ],
   "source": [
    "print(\"Car_name\",len(car_name))\n",
    "print(\"Price\",len(Price))\n",
    "print(\"Transmission\",len(Transmission))\n",
    "print(\"Fuel\",len(Fuel))\n",
    "print(\"Variant\",len(Variant))\n",
    "print(\"Kilometers_driven\",len(Kilometers_driven))"
   ]
  },
  {
   "cell_type": "code",
   "execution_count": 73,
   "metadata": {},
   "outputs": [],
   "source": [
    "#creating data frame for the collected data.\n",
    "car_deko_13=pd.DataFrame({})\n",
    "car_deko_13['Price']=Price\n",
    "car_deko_13['Brand']=car_name\n",
    "car_deko_13['Kilometers_driven']=Kilometers_driven\n",
    "car_deko_13['Fuel']=Fuel\n",
    "car_deko_13['Transmission']=Transmission\n",
    "car_deko_13['Variant']=Variant\n",
    "#we know that the data is from first owner cars. \n",
    "#So we will add the first owner value for all the rows in data frama by creating a seperate column for owners. \n",
    "#Same we will do for location('Lucknow'.)\n",
    "car_deko_13['No_owners']=\"FirstOwner\"\n",
    "car_deko_13['Location']=\"Lucknow\""
   ]
  },
  {
   "cell_type": "code",
   "execution_count": 74,
   "metadata": {},
   "outputs": [
    {
     "data": {
      "text/html": [
       "<div>\n",
       "<style scoped>\n",
       "    .dataframe tbody tr th:only-of-type {\n",
       "        vertical-align: middle;\n",
       "    }\n",
       "\n",
       "    .dataframe tbody tr th {\n",
       "        vertical-align: top;\n",
       "    }\n",
       "\n",
       "    .dataframe thead th {\n",
       "        text-align: right;\n",
       "    }\n",
       "</style>\n",
       "<table border=\"1\" class=\"dataframe\">\n",
       "  <thead>\n",
       "    <tr style=\"text-align: right;\">\n",
       "      <th></th>\n",
       "      <th>Price</th>\n",
       "      <th>Brand</th>\n",
       "      <th>Kilometers_driven</th>\n",
       "      <th>Fuel</th>\n",
       "      <th>Transmission</th>\n",
       "      <th>Variant</th>\n",
       "      <th>No_owners</th>\n",
       "      <th>Location</th>\n",
       "    </tr>\n",
       "  </thead>\n",
       "  <tbody>\n",
       "    <tr>\n",
       "      <th>0</th>\n",
       "      <td>3.87 Lakh</td>\n",
       "      <td>2017 Tata Zest</td>\n",
       "      <td>32,342 kms</td>\n",
       "      <td>Petrol</td>\n",
       "      <td>Manual</td>\n",
       "      <td>Revotron 1.2T XE</td>\n",
       "      <td>FirstOwner</td>\n",
       "      <td>Lucknow</td>\n",
       "    </tr>\n",
       "    <tr>\n",
       "      <th>1</th>\n",
       "      <td>5.24 Lakh</td>\n",
       "      <td>2017 Maruti Ignis</td>\n",
       "      <td>14,873 kms</td>\n",
       "      <td>Petrol</td>\n",
       "      <td>Manual</td>\n",
       "      <td>1.2 Zeta BSIV</td>\n",
       "      <td>FirstOwner</td>\n",
       "      <td>Lucknow</td>\n",
       "    </tr>\n",
       "    <tr>\n",
       "      <th>2</th>\n",
       "      <td>7.55 Lakh</td>\n",
       "      <td>2018 Maruti Ertiga</td>\n",
       "      <td>35,341 kms</td>\n",
       "      <td>Petrol</td>\n",
       "      <td>Manual</td>\n",
       "      <td>VXI Limited Edition</td>\n",
       "      <td>FirstOwner</td>\n",
       "      <td>Lucknow</td>\n",
       "    </tr>\n",
       "    <tr>\n",
       "      <th>3</th>\n",
       "      <td>4.19 Lakh</td>\n",
       "      <td>2016 Hyundai Grand i10</td>\n",
       "      <td>83,551 kms</td>\n",
       "      <td>Diesel</td>\n",
       "      <td>Manual</td>\n",
       "      <td>CRDi Sportz</td>\n",
       "      <td>FirstOwner</td>\n",
       "      <td>Lucknow</td>\n",
       "    </tr>\n",
       "    <tr>\n",
       "      <th>4</th>\n",
       "      <td>4.7 Lakh</td>\n",
       "      <td>2018 Hyundai Santro</td>\n",
       "      <td>13,751 kms</td>\n",
       "      <td>Petrol</td>\n",
       "      <td>Manual</td>\n",
       "      <td>Sportz</td>\n",
       "      <td>FirstOwner</td>\n",
       "      <td>Lucknow</td>\n",
       "    </tr>\n",
       "  </tbody>\n",
       "</table>\n",
       "</div>"
      ],
      "text/plain": [
       "       Price                   Brand Kilometers_driven    Fuel Transmission  \\\n",
       "0  3.87 Lakh          2017 Tata Zest        32,342 kms  Petrol       Manual   \n",
       "1  5.24 Lakh       2017 Maruti Ignis        14,873 kms  Petrol       Manual   \n",
       "2  7.55 Lakh      2018 Maruti Ertiga        35,341 kms  Petrol       Manual   \n",
       "3  4.19 Lakh  2016 Hyundai Grand i10        83,551 kms  Diesel       Manual   \n",
       "4   4.7 Lakh     2018 Hyundai Santro        13,751 kms  Petrol       Manual   \n",
       "\n",
       "               Variant   No_owners Location  \n",
       "0     Revotron 1.2T XE  FirstOwner  Lucknow  \n",
       "1        1.2 Zeta BSIV  FirstOwner  Lucknow  \n",
       "2  VXI Limited Edition  FirstOwner  Lucknow  \n",
       "3          CRDi Sportz  FirstOwner  Lucknow  \n",
       "4               Sportz  FirstOwner  Lucknow  "
      ]
     },
     "execution_count": 74,
     "metadata": {},
     "output_type": "execute_result"
    }
   ],
   "source": [
    "car_deko_13.head()"
   ]
  },
  {
   "cell_type": "code",
   "execution_count": null,
   "metadata": {},
   "outputs": [],
   "source": []
  },
  {
   "cell_type": "code",
   "execution_count": 75,
   "metadata": {},
   "outputs": [],
   "source": [
    "#Let's scrap second owner cars data"
   ]
  },
  {
   "cell_type": "code",
   "execution_count": 76,
   "metadata": {},
   "outputs": [],
   "source": [
    "#extracting data for the cars where owners is \"second owner\" from lucknow city.\n",
    "#selecting the \"second onwer\" option from filters.\n",
    "driver.find_element_by_xpath(\"//ul[@class='checkBoxWrap sellerTypes ownerTypes']/li[3]\").click()"
   ]
  },
  {
   "cell_type": "code",
   "execution_count": 77,
   "metadata": {},
   "outputs": [],
   "source": [
    "#creating empty list for data to be collected.\n",
    "Price=[]\n",
    "Car_name=[]\n",
    "Kilometers_driven=[]\n",
    "Fuel=[]\n",
    "Transmission=[]\n",
    "Variant=[]"
   ]
  },
  {
   "cell_type": "code",
   "execution_count": 78,
   "metadata": {},
   "outputs": [],
   "source": [
    "#Collectig data .\n",
    "\n",
    "\n",
    "car_name=[] #collecting car name\n",
    "for i in driver.find_elements_by_xpath(\"//div[@class='gsc_col-xs-7 carsName']/a\")[0:200]:\n",
    "    car_name.append(i.text)\n",
    "time.sleep(4)\n",
    "\n",
    "\n",
    "Variant=[] #collecting car variant data\n",
    "for i in driver.find_elements_by_xpath(\"//div[@class='gsc_col-xs-7 carsName']/div[1]\")[0:200]:\n",
    "    Variant.append(i.text)\n",
    "time.sleep(4)\n",
    "\n",
    "\n",
    "Kilometers_driven=[] #collecting car kilometers dreiven \n",
    "for i in driver.find_elements_by_xpath(\"//div[@class='gsc_col-xs-7 carsName']/div[2]/span[1]\")[0:200]:\n",
    "    Kilometers_driven.append(i.text)\n",
    "time.sleep(4)\n",
    "\n",
    "Fuel=[] #which fuel is used for th car\n",
    "for i in driver.find_elements_by_xpath(\"//div[@class='gsc_col-xs-7 carsName']/div[2]/span[2]\")[0:200]:\n",
    "    Fuel.append(i.text)\n",
    "time.sleep(4)\n",
    "\n",
    "Transmission=[] #collecting car transmission data\n",
    "for i in driver.find_elements_by_xpath(\"//div[@class='gsc_col-xs-7 carsName']/div[2]/span[3]\")[0:200]:\n",
    "    Transmission.append(i.text)\n",
    "time.sleep(4)\n",
    "\n",
    "Price=[] #collecting car price\n",
    "for i in driver.find_elements_by_xpath(\"//div[@class='price gsc_col-xs-5 text-right']/span\")[0:200]:\n",
    "    Price.append(i.text)\n",
    "time.sleep(4)"
   ]
  },
  {
   "cell_type": "code",
   "execution_count": 79,
   "metadata": {},
   "outputs": [
    {
     "name": "stdout",
     "output_type": "stream",
     "text": [
      "Car_name 54\n",
      "Price 54\n",
      "Transmission 54\n",
      "Fuel 54\n",
      "Variant 54\n",
      "Kilometers_driven 54\n"
     ]
    }
   ],
   "source": [
    "print(\"Car_name\",len(car_name))\n",
    "print(\"Price\",len(Price))\n",
    "print(\"Transmission\",len(Transmission))\n",
    "print(\"Fuel\",len(Fuel))\n",
    "print(\"Variant\",len(Variant))\n",
    "print(\"Kilometers_driven\",len(Kilometers_driven))"
   ]
  },
  {
   "cell_type": "code",
   "execution_count": 80,
   "metadata": {},
   "outputs": [],
   "source": [
    "#creating data frame for the collected data.\n",
    "car_deko_13_a=pd.DataFrame({})\n",
    "car_deko_13_a['Price']=Price\n",
    "car_deko_13_a['Brand']=car_name\n",
    "car_deko_13_a['Kilometers_driven']=Kilometers_driven\n",
    "car_deko_13_a['Fuel']=Fuel\n",
    "car_deko_13_a['Transmission']=Transmission\n",
    "car_deko_13_a['Variant']=Variant\n",
    "#we know that the data is from second owner cars. \n",
    "#So we will add the second owner value for all the rows in data frama by creating a seperate column for owners. \n",
    "#Same we will do for location('lucknow'.)\n",
    "car_deko_13_a['No_owners']=\"SecondOwner\"\n",
    "car_deko_13_a['Location']=\"Lucknow\""
   ]
  },
  {
   "cell_type": "code",
   "execution_count": 81,
   "metadata": {},
   "outputs": [
    {
     "data": {
      "text/html": [
       "<div>\n",
       "<style scoped>\n",
       "    .dataframe tbody tr th:only-of-type {\n",
       "        vertical-align: middle;\n",
       "    }\n",
       "\n",
       "    .dataframe tbody tr th {\n",
       "        vertical-align: top;\n",
       "    }\n",
       "\n",
       "    .dataframe thead th {\n",
       "        text-align: right;\n",
       "    }\n",
       "</style>\n",
       "<table border=\"1\" class=\"dataframe\">\n",
       "  <thead>\n",
       "    <tr style=\"text-align: right;\">\n",
       "      <th></th>\n",
       "      <th>Price</th>\n",
       "      <th>Brand</th>\n",
       "      <th>Kilometers_driven</th>\n",
       "      <th>Fuel</th>\n",
       "      <th>Transmission</th>\n",
       "      <th>Variant</th>\n",
       "      <th>No_owners</th>\n",
       "      <th>Location</th>\n",
       "    </tr>\n",
       "  </thead>\n",
       "  <tbody>\n",
       "    <tr>\n",
       "      <th>0</th>\n",
       "      <td>2.25 Lakh</td>\n",
       "      <td>2010 Maruti Wagon R</td>\n",
       "      <td>94,789 kms</td>\n",
       "      <td>Petrol</td>\n",
       "      <td>Manual</td>\n",
       "      <td>LXI BS IV</td>\n",
       "      <td>SecondOwner</td>\n",
       "      <td>Lucknow</td>\n",
       "    </tr>\n",
       "    <tr>\n",
       "      <th>1</th>\n",
       "      <td>35 Lakh</td>\n",
       "      <td>2013 BMW X6</td>\n",
       "      <td>68,000 kms</td>\n",
       "      <td>Diesel</td>\n",
       "      <td>Automatic</td>\n",
       "      <td>xDrive 40d</td>\n",
       "      <td>SecondOwner</td>\n",
       "      <td>Lucknow</td>\n",
       "    </tr>\n",
       "    <tr>\n",
       "      <th>2</th>\n",
       "      <td>5.5 Lakh</td>\n",
       "      <td>2013 Ford EcoSport</td>\n",
       "      <td>1,00,000 kms</td>\n",
       "      <td>Diesel</td>\n",
       "      <td>Manual</td>\n",
       "      <td>1.5 DV5 MT Ambiente</td>\n",
       "      <td>SecondOwner</td>\n",
       "      <td>Lucknow</td>\n",
       "    </tr>\n",
       "    <tr>\n",
       "      <th>3</th>\n",
       "      <td>2.5 Lakh</td>\n",
       "      <td>2013 Volkswagen Polo</td>\n",
       "      <td>79,971 kms</td>\n",
       "      <td>Diesel</td>\n",
       "      <td>Manual</td>\n",
       "      <td>Diesel Comfortline 1.2L</td>\n",
       "      <td>SecondOwner</td>\n",
       "      <td>Lucknow</td>\n",
       "    </tr>\n",
       "    <tr>\n",
       "      <th>4</th>\n",
       "      <td>3.25 Lakh</td>\n",
       "      <td>2011 Volkswagen Vento</td>\n",
       "      <td>80,993 kms</td>\n",
       "      <td>Diesel</td>\n",
       "      <td>Manual</td>\n",
       "      <td>Diesel Comfortline</td>\n",
       "      <td>SecondOwner</td>\n",
       "      <td>Lucknow</td>\n",
       "    </tr>\n",
       "  </tbody>\n",
       "</table>\n",
       "</div>"
      ],
      "text/plain": [
       "       Price                  Brand Kilometers_driven    Fuel Transmission  \\\n",
       "0  2.25 Lakh    2010 Maruti Wagon R        94,789 kms  Petrol       Manual   \n",
       "1    35 Lakh            2013 BMW X6        68,000 kms  Diesel    Automatic   \n",
       "2   5.5 Lakh     2013 Ford EcoSport      1,00,000 kms  Diesel       Manual   \n",
       "3   2.5 Lakh   2013 Volkswagen Polo        79,971 kms  Diesel       Manual   \n",
       "4  3.25 Lakh  2011 Volkswagen Vento        80,993 kms  Diesel       Manual   \n",
       "\n",
       "                   Variant    No_owners Location  \n",
       "0                LXI BS IV  SecondOwner  Lucknow  \n",
       "1               xDrive 40d  SecondOwner  Lucknow  \n",
       "2      1.5 DV5 MT Ambiente  SecondOwner  Lucknow  \n",
       "3  Diesel Comfortline 1.2L  SecondOwner  Lucknow  \n",
       "4       Diesel Comfortline  SecondOwner  Lucknow  "
      ]
     },
     "execution_count": 81,
     "metadata": {},
     "output_type": "execute_result"
    }
   ],
   "source": [
    "car_deko_13_a.head()"
   ]
  },
  {
   "cell_type": "code",
   "execution_count": null,
   "metadata": {},
   "outputs": [],
   "source": []
  },
  {
   "cell_type": "code",
   "execution_count": 82,
   "metadata": {},
   "outputs": [],
   "source": [
    "#Let's scrap third owner cars data"
   ]
  },
  {
   "cell_type": "code",
   "execution_count": 83,
   "metadata": {},
   "outputs": [],
   "source": [
    "#extracting data for the cars where owners is \"third owner\" from lucknow city.\n",
    "#selecting the \"third onwer\" option from filters.\n",
    "driver.find_element_by_xpath(\"//ul[@class='checkBoxWrap sellerTypes ownerTypes']/li[4]\").click()"
   ]
  },
  {
   "cell_type": "code",
   "execution_count": 84,
   "metadata": {},
   "outputs": [],
   "source": [
    "#creating empty list for data to be collected.\n",
    "Price=[]\n",
    "Car_name=[]\n",
    "Kilometers_driven=[]\n",
    "Fuel=[]\n",
    "Transmission=[]\n",
    "Variant=[]"
   ]
  },
  {
   "cell_type": "code",
   "execution_count": 85,
   "metadata": {},
   "outputs": [],
   "source": [
    "#Collectig data .\n",
    "\n",
    "\n",
    "car_name=[] #collecting car name\n",
    "for i in driver.find_elements_by_xpath(\"//div[@class='gsc_col-xs-7 carsName']/a\")[0:200]:\n",
    "    car_name.append(i.text)\n",
    "time.sleep(4)\n",
    "\n",
    "\n",
    "Variant=[] #collecting car variant data\n",
    "for i in driver.find_elements_by_xpath(\"//div[@class='gsc_col-xs-7 carsName']/div[1]\")[0:200]:\n",
    "    Variant.append(i.text)\n",
    "time.sleep(4)\n",
    "\n",
    "\n",
    "Kilometers_driven=[] #collecting car kilometers dreiven \n",
    "for i in driver.find_elements_by_xpath(\"//div[@class='gsc_col-xs-7 carsName']/div[2]/span[1]\")[0:200]:\n",
    "    Kilometers_driven.append(i.text)\n",
    "time.sleep(4)\n",
    "\n",
    "Fuel=[] #which fuel is used for th car\n",
    "for i in driver.find_elements_by_xpath(\"//div[@class='gsc_col-xs-7 carsName']/div[2]/span[2]\")[0:200]:\n",
    "    Fuel.append(i.text)\n",
    "time.sleep(4)\n",
    "\n",
    "Transmission=[] #collecting car transmission data\n",
    "for i in driver.find_elements_by_xpath(\"//div[@class='gsc_col-xs-7 carsName']/div[2]/span[3]\")[0:200]:\n",
    "    Transmission.append(i.text)\n",
    "time.sleep(4)\n",
    "\n",
    "Price=[] #collecting car price\n",
    "for i in driver.find_elements_by_xpath(\"//div[@class='price gsc_col-xs-5 text-right']/span\")[0:200]:\n",
    "    Price.append(i.text)\n",
    "time.sleep(4)"
   ]
  },
  {
   "cell_type": "code",
   "execution_count": 86,
   "metadata": {},
   "outputs": [
    {
     "name": "stdout",
     "output_type": "stream",
     "text": [
      "Car_name 21\n",
      "Price 21\n",
      "Transmission 21\n",
      "Fuel 21\n",
      "Variant 21\n",
      "Kilometers_driven 21\n"
     ]
    }
   ],
   "source": [
    "print(\"Car_name\",len(car_name))\n",
    "print(\"Price\",len(Price))\n",
    "print(\"Transmission\",len(Transmission))\n",
    "print(\"Fuel\",len(Fuel))\n",
    "print(\"Variant\",len(Variant))\n",
    "print(\"Kilometers_driven\",len(Kilometers_driven))"
   ]
  },
  {
   "cell_type": "code",
   "execution_count": 87,
   "metadata": {},
   "outputs": [],
   "source": [
    "#creating data frame for the collected data.\n",
    "car_deko_13_b=pd.DataFrame({})\n",
    "car_deko_13_b['Price']=Price\n",
    "car_deko_13_b['Brand']=car_name\n",
    "car_deko_13_b['Kilometers_driven']=Kilometers_driven\n",
    "car_deko_13_b['Fuel']=Fuel\n",
    "car_deko_13_b['Transmission']=Transmission\n",
    "car_deko_13_b['Variant']=Variant\n",
    "#we know that the data is from third owner cars. \n",
    "#So we will add the third owner value for all the rows in data frama by creating a seperate column for owners. \n",
    "#Same we will do for location('lucknow'.)\n",
    "car_deko_13_b['No_owners']=\"Thirdowner\"\n",
    "car_deko_13_b['Location']=\"Lucknow\""
   ]
  },
  {
   "cell_type": "code",
   "execution_count": 88,
   "metadata": {},
   "outputs": [
    {
     "data": {
      "text/html": [
       "<div>\n",
       "<style scoped>\n",
       "    .dataframe tbody tr th:only-of-type {\n",
       "        vertical-align: middle;\n",
       "    }\n",
       "\n",
       "    .dataframe tbody tr th {\n",
       "        vertical-align: top;\n",
       "    }\n",
       "\n",
       "    .dataframe thead th {\n",
       "        text-align: right;\n",
       "    }\n",
       "</style>\n",
       "<table border=\"1\" class=\"dataframe\">\n",
       "  <thead>\n",
       "    <tr style=\"text-align: right;\">\n",
       "      <th></th>\n",
       "      <th>Price</th>\n",
       "      <th>Brand</th>\n",
       "      <th>Kilometers_driven</th>\n",
       "      <th>Fuel</th>\n",
       "      <th>Transmission</th>\n",
       "      <th>Variant</th>\n",
       "      <th>No_owners</th>\n",
       "      <th>Location</th>\n",
       "    </tr>\n",
       "  </thead>\n",
       "  <tbody>\n",
       "    <tr>\n",
       "      <th>0</th>\n",
       "      <td>1 Lakh</td>\n",
       "      <td>2006 Maruti Swift</td>\n",
       "      <td>90,000 kms</td>\n",
       "      <td>Diesel</td>\n",
       "      <td>Manual</td>\n",
       "      <td>Vdi BSIII</td>\n",
       "      <td>Thirdowner</td>\n",
       "      <td>Lucknow</td>\n",
       "    </tr>\n",
       "    <tr>\n",
       "      <th>1</th>\n",
       "      <td>2 Lakh</td>\n",
       "      <td>2009 Maruti Ritz</td>\n",
       "      <td>76,000 kms</td>\n",
       "      <td>Diesel</td>\n",
       "      <td>Manual</td>\n",
       "      <td>VDi</td>\n",
       "      <td>Thirdowner</td>\n",
       "      <td>Lucknow</td>\n",
       "    </tr>\n",
       "    <tr>\n",
       "      <th>2</th>\n",
       "      <td>1.75 Lakh</td>\n",
       "      <td>2011 Fiat Grande Punto</td>\n",
       "      <td>60,000 kms</td>\n",
       "      <td>Diesel</td>\n",
       "      <td>Manual</td>\n",
       "      <td>1.3 Emotion (Diesel)</td>\n",
       "      <td>Thirdowner</td>\n",
       "      <td>Lucknow</td>\n",
       "    </tr>\n",
       "    <tr>\n",
       "      <th>3</th>\n",
       "      <td>3.5 Lakh</td>\n",
       "      <td>2012 Mahindra Scorpio</td>\n",
       "      <td>1,20,000 kms</td>\n",
       "      <td>Diesel</td>\n",
       "      <td>Manual</td>\n",
       "      <td>LX BSIV</td>\n",
       "      <td>Thirdowner</td>\n",
       "      <td>Lucknow</td>\n",
       "    </tr>\n",
       "    <tr>\n",
       "      <th>4</th>\n",
       "      <td>21.75 Lakh</td>\n",
       "      <td>2017 Mercedes-Benz GLA Class</td>\n",
       "      <td>79,500 kms</td>\n",
       "      <td>Diesel</td>\n",
       "      <td>Automatic</td>\n",
       "      <td>200 d Sport</td>\n",
       "      <td>Thirdowner</td>\n",
       "      <td>Lucknow</td>\n",
       "    </tr>\n",
       "  </tbody>\n",
       "</table>\n",
       "</div>"
      ],
      "text/plain": [
       "        Price                         Brand Kilometers_driven    Fuel  \\\n",
       "0      1 Lakh             2006 Maruti Swift        90,000 kms  Diesel   \n",
       "1      2 Lakh              2009 Maruti Ritz        76,000 kms  Diesel   \n",
       "2   1.75 Lakh        2011 Fiat Grande Punto        60,000 kms  Diesel   \n",
       "3    3.5 Lakh         2012 Mahindra Scorpio      1,20,000 kms  Diesel   \n",
       "4  21.75 Lakh  2017 Mercedes-Benz GLA Class        79,500 kms  Diesel   \n",
       "\n",
       "  Transmission               Variant   No_owners Location  \n",
       "0       Manual             Vdi BSIII  Thirdowner  Lucknow  \n",
       "1       Manual                   VDi  Thirdowner  Lucknow  \n",
       "2       Manual  1.3 Emotion (Diesel)  Thirdowner  Lucknow  \n",
       "3       Manual               LX BSIV  Thirdowner  Lucknow  \n",
       "4    Automatic           200 d Sport  Thirdowner  Lucknow  "
      ]
     },
     "execution_count": 88,
     "metadata": {},
     "output_type": "execute_result"
    }
   ],
   "source": [
    "car_deko_13_b.head()"
   ]
  },
  {
   "cell_type": "code",
   "execution_count": 90,
   "metadata": {},
   "outputs": [],
   "source": [
    "#Let's concatenate lucknow cars scrapped data\n",
    "car_dekho_Lucknow=pd.concat([car_deko_13,car_deko_13_a,car_deko_13_b])"
   ]
  },
  {
   "cell_type": "code",
   "execution_count": 91,
   "metadata": {},
   "outputs": [
    {
     "data": {
      "text/plain": [
       "(275, 8)"
      ]
     },
     "execution_count": 91,
     "metadata": {},
     "output_type": "execute_result"
    }
   ],
   "source": [
    "car_dekho_Lucknow.shape"
   ]
  },
  {
   "cell_type": "code",
   "execution_count": 92,
   "metadata": {},
   "outputs": [],
   "source": [
    "driver.close()"
   ]
  },
  {
   "cell_type": "code",
   "execution_count": null,
   "metadata": {},
   "outputs": [],
   "source": []
  },
  {
   "cell_type": "markdown",
   "metadata": {},
   "source": [
    "# Noida"
   ]
  },
  {
   "cell_type": "code",
   "execution_count": 93,
   "metadata": {},
   "outputs": [],
   "source": [
    "driver=webdriver.Firefox(\"C:\\geckodriver-v0.29.1-win64\")"
   ]
  },
  {
   "cell_type": "code",
   "execution_count": 94,
   "metadata": {},
   "outputs": [],
   "source": [
    "driver.get(\"https://www.cardekho.com/\") #getting the website"
   ]
  },
  {
   "cell_type": "code",
   "execution_count": 95,
   "metadata": {},
   "outputs": [],
   "source": [
    "#Selecting Used Cars option\n",
    "k=driver.find_element_by_xpath(\"//ul[@class='gsc-ta-clickWrap ']/li[2]\")\n",
    "k.click() "
   ]
  },
  {
   "cell_type": "code",
   "execution_count": 96,
   "metadata": {},
   "outputs": [],
   "source": [
    "#Selecting serach option\n",
    "driver.find_element_by_xpath(\"(//div[@class='modelname ']/div/ul/li[3]/button)[2]\").click()"
   ]
  },
  {
   "cell_type": "code",
   "execution_count": 97,
   "metadata": {},
   "outputs": [],
   "source": [
    "#Entering city name\n",
    "city=driver.find_element_by_id(\"autocomplete\")\n",
    "city.send_keys(\"Noida\")"
   ]
  },
  {
   "cell_type": "code",
   "execution_count": 98,
   "metadata": {},
   "outputs": [],
   "source": [
    "#selecting city from drop down\n",
    "driver.find_element_by_xpath(\"//div[@class='pac-container pac-logo']/div[1]\").click()"
   ]
  },
  {
   "cell_type": "code",
   "execution_count": 99,
   "metadata": {},
   "outputs": [],
   "source": [
    "#extracting data for the cars where owners is \"first owner\" from noida city.\n",
    "#selecting the \"first onwer\" option from filters.\n",
    "driver.find_element_by_xpath(\"//ul[@class='checkBoxWrap sellerTypes ownerTypes']/li[1]\").click()"
   ]
  },
  {
   "cell_type": "code",
   "execution_count": 102,
   "metadata": {},
   "outputs": [],
   "source": [
    "#creating empty list for data to be collected.\n",
    "Price=[]\n",
    "Car_name=[]\n",
    "Kilometers_driven=[]\n",
    "Fuel=[]\n",
    "Transmission=[]\n",
    "Variant=[]"
   ]
  },
  {
   "cell_type": "code",
   "execution_count": 103,
   "metadata": {},
   "outputs": [],
   "source": [
    "\n",
    "#Collectig data .\n",
    "\n",
    "\n",
    "car_name=[] #collecting car name\n",
    "for i in driver.find_elements_by_xpath(\"//div[@class='gsc_col-xs-7 carsName']/a\")[0:200]:\n",
    "    car_name.append(i.text)\n",
    "time.sleep(4)\n",
    "\n",
    "\n",
    "Variant=[] #collecting car variant data\n",
    "for i in driver.find_elements_by_xpath(\"//div[@class='gsc_col-xs-7 carsName']/div[1]\")[0:200]:\n",
    "    Variant.append(i.text)\n",
    "time.sleep(4)\n",
    "\n",
    "\n",
    "Kilometers_driven=[] #collecting car kilometers dreiven \n",
    "for i in driver.find_elements_by_xpath(\"//div[@class='gsc_col-xs-7 carsName']/div[2]/span[1]\")[0:200]:\n",
    "    Kilometers_driven.append(i.text)\n",
    "time.sleep(4)\n",
    "\n",
    "Fuel=[] #which fuel is used for th car\n",
    "for i in driver.find_elements_by_xpath(\"//div[@class='gsc_col-xs-7 carsName']/div[2]/span[2]\")[0:200]:\n",
    "    Fuel.append(i.text)\n",
    "time.sleep(4)\n",
    "\n",
    "Transmission=[] #collecting car transmission data\n",
    "for i in driver.find_elements_by_xpath(\"//div[@class='gsc_col-xs-7 carsName']/div[2]/span[3]\")[0:200]:\n",
    "    Transmission.append(i.text)\n",
    "time.sleep(4)\n",
    "\n",
    "Price=[] #collecting car price\n",
    "for i in driver.find_elements_by_xpath(\"//div[@class='price gsc_col-xs-5 text-right']/span\")[0:200]:\n",
    "    Price.append(i.text)\n",
    "time.sleep(4)"
   ]
  },
  {
   "cell_type": "code",
   "execution_count": 104,
   "metadata": {},
   "outputs": [
    {
     "name": "stdout",
     "output_type": "stream",
     "text": [
      "Car_name 200\n",
      "Price 200\n",
      "Transmission 200\n",
      "Fuel 200\n",
      "Variant 200\n",
      "Kilometers_driven 200\n"
     ]
    }
   ],
   "source": [
    "print(\"Car_name\",len(car_name))\n",
    "print(\"Price\",len(Price))\n",
    "print(\"Transmission\",len(Transmission))\n",
    "print(\"Fuel\",len(Fuel))\n",
    "print(\"Variant\",len(Variant))\n",
    "print(\"Kilometers_driven\",len(Kilometers_driven))"
   ]
  },
  {
   "cell_type": "code",
   "execution_count": 105,
   "metadata": {},
   "outputs": [],
   "source": [
    "#creating data frame for the collected data.\n",
    "car_deko_14=pd.DataFrame({})\n",
    "car_deko_14['Price']=Price\n",
    "car_deko_14['Brand']=car_name\n",
    "car_deko_14['Kilometers_driven']=Kilometers_driven\n",
    "car_deko_14['Fuel']=Fuel\n",
    "car_deko_14['Transmission']=Transmission\n",
    "car_deko_14['Variant']=Variant\n",
    "#we know that the data is from first owner cars. \n",
    "#So we will add the first owner value for all the rows in data frama by creating a seperate column for owners. \n",
    "#Same we will do for location('Noida'.)\n",
    "car_deko_14['No_owners']=\"FirstOwner\"\n",
    "car_deko_14['Location']=\"Noida\""
   ]
  },
  {
   "cell_type": "code",
   "execution_count": 106,
   "metadata": {},
   "outputs": [
    {
     "data": {
      "text/html": [
       "<div>\n",
       "<style scoped>\n",
       "    .dataframe tbody tr th:only-of-type {\n",
       "        vertical-align: middle;\n",
       "    }\n",
       "\n",
       "    .dataframe tbody tr th {\n",
       "        vertical-align: top;\n",
       "    }\n",
       "\n",
       "    .dataframe thead th {\n",
       "        text-align: right;\n",
       "    }\n",
       "</style>\n",
       "<table border=\"1\" class=\"dataframe\">\n",
       "  <thead>\n",
       "    <tr style=\"text-align: right;\">\n",
       "      <th></th>\n",
       "      <th>Price</th>\n",
       "      <th>Brand</th>\n",
       "      <th>Kilometers_driven</th>\n",
       "      <th>Fuel</th>\n",
       "      <th>Transmission</th>\n",
       "      <th>Variant</th>\n",
       "      <th>No_owners</th>\n",
       "      <th>Location</th>\n",
       "    </tr>\n",
       "  </thead>\n",
       "  <tbody>\n",
       "    <tr>\n",
       "      <th>0</th>\n",
       "      <td>6.7 Lakh</td>\n",
       "      <td>2018 Honda WR-V</td>\n",
       "      <td>61,372 kms</td>\n",
       "      <td>Diesel</td>\n",
       "      <td>Manual</td>\n",
       "      <td>i-DTEC S</td>\n",
       "      <td>FirstOwner</td>\n",
       "      <td>Noida</td>\n",
       "    </tr>\n",
       "    <tr>\n",
       "      <th>1</th>\n",
       "      <td>5.55 Lakh</td>\n",
       "      <td>2016 Maruti Ciaz</td>\n",
       "      <td>62,233 kms</td>\n",
       "      <td>Diesel</td>\n",
       "      <td>Manual</td>\n",
       "      <td>VDi Plus SHVS</td>\n",
       "      <td>FirstOwner</td>\n",
       "      <td>Noida</td>\n",
       "    </tr>\n",
       "    <tr>\n",
       "      <th>2</th>\n",
       "      <td>4.39 Lakh</td>\n",
       "      <td>2014 Toyota Etios</td>\n",
       "      <td>57,513 kms</td>\n",
       "      <td>Diesel</td>\n",
       "      <td>Manual</td>\n",
       "      <td>VD</td>\n",
       "      <td>FirstOwner</td>\n",
       "      <td>Noida</td>\n",
       "    </tr>\n",
       "    <tr>\n",
       "      <th>3</th>\n",
       "      <td>8.47 Lakh</td>\n",
       "      <td>2019 Maruti Vitara Brezza</td>\n",
       "      <td>49,697 kms</td>\n",
       "      <td>Diesel</td>\n",
       "      <td>Automatic</td>\n",
       "      <td>ZDi AMT</td>\n",
       "      <td>FirstOwner</td>\n",
       "      <td>Noida</td>\n",
       "    </tr>\n",
       "    <tr>\n",
       "      <th>4</th>\n",
       "      <td>6.39 Lakh</td>\n",
       "      <td>2016 Renault Duster</td>\n",
       "      <td>72,273 kms</td>\n",
       "      <td>Diesel</td>\n",
       "      <td>Automatic</td>\n",
       "      <td>110PS Diesel RxL AMT</td>\n",
       "      <td>FirstOwner</td>\n",
       "      <td>Noida</td>\n",
       "    </tr>\n",
       "  </tbody>\n",
       "</table>\n",
       "</div>"
      ],
      "text/plain": [
       "       Price                      Brand Kilometers_driven    Fuel  \\\n",
       "0   6.7 Lakh            2018 Honda WR-V        61,372 kms  Diesel   \n",
       "1  5.55 Lakh           2016 Maruti Ciaz        62,233 kms  Diesel   \n",
       "2  4.39 Lakh          2014 Toyota Etios        57,513 kms  Diesel   \n",
       "3  8.47 Lakh  2019 Maruti Vitara Brezza        49,697 kms  Diesel   \n",
       "4  6.39 Lakh        2016 Renault Duster        72,273 kms  Diesel   \n",
       "\n",
       "  Transmission               Variant   No_owners Location  \n",
       "0       Manual              i-DTEC S  FirstOwner    Noida  \n",
       "1       Manual         VDi Plus SHVS  FirstOwner    Noida  \n",
       "2       Manual                    VD  FirstOwner    Noida  \n",
       "3    Automatic               ZDi AMT  FirstOwner    Noida  \n",
       "4    Automatic  110PS Diesel RxL AMT  FirstOwner    Noida  "
      ]
     },
     "execution_count": 106,
     "metadata": {},
     "output_type": "execute_result"
    }
   ],
   "source": [
    "car_deko_14.head()"
   ]
  },
  {
   "cell_type": "code",
   "execution_count": null,
   "metadata": {},
   "outputs": [],
   "source": []
  },
  {
   "cell_type": "code",
   "execution_count": 107,
   "metadata": {},
   "outputs": [],
   "source": [
    "#Let's scrap second owner cars data"
   ]
  },
  {
   "cell_type": "code",
   "execution_count": 108,
   "metadata": {},
   "outputs": [],
   "source": [
    "#extracting data for the cars where owners is \"second owner\" from Noida city.\n",
    "#selecting the \"second onwer\" option from filters.\n",
    "driver.find_element_by_xpath(\"//ul[@class='checkBoxWrap sellerTypes ownerTypes']/li[2]\").click()"
   ]
  },
  {
   "cell_type": "code",
   "execution_count": 109,
   "metadata": {},
   "outputs": [],
   "source": [
    "#creating empty list for data to be collected.\n",
    "Price=[]\n",
    "Car_name=[]\n",
    "Kilometers_driven=[]\n",
    "Fuel=[]\n",
    "Transmission=[]\n",
    "Variant=[]"
   ]
  },
  {
   "cell_type": "code",
   "execution_count": 110,
   "metadata": {},
   "outputs": [],
   "source": [
    "#Collectig data .\n",
    "\n",
    "\n",
    "car_name=[] #collecting car name\n",
    "for i in driver.find_elements_by_xpath(\"//div[@class='gsc_col-xs-7 carsName']/a\")[0:200]:\n",
    "    car_name.append(i.text)\n",
    "time.sleep(4)\n",
    "\n",
    "\n",
    "Variant=[] #collecting car variant data\n",
    "for i in driver.find_elements_by_xpath(\"//div[@class='gsc_col-xs-7 carsName']/div[1]\")[0:200]:\n",
    "    Variant.append(i.text)\n",
    "time.sleep(4)\n",
    "\n",
    "\n",
    "Kilometers_driven=[] #collecting car kilometers dreiven \n",
    "for i in driver.find_elements_by_xpath(\"//div[@class='gsc_col-xs-7 carsName']/div[2]/span[1]\")[0:200]:\n",
    "    Kilometers_driven.append(i.text)\n",
    "time.sleep(4)\n",
    "\n",
    "Fuel=[] #which fuel is used for th car\n",
    "for i in driver.find_elements_by_xpath(\"//div[@class='gsc_col-xs-7 carsName']/div[2]/span[2]\")[0:200]:\n",
    "    Fuel.append(i.text)\n",
    "time.sleep(4)\n",
    "\n",
    "Transmission=[] #collecting car transmission data\n",
    "for i in driver.find_elements_by_xpath(\"//div[@class='gsc_col-xs-7 carsName']/div[2]/span[3]\")[0:200]:\n",
    "    Transmission.append(i.text)\n",
    "time.sleep(4)\n",
    "\n",
    "Price=[] #collecting car price\n",
    "for i in driver.find_elements_by_xpath(\"//div[@class='price gsc_col-xs-5 text-right']/span\")[0:200]:\n",
    "    Price.append(i.text)\n",
    "time.sleep(4)"
   ]
  },
  {
   "cell_type": "code",
   "execution_count": 111,
   "metadata": {},
   "outputs": [
    {
     "name": "stdout",
     "output_type": "stream",
     "text": [
      "Car_name 80\n",
      "Price 80\n",
      "Transmission 80\n",
      "Fuel 80\n",
      "Variant 80\n",
      "Kilometers_driven 80\n"
     ]
    }
   ],
   "source": [
    "print(\"Car_name\",len(car_name))\n",
    "print(\"Price\",len(Price))\n",
    "print(\"Transmission\",len(Transmission))\n",
    "print(\"Fuel\",len(Fuel))\n",
    "print(\"Variant\",len(Variant))\n",
    "print(\"Kilometers_driven\",len(Kilometers_driven))"
   ]
  },
  {
   "cell_type": "code",
   "execution_count": 112,
   "metadata": {},
   "outputs": [],
   "source": [
    "#creating data frame for the collected data.\n",
    "car_deko_14_a=pd.DataFrame({})\n",
    "car_deko_14_a['Price']=Price\n",
    "car_deko_14_a['Brand']=car_name\n",
    "car_deko_14_a['Kilometers_driven']=Kilometers_driven\n",
    "car_deko_14_a['Fuel']=Fuel\n",
    "car_deko_14_a['Transmission']=Transmission\n",
    "car_deko_14_a['Variant']=Variant\n",
    "#we know that the data is from second owner cars. \n",
    "#So we will add the second owner value for all the rows in data frama by creating a seperate column for owners. \n",
    "#Same we will do for location('Noida'.)\n",
    "car_deko_14_a['No_owners']=\"SecondOwner\"\n",
    "car_deko_14_a['Location']=\"Noida\"\n"
   ]
  },
  {
   "cell_type": "code",
   "execution_count": 113,
   "metadata": {},
   "outputs": [
    {
     "data": {
      "text/html": [
       "<div>\n",
       "<style scoped>\n",
       "    .dataframe tbody tr th:only-of-type {\n",
       "        vertical-align: middle;\n",
       "    }\n",
       "\n",
       "    .dataframe tbody tr th {\n",
       "        vertical-align: top;\n",
       "    }\n",
       "\n",
       "    .dataframe thead th {\n",
       "        text-align: right;\n",
       "    }\n",
       "</style>\n",
       "<table border=\"1\" class=\"dataframe\">\n",
       "  <thead>\n",
       "    <tr style=\"text-align: right;\">\n",
       "      <th></th>\n",
       "      <th>Price</th>\n",
       "      <th>Brand</th>\n",
       "      <th>Kilometers_driven</th>\n",
       "      <th>Fuel</th>\n",
       "      <th>Transmission</th>\n",
       "      <th>Variant</th>\n",
       "      <th>No_owners</th>\n",
       "      <th>Location</th>\n",
       "    </tr>\n",
       "  </thead>\n",
       "  <tbody>\n",
       "    <tr>\n",
       "      <th>0</th>\n",
       "      <td>4.18 Lakh</td>\n",
       "      <td>2013 Ford EcoSport</td>\n",
       "      <td>91,401 kms</td>\n",
       "      <td>Diesel</td>\n",
       "      <td>Manual</td>\n",
       "      <td>1.5 DV5 MT Titanium Optional</td>\n",
       "      <td>SecondOwner</td>\n",
       "      <td>Noida</td>\n",
       "    </tr>\n",
       "    <tr>\n",
       "      <th>1</th>\n",
       "      <td>4.32 Lakh</td>\n",
       "      <td>2014 Nissan Terrano</td>\n",
       "      <td>85,542 kms</td>\n",
       "      <td>Diesel</td>\n",
       "      <td>Manual</td>\n",
       "      <td>XV 110 PS</td>\n",
       "      <td>SecondOwner</td>\n",
       "      <td>Noida</td>\n",
       "    </tr>\n",
       "    <tr>\n",
       "      <th>2</th>\n",
       "      <td>7.38 Lakh</td>\n",
       "      <td>2018 Ford Ecosport</td>\n",
       "      <td>80,505 kms</td>\n",
       "      <td>Diesel</td>\n",
       "      <td>Manual</td>\n",
       "      <td>1.5 Diesel Titanium Plus BSIV</td>\n",
       "      <td>SecondOwner</td>\n",
       "      <td>Noida</td>\n",
       "    </tr>\n",
       "    <tr>\n",
       "      <th>3</th>\n",
       "      <td>7.55 Lakh</td>\n",
       "      <td>2013 Toyota Corolla Altis</td>\n",
       "      <td>51,307 kms</td>\n",
       "      <td>Diesel</td>\n",
       "      <td>Manual</td>\n",
       "      <td>D-4D JS</td>\n",
       "      <td>SecondOwner</td>\n",
       "      <td>Noida</td>\n",
       "    </tr>\n",
       "    <tr>\n",
       "      <th>4</th>\n",
       "      <td>2.74 Lakh</td>\n",
       "      <td>2012 Volkswagen Vento</td>\n",
       "      <td>75,505 kms</td>\n",
       "      <td>Diesel</td>\n",
       "      <td>Manual</td>\n",
       "      <td>Diesel Comfortline</td>\n",
       "      <td>SecondOwner</td>\n",
       "      <td>Noida</td>\n",
       "    </tr>\n",
       "  </tbody>\n",
       "</table>\n",
       "</div>"
      ],
      "text/plain": [
       "       Price                      Brand Kilometers_driven    Fuel  \\\n",
       "0  4.18 Lakh         2013 Ford EcoSport        91,401 kms  Diesel   \n",
       "1  4.32 Lakh        2014 Nissan Terrano        85,542 kms  Diesel   \n",
       "2  7.38 Lakh         2018 Ford Ecosport        80,505 kms  Diesel   \n",
       "3  7.55 Lakh  2013 Toyota Corolla Altis        51,307 kms  Diesel   \n",
       "4  2.74 Lakh      2012 Volkswagen Vento        75,505 kms  Diesel   \n",
       "\n",
       "  Transmission                        Variant    No_owners Location  \n",
       "0       Manual   1.5 DV5 MT Titanium Optional  SecondOwner    Noida  \n",
       "1       Manual                      XV 110 PS  SecondOwner    Noida  \n",
       "2       Manual  1.5 Diesel Titanium Plus BSIV  SecondOwner    Noida  \n",
       "3       Manual                        D-4D JS  SecondOwner    Noida  \n",
       "4       Manual             Diesel Comfortline  SecondOwner    Noida  "
      ]
     },
     "execution_count": 113,
     "metadata": {},
     "output_type": "execute_result"
    }
   ],
   "source": [
    "car_deko_14_a.head()"
   ]
  },
  {
   "cell_type": "code",
   "execution_count": null,
   "metadata": {},
   "outputs": [],
   "source": []
  },
  {
   "cell_type": "code",
   "execution_count": 114,
   "metadata": {},
   "outputs": [],
   "source": [
    "#Let's scrap third owner cars data"
   ]
  },
  {
   "cell_type": "code",
   "execution_count": 115,
   "metadata": {},
   "outputs": [],
   "source": [
    "#extracting data for the cars where owners is \"third owner\" from noida city.\n",
    "#selecting the \"third onwer\" option from filters.\n",
    "driver.find_element_by_xpath(\"//ul[@class='checkBoxWrap sellerTypes ownerTypes']/li[3]\").click()"
   ]
  },
  {
   "cell_type": "code",
   "execution_count": 116,
   "metadata": {},
   "outputs": [],
   "source": [
    "#creating empty list for data to be collected.\n",
    "Price=[]\n",
    "Car_name=[]\n",
    "Kilometers_driven=[]\n",
    "Fuel=[]\n",
    "Transmission=[]\n",
    "Variant=[]"
   ]
  },
  {
   "cell_type": "code",
   "execution_count": 117,
   "metadata": {},
   "outputs": [],
   "source": [
    "#Collectig data .\n",
    "\n",
    "\n",
    "car_name=[] #collecting car name\n",
    "for i in driver.find_elements_by_xpath(\"//div[@class='gsc_col-xs-7 carsName']/a\")[0:200]:\n",
    "    car_name.append(i.text)\n",
    "time.sleep(4)\n",
    "\n",
    "\n",
    "Variant=[] #collecting car variant data\n",
    "for i in driver.find_elements_by_xpath(\"//div[@class='gsc_col-xs-7 carsName']/div[1]\")[0:200]:\n",
    "    Variant.append(i.text)\n",
    "time.sleep(4)\n",
    "\n",
    "\n",
    "Kilometers_driven=[] #collecting car kilometers dreiven \n",
    "for i in driver.find_elements_by_xpath(\"//div[@class='gsc_col-xs-7 carsName']/div[2]/span[1]\")[0:200]:\n",
    "    Kilometers_driven.append(i.text)\n",
    "time.sleep(4)\n",
    "\n",
    "Fuel=[] #which fuel is used for th car\n",
    "for i in driver.find_elements_by_xpath(\"//div[@class='gsc_col-xs-7 carsName']/div[2]/span[2]\")[0:200]:\n",
    "    Fuel.append(i.text)\n",
    "time.sleep(4)\n",
    "\n",
    "Transmission=[] #collecting car transmission data\n",
    "for i in driver.find_elements_by_xpath(\"//div[@class='gsc_col-xs-7 carsName']/div[2]/span[3]\")[0:200]:\n",
    "    Transmission.append(i.text)\n",
    "time.sleep(4)\n",
    "\n",
    "Price=[] #collecting car price\n",
    "for i in driver.find_elements_by_xpath(\"//div[@class='price gsc_col-xs-5 text-right']/span\")[0:200]:\n",
    "    Price.append(i.text)\n",
    "time.sleep(4)"
   ]
  },
  {
   "cell_type": "code",
   "execution_count": 118,
   "metadata": {},
   "outputs": [
    {
     "name": "stdout",
     "output_type": "stream",
     "text": [
      "Car_name 11\n",
      "Price 11\n",
      "Transmission 11\n",
      "Fuel 11\n",
      "Variant 11\n",
      "Kilometers_driven 11\n"
     ]
    }
   ],
   "source": [
    "print(\"Car_name\",len(car_name))\n",
    "print(\"Price\",len(Price))\n",
    "print(\"Transmission\",len(Transmission))\n",
    "print(\"Fuel\",len(Fuel))\n",
    "print(\"Variant\",len(Variant))\n",
    "print(\"Kilometers_driven\",len(Kilometers_driven))"
   ]
  },
  {
   "cell_type": "code",
   "execution_count": 119,
   "metadata": {},
   "outputs": [],
   "source": [
    "#creating data frame for the collected data.\n",
    "car_deko_14_b=pd.DataFrame({})\n",
    "car_deko_14_b['Price']=Price\n",
    "car_deko_14_b['Brand']=car_name\n",
    "car_deko_14_b['Kilometers_driven']=Kilometers_driven\n",
    "car_deko_14_b['Fuel']=Fuel\n",
    "car_deko_14_b['Transmission']=Transmission\n",
    "car_deko_14_b['Variant']=Variant\n",
    "#we know that the data is from third owner cars. \n",
    "#So we will add the third owner value for all the rows in data frama by creating a seperate column for owners. \n",
    "#Same we will do for location('Noida'.)\n",
    "car_deko_14_b['No_owners']=\"ThirdOwner\"\n",
    "car_deko_14_b['Location']=\"Noida\""
   ]
  },
  {
   "cell_type": "code",
   "execution_count": 120,
   "metadata": {},
   "outputs": [
    {
     "data": {
      "text/html": [
       "<div>\n",
       "<style scoped>\n",
       "    .dataframe tbody tr th:only-of-type {\n",
       "        vertical-align: middle;\n",
       "    }\n",
       "\n",
       "    .dataframe tbody tr th {\n",
       "        vertical-align: top;\n",
       "    }\n",
       "\n",
       "    .dataframe thead th {\n",
       "        text-align: right;\n",
       "    }\n",
       "</style>\n",
       "<table border=\"1\" class=\"dataframe\">\n",
       "  <thead>\n",
       "    <tr style=\"text-align: right;\">\n",
       "      <th></th>\n",
       "      <th>Price</th>\n",
       "      <th>Brand</th>\n",
       "      <th>Kilometers_driven</th>\n",
       "      <th>Fuel</th>\n",
       "      <th>Transmission</th>\n",
       "      <th>Variant</th>\n",
       "      <th>No_owners</th>\n",
       "      <th>Location</th>\n",
       "    </tr>\n",
       "  </thead>\n",
       "  <tbody>\n",
       "    <tr>\n",
       "      <th>0</th>\n",
       "      <td>3.33 Lakh</td>\n",
       "      <td>2010 Toyota Corolla Altis</td>\n",
       "      <td>89,658 kms</td>\n",
       "      <td>Petrol</td>\n",
       "      <td>Automatic</td>\n",
       "      <td>1.8 VL AT</td>\n",
       "      <td>ThirdOwner</td>\n",
       "      <td>Noida</td>\n",
       "    </tr>\n",
       "    <tr>\n",
       "      <th>1</th>\n",
       "      <td>4.36 Lakh</td>\n",
       "      <td>2017 Maruti Swift</td>\n",
       "      <td>63,614 kms</td>\n",
       "      <td>Petrol</td>\n",
       "      <td>Manual</td>\n",
       "      <td>LXI Option</td>\n",
       "      <td>ThirdOwner</td>\n",
       "      <td>Noida</td>\n",
       "    </tr>\n",
       "    <tr>\n",
       "      <th>2</th>\n",
       "      <td>1.8 Lakh</td>\n",
       "      <td>2010 Toyota Corolla Altis</td>\n",
       "      <td>77,458 kms</td>\n",
       "      <td>Petrol</td>\n",
       "      <td>Manual</td>\n",
       "      <td>1.8 J</td>\n",
       "      <td>ThirdOwner</td>\n",
       "      <td>Noida</td>\n",
       "    </tr>\n",
       "    <tr>\n",
       "      <th>3</th>\n",
       "      <td>15.75 Lakh</td>\n",
       "      <td>2013 Mercedes-Benz E-Class</td>\n",
       "      <td>63,000 kms</td>\n",
       "      <td>Diesel</td>\n",
       "      <td>Automatic</td>\n",
       "      <td>E250 CDI Avantgarde</td>\n",
       "      <td>ThirdOwner</td>\n",
       "      <td>Noida</td>\n",
       "    </tr>\n",
       "    <tr>\n",
       "      <th>4</th>\n",
       "      <td>7.5 Lakh</td>\n",
       "      <td>2008 Mercedes-Benz New C-Class</td>\n",
       "      <td>1,00,000 kms</td>\n",
       "      <td>Petrol</td>\n",
       "      <td>Automatic</td>\n",
       "      <td>C 200 Kompressor Elegance AT</td>\n",
       "      <td>ThirdOwner</td>\n",
       "      <td>Noida</td>\n",
       "    </tr>\n",
       "  </tbody>\n",
       "</table>\n",
       "</div>"
      ],
      "text/plain": [
       "        Price                           Brand Kilometers_driven    Fuel  \\\n",
       "0   3.33 Lakh       2010 Toyota Corolla Altis        89,658 kms  Petrol   \n",
       "1   4.36 Lakh               2017 Maruti Swift        63,614 kms  Petrol   \n",
       "2    1.8 Lakh       2010 Toyota Corolla Altis        77,458 kms  Petrol   \n",
       "3  15.75 Lakh      2013 Mercedes-Benz E-Class        63,000 kms  Diesel   \n",
       "4    7.5 Lakh  2008 Mercedes-Benz New C-Class      1,00,000 kms  Petrol   \n",
       "\n",
       "  Transmission                       Variant   No_owners Location  \n",
       "0    Automatic                     1.8 VL AT  ThirdOwner    Noida  \n",
       "1       Manual                    LXI Option  ThirdOwner    Noida  \n",
       "2       Manual                         1.8 J  ThirdOwner    Noida  \n",
       "3    Automatic           E250 CDI Avantgarde  ThirdOwner    Noida  \n",
       "4    Automatic  C 200 Kompressor Elegance AT  ThirdOwner    Noida  "
      ]
     },
     "execution_count": 120,
     "metadata": {},
     "output_type": "execute_result"
    }
   ],
   "source": [
    "car_deko_14_b.head()"
   ]
  },
  {
   "cell_type": "code",
   "execution_count": null,
   "metadata": {},
   "outputs": [],
   "source": []
  },
  {
   "cell_type": "code",
   "execution_count": 122,
   "metadata": {},
   "outputs": [],
   "source": [
    "#Let's concatenate all Noida cars scrapped data\n",
    "car_dekho_Noida=pd.concat([car_deko_14,car_deko_14_a,car_deko_14_b])"
   ]
  },
  {
   "cell_type": "code",
   "execution_count": 123,
   "metadata": {},
   "outputs": [
    {
     "data": {
      "text/plain": [
       "(291, 8)"
      ]
     },
     "execution_count": 123,
     "metadata": {},
     "output_type": "execute_result"
    }
   ],
   "source": [
    "car_dekho_Noida.shape"
   ]
  },
  {
   "cell_type": "code",
   "execution_count": 124,
   "metadata": {},
   "outputs": [],
   "source": [
    "driver.close()"
   ]
  },
  {
   "cell_type": "code",
   "execution_count": null,
   "metadata": {},
   "outputs": [],
   "source": []
  },
  {
   "cell_type": "markdown",
   "metadata": {},
   "source": [
    "# Chandigarh"
   ]
  },
  {
   "cell_type": "code",
   "execution_count": 125,
   "metadata": {},
   "outputs": [],
   "source": [
    "driver=webdriver.Firefox(\"C:\\geckodriver-v0.29.1-win64\")"
   ]
  },
  {
   "cell_type": "code",
   "execution_count": 126,
   "metadata": {},
   "outputs": [],
   "source": [
    "driver.get(\"https://www.cardekho.com/\") #getting the website"
   ]
  },
  {
   "cell_type": "code",
   "execution_count": 127,
   "metadata": {},
   "outputs": [],
   "source": [
    "#Selecting Used Cars option\n",
    "k=driver.find_element_by_xpath(\"//ul[@class='gsc-ta-clickWrap ']/li[2]\")\n",
    "k.click() "
   ]
  },
  {
   "cell_type": "code",
   "execution_count": 128,
   "metadata": {},
   "outputs": [],
   "source": [
    "#Selecting serach option\n",
    "driver.find_element_by_xpath(\"(//div[@class='modelname ']/div/ul/li[3]/button)[2]\").click()"
   ]
  },
  {
   "cell_type": "code",
   "execution_count": 129,
   "metadata": {},
   "outputs": [],
   "source": [
    "#Entering city name\n",
    "city=driver.find_element_by_id(\"autocomplete\")\n",
    "city.send_keys(\"Chandigarh\")"
   ]
  },
  {
   "cell_type": "code",
   "execution_count": 130,
   "metadata": {},
   "outputs": [],
   "source": [
    "#selecting city from drop down\n",
    "driver.find_element_by_xpath(\"//div[@class='pac-container pac-logo']/div[1]\").click()"
   ]
  },
  {
   "cell_type": "code",
   "execution_count": 131,
   "metadata": {},
   "outputs": [],
   "source": [
    "#extracting data for the cars where owners is \"first owner\" from chandigargh city.\n",
    "#selecting the \"first onwer\" option from filters.\n",
    "driver.find_element_by_xpath(\"//ul[@class='checkBoxWrap sellerTypes ownerTypes']/li[2]\").click()"
   ]
  },
  {
   "cell_type": "code",
   "execution_count": 132,
   "metadata": {},
   "outputs": [],
   "source": [
    "#creating empty list for data to be collected.\n",
    "Price=[]\n",
    "Car_name=[]\n",
    "Kilometers_driven=[]\n",
    "Fuel=[]\n",
    "Transmission=[]\n",
    "Variant=[]"
   ]
  },
  {
   "cell_type": "code",
   "execution_count": 133,
   "metadata": {},
   "outputs": [],
   "source": [
    "#Collectig data .\n",
    "\n",
    "\n",
    "car_name=[] #collecting car name\n",
    "for i in driver.find_elements_by_xpath(\"//div[@class='gsc_col-xs-7 carsName']/a\")[0:200]:\n",
    "    car_name.append(i.text)\n",
    "time.sleep(4)\n",
    "\n",
    "\n",
    "Variant=[] #collecting car variant data\n",
    "for i in driver.find_elements_by_xpath(\"//div[@class='gsc_col-xs-7 carsName']/div[1]\")[0:200]:\n",
    "    Variant.append(i.text)\n",
    "time.sleep(4)\n",
    "\n",
    "\n",
    "Kilometers_driven=[] #collecting car kilometers dreiven \n",
    "for i in driver.find_elements_by_xpath(\"//div[@class='gsc_col-xs-7 carsName']/div[2]/span[1]\")[0:200]:\n",
    "    Kilometers_driven.append(i.text)\n",
    "time.sleep(4)\n",
    "\n",
    "Fuel=[] #which fuel is used for th car\n",
    "for i in driver.find_elements_by_xpath(\"//div[@class='gsc_col-xs-7 carsName']/div[2]/span[2]\")[0:200]:\n",
    "    Fuel.append(i.text)\n",
    "time.sleep(4)\n",
    "\n",
    "Transmission=[] #collecting car transmission data\n",
    "for i in driver.find_elements_by_xpath(\"//div[@class='gsc_col-xs-7 carsName']/div[2]/span[3]\")[0:200]:\n",
    "    Transmission.append(i.text)\n",
    "time.sleep(4)\n",
    "\n",
    "Price=[] #collecting car price\n",
    "for i in driver.find_elements_by_xpath(\"//div[@class='price gsc_col-xs-5 text-right']/span\")[0:200]:\n",
    "    Price.append(i.text)\n",
    "time.sleep(4)"
   ]
  },
  {
   "cell_type": "code",
   "execution_count": 134,
   "metadata": {},
   "outputs": [
    {
     "name": "stdout",
     "output_type": "stream",
     "text": [
      "Car_name 97\n",
      "Price 97\n",
      "Transmission 97\n",
      "Fuel 97\n",
      "Variant 97\n",
      "Kilometers_driven 97\n"
     ]
    }
   ],
   "source": [
    "print(\"Car_name\",len(car_name))\n",
    "print(\"Price\",len(Price))\n",
    "print(\"Transmission\",len(Transmission))\n",
    "print(\"Fuel\",len(Fuel))\n",
    "print(\"Variant\",len(Variant))\n",
    "print(\"Kilometers_driven\",len(Kilometers_driven))"
   ]
  },
  {
   "cell_type": "code",
   "execution_count": 135,
   "metadata": {},
   "outputs": [],
   "source": [
    "#creating data frame for the collected data.\n",
    "car_deko_15=pd.DataFrame({})\n",
    "car_deko_15['Price']=Price\n",
    "car_deko_15['Brand']=car_name\n",
    "car_deko_15['Kilometers_driven']=Kilometers_driven\n",
    "car_deko_15['Fuel']=Fuel\n",
    "car_deko_15['Transmission']=Transmission\n",
    "car_deko_15['Variant']=Variant\n",
    "#we know that the data is from first owner cars. \n",
    "#So we will add the first owner value for all the rows in data frama by creating a seperate column for owners. \n",
    "#Same we will do for location('Chandigarh'.)\n",
    "car_deko_15['No_owners']=\"FirstOwner\"\n",
    "car_deko_15['Location']=\"Chandigarh\""
   ]
  },
  {
   "cell_type": "code",
   "execution_count": 136,
   "metadata": {},
   "outputs": [
    {
     "data": {
      "text/html": [
       "<div>\n",
       "<style scoped>\n",
       "    .dataframe tbody tr th:only-of-type {\n",
       "        vertical-align: middle;\n",
       "    }\n",
       "\n",
       "    .dataframe tbody tr th {\n",
       "        vertical-align: top;\n",
       "    }\n",
       "\n",
       "    .dataframe thead th {\n",
       "        text-align: right;\n",
       "    }\n",
       "</style>\n",
       "<table border=\"1\" class=\"dataframe\">\n",
       "  <thead>\n",
       "    <tr style=\"text-align: right;\">\n",
       "      <th></th>\n",
       "      <th>Price</th>\n",
       "      <th>Brand</th>\n",
       "      <th>Kilometers_driven</th>\n",
       "      <th>Fuel</th>\n",
       "      <th>Transmission</th>\n",
       "      <th>Variant</th>\n",
       "      <th>No_owners</th>\n",
       "      <th>Location</th>\n",
       "    </tr>\n",
       "  </thead>\n",
       "  <tbody>\n",
       "    <tr>\n",
       "      <th>0</th>\n",
       "      <td>5.52 Lakh</td>\n",
       "      <td>2019 Maruti Swift</td>\n",
       "      <td>4,561 kms</td>\n",
       "      <td>Petrol</td>\n",
       "      <td>Manual</td>\n",
       "      <td>LXI</td>\n",
       "      <td>FirstOwner</td>\n",
       "      <td>Chandigarh</td>\n",
       "    </tr>\n",
       "    <tr>\n",
       "      <th>1</th>\n",
       "      <td>6.18 Lakh</td>\n",
       "      <td>2018 Maruti Ciaz</td>\n",
       "      <td>64,789 kms</td>\n",
       "      <td>Petrol</td>\n",
       "      <td>Manual</td>\n",
       "      <td>1.4 Delta</td>\n",
       "      <td>FirstOwner</td>\n",
       "      <td>Chandigarh</td>\n",
       "    </tr>\n",
       "    <tr>\n",
       "      <th>2</th>\n",
       "      <td>4.57 Lakh</td>\n",
       "      <td>2018 Hyundai Grand i10</td>\n",
       "      <td>27,309 kms</td>\n",
       "      <td>Petrol</td>\n",
       "      <td>Manual</td>\n",
       "      <td>1.2 Kappa Sportz BSIV</td>\n",
       "      <td>FirstOwner</td>\n",
       "      <td>Chandigarh</td>\n",
       "    </tr>\n",
       "    <tr>\n",
       "      <th>3</th>\n",
       "      <td>4.66 Lakh</td>\n",
       "      <td>2018 Hyundai Grand i10</td>\n",
       "      <td>27,779 kms</td>\n",
       "      <td>Petrol</td>\n",
       "      <td>Manual</td>\n",
       "      <td>1.2 Kappa Magna BSIV</td>\n",
       "      <td>FirstOwner</td>\n",
       "      <td>Chandigarh</td>\n",
       "    </tr>\n",
       "    <tr>\n",
       "      <th>4</th>\n",
       "      <td>5.57 Lakh</td>\n",
       "      <td>2017 Maruti Baleno</td>\n",
       "      <td>79,395 kms</td>\n",
       "      <td>Petrol</td>\n",
       "      <td>Manual</td>\n",
       "      <td>1.2 Zeta</td>\n",
       "      <td>FirstOwner</td>\n",
       "      <td>Chandigarh</td>\n",
       "    </tr>\n",
       "  </tbody>\n",
       "</table>\n",
       "</div>"
      ],
      "text/plain": [
       "       Price                   Brand Kilometers_driven    Fuel Transmission  \\\n",
       "0  5.52 Lakh       2019 Maruti Swift         4,561 kms  Petrol       Manual   \n",
       "1  6.18 Lakh        2018 Maruti Ciaz        64,789 kms  Petrol       Manual   \n",
       "2  4.57 Lakh  2018 Hyundai Grand i10        27,309 kms  Petrol       Manual   \n",
       "3  4.66 Lakh  2018 Hyundai Grand i10        27,779 kms  Petrol       Manual   \n",
       "4  5.57 Lakh      2017 Maruti Baleno        79,395 kms  Petrol       Manual   \n",
       "\n",
       "                 Variant   No_owners    Location  \n",
       "0                    LXI  FirstOwner  Chandigarh  \n",
       "1              1.4 Delta  FirstOwner  Chandigarh  \n",
       "2  1.2 Kappa Sportz BSIV  FirstOwner  Chandigarh  \n",
       "3   1.2 Kappa Magna BSIV  FirstOwner  Chandigarh  \n",
       "4               1.2 Zeta  FirstOwner  Chandigarh  "
      ]
     },
     "execution_count": 136,
     "metadata": {},
     "output_type": "execute_result"
    }
   ],
   "source": [
    "car_deko_15.head()"
   ]
  },
  {
   "cell_type": "code",
   "execution_count": null,
   "metadata": {},
   "outputs": [],
   "source": []
  },
  {
   "cell_type": "code",
   "execution_count": 137,
   "metadata": {},
   "outputs": [],
   "source": [
    "#Let's scrap second owner cars data"
   ]
  },
  {
   "cell_type": "code",
   "execution_count": 138,
   "metadata": {},
   "outputs": [],
   "source": [
    "#extracting data for the cars where owners is \"second owner\" from chandigarh city.\n",
    "#selecting the \"second onwer\" option from filters.\n",
    "driver.find_element_by_xpath(\"//ul[@class='checkBoxWrap sellerTypes ownerTypes']/li[3]\").click()"
   ]
  },
  {
   "cell_type": "code",
   "execution_count": 139,
   "metadata": {},
   "outputs": [],
   "source": [
    "#creating empty list for data to be collected.\n",
    "Price=[]\n",
    "Car_name=[]\n",
    "Kilometers_driven=[]\n",
    "Fuel=[]\n",
    "Transmission=[]\n",
    "Variant=[]    "
   ]
  },
  {
   "cell_type": "code",
   "execution_count": 140,
   "metadata": {},
   "outputs": [],
   "source": [
    "#Collectig data .\n",
    "\n",
    "\n",
    "car_name=[] #collecting car name\n",
    "for i in driver.find_elements_by_xpath(\"//div[@class='gsc_col-xs-7 carsName']/a\")[0:200]:\n",
    "    car_name.append(i.text)\n",
    "time.sleep(4)\n",
    "\n",
    "\n",
    "Variant=[] #collecting car variant data\n",
    "for i in driver.find_elements_by_xpath(\"//div[@class='gsc_col-xs-7 carsName']/div[1]\")[0:200]:\n",
    "    Variant.append(i.text)\n",
    "time.sleep(4)\n",
    "\n",
    "\n",
    "Kilometers_driven=[] #collecting car kilometers dreiven \n",
    "for i in driver.find_elements_by_xpath(\"//div[@class='gsc_col-xs-7 carsName']/div[2]/span[1]\")[0:200]:\n",
    "    Kilometers_driven.append(i.text)\n",
    "time.sleep(4)\n",
    "\n",
    "Fuel=[] #which fuel is used for th car\n",
    "for i in driver.find_elements_by_xpath(\"//div[@class='gsc_col-xs-7 carsName']/div[2]/span[2]\")[0:200]:\n",
    "    Fuel.append(i.text)\n",
    "time.sleep(4)\n",
    "\n",
    "Transmission=[] #collecting car transmission data\n",
    "for i in driver.find_elements_by_xpath(\"//div[@class='gsc_col-xs-7 carsName']/div[2]/span[3]\")[0:200]:\n",
    "    Transmission.append(i.text)\n",
    "time.sleep(4)\n",
    "\n",
    "Price=[] #collecting car price\n",
    "for i in driver.find_elements_by_xpath(\"//div[@class='price gsc_col-xs-5 text-right']/span\")[0:200]:\n",
    "    Price.append(i.text)\n",
    "time.sleep(4)"
   ]
  },
  {
   "cell_type": "code",
   "execution_count": 141,
   "metadata": {},
   "outputs": [
    {
     "name": "stdout",
     "output_type": "stream",
     "text": [
      "Car_name 48\n",
      "Price 48\n",
      "Transmission 48\n",
      "Fuel 48\n",
      "Variant 48\n",
      "Kilometers_driven 48\n"
     ]
    }
   ],
   "source": [
    "print(\"Car_name\",len(car_name))\n",
    "print(\"Price\",len(Price))\n",
    "print(\"Transmission\",len(Transmission))\n",
    "print(\"Fuel\",len(Fuel))\n",
    "print(\"Variant\",len(Variant))\n",
    "print(\"Kilometers_driven\",len(Kilometers_driven))"
   ]
  },
  {
   "cell_type": "code",
   "execution_count": 142,
   "metadata": {},
   "outputs": [],
   "source": [
    "#creating data frame for the collected data.\n",
    "car_deko_15_a=pd.DataFrame({})\n",
    "car_deko_15_a['Price']=Price\n",
    "car_deko_15_a['Brand']=car_name\n",
    "car_deko_15_a['Kilometers_driven']=Kilometers_driven\n",
    "car_deko_15_a['Fuel']=Fuel\n",
    "car_deko_15_a['Transmission']=Transmission\n",
    "car_deko_15_a['Variant']=Variant\n",
    "#we know that the data is from second owner cars. \n",
    "#So we will add the second owner value for all the rows in data frama by creating a seperate column for owners. \n",
    "#Same we will do for location('Chandigarh'.)\n",
    "car_deko_15_a['No_owners']=\"SecondOwner\"\n",
    "car_deko_15_a['Location']=\"Chandigarh\""
   ]
  },
  {
   "cell_type": "code",
   "execution_count": 143,
   "metadata": {},
   "outputs": [
    {
     "data": {
      "text/html": [
       "<div>\n",
       "<style scoped>\n",
       "    .dataframe tbody tr th:only-of-type {\n",
       "        vertical-align: middle;\n",
       "    }\n",
       "\n",
       "    .dataframe tbody tr th {\n",
       "        vertical-align: top;\n",
       "    }\n",
       "\n",
       "    .dataframe thead th {\n",
       "        text-align: right;\n",
       "    }\n",
       "</style>\n",
       "<table border=\"1\" class=\"dataframe\">\n",
       "  <thead>\n",
       "    <tr style=\"text-align: right;\">\n",
       "      <th></th>\n",
       "      <th>Price</th>\n",
       "      <th>Brand</th>\n",
       "      <th>Kilometers_driven</th>\n",
       "      <th>Fuel</th>\n",
       "      <th>Transmission</th>\n",
       "      <th>Variant</th>\n",
       "      <th>No_owners</th>\n",
       "      <th>Location</th>\n",
       "    </tr>\n",
       "  </thead>\n",
       "  <tbody>\n",
       "    <tr>\n",
       "      <th>0</th>\n",
       "      <td>4.11 Lakh</td>\n",
       "      <td>2018 Maruti Celerio</td>\n",
       "      <td>13,040 kms</td>\n",
       "      <td>Petrol</td>\n",
       "      <td>Manual</td>\n",
       "      <td>ZXI MT BSIV</td>\n",
       "      <td>SecondOwner</td>\n",
       "      <td>Chandigarh</td>\n",
       "    </tr>\n",
       "    <tr>\n",
       "      <th>1</th>\n",
       "      <td>2.25 Lakh</td>\n",
       "      <td>2013 Nissan Micra</td>\n",
       "      <td>88,687 kms</td>\n",
       "      <td>Diesel</td>\n",
       "      <td>Manual</td>\n",
       "      <td>Diesel XV</td>\n",
       "      <td>SecondOwner</td>\n",
       "      <td>Chandigarh</td>\n",
       "    </tr>\n",
       "    <tr>\n",
       "      <th>2</th>\n",
       "      <td>2 Lakh</td>\n",
       "      <td>2012 Ford Figo</td>\n",
       "      <td>1,05,000 kms</td>\n",
       "      <td>Diesel</td>\n",
       "      <td>Manual</td>\n",
       "      <td>Diesel LXI</td>\n",
       "      <td>SecondOwner</td>\n",
       "      <td>Chandigarh</td>\n",
       "    </tr>\n",
       "    <tr>\n",
       "      <th>3</th>\n",
       "      <td>13.5 Lakh</td>\n",
       "      <td>2016 Toyota Innova Crysta</td>\n",
       "      <td>1,10,000 kms</td>\n",
       "      <td>Diesel</td>\n",
       "      <td>Manual</td>\n",
       "      <td>2.4 G MT BSIV</td>\n",
       "      <td>SecondOwner</td>\n",
       "      <td>Chandigarh</td>\n",
       "    </tr>\n",
       "    <tr>\n",
       "      <th>4</th>\n",
       "      <td>5.35 Lakh</td>\n",
       "      <td>2011 Toyota Innova</td>\n",
       "      <td>1,74,000 kms</td>\n",
       "      <td>Diesel</td>\n",
       "      <td>Manual</td>\n",
       "      <td>2.5 V Diesel 7-seater</td>\n",
       "      <td>SecondOwner</td>\n",
       "      <td>Chandigarh</td>\n",
       "    </tr>\n",
       "  </tbody>\n",
       "</table>\n",
       "</div>"
      ],
      "text/plain": [
       "       Price                      Brand Kilometers_driven    Fuel  \\\n",
       "0  4.11 Lakh        2018 Maruti Celerio        13,040 kms  Petrol   \n",
       "1  2.25 Lakh          2013 Nissan Micra        88,687 kms  Diesel   \n",
       "2     2 Lakh             2012 Ford Figo      1,05,000 kms  Diesel   \n",
       "3  13.5 Lakh  2016 Toyota Innova Crysta      1,10,000 kms  Diesel   \n",
       "4  5.35 Lakh         2011 Toyota Innova      1,74,000 kms  Diesel   \n",
       "\n",
       "  Transmission                Variant    No_owners    Location  \n",
       "0       Manual            ZXI MT BSIV  SecondOwner  Chandigarh  \n",
       "1       Manual              Diesel XV  SecondOwner  Chandigarh  \n",
       "2       Manual             Diesel LXI  SecondOwner  Chandigarh  \n",
       "3       Manual          2.4 G MT BSIV  SecondOwner  Chandigarh  \n",
       "4       Manual  2.5 V Diesel 7-seater  SecondOwner  Chandigarh  "
      ]
     },
     "execution_count": 143,
     "metadata": {},
     "output_type": "execute_result"
    }
   ],
   "source": [
    "car_deko_15_a.head()"
   ]
  },
  {
   "cell_type": "code",
   "execution_count": null,
   "metadata": {},
   "outputs": [],
   "source": []
  },
  {
   "cell_type": "code",
   "execution_count": 144,
   "metadata": {},
   "outputs": [],
   "source": [
    "#Let's scrap data for third owner cars"
   ]
  },
  {
   "cell_type": "code",
   "execution_count": 145,
   "metadata": {},
   "outputs": [],
   "source": [
    "#extracting data for the cars where owners is \"third owner\" from Chandigarh city.\n",
    "#selecting the \"third onwer\" option from filters.\n",
    "driver.find_element_by_xpath(\"//ul[@class='checkBoxWrap sellerTypes ownerTypes']/li[4]\").click()"
   ]
  },
  {
   "cell_type": "code",
   "execution_count": 146,
   "metadata": {},
   "outputs": [],
   "source": [
    "#creating empty list for data to be collected.\n",
    "Price=[]\n",
    "Car_name=[]\n",
    "Kilometers_driven=[]\n",
    "Fuel=[]\n",
    "Transmission=[]\n",
    "Variant=[]"
   ]
  },
  {
   "cell_type": "code",
   "execution_count": 147,
   "metadata": {},
   "outputs": [],
   "source": [
    "#Collectig data .\n",
    "\n",
    "\n",
    "car_name=[] #collecting car name\n",
    "for i in driver.find_elements_by_xpath(\"//div[@class='gsc_col-xs-7 carsName']/a\")[0:200]:\n",
    "    car_name.append(i.text)\n",
    "time.sleep(4)\n",
    "\n",
    "\n",
    "Variant=[] #collecting car variant data\n",
    "for i in driver.find_elements_by_xpath(\"//div[@class='gsc_col-xs-7 carsName']/div[1]\")[0:200]:\n",
    "    Variant.append(i.text)\n",
    "time.sleep(4)\n",
    "\n",
    "\n",
    "Kilometers_driven=[] #collecting car kilometers dreiven \n",
    "for i in driver.find_elements_by_xpath(\"//div[@class='gsc_col-xs-7 carsName']/div[2]/span[1]\")[0:200]:\n",
    "    Kilometers_driven.append(i.text)\n",
    "time.sleep(4)\n",
    "\n",
    "Fuel=[] #which fuel is used for th car\n",
    "for i in driver.find_elements_by_xpath(\"//div[@class='gsc_col-xs-7 carsName']/div[2]/span[2]\")[0:200]:\n",
    "    Fuel.append(i.text)\n",
    "time.sleep(4)\n",
    "\n",
    "Transmission=[] #collecting car transmission data\n",
    "for i in driver.find_elements_by_xpath(\"//div[@class='gsc_col-xs-7 carsName']/div[2]/span[3]\")[0:200]:\n",
    "    Transmission.append(i.text)\n",
    "time.sleep(4)\n",
    "\n",
    "Price=[] #collecting car price\n",
    "for i in driver.find_elements_by_xpath(\"//div[@class='price gsc_col-xs-5 text-right']/span\")[0:200]:\n",
    "    Price.append(i.text)\n",
    "time.sleep(4)"
   ]
  },
  {
   "cell_type": "code",
   "execution_count": 148,
   "metadata": {},
   "outputs": [
    {
     "name": "stdout",
     "output_type": "stream",
     "text": [
      "Car_name 13\n",
      "Price 13\n",
      "Transmission 13\n",
      "Fuel 13\n",
      "Variant 13\n",
      "Kilometers_driven 13\n"
     ]
    }
   ],
   "source": [
    "print(\"Car_name\",len(car_name))\n",
    "print(\"Price\",len(Price))\n",
    "print(\"Transmission\",len(Transmission))\n",
    "print(\"Fuel\",len(Fuel))\n",
    "print(\"Variant\",len(Variant))\n",
    "print(\"Kilometers_driven\",len(Kilometers_driven))"
   ]
  },
  {
   "cell_type": "code",
   "execution_count": 149,
   "metadata": {},
   "outputs": [],
   "source": [
    "#creating data frame for the collected data.\n",
    "car_deko_15_b=pd.DataFrame({})\n",
    "car_deko_15_b['Price']=Price\n",
    "car_deko_15_b['Brand']=car_name\n",
    "car_deko_15_b['Kilometers_driven']=Kilometers_driven\n",
    "car_deko_15_b['Fuel']=Fuel\n",
    "car_deko_15_b['Transmission']=Transmission\n",
    "car_deko_15_b['Variant']=Variant\n",
    "#we know that the data is from third owner cars. \n",
    "#So we will add the third owner value for all the rows in data frama by creating a seperate column for owners. \n",
    "#Same we will do for location('Chandigarh'.)\n",
    "car_deko_15_b['No_owners']=\"Thirdowner\"\n",
    "car_deko_15_b['Location']=\"Chandigarh\""
   ]
  },
  {
   "cell_type": "code",
   "execution_count": 150,
   "metadata": {},
   "outputs": [
    {
     "data": {
      "text/html": [
       "<div>\n",
       "<style scoped>\n",
       "    .dataframe tbody tr th:only-of-type {\n",
       "        vertical-align: middle;\n",
       "    }\n",
       "\n",
       "    .dataframe tbody tr th {\n",
       "        vertical-align: top;\n",
       "    }\n",
       "\n",
       "    .dataframe thead th {\n",
       "        text-align: right;\n",
       "    }\n",
       "</style>\n",
       "<table border=\"1\" class=\"dataframe\">\n",
       "  <thead>\n",
       "    <tr style=\"text-align: right;\">\n",
       "      <th></th>\n",
       "      <th>Price</th>\n",
       "      <th>Brand</th>\n",
       "      <th>Kilometers_driven</th>\n",
       "      <th>Fuel</th>\n",
       "      <th>Transmission</th>\n",
       "      <th>Variant</th>\n",
       "      <th>No_owners</th>\n",
       "      <th>Location</th>\n",
       "    </tr>\n",
       "  </thead>\n",
       "  <tbody>\n",
       "    <tr>\n",
       "      <th>0</th>\n",
       "      <td>3.1 Lakh</td>\n",
       "      <td>2014 Maruti Celerio</td>\n",
       "      <td>70,000 kms</td>\n",
       "      <td>Petrol</td>\n",
       "      <td>Automatic</td>\n",
       "      <td>VXI AT</td>\n",
       "      <td>Thirdowner</td>\n",
       "      <td>Chandigarh</td>\n",
       "    </tr>\n",
       "    <tr>\n",
       "      <th>1</th>\n",
       "      <td>1 Lakh</td>\n",
       "      <td>2003 Honda City</td>\n",
       "      <td>1,20,000 kms</td>\n",
       "      <td>Petrol</td>\n",
       "      <td>Manual</td>\n",
       "      <td>1.3 DX</td>\n",
       "      <td>Thirdowner</td>\n",
       "      <td>Chandigarh</td>\n",
       "    </tr>\n",
       "    <tr>\n",
       "      <th>2</th>\n",
       "      <td>17.25 Lakh</td>\n",
       "      <td>2011 Audi Q7</td>\n",
       "      <td>90,000 kms</td>\n",
       "      <td>Diesel</td>\n",
       "      <td>Automatic</td>\n",
       "      <td>4.2 TDI quattro</td>\n",
       "      <td>Thirdowner</td>\n",
       "      <td>Chandigarh</td>\n",
       "    </tr>\n",
       "    <tr>\n",
       "      <th>3</th>\n",
       "      <td>2.5 Lakh</td>\n",
       "      <td>2013 Fiat Linea</td>\n",
       "      <td>92,000 kms</td>\n",
       "      <td>Diesel</td>\n",
       "      <td>Manual</td>\n",
       "      <td>Emotion (Diesel)</td>\n",
       "      <td>Thirdowner</td>\n",
       "      <td>Chandigarh</td>\n",
       "    </tr>\n",
       "    <tr>\n",
       "      <th>4</th>\n",
       "      <td>1.05 Lakh</td>\n",
       "      <td>2009 Fiat Linea</td>\n",
       "      <td>1,60,000 kms</td>\n",
       "      <td>Diesel</td>\n",
       "      <td>Manual</td>\n",
       "      <td>Emotion (Diesel)</td>\n",
       "      <td>Thirdowner</td>\n",
       "      <td>Chandigarh</td>\n",
       "    </tr>\n",
       "  </tbody>\n",
       "</table>\n",
       "</div>"
      ],
      "text/plain": [
       "        Price                Brand Kilometers_driven    Fuel Transmission  \\\n",
       "0    3.1 Lakh  2014 Maruti Celerio        70,000 kms  Petrol    Automatic   \n",
       "1      1 Lakh      2003 Honda City      1,20,000 kms  Petrol       Manual   \n",
       "2  17.25 Lakh         2011 Audi Q7        90,000 kms  Diesel    Automatic   \n",
       "3    2.5 Lakh      2013 Fiat Linea        92,000 kms  Diesel       Manual   \n",
       "4   1.05 Lakh      2009 Fiat Linea      1,60,000 kms  Diesel       Manual   \n",
       "\n",
       "            Variant   No_owners    Location  \n",
       "0            VXI AT  Thirdowner  Chandigarh  \n",
       "1            1.3 DX  Thirdowner  Chandigarh  \n",
       "2   4.2 TDI quattro  Thirdowner  Chandigarh  \n",
       "3  Emotion (Diesel)  Thirdowner  Chandigarh  \n",
       "4  Emotion (Diesel)  Thirdowner  Chandigarh  "
      ]
     },
     "execution_count": 150,
     "metadata": {},
     "output_type": "execute_result"
    }
   ],
   "source": [
    "car_deko_15_b.head()"
   ]
  },
  {
   "cell_type": "code",
   "execution_count": 151,
   "metadata": {},
   "outputs": [],
   "source": [
    "#Let's concatenat the chandigarh cars data\n",
    "car_dekho_Chandigarh=pd.concat([car_deko_15,car_deko_15_a,car_deko_15_b])"
   ]
  },
  {
   "cell_type": "code",
   "execution_count": 152,
   "metadata": {},
   "outputs": [
    {
     "data": {
      "text/plain": [
       "(158, 8)"
      ]
     },
     "execution_count": 152,
     "metadata": {},
     "output_type": "execute_result"
    }
   ],
   "source": [
    "car_dekho_Chandigarh.shape"
   ]
  },
  {
   "cell_type": "code",
   "execution_count": 153,
   "metadata": {},
   "outputs": [],
   "source": [
    "driver.close()"
   ]
  },
  {
   "cell_type": "markdown",
   "metadata": {},
   "source": [
    "# Indore"
   ]
  },
  {
   "cell_type": "code",
   "execution_count": 154,
   "metadata": {},
   "outputs": [],
   "source": [
    "driver=webdriver.Firefox(\"C:\\geckodriver-v0.29.1-win64\")"
   ]
  },
  {
   "cell_type": "code",
   "execution_count": 155,
   "metadata": {},
   "outputs": [],
   "source": [
    "driver.get(\"https://www.cardekho.com/\") #getting the website"
   ]
  },
  {
   "cell_type": "code",
   "execution_count": 156,
   "metadata": {},
   "outputs": [],
   "source": [
    "#Selecting Used Cars option\n",
    "k=driver.find_element_by_xpath(\"//ul[@class='gsc-ta-clickWrap ']/li[2]\")\n",
    "k.click() "
   ]
  },
  {
   "cell_type": "code",
   "execution_count": 157,
   "metadata": {},
   "outputs": [],
   "source": [
    "#Selecting serach option\n",
    "driver.find_element_by_xpath(\"(//div[@class='modelname ']/div/ul/li[3]/button)[2]\").click()"
   ]
  },
  {
   "cell_type": "code",
   "execution_count": 158,
   "metadata": {},
   "outputs": [],
   "source": [
    "#Entering city name\n",
    "city=driver.find_element_by_id(\"autocomplete\")\n",
    "city.send_keys(\"Indore\")"
   ]
  },
  {
   "cell_type": "code",
   "execution_count": 159,
   "metadata": {},
   "outputs": [],
   "source": [
    "#selecting city from drop down\n",
    "driver.find_element_by_xpath(\"//div[@class='pac-container pac-logo']/div[1]\").click()"
   ]
  },
  {
   "cell_type": "code",
   "execution_count": 160,
   "metadata": {},
   "outputs": [],
   "source": [
    "#extracting data for the cars where owners is \"first owner\" from indore city.\n",
    "#selecting the \"first onwer\" option from filters.\n",
    "driver.find_element_by_xpath(\"//ul[@class='checkBoxWrap sellerTypes ownerTypes']/li[1]\").click()"
   ]
  },
  {
   "cell_type": "code",
   "execution_count": 161,
   "metadata": {},
   "outputs": [],
   "source": [
    "#creating empty list for data to be collected.\n",
    "Price=[]\n",
    "Car_name=[]\n",
    "Kilometers_driven=[]\n",
    "Fuel=[]\n",
    "Transmission=[]\n",
    "Variant=[]"
   ]
  },
  {
   "cell_type": "code",
   "execution_count": 162,
   "metadata": {},
   "outputs": [],
   "source": [
    "#Collectig data .\n",
    "\n",
    "\n",
    "car_name=[] #collecting car name\n",
    "for i in driver.find_elements_by_xpath(\"//div[@class='gsc_col-xs-7 carsName']/a\")[0:200]:\n",
    "    car_name.append(i.text)\n",
    "time.sleep(4)\n",
    "\n",
    "\n",
    "Variant=[] #collecting car variant data\n",
    "for i in driver.find_elements_by_xpath(\"//div[@class='gsc_col-xs-7 carsName']/div[1]\")[0:200]:\n",
    "    Variant.append(i.text)\n",
    "time.sleep(4)\n",
    "\n",
    "\n",
    "Kilometers_driven=[] #collecting car kilometers dreiven \n",
    "for i in driver.find_elements_by_xpath(\"//div[@class='gsc_col-xs-7 carsName']/div[2]/span[1]\")[0:200]:\n",
    "    Kilometers_driven.append(i.text)\n",
    "time.sleep(4)\n",
    "\n",
    "Fuel=[] #which fuel is used for th car\n",
    "for i in driver.find_elements_by_xpath(\"//div[@class='gsc_col-xs-7 carsName']/div[2]/span[2]\")[0:200]:\n",
    "    Fuel.append(i.text)\n",
    "time.sleep(4)\n",
    "\n",
    "Transmission=[] #collecting car transmission data\n",
    "for i in driver.find_elements_by_xpath(\"//div[@class='gsc_col-xs-7 carsName']/div[2]/span[3]\")[0:200]:\n",
    "    Transmission.append(i.text)\n",
    "time.sleep(4)\n",
    "\n",
    "Price=[] #collecting car price\n",
    "for i in driver.find_elements_by_xpath(\"//div[@class='price gsc_col-xs-5 text-right']/span\")[0:200]:\n",
    "    Price.append(i.text)\n",
    "time.sleep(4)"
   ]
  },
  {
   "cell_type": "code",
   "execution_count": 163,
   "metadata": {},
   "outputs": [
    {
     "name": "stdout",
     "output_type": "stream",
     "text": [
      "Car_name 200\n",
      "Price 200\n",
      "Transmission 200\n",
      "Fuel 200\n",
      "Variant 200\n",
      "Kilometers_driven 200\n"
     ]
    }
   ],
   "source": [
    "print(\"Car_name\",len(car_name))\n",
    "print(\"Price\",len(Price))\n",
    "print(\"Transmission\",len(Transmission))\n",
    "print(\"Fuel\",len(Fuel))\n",
    "print(\"Variant\",len(Variant))\n",
    "print(\"Kilometers_driven\",len(Kilometers_driven))"
   ]
  },
  {
   "cell_type": "code",
   "execution_count": 164,
   "metadata": {},
   "outputs": [],
   "source": [
    "#creating data frame for the collected data.\n",
    "car_deko_16=pd.DataFrame({})\n",
    "car_deko_16['Price']=Price\n",
    "car_deko_16['Brand']=car_name\n",
    "car_deko_16['Kilometers_driven']=Kilometers_driven\n",
    "car_deko_16['Fuel']=Fuel\n",
    "car_deko_16['Transmission']=Transmission\n",
    "car_deko_16['Variant']=Variant\n",
    "#we know that the data is from second owner cars. \n",
    "#So we will add the second owner value for all the rows in data frama by creating a seperate column for owners. \n",
    "#Same we will do for location('Indore'.)\n",
    "car_deko_16['No_owners']=\"FirstOnwer\"\n",
    "car_deko_16['Location']=\"Indore\""
   ]
  },
  {
   "cell_type": "code",
   "execution_count": 165,
   "metadata": {},
   "outputs": [
    {
     "data": {
      "text/html": [
       "<div>\n",
       "<style scoped>\n",
       "    .dataframe tbody tr th:only-of-type {\n",
       "        vertical-align: middle;\n",
       "    }\n",
       "\n",
       "    .dataframe tbody tr th {\n",
       "        vertical-align: top;\n",
       "    }\n",
       "\n",
       "    .dataframe thead th {\n",
       "        text-align: right;\n",
       "    }\n",
       "</style>\n",
       "<table border=\"1\" class=\"dataframe\">\n",
       "  <thead>\n",
       "    <tr style=\"text-align: right;\">\n",
       "      <th></th>\n",
       "      <th>Price</th>\n",
       "      <th>Brand</th>\n",
       "      <th>Kilometers_driven</th>\n",
       "      <th>Fuel</th>\n",
       "      <th>Transmission</th>\n",
       "      <th>Variant</th>\n",
       "      <th>No_owners</th>\n",
       "      <th>Location</th>\n",
       "    </tr>\n",
       "  </thead>\n",
       "  <tbody>\n",
       "    <tr>\n",
       "      <th>0</th>\n",
       "      <td>23 Lakh</td>\n",
       "      <td>2010 BMW 7 Series</td>\n",
       "      <td>46,000 kms</td>\n",
       "      <td>Diesel</td>\n",
       "      <td>Automatic</td>\n",
       "      <td>730Ld Sedan</td>\n",
       "      <td>FirstOnwer</td>\n",
       "      <td>Indore</td>\n",
       "    </tr>\n",
       "    <tr>\n",
       "      <th>1</th>\n",
       "      <td>4.65 Lakh</td>\n",
       "      <td>2014 Maruti Celerio</td>\n",
       "      <td>50,096 kms</td>\n",
       "      <td>Petrol</td>\n",
       "      <td>Manual</td>\n",
       "      <td>VXI</td>\n",
       "      <td>FirstOnwer</td>\n",
       "      <td>Indore</td>\n",
       "    </tr>\n",
       "    <tr>\n",
       "      <th>2</th>\n",
       "      <td>25 Lakh</td>\n",
       "      <td>2015 Mercedes-Benz New C-Class</td>\n",
       "      <td>70,000 kms</td>\n",
       "      <td>Diesel</td>\n",
       "      <td>Manual</td>\n",
       "      <td>200 CDI Classic</td>\n",
       "      <td>FirstOnwer</td>\n",
       "      <td>Indore</td>\n",
       "    </tr>\n",
       "    <tr>\n",
       "      <th>3</th>\n",
       "      <td>24 Lakh</td>\n",
       "      <td>2017 Skoda Superb</td>\n",
       "      <td>59,000 kms</td>\n",
       "      <td>Diesel</td>\n",
       "      <td>Automatic</td>\n",
       "      <td>LK 2.0 TDI AT</td>\n",
       "      <td>FirstOnwer</td>\n",
       "      <td>Indore</td>\n",
       "    </tr>\n",
       "    <tr>\n",
       "      <th>4</th>\n",
       "      <td>9.25 Lakh</td>\n",
       "      <td>2019 Maruti Ciaz</td>\n",
       "      <td>11,000 kms</td>\n",
       "      <td>Diesel</td>\n",
       "      <td>Manual</td>\n",
       "      <td>Delta 1.5</td>\n",
       "      <td>FirstOnwer</td>\n",
       "      <td>Indore</td>\n",
       "    </tr>\n",
       "  </tbody>\n",
       "</table>\n",
       "</div>"
      ],
      "text/plain": [
       "       Price                           Brand Kilometers_driven    Fuel  \\\n",
       "0    23 Lakh               2010 BMW 7 Series        46,000 kms  Diesel   \n",
       "1  4.65 Lakh             2014 Maruti Celerio        50,096 kms  Petrol   \n",
       "2    25 Lakh  2015 Mercedes-Benz New C-Class        70,000 kms  Diesel   \n",
       "3    24 Lakh               2017 Skoda Superb        59,000 kms  Diesel   \n",
       "4  9.25 Lakh                2019 Maruti Ciaz        11,000 kms  Diesel   \n",
       "\n",
       "  Transmission          Variant   No_owners Location  \n",
       "0    Automatic      730Ld Sedan  FirstOnwer   Indore  \n",
       "1       Manual              VXI  FirstOnwer   Indore  \n",
       "2       Manual  200 CDI Classic  FirstOnwer   Indore  \n",
       "3    Automatic    LK 2.0 TDI AT  FirstOnwer   Indore  \n",
       "4       Manual        Delta 1.5  FirstOnwer   Indore  "
      ]
     },
     "execution_count": 165,
     "metadata": {},
     "output_type": "execute_result"
    }
   ],
   "source": [
    "car_deko_16.head()"
   ]
  },
  {
   "cell_type": "code",
   "execution_count": null,
   "metadata": {},
   "outputs": [],
   "source": []
  },
  {
   "cell_type": "code",
   "execution_count": 166,
   "metadata": {},
   "outputs": [],
   "source": [
    "#Let's scrap second owner cars data"
   ]
  },
  {
   "cell_type": "code",
   "execution_count": 167,
   "metadata": {},
   "outputs": [],
   "source": [
    "#extracting data for the cars where owners is \"second owner\" from indore city.\n",
    "#selecting the \"second onwer\" option from filters.\n",
    "driver.find_element_by_xpath(\"//ul[@class='checkBoxWrap sellerTypes ownerTypes']/li[2]\").click()"
   ]
  },
  {
   "cell_type": "code",
   "execution_count": 168,
   "metadata": {},
   "outputs": [],
   "source": [
    "#creating empty list for data to be collected.\n",
    "Price=[]\n",
    "Car_name=[]\n",
    "Kilometers_driven=[]\n",
    "Fuel=[]\n",
    "Transmission=[]\n",
    "Variant=[]"
   ]
  },
  {
   "cell_type": "code",
   "execution_count": 169,
   "metadata": {},
   "outputs": [],
   "source": [
    "#Collectig data .\n",
    "\n",
    "\n",
    "car_name=[] #collecting car name\n",
    "for i in driver.find_elements_by_xpath(\"//div[@class='gsc_col-xs-7 carsName']/a\")[0:200]:\n",
    "    car_name.append(i.text)\n",
    "time.sleep(4)\n",
    "\n",
    "\n",
    "Variant=[] #collecting car variant data\n",
    "for i in driver.find_elements_by_xpath(\"//div[@class='gsc_col-xs-7 carsName']/div[1]\")[0:200]:\n",
    "    Variant.append(i.text)\n",
    "time.sleep(4)\n",
    "\n",
    "\n",
    "Kilometers_driven=[] #collecting car kilometers dreiven \n",
    "for i in driver.find_elements_by_xpath(\"//div[@class='gsc_col-xs-7 carsName']/div[2]/span[1]\")[0:200]:\n",
    "    Kilometers_driven.append(i.text)\n",
    "time.sleep(4)\n",
    "\n",
    "Fuel=[] #which fuel is used for th car\n",
    "for i in driver.find_elements_by_xpath(\"//div[@class='gsc_col-xs-7 carsName']/div[2]/span[2]\")[0:200]:\n",
    "    Fuel.append(i.text)\n",
    "time.sleep(4)\n",
    "\n",
    "Transmission=[] #collecting car transmission data\n",
    "for i in driver.find_elements_by_xpath(\"//div[@class='gsc_col-xs-7 carsName']/div[2]/span[3]\")[0:200]:\n",
    "    Transmission.append(i.text)\n",
    "time.sleep(4)\n",
    "\n",
    "Price=[] #collecting car price\n",
    "for i in driver.find_elements_by_xpath(\"//div[@class='price gsc_col-xs-5 text-right']/span\")[0:200]:\n",
    "    Price.append(i.text)\n",
    "time.sleep(4)"
   ]
  },
  {
   "cell_type": "code",
   "execution_count": 170,
   "metadata": {},
   "outputs": [
    {
     "name": "stdout",
     "output_type": "stream",
     "text": [
      "Car_name 77\n",
      "Price 77\n",
      "Transmission 77\n",
      "Fuel 77\n",
      "Variant 77\n",
      "Kilometers_driven 77\n"
     ]
    }
   ],
   "source": [
    "print(\"Car_name\",len(car_name))\n",
    "print(\"Price\",len(Price))\n",
    "print(\"Transmission\",len(Transmission))\n",
    "print(\"Fuel\",len(Fuel))\n",
    "print(\"Variant\",len(Variant))\n",
    "print(\"Kilometers_driven\",len(Kilometers_driven))"
   ]
  },
  {
   "cell_type": "code",
   "execution_count": 171,
   "metadata": {},
   "outputs": [],
   "source": [
    "#creating data frame for the collected data.\n",
    "car_deko_16_a=pd.DataFrame({})\n",
    "car_deko_16_a['Price']=Price\n",
    "car_deko_16_a['Brand']=car_name\n",
    "car_deko_16_a['Kilometers_driven']=Kilometers_driven\n",
    "car_deko_16_a['Fuel']=Fuel\n",
    "car_deko_16_a['Transmission']=Transmission\n",
    "car_deko_16_a['Variant']=Variant\n",
    "#we know that the data is from second owner cars. \n",
    "#So we will add the second owner value for all the rows in data frama by creating a seperate column for owners. \n",
    "#Same we will do for location('Indore'.)\n",
    "car_deko_16_a['No_owners']=\"SecondOwner\"\n",
    "car_deko_16_a['Location']=\"Indore\""
   ]
  },
  {
   "cell_type": "code",
   "execution_count": 172,
   "metadata": {},
   "outputs": [
    {
     "data": {
      "text/html": [
       "<div>\n",
       "<style scoped>\n",
       "    .dataframe tbody tr th:only-of-type {\n",
       "        vertical-align: middle;\n",
       "    }\n",
       "\n",
       "    .dataframe tbody tr th {\n",
       "        vertical-align: top;\n",
       "    }\n",
       "\n",
       "    .dataframe thead th {\n",
       "        text-align: right;\n",
       "    }\n",
       "</style>\n",
       "<table border=\"1\" class=\"dataframe\">\n",
       "  <thead>\n",
       "    <tr style=\"text-align: right;\">\n",
       "      <th></th>\n",
       "      <th>Price</th>\n",
       "      <th>Brand</th>\n",
       "      <th>Kilometers_driven</th>\n",
       "      <th>Fuel</th>\n",
       "      <th>Transmission</th>\n",
       "      <th>Variant</th>\n",
       "      <th>No_owners</th>\n",
       "      <th>Location</th>\n",
       "    </tr>\n",
       "  </thead>\n",
       "  <tbody>\n",
       "    <tr>\n",
       "      <th>0</th>\n",
       "      <td>17.5 Lakh</td>\n",
       "      <td>2012 BMW 5 Series</td>\n",
       "      <td>90,000 kms</td>\n",
       "      <td>Diesel</td>\n",
       "      <td>Automatic</td>\n",
       "      <td>520d Sedan</td>\n",
       "      <td>SecondOwner</td>\n",
       "      <td>Indore</td>\n",
       "    </tr>\n",
       "    <tr>\n",
       "      <th>1</th>\n",
       "      <td>16 Lakh</td>\n",
       "      <td>2012 BMW 5 Series</td>\n",
       "      <td>90,000 kms</td>\n",
       "      <td>Diesel</td>\n",
       "      <td>Automatic</td>\n",
       "      <td>520d Sedan</td>\n",
       "      <td>SecondOwner</td>\n",
       "      <td>Indore</td>\n",
       "    </tr>\n",
       "    <tr>\n",
       "      <th>2</th>\n",
       "      <td>16.5 Lakh</td>\n",
       "      <td>2017 Toyota Innova Crysta</td>\n",
       "      <td>55,000 kms</td>\n",
       "      <td>Diesel</td>\n",
       "      <td>Automatic</td>\n",
       "      <td>2.8 ZX AT BSIV</td>\n",
       "      <td>SecondOwner</td>\n",
       "      <td>Indore</td>\n",
       "    </tr>\n",
       "    <tr>\n",
       "      <th>3</th>\n",
       "      <td>8.85 Lakh</td>\n",
       "      <td>2016 Hyundai Creta</td>\n",
       "      <td>86,000 kms</td>\n",
       "      <td>Diesel</td>\n",
       "      <td>Manual</td>\n",
       "      <td>1.6 CRDi SX</td>\n",
       "      <td>SecondOwner</td>\n",
       "      <td>Indore</td>\n",
       "    </tr>\n",
       "    <tr>\n",
       "      <th>4</th>\n",
       "      <td>4.8 Lakh</td>\n",
       "      <td>2011 Tata Aria</td>\n",
       "      <td>47,078 kms</td>\n",
       "      <td>Diesel</td>\n",
       "      <td>Manual</td>\n",
       "      <td>Pure 4x2</td>\n",
       "      <td>SecondOwner</td>\n",
       "      <td>Indore</td>\n",
       "    </tr>\n",
       "  </tbody>\n",
       "</table>\n",
       "</div>"
      ],
      "text/plain": [
       "       Price                      Brand Kilometers_driven    Fuel  \\\n",
       "0  17.5 Lakh          2012 BMW 5 Series        90,000 kms  Diesel   \n",
       "1    16 Lakh          2012 BMW 5 Series        90,000 kms  Diesel   \n",
       "2  16.5 Lakh  2017 Toyota Innova Crysta        55,000 kms  Diesel   \n",
       "3  8.85 Lakh         2016 Hyundai Creta        86,000 kms  Diesel   \n",
       "4   4.8 Lakh             2011 Tata Aria        47,078 kms  Diesel   \n",
       "\n",
       "  Transmission         Variant    No_owners Location  \n",
       "0    Automatic      520d Sedan  SecondOwner   Indore  \n",
       "1    Automatic      520d Sedan  SecondOwner   Indore  \n",
       "2    Automatic  2.8 ZX AT BSIV  SecondOwner   Indore  \n",
       "3       Manual     1.6 CRDi SX  SecondOwner   Indore  \n",
       "4       Manual        Pure 4x2  SecondOwner   Indore  "
      ]
     },
     "execution_count": 172,
     "metadata": {},
     "output_type": "execute_result"
    }
   ],
   "source": [
    "car_deko_16_a.head()"
   ]
  },
  {
   "cell_type": "code",
   "execution_count": null,
   "metadata": {},
   "outputs": [],
   "source": []
  },
  {
   "cell_type": "code",
   "execution_count": 173,
   "metadata": {},
   "outputs": [],
   "source": [
    "#Let's scrap third owners cars data"
   ]
  },
  {
   "cell_type": "code",
   "execution_count": 174,
   "metadata": {},
   "outputs": [],
   "source": [
    "#extracting data for the cars where owners is \"third owner\" from indore city.\n",
    "#selecting the \"third onwer\" option from filters.\n",
    "driver.find_element_by_xpath(\"//ul[@class='checkBoxWrap sellerTypes ownerTypes']/li[3]\").click()"
   ]
  },
  {
   "cell_type": "code",
   "execution_count": 178,
   "metadata": {},
   "outputs": [],
   "source": [
    "#creating empty list for data to be collected.\n",
    "Price=[]\n",
    "Car_name=[]\n",
    "Kilometers_driven=[]\n",
    "Fuel=[]\n",
    "Transmission=[]\n",
    "Variant=[]"
   ]
  },
  {
   "cell_type": "code",
   "execution_count": 179,
   "metadata": {},
   "outputs": [],
   "source": [
    "#Collectig data .\n",
    "\n",
    "\n",
    "car_name=[] #collecting car name\n",
    "for i in driver.find_elements_by_xpath(\"//div[@class='gsc_col-xs-7 carsName']/a\")[0:200]:\n",
    "    car_name.append(i.text)\n",
    "time.sleep(4)\n",
    "\n",
    "\n",
    "Variant=[] #collecting car variant data\n",
    "for i in driver.find_elements_by_xpath(\"//div[@class='gsc_col-xs-7 carsName']/div[1]\")[0:200]:\n",
    "    Variant.append(i.text)\n",
    "time.sleep(4)\n",
    "\n",
    "\n",
    "Kilometers_driven=[] #collecting car kilometers dreiven \n",
    "for i in driver.find_elements_by_xpath(\"//div[@class='gsc_col-xs-7 carsName']/div[2]/span[1]\")[0:200]:\n",
    "    Kilometers_driven.append(i.text)\n",
    "time.sleep(4)\n",
    "\n",
    "Fuel=[] #which fuel is used for th car\n",
    "for i in driver.find_elements_by_xpath(\"//div[@class='gsc_col-xs-7 carsName']/div[2]/span[2]\")[0:200]:\n",
    "    Fuel.append(i.text)\n",
    "time.sleep(4)\n",
    "\n",
    "Transmission=[] #collecting car transmission data\n",
    "for i in driver.find_elements_by_xpath(\"//div[@class='gsc_col-xs-7 carsName']/div[2]/span[3]\")[0:200]:\n",
    "    Transmission.append(i.text)\n",
    "time.sleep(4)\n",
    "\n",
    "Price=[] #collecting car price\n",
    "for i in driver.find_elements_by_xpath(\"//div[@class='price gsc_col-xs-5 text-right']/span\")[0:200]:\n",
    "    Price.append(i.text)\n",
    "time.sleep(4)"
   ]
  },
  {
   "cell_type": "code",
   "execution_count": 180,
   "metadata": {},
   "outputs": [
    {
     "name": "stdout",
     "output_type": "stream",
     "text": [
      "Car_name 33\n",
      "Price 33\n",
      "Transmission 33\n",
      "Fuel 33\n",
      "Variant 33\n",
      "Kilometers_driven 33\n"
     ]
    }
   ],
   "source": [
    "print(\"Car_name\",len(car_name))\n",
    "print(\"Price\",len(Price))\n",
    "print(\"Transmission\",len(Transmission))\n",
    "print(\"Fuel\",len(Fuel))\n",
    "print(\"Variant\",len(Variant))\n",
    "print(\"Kilometers_driven\",len(Kilometers_driven))"
   ]
  },
  {
   "cell_type": "code",
   "execution_count": 181,
   "metadata": {},
   "outputs": [],
   "source": [
    "#creating data frame for the collected data.\n",
    "car_deko_16_b=pd.DataFrame({})\n",
    "car_deko_16_b['Price']=Price\n",
    "car_deko_16_b['Brand']=car_name\n",
    "car_deko_16_b['Kilometers_driven']=Kilometers_driven\n",
    "car_deko_16_b['Fuel']=Fuel\n",
    "car_deko_16_b['Transmission']=Transmission\n",
    "car_deko_16_b['Variant']=Variant\n",
    "#we know that the data is from third owner cars. \n",
    "#So we will add the third owner value for all the rows in data frama by creating a seperate column for owners. \n",
    "#Same we will do for location('Indore'.)\n",
    "car_deko_16_b['No_owners']=\"Thirdowner\"\n",
    "car_deko_16_b['Location']=\"Indore\""
   ]
  },
  {
   "cell_type": "code",
   "execution_count": 182,
   "metadata": {},
   "outputs": [
    {
     "data": {
      "text/html": [
       "<div>\n",
       "<style scoped>\n",
       "    .dataframe tbody tr th:only-of-type {\n",
       "        vertical-align: middle;\n",
       "    }\n",
       "\n",
       "    .dataframe tbody tr th {\n",
       "        vertical-align: top;\n",
       "    }\n",
       "\n",
       "    .dataframe thead th {\n",
       "        text-align: right;\n",
       "    }\n",
       "</style>\n",
       "<table border=\"1\" class=\"dataframe\">\n",
       "  <thead>\n",
       "    <tr style=\"text-align: right;\">\n",
       "      <th></th>\n",
       "      <th>Price</th>\n",
       "      <th>Brand</th>\n",
       "      <th>Kilometers_driven</th>\n",
       "      <th>Fuel</th>\n",
       "      <th>Transmission</th>\n",
       "      <th>Variant</th>\n",
       "      <th>No_owners</th>\n",
       "      <th>Location</th>\n",
       "    </tr>\n",
       "  </thead>\n",
       "  <tbody>\n",
       "    <tr>\n",
       "      <th>0</th>\n",
       "      <td>3.65 Lakh</td>\n",
       "      <td>2012 Renault Fluence</td>\n",
       "      <td>99,447 kms</td>\n",
       "      <td>Diesel</td>\n",
       "      <td>Manual</td>\n",
       "      <td>1.5</td>\n",
       "      <td>Thirdowner</td>\n",
       "      <td>Indore</td>\n",
       "    </tr>\n",
       "    <tr>\n",
       "      <th>1</th>\n",
       "      <td>1.6 Lakh</td>\n",
       "      <td>2012 Tata Indigo</td>\n",
       "      <td>1,70,000 kms</td>\n",
       "      <td>Diesel</td>\n",
       "      <td>Manual</td>\n",
       "      <td>LS</td>\n",
       "      <td>Thirdowner</td>\n",
       "      <td>Indore</td>\n",
       "    </tr>\n",
       "    <tr>\n",
       "      <th>2</th>\n",
       "      <td>2.6 Lakh</td>\n",
       "      <td>2015 Ford Figo</td>\n",
       "      <td>70,000 kms</td>\n",
       "      <td>Diesel</td>\n",
       "      <td>Manual</td>\n",
       "      <td>Diesel EXI</td>\n",
       "      <td>Thirdowner</td>\n",
       "      <td>Indore</td>\n",
       "    </tr>\n",
       "    <tr>\n",
       "      <th>3</th>\n",
       "      <td>7.8 Lakh</td>\n",
       "      <td>2014 Mahindra XUV500</td>\n",
       "      <td>70,000 kms</td>\n",
       "      <td>Diesel</td>\n",
       "      <td>Manual</td>\n",
       "      <td>W8 FWD</td>\n",
       "      <td>Thirdowner</td>\n",
       "      <td>Indore</td>\n",
       "    </tr>\n",
       "    <tr>\n",
       "      <th>4</th>\n",
       "      <td>60,000</td>\n",
       "      <td>1997 Maruti Zen</td>\n",
       "      <td>87,000 kms</td>\n",
       "      <td>Petrol</td>\n",
       "      <td>Manual</td>\n",
       "      <td>LX</td>\n",
       "      <td>Thirdowner</td>\n",
       "      <td>Indore</td>\n",
       "    </tr>\n",
       "  </tbody>\n",
       "</table>\n",
       "</div>"
      ],
      "text/plain": [
       "       Price                 Brand Kilometers_driven    Fuel Transmission  \\\n",
       "0  3.65 Lakh  2012 Renault Fluence        99,447 kms  Diesel       Manual   \n",
       "1   1.6 Lakh      2012 Tata Indigo      1,70,000 kms  Diesel       Manual   \n",
       "2   2.6 Lakh        2015 Ford Figo        70,000 kms  Diesel       Manual   \n",
       "3   7.8 Lakh  2014 Mahindra XUV500        70,000 kms  Diesel       Manual   \n",
       "4     60,000       1997 Maruti Zen        87,000 kms  Petrol       Manual   \n",
       "\n",
       "      Variant   No_owners Location  \n",
       "0         1.5  Thirdowner   Indore  \n",
       "1          LS  Thirdowner   Indore  \n",
       "2  Diesel EXI  Thirdowner   Indore  \n",
       "3      W8 FWD  Thirdowner   Indore  \n",
       "4          LX  Thirdowner   Indore  "
      ]
     },
     "execution_count": 182,
     "metadata": {},
     "output_type": "execute_result"
    }
   ],
   "source": [
    "car_deko_16_b.head()"
   ]
  },
  {
   "cell_type": "code",
   "execution_count": null,
   "metadata": {},
   "outputs": [],
   "source": []
  },
  {
   "cell_type": "code",
   "execution_count": 183,
   "metadata": {},
   "outputs": [],
   "source": [
    "#Let's concatenate all Indore cars scrapped data\n",
    "car_dekho_Indore=pd.concat([car_deko_16,car_deko_16_a,car_deko_16_b])"
   ]
  },
  {
   "cell_type": "code",
   "execution_count": 184,
   "metadata": {},
   "outputs": [
    {
     "data": {
      "text/plain": [
       "(310, 8)"
      ]
     },
     "execution_count": 184,
     "metadata": {},
     "output_type": "execute_result"
    }
   ],
   "source": [
    "car_dekho_Indore.shape"
   ]
  },
  {
   "cell_type": "code",
   "execution_count": 185,
   "metadata": {},
   "outputs": [],
   "source": [
    "driver.close()"
   ]
  },
  {
   "cell_type": "code",
   "execution_count": null,
   "metadata": {},
   "outputs": [],
   "source": []
  },
  {
   "cell_type": "markdown",
   "metadata": {},
   "source": [
    "# Pondicherry "
   ]
  },
  {
   "cell_type": "code",
   "execution_count": 186,
   "metadata": {},
   "outputs": [],
   "source": [
    "driver=webdriver.Firefox(\"C:\\geckodriver-v0.29.1-win64\")"
   ]
  },
  {
   "cell_type": "code",
   "execution_count": 187,
   "metadata": {},
   "outputs": [],
   "source": [
    "driver.get(\"https://www.cardekho.com/\") #getting the website"
   ]
  },
  {
   "cell_type": "code",
   "execution_count": 188,
   "metadata": {},
   "outputs": [],
   "source": [
    "#Selecting Used Cars option\n",
    "k=driver.find_element_by_xpath(\"//ul[@class='gsc-ta-clickWrap ']/li[2]\")\n",
    "k.click() "
   ]
  },
  {
   "cell_type": "code",
   "execution_count": 189,
   "metadata": {},
   "outputs": [],
   "source": [
    "#Selecting serach option\n",
    "driver.find_element_by_xpath(\"(//div[@class='modelname ']/div/ul/li[3]/button)[2]\").click()"
   ]
  },
  {
   "cell_type": "code",
   "execution_count": 190,
   "metadata": {},
   "outputs": [],
   "source": [
    "#Entering city name\n",
    "city=driver.find_element_by_id(\"autocomplete\")\n",
    "city.send_keys(\"Pondicherry\")"
   ]
  },
  {
   "cell_type": "code",
   "execution_count": 191,
   "metadata": {},
   "outputs": [],
   "source": [
    "#selecting city from drop down\n",
    "driver.find_element_by_xpath(\"//div[@class='pac-container pac-logo']/div[1]\").click()"
   ]
  },
  {
   "cell_type": "code",
   "execution_count": 192,
   "metadata": {},
   "outputs": [],
   "source": [
    "#extracting data for the cars where owners is \"first owner\" from pondicherry city.\n",
    "#selecting the \"first onwer\" option from filters.\n",
    "driver.find_element_by_xpath(\"//ul[@class='checkBoxWrap sellerTypes ownerTypes']/li[1]\").click()"
   ]
  },
  {
   "cell_type": "code",
   "execution_count": 193,
   "metadata": {},
   "outputs": [],
   "source": [
    "#creating empty list for data to be collected.\n",
    "Price=[]\n",
    "Car_name=[]\n",
    "Kilometers_driven=[]\n",
    "Fuel=[]\n",
    "Transmission=[]\n",
    "Variant=[]"
   ]
  },
  {
   "cell_type": "code",
   "execution_count": 194,
   "metadata": {},
   "outputs": [],
   "source": [
    "#Collectig data .\n",
    "\n",
    "\n",
    "car_name=[] #collecting car name\n",
    "for i in driver.find_elements_by_xpath(\"//div[@class='gsc_col-xs-7 carsName']/a\")[0:200]:\n",
    "    car_name.append(i.text)\n",
    "time.sleep(4)\n",
    "\n",
    "\n",
    "Variant=[] #collecting car variant data\n",
    "for i in driver.find_elements_by_xpath(\"//div[@class='gsc_col-xs-7 carsName']/div[1]\")[0:200]:\n",
    "    Variant.append(i.text)\n",
    "time.sleep(4)\n",
    "\n",
    "\n",
    "Kilometers_driven=[] #collecting car kilometers dreiven \n",
    "for i in driver.find_elements_by_xpath(\"//div[@class='gsc_col-xs-7 carsName']/div[2]/span[1]\")[0:200]:\n",
    "    Kilometers_driven.append(i.text)\n",
    "time.sleep(4)\n",
    "\n",
    "Fuel=[] #which fuel is used for th car\n",
    "for i in driver.find_elements_by_xpath(\"//div[@class='gsc_col-xs-7 carsName']/div[2]/span[2]\")[0:200]:\n",
    "    Fuel.append(i.text)\n",
    "time.sleep(4)\n",
    "\n",
    "Transmission=[] #collecting car transmission data\n",
    "for i in driver.find_elements_by_xpath(\"//div[@class='gsc_col-xs-7 carsName']/div[2]/span[3]\")[0:200]:\n",
    "    Transmission.append(i.text)\n",
    "time.sleep(4)\n",
    "\n",
    "Price=[] #collecting car price\n",
    "for i in driver.find_elements_by_xpath(\"//div[@class='price gsc_col-xs-5 text-right']/span\")[0:200]:\n",
    "    Price.append(i.text)\n",
    "time.sleep(4)"
   ]
  },
  {
   "cell_type": "code",
   "execution_count": 195,
   "metadata": {},
   "outputs": [
    {
     "name": "stdout",
     "output_type": "stream",
     "text": [
      "Car_name 21\n",
      "Price 21\n",
      "Transmission 21\n",
      "Fuel 21\n",
      "Variant 21\n",
      "Kilometers_driven 21\n"
     ]
    }
   ],
   "source": [
    "print(\"Car_name\",len(car_name))\n",
    "print(\"Price\",len(Price))\n",
    "print(\"Transmission\",len(Transmission))\n",
    "print(\"Fuel\",len(Fuel))\n",
    "print(\"Variant\",len(Variant))\n",
    "print(\"Kilometers_driven\",len(Kilometers_driven))"
   ]
  },
  {
   "cell_type": "code",
   "execution_count": 196,
   "metadata": {},
   "outputs": [],
   "source": [
    "#creating data frame for the collected data.\n",
    "car_deko_17=pd.DataFrame({})\n",
    "car_deko_17['Price']=Price\n",
    "car_deko_17['Brand']=car_name\n",
    "car_deko_17['Kilometers_driven']=Kilometers_driven\n",
    "car_deko_17['Fuel']=Fuel\n",
    "car_deko_17['Transmission']=Transmission\n",
    "car_deko_17['Variant']=Variant\n",
    "#we know that the data is from first owner cars. \n",
    "#So we will add the first owner value for all the rows in data frama by creating a seperate column for owners. \n",
    "#Same we will do for location('Pondicherry'.)\n",
    "car_deko_17['No_owners']=\"FirstOwner\"\n",
    "car_deko_17['Location']=\"Pondicherry\""
   ]
  },
  {
   "cell_type": "code",
   "execution_count": 197,
   "metadata": {},
   "outputs": [
    {
     "data": {
      "text/html": [
       "<div>\n",
       "<style scoped>\n",
       "    .dataframe tbody tr th:only-of-type {\n",
       "        vertical-align: middle;\n",
       "    }\n",
       "\n",
       "    .dataframe tbody tr th {\n",
       "        vertical-align: top;\n",
       "    }\n",
       "\n",
       "    .dataframe thead th {\n",
       "        text-align: right;\n",
       "    }\n",
       "</style>\n",
       "<table border=\"1\" class=\"dataframe\">\n",
       "  <thead>\n",
       "    <tr style=\"text-align: right;\">\n",
       "      <th></th>\n",
       "      <th>Price</th>\n",
       "      <th>Brand</th>\n",
       "      <th>Kilometers_driven</th>\n",
       "      <th>Fuel</th>\n",
       "      <th>Transmission</th>\n",
       "      <th>Variant</th>\n",
       "      <th>No_owners</th>\n",
       "      <th>Location</th>\n",
       "    </tr>\n",
       "  </thead>\n",
       "  <tbody>\n",
       "    <tr>\n",
       "      <th>0</th>\n",
       "      <td>5.25 Lakh</td>\n",
       "      <td>2015 Volkswagen Polo</td>\n",
       "      <td>89,513 kms</td>\n",
       "      <td>Diesel</td>\n",
       "      <td>Manual</td>\n",
       "      <td>1.5 TDI Highline</td>\n",
       "      <td>FirstOwner</td>\n",
       "      <td>Pondicherry</td>\n",
       "    </tr>\n",
       "    <tr>\n",
       "      <th>1</th>\n",
       "      <td>5 Lakh</td>\n",
       "      <td>2016 Tata Tiago</td>\n",
       "      <td>20,000 kms</td>\n",
       "      <td>Petrol</td>\n",
       "      <td>Manual</td>\n",
       "      <td>1.2 Revotron XZ</td>\n",
       "      <td>FirstOwner</td>\n",
       "      <td>Pondicherry</td>\n",
       "    </tr>\n",
       "    <tr>\n",
       "      <th>2</th>\n",
       "      <td>5.2 Lakh</td>\n",
       "      <td>2015 Skoda Rapid</td>\n",
       "      <td>1,77,000 kms</td>\n",
       "      <td>Diesel</td>\n",
       "      <td>Automatic</td>\n",
       "      <td>1.5 TDI AT Elegance Plus Black Package</td>\n",
       "      <td>FirstOwner</td>\n",
       "      <td>Pondicherry</td>\n",
       "    </tr>\n",
       "    <tr>\n",
       "      <th>3</th>\n",
       "      <td>3.75 Lakh</td>\n",
       "      <td>2014 Maruti Wagon R Stingray</td>\n",
       "      <td>52,139 kms</td>\n",
       "      <td>Petrol</td>\n",
       "      <td>Manual</td>\n",
       "      <td>VXI</td>\n",
       "      <td>FirstOwner</td>\n",
       "      <td>Pondicherry</td>\n",
       "    </tr>\n",
       "    <tr>\n",
       "      <th>4</th>\n",
       "      <td>6.5 Lakh</td>\n",
       "      <td>2020 Honda Jazz</td>\n",
       "      <td>5,373 kms</td>\n",
       "      <td>Petrol</td>\n",
       "      <td>Automatic</td>\n",
       "      <td>VX CVT</td>\n",
       "      <td>FirstOwner</td>\n",
       "      <td>Pondicherry</td>\n",
       "    </tr>\n",
       "  </tbody>\n",
       "</table>\n",
       "</div>"
      ],
      "text/plain": [
       "       Price                         Brand Kilometers_driven    Fuel  \\\n",
       "0  5.25 Lakh          2015 Volkswagen Polo        89,513 kms  Diesel   \n",
       "1     5 Lakh               2016 Tata Tiago        20,000 kms  Petrol   \n",
       "2   5.2 Lakh              2015 Skoda Rapid      1,77,000 kms  Diesel   \n",
       "3  3.75 Lakh  2014 Maruti Wagon R Stingray        52,139 kms  Petrol   \n",
       "4   6.5 Lakh               2020 Honda Jazz         5,373 kms  Petrol   \n",
       "\n",
       "  Transmission                                 Variant   No_owners  \\\n",
       "0       Manual                        1.5 TDI Highline  FirstOwner   \n",
       "1       Manual                         1.2 Revotron XZ  FirstOwner   \n",
       "2    Automatic  1.5 TDI AT Elegance Plus Black Package  FirstOwner   \n",
       "3       Manual                                     VXI  FirstOwner   \n",
       "4    Automatic                                  VX CVT  FirstOwner   \n",
       "\n",
       "      Location  \n",
       "0  Pondicherry  \n",
       "1  Pondicherry  \n",
       "2  Pondicherry  \n",
       "3  Pondicherry  \n",
       "4  Pondicherry  "
      ]
     },
     "execution_count": 197,
     "metadata": {},
     "output_type": "execute_result"
    }
   ],
   "source": [
    "car_deko_17.head()"
   ]
  },
  {
   "cell_type": "code",
   "execution_count": 198,
   "metadata": {},
   "outputs": [],
   "source": [
    "#Let's scrap data for second owner cars"
   ]
  },
  {
   "cell_type": "code",
   "execution_count": 199,
   "metadata": {},
   "outputs": [],
   "source": [
    "#extracting data for the cars where owners is \"second owner\" from Pondicherry city.\n",
    "#selecting the \"second onwer\" option from filters.\n",
    "driver.find_element_by_xpath(\"//ul[@class='checkBoxWrap sellerTypes ownerTypes']/li[2]\").click()"
   ]
  },
  {
   "cell_type": "code",
   "execution_count": 200,
   "metadata": {},
   "outputs": [],
   "source": [
    "#creating empty list for data to be collected.\n",
    "Price=[]\n",
    "Car_name=[]\n",
    "Kilometers_driven=[]\n",
    "Fuel=[]\n",
    "Transmission=[]\n",
    "Variant=[]"
   ]
  },
  {
   "cell_type": "code",
   "execution_count": 201,
   "metadata": {},
   "outputs": [],
   "source": [
    "#Collectig data .\n",
    "\n",
    "\n",
    "car_name=[] #collecting car name\n",
    "for i in driver.find_elements_by_xpath(\"//div[@class='gsc_col-xs-7 carsName']/a\")[0:200]:\n",
    "    car_name.append(i.text)\n",
    "time.sleep(4)\n",
    "\n",
    "\n",
    "Variant=[] #collecting car variant data\n",
    "for i in driver.find_elements_by_xpath(\"//div[@class='gsc_col-xs-7 carsName']/div[1]\")[0:200]:\n",
    "    Variant.append(i.text)\n",
    "time.sleep(4)\n",
    "\n",
    "\n",
    "Kilometers_driven=[] #collecting car kilometers dreiven \n",
    "for i in driver.find_elements_by_xpath(\"//div[@class='gsc_col-xs-7 carsName']/div[2]/span[1]\")[0:200]:\n",
    "    Kilometers_driven.append(i.text)\n",
    "time.sleep(4)\n",
    "\n",
    "Fuel=[] #which fuel is used for th car\n",
    "for i in driver.find_elements_by_xpath(\"//div[@class='gsc_col-xs-7 carsName']/div[2]/span[2]\")[0:200]:\n",
    "    Fuel.append(i.text)\n",
    "time.sleep(4)\n",
    "\n",
    "Transmission=[] #collecting car transmission data\n",
    "for i in driver.find_elements_by_xpath(\"//div[@class='gsc_col-xs-7 carsName']/div[2]/span[3]\")[0:200]:\n",
    "    Transmission.append(i.text)\n",
    "time.sleep(4)\n",
    "\n",
    "Price=[] #collecting car price\n",
    "for i in driver.find_elements_by_xpath(\"//div[@class='price gsc_col-xs-5 text-right']/span\")[0:200]:\n",
    "    Price.append(i.text)\n",
    "time.sleep(4)"
   ]
  },
  {
   "cell_type": "code",
   "execution_count": 202,
   "metadata": {},
   "outputs": [
    {
     "name": "stdout",
     "output_type": "stream",
     "text": [
      "Car_name 15\n",
      "Price 15\n",
      "Transmission 15\n",
      "Fuel 15\n",
      "Variant 15\n",
      "Kilometers_driven 15\n"
     ]
    }
   ],
   "source": [
    "print(\"Car_name\",len(car_name))\n",
    "print(\"Price\",len(Price))\n",
    "print(\"Transmission\",len(Transmission))\n",
    "print(\"Fuel\",len(Fuel))\n",
    "print(\"Variant\",len(Variant))\n",
    "print(\"Kilometers_driven\",len(Kilometers_driven))"
   ]
  },
  {
   "cell_type": "code",
   "execution_count": 203,
   "metadata": {},
   "outputs": [],
   "source": [
    "#creating data frame for the collected data.\n",
    "car_deko_17_a=pd.DataFrame({})\n",
    "car_deko_17_a['Price']=Price\n",
    "car_deko_17_a['Brand']=car_name\n",
    "car_deko_17_a['Kilometers_driven']=Kilometers_driven\n",
    "car_deko_17_a['Fuel']=Fuel\n",
    "car_deko_17_a['Transmission']=Transmission\n",
    "car_deko_17_a['Variant']=Variant\n",
    "#we know that the data is from second owner cars. \n",
    "#So we will add the second owner value for all the rows in data frama by creating a seperate column for owners. \n",
    "#Same we will do for location('pondicherry'.)\n",
    "car_deko_17_a['No_owners']=\"SecondOwner\"\n",
    "car_deko_17_a['Location']=\"Pondicherry\"\n"
   ]
  },
  {
   "cell_type": "code",
   "execution_count": 204,
   "metadata": {},
   "outputs": [
    {
     "data": {
      "text/html": [
       "<div>\n",
       "<style scoped>\n",
       "    .dataframe tbody tr th:only-of-type {\n",
       "        vertical-align: middle;\n",
       "    }\n",
       "\n",
       "    .dataframe tbody tr th {\n",
       "        vertical-align: top;\n",
       "    }\n",
       "\n",
       "    .dataframe thead th {\n",
       "        text-align: right;\n",
       "    }\n",
       "</style>\n",
       "<table border=\"1\" class=\"dataframe\">\n",
       "  <thead>\n",
       "    <tr style=\"text-align: right;\">\n",
       "      <th></th>\n",
       "      <th>Price</th>\n",
       "      <th>Brand</th>\n",
       "      <th>Kilometers_driven</th>\n",
       "      <th>Fuel</th>\n",
       "      <th>Transmission</th>\n",
       "      <th>Variant</th>\n",
       "      <th>No_owners</th>\n",
       "      <th>Location</th>\n",
       "    </tr>\n",
       "  </thead>\n",
       "  <tbody>\n",
       "    <tr>\n",
       "      <th>0</th>\n",
       "      <td>1.4 Lakh</td>\n",
       "      <td>2006 Maruti Zen</td>\n",
       "      <td>70,000 kms</td>\n",
       "      <td>Petrol</td>\n",
       "      <td>Manual</td>\n",
       "      <td>2 Door</td>\n",
       "      <td>SecondOwner</td>\n",
       "      <td>Pondicherry</td>\n",
       "    </tr>\n",
       "    <tr>\n",
       "      <th>1</th>\n",
       "      <td>12 Lakh</td>\n",
       "      <td>2010 Audi A6</td>\n",
       "      <td>1,10,000 kms</td>\n",
       "      <td>Diesel</td>\n",
       "      <td>Automatic</td>\n",
       "      <td>3.0 TDI quattro</td>\n",
       "      <td>SecondOwner</td>\n",
       "      <td>Pondicherry</td>\n",
       "    </tr>\n",
       "    <tr>\n",
       "      <th>2</th>\n",
       "      <td>60,000</td>\n",
       "      <td>2002 Tata Indica</td>\n",
       "      <td>60,000 kms</td>\n",
       "      <td>Diesel</td>\n",
       "      <td>Manual</td>\n",
       "      <td>DL</td>\n",
       "      <td>SecondOwner</td>\n",
       "      <td>Pondicherry</td>\n",
       "    </tr>\n",
       "    <tr>\n",
       "      <th>3</th>\n",
       "      <td>45,000</td>\n",
       "      <td>2000 Maruti 800</td>\n",
       "      <td>80,000 kms</td>\n",
       "      <td>Petrol</td>\n",
       "      <td>Manual</td>\n",
       "      <td>AC</td>\n",
       "      <td>SecondOwner</td>\n",
       "      <td>Pondicherry</td>\n",
       "    </tr>\n",
       "    <tr>\n",
       "      <th>4</th>\n",
       "      <td>4 Lakh</td>\n",
       "      <td>2010 Mahindra Xylo</td>\n",
       "      <td>40,000 kms</td>\n",
       "      <td>Diesel</td>\n",
       "      <td>Manual</td>\n",
       "      <td>E8 BS4</td>\n",
       "      <td>SecondOwner</td>\n",
       "      <td>Pondicherry</td>\n",
       "    </tr>\n",
       "  </tbody>\n",
       "</table>\n",
       "</div>"
      ],
      "text/plain": [
       "      Price               Brand Kilometers_driven    Fuel Transmission  \\\n",
       "0  1.4 Lakh     2006 Maruti Zen        70,000 kms  Petrol       Manual   \n",
       "1   12 Lakh        2010 Audi A6      1,10,000 kms  Diesel    Automatic   \n",
       "2    60,000    2002 Tata Indica        60,000 kms  Diesel       Manual   \n",
       "3    45,000     2000 Maruti 800        80,000 kms  Petrol       Manual   \n",
       "4    4 Lakh  2010 Mahindra Xylo        40,000 kms  Diesel       Manual   \n",
       "\n",
       "           Variant    No_owners     Location  \n",
       "0           2 Door  SecondOwner  Pondicherry  \n",
       "1  3.0 TDI quattro  SecondOwner  Pondicherry  \n",
       "2               DL  SecondOwner  Pondicherry  \n",
       "3               AC  SecondOwner  Pondicherry  \n",
       "4           E8 BS4  SecondOwner  Pondicherry  "
      ]
     },
     "execution_count": 204,
     "metadata": {},
     "output_type": "execute_result"
    }
   ],
   "source": [
    "car_deko_17_a.head()"
   ]
  },
  {
   "cell_type": "code",
   "execution_count": null,
   "metadata": {},
   "outputs": [],
   "source": []
  },
  {
   "cell_type": "code",
   "execution_count": 205,
   "metadata": {},
   "outputs": [],
   "source": [
    "#Let's scrap third owner cars data"
   ]
  },
  {
   "cell_type": "code",
   "execution_count": 206,
   "metadata": {},
   "outputs": [],
   "source": [
    "#extracting data for the cars where owners is \"third owner\" from Pondicherry city.\n",
    "#selecting the \"third onwer\" option from filters.\n",
    "driver.find_element_by_xpath(\"//ul[@class='checkBoxWrap sellerTypes ownerTypes']/li[3]\").click()"
   ]
  },
  {
   "cell_type": "code",
   "execution_count": 207,
   "metadata": {},
   "outputs": [],
   "source": [
    "#creating empty list for data to be collected.\n",
    "Price=[]\n",
    "Car_name=[]\n",
    "Kilometers_driven=[]\n",
    "Fuel=[]\n",
    "Transmission=[]\n",
    "Variant=[]"
   ]
  },
  {
   "cell_type": "code",
   "execution_count": 208,
   "metadata": {},
   "outputs": [],
   "source": [
    "#Collectig data .\n",
    "\n",
    "\n",
    "car_name=[] #collecting car name\n",
    "for i in driver.find_elements_by_xpath(\"//div[@class='gsc_col-xs-7 carsName']/a\")[0:200]:\n",
    "    car_name.append(i.text)\n",
    "time.sleep(4)\n",
    "\n",
    "\n",
    "Variant=[] #collecting car variant data\n",
    "for i in driver.find_elements_by_xpath(\"//div[@class='gsc_col-xs-7 carsName']/div[1]\")[0:200]:\n",
    "    Variant.append(i.text)\n",
    "time.sleep(4)\n",
    "\n",
    "\n",
    "Kilometers_driven=[] #collecting car kilometers dreiven \n",
    "for i in driver.find_elements_by_xpath(\"//div[@class='gsc_col-xs-7 carsName']/div[2]/span[1]\")[0:200]:\n",
    "    Kilometers_driven.append(i.text)\n",
    "time.sleep(4)\n",
    "\n",
    "Fuel=[] #which fuel is used for th car\n",
    "for i in driver.find_elements_by_xpath(\"//div[@class='gsc_col-xs-7 carsName']/div[2]/span[2]\")[0:200]:\n",
    "    Fuel.append(i.text)\n",
    "time.sleep(4)\n",
    "\n",
    "Transmission=[] #collecting car transmission data\n",
    "for i in driver.find_elements_by_xpath(\"//div[@class='gsc_col-xs-7 carsName']/div[2]/span[3]\")[0:200]:\n",
    "    Transmission.append(i.text)\n",
    "time.sleep(4)\n",
    "\n",
    "Price=[] #collecting car price\n",
    "for i in driver.find_elements_by_xpath(\"//div[@class='price gsc_col-xs-5 text-right']/span\")[0:200]:\n",
    "    Price.append(i.text)\n",
    "time.sleep(4)"
   ]
  },
  {
   "cell_type": "code",
   "execution_count": 209,
   "metadata": {},
   "outputs": [
    {
     "name": "stdout",
     "output_type": "stream",
     "text": [
      "Car_name 4\n",
      "Price 4\n",
      "Transmission 4\n",
      "Fuel 4\n",
      "Variant 4\n",
      "Kilometers_driven 4\n"
     ]
    }
   ],
   "source": [
    "print(\"Car_name\",len(car_name))\n",
    "print(\"Price\",len(Price))\n",
    "print(\"Transmission\",len(Transmission))\n",
    "print(\"Fuel\",len(Fuel))\n",
    "print(\"Variant\",len(Variant))\n",
    "print(\"Kilometers_driven\",len(Kilometers_driven))"
   ]
  },
  {
   "cell_type": "code",
   "execution_count": 210,
   "metadata": {},
   "outputs": [],
   "source": [
    "#creating data frame for the collected data.\n",
    "car_deko_17_b=pd.DataFrame({})\n",
    "car_deko_17_b['Price']=Price\n",
    "car_deko_17_b['Brand']=car_name\n",
    "car_deko_17_b['Kilometers_driven']=Kilometers_driven\n",
    "car_deko_17_b['Fuel']=Fuel\n",
    "car_deko_17_b['Transmission']=Transmission\n",
    "car_deko_17_b['Variant']=Variant\n",
    "#we know that the data is from third owner cars. \n",
    "#So we will add the third owner value for all the rows in data frama by creating a seperate column for owners. \n",
    "#Same we will do for location('pondicherry'.)\n",
    "car_deko_17_b['No_owners']=\"Thirdowner\"\n",
    "car_deko_17_b['Location']=\"Pondicherry\""
   ]
  },
  {
   "cell_type": "code",
   "execution_count": 211,
   "metadata": {},
   "outputs": [
    {
     "data": {
      "text/html": [
       "<div>\n",
       "<style scoped>\n",
       "    .dataframe tbody tr th:only-of-type {\n",
       "        vertical-align: middle;\n",
       "    }\n",
       "\n",
       "    .dataframe tbody tr th {\n",
       "        vertical-align: top;\n",
       "    }\n",
       "\n",
       "    .dataframe thead th {\n",
       "        text-align: right;\n",
       "    }\n",
       "</style>\n",
       "<table border=\"1\" class=\"dataframe\">\n",
       "  <thead>\n",
       "    <tr style=\"text-align: right;\">\n",
       "      <th></th>\n",
       "      <th>Price</th>\n",
       "      <th>Brand</th>\n",
       "      <th>Kilometers_driven</th>\n",
       "      <th>Fuel</th>\n",
       "      <th>Transmission</th>\n",
       "      <th>Variant</th>\n",
       "      <th>No_owners</th>\n",
       "      <th>Location</th>\n",
       "    </tr>\n",
       "  </thead>\n",
       "  <tbody>\n",
       "    <tr>\n",
       "      <th>0</th>\n",
       "      <td>4 Lakh</td>\n",
       "      <td>2010 Chevrolet Tavera</td>\n",
       "      <td>1,10,000 kms</td>\n",
       "      <td>Diesel</td>\n",
       "      <td>Manual</td>\n",
       "      <td>Neo 3 LS 10 Seats BSIII</td>\n",
       "      <td>Thirdowner</td>\n",
       "      <td>Pondicherry</td>\n",
       "    </tr>\n",
       "    <tr>\n",
       "      <th>1</th>\n",
       "      <td>7.41 Lakh</td>\n",
       "      <td>2016 Hyundai Creta</td>\n",
       "      <td>70,000 kms</td>\n",
       "      <td>Petrol</td>\n",
       "      <td>Manual</td>\n",
       "      <td>1.6 VTVT SX Plus</td>\n",
       "      <td>Thirdowner</td>\n",
       "      <td>Pondicherry</td>\n",
       "    </tr>\n",
       "    <tr>\n",
       "      <th>2</th>\n",
       "      <td>2.5 Lakh</td>\n",
       "      <td>2010 Ford Fiesta</td>\n",
       "      <td>1,10,000 kms</td>\n",
       "      <td>Diesel</td>\n",
       "      <td>Manual</td>\n",
       "      <td>1.4 ZXi TDCi ABS</td>\n",
       "      <td>Thirdowner</td>\n",
       "      <td>Pondicherry</td>\n",
       "    </tr>\n",
       "    <tr>\n",
       "      <th>3</th>\n",
       "      <td>90,000</td>\n",
       "      <td>2004 Honda City</td>\n",
       "      <td>120,000 kms</td>\n",
       "      <td>Petrol</td>\n",
       "      <td>Manual</td>\n",
       "      <td>1.5 GXI</td>\n",
       "      <td>Thirdowner</td>\n",
       "      <td>Pondicherry</td>\n",
       "    </tr>\n",
       "  </tbody>\n",
       "</table>\n",
       "</div>"
      ],
      "text/plain": [
       "       Price                  Brand Kilometers_driven    Fuel Transmission  \\\n",
       "0     4 Lakh  2010 Chevrolet Tavera      1,10,000 kms  Diesel       Manual   \n",
       "1  7.41 Lakh     2016 Hyundai Creta        70,000 kms  Petrol       Manual   \n",
       "2   2.5 Lakh       2010 Ford Fiesta      1,10,000 kms  Diesel       Manual   \n",
       "3     90,000        2004 Honda City       120,000 kms  Petrol       Manual   \n",
       "\n",
       "                   Variant   No_owners     Location  \n",
       "0  Neo 3 LS 10 Seats BSIII  Thirdowner  Pondicherry  \n",
       "1         1.6 VTVT SX Plus  Thirdowner  Pondicherry  \n",
       "2         1.4 ZXi TDCi ABS  Thirdowner  Pondicherry  \n",
       "3                  1.5 GXI  Thirdowner  Pondicherry  "
      ]
     },
     "execution_count": 211,
     "metadata": {},
     "output_type": "execute_result"
    }
   ],
   "source": [
    "car_deko_17_b.head()"
   ]
  },
  {
   "cell_type": "code",
   "execution_count": 212,
   "metadata": {},
   "outputs": [],
   "source": [
    "#Let's concatenate all pondicherry cars scrapped data"
   ]
  },
  {
   "cell_type": "code",
   "execution_count": 214,
   "metadata": {},
   "outputs": [],
   "source": [
    "car_dekho_Pondicherry=pd.concat([car_deko_17,car_deko_17_a,car_deko_17_b])"
   ]
  },
  {
   "cell_type": "code",
   "execution_count": 215,
   "metadata": {},
   "outputs": [
    {
     "data": {
      "text/plain": [
       "(40, 8)"
      ]
     },
     "execution_count": 215,
     "metadata": {},
     "output_type": "execute_result"
    }
   ],
   "source": [
    "car_dekho_Pondicherry.shape"
   ]
  },
  {
   "cell_type": "code",
   "execution_count": 216,
   "metadata": {},
   "outputs": [],
   "source": [
    "driver.close()"
   ]
  },
  {
   "cell_type": "code",
   "execution_count": null,
   "metadata": {},
   "outputs": [],
   "source": []
  },
  {
   "cell_type": "markdown",
   "metadata": {},
   "source": [
    "# Jaipur"
   ]
  },
  {
   "cell_type": "code",
   "execution_count": 217,
   "metadata": {},
   "outputs": [],
   "source": [
    "driver=webdriver.Firefox(\"C:\\geckodriver-v0.29.1-win64\")"
   ]
  },
  {
   "cell_type": "code",
   "execution_count": 218,
   "metadata": {},
   "outputs": [],
   "source": [
    "driver.get(\"https://www.cardekho.com/\") #getting the website"
   ]
  },
  {
   "cell_type": "code",
   "execution_count": 219,
   "metadata": {},
   "outputs": [],
   "source": [
    "#Selecting Used Cars option\n",
    "k=driver.find_element_by_xpath(\"//ul[@class='gsc-ta-clickWrap ']/li[2]\")\n",
    "k.click()"
   ]
  },
  {
   "cell_type": "code",
   "execution_count": 220,
   "metadata": {},
   "outputs": [],
   "source": [
    "#Selecting serach option\n",
    "driver.find_element_by_xpath(\"(//div[@class='modelname ']/div/ul/li[3]/button)[2]\").click()"
   ]
  },
  {
   "cell_type": "code",
   "execution_count": 221,
   "metadata": {},
   "outputs": [],
   "source": [
    "#Entering city name\n",
    "city=driver.find_element_by_id(\"autocomplete\")\n",
    "city.send_keys(\"Jaipur\")"
   ]
  },
  {
   "cell_type": "code",
   "execution_count": 222,
   "metadata": {},
   "outputs": [],
   "source": [
    "#selecting city from drop down\n",
    "driver.find_element_by_xpath(\"//div[@class='pac-container pac-logo']/div[1]\").click()"
   ]
  },
  {
   "cell_type": "code",
   "execution_count": 223,
   "metadata": {},
   "outputs": [],
   "source": [
    "#extracting data for the cars where owners is \"first owner\" from Jaipur city.\n",
    "#selecting the \"first onwer\" option from filters.\n",
    "driver.find_element_by_xpath(\"//ul[@class='checkBoxWrap sellerTypes ownerTypes']/li[2]\").click()"
   ]
  },
  {
   "cell_type": "code",
   "execution_count": 224,
   "metadata": {},
   "outputs": [],
   "source": [
    "#creating empty list for data to be collected.\n",
    "Price=[]\n",
    "Car_name=[]\n",
    "Kilometers_driven=[]\n",
    "Fuel=[]\n",
    "Transmission=[]\n",
    "Variant=[]"
   ]
  },
  {
   "cell_type": "code",
   "execution_count": 225,
   "metadata": {},
   "outputs": [],
   "source": [
    "#Collectig data .\n",
    "\n",
    "\n",
    "car_name=[] #collecting car name\n",
    "for i in driver.find_elements_by_xpath(\"//div[@class='gsc_col-xs-7 carsName']/a\")[0:200]:\n",
    "    car_name.append(i.text)\n",
    "time.sleep(4)\n",
    "\n",
    "\n",
    "Variant=[] #collecting car variant data\n",
    "for i in driver.find_elements_by_xpath(\"//div[@class='gsc_col-xs-7 carsName']/div[1]\")[0:200]:\n",
    "    Variant.append(i.text)\n",
    "time.sleep(4)\n",
    "\n",
    "\n",
    "Kilometers_driven=[] #collecting car kilometers dreiven \n",
    "for i in driver.find_elements_by_xpath(\"//div[@class='gsc_col-xs-7 carsName']/div[2]/span[1]\")[0:200]:\n",
    "    Kilometers_driven.append(i.text)\n",
    "time.sleep(4)\n",
    "\n",
    "Fuel=[] #which fuel is used for th car\n",
    "for i in driver.find_elements_by_xpath(\"//div[@class='gsc_col-xs-7 carsName']/div[2]/span[2]\")[0:200]:\n",
    "    Fuel.append(i.text)\n",
    "time.sleep(4)\n",
    "\n",
    "Transmission=[] #collecting car transmission data\n",
    "for i in driver.find_elements_by_xpath(\"//div[@class='gsc_col-xs-7 carsName']/div[2]/span[3]\")[0:200]:\n",
    "    Transmission.append(i.text)\n",
    "time.sleep(4)\n",
    "\n",
    "Price=[] #collecting car price\n",
    "for i in driver.find_elements_by_xpath(\"//div[@class='price gsc_col-xs-5 text-right']/span\")[0:200]:\n",
    "    Price.append(i.text)\n",
    "time.sleep(4)"
   ]
  },
  {
   "cell_type": "code",
   "execution_count": 226,
   "metadata": {},
   "outputs": [
    {
     "name": "stdout",
     "output_type": "stream",
     "text": [
      "Car_name 200\n",
      "Price 200\n",
      "Transmission 200\n",
      "Fuel 200\n",
      "Variant 200\n",
      "Kilometers_driven 200\n"
     ]
    }
   ],
   "source": [
    "print(\"Car_name\",len(car_name))\n",
    "print(\"Price\",len(Price))\n",
    "print(\"Transmission\",len(Transmission))\n",
    "print(\"Fuel\",len(Fuel))\n",
    "print(\"Variant\",len(Variant))\n",
    "print(\"Kilometers_driven\",len(Kilometers_driven))"
   ]
  },
  {
   "cell_type": "code",
   "execution_count": 227,
   "metadata": {},
   "outputs": [],
   "source": [
    "#creating data frame for the collected data.\n",
    "car_deko_18=pd.DataFrame({})\n",
    "car_deko_18['Price']=Price\n",
    "car_deko_18['Brand']=car_name\n",
    "car_deko_18['Kilometers_driven']=Kilometers_driven\n",
    "car_deko_18['Fuel']=Fuel\n",
    "car_deko_18['Transmission']=Transmission\n",
    "car_deko_18['Variant']=Variant\n",
    "#we know that the data is from first owner cars. \n",
    "#So we will add the first owner value for all the rows in data frama by creating a seperate column for owners. \n",
    "#Same we will do for location('Jaipur'.)\n",
    "car_deko_18['No_owners']=\"FirstOwner\"\n",
    "car_deko_18['Location']=\"Jaipur\""
   ]
  },
  {
   "cell_type": "code",
   "execution_count": 228,
   "metadata": {},
   "outputs": [
    {
     "data": {
      "text/html": [
       "<div>\n",
       "<style scoped>\n",
       "    .dataframe tbody tr th:only-of-type {\n",
       "        vertical-align: middle;\n",
       "    }\n",
       "\n",
       "    .dataframe tbody tr th {\n",
       "        vertical-align: top;\n",
       "    }\n",
       "\n",
       "    .dataframe thead th {\n",
       "        text-align: right;\n",
       "    }\n",
       "</style>\n",
       "<table border=\"1\" class=\"dataframe\">\n",
       "  <thead>\n",
       "    <tr style=\"text-align: right;\">\n",
       "      <th></th>\n",
       "      <th>Price</th>\n",
       "      <th>Brand</th>\n",
       "      <th>Kilometers_driven</th>\n",
       "      <th>Fuel</th>\n",
       "      <th>Transmission</th>\n",
       "      <th>Variant</th>\n",
       "      <th>No_owners</th>\n",
       "      <th>Location</th>\n",
       "    </tr>\n",
       "  </thead>\n",
       "  <tbody>\n",
       "    <tr>\n",
       "      <th>0</th>\n",
       "      <td>5.07 Lakh</td>\n",
       "      <td>2018 Maruti Ignis</td>\n",
       "      <td>14,302 kms</td>\n",
       "      <td>Petrol</td>\n",
       "      <td>Manual</td>\n",
       "      <td>1.2 Delta BSIV</td>\n",
       "      <td>FirstOwner</td>\n",
       "      <td>Jaipur</td>\n",
       "    </tr>\n",
       "    <tr>\n",
       "      <th>1</th>\n",
       "      <td>3.51 Lakh</td>\n",
       "      <td>2019 Maruti S-Presso</td>\n",
       "      <td>1,577 kms</td>\n",
       "      <td>Petrol</td>\n",
       "      <td>Manual</td>\n",
       "      <td>STD</td>\n",
       "      <td>FirstOwner</td>\n",
       "      <td>Jaipur</td>\n",
       "    </tr>\n",
       "    <tr>\n",
       "      <th>2</th>\n",
       "      <td>9.77 Lakh</td>\n",
       "      <td>2019 Maruti Vitara Brezza</td>\n",
       "      <td>36,521 kms</td>\n",
       "      <td>Diesel</td>\n",
       "      <td>Manual</td>\n",
       "      <td>ZDi Plus</td>\n",
       "      <td>FirstOwner</td>\n",
       "      <td>Jaipur</td>\n",
       "    </tr>\n",
       "    <tr>\n",
       "      <th>3</th>\n",
       "      <td>3.91 Lakh</td>\n",
       "      <td>2013 Toyota Etios Liva</td>\n",
       "      <td>1,03,561 kms</td>\n",
       "      <td>Diesel</td>\n",
       "      <td>Manual</td>\n",
       "      <td>GD SP</td>\n",
       "      <td>FirstOwner</td>\n",
       "      <td>Jaipur</td>\n",
       "    </tr>\n",
       "    <tr>\n",
       "      <th>4</th>\n",
       "      <td>5.68 Lakh</td>\n",
       "      <td>2016 Maruti Baleno</td>\n",
       "      <td>46,024 kms</td>\n",
       "      <td>Petrol</td>\n",
       "      <td>Manual</td>\n",
       "      <td>1.2 Delta</td>\n",
       "      <td>FirstOwner</td>\n",
       "      <td>Jaipur</td>\n",
       "    </tr>\n",
       "  </tbody>\n",
       "</table>\n",
       "</div>"
      ],
      "text/plain": [
       "       Price                      Brand Kilometers_driven    Fuel  \\\n",
       "0  5.07 Lakh          2018 Maruti Ignis        14,302 kms  Petrol   \n",
       "1  3.51 Lakh       2019 Maruti S-Presso         1,577 kms  Petrol   \n",
       "2  9.77 Lakh  2019 Maruti Vitara Brezza        36,521 kms  Diesel   \n",
       "3  3.91 Lakh     2013 Toyota Etios Liva      1,03,561 kms  Diesel   \n",
       "4  5.68 Lakh         2016 Maruti Baleno        46,024 kms  Petrol   \n",
       "\n",
       "  Transmission         Variant   No_owners Location  \n",
       "0       Manual  1.2 Delta BSIV  FirstOwner   Jaipur  \n",
       "1       Manual             STD  FirstOwner   Jaipur  \n",
       "2       Manual        ZDi Plus  FirstOwner   Jaipur  \n",
       "3       Manual           GD SP  FirstOwner   Jaipur  \n",
       "4       Manual       1.2 Delta  FirstOwner   Jaipur  "
      ]
     },
     "execution_count": 228,
     "metadata": {},
     "output_type": "execute_result"
    }
   ],
   "source": [
    "car_deko_18.head()"
   ]
  },
  {
   "cell_type": "code",
   "execution_count": null,
   "metadata": {},
   "outputs": [],
   "source": []
  },
  {
   "cell_type": "code",
   "execution_count": 229,
   "metadata": {},
   "outputs": [],
   "source": [
    "#Let's scrap second owner cars data"
   ]
  },
  {
   "cell_type": "code",
   "execution_count": 230,
   "metadata": {},
   "outputs": [],
   "source": [
    "#extracting data for the cars where owners is \"second owner\" from Jaipur city.\n",
    "#selecting the \"second onwer\" option from filters.\n",
    "driver.find_element_by_xpath(\"//ul[@class='checkBoxWrap sellerTypes ownerTypes']/li[3]\").click()"
   ]
  },
  {
   "cell_type": "code",
   "execution_count": 231,
   "metadata": {},
   "outputs": [],
   "source": [
    "#creating empty list for data to be collected.\n",
    "Price=[]\n",
    "Car_name=[]\n",
    "Kilometers_driven=[]\n",
    "Fuel=[]\n",
    "Transmission=[]\n",
    "Variant=[]"
   ]
  },
  {
   "cell_type": "code",
   "execution_count": 232,
   "metadata": {},
   "outputs": [],
   "source": [
    "#Collectig data .\n",
    "\n",
    "\n",
    "car_name=[] #collecting car name\n",
    "for i in driver.find_elements_by_xpath(\"//div[@class='gsc_col-xs-7 carsName']/a\")[0:200]:\n",
    "    car_name.append(i.text)\n",
    "time.sleep(4)\n",
    "\n",
    "\n",
    "Variant=[] #collecting car variant data\n",
    "for i in driver.find_elements_by_xpath(\"//div[@class='gsc_col-xs-7 carsName']/div[1]\")[0:200]:\n",
    "    Variant.append(i.text)\n",
    "time.sleep(4)\n",
    "\n",
    "\n",
    "Kilometers_driven=[] #collecting car kilometers dreiven \n",
    "for i in driver.find_elements_by_xpath(\"//div[@class='gsc_col-xs-7 carsName']/div[2]/span[1]\")[0:200]:\n",
    "    Kilometers_driven.append(i.text)\n",
    "time.sleep(4)\n",
    "\n",
    "Fuel=[] #which fuel is used for th car\n",
    "for i in driver.find_elements_by_xpath(\"//div[@class='gsc_col-xs-7 carsName']/div[2]/span[2]\")[0:200]:\n",
    "    Fuel.append(i.text)\n",
    "time.sleep(4)\n",
    "\n",
    "Transmission=[] #collecting car transmission data\n",
    "for i in driver.find_elements_by_xpath(\"//div[@class='gsc_col-xs-7 carsName']/div[2]/span[3]\")[0:200]:\n",
    "    Transmission.append(i.text)\n",
    "time.sleep(4)\n",
    "\n",
    "Price=[] #collecting car price\n",
    "for i in driver.find_elements_by_xpath(\"//div[@class='price gsc_col-xs-5 text-right']/span\")[0:200]:\n",
    "    Price.append(i.text)\n",
    "time.sleep(4)"
   ]
  },
  {
   "cell_type": "code",
   "execution_count": 233,
   "metadata": {},
   "outputs": [
    {
     "name": "stdout",
     "output_type": "stream",
     "text": [
      "Car_name 189\n",
      "Price 189\n",
      "Transmission 189\n",
      "Fuel 189\n",
      "Variant 189\n",
      "Kilometers_driven 189\n"
     ]
    }
   ],
   "source": [
    "print(\"Car_name\",len(car_name))\n",
    "print(\"Price\",len(Price))\n",
    "print(\"Transmission\",len(Transmission))\n",
    "print(\"Fuel\",len(Fuel))\n",
    "print(\"Variant\",len(Variant))\n",
    "print(\"Kilometers_driven\",len(Kilometers_driven))"
   ]
  },
  {
   "cell_type": "code",
   "execution_count": 234,
   "metadata": {},
   "outputs": [],
   "source": [
    "#creating data frame for the collected data.\n",
    "car_deko_18_a=pd.DataFrame({})\n",
    "car_deko_18_a['Price']=Price\n",
    "car_deko_18_a['Brand']=car_name\n",
    "car_deko_18_a['Kilometers_driven']=Kilometers_driven\n",
    "car_deko_18_a['Fuel']=Fuel\n",
    "car_deko_18_a['Transmission']=Transmission\n",
    "car_deko_18_a['Variant']=Variant\n",
    "#we know that the data is from second owner cars. \n",
    "#So we will add the second owner value for all the rows in data frama by creating a seperate column for owners. \n",
    "#Same we will do for location('Jaipur'.)\n",
    "car_deko_18_a['No_owners']=\"SecondOwner\"\n",
    "car_deko_18_a['Location']=\"Jaipur\""
   ]
  },
  {
   "cell_type": "code",
   "execution_count": 235,
   "metadata": {},
   "outputs": [
    {
     "data": {
      "text/html": [
       "<div>\n",
       "<style scoped>\n",
       "    .dataframe tbody tr th:only-of-type {\n",
       "        vertical-align: middle;\n",
       "    }\n",
       "\n",
       "    .dataframe tbody tr th {\n",
       "        vertical-align: top;\n",
       "    }\n",
       "\n",
       "    .dataframe thead th {\n",
       "        text-align: right;\n",
       "    }\n",
       "</style>\n",
       "<table border=\"1\" class=\"dataframe\">\n",
       "  <thead>\n",
       "    <tr style=\"text-align: right;\">\n",
       "      <th></th>\n",
       "      <th>Price</th>\n",
       "      <th>Brand</th>\n",
       "      <th>Kilometers_driven</th>\n",
       "      <th>Fuel</th>\n",
       "      <th>Transmission</th>\n",
       "      <th>Variant</th>\n",
       "      <th>No_owners</th>\n",
       "      <th>Location</th>\n",
       "    </tr>\n",
       "  </thead>\n",
       "  <tbody>\n",
       "    <tr>\n",
       "      <th>0</th>\n",
       "      <td>10.26 Lakh</td>\n",
       "      <td>2019 Mahindra XUV300</td>\n",
       "      <td>41,395 kms</td>\n",
       "      <td>Diesel</td>\n",
       "      <td>Manual</td>\n",
       "      <td>W8 Option Diesel BSIV</td>\n",
       "      <td>SecondOwner</td>\n",
       "      <td>Jaipur</td>\n",
       "    </tr>\n",
       "    <tr>\n",
       "      <th>1</th>\n",
       "      <td>4.21 Lakh</td>\n",
       "      <td>2016 Hyundai Grand i10</td>\n",
       "      <td>75,923 kms</td>\n",
       "      <td>Diesel</td>\n",
       "      <td>Manual</td>\n",
       "      <td>CRDi Sportz</td>\n",
       "      <td>SecondOwner</td>\n",
       "      <td>Jaipur</td>\n",
       "    </tr>\n",
       "    <tr>\n",
       "      <th>2</th>\n",
       "      <td>4.57 Lakh</td>\n",
       "      <td>2016 Hyundai Grand i10</td>\n",
       "      <td>26,215 kms</td>\n",
       "      <td>Petrol</td>\n",
       "      <td>Manual</td>\n",
       "      <td>Sportz</td>\n",
       "      <td>SecondOwner</td>\n",
       "      <td>Jaipur</td>\n",
       "    </tr>\n",
       "    <tr>\n",
       "      <th>3</th>\n",
       "      <td>4.44 Lakh</td>\n",
       "      <td>2016 Hyundai Grand i10</td>\n",
       "      <td>55,010 kms</td>\n",
       "      <td>Petrol</td>\n",
       "      <td>Manual</td>\n",
       "      <td>Sportz</td>\n",
       "      <td>SecondOwner</td>\n",
       "      <td>Jaipur</td>\n",
       "    </tr>\n",
       "    <tr>\n",
       "      <th>4</th>\n",
       "      <td>3.73 Lakh</td>\n",
       "      <td>2013 Hyundai Grand i10</td>\n",
       "      <td>74,927 kms</td>\n",
       "      <td>Diesel</td>\n",
       "      <td>Manual</td>\n",
       "      <td>1.2 CRDi Sportz</td>\n",
       "      <td>SecondOwner</td>\n",
       "      <td>Jaipur</td>\n",
       "    </tr>\n",
       "  </tbody>\n",
       "</table>\n",
       "</div>"
      ],
      "text/plain": [
       "        Price                   Brand Kilometers_driven    Fuel Transmission  \\\n",
       "0  10.26 Lakh    2019 Mahindra XUV300        41,395 kms  Diesel       Manual   \n",
       "1   4.21 Lakh  2016 Hyundai Grand i10        75,923 kms  Diesel       Manual   \n",
       "2   4.57 Lakh  2016 Hyundai Grand i10        26,215 kms  Petrol       Manual   \n",
       "3   4.44 Lakh  2016 Hyundai Grand i10        55,010 kms  Petrol       Manual   \n",
       "4   3.73 Lakh  2013 Hyundai Grand i10        74,927 kms  Diesel       Manual   \n",
       "\n",
       "                 Variant    No_owners Location  \n",
       "0  W8 Option Diesel BSIV  SecondOwner   Jaipur  \n",
       "1            CRDi Sportz  SecondOwner   Jaipur  \n",
       "2                 Sportz  SecondOwner   Jaipur  \n",
       "3                 Sportz  SecondOwner   Jaipur  \n",
       "4        1.2 CRDi Sportz  SecondOwner   Jaipur  "
      ]
     },
     "execution_count": 235,
     "metadata": {},
     "output_type": "execute_result"
    }
   ],
   "source": [
    "car_deko_18_a.head()"
   ]
  },
  {
   "cell_type": "code",
   "execution_count": 236,
   "metadata": {},
   "outputs": [],
   "source": [
    "#Let's scrap third owner cars data"
   ]
  },
  {
   "cell_type": "code",
   "execution_count": 237,
   "metadata": {},
   "outputs": [],
   "source": [
    "#extracting data for the cars where owners is \"third owner\" from jaipur city.\n",
    "#selecting the \"third onwer\" option from filters.\n",
    "driver.find_element_by_xpath(\"//ul[@class='checkBoxWrap sellerTypes ownerTypes']/li[4]\").click()"
   ]
  },
  {
   "cell_type": "code",
   "execution_count": 238,
   "metadata": {},
   "outputs": [],
   "source": [
    "#creating empty list for data to be collected.\n",
    "Price=[]\n",
    "Car_name=[]\n",
    "Kilometers_driven=[]\n",
    "Fuel=[]\n",
    "Transmission=[]\n",
    "Variant=[]"
   ]
  },
  {
   "cell_type": "code",
   "execution_count": 239,
   "metadata": {},
   "outputs": [],
   "source": [
    "#Collectig data .\n",
    "\n",
    "\n",
    "car_name=[] #collecting car name\n",
    "for i in driver.find_elements_by_xpath(\"//div[@class='gsc_col-xs-7 carsName']/a\")[0:200]:\n",
    "    car_name.append(i.text)\n",
    "time.sleep(4)\n",
    "\n",
    "\n",
    "Variant=[] #collecting car variant data\n",
    "for i in driver.find_elements_by_xpath(\"//div[@class='gsc_col-xs-7 carsName']/div[1]\")[0:200]:\n",
    "    Variant.append(i.text)\n",
    "time.sleep(4)\n",
    "\n",
    "\n",
    "Kilometers_driven=[] #collecting car kilometers dreiven \n",
    "for i in driver.find_elements_by_xpath(\"//div[@class='gsc_col-xs-7 carsName']/div[2]/span[1]\")[0:200]:\n",
    "    Kilometers_driven.append(i.text)\n",
    "time.sleep(4)\n",
    "\n",
    "Fuel=[] #which fuel is used for th car\n",
    "for i in driver.find_elements_by_xpath(\"//div[@class='gsc_col-xs-7 carsName']/div[2]/span[2]\")[0:200]:\n",
    "    Fuel.append(i.text)\n",
    "time.sleep(4)\n",
    "\n",
    "Transmission=[] #collecting car transmission data\n",
    "for i in driver.find_elements_by_xpath(\"//div[@class='gsc_col-xs-7 carsName']/div[2]/span[3]\")[0:200]:\n",
    "    Transmission.append(i.text)\n",
    "time.sleep(4)\n",
    "\n",
    "Price=[] #collecting car price\n",
    "for i in driver.find_elements_by_xpath(\"//div[@class='price gsc_col-xs-5 text-right']/span\")[0:200]:\n",
    "    Price.append(i.text)\n",
    "time.sleep(4)"
   ]
  },
  {
   "cell_type": "code",
   "execution_count": 240,
   "metadata": {},
   "outputs": [
    {
     "name": "stdout",
     "output_type": "stream",
     "text": [
      "Car_name 56\n",
      "Price 56\n",
      "Transmission 56\n",
      "Fuel 56\n",
      "Variant 56\n",
      "Kilometers_driven 56\n"
     ]
    }
   ],
   "source": [
    "print(\"Car_name\",len(car_name))\n",
    "print(\"Price\",len(Price))\n",
    "print(\"Transmission\",len(Transmission))\n",
    "print(\"Fuel\",len(Fuel))\n",
    "print(\"Variant\",len(Variant))\n",
    "print(\"Kilometers_driven\",len(Kilometers_driven))"
   ]
  },
  {
   "cell_type": "code",
   "execution_count": 241,
   "metadata": {},
   "outputs": [],
   "source": [
    "#creating data frame for the collected data.\n",
    "car_deko_18_b=pd.DataFrame({})\n",
    "car_deko_18_b['Price']=Price\n",
    "car_deko_18_b['Brand']=car_name\n",
    "car_deko_18_b['Kilometers_driven']=Kilometers_driven\n",
    "car_deko_18_b['Fuel']=Fuel\n",
    "car_deko_18_b['Transmission']=Transmission\n",
    "car_deko_18_b['Variant']=Variant\n",
    "#we know that the data is from third owner cars. \n",
    "#So we will add the third owner value for all the rows in data frama by creating a seperate column for owners. \n",
    "#Same we will do for location('Jaipur'.)\n",
    "car_deko_18_b['No_owners']=\"Thirdowner\"\n",
    "car_deko_18_b['Location']=\"Jaipur\""
   ]
  },
  {
   "cell_type": "code",
   "execution_count": 242,
   "metadata": {},
   "outputs": [],
   "source": [
    "#Let's concatenate all Jaipur used cars data\n",
    "car_dekho_Jaipur=pd.concat([car_deko_18,car_deko_18_a,car_deko_18_b])"
   ]
  },
  {
   "cell_type": "code",
   "execution_count": 243,
   "metadata": {},
   "outputs": [
    {
     "data": {
      "text/plain": [
       "(445, 8)"
      ]
     },
     "execution_count": 243,
     "metadata": {},
     "output_type": "execute_result"
    }
   ],
   "source": [
    "car_dekho_Jaipur.shape"
   ]
  },
  {
   "cell_type": "markdown",
   "metadata": {},
   "source": [
    "Let's concatenate all the scrapped data till now and save it as CSV file"
   ]
  },
  {
   "cell_type": "code",
   "execution_count": 244,
   "metadata": {},
   "outputs": [],
   "source": [
    "df_car_dekho_2=pd.concat([car_dekho_Jaipur,car_dekho_Pondicherry,car_dekho_Indore,car_dekho_Chandigarh,car_dekho_Noida,car_dekho_Lucknow,car_dekho_Ahmedabad,car_dekho_Shimla])"
   ]
  },
  {
   "cell_type": "code",
   "execution_count": 245,
   "metadata": {},
   "outputs": [
    {
     "data": {
      "text/plain": [
       "(1984, 8)"
      ]
     },
     "execution_count": 245,
     "metadata": {},
     "output_type": "execute_result"
    }
   ],
   "source": [
    "df_car_dekho_2.shape"
   ]
  },
  {
   "cell_type": "code",
   "execution_count": 246,
   "metadata": {},
   "outputs": [],
   "source": [
    "df_car_dekho_2.to_csv(\"car_dekho_scrapped_data_second.csv\")"
   ]
  },
  {
   "cell_type": "markdown",
   "metadata": {},
   "source": [
    "# NOw we have 2 saved files from car dekho website. We will concatenate both the saved files and we will check how data is and did we got the data we needed."
   ]
  },
  {
   "cell_type": "code",
   "execution_count": 1,
   "metadata": {},
   "outputs": [],
   "source": [
    "import pandas as pd\n",
    "df1=pd.read_csv(\"car_dekho_scrapped_data_one.csv\")\n",
    "df2=pd.read_csv(\"car_dekho_scrapped_data_second.csv\")\n",
    "df=pd.concat([df1,df2])"
   ]
  },
  {
   "cell_type": "code",
   "execution_count": 2,
   "metadata": {},
   "outputs": [
    {
     "data": {
      "text/plain": [
       "(5161, 9)"
      ]
     },
     "execution_count": 2,
     "metadata": {},
     "output_type": "execute_result"
    }
   ],
   "source": [
    "df.shape"
   ]
  },
  {
   "cell_type": "code",
   "execution_count": 3,
   "metadata": {},
   "outputs": [],
   "source": [
    "#we got 5161 cars data"
   ]
  },
  {
   "cell_type": "code",
   "execution_count": 4,
   "metadata": {},
   "outputs": [
    {
     "data": {
      "text/html": [
       "<div>\n",
       "<style scoped>\n",
       "    .dataframe tbody tr th:only-of-type {\n",
       "        vertical-align: middle;\n",
       "    }\n",
       "\n",
       "    .dataframe tbody tr th {\n",
       "        vertical-align: top;\n",
       "    }\n",
       "\n",
       "    .dataframe thead th {\n",
       "        text-align: right;\n",
       "    }\n",
       "</style>\n",
       "<table border=\"1\" class=\"dataframe\">\n",
       "  <thead>\n",
       "    <tr style=\"text-align: right;\">\n",
       "      <th></th>\n",
       "      <th>Unnamed: 0</th>\n",
       "      <th>Price</th>\n",
       "      <th>Brand</th>\n",
       "      <th>Kilometers_driven</th>\n",
       "      <th>Fuel</th>\n",
       "      <th>Transmission</th>\n",
       "      <th>Variant</th>\n",
       "      <th>No_owners</th>\n",
       "      <th>Location</th>\n",
       "    </tr>\n",
       "  </thead>\n",
       "  <tbody>\n",
       "    <tr>\n",
       "      <th>0</th>\n",
       "      <td>0</td>\n",
       "      <td>3.4 Lakh</td>\n",
       "      <td>2015 Nissan Sunny</td>\n",
       "      <td>39,000 kms</td>\n",
       "      <td>Petrol</td>\n",
       "      <td>Manual</td>\n",
       "      <td>XL</td>\n",
       "      <td>Firstowner</td>\n",
       "      <td>Kolkata</td>\n",
       "    </tr>\n",
       "    <tr>\n",
       "      <th>1</th>\n",
       "      <td>1</td>\n",
       "      <td>3.25 Lakh</td>\n",
       "      <td>2012 Hyundai Verna</td>\n",
       "      <td>42,000 kms</td>\n",
       "      <td>Petrol</td>\n",
       "      <td>Manual</td>\n",
       "      <td>1.6 SX VTVT (O)</td>\n",
       "      <td>Firstowner</td>\n",
       "      <td>Kolkata</td>\n",
       "    </tr>\n",
       "    <tr>\n",
       "      <th>2</th>\n",
       "      <td>2</td>\n",
       "      <td>6 Lakh</td>\n",
       "      <td>2016 Maruti SX4 S Cross</td>\n",
       "      <td>55,000 kms</td>\n",
       "      <td>Diesel</td>\n",
       "      <td>Manual</td>\n",
       "      <td>DDiS 200 Zeta</td>\n",
       "      <td>Firstowner</td>\n",
       "      <td>Kolkata</td>\n",
       "    </tr>\n",
       "    <tr>\n",
       "      <th>3</th>\n",
       "      <td>3</td>\n",
       "      <td>2.25 Lakh</td>\n",
       "      <td>2010 Maruti Ritz</td>\n",
       "      <td>45,000 kms</td>\n",
       "      <td>Petrol</td>\n",
       "      <td>Manual</td>\n",
       "      <td>VXI</td>\n",
       "      <td>Firstowner</td>\n",
       "      <td>Kolkata</td>\n",
       "    </tr>\n",
       "    <tr>\n",
       "      <th>4</th>\n",
       "      <td>4</td>\n",
       "      <td>2 Lakh</td>\n",
       "      <td>2011 Toyota Etios Liva</td>\n",
       "      <td>48,200 kms</td>\n",
       "      <td>Diesel</td>\n",
       "      <td>Manual</td>\n",
       "      <td>GD SP</td>\n",
       "      <td>Firstowner</td>\n",
       "      <td>Kolkata</td>\n",
       "    </tr>\n",
       "  </tbody>\n",
       "</table>\n",
       "</div>"
      ],
      "text/plain": [
       "   Unnamed: 0      Price                    Brand Kilometers_driven    Fuel  \\\n",
       "0           0   3.4 Lakh        2015 Nissan Sunny        39,000 kms  Petrol   \n",
       "1           1  3.25 Lakh       2012 Hyundai Verna        42,000 kms  Petrol   \n",
       "2           2     6 Lakh  2016 Maruti SX4 S Cross        55,000 kms  Diesel   \n",
       "3           3  2.25 Lakh         2010 Maruti Ritz        45,000 kms  Petrol   \n",
       "4           4     2 Lakh   2011 Toyota Etios Liva        48,200 kms  Diesel   \n",
       "\n",
       "  Transmission          Variant   No_owners Location  \n",
       "0       Manual               XL  Firstowner  Kolkata  \n",
       "1       Manual  1.6 SX VTVT (O)  Firstowner  Kolkata  \n",
       "2       Manual    DDiS 200 Zeta  Firstowner  Kolkata  \n",
       "3       Manual              VXI  Firstowner  Kolkata  \n",
       "4       Manual            GD SP  Firstowner  Kolkata  "
      ]
     },
     "execution_count": 4,
     "metadata": {},
     "output_type": "execute_result"
    }
   ],
   "source": [
    "df.head()"
   ]
  },
  {
   "cell_type": "code",
   "execution_count": 5,
   "metadata": {},
   "outputs": [
    {
     "data": {
      "text/html": [
       "<div>\n",
       "<style scoped>\n",
       "    .dataframe tbody tr th:only-of-type {\n",
       "        vertical-align: middle;\n",
       "    }\n",
       "\n",
       "    .dataframe tbody tr th {\n",
       "        vertical-align: top;\n",
       "    }\n",
       "\n",
       "    .dataframe thead th {\n",
       "        text-align: right;\n",
       "    }\n",
       "</style>\n",
       "<table border=\"1\" class=\"dataframe\">\n",
       "  <thead>\n",
       "    <tr style=\"text-align: right;\">\n",
       "      <th></th>\n",
       "      <th>Unnamed: 0</th>\n",
       "      <th>Price</th>\n",
       "      <th>Brand</th>\n",
       "      <th>Kilometers_driven</th>\n",
       "      <th>Fuel</th>\n",
       "      <th>Transmission</th>\n",
       "      <th>Variant</th>\n",
       "      <th>No_owners</th>\n",
       "      <th>Location</th>\n",
       "    </tr>\n",
       "  </thead>\n",
       "  <tbody>\n",
       "    <tr>\n",
       "      <th>1979</th>\n",
       "      <td>5</td>\n",
       "      <td>9.5 Lakh</td>\n",
       "      <td>2020 Hyundai Venue</td>\n",
       "      <td>10,000 kms</td>\n",
       "      <td>Petrol</td>\n",
       "      <td>Manual</td>\n",
       "      <td>SX Opt Turbo BSIV</td>\n",
       "      <td>SecondOwner</td>\n",
       "      <td>Shimla</td>\n",
       "    </tr>\n",
       "    <tr>\n",
       "      <th>1980</th>\n",
       "      <td>6</td>\n",
       "      <td>3 Lakh</td>\n",
       "      <td>2011 Maruti Swift Dzire</td>\n",
       "      <td>50,000 kms</td>\n",
       "      <td>Petrol</td>\n",
       "      <td>Manual</td>\n",
       "      <td>VXi</td>\n",
       "      <td>SecondOwner</td>\n",
       "      <td>Shimla</td>\n",
       "    </tr>\n",
       "    <tr>\n",
       "      <th>1981</th>\n",
       "      <td>7</td>\n",
       "      <td>1.3 Lakh</td>\n",
       "      <td>2013 Maruti 800</td>\n",
       "      <td>30,000 kms</td>\n",
       "      <td>Petrol</td>\n",
       "      <td>Manual</td>\n",
       "      <td>Std BSIII</td>\n",
       "      <td>SecondOwner</td>\n",
       "      <td>Shimla</td>\n",
       "    </tr>\n",
       "    <tr>\n",
       "      <th>1982</th>\n",
       "      <td>0</td>\n",
       "      <td>1.15 Lakh</td>\n",
       "      <td>2004 Maruti Alto</td>\n",
       "      <td>80,000 kms</td>\n",
       "      <td>Petrol</td>\n",
       "      <td>Manual</td>\n",
       "      <td>LX</td>\n",
       "      <td>Thirdowner</td>\n",
       "      <td>Shimla</td>\n",
       "    </tr>\n",
       "    <tr>\n",
       "      <th>1983</th>\n",
       "      <td>1</td>\n",
       "      <td>60,000</td>\n",
       "      <td>2002 Maruti 800</td>\n",
       "      <td>15,000 kms</td>\n",
       "      <td>Petrol</td>\n",
       "      <td>Manual</td>\n",
       "      <td>AC</td>\n",
       "      <td>Thirdowner</td>\n",
       "      <td>Shimla</td>\n",
       "    </tr>\n",
       "  </tbody>\n",
       "</table>\n",
       "</div>"
      ],
      "text/plain": [
       "      Unnamed: 0      Price                    Brand Kilometers_driven  \\\n",
       "1979           5   9.5 Lakh       2020 Hyundai Venue        10,000 kms   \n",
       "1980           6     3 Lakh  2011 Maruti Swift Dzire        50,000 kms   \n",
       "1981           7   1.3 Lakh          2013 Maruti 800        30,000 kms   \n",
       "1982           0  1.15 Lakh         2004 Maruti Alto        80,000 kms   \n",
       "1983           1     60,000          2002 Maruti 800        15,000 kms   \n",
       "\n",
       "        Fuel Transmission            Variant    No_owners Location  \n",
       "1979  Petrol       Manual  SX Opt Turbo BSIV  SecondOwner   Shimla  \n",
       "1980  Petrol       Manual                VXi  SecondOwner   Shimla  \n",
       "1981  Petrol       Manual          Std BSIII  SecondOwner   Shimla  \n",
       "1982  Petrol       Manual                 LX   Thirdowner   Shimla  \n",
       "1983  Petrol       Manual                 AC   Thirdowner   Shimla  "
      ]
     },
     "execution_count": 5,
     "metadata": {},
     "output_type": "execute_result"
    }
   ],
   "source": [
    "df.tail()"
   ]
  },
  {
   "cell_type": "raw",
   "metadata": {},
   "source": [
    "The data should contain:\n",
    "price\n",
    "Brand\n",
    "Year\n",
    "Model\n",
    "Kilometers\n",
    "Fuel\n",
    "Transmission\n",
    "Variant\n",
    "No of owners\n",
    "Location"
   ]
  },
  {
   "cell_type": "raw",
   "metadata": {},
   "source": [
    "But the data fram contains column Unnamed:0(unnecessary column can be deleted) and In the Brand column you can see that column contains mixed data (year,brand and model).So we will use split method to seperate column, brand and model of the car."
   ]
  },
  {
   "cell_type": "code",
   "execution_count": 6,
   "metadata": {},
   "outputs": [],
   "source": [
    "new = df[\"Brand\"].str.split(\" \", n = 4, expand = True)"
   ]
  },
  {
   "cell_type": "code",
   "execution_count": 7,
   "metadata": {},
   "outputs": [],
   "source": [
    "df[\"Year\"]=new[0]     #seperating year\n",
    "df[\"brand\"]=new[1]    #seperating brand name "
   ]
  },
  {
   "cell_type": "code",
   "execution_count": 8,
   "metadata": {},
   "outputs": [],
   "source": [
    "df[\"Model\"]=new[2]      #seperating model"
   ]
  },
  {
   "cell_type": "code",
   "execution_count": 9,
   "metadata": {},
   "outputs": [],
   "source": [
    "df[\"Brand\"]=df[\"brand\"]"
   ]
  },
  {
   "cell_type": "code",
   "execution_count": 10,
   "metadata": {},
   "outputs": [],
   "source": [
    "#remove unwanted columns\n",
    "df.drop([\"Unnamed: 0\",\"brand\"],axis=1,inplace=True)"
   ]
  },
  {
   "cell_type": "code",
   "execution_count": 13,
   "metadata": {},
   "outputs": [],
   "source": [
    "#If you see Price column it contains string(\"Lakh\"), the string is currency in words. So we will convert Lakh into numbers.\n",
    "#example \"if it is 2Lakh then convert this to 200000\"\n",
    "#first we will remove commas in the price column and later we will convert.\n",
    "df['Price']=df['Price'].str.replace(',','')"
   ]
  },
  {
   "cell_type": "code",
   "execution_count": 14,
   "metadata": {},
   "outputs": [],
   "source": [
    "def value_to_float(x):\n",
    "    if type(x) == float or type(x) == int:\n",
    "        return x\n",
    "    if 'Lakh' in x:\n",
    "        if len(x) > 1:\n",
    "            return float(x.replace('Lakh', '')) * 100000\n",
    "        return 100000"
   ]
  },
  {
   "cell_type": "code",
   "execution_count": 15,
   "metadata": {},
   "outputs": [],
   "source": [
    "df['Price'] = df['Price'].apply(value_to_float)"
   ]
  },
  {
   "cell_type": "code",
   "execution_count": 16,
   "metadata": {},
   "outputs": [
    {
     "data": {
      "text/html": [
       "<div>\n",
       "<style scoped>\n",
       "    .dataframe tbody tr th:only-of-type {\n",
       "        vertical-align: middle;\n",
       "    }\n",
       "\n",
       "    .dataframe tbody tr th {\n",
       "        vertical-align: top;\n",
       "    }\n",
       "\n",
       "    .dataframe thead th {\n",
       "        text-align: right;\n",
       "    }\n",
       "</style>\n",
       "<table border=\"1\" class=\"dataframe\">\n",
       "  <thead>\n",
       "    <tr style=\"text-align: right;\">\n",
       "      <th></th>\n",
       "      <th>Price</th>\n",
       "      <th>Brand</th>\n",
       "      <th>Kilometers_driven</th>\n",
       "      <th>Fuel</th>\n",
       "      <th>Transmission</th>\n",
       "      <th>Variant</th>\n",
       "      <th>No_owners</th>\n",
       "      <th>Location</th>\n",
       "      <th>Year</th>\n",
       "      <th>Model</th>\n",
       "    </tr>\n",
       "  </thead>\n",
       "  <tbody>\n",
       "    <tr>\n",
       "      <th>0</th>\n",
       "      <td>340000.0</td>\n",
       "      <td>Nissan</td>\n",
       "      <td>39,000 kms</td>\n",
       "      <td>Petrol</td>\n",
       "      <td>Manual</td>\n",
       "      <td>XL</td>\n",
       "      <td>Firstowner</td>\n",
       "      <td>Kolkata</td>\n",
       "      <td>2015</td>\n",
       "      <td>Sunny</td>\n",
       "    </tr>\n",
       "    <tr>\n",
       "      <th>1</th>\n",
       "      <td>325000.0</td>\n",
       "      <td>Hyundai</td>\n",
       "      <td>42,000 kms</td>\n",
       "      <td>Petrol</td>\n",
       "      <td>Manual</td>\n",
       "      <td>1.6 SX VTVT (O)</td>\n",
       "      <td>Firstowner</td>\n",
       "      <td>Kolkata</td>\n",
       "      <td>2012</td>\n",
       "      <td>Verna</td>\n",
       "    </tr>\n",
       "    <tr>\n",
       "      <th>2</th>\n",
       "      <td>600000.0</td>\n",
       "      <td>Maruti</td>\n",
       "      <td>55,000 kms</td>\n",
       "      <td>Diesel</td>\n",
       "      <td>Manual</td>\n",
       "      <td>DDiS 200 Zeta</td>\n",
       "      <td>Firstowner</td>\n",
       "      <td>Kolkata</td>\n",
       "      <td>2016</td>\n",
       "      <td>SX4</td>\n",
       "    </tr>\n",
       "    <tr>\n",
       "      <th>3</th>\n",
       "      <td>225000.0</td>\n",
       "      <td>Maruti</td>\n",
       "      <td>45,000 kms</td>\n",
       "      <td>Petrol</td>\n",
       "      <td>Manual</td>\n",
       "      <td>VXI</td>\n",
       "      <td>Firstowner</td>\n",
       "      <td>Kolkata</td>\n",
       "      <td>2010</td>\n",
       "      <td>Ritz</td>\n",
       "    </tr>\n",
       "    <tr>\n",
       "      <th>4</th>\n",
       "      <td>200000.0</td>\n",
       "      <td>Toyota</td>\n",
       "      <td>48,200 kms</td>\n",
       "      <td>Diesel</td>\n",
       "      <td>Manual</td>\n",
       "      <td>GD SP</td>\n",
       "      <td>Firstowner</td>\n",
       "      <td>Kolkata</td>\n",
       "      <td>2011</td>\n",
       "      <td>Etios</td>\n",
       "    </tr>\n",
       "  </tbody>\n",
       "</table>\n",
       "</div>"
      ],
      "text/plain": [
       "      Price    Brand Kilometers_driven    Fuel Transmission          Variant  \\\n",
       "0  340000.0   Nissan        39,000 kms  Petrol       Manual               XL   \n",
       "1  325000.0  Hyundai        42,000 kms  Petrol       Manual  1.6 SX VTVT (O)   \n",
       "2  600000.0   Maruti        55,000 kms  Diesel       Manual    DDiS 200 Zeta   \n",
       "3  225000.0   Maruti        45,000 kms  Petrol       Manual              VXI   \n",
       "4  200000.0   Toyota        48,200 kms  Diesel       Manual            GD SP   \n",
       "\n",
       "    No_owners Location  Year  Model  \n",
       "0  Firstowner  Kolkata  2015  Sunny  \n",
       "1  Firstowner  Kolkata  2012  Verna  \n",
       "2  Firstowner  Kolkata  2016    SX4  \n",
       "3  Firstowner  Kolkata  2010   Ritz  \n",
       "4  Firstowner  Kolkata  2011  Etios  "
      ]
     },
     "execution_count": 16,
     "metadata": {},
     "output_type": "execute_result"
    }
   ],
   "source": [
    "df.head()"
   ]
  },
  {
   "cell_type": "code",
   "execution_count": 17,
   "metadata": {},
   "outputs": [],
   "source": [
    "df.to_csv(\"Car_dekho_data.csv\")  #saving the data for future use"
   ]
  },
  {
   "cell_type": "code",
   "execution_count": null,
   "metadata": {},
   "outputs": [],
   "source": []
  }
 ],
 "metadata": {
  "kernelspec": {
   "display_name": "Python 3",
   "language": "python",
   "name": "python3"
  },
  "language_info": {
   "codemirror_mode": {
    "name": "ipython",
    "version": 3
   },
   "file_extension": ".py",
   "mimetype": "text/x-python",
   "name": "python",
   "nbconvert_exporter": "python",
   "pygments_lexer": "ipython3",
   "version": "3.8.3"
  }
 },
 "nbformat": 4,
 "nbformat_minor": 4
}
