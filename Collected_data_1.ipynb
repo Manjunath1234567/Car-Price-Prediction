{
 "cells": [
  {
   "cell_type": "markdown",
   "metadata": {},
   "source": [
    "Required libraries "
   ]
  },
  {
   "cell_type": "code",
   "execution_count": 2,
   "metadata": {},
   "outputs": [],
   "source": [
    "import selenium\n",
    "from selenium import webdriver\n",
    "import time\n",
    "from selenium.common.exceptions import NoSuchElementException\n",
    "import pandas as pd"
   ]
  },
  {
   "cell_type": "raw",
   "metadata": {},
   "source": [
    "Here we are going to scrap data from OLX."
   ]
  },
  {
   "cell_type": "code",
   "execution_count": 22,
   "metadata": {},
   "outputs": [],
   "source": [
    "driver=webdriver.Firefox(\"C:\\geckodriver-v0.29.1-win64\")\n"
   ]
  },
  {
   "cell_type": "code",
   "execution_count": 23,
   "metadata": {},
   "outputs": [],
   "source": [
    "driver.get(\"https://www.olx.in/\")   #Getting website"
   ]
  },
  {
   "cell_type": "code",
   "execution_count": 4,
   "metadata": {},
   "outputs": [],
   "source": [
    "location=driver.find_element_by_xpath(\"//input[@class='_2xvhw']\") #finding option to enter the city name"
   ]
  },
  {
   "cell_type": "code",
   "execution_count": 5,
   "metadata": {},
   "outputs": [],
   "source": [
    "location.clear() #clearing the location field before entering the content"
   ]
  },
  {
   "cell_type": "code",
   "execution_count": 6,
   "metadata": {},
   "outputs": [],
   "source": [
    "location.send_keys(\"Bangalore\") #entering city name"
   ]
  },
  {
   "cell_type": "code",
   "execution_count": 7,
   "metadata": {},
   "outputs": [],
   "source": [
    "driver.find_element_by_xpath(\"//div[@class='_2HzJo']/div[1]\").click() #selecting city  from dropdown"
   ]
  },
  {
   "cell_type": "code",
   "execution_count": 8,
   "metadata": {},
   "outputs": [],
   "source": [
    "cars=driver.find_element_by_xpath(\"//form[@class='rui-1Azjs _20jkh']/fieldset/div/input\") \n",
    "#finding option to enter cars in search option"
   ]
  },
  {
   "cell_type": "code",
   "execution_count": 9,
   "metadata": {},
   "outputs": [],
   "source": [
    "cars.send_keys(\"Cars\") #entering cars"
   ]
  },
  {
   "cell_type": "code",
   "execution_count": 10,
   "metadata": {},
   "outputs": [],
   "source": [
    "driver.find_element_by_xpath(\"//div[@class='_3b3oR']\").click() #click search option"
   ]
  },
  {
   "cell_type": "code",
   "execution_count": 14,
   "metadata": {},
   "outputs": [],
   "source": [
    "load_more=driver.find_element_by_xpath(\"//button[@class='rui-39-wj rui-3evoE rui-1JPTg']\") \n",
    "#selecting load more option to load for more cars"
   ]
  },
  {
   "cell_type": "code",
   "execution_count": 15,
   "metadata": {},
   "outputs": [],
   "source": [
    "load_more.click()"
   ]
  },
  {
   "cell_type": "code",
   "execution_count": 16,
   "metadata": {},
   "outputs": [],
   "source": [
    "urls=[] #collecting urls for each car\n",
    "for i in driver.find_elements_by_xpath(\"//ul[@class='rl3f9 _3mXOU']/li/a\"):\n",
    "    urls.append(i.get_attribute('href'))\n",
    "time.sleep(4)\n",
    "driver.find_element_by_xpath(\"//button[@class='rui-39-wj rui-3evoE rui-1JPTg']\").click()\n",
    "while True:\n",
    "    time.sleep(3)\n",
    "    for j in driver.find_elements_by_xpath(\"//ul[@class='rl3f9 _3mXOU']/li/a\"):\n",
    "        urls.append(j.get_attribute('href'))\n",
    "    try:\n",
    "        driver.find_element_by_xpath(\"//button[@class='rui-39-wj rui-3evoE rui-1JPTg'][2]\").click()\n",
    "        time.sleep(5)\n",
    "    except:\n",
    "        break"
   ]
  },
  {
   "cell_type": "code",
   "execution_count": 17,
   "metadata": {},
   "outputs": [
    {
     "data": {
      "text/plain": [
       "180"
      ]
     },
     "execution_count": 17,
     "metadata": {},
     "output_type": "execute_result"
    }
   ],
   "source": [
    "len(urls)"
   ]
  },
  {
   "cell_type": "code",
   "execution_count": 18,
   "metadata": {},
   "outputs": [],
   "source": [
    "#Scrapping data of each cars:\n",
    "Price=[]\n",
    "Brand=[]\n",
    "Model=[]\n",
    "Kilometers_driven=[]\n",
    "Year=[]\n",
    "Fuel=[]\n",
    "Transmission=[]\n",
    "Variant=[]\n",
    "No_owners=[]\n"
   ]
  },
  {
   "cell_type": "code",
   "execution_count": null,
   "metadata": {},
   "outputs": [],
   "source": [
    "for i in urls[0:100]:\n",
    "    driver.get(i)\n",
    "    time.sleep(5)\n",
    "    \n",
    "    #collecting price\n",
    "    try:\n",
    "        first=driver.find_element_by_xpath(\"//section[@class='_2wMiF']/span[1]\")\n",
    "        Price.append(first.text)\n",
    "    except NoSuchElementException:\n",
    "        Price.append(\"Na\")\n",
    "        \n",
    "    #collecting Brand\n",
    "    try:\n",
    "        second=driver.find_element_by_xpath(\"//div[@class='_3JPEe']/div[1]/div/span[2]\")\n",
    "        Brand.append(second.text)\n",
    "    except NoSuchElementException:\n",
    "        Brand.append(\"Na\")\n",
    "        \n",
    "        \n",
    "    #collecting model\n",
    "    try:\n",
    "        third=driver.find_element_by_xpath(\"//div[@class='_3JPEe']/div[2]/div/span[2]\")\n",
    "        Model.append(third.text)\n",
    "    except NoSuchElementException:\n",
    "        Model.append(\"Na\")\n",
    "        \n",
    "    #collecting variant\n",
    "    try:\n",
    "        fourt=driver.find_element_by_xpath(\"//div[@class='_3JPEe']/div[3]/div/span[2]\")\n",
    "        Variant.append(fourt.text)\n",
    "    except NoSuchElementException:\n",
    "        Variant.append(\"Na\")\n",
    "        \n",
    "        \n",
    "    #collecting car year model\n",
    "    try:\n",
    "        fifth=driver.find_element_by_xpath(\"//div[@class='_3JPEe']/div[4]/div/span[2]\")\n",
    "        Year.append(fifth.text)\n",
    "    except NoSuchElementException:\n",
    "        Year.append(\"Na\")\n",
    "        \n",
    "    #collecting car fuel used        \n",
    "    try:\n",
    "        Sixth=driver.find_element_by_xpath(\"//div[@class='_3JPEe']/div[5]/div/span[2]\")\n",
    "        Fuel.append(Sixth.text)\n",
    "    except NoSuchElementException:\n",
    "        Fuel.append(\"Na\")\n",
    "        \n",
    "     #collecting car transmission   \n",
    "    try:\n",
    "        Seventh=driver.find_element_by_xpath(\"//div[@class='_3JPEe']/div[6]/div/span[2]\")\n",
    "        Transmission.append(Seventh.text)\n",
    "    except NoSuchElementException:\n",
    "        Transmission.append(\"Na\")\n",
    "     \n",
    "    #collecting kilometers driven by car\n",
    "    try:\n",
    "        Eighth=driver.find_element_by_xpath(\"//div[@class='_3JPEe']/div[7]/div/span[2]\")\n",
    "        Kilometers_driven.append(Eighth.text)\n",
    "    except NoSuchElementException:\n",
    "        Kilometers_driven.append(\"Na\")\n",
    "    \n",
    "    #collecting no of owners list\n",
    "    try:\n",
    "        Ninth=driver.find_element_by_xpath(\"//div[@class='_3JPEe']/div[8]/div/span[2]\")\n",
    "        No_owners.append(Ninth.text)\n",
    "    except NoSuchElementException:\n",
    "        No_owners.append(\"Na\")        \n",
    "                "
   ]
  },
  {
   "cell_type": "code",
   "execution_count": 20,
   "metadata": {},
   "outputs": [
    {
     "data": {
      "text/plain": [
       "66"
      ]
     },
     "execution_count": 20,
     "metadata": {},
     "output_type": "execute_result"
    }
   ],
   "source": [
    "len(Price)"
   ]
  },
  {
   "cell_type": "code",
   "execution_count": 44,
   "metadata": {},
   "outputs": [],
   "source": [
    "olx1=pd.DataFrame({})\n",
    "olx1['Price']=Price\n",
    "olx1['Brand']=Brand\n",
    "olx1['Model']=Model\n",
    "olx1['Kilometers_driven']=Kilometers_driven\n",
    "olx1['Year']=Year\n",
    "olx1['Fuel']=Fuel\n",
    "olx1['Transmission']=Transmission\n",
    "olx1['Variant']=Variant\n",
    "olx1['No_owners']=No_owners\n",
    "olx1['Location']='Bangalore'\n"
   ]
  },
  {
   "cell_type": "code",
   "execution_count": 45,
   "metadata": {},
   "outputs": [
    {
     "data": {
      "text/html": [
       "<div>\n",
       "<style scoped>\n",
       "    .dataframe tbody tr th:only-of-type {\n",
       "        vertical-align: middle;\n",
       "    }\n",
       "\n",
       "    .dataframe tbody tr th {\n",
       "        vertical-align: top;\n",
       "    }\n",
       "\n",
       "    .dataframe thead th {\n",
       "        text-align: right;\n",
       "    }\n",
       "</style>\n",
       "<table border=\"1\" class=\"dataframe\">\n",
       "  <thead>\n",
       "    <tr style=\"text-align: right;\">\n",
       "      <th></th>\n",
       "      <th>Price</th>\n",
       "      <th>Brand</th>\n",
       "      <th>Model</th>\n",
       "      <th>Kilometers_driven</th>\n",
       "      <th>Year</th>\n",
       "      <th>Fuel</th>\n",
       "      <th>Transmission</th>\n",
       "      <th>Variant</th>\n",
       "      <th>No_owners</th>\n",
       "      <th>Location</th>\n",
       "    </tr>\n",
       "  </thead>\n",
       "  <tbody>\n",
       "    <tr>\n",
       "      <th>0</th>\n",
       "      <td>₹ 2,29,000</td>\n",
       "      <td>Chevrolet</td>\n",
       "      <td>Beat</td>\n",
       "      <td>69,000 km</td>\n",
       "      <td>2011</td>\n",
       "      <td>Diesel</td>\n",
       "      <td>Manual</td>\n",
       "      <td>2010-2013 Diesel LT Option</td>\n",
       "      <td>3rd</td>\n",
       "      <td>Bangalore</td>\n",
       "    </tr>\n",
       "    <tr>\n",
       "      <th>1</th>\n",
       "      <td>₹ 25,90,000</td>\n",
       "      <td>Toyota</td>\n",
       "      <td>Camry</td>\n",
       "      <td>22,000 km</td>\n",
       "      <td>2016</td>\n",
       "      <td>Petrol</td>\n",
       "      <td>Automatic</td>\n",
       "      <td>2.5 Hybrid</td>\n",
       "      <td>1st</td>\n",
       "      <td>Bangalore</td>\n",
       "    </tr>\n",
       "    <tr>\n",
       "      <th>2</th>\n",
       "      <td>₹ 1,95,000</td>\n",
       "      <td>Maruti Suzuki</td>\n",
       "      <td>Zen Estilo</td>\n",
       "      <td>69,000 km</td>\n",
       "      <td>2009</td>\n",
       "      <td>Petrol</td>\n",
       "      <td>Manual</td>\n",
       "      <td>VXI BSIII</td>\n",
       "      <td>3rd</td>\n",
       "      <td>Bangalore</td>\n",
       "    </tr>\n",
       "    <tr>\n",
       "      <th>3</th>\n",
       "      <td>Na</td>\n",
       "      <td>Na</td>\n",
       "      <td>Na</td>\n",
       "      <td>Na</td>\n",
       "      <td>Na</td>\n",
       "      <td>Na</td>\n",
       "      <td>Na</td>\n",
       "      <td>Na</td>\n",
       "      <td>Na</td>\n",
       "      <td>Bangalore</td>\n",
       "    </tr>\n",
       "    <tr>\n",
       "      <th>4</th>\n",
       "      <td>Na</td>\n",
       "      <td>Na</td>\n",
       "      <td>Na</td>\n",
       "      <td>Na</td>\n",
       "      <td>Na</td>\n",
       "      <td>Na</td>\n",
       "      <td>Na</td>\n",
       "      <td>Na</td>\n",
       "      <td>Na</td>\n",
       "      <td>Bangalore</td>\n",
       "    </tr>\n",
       "  </tbody>\n",
       "</table>\n",
       "</div>"
      ],
      "text/plain": [
       "         Price          Brand       Model Kilometers_driven  Year    Fuel  \\\n",
       "0   ₹ 2,29,000      Chevrolet        Beat         69,000 km  2011  Diesel   \n",
       "1  ₹ 25,90,000         Toyota       Camry         22,000 km  2016  Petrol   \n",
       "2   ₹ 1,95,000  Maruti Suzuki  Zen Estilo         69,000 km  2009  Petrol   \n",
       "3           Na             Na          Na                Na    Na      Na   \n",
       "4           Na             Na          Na                Na    Na      Na   \n",
       "\n",
       "  Transmission                     Variant No_owners   Location  \n",
       "0       Manual  2010-2013 Diesel LT Option       3rd  Bangalore  \n",
       "1    Automatic                  2.5 Hybrid       1st  Bangalore  \n",
       "2       Manual                   VXI BSIII       3rd  Bangalore  \n",
       "3           Na                          Na        Na  Bangalore  \n",
       "4           Na                          Na        Na  Bangalore  "
      ]
     },
     "execution_count": 45,
     "metadata": {},
     "output_type": "execute_result"
    }
   ],
   "source": [
    "olx1.head()"
   ]
  },
  {
   "cell_type": "code",
   "execution_count": 53,
   "metadata": {},
   "outputs": [],
   "source": [
    "driver.close() #it is better to close driver and to open new driver for future purpose. "
   ]
  },
  {
   "cell_type": "code",
   "execution_count": 54,
   "metadata": {},
   "outputs": [],
   "source": [
    "#Mumbai"
   ]
  },
  {
   "cell_type": "code",
   "execution_count": 55,
   "metadata": {},
   "outputs": [],
   "source": [
    "driver=webdriver.Firefox(\"C:\\geckodriver-v0.29.1-win64\")\n"
   ]
  },
  {
   "cell_type": "code",
   "execution_count": 56,
   "metadata": {},
   "outputs": [],
   "source": [
    "driver.get(\"https://www.olx.in/\")"
   ]
  },
  {
   "cell_type": "code",
   "execution_count": 57,
   "metadata": {},
   "outputs": [],
   "source": [
    "location=driver.find_element_by_xpath(\"//input[@class='_2xvhw']\") #finding option to enter the city name"
   ]
  },
  {
   "cell_type": "code",
   "execution_count": 58,
   "metadata": {},
   "outputs": [],
   "source": [
    "location.clear()"
   ]
  },
  {
   "cell_type": "code",
   "execution_count": 59,
   "metadata": {},
   "outputs": [],
   "source": [
    "location.send_keys(\"Mumbai\") #entering city name"
   ]
  },
  {
   "cell_type": "code",
   "execution_count": 60,
   "metadata": {},
   "outputs": [],
   "source": [
    "driver.find_element_by_xpath(\"//div[@class='_2HzJo']/div[1]\").click()"
   ]
  },
  {
   "cell_type": "code",
   "execution_count": 61,
   "metadata": {},
   "outputs": [],
   "source": [
    "cars=driver.find_element_by_xpath(\"//form[@class='rui-1Azjs _20jkh']/fieldset/div/input\") \n",
    "#finding option to enter cars in search option"
   ]
  },
  {
   "cell_type": "code",
   "execution_count": 62,
   "metadata": {},
   "outputs": [],
   "source": [
    "cars.send_keys(\"Cars\")"
   ]
  },
  {
   "cell_type": "code",
   "execution_count": 63,
   "metadata": {},
   "outputs": [],
   "source": [
    "driver.find_element_by_xpath(\"//div[@class='_3b3oR']\").click() #click search option"
   ]
  },
  {
   "cell_type": "code",
   "execution_count": 64,
   "metadata": {},
   "outputs": [],
   "source": [
    "load_more=driver.find_element_by_xpath(\"//button[@class='rui-39-wj rui-3evoE rui-1JPTg']\") \n",
    "#selecting load more option to load for more cars"
   ]
  },
  {
   "cell_type": "code",
   "execution_count": 65,
   "metadata": {},
   "outputs": [],
   "source": [
    "load_more.click()"
   ]
  },
  {
   "cell_type": "code",
   "execution_count": 66,
   "metadata": {},
   "outputs": [],
   "source": [
    "urls=[] #collecting urls for each car\n",
    "for i in driver.find_elements_by_xpath(\"//ul[@class='rl3f9 _3mXOU']/li/a\"):\n",
    "    urls.append(i.get_attribute('href'))\n",
    "time.sleep(4)\n",
    "driver.find_element_by_xpath(\"//button[@class='rui-39-wj rui-3evoE rui-1JPTg']\").click()\n",
    "while True:\n",
    "    time.sleep(3)\n",
    "    for j in driver.find_elements_by_xpath(\"//ul[@class='rl3f9 _3mXOU']/li/a\"):\n",
    "        urls.append(j.get_attribute('href'))\n",
    "    try:\n",
    "        driver.find_element_by_xpath(\"//button[@class='rui-39-wj rui-3evoE rui-1JPTg'][2]\").click()\n",
    "        time.sleep(5)\n",
    "    except:\n",
    "        break"
   ]
  },
  {
   "cell_type": "code",
   "execution_count": 67,
   "metadata": {},
   "outputs": [
    {
     "data": {
      "text/plain": [
       "100"
      ]
     },
     "execution_count": 67,
     "metadata": {},
     "output_type": "execute_result"
    }
   ],
   "source": [
    "len(urls)"
   ]
  },
  {
   "cell_type": "code",
   "execution_count": 68,
   "metadata": {},
   "outputs": [],
   "source": [
    "#Scrapping data of each cars:\n",
    "Price=[]\n",
    "Brand=[]\n",
    "Model=[]\n",
    "Kilometers_driven=[]\n",
    "Year=[]\n",
    "Fuel=[]\n",
    "Transmission=[]\n",
    "Variant=[]\n",
    "No_owners=[]\n"
   ]
  },
  {
   "cell_type": "code",
   "execution_count": 69,
   "metadata": {},
   "outputs": [],
   "source": [
    "for i in urls[0:50]:\n",
    "    driver.get(i)\n",
    "    time.sleep(5)\n",
    "    try:\n",
    "        first=driver.find_element_by_xpath(\"//section[@class='_2wMiF']/span[1]\")\n",
    "        Price.append(first.text)\n",
    "    except NoSuchElementException:\n",
    "        Price.append(\"Na\")\n",
    "    try:\n",
    "        second=driver.find_element_by_xpath(\"//div[@class='_3JPEe']/div[1]/div/span[2]\")\n",
    "        Brand.append(second.text)\n",
    "    except NoSuchElementException:\n",
    "        Brand.append(\"Na\")\n",
    "        \n",
    "    try:\n",
    "        third=driver.find_element_by_xpath(\"//div[@class='_3JPEe']/div[2]/div/span[2]\")\n",
    "        Model.append(third.text)\n",
    "    except NoSuchElementException:\n",
    "        Model.append(\"Na\")\n",
    "        \n",
    "    try:\n",
    "        fourt=driver.find_element_by_xpath(\"//div[@class='_3JPEe']/div[3]/div/span[2]\")\n",
    "        Variant.append(fourt.text)\n",
    "    except NoSuchElementException:\n",
    "        Variant.append(\"Na\")\n",
    "        \n",
    "    try:\n",
    "        fifth=driver.find_element_by_xpath(\"//div[@class='_3JPEe']/div[4]/div/span[2]\")\n",
    "        Year.append(fifth.text)\n",
    "    except NoSuchElementException:\n",
    "        Year.append(\"Na\")\n",
    "        \n",
    "            \n",
    "    try:\n",
    "        Sixth=driver.find_element_by_xpath(\"//div[@class='_3JPEe']/div[5]/div/span[2]\")\n",
    "        Fuel.append(Sixth.text)\n",
    "    except NoSuchElementException:\n",
    "        Fuel.append(\"Na\")\n",
    "        \n",
    "    try:\n",
    "        Seventh=driver.find_element_by_xpath(\"//div[@class='_3JPEe']/div[6]/div/span[2]\")\n",
    "        Transmission.append(Seventh.text)\n",
    "    except NoSuchElementException:\n",
    "        Transmission.append(\"Na\")\n",
    "        \n",
    "    try:\n",
    "        Eighth=driver.find_element_by_xpath(\"//div[@class='_3JPEe']/div[7]/div/span[2]\")\n",
    "        Kilometers_driven.append(Eighth.text)\n",
    "    except NoSuchElementException:\n",
    "        Kilometers_driven.append(\"Na\")\n",
    "        \n",
    "    try:\n",
    "        Ninth=driver.find_element_by_xpath(\"//div[@class='_3JPEe']/div[8]/div/span[2]\")\n",
    "        No_owners.append(Ninth.text)\n",
    "    except NoSuchElementException:\n",
    "        No_owners.append(\"Na\")        \n",
    "                "
   ]
  },
  {
   "cell_type": "code",
   "execution_count": 70,
   "metadata": {},
   "outputs": [],
   "source": [
    "olx2=pd.DataFrame({})\n",
    "olx2['Price']=Price\n",
    "olx2['Brand']=Brand\n",
    "olx2['Model']=Model\n",
    "olx2['Kilometers_driven']=Kilometers_driven\n",
    "olx2['Year']=Year\n",
    "olx2['Fuel']=Fuel\n",
    "olx2['Transmission']=Transmission\n",
    "olx2['Variant']=Variant\n",
    "olx2['No_owners']=No_owners\n",
    "olx2['Location']='Mumbai'\n"
   ]
  },
  {
   "cell_type": "code",
   "execution_count": 73,
   "metadata": {},
   "outputs": [
    {
     "data": {
      "text/html": [
       "<div>\n",
       "<style scoped>\n",
       "    .dataframe tbody tr th:only-of-type {\n",
       "        vertical-align: middle;\n",
       "    }\n",
       "\n",
       "    .dataframe tbody tr th {\n",
       "        vertical-align: top;\n",
       "    }\n",
       "\n",
       "    .dataframe thead th {\n",
       "        text-align: right;\n",
       "    }\n",
       "</style>\n",
       "<table border=\"1\" class=\"dataframe\">\n",
       "  <thead>\n",
       "    <tr style=\"text-align: right;\">\n",
       "      <th></th>\n",
       "      <th>Price</th>\n",
       "      <th>Brand</th>\n",
       "      <th>Model</th>\n",
       "      <th>Kilometers_driven</th>\n",
       "      <th>Year</th>\n",
       "      <th>Fuel</th>\n",
       "      <th>Transmission</th>\n",
       "      <th>Variant</th>\n",
       "      <th>No_owners</th>\n",
       "      <th>Location</th>\n",
       "    </tr>\n",
       "  </thead>\n",
       "  <tbody>\n",
       "    <tr>\n",
       "      <th>0</th>\n",
       "      <td>₹ 3,25,000</td>\n",
       "      <td>Nissan</td>\n",
       "      <td>Sunny</td>\n",
       "      <td>119,120 km</td>\n",
       "      <td>2012</td>\n",
       "      <td>Diesel</td>\n",
       "      <td>Manual</td>\n",
       "      <td>Diesel XV</td>\n",
       "      <td>2nd</td>\n",
       "      <td>Mumbai</td>\n",
       "    </tr>\n",
       "    <tr>\n",
       "      <th>1</th>\n",
       "      <td>₹ 4,00,000</td>\n",
       "      <td>Hyundai</td>\n",
       "      <td>Grand i10</td>\n",
       "      <td>68,113 km</td>\n",
       "      <td>2014</td>\n",
       "      <td>Petrol</td>\n",
       "      <td>Manual</td>\n",
       "      <td>2013-2016 Asta Option</td>\n",
       "      <td>1st</td>\n",
       "      <td>Mumbai</td>\n",
       "    </tr>\n",
       "    <tr>\n",
       "      <th>2</th>\n",
       "      <td>₹ 5,99,000</td>\n",
       "      <td>Toyota</td>\n",
       "      <td>Innova</td>\n",
       "      <td>77,000 km</td>\n",
       "      <td>2011</td>\n",
       "      <td>Diesel</td>\n",
       "      <td>Manual</td>\n",
       "      <td>2.5 V 7 STR</td>\n",
       "      <td>2nd</td>\n",
       "      <td>Mumbai</td>\n",
       "    </tr>\n",
       "    <tr>\n",
       "      <th>3</th>\n",
       "      <td>Na</td>\n",
       "      <td>Na</td>\n",
       "      <td>Na</td>\n",
       "      <td>Na</td>\n",
       "      <td>Na</td>\n",
       "      <td>Na</td>\n",
       "      <td>Na</td>\n",
       "      <td>Na</td>\n",
       "      <td>Na</td>\n",
       "      <td>Mumbai</td>\n",
       "    </tr>\n",
       "    <tr>\n",
       "      <th>4</th>\n",
       "      <td>Na</td>\n",
       "      <td>Na</td>\n",
       "      <td>Na</td>\n",
       "      <td>Na</td>\n",
       "      <td>Na</td>\n",
       "      <td>Na</td>\n",
       "      <td>Na</td>\n",
       "      <td>Na</td>\n",
       "      <td>Na</td>\n",
       "      <td>Mumbai</td>\n",
       "    </tr>\n",
       "  </tbody>\n",
       "</table>\n",
       "</div>"
      ],
      "text/plain": [
       "        Price    Brand      Model Kilometers_driven  Year    Fuel  \\\n",
       "0  ₹ 3,25,000   Nissan      Sunny        119,120 km  2012  Diesel   \n",
       "1  ₹ 4,00,000  Hyundai  Grand i10         68,113 km  2014  Petrol   \n",
       "2  ₹ 5,99,000   Toyota     Innova         77,000 km  2011  Diesel   \n",
       "3          Na       Na         Na                Na    Na      Na   \n",
       "4          Na       Na         Na                Na    Na      Na   \n",
       "\n",
       "  Transmission                Variant No_owners Location  \n",
       "0       Manual              Diesel XV       2nd   Mumbai  \n",
       "1       Manual  2013-2016 Asta Option       1st   Mumbai  \n",
       "2       Manual            2.5 V 7 STR       2nd   Mumbai  \n",
       "3           Na                     Na        Na   Mumbai  \n",
       "4           Na                     Na        Na   Mumbai  "
      ]
     },
     "execution_count": 73,
     "metadata": {},
     "output_type": "execute_result"
    }
   ],
   "source": [
    "olx2.head()"
   ]
  },
  {
   "cell_type": "code",
   "execution_count": 74,
   "metadata": {},
   "outputs": [],
   "source": [
    "driver.close()"
   ]
  },
  {
   "cell_type": "code",
   "execution_count": 75,
   "metadata": {},
   "outputs": [],
   "source": [
    "#chennai"
   ]
  },
  {
   "cell_type": "code",
   "execution_count": 76,
   "metadata": {},
   "outputs": [],
   "source": [
    "driver=webdriver.Firefox(\"C:\\geckodriver-v0.29.1-win64\")\n"
   ]
  },
  {
   "cell_type": "code",
   "execution_count": 77,
   "metadata": {},
   "outputs": [],
   "source": [
    "driver.get(\"https://www.olx.in/\")"
   ]
  },
  {
   "cell_type": "code",
   "execution_count": 78,
   "metadata": {},
   "outputs": [],
   "source": [
    "location=driver.find_element_by_xpath(\"//input[@class='_2xvhw']\") #finding option to enter the city name"
   ]
  },
  {
   "cell_type": "code",
   "execution_count": 79,
   "metadata": {},
   "outputs": [],
   "source": [
    "location.clear()"
   ]
  },
  {
   "cell_type": "code",
   "execution_count": 80,
   "metadata": {},
   "outputs": [],
   "source": [
    "location.send_keys(\"Chennai\") #entering city name"
   ]
  },
  {
   "cell_type": "code",
   "execution_count": 81,
   "metadata": {},
   "outputs": [],
   "source": [
    "driver.find_element_by_xpath(\"//div[@class='_2HzJo']/div[1]\").click()"
   ]
  },
  {
   "cell_type": "code",
   "execution_count": 82,
   "metadata": {},
   "outputs": [],
   "source": [
    "cars=driver.find_element_by_xpath(\"//form[@class='rui-1Azjs _20jkh']/fieldset/div/input\") \n",
    "#finding option to enter cars in search option"
   ]
  },
  {
   "cell_type": "code",
   "execution_count": 83,
   "metadata": {},
   "outputs": [],
   "source": [
    "cars.send_keys(\"Cars\")"
   ]
  },
  {
   "cell_type": "code",
   "execution_count": 84,
   "metadata": {},
   "outputs": [],
   "source": [
    "driver.find_element_by_xpath(\"//div[@class='_3b3oR']\").click() #click search option"
   ]
  },
  {
   "cell_type": "code",
   "execution_count": 85,
   "metadata": {},
   "outputs": [],
   "source": [
    "load_more=driver.find_element_by_xpath(\"//button[@class='rui-39-wj rui-3evoE rui-1JPTg']\") \n",
    "#selecting load more option to load for more cars"
   ]
  },
  {
   "cell_type": "code",
   "execution_count": 86,
   "metadata": {},
   "outputs": [],
   "source": [
    "load_more.click()"
   ]
  },
  {
   "cell_type": "code",
   "execution_count": 87,
   "metadata": {},
   "outputs": [],
   "source": [
    "urls=[] #collecting urls for each car\n",
    "for i in driver.find_elements_by_xpath(\"//ul[@class='rl3f9 _3mXOU']/li/a\"):\n",
    "    urls.append(i.get_attribute('href'))\n",
    "time.sleep(4)\n",
    "driver.find_element_by_xpath(\"//button[@class='rui-39-wj rui-3evoE rui-1JPTg']\").click()\n",
    "while True:\n",
    "    time.sleep(3)\n",
    "    for j in driver.find_elements_by_xpath(\"//ul[@class='rl3f9 _3mXOU']/li/a\"):\n",
    "        urls.append(j.get_attribute('href'))\n",
    "    try:\n",
    "        driver.find_element_by_xpath(\"//button[@class='rui-39-wj rui-3evoE rui-1JPTg'][2]\").click()\n",
    "        time.sleep(5)\n",
    "    except:\n",
    "        break"
   ]
  },
  {
   "cell_type": "code",
   "execution_count": 88,
   "metadata": {},
   "outputs": [
    {
     "data": {
      "text/plain": [
       "100"
      ]
     },
     "execution_count": 88,
     "metadata": {},
     "output_type": "execute_result"
    }
   ],
   "source": [
    "len(urls)"
   ]
  },
  {
   "cell_type": "code",
   "execution_count": 89,
   "metadata": {},
   "outputs": [],
   "source": [
    "#Scrapping data of each cars:\n",
    "Price=[]\n",
    "Brand=[]\n",
    "Model=[]\n",
    "Kilometers_driven=[]\n",
    "Year=[]\n",
    "Fuel=[]\n",
    "Transmission=[]\n",
    "Variant=[]\n",
    "No_owners=[]\n"
   ]
  },
  {
   "cell_type": "code",
   "execution_count": 90,
   "metadata": {},
   "outputs": [],
   "source": [
    "for i in urls[0:50]:\n",
    "    driver.get(i)\n",
    "    time.sleep(5)\n",
    "    try:\n",
    "        first=driver.find_element_by_xpath(\"//section[@class='_2wMiF']/span[1]\")\n",
    "        Price.append(first.text)\n",
    "    except NoSuchElementException:\n",
    "        Price.append(\"Na\")\n",
    "    try:\n",
    "        second=driver.find_element_by_xpath(\"//div[@class='_3JPEe']/div[1]/div/span[2]\")\n",
    "        Brand.append(second.text)\n",
    "    except NoSuchElementException:\n",
    "        Brand.append(\"Na\")\n",
    "        \n",
    "    try:\n",
    "        third=driver.find_element_by_xpath(\"//div[@class='_3JPEe']/div[2]/div/span[2]\")\n",
    "        Model.append(third.text)\n",
    "    except NoSuchElementException:\n",
    "        Model.append(\"Na\")\n",
    "        \n",
    "    try:\n",
    "        fourt=driver.find_element_by_xpath(\"//div[@class='_3JPEe']/div[3]/div/span[2]\")\n",
    "        Variant.append(fourt.text)\n",
    "    except NoSuchElementException:\n",
    "        Variant.append(\"Na\")\n",
    "        \n",
    "    try:\n",
    "        fifth=driver.find_element_by_xpath(\"//div[@class='_3JPEe']/div[4]/div/span[2]\")\n",
    "        Year.append(fifth.text)\n",
    "    except NoSuchElementException:\n",
    "        Year.append(\"Na\")\n",
    "        \n",
    "            \n",
    "    try:\n",
    "        Sixth=driver.find_element_by_xpath(\"//div[@class='_3JPEe']/div[5]/div/span[2]\")\n",
    "        Fuel.append(Sixth.text)\n",
    "    except NoSuchElementException:\n",
    "        Fuel.append(\"Na\")\n",
    "        \n",
    "    try:\n",
    "        Seventh=driver.find_element_by_xpath(\"//div[@class='_3JPEe']/div[6]/div/span[2]\")\n",
    "        Transmission.append(Seventh.text)\n",
    "    except NoSuchElementException:\n",
    "        Transmission.append(\"Na\")\n",
    "        \n",
    "    try:\n",
    "        Eighth=driver.find_element_by_xpath(\"//div[@class='_3JPEe']/div[7]/div/span[2]\")\n",
    "        Kilometers_driven.append(Eighth.text)\n",
    "    except NoSuchElementException:\n",
    "        Kilometers_driven.append(\"Na\")\n",
    "        \n",
    "    try:\n",
    "        Ninth=driver.find_element_by_xpath(\"//div[@class='_3JPEe']/div[8]/div/span[2]\")\n",
    "        No_owners.append(Ninth.text)\n",
    "    except NoSuchElementException:\n",
    "        No_owners.append(\"Na\")        \n",
    "                "
   ]
  },
  {
   "cell_type": "code",
   "execution_count": 91,
   "metadata": {},
   "outputs": [],
   "source": [
    "olx3=pd.DataFrame({})\n",
    "olx3['Price']=Price\n",
    "olx3['Brand']=Brand\n",
    "olx3['Model']=Model\n",
    "olx3['Kilometers_driven']=Kilometers_driven\n",
    "olx3['Year']=Year\n",
    "olx3['Fuel']=Fuel\n",
    "olx3['Transmission']=Transmission\n",
    "olx3['Variant']=Variant\n",
    "olx3['No_owners']=No_owners\n",
    "olx3['Location']='Chennai'\n"
   ]
  },
  {
   "cell_type": "code",
   "execution_count": 92,
   "metadata": {},
   "outputs": [
    {
     "data": {
      "text/html": [
       "<div>\n",
       "<style scoped>\n",
       "    .dataframe tbody tr th:only-of-type {\n",
       "        vertical-align: middle;\n",
       "    }\n",
       "\n",
       "    .dataframe tbody tr th {\n",
       "        vertical-align: top;\n",
       "    }\n",
       "\n",
       "    .dataframe thead th {\n",
       "        text-align: right;\n",
       "    }\n",
       "</style>\n",
       "<table border=\"1\" class=\"dataframe\">\n",
       "  <thead>\n",
       "    <tr style=\"text-align: right;\">\n",
       "      <th></th>\n",
       "      <th>Price</th>\n",
       "      <th>Brand</th>\n",
       "      <th>Model</th>\n",
       "      <th>Kilometers_driven</th>\n",
       "      <th>Year</th>\n",
       "      <th>Fuel</th>\n",
       "      <th>Transmission</th>\n",
       "      <th>Variant</th>\n",
       "      <th>No_owners</th>\n",
       "      <th>Location</th>\n",
       "    </tr>\n",
       "  </thead>\n",
       "  <tbody>\n",
       "    <tr>\n",
       "      <th>0</th>\n",
       "      <td>₹ 6,55,000</td>\n",
       "      <td>Maruti Suzuki</td>\n",
       "      <td>Swift Dzire</td>\n",
       "      <td>15,750 km</td>\n",
       "      <td>2017</td>\n",
       "      <td>Petrol</td>\n",
       "      <td>Manual</td>\n",
       "      <td>ZXI</td>\n",
       "      <td>Na</td>\n",
       "      <td>Chennai</td>\n",
       "    </tr>\n",
       "    <tr>\n",
       "      <th>1</th>\n",
       "      <td>₹ 4,90,000</td>\n",
       "      <td>Hyundai</td>\n",
       "      <td>Verna</td>\n",
       "      <td>100,000 km</td>\n",
       "      <td>2013</td>\n",
       "      <td>Diesel</td>\n",
       "      <td>Manual</td>\n",
       "      <td>CRDi 1.6 EX</td>\n",
       "      <td>2nd</td>\n",
       "      <td>Chennai</td>\n",
       "    </tr>\n",
       "    <tr>\n",
       "      <th>2</th>\n",
       "      <td>₹ 9,70,000</td>\n",
       "      <td>Honda</td>\n",
       "      <td>City</td>\n",
       "      <td>39,000 km</td>\n",
       "      <td>2018</td>\n",
       "      <td>Diesel</td>\n",
       "      <td>Manual</td>\n",
       "      <td>i-DTEC VX</td>\n",
       "      <td>1st</td>\n",
       "      <td>Chennai</td>\n",
       "    </tr>\n",
       "    <tr>\n",
       "      <th>3</th>\n",
       "      <td>Na</td>\n",
       "      <td>Na</td>\n",
       "      <td>Na</td>\n",
       "      <td>Na</td>\n",
       "      <td>Na</td>\n",
       "      <td>Na</td>\n",
       "      <td>Na</td>\n",
       "      <td>Na</td>\n",
       "      <td>Na</td>\n",
       "      <td>Chennai</td>\n",
       "    </tr>\n",
       "    <tr>\n",
       "      <th>4</th>\n",
       "      <td>Na</td>\n",
       "      <td>Na</td>\n",
       "      <td>Na</td>\n",
       "      <td>Na</td>\n",
       "      <td>Na</td>\n",
       "      <td>Na</td>\n",
       "      <td>Na</td>\n",
       "      <td>Na</td>\n",
       "      <td>Na</td>\n",
       "      <td>Chennai</td>\n",
       "    </tr>\n",
       "  </tbody>\n",
       "</table>\n",
       "</div>"
      ],
      "text/plain": [
       "        Price          Brand        Model Kilometers_driven  Year    Fuel  \\\n",
       "0  ₹ 6,55,000  Maruti Suzuki  Swift Dzire         15,750 km  2017  Petrol   \n",
       "1  ₹ 4,90,000        Hyundai        Verna        100,000 km  2013  Diesel   \n",
       "2  ₹ 9,70,000          Honda         City         39,000 km  2018  Diesel   \n",
       "3          Na             Na           Na                Na    Na      Na   \n",
       "4          Na             Na           Na                Na    Na      Na   \n",
       "\n",
       "  Transmission      Variant No_owners Location  \n",
       "0       Manual          ZXI        Na  Chennai  \n",
       "1       Manual  CRDi 1.6 EX       2nd  Chennai  \n",
       "2       Manual    i-DTEC VX       1st  Chennai  \n",
       "3           Na           Na        Na  Chennai  \n",
       "4           Na           Na        Na  Chennai  "
      ]
     },
     "execution_count": 92,
     "metadata": {},
     "output_type": "execute_result"
    }
   ],
   "source": [
    "olx3.head()"
   ]
  },
  {
   "cell_type": "code",
   "execution_count": 93,
   "metadata": {},
   "outputs": [],
   "source": [
    "driver.close()"
   ]
  },
  {
   "cell_type": "code",
   "execution_count": 94,
   "metadata": {},
   "outputs": [],
   "source": [
    "#Hyderabad"
   ]
  },
  {
   "cell_type": "code",
   "execution_count": 96,
   "metadata": {},
   "outputs": [],
   "source": [
    "driver=webdriver.Firefox(\"C:\\geckodriver-v0.29.1-win64\")\n"
   ]
  },
  {
   "cell_type": "code",
   "execution_count": 97,
   "metadata": {},
   "outputs": [],
   "source": [
    "driver.get(\"https://www.olx.in/\")"
   ]
  },
  {
   "cell_type": "code",
   "execution_count": 98,
   "metadata": {},
   "outputs": [],
   "source": [
    "location=driver.find_element_by_xpath(\"//input[@class='_2xvhw']\") #finding option to enter the city name"
   ]
  },
  {
   "cell_type": "code",
   "execution_count": 99,
   "metadata": {},
   "outputs": [],
   "source": [
    "location.clear()"
   ]
  },
  {
   "cell_type": "code",
   "execution_count": 100,
   "metadata": {},
   "outputs": [],
   "source": [
    "location.send_keys(\"Hyderabad\") #entering city name"
   ]
  },
  {
   "cell_type": "code",
   "execution_count": 101,
   "metadata": {},
   "outputs": [],
   "source": [
    "driver.find_element_by_xpath(\"//div[@class='_2HzJo']/div[1]\").click()"
   ]
  },
  {
   "cell_type": "code",
   "execution_count": 102,
   "metadata": {},
   "outputs": [],
   "source": [
    "cars=driver.find_element_by_xpath(\"//form[@class='rui-1Azjs _20jkh']/fieldset/div/input\") \n",
    "#finding option to enter cars in search option"
   ]
  },
  {
   "cell_type": "code",
   "execution_count": 103,
   "metadata": {},
   "outputs": [],
   "source": [
    "cars.send_keys(\"Cars\")"
   ]
  },
  {
   "cell_type": "code",
   "execution_count": 104,
   "metadata": {},
   "outputs": [],
   "source": [
    "driver.find_element_by_xpath(\"//div[@class='_3b3oR']\").click() #click search option"
   ]
  },
  {
   "cell_type": "code",
   "execution_count": 105,
   "metadata": {},
   "outputs": [],
   "source": [
    "load_more=driver.find_element_by_xpath(\"//button[@class='rui-39-wj rui-3evoE rui-1JPTg']\") \n",
    "#selecting load more option to load for more cars"
   ]
  },
  {
   "cell_type": "code",
   "execution_count": 106,
   "metadata": {},
   "outputs": [],
   "source": [
    "load_more.click()"
   ]
  },
  {
   "cell_type": "code",
   "execution_count": 107,
   "metadata": {},
   "outputs": [],
   "source": [
    "urls=[] #collecting urls for each car\n",
    "for i in driver.find_elements_by_xpath(\"//ul[@class='rl3f9 _3mXOU']/li/a\"):\n",
    "    urls.append(i.get_attribute('href'))\n",
    "time.sleep(4)\n",
    "driver.find_element_by_xpath(\"//button[@class='rui-39-wj rui-3evoE rui-1JPTg']\").click()\n",
    "while True:\n",
    "    time.sleep(3)\n",
    "    for j in driver.find_elements_by_xpath(\"//ul[@class='rl3f9 _3mXOU']/li/a\"):\n",
    "        urls.append(j.get_attribute('href'))\n",
    "    try:\n",
    "        driver.find_element_by_xpath(\"//button[@class='rui-39-wj rui-3evoE rui-1JPTg'][2]\").click()\n",
    "        time.sleep(5)\n",
    "    except:\n",
    "        break"
   ]
  },
  {
   "cell_type": "code",
   "execution_count": 108,
   "metadata": {},
   "outputs": [
    {
     "data": {
      "text/plain": [
       "100"
      ]
     },
     "execution_count": 108,
     "metadata": {},
     "output_type": "execute_result"
    }
   ],
   "source": [
    "len(urls)"
   ]
  },
  {
   "cell_type": "code",
   "execution_count": 109,
   "metadata": {},
   "outputs": [],
   "source": [
    "#Scrapping data of each cars:\n",
    "Price=[]\n",
    "Brand=[]\n",
    "Model=[]\n",
    "Kilometers_driven=[]\n",
    "Year=[]\n",
    "Fuel=[]\n",
    "Transmission=[]\n",
    "Variant=[]\n",
    "No_owners=[]\n"
   ]
  },
  {
   "cell_type": "code",
   "execution_count": 110,
   "metadata": {},
   "outputs": [],
   "source": [
    "for i in urls[0:50]:\n",
    "    driver.get(i)\n",
    "    time.sleep(5)\n",
    "    try:\n",
    "        first=driver.find_element_by_xpath(\"//section[@class='_2wMiF']/span[1]\")\n",
    "        Price.append(first.text)\n",
    "    except NoSuchElementException:\n",
    "        Price.append(\"Na\")\n",
    "    try:\n",
    "        second=driver.find_element_by_xpath(\"//div[@class='_3JPEe']/div[1]/div/span[2]\")\n",
    "        Brand.append(second.text)\n",
    "    except NoSuchElementException:\n",
    "        Brand.append(\"Na\")\n",
    "        \n",
    "    try:\n",
    "        third=driver.find_element_by_xpath(\"//div[@class='_3JPEe']/div[2]/div/span[2]\")\n",
    "        Model.append(third.text)\n",
    "    except NoSuchElementException:\n",
    "        Model.append(\"Na\")\n",
    "        \n",
    "    try:\n",
    "        fourt=driver.find_element_by_xpath(\"//div[@class='_3JPEe']/div[3]/div/span[2]\")\n",
    "        Variant.append(fourt.text)\n",
    "    except NoSuchElementException:\n",
    "        Variant.append(\"Na\")\n",
    "        \n",
    "    try:\n",
    "        fifth=driver.find_element_by_xpath(\"//div[@class='_3JPEe']/div[4]/div/span[2]\")\n",
    "        Year.append(fifth.text)\n",
    "    except NoSuchElementException:\n",
    "        Year.append(\"Na\")\n",
    "        \n",
    "            \n",
    "    try:\n",
    "        Sixth=driver.find_element_by_xpath(\"//div[@class='_3JPEe']/div[5]/div/span[2]\")\n",
    "        Fuel.append(Sixth.text)\n",
    "    except NoSuchElementException:\n",
    "        Fuel.append(\"Na\")\n",
    "        \n",
    "    try:\n",
    "        Seventh=driver.find_element_by_xpath(\"//div[@class='_3JPEe']/div[6]/div/span[2]\")\n",
    "        Transmission.append(Seventh.text)\n",
    "    except NoSuchElementException:\n",
    "        Transmission.append(\"Na\")\n",
    "        \n",
    "    try:\n",
    "        Eighth=driver.find_element_by_xpath(\"//div[@class='_3JPEe']/div[7]/div/span[2]\")\n",
    "        Kilometers_driven.append(Eighth.text)\n",
    "    except NoSuchElementException:\n",
    "        Kilometers_driven.append(\"Na\")\n",
    "        \n",
    "    try:\n",
    "        Ninth=driver.find_element_by_xpath(\"//div[@class='_3JPEe']/div[8]/div/span[2]\")\n",
    "        No_owners.append(Ninth.text)\n",
    "    except NoSuchElementException:\n",
    "        No_owners.append(\"Na\")        \n",
    "                "
   ]
  },
  {
   "cell_type": "code",
   "execution_count": 111,
   "metadata": {},
   "outputs": [],
   "source": [
    "olx4=pd.DataFrame({})\n",
    "olx4['Price']=Price\n",
    "olx4['Brand']=Brand\n",
    "olx4['Model']=Model\n",
    "olx4['Kilometers_driven']=Kilometers_driven\n",
    "olx4['Year']=Year\n",
    "olx4['Fuel']=Fuel\n",
    "olx4['Transmission']=Transmission\n",
    "olx4['Variant']=Variant\n",
    "olx4['No_owners']=No_owners\n",
    "olx4['Location']='Hyderabad'\n"
   ]
  },
  {
   "cell_type": "code",
   "execution_count": 112,
   "metadata": {},
   "outputs": [
    {
     "data": {
      "text/html": [
       "<div>\n",
       "<style scoped>\n",
       "    .dataframe tbody tr th:only-of-type {\n",
       "        vertical-align: middle;\n",
       "    }\n",
       "\n",
       "    .dataframe tbody tr th {\n",
       "        vertical-align: top;\n",
       "    }\n",
       "\n",
       "    .dataframe thead th {\n",
       "        text-align: right;\n",
       "    }\n",
       "</style>\n",
       "<table border=\"1\" class=\"dataframe\">\n",
       "  <thead>\n",
       "    <tr style=\"text-align: right;\">\n",
       "      <th></th>\n",
       "      <th>Price</th>\n",
       "      <th>Brand</th>\n",
       "      <th>Model</th>\n",
       "      <th>Kilometers_driven</th>\n",
       "      <th>Year</th>\n",
       "      <th>Fuel</th>\n",
       "      <th>Transmission</th>\n",
       "      <th>Variant</th>\n",
       "      <th>No_owners</th>\n",
       "      <th>Location</th>\n",
       "    </tr>\n",
       "  </thead>\n",
       "  <tbody>\n",
       "    <tr>\n",
       "      <th>0</th>\n",
       "      <td>₹ 5,50,000</td>\n",
       "      <td>Volkswagen</td>\n",
       "      <td>Polo</td>\n",
       "      <td>88,000 km</td>\n",
       "      <td>2014</td>\n",
       "      <td>Diesel</td>\n",
       "      <td>Manual</td>\n",
       "      <td>2009-2013 Diesel Highline 1.2L</td>\n",
       "      <td>1st</td>\n",
       "      <td>Hyderabad</td>\n",
       "    </tr>\n",
       "    <tr>\n",
       "      <th>1</th>\n",
       "      <td>₹ 7,45,200</td>\n",
       "      <td>Hyundai</td>\n",
       "      <td>i20</td>\n",
       "      <td>68,151 km</td>\n",
       "      <td>2016</td>\n",
       "      <td>Diesel</td>\n",
       "      <td>Manual</td>\n",
       "      <td>Diesel Asta</td>\n",
       "      <td>1st</td>\n",
       "      <td>Hyderabad</td>\n",
       "    </tr>\n",
       "    <tr>\n",
       "      <th>2</th>\n",
       "      <td>₹ 3,75,000</td>\n",
       "      <td>Maruti Suzuki</td>\n",
       "      <td>Wagon R</td>\n",
       "      <td>52,802 km</td>\n",
       "      <td>2015</td>\n",
       "      <td>Petrol</td>\n",
       "      <td>Manual</td>\n",
       "      <td>VXI</td>\n",
       "      <td>1st</td>\n",
       "      <td>Hyderabad</td>\n",
       "    </tr>\n",
       "    <tr>\n",
       "      <th>3</th>\n",
       "      <td>Na</td>\n",
       "      <td>Na</td>\n",
       "      <td>Na</td>\n",
       "      <td>Na</td>\n",
       "      <td>Na</td>\n",
       "      <td>Na</td>\n",
       "      <td>Na</td>\n",
       "      <td>Na</td>\n",
       "      <td>Na</td>\n",
       "      <td>Hyderabad</td>\n",
       "    </tr>\n",
       "    <tr>\n",
       "      <th>4</th>\n",
       "      <td>Na</td>\n",
       "      <td>Na</td>\n",
       "      <td>Na</td>\n",
       "      <td>Na</td>\n",
       "      <td>Na</td>\n",
       "      <td>Na</td>\n",
       "      <td>Na</td>\n",
       "      <td>Na</td>\n",
       "      <td>Na</td>\n",
       "      <td>Hyderabad</td>\n",
       "    </tr>\n",
       "  </tbody>\n",
       "</table>\n",
       "</div>"
      ],
      "text/plain": [
       "        Price          Brand    Model Kilometers_driven  Year    Fuel  \\\n",
       "0  ₹ 5,50,000     Volkswagen     Polo         88,000 km  2014  Diesel   \n",
       "1  ₹ 7,45,200        Hyundai      i20         68,151 km  2016  Diesel   \n",
       "2  ₹ 3,75,000  Maruti Suzuki  Wagon R         52,802 km  2015  Petrol   \n",
       "3          Na             Na       Na                Na    Na      Na   \n",
       "4          Na             Na       Na                Na    Na      Na   \n",
       "\n",
       "  Transmission                         Variant No_owners   Location  \n",
       "0       Manual  2009-2013 Diesel Highline 1.2L       1st  Hyderabad  \n",
       "1       Manual                     Diesel Asta       1st  Hyderabad  \n",
       "2       Manual                             VXI       1st  Hyderabad  \n",
       "3           Na                              Na        Na  Hyderabad  \n",
       "4           Na                              Na        Na  Hyderabad  "
      ]
     },
     "execution_count": 112,
     "metadata": {},
     "output_type": "execute_result"
    }
   ],
   "source": [
    "olx4.head()"
   ]
  },
  {
   "cell_type": "code",
   "execution_count": 114,
   "metadata": {},
   "outputs": [],
   "source": [
    "driver.close()"
   ]
  },
  {
   "cell_type": "code",
   "execution_count": 115,
   "metadata": {},
   "outputs": [],
   "source": [
    "#Pune"
   ]
  },
  {
   "cell_type": "code",
   "execution_count": 116,
   "metadata": {},
   "outputs": [],
   "source": [
    "driver=webdriver.Firefox(\"C:\\geckodriver-v0.29.1-win64\")\n"
   ]
  },
  {
   "cell_type": "code",
   "execution_count": 117,
   "metadata": {},
   "outputs": [],
   "source": [
    "driver.get(\"https://www.olx.in/\")"
   ]
  },
  {
   "cell_type": "code",
   "execution_count": 118,
   "metadata": {},
   "outputs": [],
   "source": [
    "location=driver.find_element_by_xpath(\"//input[@class='_2xvhw']\") #finding option to enter the city name"
   ]
  },
  {
   "cell_type": "code",
   "execution_count": 119,
   "metadata": {},
   "outputs": [],
   "source": [
    "location.clear()"
   ]
  },
  {
   "cell_type": "code",
   "execution_count": 120,
   "metadata": {},
   "outputs": [],
   "source": [
    "location.send_keys(\"Pune\") #entering city name"
   ]
  },
  {
   "cell_type": "code",
   "execution_count": 121,
   "metadata": {},
   "outputs": [],
   "source": [
    "driver.find_element_by_xpath(\"//div[@class='_2HzJo']/div[1]\").click()"
   ]
  },
  {
   "cell_type": "code",
   "execution_count": 122,
   "metadata": {},
   "outputs": [],
   "source": [
    "cars=driver.find_element_by_xpath(\"//form[@class='rui-1Azjs _20jkh']/fieldset/div/input\") \n",
    "#finding option to enter cars in search option"
   ]
  },
  {
   "cell_type": "code",
   "execution_count": 123,
   "metadata": {},
   "outputs": [],
   "source": [
    "cars.send_keys(\"Cars\")"
   ]
  },
  {
   "cell_type": "code",
   "execution_count": 124,
   "metadata": {},
   "outputs": [],
   "source": [
    "driver.find_element_by_xpath(\"//div[@class='_3b3oR']\").click() #click search option"
   ]
  },
  {
   "cell_type": "code",
   "execution_count": 125,
   "metadata": {},
   "outputs": [],
   "source": [
    "load_more=driver.find_element_by_xpath(\"//button[@class='rui-39-wj rui-3evoE rui-1JPTg']\") \n",
    "#selecting load more option to load for more cars"
   ]
  },
  {
   "cell_type": "code",
   "execution_count": 126,
   "metadata": {},
   "outputs": [],
   "source": [
    "load_more.click()"
   ]
  },
  {
   "cell_type": "code",
   "execution_count": 127,
   "metadata": {},
   "outputs": [],
   "source": [
    "urls=[] #collecting urls for each car\n",
    "for i in driver.find_elements_by_xpath(\"//ul[@class='rl3f9 _3mXOU']/li/a\"):\n",
    "    urls.append(i.get_attribute('href'))\n",
    "time.sleep(4)\n",
    "driver.find_element_by_xpath(\"//button[@class='rui-39-wj rui-3evoE rui-1JPTg']\").click()\n",
    "while True:\n",
    "    time.sleep(3)\n",
    "    for j in driver.find_elements_by_xpath(\"//ul[@class='rl3f9 _3mXOU']/li/a\"):\n",
    "        urls.append(j.get_attribute('href'))\n",
    "    try:\n",
    "        driver.find_element_by_xpath(\"//button[@class='rui-39-wj rui-3evoE rui-1JPTg'][2]\").click()\n",
    "        time.sleep(5)\n",
    "    except:\n",
    "        break"
   ]
  },
  {
   "cell_type": "code",
   "execution_count": 128,
   "metadata": {},
   "outputs": [
    {
     "data": {
      "text/plain": [
       "100"
      ]
     },
     "execution_count": 128,
     "metadata": {},
     "output_type": "execute_result"
    }
   ],
   "source": [
    "len(urls)"
   ]
  },
  {
   "cell_type": "code",
   "execution_count": 129,
   "metadata": {},
   "outputs": [],
   "source": [
    "#Scrapping data of each cars:\n",
    "Price=[]\n",
    "Brand=[]\n",
    "Model=[]\n",
    "Kilometers_driven=[]\n",
    "Year=[]\n",
    "Fuel=[]\n",
    "Transmission=[]\n",
    "Variant=[]\n",
    "No_owners=[]"
   ]
  },
  {
   "cell_type": "code",
   "execution_count": 130,
   "metadata": {},
   "outputs": [],
   "source": [
    "for i in urls[0:50]:\n",
    "    driver.get(i)\n",
    "    time.sleep(5)\n",
    "    try:\n",
    "        first=driver.find_element_by_xpath(\"//section[@class='_2wMiF']/span[1]\")\n",
    "        Price.append(first.text)\n",
    "    except NoSuchElementException:\n",
    "        Price.append(\"Na\")\n",
    "    try:\n",
    "        second=driver.find_element_by_xpath(\"//div[@class='_3JPEe']/div[1]/div/span[2]\")\n",
    "        Brand.append(second.text)\n",
    "    except NoSuchElementException:\n",
    "        Brand.append(\"Na\")\n",
    "        \n",
    "    try:\n",
    "        third=driver.find_element_by_xpath(\"//div[@class='_3JPEe']/div[2]/div/span[2]\")\n",
    "        Model.append(third.text)\n",
    "    except NoSuchElementException:\n",
    "        Model.append(\"Na\")\n",
    "        \n",
    "    try:\n",
    "        fourt=driver.find_element_by_xpath(\"//div[@class='_3JPEe']/div[3]/div/span[2]\")\n",
    "        Variant.append(fourt.text)\n",
    "    except NoSuchElementException:\n",
    "        Variant.append(\"Na\")\n",
    "        \n",
    "    try:\n",
    "        fifth=driver.find_element_by_xpath(\"//div[@class='_3JPEe']/div[4]/div/span[2]\")\n",
    "        Year.append(fifth.text)\n",
    "    except NoSuchElementException:\n",
    "        Year.append(\"Na\")\n",
    "        \n",
    "            \n",
    "    try:\n",
    "        Sixth=driver.find_element_by_xpath(\"//div[@class='_3JPEe']/div[5]/div/span[2]\")\n",
    "        Fuel.append(Sixth.text)\n",
    "    except NoSuchElementException:\n",
    "        Fuel.append(\"Na\")\n",
    "        \n",
    "    try:\n",
    "        Seventh=driver.find_element_by_xpath(\"//div[@class='_3JPEe']/div[6]/div/span[2]\")\n",
    "        Transmission.append(Seventh.text)\n",
    "    except NoSuchElementException:\n",
    "        Transmission.append(\"Na\")\n",
    "        \n",
    "    try:\n",
    "        Eighth=driver.find_element_by_xpath(\"//div[@class='_3JPEe']/div[7]/div/span[2]\")\n",
    "        Kilometers_driven.append(Eighth.text)\n",
    "    except NoSuchElementException:\n",
    "        Kilometers_driven.append(\"Na\")\n",
    "        \n",
    "    try:\n",
    "        Ninth=driver.find_element_by_xpath(\"//div[@class='_3JPEe']/div[8]/div/span[2]\")\n",
    "        No_owners.append(Ninth.text)\n",
    "    except NoSuchElementException:\n",
    "        No_owners.append(\"Na\")        \n",
    "                "
   ]
  },
  {
   "cell_type": "code",
   "execution_count": 131,
   "metadata": {},
   "outputs": [],
   "source": [
    "olx5=pd.DataFrame({})\n",
    "olx5['Price']=Price\n",
    "olx5['Brand']=Brand\n",
    "olx5['Model']=Model\n",
    "olx5['Kilometers_driven']=Kilometers_driven\n",
    "olx5['Year']=Year\n",
    "olx5['Fuel']=Fuel\n",
    "olx5['Transmission']=Transmission\n",
    "olx5['Variant']=Variant\n",
    "olx5['No_owners']=No_owners\n",
    "olx5['Location']='Pune'"
   ]
  },
  {
   "cell_type": "code",
   "execution_count": 134,
   "metadata": {},
   "outputs": [
    {
     "data": {
      "text/html": [
       "<div>\n",
       "<style scoped>\n",
       "    .dataframe tbody tr th:only-of-type {\n",
       "        vertical-align: middle;\n",
       "    }\n",
       "\n",
       "    .dataframe tbody tr th {\n",
       "        vertical-align: top;\n",
       "    }\n",
       "\n",
       "    .dataframe thead th {\n",
       "        text-align: right;\n",
       "    }\n",
       "</style>\n",
       "<table border=\"1\" class=\"dataframe\">\n",
       "  <thead>\n",
       "    <tr style=\"text-align: right;\">\n",
       "      <th></th>\n",
       "      <th>Price</th>\n",
       "      <th>Brand</th>\n",
       "      <th>Model</th>\n",
       "      <th>Kilometers_driven</th>\n",
       "      <th>Year</th>\n",
       "      <th>Fuel</th>\n",
       "      <th>Transmission</th>\n",
       "      <th>Variant</th>\n",
       "      <th>No_owners</th>\n",
       "      <th>Location</th>\n",
       "    </tr>\n",
       "  </thead>\n",
       "  <tbody>\n",
       "    <tr>\n",
       "      <th>0</th>\n",
       "      <td>₹ 7,50,000</td>\n",
       "      <td>Volkswagen</td>\n",
       "      <td>Vento</td>\n",
       "      <td>84,000 km</td>\n",
       "      <td>2017</td>\n",
       "      <td>Diesel</td>\n",
       "      <td>Automatic</td>\n",
       "      <td>1.5 TDI Comfortline AT</td>\n",
       "      <td>1st</td>\n",
       "      <td>Pune</td>\n",
       "    </tr>\n",
       "    <tr>\n",
       "      <th>1</th>\n",
       "      <td>₹ 6,50,000</td>\n",
       "      <td>Volkswagen</td>\n",
       "      <td>CrossPolo</td>\n",
       "      <td>9,000 km</td>\n",
       "      <td>2018</td>\n",
       "      <td>Petrol</td>\n",
       "      <td>Manual</td>\n",
       "      <td>1.2 MPI</td>\n",
       "      <td>1st</td>\n",
       "      <td>Pune</td>\n",
       "    </tr>\n",
       "    <tr>\n",
       "      <th>2</th>\n",
       "      <td>₹ 1,60,000</td>\n",
       "      <td>Honda</td>\n",
       "      <td>City ZX</td>\n",
       "      <td>82,000 km</td>\n",
       "      <td>2007</td>\n",
       "      <td>Petrol</td>\n",
       "      <td>Manual</td>\n",
       "      <td>GXi</td>\n",
       "      <td>2nd</td>\n",
       "      <td>Pune</td>\n",
       "    </tr>\n",
       "    <tr>\n",
       "      <th>3</th>\n",
       "      <td>Na</td>\n",
       "      <td>Na</td>\n",
       "      <td>Na</td>\n",
       "      <td>Na</td>\n",
       "      <td>Na</td>\n",
       "      <td>Na</td>\n",
       "      <td>Na</td>\n",
       "      <td>Na</td>\n",
       "      <td>Na</td>\n",
       "      <td>Pune</td>\n",
       "    </tr>\n",
       "    <tr>\n",
       "      <th>4</th>\n",
       "      <td>Na</td>\n",
       "      <td>Na</td>\n",
       "      <td>Na</td>\n",
       "      <td>Na</td>\n",
       "      <td>Na</td>\n",
       "      <td>Na</td>\n",
       "      <td>Na</td>\n",
       "      <td>Na</td>\n",
       "      <td>Na</td>\n",
       "      <td>Pune</td>\n",
       "    </tr>\n",
       "    <tr>\n",
       "      <th>5</th>\n",
       "      <td>₹ 3,20,000</td>\n",
       "      <td>Maruti Suzuki</td>\n",
       "      <td>Alto K10</td>\n",
       "      <td>79,000 km</td>\n",
       "      <td>2016</td>\n",
       "      <td>Petrol</td>\n",
       "      <td>Manual</td>\n",
       "      <td>VXI</td>\n",
       "      <td>1st</td>\n",
       "      <td>Pune</td>\n",
       "    </tr>\n",
       "    <tr>\n",
       "      <th>6</th>\n",
       "      <td>₹ 5,40,000</td>\n",
       "      <td>Hyundai</td>\n",
       "      <td>Santro</td>\n",
       "      <td>15,000 km</td>\n",
       "      <td>2018</td>\n",
       "      <td>CNG &amp; Hybrids</td>\n",
       "      <td>Manual</td>\n",
       "      <td>Asta</td>\n",
       "      <td>2nd</td>\n",
       "      <td>Pune</td>\n",
       "    </tr>\n",
       "  </tbody>\n",
       "</table>\n",
       "</div>"
      ],
      "text/plain": [
       "        Price          Brand      Model Kilometers_driven  Year  \\\n",
       "0  ₹ 7,50,000     Volkswagen      Vento         84,000 km  2017   \n",
       "1  ₹ 6,50,000     Volkswagen  CrossPolo          9,000 km  2018   \n",
       "2  ₹ 1,60,000          Honda    City ZX         82,000 km  2007   \n",
       "3          Na             Na         Na                Na    Na   \n",
       "4          Na             Na         Na                Na    Na   \n",
       "5  ₹ 3,20,000  Maruti Suzuki   Alto K10         79,000 km  2016   \n",
       "6  ₹ 5,40,000        Hyundai     Santro         15,000 km  2018   \n",
       "\n",
       "            Fuel Transmission                 Variant No_owners Location  \n",
       "0         Diesel    Automatic  1.5 TDI Comfortline AT       1st     Pune  \n",
       "1         Petrol       Manual                 1.2 MPI       1st     Pune  \n",
       "2         Petrol       Manual                     GXi       2nd     Pune  \n",
       "3             Na           Na                      Na        Na     Pune  \n",
       "4             Na           Na                      Na        Na     Pune  \n",
       "5         Petrol       Manual                     VXI       1st     Pune  \n",
       "6  CNG & Hybrids       Manual                    Asta       2nd     Pune  "
      ]
     },
     "execution_count": 134,
     "metadata": {},
     "output_type": "execute_result"
    }
   ],
   "source": [
    "olx5.head(7)\n"
   ]
  },
  {
   "cell_type": "code",
   "execution_count": 136,
   "metadata": {},
   "outputs": [],
   "source": [
    "driver.close()"
   ]
  },
  {
   "cell_type": "code",
   "execution_count": 137,
   "metadata": {},
   "outputs": [],
   "source": [
    "#Delhi"
   ]
  },
  {
   "cell_type": "code",
   "execution_count": 138,
   "metadata": {},
   "outputs": [],
   "source": [
    "driver=webdriver.Firefox(\"C:\\geckodriver-v0.29.1-win64\")\n"
   ]
  },
  {
   "cell_type": "code",
   "execution_count": 139,
   "metadata": {},
   "outputs": [],
   "source": [
    "driver.get(\"https://www.olx.in/\")"
   ]
  },
  {
   "cell_type": "code",
   "execution_count": 140,
   "metadata": {},
   "outputs": [],
   "source": [
    "location=driver.find_element_by_xpath(\"//input[@class='_2xvhw']\") #finding option to enter the city name"
   ]
  },
  {
   "cell_type": "code",
   "execution_count": 141,
   "metadata": {},
   "outputs": [],
   "source": [
    "location.clear()"
   ]
  },
  {
   "cell_type": "code",
   "execution_count": 142,
   "metadata": {},
   "outputs": [],
   "source": [
    "location.send_keys(\"Delhi\") #entering city name"
   ]
  },
  {
   "cell_type": "code",
   "execution_count": 143,
   "metadata": {},
   "outputs": [],
   "source": [
    "driver.find_element_by_xpath(\"//div[@class='_2HzJo']/div[1]\").click()"
   ]
  },
  {
   "cell_type": "code",
   "execution_count": 144,
   "metadata": {},
   "outputs": [],
   "source": [
    "cars=driver.find_element_by_xpath(\"//form[@class='rui-1Azjs _20jkh']/fieldset/div/input\") \n",
    "#finding option to enter cars in search option"
   ]
  },
  {
   "cell_type": "code",
   "execution_count": 145,
   "metadata": {},
   "outputs": [],
   "source": [
    "cars.send_keys(\"Cars\")"
   ]
  },
  {
   "cell_type": "code",
   "execution_count": 146,
   "metadata": {},
   "outputs": [],
   "source": [
    "driver.find_element_by_xpath(\"//div[@class='_3b3oR']\").click() #click search option"
   ]
  },
  {
   "cell_type": "code",
   "execution_count": 147,
   "metadata": {},
   "outputs": [],
   "source": [
    "load_more=driver.find_element_by_xpath(\"//button[@class='rui-39-wj rui-3evoE rui-1JPTg']\") \n",
    "#selecting load more option to load for more cars"
   ]
  },
  {
   "cell_type": "code",
   "execution_count": 148,
   "metadata": {},
   "outputs": [],
   "source": [
    "load_more.click()"
   ]
  },
  {
   "cell_type": "code",
   "execution_count": 149,
   "metadata": {},
   "outputs": [],
   "source": [
    "urls=[] #collecting urls for each car\n",
    "for i in driver.find_elements_by_xpath(\"//ul[@class='rl3f9 _3mXOU']/li/a\"):\n",
    "    urls.append(i.get_attribute('href'))\n",
    "time.sleep(4)\n",
    "driver.find_element_by_xpath(\"//button[@class='rui-39-wj rui-3evoE rui-1JPTg']\").click()\n",
    "while True:\n",
    "    time.sleep(3)\n",
    "    for j in driver.find_elements_by_xpath(\"//ul[@class='rl3f9 _3mXOU']/li/a\"):\n",
    "        urls.append(j.get_attribute('href'))\n",
    "    try:\n",
    "        driver.find_element_by_xpath(\"//button[@class='rui-39-wj rui-3evoE rui-1JPTg'][2]\").click()\n",
    "        time.sleep(5)\n",
    "    except:\n",
    "        break"
   ]
  },
  {
   "cell_type": "code",
   "execution_count": 150,
   "metadata": {},
   "outputs": [
    {
     "data": {
      "text/plain": [
       "100"
      ]
     },
     "execution_count": 150,
     "metadata": {},
     "output_type": "execute_result"
    }
   ],
   "source": [
    "len(urls)"
   ]
  },
  {
   "cell_type": "code",
   "execution_count": 151,
   "metadata": {},
   "outputs": [],
   "source": [
    "#Scrapping data of each cars:\n",
    "Price=[]\n",
    "Brand=[]\n",
    "Model=[]\n",
    "Kilometers_driven=[]\n",
    "Year=[]\n",
    "Fuel=[]\n",
    "Transmission=[]\n",
    "Variant=[]\n",
    "No_owners=[]"
   ]
  },
  {
   "cell_type": "code",
   "execution_count": 152,
   "metadata": {},
   "outputs": [],
   "source": [
    "for i in urls[0:50]:\n",
    "    driver.get(i)\n",
    "    time.sleep(5)\n",
    "    try:\n",
    "        first=driver.find_element_by_xpath(\"//section[@class='_2wMiF']/span[1]\")\n",
    "        Price.append(first.text)\n",
    "    except NoSuchElementException:\n",
    "        Price.append(\"Na\")\n",
    "    try:\n",
    "        second=driver.find_element_by_xpath(\"//div[@class='_3JPEe']/div[1]/div/span[2]\")\n",
    "        Brand.append(second.text)\n",
    "    except NoSuchElementException:\n",
    "        Brand.append(\"Na\")\n",
    "        \n",
    "    try:\n",
    "        third=driver.find_element_by_xpath(\"//div[@class='_3JPEe']/div[2]/div/span[2]\")\n",
    "        Model.append(third.text)\n",
    "    except NoSuchElementException:\n",
    "        Model.append(\"Na\")\n",
    "        \n",
    "    try:\n",
    "        fourt=driver.find_element_by_xpath(\"//div[@class='_3JPEe']/div[3]/div/span[2]\")\n",
    "        Variant.append(fourt.text)\n",
    "    except NoSuchElementException:\n",
    "        Variant.append(\"Na\")\n",
    "        \n",
    "    try:\n",
    "        fifth=driver.find_element_by_xpath(\"//div[@class='_3JPEe']/div[4]/div/span[2]\")\n",
    "        Year.append(fifth.text)\n",
    "    except NoSuchElementException:\n",
    "        Year.append(\"Na\")\n",
    "        \n",
    "            \n",
    "    try:\n",
    "        Sixth=driver.find_element_by_xpath(\"//div[@class='_3JPEe']/div[5]/div/span[2]\")\n",
    "        Fuel.append(Sixth.text)\n",
    "    except NoSuchElementException:\n",
    "        Fuel.append(\"Na\")\n",
    "        \n",
    "    try:\n",
    "        Seventh=driver.find_element_by_xpath(\"//div[@class='_3JPEe']/div[6]/div/span[2]\")\n",
    "        Transmission.append(Seventh.text)\n",
    "    except NoSuchElementException:\n",
    "        Transmission.append(\"Na\")\n",
    "        \n",
    "    try:\n",
    "        Eighth=driver.find_element_by_xpath(\"//div[@class='_3JPEe']/div[7]/div/span[2]\")\n",
    "        Kilometers_driven.append(Eighth.text)\n",
    "    except NoSuchElementException:\n",
    "        Kilometers_driven.append(\"Na\")\n",
    "        \n",
    "    try:\n",
    "        Ninth=driver.find_element_by_xpath(\"//div[@class='_3JPEe']/div[8]/div/span[2]\")\n",
    "        No_owners.append(Ninth.text)\n",
    "    except NoSuchElementException:\n",
    "        No_owners.append(\"Na\")        \n",
    "                "
   ]
  },
  {
   "cell_type": "code",
   "execution_count": 153,
   "metadata": {},
   "outputs": [],
   "source": [
    "olx6=pd.DataFrame({})\n",
    "olx6['Price']=Price\n",
    "olx6['Brand']=Brand\n",
    "olx6['Model']=Model\n",
    "olx6['Kilometers_driven']=Kilometers_driven\n",
    "olx6['Year']=Year\n",
    "olx6['Fuel']=Fuel\n",
    "olx6['Transmission']=Transmission\n",
    "olx6['Variant']=Variant\n",
    "olx6['No_owners']=No_owners\n",
    "olx6['Location']='Delhi'"
   ]
  },
  {
   "cell_type": "code",
   "execution_count": 154,
   "metadata": {},
   "outputs": [
    {
     "data": {
      "text/html": [
       "<div>\n",
       "<style scoped>\n",
       "    .dataframe tbody tr th:only-of-type {\n",
       "        vertical-align: middle;\n",
       "    }\n",
       "\n",
       "    .dataframe tbody tr th {\n",
       "        vertical-align: top;\n",
       "    }\n",
       "\n",
       "    .dataframe thead th {\n",
       "        text-align: right;\n",
       "    }\n",
       "</style>\n",
       "<table border=\"1\" class=\"dataframe\">\n",
       "  <thead>\n",
       "    <tr style=\"text-align: right;\">\n",
       "      <th></th>\n",
       "      <th>Price</th>\n",
       "      <th>Brand</th>\n",
       "      <th>Model</th>\n",
       "      <th>Kilometers_driven</th>\n",
       "      <th>Year</th>\n",
       "      <th>Fuel</th>\n",
       "      <th>Transmission</th>\n",
       "      <th>Variant</th>\n",
       "      <th>No_owners</th>\n",
       "      <th>Location</th>\n",
       "    </tr>\n",
       "  </thead>\n",
       "  <tbody>\n",
       "    <tr>\n",
       "      <th>0</th>\n",
       "      <td>₹ 4,21,500</td>\n",
       "      <td>Honda</td>\n",
       "      <td>Amaze</td>\n",
       "      <td>60 km</td>\n",
       "      <td>2016</td>\n",
       "      <td>Petrol</td>\n",
       "      <td>Manual</td>\n",
       "      <td>S i-VTEC</td>\n",
       "      <td>1st</td>\n",
       "      <td>Delhi</td>\n",
       "    </tr>\n",
       "    <tr>\n",
       "      <th>1</th>\n",
       "      <td>₹ 3,20,000</td>\n",
       "      <td>Maruti Suzuki</td>\n",
       "      <td>Wagon R</td>\n",
       "      <td>30,482 km</td>\n",
       "      <td>2014</td>\n",
       "      <td>Petrol</td>\n",
       "      <td>Manual</td>\n",
       "      <td>VXI</td>\n",
       "      <td>Na</td>\n",
       "      <td>Delhi</td>\n",
       "    </tr>\n",
       "    <tr>\n",
       "      <th>2</th>\n",
       "      <td>₹ 3,25,000</td>\n",
       "      <td>Honda</td>\n",
       "      <td>Amaze</td>\n",
       "      <td>58,000 km</td>\n",
       "      <td>2013</td>\n",
       "      <td>Diesel</td>\n",
       "      <td>Manual</td>\n",
       "      <td>VX i DTEC</td>\n",
       "      <td>1st</td>\n",
       "      <td>Delhi</td>\n",
       "    </tr>\n",
       "    <tr>\n",
       "      <th>3</th>\n",
       "      <td>Na</td>\n",
       "      <td>Na</td>\n",
       "      <td>Na</td>\n",
       "      <td>Na</td>\n",
       "      <td>Na</td>\n",
       "      <td>Na</td>\n",
       "      <td>Na</td>\n",
       "      <td>Na</td>\n",
       "      <td>Na</td>\n",
       "      <td>Delhi</td>\n",
       "    </tr>\n",
       "    <tr>\n",
       "      <th>4</th>\n",
       "      <td>Na</td>\n",
       "      <td>Na</td>\n",
       "      <td>Na</td>\n",
       "      <td>Na</td>\n",
       "      <td>Na</td>\n",
       "      <td>Na</td>\n",
       "      <td>Na</td>\n",
       "      <td>Na</td>\n",
       "      <td>Na</td>\n",
       "      <td>Delhi</td>\n",
       "    </tr>\n",
       "    <tr>\n",
       "      <th>5</th>\n",
       "      <td>₹ 1,25,000</td>\n",
       "      <td>Hyundai</td>\n",
       "      <td>Santro Xing</td>\n",
       "      <td>72,000 km</td>\n",
       "      <td>2008</td>\n",
       "      <td>Petrol</td>\n",
       "      <td>Manual</td>\n",
       "      <td>GL</td>\n",
       "      <td>1st</td>\n",
       "      <td>Delhi</td>\n",
       "    </tr>\n",
       "    <tr>\n",
       "      <th>6</th>\n",
       "      <td>₹ 1,75,000</td>\n",
       "      <td>Ford</td>\n",
       "      <td>Figo</td>\n",
       "      <td>70,000 km</td>\n",
       "      <td>2014</td>\n",
       "      <td>Diesel</td>\n",
       "      <td>Manual</td>\n",
       "      <td>Duratorq ZXI 1.4</td>\n",
       "      <td>1st</td>\n",
       "      <td>Delhi</td>\n",
       "    </tr>\n",
       "  </tbody>\n",
       "</table>\n",
       "</div>"
      ],
      "text/plain": [
       "        Price          Brand        Model Kilometers_driven  Year    Fuel  \\\n",
       "0  ₹ 4,21,500          Honda        Amaze             60 km  2016  Petrol   \n",
       "1  ₹ 3,20,000  Maruti Suzuki      Wagon R         30,482 km  2014  Petrol   \n",
       "2  ₹ 3,25,000          Honda        Amaze         58,000 km  2013  Diesel   \n",
       "3          Na             Na           Na                Na    Na      Na   \n",
       "4          Na             Na           Na                Na    Na      Na   \n",
       "5  ₹ 1,25,000        Hyundai  Santro Xing         72,000 km  2008  Petrol   \n",
       "6  ₹ 1,75,000           Ford         Figo         70,000 km  2014  Diesel   \n",
       "\n",
       "  Transmission           Variant No_owners Location  \n",
       "0       Manual          S i-VTEC       1st    Delhi  \n",
       "1       Manual               VXI        Na    Delhi  \n",
       "2       Manual         VX i DTEC       1st    Delhi  \n",
       "3           Na                Na        Na    Delhi  \n",
       "4           Na                Na        Na    Delhi  \n",
       "5       Manual                GL       1st    Delhi  \n",
       "6       Manual  Duratorq ZXI 1.4       1st    Delhi  "
      ]
     },
     "execution_count": 154,
     "metadata": {},
     "output_type": "execute_result"
    }
   ],
   "source": [
    "olx6.head(7)"
   ]
  },
  {
   "cell_type": "code",
   "execution_count": 208,
   "metadata": {},
   "outputs": [],
   "source": [
    "driver.close()"
   ]
  },
  {
   "cell_type": "code",
   "execution_count": 209,
   "metadata": {},
   "outputs": [],
   "source": [
    "#Ahmedabad"
   ]
  },
  {
   "cell_type": "code",
   "execution_count": 210,
   "metadata": {},
   "outputs": [],
   "source": [
    "driver=webdriver.Firefox(\"C:\\geckodriver-v0.29.1-win64\")\n"
   ]
  },
  {
   "cell_type": "code",
   "execution_count": 211,
   "metadata": {},
   "outputs": [],
   "source": [
    "driver.get(\"https://www.olx.in/\")"
   ]
  },
  {
   "cell_type": "code",
   "execution_count": 212,
   "metadata": {},
   "outputs": [],
   "source": [
    "location=driver.find_element_by_xpath(\"//input[@class='_2xvhw']\") #finding option to enter the city name"
   ]
  },
  {
   "cell_type": "code",
   "execution_count": 213,
   "metadata": {},
   "outputs": [],
   "source": [
    "location.clear()"
   ]
  },
  {
   "cell_type": "code",
   "execution_count": 214,
   "metadata": {},
   "outputs": [],
   "source": [
    "location.send_keys(\"Ahmedabad\") #entering city name"
   ]
  },
  {
   "cell_type": "code",
   "execution_count": 215,
   "metadata": {},
   "outputs": [],
   "source": [
    "driver.find_element_by_xpath(\"//div[@class='_2HzJo']/div[1]\").click()"
   ]
  },
  {
   "cell_type": "code",
   "execution_count": 216,
   "metadata": {},
   "outputs": [],
   "source": [
    "cars=driver.find_element_by_xpath(\"//form[@class='rui-1Azjs _20jkh']/fieldset/div/input\") \n",
    "#finding option to enter cars in search option"
   ]
  },
  {
   "cell_type": "code",
   "execution_count": 217,
   "metadata": {},
   "outputs": [],
   "source": [
    "cars.send_keys(\"Cars\")"
   ]
  },
  {
   "cell_type": "code",
   "execution_count": 218,
   "metadata": {},
   "outputs": [],
   "source": [
    "driver.find_element_by_xpath(\"//div[@class='_3b3oR']\").click() #click search option"
   ]
  },
  {
   "cell_type": "code",
   "execution_count": 220,
   "metadata": {},
   "outputs": [],
   "source": [
    "load_more=driver.find_element_by_xpath(\"//button[@class='rui-39-wj rui-3evoE rui-1JPTg']\") \n",
    "#selecting load more option to load for more cars"
   ]
  },
  {
   "cell_type": "code",
   "execution_count": 221,
   "metadata": {},
   "outputs": [],
   "source": [
    "load_more.click()"
   ]
  },
  {
   "cell_type": "code",
   "execution_count": 222,
   "metadata": {},
   "outputs": [],
   "source": [
    "urls=[] #collecting urls for each car\n",
    "for i in driver.find_elements_by_xpath(\"//ul[@class='rl3f9 _3mXOU']/li/a\"):\n",
    "    urls.append(i.get_attribute('href'))\n",
    "time.sleep(4)\n",
    "driver.find_element_by_xpath(\"//button[@class='rui-39-wj rui-3evoE rui-1JPTg']\").click()\n",
    "while True:\n",
    "    time.sleep(3)\n",
    "    for j in driver.find_elements_by_xpath(\"//ul[@class='rl3f9 _3mXOU']/li/a\"):\n",
    "        urls.append(j.get_attribute('href'))\n",
    "    try:\n",
    "        driver.find_element_by_xpath(\"//button[@class='rui-39-wj rui-3evoE rui-1JPTg'][2]\").click()\n",
    "        time.sleep(5)\n",
    "    except:\n",
    "        break"
   ]
  },
  {
   "cell_type": "code",
   "execution_count": 223,
   "metadata": {},
   "outputs": [
    {
     "data": {
      "text/plain": [
       "100"
      ]
     },
     "execution_count": 223,
     "metadata": {},
     "output_type": "execute_result"
    }
   ],
   "source": [
    "len(urls)"
   ]
  },
  {
   "cell_type": "code",
   "execution_count": 224,
   "metadata": {},
   "outputs": [],
   "source": [
    "#Scrapping data of each cars:\n",
    "Price=[]\n",
    "Brand=[]\n",
    "Model=[]\n",
    "Kilometers_driven=[]\n",
    "Year=[]\n",
    "Fuel=[]\n",
    "Transmission=[]\n",
    "Variant=[]\n",
    "No_owners=[]"
   ]
  },
  {
   "cell_type": "code",
   "execution_count": 225,
   "metadata": {},
   "outputs": [],
   "source": [
    "for i in urls[0:50]:\n",
    "    driver.get(i)\n",
    "    time.sleep(5)\n",
    "    try:\n",
    "        first=driver.find_element_by_xpath(\"//section[@class='_2wMiF']/span[1]\")\n",
    "        Price.append(first.text)\n",
    "    except NoSuchElementException:\n",
    "        Price.append(\"Na\")\n",
    "    try:\n",
    "        second=driver.find_element_by_xpath(\"//div[@class='_3JPEe']/div[1]/div/span[2]\")\n",
    "        Brand.append(second.text)\n",
    "    except NoSuchElementException:\n",
    "        Brand.append(\"Na\")\n",
    "        \n",
    "    try:\n",
    "        third=driver.find_element_by_xpath(\"//div[@class='_3JPEe']/div[2]/div/span[2]\")\n",
    "        Model.append(third.text)\n",
    "    except NoSuchElementException:\n",
    "        Model.append(\"Na\")\n",
    "        \n",
    "    try:\n",
    "        fourt=driver.find_element_by_xpath(\"//div[@class='_3JPEe']/div[3]/div/span[2]\")\n",
    "        Variant.append(fourt.text)\n",
    "    except NoSuchElementException:\n",
    "        Variant.append(\"Na\")\n",
    "        \n",
    "    try:\n",
    "        fifth=driver.find_element_by_xpath(\"//div[@class='_3JPEe']/div[4]/div/span[2]\")\n",
    "        Year.append(fifth.text)\n",
    "    except NoSuchElementException:\n",
    "        Year.append(\"Na\")\n",
    "        \n",
    "            \n",
    "    try:\n",
    "        Sixth=driver.find_element_by_xpath(\"//div[@class='_3JPEe']/div[5]/div/span[2]\")\n",
    "        Fuel.append(Sixth.text)\n",
    "    except NoSuchElementException:\n",
    "        Fuel.append(\"Na\")\n",
    "        \n",
    "    try:\n",
    "        Seventh=driver.find_element_by_xpath(\"//div[@class='_3JPEe']/div[6]/div/span[2]\")\n",
    "        Transmission.append(Seventh.text)\n",
    "    except NoSuchElementException:\n",
    "        Transmission.append(\"Na\")\n",
    "        \n",
    "    try:\n",
    "        Eighth=driver.find_element_by_xpath(\"//div[@class='_3JPEe']/div[7]/div/span[2]\")\n",
    "        Kilometers_driven.append(Eighth.text)\n",
    "    except NoSuchElementException:\n",
    "        Kilometers_driven.append(\"Na\")\n",
    "        \n",
    "    try:\n",
    "        Ninth=driver.find_element_by_xpath(\"//div[@class='_3JPEe']/div[8]/div/span[2]\")\n",
    "        No_owners.append(Ninth.text)\n",
    "    except NoSuchElementException:\n",
    "        No_owners.append(\"Na\")        \n",
    "                "
   ]
  },
  {
   "cell_type": "code",
   "execution_count": 226,
   "metadata": {},
   "outputs": [],
   "source": [
    "olx7=pd.DataFrame({})\n",
    "olx7['Price']=Price\n",
    "olx7['Brand']=Brand\n",
    "olx7['Model']=Model\n",
    "olx7['Kilometers_driven']=Kilometers_driven\n",
    "olx7['Year']=Year\n",
    "olx7['Fuel']=Fuel\n",
    "olx7['Transmission']=Transmission\n",
    "olx7['Variant']=Variant\n",
    "olx7['No_owners']=No_owners\n",
    "olx7['Location']='Ahmedabad'"
   ]
  },
  {
   "cell_type": "code",
   "execution_count": 227,
   "metadata": {},
   "outputs": [
    {
     "data": {
      "text/html": [
       "<div>\n",
       "<style scoped>\n",
       "    .dataframe tbody tr th:only-of-type {\n",
       "        vertical-align: middle;\n",
       "    }\n",
       "\n",
       "    .dataframe tbody tr th {\n",
       "        vertical-align: top;\n",
       "    }\n",
       "\n",
       "    .dataframe thead th {\n",
       "        text-align: right;\n",
       "    }\n",
       "</style>\n",
       "<table border=\"1\" class=\"dataframe\">\n",
       "  <thead>\n",
       "    <tr style=\"text-align: right;\">\n",
       "      <th></th>\n",
       "      <th>Price</th>\n",
       "      <th>Brand</th>\n",
       "      <th>Model</th>\n",
       "      <th>Kilometers_driven</th>\n",
       "      <th>Year</th>\n",
       "      <th>Fuel</th>\n",
       "      <th>Transmission</th>\n",
       "      <th>Variant</th>\n",
       "      <th>No_owners</th>\n",
       "      <th>Location</th>\n",
       "    </tr>\n",
       "  </thead>\n",
       "  <tbody>\n",
       "    <tr>\n",
       "      <th>0</th>\n",
       "      <td>₹ 4,64,000</td>\n",
       "      <td>Hyundai</td>\n",
       "      <td>Grand i10</td>\n",
       "      <td>43,173 km</td>\n",
       "      <td>2016</td>\n",
       "      <td>Petrol</td>\n",
       "      <td>Manual</td>\n",
       "      <td>Sportz 1.2 Kappa VTVT</td>\n",
       "      <td>Na</td>\n",
       "      <td>Ahmedabad</td>\n",
       "    </tr>\n",
       "    <tr>\n",
       "      <th>1</th>\n",
       "      <td>₹ 2,99,000</td>\n",
       "      <td>Volkswagen</td>\n",
       "      <td>Vento</td>\n",
       "      <td>95,000 km</td>\n",
       "      <td>2013</td>\n",
       "      <td>Diesel</td>\n",
       "      <td>Manual</td>\n",
       "      <td>1.6 Trendline</td>\n",
       "      <td>1st</td>\n",
       "      <td>Ahmedabad</td>\n",
       "    </tr>\n",
       "    <tr>\n",
       "      <th>2</th>\n",
       "      <td>₹ 3,95,000</td>\n",
       "      <td>Renault</td>\n",
       "      <td>Duster</td>\n",
       "      <td>78,000 km</td>\n",
       "      <td>2013</td>\n",
       "      <td>Diesel</td>\n",
       "      <td>Manual</td>\n",
       "      <td>2012-2015 85PS Diesel RxE</td>\n",
       "      <td>1st</td>\n",
       "      <td>Ahmedabad</td>\n",
       "    </tr>\n",
       "    <tr>\n",
       "      <th>3</th>\n",
       "      <td>Na</td>\n",
       "      <td>Na</td>\n",
       "      <td>Na</td>\n",
       "      <td>Na</td>\n",
       "      <td>Na</td>\n",
       "      <td>Na</td>\n",
       "      <td>Na</td>\n",
       "      <td>Na</td>\n",
       "      <td>Na</td>\n",
       "      <td>Ahmedabad</td>\n",
       "    </tr>\n",
       "    <tr>\n",
       "      <th>4</th>\n",
       "      <td>Na</td>\n",
       "      <td>Na</td>\n",
       "      <td>Na</td>\n",
       "      <td>Na</td>\n",
       "      <td>Na</td>\n",
       "      <td>Na</td>\n",
       "      <td>Na</td>\n",
       "      <td>Na</td>\n",
       "      <td>Na</td>\n",
       "      <td>Ahmedabad</td>\n",
       "    </tr>\n",
       "    <tr>\n",
       "      <th>5</th>\n",
       "      <td>₹ 8,75,000</td>\n",
       "      <td>Honda</td>\n",
       "      <td>WR-V</td>\n",
       "      <td>40,000 km</td>\n",
       "      <td>2019</td>\n",
       "      <td>Petrol</td>\n",
       "      <td>Manual</td>\n",
       "      <td>i-VTEC VX</td>\n",
       "      <td>1st</td>\n",
       "      <td>Ahmedabad</td>\n",
       "    </tr>\n",
       "    <tr>\n",
       "      <th>6</th>\n",
       "      <td>₹ 2,80,000</td>\n",
       "      <td>Nissan</td>\n",
       "      <td>Micra</td>\n",
       "      <td>60,000 km</td>\n",
       "      <td>2013</td>\n",
       "      <td>Diesel</td>\n",
       "      <td>Manual</td>\n",
       "      <td>2012-2017 Diesel XV Premium</td>\n",
       "      <td>1st</td>\n",
       "      <td>Ahmedabad</td>\n",
       "    </tr>\n",
       "  </tbody>\n",
       "</table>\n",
       "</div>"
      ],
      "text/plain": [
       "        Price       Brand      Model Kilometers_driven  Year    Fuel  \\\n",
       "0  ₹ 4,64,000     Hyundai  Grand i10         43,173 km  2016  Petrol   \n",
       "1  ₹ 2,99,000  Volkswagen      Vento         95,000 km  2013  Diesel   \n",
       "2  ₹ 3,95,000     Renault     Duster         78,000 km  2013  Diesel   \n",
       "3          Na          Na         Na                Na    Na      Na   \n",
       "4          Na          Na         Na                Na    Na      Na   \n",
       "5  ₹ 8,75,000       Honda       WR-V         40,000 km  2019  Petrol   \n",
       "6  ₹ 2,80,000      Nissan      Micra         60,000 km  2013  Diesel   \n",
       "\n",
       "  Transmission                      Variant No_owners   Location  \n",
       "0       Manual        Sportz 1.2 Kappa VTVT        Na  Ahmedabad  \n",
       "1       Manual                1.6 Trendline       1st  Ahmedabad  \n",
       "2       Manual    2012-2015 85PS Diesel RxE       1st  Ahmedabad  \n",
       "3           Na                           Na        Na  Ahmedabad  \n",
       "4           Na                           Na        Na  Ahmedabad  \n",
       "5       Manual                    i-VTEC VX       1st  Ahmedabad  \n",
       "6       Manual  2012-2017 Diesel XV Premium       1st  Ahmedabad  "
      ]
     },
     "execution_count": 227,
     "metadata": {},
     "output_type": "execute_result"
    }
   ],
   "source": [
    "olx7.head(7)"
   ]
  },
  {
   "cell_type": "code",
   "execution_count": 228,
   "metadata": {},
   "outputs": [],
   "source": [
    "driver.close()"
   ]
  },
  {
   "cell_type": "code",
   "execution_count": 229,
   "metadata": {},
   "outputs": [],
   "source": [
    "#Pondicherry "
   ]
  },
  {
   "cell_type": "code",
   "execution_count": 230,
   "metadata": {},
   "outputs": [],
   "source": [
    "driver=webdriver.Firefox(\"C:\\geckodriver-v0.29.1-win64\")\n"
   ]
  },
  {
   "cell_type": "code",
   "execution_count": 231,
   "metadata": {},
   "outputs": [],
   "source": [
    "driver.get(\"https://www.olx.in/\")"
   ]
  },
  {
   "cell_type": "code",
   "execution_count": 232,
   "metadata": {},
   "outputs": [],
   "source": [
    "location=driver.find_element_by_xpath(\"//input[@class='_2xvhw']\") #finding option to enter the city name"
   ]
  },
  {
   "cell_type": "code",
   "execution_count": 233,
   "metadata": {},
   "outputs": [],
   "source": [
    "location.clear()"
   ]
  },
  {
   "cell_type": "code",
   "execution_count": 234,
   "metadata": {},
   "outputs": [],
   "source": [
    "location.send_keys(\"Pondicherry\") #entering city name"
   ]
  },
  {
   "cell_type": "code",
   "execution_count": 235,
   "metadata": {},
   "outputs": [],
   "source": [
    "driver.find_element_by_xpath(\"//div[@class='_2HzJo']/div[1]\").click()"
   ]
  },
  {
   "cell_type": "code",
   "execution_count": 236,
   "metadata": {},
   "outputs": [],
   "source": [
    "cars=driver.find_element_by_xpath(\"//form[@class='rui-1Azjs _20jkh']/fieldset/div/input\") \n",
    "#finding option to enter cars in search option"
   ]
  },
  {
   "cell_type": "code",
   "execution_count": 237,
   "metadata": {},
   "outputs": [],
   "source": [
    "cars.send_keys(\"Cars\")"
   ]
  },
  {
   "cell_type": "code",
   "execution_count": 238,
   "metadata": {},
   "outputs": [],
   "source": [
    "driver.find_element_by_xpath(\"//div[@class='_3b3oR']\").click() #click search option"
   ]
  },
  {
   "cell_type": "code",
   "execution_count": 240,
   "metadata": {},
   "outputs": [],
   "source": [
    "load_more=driver.find_element_by_xpath(\"//button[@class='rui-39-wj rui-3evoE rui-1JPTg']\") \n",
    "#selecting load more option to load for more cars"
   ]
  },
  {
   "cell_type": "code",
   "execution_count": 241,
   "metadata": {},
   "outputs": [],
   "source": [
    "load_more.click()"
   ]
  },
  {
   "cell_type": "code",
   "execution_count": 242,
   "metadata": {},
   "outputs": [],
   "source": [
    "urls=[] #collecting urls for each car\n",
    "for i in driver.find_elements_by_xpath(\"//ul[@class='rl3f9 _3mXOU']/li/a\"):\n",
    "    urls.append(i.get_attribute('href'))\n",
    "time.sleep(4)\n",
    "driver.find_element_by_xpath(\"//button[@class='rui-39-wj rui-3evoE rui-1JPTg']\").click()\n",
    "while True:\n",
    "    time.sleep(3)\n",
    "    for j in driver.find_elements_by_xpath(\"//ul[@class='rl3f9 _3mXOU']/li/a\"):\n",
    "        urls.append(j.get_attribute('href'))\n",
    "    try:\n",
    "        driver.find_element_by_xpath(\"//button[@class='rui-39-wj rui-3evoE rui-1JPTg'][2]\").click()\n",
    "        time.sleep(5)\n",
    "    except:\n",
    "        break"
   ]
  },
  {
   "cell_type": "code",
   "execution_count": 243,
   "metadata": {},
   "outputs": [
    {
     "data": {
      "text/plain": [
       "100"
      ]
     },
     "execution_count": 243,
     "metadata": {},
     "output_type": "execute_result"
    }
   ],
   "source": [
    "len(urls)"
   ]
  },
  {
   "cell_type": "code",
   "execution_count": 244,
   "metadata": {},
   "outputs": [],
   "source": [
    "#Scrapping data of each cars:\n",
    "Price=[]\n",
    "Brand=[]\n",
    "Model=[]\n",
    "Kilometers_driven=[]\n",
    "Year=[]\n",
    "Fuel=[]\n",
    "Transmission=[]\n",
    "Variant=[]\n",
    "No_owners=[]"
   ]
  },
  {
   "cell_type": "code",
   "execution_count": 245,
   "metadata": {},
   "outputs": [],
   "source": [
    "for i in urls[0:50]:\n",
    "    driver.get(i)\n",
    "    time.sleep(5)\n",
    "    try:\n",
    "        first=driver.find_element_by_xpath(\"//section[@class='_2wMiF']/span[1]\")\n",
    "        Price.append(first.text)\n",
    "    except NoSuchElementException:\n",
    "        Price.append(\"Na\")\n",
    "    try:\n",
    "        second=driver.find_element_by_xpath(\"//div[@class='_3JPEe']/div[1]/div/span[2]\")\n",
    "        Brand.append(second.text)\n",
    "    except NoSuchElementException:\n",
    "        Brand.append(\"Na\")\n",
    "        \n",
    "    try:\n",
    "        third=driver.find_element_by_xpath(\"//div[@class='_3JPEe']/div[2]/div/span[2]\")\n",
    "        Model.append(third.text)\n",
    "    except NoSuchElementException:\n",
    "        Model.append(\"Na\")\n",
    "        \n",
    "    try:\n",
    "        fourt=driver.find_element_by_xpath(\"//div[@class='_3JPEe']/div[3]/div/span[2]\")\n",
    "        Variant.append(fourt.text)\n",
    "    except NoSuchElementException:\n",
    "        Variant.append(\"Na\")\n",
    "        \n",
    "    try:\n",
    "        fifth=driver.find_element_by_xpath(\"//div[@class='_3JPEe']/div[4]/div/span[2]\")\n",
    "        Year.append(fifth.text)\n",
    "    except NoSuchElementException:\n",
    "        Year.append(\"Na\")\n",
    "        \n",
    "            \n",
    "    try:\n",
    "        Sixth=driver.find_element_by_xpath(\"//div[@class='_3JPEe']/div[5]/div/span[2]\")\n",
    "        Fuel.append(Sixth.text)\n",
    "    except NoSuchElementException:\n",
    "        Fuel.append(\"Na\")\n",
    "        \n",
    "    try:\n",
    "        Seventh=driver.find_element_by_xpath(\"//div[@class='_3JPEe']/div[6]/div/span[2]\")\n",
    "        Transmission.append(Seventh.text)\n",
    "    except NoSuchElementException:\n",
    "        Transmission.append(\"Na\")\n",
    "        \n",
    "    try:\n",
    "        Eighth=driver.find_element_by_xpath(\"//div[@class='_3JPEe']/div[7]/div/span[2]\")\n",
    "        Kilometers_driven.append(Eighth.text)\n",
    "    except NoSuchElementException:\n",
    "        Kilometers_driven.append(\"Na\")\n",
    "        \n",
    "    try:\n",
    "        Ninth=driver.find_element_by_xpath(\"//div[@class='_3JPEe']/div[8]/div/span[2]\")\n",
    "        No_owners.append(Ninth.text)\n",
    "    except NoSuchElementException:\n",
    "        No_owners.append(\"Na\")        \n",
    "                "
   ]
  },
  {
   "cell_type": "code",
   "execution_count": 246,
   "metadata": {},
   "outputs": [],
   "source": [
    "olx8=pd.DataFrame({})\n",
    "olx8['Price']=Price\n",
    "olx8['Brand']=Brand\n",
    "olx8['Model']=Model\n",
    "olx8['Kilometers_driven']=Kilometers_driven\n",
    "olx8['Year']=Year\n",
    "olx8['Fuel']=Fuel\n",
    "olx8['Transmission']=Transmission\n",
    "olx8['Variant']=Variant\n",
    "olx8['No_owners']=No_owners\n",
    "olx8['Location']='Pondicherry'"
   ]
  },
  {
   "cell_type": "code",
   "execution_count": 247,
   "metadata": {},
   "outputs": [
    {
     "data": {
      "text/html": [
       "<div>\n",
       "<style scoped>\n",
       "    .dataframe tbody tr th:only-of-type {\n",
       "        vertical-align: middle;\n",
       "    }\n",
       "\n",
       "    .dataframe tbody tr th {\n",
       "        vertical-align: top;\n",
       "    }\n",
       "\n",
       "    .dataframe thead th {\n",
       "        text-align: right;\n",
       "    }\n",
       "</style>\n",
       "<table border=\"1\" class=\"dataframe\">\n",
       "  <thead>\n",
       "    <tr style=\"text-align: right;\">\n",
       "      <th></th>\n",
       "      <th>Price</th>\n",
       "      <th>Brand</th>\n",
       "      <th>Model</th>\n",
       "      <th>Kilometers_driven</th>\n",
       "      <th>Year</th>\n",
       "      <th>Fuel</th>\n",
       "      <th>Transmission</th>\n",
       "      <th>Variant</th>\n",
       "      <th>No_owners</th>\n",
       "      <th>Location</th>\n",
       "    </tr>\n",
       "  </thead>\n",
       "  <tbody>\n",
       "    <tr>\n",
       "      <th>0</th>\n",
       "      <td>₹ 7,45,000</td>\n",
       "      <td>Hyundai</td>\n",
       "      <td>Venue</td>\n",
       "      <td>17,000 km</td>\n",
       "      <td>2020</td>\n",
       "      <td>Petrol</td>\n",
       "      <td>Manual</td>\n",
       "      <td>Others</td>\n",
       "      <td>1st</td>\n",
       "      <td>Pondicherry</td>\n",
       "    </tr>\n",
       "    <tr>\n",
       "      <th>1</th>\n",
       "      <td>₹ 30,000</td>\n",
       "      <td>Maruti Suzuki</td>\n",
       "      <td>Others</td>\n",
       "      <td>1st</td>\n",
       "      <td>Petrol</td>\n",
       "      <td>Manual</td>\n",
       "      <td>20,000 km</td>\n",
       "      <td>2000</td>\n",
       "      <td>Na</td>\n",
       "      <td>Pondicherry</td>\n",
       "    </tr>\n",
       "    <tr>\n",
       "      <th>2</th>\n",
       "      <td>₹ 5,25,000</td>\n",
       "      <td>Maruti Suzuki</td>\n",
       "      <td>Swift Dzire</td>\n",
       "      <td>100,000 km</td>\n",
       "      <td>2015</td>\n",
       "      <td>Diesel</td>\n",
       "      <td>Manual</td>\n",
       "      <td>VDI Optional</td>\n",
       "      <td>2nd</td>\n",
       "      <td>Pondicherry</td>\n",
       "    </tr>\n",
       "    <tr>\n",
       "      <th>3</th>\n",
       "      <td>₹ 3,15,000</td>\n",
       "      <td>Volkswagen</td>\n",
       "      <td>Polo</td>\n",
       "      <td>92,000 km</td>\n",
       "      <td>2012</td>\n",
       "      <td>Diesel</td>\n",
       "      <td>Manual</td>\n",
       "      <td>2009-2013 IPL II 1.2 Diesel Highline</td>\n",
       "      <td>2nd</td>\n",
       "      <td>Pondicherry</td>\n",
       "    </tr>\n",
       "    <tr>\n",
       "      <th>4</th>\n",
       "      <td>₹ 9,99,900</td>\n",
       "      <td>Volkswagen</td>\n",
       "      <td>Polo</td>\n",
       "      <td>12 km</td>\n",
       "      <td>2021</td>\n",
       "      <td>Petrol</td>\n",
       "      <td>Automatic</td>\n",
       "      <td>GT TSI</td>\n",
       "      <td>1st</td>\n",
       "      <td>Pondicherry</td>\n",
       "    </tr>\n",
       "    <tr>\n",
       "      <th>5</th>\n",
       "      <td>₹ 6,15,000</td>\n",
       "      <td>Honda</td>\n",
       "      <td>City</td>\n",
       "      <td>120,000 km</td>\n",
       "      <td>2015</td>\n",
       "      <td>Diesel</td>\n",
       "      <td>Manual</td>\n",
       "      <td>V Manual DIESEL</td>\n",
       "      <td>1st</td>\n",
       "      <td>Pondicherry</td>\n",
       "    </tr>\n",
       "    <tr>\n",
       "      <th>6</th>\n",
       "      <td>₹ 98,000</td>\n",
       "      <td>Tata</td>\n",
       "      <td>Nano</td>\n",
       "      <td>40,000 km</td>\n",
       "      <td>2013</td>\n",
       "      <td>Petrol</td>\n",
       "      <td>Manual</td>\n",
       "      <td>2012-2015 Std BSIV</td>\n",
       "      <td>2nd</td>\n",
       "      <td>Pondicherry</td>\n",
       "    </tr>\n",
       "  </tbody>\n",
       "</table>\n",
       "</div>"
      ],
      "text/plain": [
       "        Price          Brand        Model Kilometers_driven    Year    Fuel  \\\n",
       "0  ₹ 7,45,000        Hyundai        Venue         17,000 km    2020  Petrol   \n",
       "1    ₹ 30,000  Maruti Suzuki       Others               1st  Petrol  Manual   \n",
       "2  ₹ 5,25,000  Maruti Suzuki  Swift Dzire        100,000 km    2015  Diesel   \n",
       "3  ₹ 3,15,000     Volkswagen         Polo         92,000 km    2012  Diesel   \n",
       "4  ₹ 9,99,900     Volkswagen         Polo             12 km    2021  Petrol   \n",
       "5  ₹ 6,15,000          Honda         City        120,000 km    2015  Diesel   \n",
       "6    ₹ 98,000           Tata         Nano         40,000 km    2013  Petrol   \n",
       "\n",
       "  Transmission                               Variant No_owners     Location  \n",
       "0       Manual                                Others       1st  Pondicherry  \n",
       "1    20,000 km                                  2000        Na  Pondicherry  \n",
       "2       Manual                          VDI Optional       2nd  Pondicherry  \n",
       "3       Manual  2009-2013 IPL II 1.2 Diesel Highline       2nd  Pondicherry  \n",
       "4    Automatic                                GT TSI       1st  Pondicherry  \n",
       "5       Manual                       V Manual DIESEL       1st  Pondicherry  \n",
       "6       Manual                    2012-2015 Std BSIV       2nd  Pondicherry  "
      ]
     },
     "execution_count": 247,
     "metadata": {},
     "output_type": "execute_result"
    }
   ],
   "source": [
    "olx8.head(7)"
   ]
  },
  {
   "cell_type": "code",
   "execution_count": 267,
   "metadata": {},
   "outputs": [],
   "source": [
    "driver.close()"
   ]
  },
  {
   "cell_type": "code",
   "execution_count": 269,
   "metadata": {},
   "outputs": [],
   "source": [
    "df1=pd.concat([olx1,olx2,olx3,olx4,olx5,olx6,olx7,olx8])"
   ]
  },
  {
   "cell_type": "code",
   "execution_count": 270,
   "metadata": {},
   "outputs": [
    {
     "data": {
      "text/html": [
       "<div>\n",
       "<style scoped>\n",
       "    .dataframe tbody tr th:only-of-type {\n",
       "        vertical-align: middle;\n",
       "    }\n",
       "\n",
       "    .dataframe tbody tr th {\n",
       "        vertical-align: top;\n",
       "    }\n",
       "\n",
       "    .dataframe thead th {\n",
       "        text-align: right;\n",
       "    }\n",
       "</style>\n",
       "<table border=\"1\" class=\"dataframe\">\n",
       "  <thead>\n",
       "    <tr style=\"text-align: right;\">\n",
       "      <th></th>\n",
       "      <th>Price</th>\n",
       "      <th>Brand</th>\n",
       "      <th>Model</th>\n",
       "      <th>Kilometers_driven</th>\n",
       "      <th>Year</th>\n",
       "      <th>Fuel</th>\n",
       "      <th>Transmission</th>\n",
       "      <th>Variant</th>\n",
       "      <th>No_owners</th>\n",
       "      <th>Location</th>\n",
       "    </tr>\n",
       "  </thead>\n",
       "  <tbody>\n",
       "    <tr>\n",
       "      <th>0</th>\n",
       "      <td>₹ 2,29,000</td>\n",
       "      <td>Chevrolet</td>\n",
       "      <td>Beat</td>\n",
       "      <td>69,000 km</td>\n",
       "      <td>2011</td>\n",
       "      <td>Diesel</td>\n",
       "      <td>Manual</td>\n",
       "      <td>2010-2013 Diesel LT Option</td>\n",
       "      <td>3rd</td>\n",
       "      <td>Bangalore</td>\n",
       "    </tr>\n",
       "    <tr>\n",
       "      <th>1</th>\n",
       "      <td>₹ 25,90,000</td>\n",
       "      <td>Toyota</td>\n",
       "      <td>Camry</td>\n",
       "      <td>22,000 km</td>\n",
       "      <td>2016</td>\n",
       "      <td>Petrol</td>\n",
       "      <td>Automatic</td>\n",
       "      <td>2.5 Hybrid</td>\n",
       "      <td>1st</td>\n",
       "      <td>Bangalore</td>\n",
       "    </tr>\n",
       "    <tr>\n",
       "      <th>2</th>\n",
       "      <td>₹ 1,95,000</td>\n",
       "      <td>Maruti Suzuki</td>\n",
       "      <td>Zen Estilo</td>\n",
       "      <td>69,000 km</td>\n",
       "      <td>2009</td>\n",
       "      <td>Petrol</td>\n",
       "      <td>Manual</td>\n",
       "      <td>VXI BSIII</td>\n",
       "      <td>3rd</td>\n",
       "      <td>Bangalore</td>\n",
       "    </tr>\n",
       "    <tr>\n",
       "      <th>3</th>\n",
       "      <td>Na</td>\n",
       "      <td>Na</td>\n",
       "      <td>Na</td>\n",
       "      <td>Na</td>\n",
       "      <td>Na</td>\n",
       "      <td>Na</td>\n",
       "      <td>Na</td>\n",
       "      <td>Na</td>\n",
       "      <td>Na</td>\n",
       "      <td>Bangalore</td>\n",
       "    </tr>\n",
       "    <tr>\n",
       "      <th>4</th>\n",
       "      <td>Na</td>\n",
       "      <td>Na</td>\n",
       "      <td>Na</td>\n",
       "      <td>Na</td>\n",
       "      <td>Na</td>\n",
       "      <td>Na</td>\n",
       "      <td>Na</td>\n",
       "      <td>Na</td>\n",
       "      <td>Na</td>\n",
       "      <td>Bangalore</td>\n",
       "    </tr>\n",
       "  </tbody>\n",
       "</table>\n",
       "</div>"
      ],
      "text/plain": [
       "         Price          Brand       Model Kilometers_driven  Year    Fuel  \\\n",
       "0   ₹ 2,29,000      Chevrolet        Beat         69,000 km  2011  Diesel   \n",
       "1  ₹ 25,90,000         Toyota       Camry         22,000 km  2016  Petrol   \n",
       "2   ₹ 1,95,000  Maruti Suzuki  Zen Estilo         69,000 km  2009  Petrol   \n",
       "3           Na             Na          Na                Na    Na      Na   \n",
       "4           Na             Na          Na                Na    Na      Na   \n",
       "\n",
       "  Transmission                     Variant No_owners   Location  \n",
       "0       Manual  2010-2013 Diesel LT Option       3rd  Bangalore  \n",
       "1    Automatic                  2.5 Hybrid       1st  Bangalore  \n",
       "2       Manual                   VXI BSIII       3rd  Bangalore  \n",
       "3           Na                          Na        Na  Bangalore  \n",
       "4           Na                          Na        Na  Bangalore  "
      ]
     },
     "execution_count": 270,
     "metadata": {},
     "output_type": "execute_result"
    }
   ],
   "source": [
    "df1.head()"
   ]
  },
  {
   "cell_type": "code",
   "execution_count": 271,
   "metadata": {},
   "outputs": [
    {
     "data": {
      "text/plain": [
       "(400, 10)"
      ]
     },
     "execution_count": 271,
     "metadata": {},
     "output_type": "execute_result"
    }
   ],
   "source": [
    "df1.shape"
   ]
  },
  {
   "cell_type": "code",
   "execution_count": 273,
   "metadata": {},
   "outputs": [],
   "source": [
    "df1.to_csv(\"First_scrap_data_olx.csv\")"
   ]
  },
  {
   "cell_type": "code",
   "execution_count": 2,
   "metadata": {},
   "outputs": [],
   "source": [
    "#Thiruvananthapuram"
   ]
  },
  {
   "cell_type": "code",
   "execution_count": 3,
   "metadata": {},
   "outputs": [],
   "source": [
    "driver=webdriver.Firefox(\"C:\\geckodriver-v0.29.1-win64\")"
   ]
  },
  {
   "cell_type": "code",
   "execution_count": 4,
   "metadata": {},
   "outputs": [],
   "source": [
    "driver.get(\"https://www.olx.in/\")"
   ]
  },
  {
   "cell_type": "code",
   "execution_count": 5,
   "metadata": {},
   "outputs": [],
   "source": [
    "location=driver.find_element_by_xpath(\"//input[@class='_2xvhw']\") #finding option to enter the city name"
   ]
  },
  {
   "cell_type": "code",
   "execution_count": 6,
   "metadata": {},
   "outputs": [],
   "source": [
    "location.clear()"
   ]
  },
  {
   "cell_type": "code",
   "execution_count": 7,
   "metadata": {},
   "outputs": [],
   "source": [
    "location.send_keys(\"Thiruvananthapuram\") #entering city name"
   ]
  },
  {
   "cell_type": "code",
   "execution_count": 10,
   "metadata": {},
   "outputs": [],
   "source": [
    "driver.find_element_by_xpath(\"//div[@class='_2HzJo']/div[1]\").click()"
   ]
  },
  {
   "cell_type": "code",
   "execution_count": 11,
   "metadata": {},
   "outputs": [],
   "source": [
    "cars=driver.find_element_by_xpath(\"//form[@class='rui-1Azjs _20jkh']/fieldset/div/input\") \n",
    "#finding option to enter cars in search option"
   ]
  },
  {
   "cell_type": "code",
   "execution_count": 12,
   "metadata": {},
   "outputs": [],
   "source": [
    "cars.send_keys(\"Cars\")"
   ]
  },
  {
   "cell_type": "code",
   "execution_count": 13,
   "metadata": {},
   "outputs": [],
   "source": [
    "driver.find_element_by_xpath(\"//div[@class='_3b3oR']\").click() #click search option"
   ]
  },
  {
   "cell_type": "code",
   "execution_count": 15,
   "metadata": {},
   "outputs": [],
   "source": [
    "load_more=driver.find_element_by_xpath(\"//button[@class='rui-39-wj rui-3evoE rui-1JPTg']\") \n",
    "#selecting load more option to load for more cars"
   ]
  },
  {
   "cell_type": "code",
   "execution_count": 16,
   "metadata": {},
   "outputs": [],
   "source": [
    "load_more.click()"
   ]
  },
  {
   "cell_type": "code",
   "execution_count": 17,
   "metadata": {},
   "outputs": [],
   "source": [
    "urls=[] #collecting urls for each car\n",
    "for i in driver.find_elements_by_xpath(\"//ul[@class='rl3f9 _3mXOU']/li/a\"):\n",
    "    urls.append(i.get_attribute('href'))\n",
    "time.sleep(4)\n",
    "driver.find_element_by_xpath(\"//button[@class='rui-39-wj rui-3evoE rui-1JPTg']\").click()\n",
    "while True:\n",
    "    time.sleep(3)\n",
    "    for j in driver.find_elements_by_xpath(\"//ul[@class='rl3f9 _3mXOU']/li/a\"):\n",
    "        urls.append(j.get_attribute('href'))\n",
    "    try:\n",
    "        driver.find_element_by_xpath(\"//button[@class='rui-39-wj rui-3evoE rui-1JPTg'][2]\").click()\n",
    "        time.sleep(5)\n",
    "    except:\n",
    "        break"
   ]
  },
  {
   "cell_type": "code",
   "execution_count": 18,
   "metadata": {},
   "outputs": [
    {
     "data": {
      "text/plain": [
       "100"
      ]
     },
     "execution_count": 18,
     "metadata": {},
     "output_type": "execute_result"
    }
   ],
   "source": [
    "len(urls)"
   ]
  },
  {
   "cell_type": "code",
   "execution_count": 19,
   "metadata": {},
   "outputs": [],
   "source": [
    "#Scrapping data of each cars:\n",
    "Price=[]\n",
    "Brand=[]\n",
    "Model=[]\n",
    "Kilometers_driven=[]\n",
    "Year=[]\n",
    "Fuel=[]\n",
    "Transmission=[]\n",
    "Variant=[]\n",
    "No_owners=[]"
   ]
  },
  {
   "cell_type": "code",
   "execution_count": 20,
   "metadata": {},
   "outputs": [],
   "source": [
    "for i in urls[0:50]:\n",
    "    driver.get(i)\n",
    "    time.sleep(5)\n",
    "    try:\n",
    "        first=driver.find_element_by_xpath(\"//section[@class='_2wMiF']/span[1]\")\n",
    "        Price.append(first.text)\n",
    "    except NoSuchElementException:\n",
    "        Price.append(\"Na\")\n",
    "    try:\n",
    "        second=driver.find_element_by_xpath(\"//div[@class='_3JPEe']/div[1]/div/span[2]\")\n",
    "        Brand.append(second.text)\n",
    "    except NoSuchElementException:\n",
    "        Brand.append(\"Na\")\n",
    "        \n",
    "    try:\n",
    "        third=driver.find_element_by_xpath(\"//div[@class='_3JPEe']/div[2]/div/span[2]\")\n",
    "        Model.append(third.text)\n",
    "    except NoSuchElementException:\n",
    "        Model.append(\"Na\")\n",
    "        \n",
    "    try:\n",
    "        fourt=driver.find_element_by_xpath(\"//div[@class='_3JPEe']/div[3]/div/span[2]\")\n",
    "        Variant.append(fourt.text)\n",
    "    except NoSuchElementException:\n",
    "        Variant.append(\"Na\")\n",
    "        \n",
    "    try:\n",
    "        fifth=driver.find_element_by_xpath(\"//div[@class='_3JPEe']/div[4]/div/span[2]\")\n",
    "        Year.append(fifth.text)\n",
    "    except NoSuchElementException:\n",
    "        Year.append(\"Na\")\n",
    "        \n",
    "            \n",
    "    try:\n",
    "        Sixth=driver.find_element_by_xpath(\"//div[@class='_3JPEe']/div[5]/div/span[2]\")\n",
    "        Fuel.append(Sixth.text)\n",
    "    except NoSuchElementException:\n",
    "        Fuel.append(\"Na\")\n",
    "        \n",
    "    try:\n",
    "        Seventh=driver.find_element_by_xpath(\"//div[@class='_3JPEe']/div[6]/div/span[2]\")\n",
    "        Transmission.append(Seventh.text)\n",
    "    except NoSuchElementException:\n",
    "        Transmission.append(\"Na\")\n",
    "        \n",
    "    try:\n",
    "        Eighth=driver.find_element_by_xpath(\"//div[@class='_3JPEe']/div[7]/div/span[2]\")\n",
    "        Kilometers_driven.append(Eighth.text)\n",
    "    except NoSuchElementException:\n",
    "        Kilometers_driven.append(\"Na\")\n",
    "        \n",
    "    try:\n",
    "        Ninth=driver.find_element_by_xpath(\"//div[@class='_3JPEe']/div[8]/div/span[2]\")\n",
    "        No_owners.append(Ninth.text)\n",
    "    except NoSuchElementException:\n",
    "        No_owners.append(\"Na\")        \n",
    "                "
   ]
  },
  {
   "cell_type": "code",
   "execution_count": 21,
   "metadata": {},
   "outputs": [],
   "source": [
    "olx9=pd.DataFrame({})\n",
    "olx9['Price']=Price\n",
    "olx9['Brand']=Brand\n",
    "olx9['Model']=Model\n",
    "olx9['Kilometers_driven']=Kilometers_driven\n",
    "olx9['Year']=Year\n",
    "olx9['Fuel']=Fuel\n",
    "olx9['Transmission']=Transmission\n",
    "olx9['Variant']=Variant\n",
    "olx9['No_owners']=No_owners\n",
    "olx9['Location']='Thiruvananthapuram'"
   ]
  },
  {
   "cell_type": "code",
   "execution_count": 22,
   "metadata": {},
   "outputs": [
    {
     "data": {
      "text/html": [
       "<div>\n",
       "<style scoped>\n",
       "    .dataframe tbody tr th:only-of-type {\n",
       "        vertical-align: middle;\n",
       "    }\n",
       "\n",
       "    .dataframe tbody tr th {\n",
       "        vertical-align: top;\n",
       "    }\n",
       "\n",
       "    .dataframe thead th {\n",
       "        text-align: right;\n",
       "    }\n",
       "</style>\n",
       "<table border=\"1\" class=\"dataframe\">\n",
       "  <thead>\n",
       "    <tr style=\"text-align: right;\">\n",
       "      <th></th>\n",
       "      <th>Price</th>\n",
       "      <th>Brand</th>\n",
       "      <th>Model</th>\n",
       "      <th>Kilometers_driven</th>\n",
       "      <th>Year</th>\n",
       "      <th>Fuel</th>\n",
       "      <th>Transmission</th>\n",
       "      <th>Variant</th>\n",
       "      <th>No_owners</th>\n",
       "      <th>Location</th>\n",
       "    </tr>\n",
       "  </thead>\n",
       "  <tbody>\n",
       "    <tr>\n",
       "      <th>0</th>\n",
       "      <td>₹ 3,35,000</td>\n",
       "      <td>Maruti Suzuki</td>\n",
       "      <td>Alto 800</td>\n",
       "      <td>16,852 km</td>\n",
       "      <td>2017</td>\n",
       "      <td>Petrol</td>\n",
       "      <td>Manual</td>\n",
       "      <td>VXI</td>\n",
       "      <td>1st</td>\n",
       "      <td>Thiruvananthapuram</td>\n",
       "    </tr>\n",
       "    <tr>\n",
       "      <th>1</th>\n",
       "      <td>₹ 70,000</td>\n",
       "      <td>Maruti Suzuki</td>\n",
       "      <td>Zen</td>\n",
       "      <td>124,000 km</td>\n",
       "      <td>2002</td>\n",
       "      <td>Petrol</td>\n",
       "      <td>Manual</td>\n",
       "      <td>VXI</td>\n",
       "      <td>3rd</td>\n",
       "      <td>Thiruvananthapuram</td>\n",
       "    </tr>\n",
       "    <tr>\n",
       "      <th>2</th>\n",
       "      <td>₹ 4,00,000</td>\n",
       "      <td>Tata</td>\n",
       "      <td>Tiago</td>\n",
       "      <td>48,900 km</td>\n",
       "      <td>2018</td>\n",
       "      <td>Petrol</td>\n",
       "      <td>Manual</td>\n",
       "      <td>XE</td>\n",
       "      <td>1st</td>\n",
       "      <td>Thiruvananthapuram</td>\n",
       "    </tr>\n",
       "    <tr>\n",
       "      <th>3</th>\n",
       "      <td>₹ 1,15,00,000</td>\n",
       "      <td>Houses &amp; Villas</td>\n",
       "      <td>4</td>\n",
       "      <td>2250</td>\n",
       "      <td>Semi-Furnished</td>\n",
       "      <td>Ready to Move</td>\n",
       "      <td>Builder</td>\n",
       "      <td>4</td>\n",
       "      <td>2150</td>\n",
       "      <td>Thiruvananthapuram</td>\n",
       "    </tr>\n",
       "    <tr>\n",
       "      <th>4</th>\n",
       "      <td>₹ 80,00,000</td>\n",
       "      <td>Houses &amp; Villas</td>\n",
       "      <td>3</td>\n",
       "      <td>2200</td>\n",
       "      <td>Semi-Furnished</td>\n",
       "      <td>Ready to Move</td>\n",
       "      <td>Builder</td>\n",
       "      <td>3</td>\n",
       "      <td>2000</td>\n",
       "      <td>Thiruvananthapuram</td>\n",
       "    </tr>\n",
       "    <tr>\n",
       "      <th>5</th>\n",
       "      <td>₹ 5,00,000</td>\n",
       "      <td>Hyundai</td>\n",
       "      <td>Grand I 10</td>\n",
       "      <td>60,000 km</td>\n",
       "      <td>2017</td>\n",
       "      <td>Diesel</td>\n",
       "      <td>Manual</td>\n",
       "      <td>Others</td>\n",
       "      <td>1st</td>\n",
       "      <td>Thiruvananthapuram</td>\n",
       "    </tr>\n",
       "    <tr>\n",
       "      <th>6</th>\n",
       "      <td>₹ 16,30,000</td>\n",
       "      <td>Volvo</td>\n",
       "      <td>V40</td>\n",
       "      <td>41,500 km</td>\n",
       "      <td>2015</td>\n",
       "      <td>Diesel</td>\n",
       "      <td>Automatic</td>\n",
       "      <td>D3 R Design</td>\n",
       "      <td>1st</td>\n",
       "      <td>Thiruvananthapuram</td>\n",
       "    </tr>\n",
       "  </tbody>\n",
       "</table>\n",
       "</div>"
      ],
      "text/plain": [
       "           Price            Brand       Model Kilometers_driven  \\\n",
       "0     ₹ 3,35,000    Maruti Suzuki    Alto 800         16,852 km   \n",
       "1       ₹ 70,000    Maruti Suzuki         Zen        124,000 km   \n",
       "2     ₹ 4,00,000             Tata       Tiago         48,900 km   \n",
       "3  ₹ 1,15,00,000  Houses & Villas           4              2250   \n",
       "4    ₹ 80,00,000  Houses & Villas           3              2200   \n",
       "5     ₹ 5,00,000          Hyundai  Grand I 10         60,000 km   \n",
       "6    ₹ 16,30,000            Volvo         V40         41,500 km   \n",
       "\n",
       "             Year           Fuel Transmission      Variant No_owners  \\\n",
       "0            2017         Petrol       Manual          VXI       1st   \n",
       "1            2002         Petrol       Manual          VXI       3rd   \n",
       "2            2018         Petrol       Manual           XE       1st   \n",
       "3  Semi-Furnished  Ready to Move      Builder            4      2150   \n",
       "4  Semi-Furnished  Ready to Move      Builder            3      2000   \n",
       "5            2017         Diesel       Manual       Others       1st   \n",
       "6            2015         Diesel    Automatic  D3 R Design       1st   \n",
       "\n",
       "             Location  \n",
       "0  Thiruvananthapuram  \n",
       "1  Thiruvananthapuram  \n",
       "2  Thiruvananthapuram  \n",
       "3  Thiruvananthapuram  \n",
       "4  Thiruvananthapuram  \n",
       "5  Thiruvananthapuram  \n",
       "6  Thiruvananthapuram  "
      ]
     },
     "execution_count": 22,
     "metadata": {},
     "output_type": "execute_result"
    }
   ],
   "source": [
    "olx9.head(7)"
   ]
  },
  {
   "cell_type": "code",
   "execution_count": 23,
   "metadata": {},
   "outputs": [],
   "source": [
    "driver.close()"
   ]
  },
  {
   "cell_type": "code",
   "execution_count": 24,
   "metadata": {},
   "outputs": [],
   "source": [
    "#Noida"
   ]
  },
  {
   "cell_type": "code",
   "execution_count": 25,
   "metadata": {},
   "outputs": [],
   "source": [
    "driver=webdriver.Firefox(\"C:\\geckodriver-v0.29.1-win64\")"
   ]
  },
  {
   "cell_type": "code",
   "execution_count": 26,
   "metadata": {},
   "outputs": [],
   "source": [
    "driver.get(\"https://www.olx.in/\")"
   ]
  },
  {
   "cell_type": "code",
   "execution_count": 27,
   "metadata": {},
   "outputs": [],
   "source": [
    "location=driver.find_element_by_xpath(\"//input[@class='_2xvhw']\") #finding option to enter the city name"
   ]
  },
  {
   "cell_type": "code",
   "execution_count": 28,
   "metadata": {},
   "outputs": [],
   "source": [
    "location.clear()"
   ]
  },
  {
   "cell_type": "code",
   "execution_count": 29,
   "metadata": {},
   "outputs": [],
   "source": [
    "location.send_keys(\"Noida\") #entering city name"
   ]
  },
  {
   "cell_type": "code",
   "execution_count": 30,
   "metadata": {},
   "outputs": [],
   "source": [
    "driver.find_element_by_xpath(\"//div[@class='_2HzJo']/div[1]\").click()"
   ]
  },
  {
   "cell_type": "code",
   "execution_count": 31,
   "metadata": {},
   "outputs": [],
   "source": [
    "cars=driver.find_element_by_xpath(\"//form[@class='rui-1Azjs _20jkh']/fieldset/div/input\") \n",
    "#finding option to enter cars in search option"
   ]
  },
  {
   "cell_type": "code",
   "execution_count": 32,
   "metadata": {},
   "outputs": [],
   "source": [
    "cars.send_keys(\"Cars\")"
   ]
  },
  {
   "cell_type": "code",
   "execution_count": 33,
   "metadata": {},
   "outputs": [],
   "source": [
    "driver.find_element_by_xpath(\"//div[@class='_3b3oR']\").click() #click search option"
   ]
  },
  {
   "cell_type": "code",
   "execution_count": 34,
   "metadata": {},
   "outputs": [],
   "source": [
    "load_more=driver.find_element_by_xpath(\"//button[@class='rui-39-wj rui-3evoE rui-1JPTg']\") \n",
    "#selecting load more option to load for more cars"
   ]
  },
  {
   "cell_type": "code",
   "execution_count": 35,
   "metadata": {},
   "outputs": [],
   "source": [
    "load_more.click()"
   ]
  },
  {
   "cell_type": "code",
   "execution_count": 36,
   "metadata": {},
   "outputs": [],
   "source": [
    "urls=[] #collecting urls for each car\n",
    "for i in driver.find_elements_by_xpath(\"//ul[@class='rl3f9 _3mXOU']/li/a\"):\n",
    "    urls.append(i.get_attribute('href'))\n",
    "time.sleep(4)\n",
    "driver.find_element_by_xpath(\"//button[@class='rui-39-wj rui-3evoE rui-1JPTg']\").click()\n",
    "while True:\n",
    "    time.sleep(3)\n",
    "    for j in driver.find_elements_by_xpath(\"//ul[@class='rl3f9 _3mXOU']/li/a\"):\n",
    "        urls.append(j.get_attribute('href'))\n",
    "    try:\n",
    "        driver.find_element_by_xpath(\"//button[@class='rui-39-wj rui-3evoE rui-1JPTg'][2]\").click()\n",
    "        time.sleep(5)\n",
    "    except:\n",
    "        break"
   ]
  },
  {
   "cell_type": "code",
   "execution_count": 37,
   "metadata": {},
   "outputs": [
    {
     "data": {
      "text/plain": [
       "100"
      ]
     },
     "execution_count": 37,
     "metadata": {},
     "output_type": "execute_result"
    }
   ],
   "source": [
    "len(urls)"
   ]
  },
  {
   "cell_type": "code",
   "execution_count": 38,
   "metadata": {},
   "outputs": [],
   "source": [
    "#Scrapping data of each cars:\n",
    "Price=[]\n",
    "Brand=[]\n",
    "Model=[]\n",
    "Kilometers_driven=[]\n",
    "Year=[]\n",
    "Fuel=[]\n",
    "Transmission=[]\n",
    "Variant=[]\n",
    "No_owners=[]"
   ]
  },
  {
   "cell_type": "code",
   "execution_count": 39,
   "metadata": {},
   "outputs": [],
   "source": [
    "for i in urls[0:50]:\n",
    "    driver.get(i)\n",
    "    time.sleep(5)\n",
    "    try:\n",
    "        first=driver.find_element_by_xpath(\"//section[@class='_2wMiF']/span[1]\")\n",
    "        Price.append(first.text)\n",
    "    except NoSuchElementException:\n",
    "        Price.append(\"Na\")\n",
    "    try:\n",
    "        second=driver.find_element_by_xpath(\"//div[@class='_3JPEe']/div[1]/div/span[2]\")\n",
    "        Brand.append(second.text)\n",
    "    except NoSuchElementException:\n",
    "        Brand.append(\"Na\")\n",
    "        \n",
    "    try:\n",
    "        third=driver.find_element_by_xpath(\"//div[@class='_3JPEe']/div[2]/div/span[2]\")\n",
    "        Model.append(third.text)\n",
    "    except NoSuchElementException:\n",
    "        Model.append(\"Na\")\n",
    "        \n",
    "    try:\n",
    "        fourt=driver.find_element_by_xpath(\"//div[@class='_3JPEe']/div[3]/div/span[2]\")\n",
    "        Variant.append(fourt.text)\n",
    "    except NoSuchElementException:\n",
    "        Variant.append(\"Na\")\n",
    "        \n",
    "    try:\n",
    "        fifth=driver.find_element_by_xpath(\"//div[@class='_3JPEe']/div[4]/div/span[2]\")\n",
    "        Year.append(fifth.text)\n",
    "    except NoSuchElementException:\n",
    "        Year.append(\"Na\")\n",
    "        \n",
    "            \n",
    "    try:\n",
    "        Sixth=driver.find_element_by_xpath(\"//div[@class='_3JPEe']/div[5]/div/span[2]\")\n",
    "        Fuel.append(Sixth.text)\n",
    "    except NoSuchElementException:\n",
    "        Fuel.append(\"Na\")\n",
    "        \n",
    "    try:\n",
    "        Seventh=driver.find_element_by_xpath(\"//div[@class='_3JPEe']/div[6]/div/span[2]\")\n",
    "        Transmission.append(Seventh.text)\n",
    "    except NoSuchElementException:\n",
    "        Transmission.append(\"Na\")\n",
    "        \n",
    "    try:\n",
    "        Eighth=driver.find_element_by_xpath(\"//div[@class='_3JPEe']/div[7]/div/span[2]\")\n",
    "        Kilometers_driven.append(Eighth.text)\n",
    "    except NoSuchElementException:\n",
    "        Kilometers_driven.append(\"Na\")\n",
    "        \n",
    "    try:\n",
    "        Ninth=driver.find_element_by_xpath(\"//div[@class='_3JPEe']/div[8]/div/span[2]\")\n",
    "        No_owners.append(Ninth.text)\n",
    "    except NoSuchElementException:\n",
    "        No_owners.append(\"Na\")        \n",
    "                "
   ]
  },
  {
   "cell_type": "code",
   "execution_count": 40,
   "metadata": {},
   "outputs": [],
   "source": [
    "olx10=pd.DataFrame({})\n",
    "olx10['Price']=Price\n",
    "olx10['Brand']=Brand\n",
    "olx10['Model']=Model\n",
    "olx10['Kilometers_driven']=Kilometers_driven\n",
    "olx10['Year']=Year\n",
    "olx10['Fuel']=Fuel\n",
    "olx10['Transmission']=Transmission\n",
    "olx10['Variant']=Variant\n",
    "olx10['No_owners']=No_owners\n",
    "olx10['Location']='Noida'"
   ]
  },
  {
   "cell_type": "code",
   "execution_count": 41,
   "metadata": {},
   "outputs": [
    {
     "data": {
      "text/html": [
       "<div>\n",
       "<style scoped>\n",
       "    .dataframe tbody tr th:only-of-type {\n",
       "        vertical-align: middle;\n",
       "    }\n",
       "\n",
       "    .dataframe tbody tr th {\n",
       "        vertical-align: top;\n",
       "    }\n",
       "\n",
       "    .dataframe thead th {\n",
       "        text-align: right;\n",
       "    }\n",
       "</style>\n",
       "<table border=\"1\" class=\"dataframe\">\n",
       "  <thead>\n",
       "    <tr style=\"text-align: right;\">\n",
       "      <th></th>\n",
       "      <th>Price</th>\n",
       "      <th>Brand</th>\n",
       "      <th>Model</th>\n",
       "      <th>Kilometers_driven</th>\n",
       "      <th>Year</th>\n",
       "      <th>Fuel</th>\n",
       "      <th>Transmission</th>\n",
       "      <th>Variant</th>\n",
       "      <th>No_owners</th>\n",
       "      <th>Location</th>\n",
       "    </tr>\n",
       "  </thead>\n",
       "  <tbody>\n",
       "    <tr>\n",
       "      <th>0</th>\n",
       "      <td>₹ 3,29,600</td>\n",
       "      <td>Maruti Suzuki</td>\n",
       "      <td>Alto K10</td>\n",
       "      <td>21,949 km</td>\n",
       "      <td>2018</td>\n",
       "      <td>Petrol</td>\n",
       "      <td>Manual</td>\n",
       "      <td>VXI</td>\n",
       "      <td>1st</td>\n",
       "      <td>Noida</td>\n",
       "    </tr>\n",
       "    <tr>\n",
       "      <th>1</th>\n",
       "      <td>₹ 5,99,000</td>\n",
       "      <td>Maruti Suzuki</td>\n",
       "      <td>Vitara Brezza</td>\n",
       "      <td>Na</td>\n",
       "      <td>Diesel</td>\n",
       "      <td>Manual</td>\n",
       "      <td>90,344 km</td>\n",
       "      <td>2016</td>\n",
       "      <td>Na</td>\n",
       "      <td>Noida</td>\n",
       "    </tr>\n",
       "    <tr>\n",
       "      <th>2</th>\n",
       "      <td>₹ 4,48,000</td>\n",
       "      <td>Maruti Suzuki</td>\n",
       "      <td>Celerio X</td>\n",
       "      <td>Na</td>\n",
       "      <td>Petrol</td>\n",
       "      <td>Automatic</td>\n",
       "      <td>18,740 km</td>\n",
       "      <td>2017</td>\n",
       "      <td>Na</td>\n",
       "      <td>Noida</td>\n",
       "    </tr>\n",
       "    <tr>\n",
       "      <th>3</th>\n",
       "      <td>Na</td>\n",
       "      <td>Na</td>\n",
       "      <td>Na</td>\n",
       "      <td>Na</td>\n",
       "      <td>Na</td>\n",
       "      <td>Na</td>\n",
       "      <td>Na</td>\n",
       "      <td>Na</td>\n",
       "      <td>Na</td>\n",
       "      <td>Noida</td>\n",
       "    </tr>\n",
       "    <tr>\n",
       "      <th>4</th>\n",
       "      <td>Na</td>\n",
       "      <td>Na</td>\n",
       "      <td>Na</td>\n",
       "      <td>Na</td>\n",
       "      <td>Na</td>\n",
       "      <td>Na</td>\n",
       "      <td>Na</td>\n",
       "      <td>Na</td>\n",
       "      <td>Na</td>\n",
       "      <td>Noida</td>\n",
       "    </tr>\n",
       "    <tr>\n",
       "      <th>5</th>\n",
       "      <td>₹ 34,00,000</td>\n",
       "      <td>BMW</td>\n",
       "      <td>X1</td>\n",
       "      <td>1st</td>\n",
       "      <td>Diesel</td>\n",
       "      <td>Automatic</td>\n",
       "      <td>27,000 km</td>\n",
       "      <td>2019</td>\n",
       "      <td>Na</td>\n",
       "      <td>Noida</td>\n",
       "    </tr>\n",
       "    <tr>\n",
       "      <th>6</th>\n",
       "      <td>₹ 35,50,000</td>\n",
       "      <td>Mercedes-Benz</td>\n",
       "      <td>Others</td>\n",
       "      <td>18,000 km</td>\n",
       "      <td>2018</td>\n",
       "      <td>Petrol</td>\n",
       "      <td>Automatic</td>\n",
       "      <td>Others</td>\n",
       "      <td>1st</td>\n",
       "      <td>Noida</td>\n",
       "    </tr>\n",
       "  </tbody>\n",
       "</table>\n",
       "</div>"
      ],
      "text/plain": [
       "         Price          Brand          Model Kilometers_driven    Year  \\\n",
       "0   ₹ 3,29,600  Maruti Suzuki       Alto K10         21,949 km    2018   \n",
       "1   ₹ 5,99,000  Maruti Suzuki  Vitara Brezza                Na  Diesel   \n",
       "2   ₹ 4,48,000  Maruti Suzuki      Celerio X                Na  Petrol   \n",
       "3           Na             Na             Na                Na      Na   \n",
       "4           Na             Na             Na                Na      Na   \n",
       "5  ₹ 34,00,000            BMW             X1               1st  Diesel   \n",
       "6  ₹ 35,50,000  Mercedes-Benz         Others         18,000 km    2018   \n",
       "\n",
       "        Fuel Transmission Variant No_owners Location  \n",
       "0     Petrol       Manual     VXI       1st    Noida  \n",
       "1     Manual    90,344 km    2016        Na    Noida  \n",
       "2  Automatic    18,740 km    2017        Na    Noida  \n",
       "3         Na           Na      Na        Na    Noida  \n",
       "4         Na           Na      Na        Na    Noida  \n",
       "5  Automatic    27,000 km    2019        Na    Noida  \n",
       "6     Petrol    Automatic  Others       1st    Noida  "
      ]
     },
     "execution_count": 41,
     "metadata": {},
     "output_type": "execute_result"
    }
   ],
   "source": [
    "olx10.head(7)"
   ]
  },
  {
   "cell_type": "code",
   "execution_count": 42,
   "metadata": {},
   "outputs": [],
   "source": [
    "driver.close()"
   ]
  },
  {
   "cell_type": "code",
   "execution_count": 43,
   "metadata": {},
   "outputs": [],
   "source": [
    "#Chandigarh"
   ]
  },
  {
   "cell_type": "code",
   "execution_count": 44,
   "metadata": {},
   "outputs": [],
   "source": [
    "driver=webdriver.Firefox(\"C:\\geckodriver-v0.29.1-win64\")"
   ]
  },
  {
   "cell_type": "code",
   "execution_count": 45,
   "metadata": {},
   "outputs": [],
   "source": [
    "driver.get(\"https://www.olx.in/\")"
   ]
  },
  {
   "cell_type": "code",
   "execution_count": 46,
   "metadata": {},
   "outputs": [],
   "source": [
    "location=driver.find_element_by_xpath(\"//input[@class='_2xvhw']\") #finding option to enter the city name"
   ]
  },
  {
   "cell_type": "code",
   "execution_count": 47,
   "metadata": {},
   "outputs": [],
   "source": [
    "location.clear()"
   ]
  },
  {
   "cell_type": "code",
   "execution_count": 48,
   "metadata": {},
   "outputs": [],
   "source": [
    "location.send_keys(\"Chandigarh\") #entering city name"
   ]
  },
  {
   "cell_type": "code",
   "execution_count": 49,
   "metadata": {},
   "outputs": [],
   "source": [
    "driver.find_element_by_xpath(\"//div[@class='_2HzJo']/div[1]\").click()"
   ]
  },
  {
   "cell_type": "code",
   "execution_count": 50,
   "metadata": {},
   "outputs": [],
   "source": [
    "cars=driver.find_element_by_xpath(\"//form[@class='rui-1Azjs _20jkh']/fieldset/div/input\") \n",
    "#finding option to enter cars in search option"
   ]
  },
  {
   "cell_type": "code",
   "execution_count": 51,
   "metadata": {},
   "outputs": [],
   "source": [
    "cars.send_keys(\"Cars\")"
   ]
  },
  {
   "cell_type": "code",
   "execution_count": 52,
   "metadata": {},
   "outputs": [],
   "source": [
    "driver.find_element_by_xpath(\"//div[@class='_3b3oR']\").click() #click search option"
   ]
  },
  {
   "cell_type": "code",
   "execution_count": 53,
   "metadata": {},
   "outputs": [],
   "source": [
    "load_more=driver.find_element_by_xpath(\"//button[@class='rui-39-wj rui-3evoE rui-1JPTg']\") \n",
    "#selecting load more option to load for more cars"
   ]
  },
  {
   "cell_type": "code",
   "execution_count": 54,
   "metadata": {},
   "outputs": [],
   "source": [
    "load_more.click()"
   ]
  },
  {
   "cell_type": "code",
   "execution_count": 55,
   "metadata": {},
   "outputs": [],
   "source": [
    "urls=[] #collecting urls for each car\n",
    "for i in driver.find_elements_by_xpath(\"//ul[@class='rl3f9 _3mXOU']/li/a\"):\n",
    "    urls.append(i.get_attribute('href'))\n",
    "time.sleep(4)\n",
    "driver.find_element_by_xpath(\"//button[@class='rui-39-wj rui-3evoE rui-1JPTg']\").click()\n",
    "while True:\n",
    "    time.sleep(3)\n",
    "    for j in driver.find_elements_by_xpath(\"//ul[@class='rl3f9 _3mXOU']/li/a\"):\n",
    "        urls.append(j.get_attribute('href'))\n",
    "    try:\n",
    "        driver.find_element_by_xpath(\"//button[@class='rui-39-wj rui-3evoE rui-1JPTg'][2]\").click()\n",
    "        time.sleep(5)\n",
    "    except:\n",
    "        break"
   ]
  },
  {
   "cell_type": "code",
   "execution_count": 56,
   "metadata": {},
   "outputs": [
    {
     "data": {
      "text/plain": [
       "100"
      ]
     },
     "execution_count": 56,
     "metadata": {},
     "output_type": "execute_result"
    }
   ],
   "source": [
    "len(urls)"
   ]
  },
  {
   "cell_type": "code",
   "execution_count": 57,
   "metadata": {},
   "outputs": [],
   "source": [
    "#Scrapping data of each cars:\n",
    "Price=[]\n",
    "Brand=[]\n",
    "Model=[]\n",
    "Kilometers_driven=[]\n",
    "Year=[]\n",
    "Fuel=[]\n",
    "Transmission=[]\n",
    "Variant=[]\n",
    "No_owners=[]"
   ]
  },
  {
   "cell_type": "code",
   "execution_count": 58,
   "metadata": {},
   "outputs": [],
   "source": [
    "for i in urls[0:50]:\n",
    "    driver.get(i)\n",
    "    time.sleep(5)\n",
    "    try:\n",
    "        first=driver.find_element_by_xpath(\"//section[@class='_2wMiF']/span[1]\")\n",
    "        Price.append(first.text)\n",
    "    except NoSuchElementException:\n",
    "        Price.append(\"Na\")\n",
    "    try:\n",
    "        second=driver.find_element_by_xpath(\"//div[@class='_3JPEe']/div[1]/div/span[2]\")\n",
    "        Brand.append(second.text)\n",
    "    except NoSuchElementException:\n",
    "        Brand.append(\"Na\")\n",
    "        \n",
    "    try:\n",
    "        third=driver.find_element_by_xpath(\"//div[@class='_3JPEe']/div[2]/div/span[2]\")\n",
    "        Model.append(third.text)\n",
    "    except NoSuchElementException:\n",
    "        Model.append(\"Na\")\n",
    "        \n",
    "    try:\n",
    "        fourt=driver.find_element_by_xpath(\"//div[@class='_3JPEe']/div[3]/div/span[2]\")\n",
    "        Variant.append(fourt.text)\n",
    "    except NoSuchElementException:\n",
    "        Variant.append(\"Na\")\n",
    "        \n",
    "    try:\n",
    "        fifth=driver.find_element_by_xpath(\"//div[@class='_3JPEe']/div[4]/div/span[2]\")\n",
    "        Year.append(fifth.text)\n",
    "    except NoSuchElementException:\n",
    "        Year.append(\"Na\")\n",
    "        \n",
    "            \n",
    "    try:\n",
    "        Sixth=driver.find_element_by_xpath(\"//div[@class='_3JPEe']/div[5]/div/span[2]\")\n",
    "        Fuel.append(Sixth.text)\n",
    "    except NoSuchElementException:\n",
    "        Fuel.append(\"Na\")\n",
    "        \n",
    "    try:\n",
    "        Seventh=driver.find_element_by_xpath(\"//div[@class='_3JPEe']/div[6]/div/span[2]\")\n",
    "        Transmission.append(Seventh.text)\n",
    "    except NoSuchElementException:\n",
    "        Transmission.append(\"Na\")\n",
    "        \n",
    "    try:\n",
    "        Eighth=driver.find_element_by_xpath(\"//div[@class='_3JPEe']/div[7]/div/span[2]\")\n",
    "        Kilometers_driven.append(Eighth.text)\n",
    "    except NoSuchElementException:\n",
    "        Kilometers_driven.append(\"Na\")\n",
    "        \n",
    "    try:\n",
    "        Ninth=driver.find_element_by_xpath(\"//div[@class='_3JPEe']/div[8]/div/span[2]\")\n",
    "        No_owners.append(Ninth.text)\n",
    "    except NoSuchElementException:\n",
    "        No_owners.append(\"Na\")        \n",
    "                "
   ]
  },
  {
   "cell_type": "code",
   "execution_count": 59,
   "metadata": {},
   "outputs": [],
   "source": [
    "olx11=pd.DataFrame({})\n",
    "olx11['Price']=Price\n",
    "olx11['Brand']=Brand\n",
    "olx11['Model']=Model\n",
    "olx11['Kilometers_driven']=Kilometers_driven\n",
    "olx11['Year']=Year\n",
    "olx11['Fuel']=Fuel\n",
    "olx11['Transmission']=Transmission\n",
    "olx11['Variant']=Variant\n",
    "olx11['No_owners']=No_owners\n",
    "olx11['Location']='Chandigarh'"
   ]
  },
  {
   "cell_type": "code",
   "execution_count": 60,
   "metadata": {},
   "outputs": [
    {
     "data": {
      "text/html": [
       "<div>\n",
       "<style scoped>\n",
       "    .dataframe tbody tr th:only-of-type {\n",
       "        vertical-align: middle;\n",
       "    }\n",
       "\n",
       "    .dataframe tbody tr th {\n",
       "        vertical-align: top;\n",
       "    }\n",
       "\n",
       "    .dataframe thead th {\n",
       "        text-align: right;\n",
       "    }\n",
       "</style>\n",
       "<table border=\"1\" class=\"dataframe\">\n",
       "  <thead>\n",
       "    <tr style=\"text-align: right;\">\n",
       "      <th></th>\n",
       "      <th>Price</th>\n",
       "      <th>Brand</th>\n",
       "      <th>Model</th>\n",
       "      <th>Kilometers_driven</th>\n",
       "      <th>Year</th>\n",
       "      <th>Fuel</th>\n",
       "      <th>Transmission</th>\n",
       "      <th>Variant</th>\n",
       "      <th>No_owners</th>\n",
       "      <th>Location</th>\n",
       "    </tr>\n",
       "  </thead>\n",
       "  <tbody>\n",
       "    <tr>\n",
       "      <th>0</th>\n",
       "      <td>₹ 12,00,000</td>\n",
       "      <td>Mercedes-Benz</td>\n",
       "      <td>E-Class</td>\n",
       "      <td>68,000 km</td>\n",
       "      <td>2009</td>\n",
       "      <td>Petrol</td>\n",
       "      <td>Automatic</td>\n",
       "      <td>E350 Petrol</td>\n",
       "      <td>1st</td>\n",
       "      <td>Chandigarh</td>\n",
       "    </tr>\n",
       "    <tr>\n",
       "      <th>1</th>\n",
       "      <td>₹ 6,80,000</td>\n",
       "      <td>Hyundai</td>\n",
       "      <td>Elite i20</td>\n",
       "      <td>67,000 km</td>\n",
       "      <td>2017</td>\n",
       "      <td>Diesel</td>\n",
       "      <td>Manual</td>\n",
       "      <td>Sportz 1.4</td>\n",
       "      <td>1st</td>\n",
       "      <td>Chandigarh</td>\n",
       "    </tr>\n",
       "    <tr>\n",
       "      <th>2</th>\n",
       "      <td>₹ 14,50,000</td>\n",
       "      <td>Audi</td>\n",
       "      <td>A6</td>\n",
       "      <td>70,000 km</td>\n",
       "      <td>2012</td>\n",
       "      <td>Diesel</td>\n",
       "      <td>Automatic</td>\n",
       "      <td>2.0 TDI Premium Plus</td>\n",
       "      <td>Na</td>\n",
       "      <td>Chandigarh</td>\n",
       "    </tr>\n",
       "    <tr>\n",
       "      <th>3</th>\n",
       "      <td>Na</td>\n",
       "      <td>Na</td>\n",
       "      <td>Na</td>\n",
       "      <td>Na</td>\n",
       "      <td>Na</td>\n",
       "      <td>Na</td>\n",
       "      <td>Na</td>\n",
       "      <td>Na</td>\n",
       "      <td>Na</td>\n",
       "      <td>Chandigarh</td>\n",
       "    </tr>\n",
       "    <tr>\n",
       "      <th>4</th>\n",
       "      <td>₹ 6,50,000</td>\n",
       "      <td>Mahindra</td>\n",
       "      <td>XUV500</td>\n",
       "      <td>85,000 km</td>\n",
       "      <td>2012</td>\n",
       "      <td>Diesel</td>\n",
       "      <td>Manual</td>\n",
       "      <td>W8 2WD</td>\n",
       "      <td>1st</td>\n",
       "      <td>Chandigarh</td>\n",
       "    </tr>\n",
       "    <tr>\n",
       "      <th>5</th>\n",
       "      <td>₹ 5,40,000</td>\n",
       "      <td>Hyundai</td>\n",
       "      <td>Elite i20</td>\n",
       "      <td>26,500 km</td>\n",
       "      <td>2014</td>\n",
       "      <td>Petrol</td>\n",
       "      <td>Manual</td>\n",
       "      <td>Magna 1.2</td>\n",
       "      <td>1st</td>\n",
       "      <td>Chandigarh</td>\n",
       "    </tr>\n",
       "    <tr>\n",
       "      <th>6</th>\n",
       "      <td>₹ 6,25,000</td>\n",
       "      <td>Maruti Suzuki</td>\n",
       "      <td>Baleno</td>\n",
       "      <td>30,000 km</td>\n",
       "      <td>2017</td>\n",
       "      <td>Petrol</td>\n",
       "      <td>Manual</td>\n",
       "      <td>1.3 Delta</td>\n",
       "      <td>1st</td>\n",
       "      <td>Chandigarh</td>\n",
       "    </tr>\n",
       "  </tbody>\n",
       "</table>\n",
       "</div>"
      ],
      "text/plain": [
       "         Price          Brand      Model Kilometers_driven  Year    Fuel  \\\n",
       "0  ₹ 12,00,000  Mercedes-Benz    E-Class         68,000 km  2009  Petrol   \n",
       "1   ₹ 6,80,000        Hyundai  Elite i20         67,000 km  2017  Diesel   \n",
       "2  ₹ 14,50,000           Audi         A6         70,000 km  2012  Diesel   \n",
       "3           Na             Na         Na                Na    Na      Na   \n",
       "4   ₹ 6,50,000       Mahindra     XUV500         85,000 km  2012  Diesel   \n",
       "5   ₹ 5,40,000        Hyundai  Elite i20         26,500 km  2014  Petrol   \n",
       "6   ₹ 6,25,000  Maruti Suzuki     Baleno         30,000 km  2017  Petrol   \n",
       "\n",
       "  Transmission               Variant No_owners    Location  \n",
       "0    Automatic           E350 Petrol       1st  Chandigarh  \n",
       "1       Manual            Sportz 1.4       1st  Chandigarh  \n",
       "2    Automatic  2.0 TDI Premium Plus        Na  Chandigarh  \n",
       "3           Na                    Na        Na  Chandigarh  \n",
       "4       Manual                W8 2WD       1st  Chandigarh  \n",
       "5       Manual             Magna 1.2       1st  Chandigarh  \n",
       "6       Manual             1.3 Delta       1st  Chandigarh  "
      ]
     },
     "execution_count": 60,
     "metadata": {},
     "output_type": "execute_result"
    }
   ],
   "source": [
    "olx11.head(7)"
   ]
  },
  {
   "cell_type": "code",
   "execution_count": 61,
   "metadata": {},
   "outputs": [],
   "source": [
    "driver.close()"
   ]
  },
  {
   "cell_type": "code",
   "execution_count": 62,
   "metadata": {},
   "outputs": [],
   "source": [
    "#Shimla"
   ]
  },
  {
   "cell_type": "code",
   "execution_count": 63,
   "metadata": {},
   "outputs": [],
   "source": [
    "driver=webdriver.Firefox(\"C:\\geckodriver-v0.29.1-win64\")"
   ]
  },
  {
   "cell_type": "code",
   "execution_count": 64,
   "metadata": {},
   "outputs": [],
   "source": [
    "driver.get(\"https://www.olx.in/\")"
   ]
  },
  {
   "cell_type": "code",
   "execution_count": 65,
   "metadata": {},
   "outputs": [],
   "source": [
    "location=driver.find_element_by_xpath(\"//input[@class='_2xvhw']\") #finding option to enter the city name"
   ]
  },
  {
   "cell_type": "code",
   "execution_count": 66,
   "metadata": {},
   "outputs": [],
   "source": [
    "location.clear()"
   ]
  },
  {
   "cell_type": "code",
   "execution_count": 67,
   "metadata": {},
   "outputs": [],
   "source": [
    "location.send_keys(\"Shimla\") #entering city name"
   ]
  },
  {
   "cell_type": "code",
   "execution_count": 68,
   "metadata": {},
   "outputs": [],
   "source": [
    "driver.find_element_by_xpath(\"//div[@class='_2HzJo']/div[1]\").click()"
   ]
  },
  {
   "cell_type": "code",
   "execution_count": 69,
   "metadata": {},
   "outputs": [],
   "source": [
    "cars=driver.find_element_by_xpath(\"//form[@class='rui-1Azjs _20jkh']/fieldset/div/input\") \n",
    "#finding option to enter cars in search option"
   ]
  },
  {
   "cell_type": "code",
   "execution_count": 70,
   "metadata": {},
   "outputs": [],
   "source": [
    "cars.send_keys(\"Cars\")"
   ]
  },
  {
   "cell_type": "code",
   "execution_count": 71,
   "metadata": {},
   "outputs": [],
   "source": [
    "driver.find_element_by_xpath(\"//div[@class='_3b3oR']\").click() #click search option"
   ]
  },
  {
   "cell_type": "code",
   "execution_count": 72,
   "metadata": {},
   "outputs": [],
   "source": [
    "load_more=driver.find_element_by_xpath(\"//button[@class='rui-39-wj rui-3evoE rui-1JPTg']\") \n",
    "#selecting load more option to load for more cars"
   ]
  },
  {
   "cell_type": "code",
   "execution_count": 73,
   "metadata": {},
   "outputs": [],
   "source": [
    "load_more.click()"
   ]
  },
  {
   "cell_type": "code",
   "execution_count": 74,
   "metadata": {},
   "outputs": [],
   "source": [
    "urls=[] #collecting urls for each car\n",
    "for i in driver.find_elements_by_xpath(\"//ul[@class='rl3f9 _3mXOU']/li/a\"):\n",
    "    urls.append(i.get_attribute('href'))\n",
    "time.sleep(4)\n",
    "driver.find_element_by_xpath(\"//button[@class='rui-39-wj rui-3evoE rui-1JPTg']\").click()\n",
    "while True:\n",
    "    time.sleep(3)\n",
    "    for j in driver.find_elements_by_xpath(\"//ul[@class='rl3f9 _3mXOU']/li/a\"):\n",
    "        urls.append(j.get_attribute('href'))\n",
    "    try:\n",
    "        driver.find_element_by_xpath(\"//button[@class='rui-39-wj rui-3evoE rui-1JPTg'][2]\").click()\n",
    "        time.sleep(5)\n",
    "    except:\n",
    "        break"
   ]
  },
  {
   "cell_type": "code",
   "execution_count": 75,
   "metadata": {},
   "outputs": [
    {
     "data": {
      "text/plain": [
       "100"
      ]
     },
     "execution_count": 75,
     "metadata": {},
     "output_type": "execute_result"
    }
   ],
   "source": [
    "len(urls)"
   ]
  },
  {
   "cell_type": "code",
   "execution_count": 76,
   "metadata": {},
   "outputs": [],
   "source": [
    "#Scrapping data of each cars:\n",
    "Price=[]\n",
    "Brand=[]\n",
    "Model=[]\n",
    "Kilometers_driven=[]\n",
    "Year=[]\n",
    "Fuel=[]\n",
    "Transmission=[]\n",
    "Variant=[]\n",
    "No_owners=[]"
   ]
  },
  {
   "cell_type": "code",
   "execution_count": 77,
   "metadata": {},
   "outputs": [],
   "source": [
    "for i in urls[0:50]:\n",
    "    driver.get(i)\n",
    "    time.sleep(5)\n",
    "    try:\n",
    "        first=driver.find_element_by_xpath(\"//section[@class='_2wMiF']/span[1]\")\n",
    "        Price.append(first.text)\n",
    "    except NoSuchElementException:\n",
    "        Price.append(\"Na\")\n",
    "    try:\n",
    "        second=driver.find_element_by_xpath(\"//div[@class='_3JPEe']/div[1]/div/span[2]\")\n",
    "        Brand.append(second.text)\n",
    "    except NoSuchElementException:\n",
    "        Brand.append(\"Na\")\n",
    "        \n",
    "    try:\n",
    "        third=driver.find_element_by_xpath(\"//div[@class='_3JPEe']/div[2]/div/span[2]\")\n",
    "        Model.append(third.text)\n",
    "    except NoSuchElementException:\n",
    "        Model.append(\"Na\")\n",
    "        \n",
    "    try:\n",
    "        fourt=driver.find_element_by_xpath(\"//div[@class='_3JPEe']/div[3]/div/span[2]\")\n",
    "        Variant.append(fourt.text)\n",
    "    except NoSuchElementException:\n",
    "        Variant.append(\"Na\")\n",
    "        \n",
    "    try:\n",
    "        fifth=driver.find_element_by_xpath(\"//div[@class='_3JPEe']/div[4]/div/span[2]\")\n",
    "        Year.append(fifth.text)\n",
    "    except NoSuchElementException:\n",
    "        Year.append(\"Na\")\n",
    "        \n",
    "            \n",
    "    try:\n",
    "        Sixth=driver.find_element_by_xpath(\"//div[@class='_3JPEe']/div[5]/div/span[2]\")\n",
    "        Fuel.append(Sixth.text)\n",
    "    except NoSuchElementException:\n",
    "        Fuel.append(\"Na\")\n",
    "        \n",
    "    try:\n",
    "        Seventh=driver.find_element_by_xpath(\"//div[@class='_3JPEe']/div[6]/div/span[2]\")\n",
    "        Transmission.append(Seventh.text)\n",
    "    except NoSuchElementException:\n",
    "        Transmission.append(\"Na\")\n",
    "        \n",
    "    try:\n",
    "        Eighth=driver.find_element_by_xpath(\"//div[@class='_3JPEe']/div[7]/div/span[2]\")\n",
    "        Kilometers_driven.append(Eighth.text)\n",
    "    except NoSuchElementException:\n",
    "        Kilometers_driven.append(\"Na\")\n",
    "        \n",
    "    try:\n",
    "        Ninth=driver.find_element_by_xpath(\"//div[@class='_3JPEe']/div[8]/div/span[2]\")\n",
    "        No_owners.append(Ninth.text)\n",
    "    except NoSuchElementException:\n",
    "        No_owners.append(\"Na\")        \n",
    "                "
   ]
  },
  {
   "cell_type": "code",
   "execution_count": 78,
   "metadata": {},
   "outputs": [],
   "source": [
    "olx12=pd.DataFrame({})\n",
    "olx12['Price']=Price\n",
    "olx12['Brand']=Brand\n",
    "olx12['Model']=Model\n",
    "olx12['Kilometers_driven']=Kilometers_driven\n",
    "olx12['Year']=Year\n",
    "olx12['Fuel']=Fuel\n",
    "olx12['Transmission']=Transmission\n",
    "olx12['Variant']=Variant\n",
    "olx12['No_owners']=No_owners\n",
    "olx12['Location']='Shimla'"
   ]
  },
  {
   "cell_type": "code",
   "execution_count": 79,
   "metadata": {},
   "outputs": [
    {
     "data": {
      "text/html": [
       "<div>\n",
       "<style scoped>\n",
       "    .dataframe tbody tr th:only-of-type {\n",
       "        vertical-align: middle;\n",
       "    }\n",
       "\n",
       "    .dataframe tbody tr th {\n",
       "        vertical-align: top;\n",
       "    }\n",
       "\n",
       "    .dataframe thead th {\n",
       "        text-align: right;\n",
       "    }\n",
       "</style>\n",
       "<table border=\"1\" class=\"dataframe\">\n",
       "  <thead>\n",
       "    <tr style=\"text-align: right;\">\n",
       "      <th></th>\n",
       "      <th>Price</th>\n",
       "      <th>Brand</th>\n",
       "      <th>Model</th>\n",
       "      <th>Kilometers_driven</th>\n",
       "      <th>Year</th>\n",
       "      <th>Fuel</th>\n",
       "      <th>Transmission</th>\n",
       "      <th>Variant</th>\n",
       "      <th>No_owners</th>\n",
       "      <th>Location</th>\n",
       "    </tr>\n",
       "  </thead>\n",
       "  <tbody>\n",
       "    <tr>\n",
       "      <th>0</th>\n",
       "      <td>₹ 3,75,000</td>\n",
       "      <td>Maruti Suzuki</td>\n",
       "      <td>Swift</td>\n",
       "      <td>97,000 km</td>\n",
       "      <td>2015</td>\n",
       "      <td>Diesel</td>\n",
       "      <td>Manual</td>\n",
       "      <td>VDI</td>\n",
       "      <td>2nd</td>\n",
       "      <td>Shimla</td>\n",
       "    </tr>\n",
       "    <tr>\n",
       "      <th>1</th>\n",
       "      <td>₹ 1,45,000</td>\n",
       "      <td>Maruti Suzuki</td>\n",
       "      <td>800</td>\n",
       "      <td>80,000 km</td>\n",
       "      <td>2010</td>\n",
       "      <td>Petrol</td>\n",
       "      <td>Manual</td>\n",
       "      <td>AC</td>\n",
       "      <td>1st</td>\n",
       "      <td>Shimla</td>\n",
       "    </tr>\n",
       "    <tr>\n",
       "      <th>2</th>\n",
       "      <td>₹ 54,00,000</td>\n",
       "      <td>Apartments</td>\n",
       "      <td>2</td>\n",
       "      <td>850</td>\n",
       "      <td>Semi-Furnished</td>\n",
       "      <td>Ready to Move</td>\n",
       "      <td>Builder</td>\n",
       "      <td>2</td>\n",
       "      <td>700</td>\n",
       "      <td>Shimla</td>\n",
       "    </tr>\n",
       "    <tr>\n",
       "      <th>3</th>\n",
       "      <td>₹ 54,00,000</td>\n",
       "      <td>Apartments</td>\n",
       "      <td>2</td>\n",
       "      <td>850</td>\n",
       "      <td>Semi-Furnished</td>\n",
       "      <td>Ready to Move</td>\n",
       "      <td>Builder</td>\n",
       "      <td>2</td>\n",
       "      <td>700</td>\n",
       "      <td>Shimla</td>\n",
       "    </tr>\n",
       "    <tr>\n",
       "      <th>4</th>\n",
       "      <td>₹ 54,00,000</td>\n",
       "      <td>Apartments</td>\n",
       "      <td>2</td>\n",
       "      <td>850</td>\n",
       "      <td>Semi-Furnished</td>\n",
       "      <td>Ready to Move</td>\n",
       "      <td>Builder</td>\n",
       "      <td>2</td>\n",
       "      <td>700</td>\n",
       "      <td>Shimla</td>\n",
       "    </tr>\n",
       "    <tr>\n",
       "      <th>5</th>\n",
       "      <td>₹ 5,20,000</td>\n",
       "      <td>Others</td>\n",
       "      <td>2021</td>\n",
       "      <td>Na</td>\n",
       "      <td>Na</td>\n",
       "      <td>Na</td>\n",
       "      <td>Na</td>\n",
       "      <td>0 km</td>\n",
       "      <td>Na</td>\n",
       "      <td>Shimla</td>\n",
       "    </tr>\n",
       "    <tr>\n",
       "      <th>6</th>\n",
       "      <td>₹ 7,92,000</td>\n",
       "      <td>Others</td>\n",
       "      <td>2006</td>\n",
       "      <td>Na</td>\n",
       "      <td>Na</td>\n",
       "      <td>Na</td>\n",
       "      <td>Na</td>\n",
       "      <td>46,688 km</td>\n",
       "      <td>Na</td>\n",
       "      <td>Shimla</td>\n",
       "    </tr>\n",
       "  </tbody>\n",
       "</table>\n",
       "</div>"
      ],
      "text/plain": [
       "         Price          Brand  Model Kilometers_driven            Year  \\\n",
       "0   ₹ 3,75,000  Maruti Suzuki  Swift         97,000 km            2015   \n",
       "1   ₹ 1,45,000  Maruti Suzuki    800         80,000 km            2010   \n",
       "2  ₹ 54,00,000     Apartments      2               850  Semi-Furnished   \n",
       "3  ₹ 54,00,000     Apartments      2               850  Semi-Furnished   \n",
       "4  ₹ 54,00,000     Apartments      2               850  Semi-Furnished   \n",
       "5   ₹ 5,20,000         Others   2021                Na              Na   \n",
       "6   ₹ 7,92,000         Others   2006                Na              Na   \n",
       "\n",
       "            Fuel Transmission    Variant No_owners Location  \n",
       "0         Diesel       Manual        VDI       2nd   Shimla  \n",
       "1         Petrol       Manual         AC       1st   Shimla  \n",
       "2  Ready to Move      Builder          2       700   Shimla  \n",
       "3  Ready to Move      Builder          2       700   Shimla  \n",
       "4  Ready to Move      Builder          2       700   Shimla  \n",
       "5             Na           Na       0 km        Na   Shimla  \n",
       "6             Na           Na  46,688 km        Na   Shimla  "
      ]
     },
     "execution_count": 79,
     "metadata": {},
     "output_type": "execute_result"
    }
   ],
   "source": [
    "olx12.head(7)"
   ]
  },
  {
   "cell_type": "code",
   "execution_count": 80,
   "metadata": {},
   "outputs": [],
   "source": [
    "driver.close()"
   ]
  },
  {
   "cell_type": "code",
   "execution_count": 81,
   "metadata": {},
   "outputs": [],
   "source": [
    "#Kolkata"
   ]
  },
  {
   "cell_type": "code",
   "execution_count": 82,
   "metadata": {},
   "outputs": [],
   "source": [
    "driver=webdriver.Firefox(\"C:\\geckodriver-v0.29.1-win64\")"
   ]
  },
  {
   "cell_type": "code",
   "execution_count": 95,
   "metadata": {},
   "outputs": [],
   "source": [
    "driver.get(\"https://www.olx.in/\")"
   ]
  },
  {
   "cell_type": "code",
   "execution_count": 96,
   "metadata": {},
   "outputs": [],
   "source": [
    "location=driver.find_element_by_xpath(\"//input[@class='_2xvhw']\") #finding option to enter the city name"
   ]
  },
  {
   "cell_type": "code",
   "execution_count": 97,
   "metadata": {},
   "outputs": [],
   "source": [
    "location.clear()"
   ]
  },
  {
   "cell_type": "code",
   "execution_count": 98,
   "metadata": {},
   "outputs": [],
   "source": [
    "location.send_keys(\"Kolkata\") #entering city name"
   ]
  },
  {
   "cell_type": "code",
   "execution_count": 99,
   "metadata": {},
   "outputs": [],
   "source": [
    "driver.find_element_by_xpath(\"//div[@class='_2HzJo']/div[1]\").click()"
   ]
  },
  {
   "cell_type": "code",
   "execution_count": 100,
   "metadata": {},
   "outputs": [],
   "source": [
    "cars=driver.find_element_by_xpath(\"//form[@class='rui-1Azjs _20jkh']/fieldset/div/input\") \n",
    "#finding option to enter cars in search option"
   ]
  },
  {
   "cell_type": "code",
   "execution_count": 101,
   "metadata": {},
   "outputs": [],
   "source": [
    "cars.send_keys(\"Cars\")"
   ]
  },
  {
   "cell_type": "code",
   "execution_count": 102,
   "metadata": {},
   "outputs": [],
   "source": [
    "driver.find_element_by_xpath(\"//div[@class='_3b3oR']\").click() #click search option"
   ]
  },
  {
   "cell_type": "code",
   "execution_count": 103,
   "metadata": {},
   "outputs": [],
   "source": [
    "load_more=driver.find_element_by_xpath(\"//button[@class='rui-39-wj rui-3evoE rui-1JPTg']\") \n",
    "#selecting load more option to load for more cars"
   ]
  },
  {
   "cell_type": "code",
   "execution_count": 104,
   "metadata": {},
   "outputs": [],
   "source": [
    "load_more.click()"
   ]
  },
  {
   "cell_type": "code",
   "execution_count": 105,
   "metadata": {},
   "outputs": [],
   "source": [
    "urls=[] #collecting urls for each car\n",
    "for i in driver.find_elements_by_xpath(\"//ul[@class='rl3f9 _3mXOU']/li/a\"):\n",
    "    urls.append(i.get_attribute('href'))\n",
    "time.sleep(4)\n",
    "driver.find_element_by_xpath(\"//button[@class='rui-39-wj rui-3evoE rui-1JPTg']\").click()\n",
    "while True:\n",
    "    time.sleep(3)\n",
    "    for j in driver.find_elements_by_xpath(\"//ul[@class='rl3f9 _3mXOU']/li/a\"):\n",
    "        urls.append(j.get_attribute('href'))\n",
    "    try:\n",
    "        driver.find_element_by_xpath(\"//button[@class='rui-39-wj rui-3evoE rui-1JPTg'][2]\").click()\n",
    "        time.sleep(5)\n",
    "    except:\n",
    "        break"
   ]
  },
  {
   "cell_type": "code",
   "execution_count": 106,
   "metadata": {},
   "outputs": [
    {
     "data": {
      "text/plain": [
       "100"
      ]
     },
     "execution_count": 106,
     "metadata": {},
     "output_type": "execute_result"
    }
   ],
   "source": [
    "len(urls)"
   ]
  },
  {
   "cell_type": "code",
   "execution_count": 107,
   "metadata": {},
   "outputs": [],
   "source": [
    "#Scrapping data of each cars:\n",
    "Price=[]\n",
    "Brand=[]\n",
    "Model=[]\n",
    "Kilometers_driven=[]\n",
    "Year=[]\n",
    "Fuel=[]\n",
    "Transmission=[]\n",
    "Variant=[]\n",
    "No_owners=[]"
   ]
  },
  {
   "cell_type": "code",
   "execution_count": 108,
   "metadata": {},
   "outputs": [],
   "source": [
    "for i in urls[0:50]:\n",
    "    driver.get(i)\n",
    "    time.sleep(5)\n",
    "    try:\n",
    "        first=driver.find_element_by_xpath(\"//section[@class='_2wMiF']/span[1]\")\n",
    "        Price.append(first.text)\n",
    "    except NoSuchElementException:\n",
    "        Price.append(\"Na\")\n",
    "    try:\n",
    "        second=driver.find_element_by_xpath(\"//div[@class='_3JPEe']/div[1]/div/span[2]\")\n",
    "        Brand.append(second.text)\n",
    "    except NoSuchElementException:\n",
    "        Brand.append(\"Na\")\n",
    "        \n",
    "    try:\n",
    "        third=driver.find_element_by_xpath(\"//div[@class='_3JPEe']/div[2]/div/span[2]\")\n",
    "        Model.append(third.text)\n",
    "    except NoSuchElementException:\n",
    "        Model.append(\"Na\")\n",
    "        \n",
    "    try:\n",
    "        fourt=driver.find_element_by_xpath(\"//div[@class='_3JPEe']/div[3]/div/span[2]\")\n",
    "        Variant.append(fourt.text)\n",
    "    except NoSuchElementException:\n",
    "        Variant.append(\"Na\")\n",
    "        \n",
    "    try:\n",
    "        fifth=driver.find_element_by_xpath(\"//div[@class='_3JPEe']/div[4]/div/span[2]\")\n",
    "        Year.append(fifth.text)\n",
    "    except NoSuchElementException:\n",
    "        Year.append(\"Na\")\n",
    "        \n",
    "            \n",
    "    try:\n",
    "        Sixth=driver.find_element_by_xpath(\"//div[@class='_3JPEe']/div[5]/div/span[2]\")\n",
    "        Fuel.append(Sixth.text)\n",
    "    except NoSuchElementException:\n",
    "        Fuel.append(\"Na\")\n",
    "        \n",
    "    try:\n",
    "        Seventh=driver.find_element_by_xpath(\"//div[@class='_3JPEe']/div[6]/div/span[2]\")\n",
    "        Transmission.append(Seventh.text)\n",
    "    except NoSuchElementException:\n",
    "        Transmission.append(\"Na\")\n",
    "        \n",
    "    try:\n",
    "        Eighth=driver.find_element_by_xpath(\"//div[@class='_3JPEe']/div[7]/div/span[2]\")\n",
    "        Kilometers_driven.append(Eighth.text)\n",
    "    except NoSuchElementException:\n",
    "        Kilometers_driven.append(\"Na\")\n",
    "        \n",
    "    try:\n",
    "        Ninth=driver.find_element_by_xpath(\"//div[@class='_3JPEe']/div[8]/div/span[2]\")\n",
    "        No_owners.append(Ninth.text)\n",
    "    except NoSuchElementException:\n",
    "        No_owners.append(\"Na\")        \n",
    "                "
   ]
  },
  {
   "cell_type": "code",
   "execution_count": 109,
   "metadata": {},
   "outputs": [],
   "source": [
    "olx13=pd.DataFrame({})\n",
    "olx13['Price']=Price\n",
    "olx13['Brand']=Brand\n",
    "olx13['Model']=Model\n",
    "olx13['Kilometers_driven']=Kilometers_driven\n",
    "olx13['Year']=Year\n",
    "olx13['Fuel']=Fuel\n",
    "olx13['Transmission']=Transmission\n",
    "olx13['Variant']=Variant\n",
    "olx13['No_owners']=No_owners\n",
    "olx13['Location']='Kolkata'"
   ]
  },
  {
   "cell_type": "code",
   "execution_count": 110,
   "metadata": {},
   "outputs": [
    {
     "data": {
      "text/html": [
       "<div>\n",
       "<style scoped>\n",
       "    .dataframe tbody tr th:only-of-type {\n",
       "        vertical-align: middle;\n",
       "    }\n",
       "\n",
       "    .dataframe tbody tr th {\n",
       "        vertical-align: top;\n",
       "    }\n",
       "\n",
       "    .dataframe thead th {\n",
       "        text-align: right;\n",
       "    }\n",
       "</style>\n",
       "<table border=\"1\" class=\"dataframe\">\n",
       "  <thead>\n",
       "    <tr style=\"text-align: right;\">\n",
       "      <th></th>\n",
       "      <th>Price</th>\n",
       "      <th>Brand</th>\n",
       "      <th>Model</th>\n",
       "      <th>Kilometers_driven</th>\n",
       "      <th>Year</th>\n",
       "      <th>Fuel</th>\n",
       "      <th>Transmission</th>\n",
       "      <th>Variant</th>\n",
       "      <th>No_owners</th>\n",
       "      <th>Location</th>\n",
       "    </tr>\n",
       "  </thead>\n",
       "  <tbody>\n",
       "    <tr>\n",
       "      <th>0</th>\n",
       "      <td>₹ 6,50,000</td>\n",
       "      <td>Volkswagen</td>\n",
       "      <td>Vento</td>\n",
       "      <td>65,000 km</td>\n",
       "      <td>2016</td>\n",
       "      <td>Diesel</td>\n",
       "      <td>Automatic</td>\n",
       "      <td>1.5 TDI Highline Plus AT</td>\n",
       "      <td>1st</td>\n",
       "      <td>Kolkata</td>\n",
       "    </tr>\n",
       "    <tr>\n",
       "      <th>1</th>\n",
       "      <td>₹ 2,89,991</td>\n",
       "      <td>Volkswagen</td>\n",
       "      <td>Polo</td>\n",
       "      <td>38,000 km</td>\n",
       "      <td>2013</td>\n",
       "      <td>Petrol</td>\n",
       "      <td>Manual</td>\n",
       "      <td>1.2 MPI Comfortline</td>\n",
       "      <td>1st</td>\n",
       "      <td>Kolkata</td>\n",
       "    </tr>\n",
       "    <tr>\n",
       "      <th>2</th>\n",
       "      <td>₹ 9,50,000</td>\n",
       "      <td>Hyundai</td>\n",
       "      <td>Elantra</td>\n",
       "      <td>18,000 km</td>\n",
       "      <td>2017</td>\n",
       "      <td>Petrol</td>\n",
       "      <td>Manual</td>\n",
       "      <td>2.0 SX</td>\n",
       "      <td>1st</td>\n",
       "      <td>Kolkata</td>\n",
       "    </tr>\n",
       "    <tr>\n",
       "      <th>3</th>\n",
       "      <td>Na</td>\n",
       "      <td>Na</td>\n",
       "      <td>Na</td>\n",
       "      <td>Na</td>\n",
       "      <td>Na</td>\n",
       "      <td>Na</td>\n",
       "      <td>Na</td>\n",
       "      <td>Na</td>\n",
       "      <td>Na</td>\n",
       "      <td>Kolkata</td>\n",
       "    </tr>\n",
       "    <tr>\n",
       "      <th>4</th>\n",
       "      <td>Na</td>\n",
       "      <td>Na</td>\n",
       "      <td>Na</td>\n",
       "      <td>Na</td>\n",
       "      <td>Na</td>\n",
       "      <td>Na</td>\n",
       "      <td>Na</td>\n",
       "      <td>Na</td>\n",
       "      <td>Na</td>\n",
       "      <td>Kolkata</td>\n",
       "    </tr>\n",
       "  </tbody>\n",
       "</table>\n",
       "</div>"
      ],
      "text/plain": [
       "        Price       Brand    Model Kilometers_driven  Year    Fuel  \\\n",
       "0  ₹ 6,50,000  Volkswagen    Vento         65,000 km  2016  Diesel   \n",
       "1  ₹ 2,89,991  Volkswagen     Polo         38,000 km  2013  Petrol   \n",
       "2  ₹ 9,50,000     Hyundai  Elantra         18,000 km  2017  Petrol   \n",
       "3          Na          Na       Na                Na    Na      Na   \n",
       "4          Na          Na       Na                Na    Na      Na   \n",
       "\n",
       "  Transmission                   Variant No_owners Location  \n",
       "0    Automatic  1.5 TDI Highline Plus AT       1st  Kolkata  \n",
       "1       Manual       1.2 MPI Comfortline       1st  Kolkata  \n",
       "2       Manual                    2.0 SX       1st  Kolkata  \n",
       "3           Na                        Na        Na  Kolkata  \n",
       "4           Na                        Na        Na  Kolkata  "
      ]
     },
     "execution_count": 110,
     "metadata": {},
     "output_type": "execute_result"
    }
   ],
   "source": [
    "olx13.head()"
   ]
  },
  {
   "cell_type": "code",
   "execution_count": 111,
   "metadata": {},
   "outputs": [],
   "source": [
    "driver.close()"
   ]
  },
  {
   "cell_type": "code",
   "execution_count": 112,
   "metadata": {},
   "outputs": [],
   "source": [
    "#Lucknow"
   ]
  },
  {
   "cell_type": "code",
   "execution_count": 113,
   "metadata": {},
   "outputs": [],
   "source": [
    "driver=webdriver.Firefox(\"C:\\geckodriver-v0.29.1-win64\")"
   ]
  },
  {
   "cell_type": "code",
   "execution_count": 114,
   "metadata": {},
   "outputs": [],
   "source": [
    "driver.get(\"https://www.olx.in/\")"
   ]
  },
  {
   "cell_type": "code",
   "execution_count": 115,
   "metadata": {},
   "outputs": [],
   "source": [
    "location=driver.find_element_by_xpath(\"//input[@class='_2xvhw']\") #finding option to enter the city name"
   ]
  },
  {
   "cell_type": "code",
   "execution_count": 116,
   "metadata": {},
   "outputs": [],
   "source": [
    "location.clear()"
   ]
  },
  {
   "cell_type": "code",
   "execution_count": 117,
   "metadata": {},
   "outputs": [],
   "source": [
    "location.send_keys(\"Lucknow\") #entering city name"
   ]
  },
  {
   "cell_type": "code",
   "execution_count": 118,
   "metadata": {},
   "outputs": [],
   "source": [
    "driver.find_element_by_xpath(\"//div[@class='_2HzJo']/div[1]\").click()"
   ]
  },
  {
   "cell_type": "code",
   "execution_count": 119,
   "metadata": {},
   "outputs": [],
   "source": [
    "cars=driver.find_element_by_xpath(\"//form[@class='rui-1Azjs _20jkh']/fieldset/div/input\") \n",
    "#finding option to enter cars in search option"
   ]
  },
  {
   "cell_type": "code",
   "execution_count": 120,
   "metadata": {},
   "outputs": [],
   "source": [
    "cars.send_keys(\"Cars\")"
   ]
  },
  {
   "cell_type": "code",
   "execution_count": 121,
   "metadata": {},
   "outputs": [],
   "source": [
    "driver.find_element_by_xpath(\"//div[@class='_3b3oR']\").click() #click search option"
   ]
  },
  {
   "cell_type": "code",
   "execution_count": 122,
   "metadata": {},
   "outputs": [],
   "source": [
    "load_more=driver.find_element_by_xpath(\"//button[@class='rui-39-wj rui-3evoE rui-1JPTg']\") \n",
    "#selecting load more option to load for more cars"
   ]
  },
  {
   "cell_type": "code",
   "execution_count": 123,
   "metadata": {},
   "outputs": [],
   "source": [
    "load_more.click()"
   ]
  },
  {
   "cell_type": "code",
   "execution_count": 124,
   "metadata": {},
   "outputs": [],
   "source": [
    "urls=[] #collecting urls for each car\n",
    "for i in driver.find_elements_by_xpath(\"//ul[@class='rl3f9 _3mXOU']/li/a\"):\n",
    "    urls.append(i.get_attribute('href'))\n",
    "time.sleep(4)\n",
    "driver.find_element_by_xpath(\"//button[@class='rui-39-wj rui-3evoE rui-1JPTg']\").click()\n",
    "while True:\n",
    "    time.sleep(3)\n",
    "    for j in driver.find_elements_by_xpath(\"//ul[@class='rl3f9 _3mXOU']/li/a\"):\n",
    "        urls.append(j.get_attribute('href'))\n",
    "    try:\n",
    "        driver.find_element_by_xpath(\"//button[@class='rui-39-wj rui-3evoE rui-1JPTg'][2]\").click()\n",
    "        time.sleep(5)\n",
    "    except:\n",
    "        break"
   ]
  },
  {
   "cell_type": "code",
   "execution_count": 125,
   "metadata": {},
   "outputs": [
    {
     "data": {
      "text/plain": [
       "100"
      ]
     },
     "execution_count": 125,
     "metadata": {},
     "output_type": "execute_result"
    }
   ],
   "source": [
    "len(urls)"
   ]
  },
  {
   "cell_type": "code",
   "execution_count": 126,
   "metadata": {},
   "outputs": [],
   "source": [
    "#Scrapping data of each cars:\n",
    "Price=[]\n",
    "Brand=[]\n",
    "Model=[]\n",
    "Kilometers_driven=[]\n",
    "Year=[]\n",
    "Fuel=[]\n",
    "Transmission=[]\n",
    "Variant=[]\n",
    "No_owners=[]"
   ]
  },
  {
   "cell_type": "code",
   "execution_count": 127,
   "metadata": {},
   "outputs": [],
   "source": [
    "for i in urls[0:50]:\n",
    "    driver.get(i)\n",
    "    time.sleep(5)\n",
    "    try:\n",
    "        first=driver.find_element_by_xpath(\"//section[@class='_2wMiF']/span[1]\")\n",
    "        Price.append(first.text)\n",
    "    except NoSuchElementException:\n",
    "        Price.append(\"Na\")\n",
    "    try:\n",
    "        second=driver.find_element_by_xpath(\"//div[@class='_3JPEe']/div[1]/div/span[2]\")\n",
    "        Brand.append(second.text)\n",
    "    except NoSuchElementException:\n",
    "        Brand.append(\"Na\")\n",
    "        \n",
    "    try:\n",
    "        third=driver.find_element_by_xpath(\"//div[@class='_3JPEe']/div[2]/div/span[2]\")\n",
    "        Model.append(third.text)\n",
    "    except NoSuchElementException:\n",
    "        Model.append(\"Na\")\n",
    "        \n",
    "    try:\n",
    "        fourt=driver.find_element_by_xpath(\"//div[@class='_3JPEe']/div[3]/div/span[2]\")\n",
    "        Variant.append(fourt.text)\n",
    "    except NoSuchElementException:\n",
    "        Variant.append(\"Na\")\n",
    "        \n",
    "    try:\n",
    "        fifth=driver.find_element_by_xpath(\"//div[@class='_3JPEe']/div[4]/div/span[2]\")\n",
    "        Year.append(fifth.text)\n",
    "    except NoSuchElementException:\n",
    "        Year.append(\"Na\")\n",
    "        \n",
    "            \n",
    "    try:\n",
    "        Sixth=driver.find_element_by_xpath(\"//div[@class='_3JPEe']/div[5]/div/span[2]\")\n",
    "        Fuel.append(Sixth.text)\n",
    "    except NoSuchElementException:\n",
    "        Fuel.append(\"Na\")\n",
    "        \n",
    "    try:\n",
    "        Seventh=driver.find_element_by_xpath(\"//div[@class='_3JPEe']/div[6]/div/span[2]\")\n",
    "        Transmission.append(Seventh.text)\n",
    "    except NoSuchElementException:\n",
    "        Transmission.append(\"Na\")\n",
    "        \n",
    "    try:\n",
    "        Eighth=driver.find_element_by_xpath(\"//div[@class='_3JPEe']/div[7]/div/span[2]\")\n",
    "        Kilometers_driven.append(Eighth.text)\n",
    "    except NoSuchElementException:\n",
    "        Kilometers_driven.append(\"Na\")\n",
    "        \n",
    "    try:\n",
    "        Ninth=driver.find_element_by_xpath(\"//div[@class='_3JPEe']/div[8]/div/span[2]\")\n",
    "        No_owners.append(Ninth.text)\n",
    "    except NoSuchElementException:\n",
    "        No_owners.append(\"Na\")        \n",
    "                "
   ]
  },
  {
   "cell_type": "code",
   "execution_count": 128,
   "metadata": {},
   "outputs": [],
   "source": [
    "olx14=pd.DataFrame({})\n",
    "olx14['Price']=Price\n",
    "olx14['Brand']=Brand\n",
    "olx14['Model']=Model\n",
    "olx14['Kilometers_driven']=Kilometers_driven\n",
    "olx14['Year']=Year\n",
    "olx14['Fuel']=Fuel\n",
    "olx14['Transmission']=Transmission\n",
    "olx14['Variant']=Variant\n",
    "olx14['No_owners']=No_owners\n",
    "olx14['Location']='Lucknow'"
   ]
  },
  {
   "cell_type": "code",
   "execution_count": 129,
   "metadata": {},
   "outputs": [
    {
     "data": {
      "text/html": [
       "<div>\n",
       "<style scoped>\n",
       "    .dataframe tbody tr th:only-of-type {\n",
       "        vertical-align: middle;\n",
       "    }\n",
       "\n",
       "    .dataframe tbody tr th {\n",
       "        vertical-align: top;\n",
       "    }\n",
       "\n",
       "    .dataframe thead th {\n",
       "        text-align: right;\n",
       "    }\n",
       "</style>\n",
       "<table border=\"1\" class=\"dataframe\">\n",
       "  <thead>\n",
       "    <tr style=\"text-align: right;\">\n",
       "      <th></th>\n",
       "      <th>Price</th>\n",
       "      <th>Brand</th>\n",
       "      <th>Model</th>\n",
       "      <th>Kilometers_driven</th>\n",
       "      <th>Year</th>\n",
       "      <th>Fuel</th>\n",
       "      <th>Transmission</th>\n",
       "      <th>Variant</th>\n",
       "      <th>No_owners</th>\n",
       "      <th>Location</th>\n",
       "    </tr>\n",
       "  </thead>\n",
       "  <tbody>\n",
       "    <tr>\n",
       "      <th>0</th>\n",
       "      <td>₹ 19,00,000</td>\n",
       "      <td>MG</td>\n",
       "      <td>Hector</td>\n",
       "      <td>4,100 km</td>\n",
       "      <td>2021</td>\n",
       "      <td>Petrol</td>\n",
       "      <td>Manual</td>\n",
       "      <td>Hybrid Sharp MT</td>\n",
       "      <td>1st</td>\n",
       "      <td>Lucknow</td>\n",
       "    </tr>\n",
       "    <tr>\n",
       "      <th>1</th>\n",
       "      <td>₹ 1,65,000</td>\n",
       "      <td>Maruti Suzuki</td>\n",
       "      <td>Zen Estilo</td>\n",
       "      <td>40,000 km</td>\n",
       "      <td>2010</td>\n",
       "      <td>Petrol</td>\n",
       "      <td>Manual</td>\n",
       "      <td>LXI BSIII</td>\n",
       "      <td>1st</td>\n",
       "      <td>Lucknow</td>\n",
       "    </tr>\n",
       "    <tr>\n",
       "      <th>2</th>\n",
       "      <td>₹ 10,00,000</td>\n",
       "      <td>Hyundai</td>\n",
       "      <td>Others</td>\n",
       "      <td>0 km</td>\n",
       "      <td>2020</td>\n",
       "      <td>Diesel</td>\n",
       "      <td>Automatic</td>\n",
       "      <td>Others</td>\n",
       "      <td>Na</td>\n",
       "      <td>Lucknow</td>\n",
       "    </tr>\n",
       "    <tr>\n",
       "      <th>3</th>\n",
       "      <td>₹ 2,90,000</td>\n",
       "      <td>Nissan</td>\n",
       "      <td>Micra</td>\n",
       "      <td>72,000 km</td>\n",
       "      <td>2013</td>\n",
       "      <td>Diesel</td>\n",
       "      <td>Manual</td>\n",
       "      <td>XV D</td>\n",
       "      <td>2nd</td>\n",
       "      <td>Lucknow</td>\n",
       "    </tr>\n",
       "    <tr>\n",
       "      <th>4</th>\n",
       "      <td>₹ 2,95,000</td>\n",
       "      <td>Hyundai</td>\n",
       "      <td>Grand i10</td>\n",
       "      <td>74,080 km</td>\n",
       "      <td>2013</td>\n",
       "      <td>Diesel</td>\n",
       "      <td>Manual</td>\n",
       "      <td>2013-2016 CRDi Sportz</td>\n",
       "      <td>2nd</td>\n",
       "      <td>Lucknow</td>\n",
       "    </tr>\n",
       "    <tr>\n",
       "      <th>5</th>\n",
       "      <td>₹ 2,26,000</td>\n",
       "      <td>Mahindra</td>\n",
       "      <td>Xylo</td>\n",
       "      <td>84,080 km</td>\n",
       "      <td>2010</td>\n",
       "      <td>Diesel</td>\n",
       "      <td>Manual</td>\n",
       "      <td>2009-2011 D2 BS IV</td>\n",
       "      <td>3rd</td>\n",
       "      <td>Lucknow</td>\n",
       "    </tr>\n",
       "    <tr>\n",
       "      <th>6</th>\n",
       "      <td>₹ 2,400</td>\n",
       "      <td>Other Spare Parts</td>\n",
       "      <td>Na</td>\n",
       "      <td>Na</td>\n",
       "      <td>Na</td>\n",
       "      <td>Na</td>\n",
       "      <td>Na</td>\n",
       "      <td>Na</td>\n",
       "      <td>Na</td>\n",
       "      <td>Lucknow</td>\n",
       "    </tr>\n",
       "  </tbody>\n",
       "</table>\n",
       "</div>"
      ],
      "text/plain": [
       "         Price              Brand       Model Kilometers_driven  Year    Fuel  \\\n",
       "0  ₹ 19,00,000                 MG      Hector          4,100 km  2021  Petrol   \n",
       "1   ₹ 1,65,000      Maruti Suzuki  Zen Estilo         40,000 km  2010  Petrol   \n",
       "2  ₹ 10,00,000            Hyundai      Others              0 km  2020  Diesel   \n",
       "3   ₹ 2,90,000             Nissan       Micra         72,000 km  2013  Diesel   \n",
       "4   ₹ 2,95,000            Hyundai   Grand i10         74,080 km  2013  Diesel   \n",
       "5   ₹ 2,26,000           Mahindra        Xylo         84,080 km  2010  Diesel   \n",
       "6      ₹ 2,400  Other Spare Parts          Na                Na    Na      Na   \n",
       "\n",
       "  Transmission                Variant No_owners Location  \n",
       "0       Manual        Hybrid Sharp MT       1st  Lucknow  \n",
       "1       Manual              LXI BSIII       1st  Lucknow  \n",
       "2    Automatic                 Others        Na  Lucknow  \n",
       "3       Manual                   XV D       2nd  Lucknow  \n",
       "4       Manual  2013-2016 CRDi Sportz       2nd  Lucknow  \n",
       "5       Manual     2009-2011 D2 BS IV       3rd  Lucknow  \n",
       "6           Na                     Na        Na  Lucknow  "
      ]
     },
     "execution_count": 129,
     "metadata": {},
     "output_type": "execute_result"
    }
   ],
   "source": [
    "olx14.head(7)"
   ]
  },
  {
   "cell_type": "code",
   "execution_count": 130,
   "metadata": {},
   "outputs": [],
   "source": [
    "driver.close()"
   ]
  },
  {
   "cell_type": "code",
   "execution_count": 131,
   "metadata": {},
   "outputs": [],
   "source": [
    "#Ranchi"
   ]
  },
  {
   "cell_type": "code",
   "execution_count": 132,
   "metadata": {},
   "outputs": [],
   "source": [
    "driver=webdriver.Firefox(\"C:\\geckodriver-v0.29.1-win64\")"
   ]
  },
  {
   "cell_type": "code",
   "execution_count": 133,
   "metadata": {},
   "outputs": [],
   "source": [
    "driver.get(\"https://www.olx.in/\")"
   ]
  },
  {
   "cell_type": "code",
   "execution_count": 134,
   "metadata": {},
   "outputs": [],
   "source": [
    "location=driver.find_element_by_xpath(\"//input[@class='_2xvhw']\") #finding option to enter the city name"
   ]
  },
  {
   "cell_type": "code",
   "execution_count": 135,
   "metadata": {},
   "outputs": [],
   "source": [
    "location.clear()"
   ]
  },
  {
   "cell_type": "code",
   "execution_count": 136,
   "metadata": {},
   "outputs": [],
   "source": [
    "location.send_keys(\"Ranchi\")"
   ]
  },
  {
   "cell_type": "code",
   "execution_count": 137,
   "metadata": {},
   "outputs": [],
   "source": [
    "driver.find_element_by_xpath(\"//div[@class='_2HzJo']/div[1]\").click()"
   ]
  },
  {
   "cell_type": "code",
   "execution_count": 138,
   "metadata": {},
   "outputs": [],
   "source": [
    "cars=driver.find_element_by_xpath(\"//form[@class='rui-1Azjs _20jkh']/fieldset/div/input\") \n",
    "#finding option to enter cars in search option"
   ]
  },
  {
   "cell_type": "code",
   "execution_count": 139,
   "metadata": {},
   "outputs": [],
   "source": [
    "cars.send_keys(\"Cars\")"
   ]
  },
  {
   "cell_type": "code",
   "execution_count": 140,
   "metadata": {},
   "outputs": [],
   "source": [
    "driver.find_element_by_xpath(\"//div[@class='_3b3oR']\").click() #click search option"
   ]
  },
  {
   "cell_type": "code",
   "execution_count": 141,
   "metadata": {},
   "outputs": [],
   "source": [
    "load_more=driver.find_element_by_xpath(\"//button[@class='rui-39-wj rui-3evoE rui-1JPTg']\") \n",
    "#selecting load more option to load for more cars"
   ]
  },
  {
   "cell_type": "code",
   "execution_count": 142,
   "metadata": {},
   "outputs": [],
   "source": [
    "load_more.click()"
   ]
  },
  {
   "cell_type": "code",
   "execution_count": 143,
   "metadata": {},
   "outputs": [],
   "source": [
    "urls=[] #collecting urls for each car\n",
    "for i in driver.find_elements_by_xpath(\"//ul[@class='rl3f9 _3mXOU']/li/a\"):\n",
    "    urls.append(i.get_attribute('href'))\n",
    "time.sleep(4)\n",
    "driver.find_element_by_xpath(\"//button[@class='rui-39-wj rui-3evoE rui-1JPTg']\").click()\n",
    "while True:\n",
    "    time.sleep(3)\n",
    "    for j in driver.find_elements_by_xpath(\"//ul[@class='rl3f9 _3mXOU']/li/a\"):\n",
    "        urls.append(j.get_attribute('href'))\n",
    "    try:\n",
    "        driver.find_element_by_xpath(\"//button[@class='rui-39-wj rui-3evoE rui-1JPTg'][2]\").click()\n",
    "        time.sleep(5)\n",
    "    except:\n",
    "        break"
   ]
  },
  {
   "cell_type": "code",
   "execution_count": 144,
   "metadata": {},
   "outputs": [
    {
     "data": {
      "text/plain": [
       "100"
      ]
     },
     "execution_count": 144,
     "metadata": {},
     "output_type": "execute_result"
    }
   ],
   "source": [
    "len(urls)"
   ]
  },
  {
   "cell_type": "code",
   "execution_count": 145,
   "metadata": {},
   "outputs": [],
   "source": [
    "#Scrapping data of each cars:\n",
    "Price=[]\n",
    "Brand=[]\n",
    "Model=[]\n",
    "Kilometers_driven=[]\n",
    "Year=[]\n",
    "Fuel=[]\n",
    "Transmission=[]\n",
    "Variant=[]\n",
    "No_owners=[]"
   ]
  },
  {
   "cell_type": "code",
   "execution_count": 146,
   "metadata": {},
   "outputs": [],
   "source": [
    "for i in urls[0:50]:\n",
    "    driver.get(i)\n",
    "    time.sleep(5)\n",
    "    try:\n",
    "        first=driver.find_element_by_xpath(\"//section[@class='_2wMiF']/span[1]\")\n",
    "        Price.append(first.text)\n",
    "    except NoSuchElementException:\n",
    "        Price.append(\"Na\")\n",
    "    try:\n",
    "        second=driver.find_element_by_xpath(\"//div[@class='_3JPEe']/div[1]/div/span[2]\")\n",
    "        Brand.append(second.text)\n",
    "    except NoSuchElementException:\n",
    "        Brand.append(\"Na\")\n",
    "        \n",
    "    try:\n",
    "        third=driver.find_element_by_xpath(\"//div[@class='_3JPEe']/div[2]/div/span[2]\")\n",
    "        Model.append(third.text)\n",
    "    except NoSuchElementException:\n",
    "        Model.append(\"Na\")\n",
    "        \n",
    "    try:\n",
    "        fourt=driver.find_element_by_xpath(\"//div[@class='_3JPEe']/div[3]/div/span[2]\")\n",
    "        Variant.append(fourt.text)\n",
    "    except NoSuchElementException:\n",
    "        Variant.append(\"Na\")\n",
    "        \n",
    "    try:\n",
    "        fifth=driver.find_element_by_xpath(\"//div[@class='_3JPEe']/div[4]/div/span[2]\")\n",
    "        Year.append(fifth.text)\n",
    "    except NoSuchElementException:\n",
    "        Year.append(\"Na\")\n",
    "        \n",
    "            \n",
    "    try:\n",
    "        Sixth=driver.find_element_by_xpath(\"//div[@class='_3JPEe']/div[5]/div/span[2]\")\n",
    "        Fuel.append(Sixth.text)\n",
    "    except NoSuchElementException:\n",
    "        Fuel.append(\"Na\")\n",
    "        \n",
    "    try:\n",
    "        Seventh=driver.find_element_by_xpath(\"//div[@class='_3JPEe']/div[6]/div/span[2]\")\n",
    "        Transmission.append(Seventh.text)\n",
    "    except NoSuchElementException:\n",
    "        Transmission.append(\"Na\")\n",
    "        \n",
    "    try:\n",
    "        Eighth=driver.find_element_by_xpath(\"//div[@class='_3JPEe']/div[7]/div/span[2]\")\n",
    "        Kilometers_driven.append(Eighth.text)\n",
    "    except NoSuchElementException:\n",
    "        Kilometers_driven.append(\"Na\")\n",
    "        \n",
    "    try:\n",
    "        Ninth=driver.find_element_by_xpath(\"//div[@class='_3JPEe']/div[8]/div/span[2]\")\n",
    "        No_owners.append(Ninth.text)\n",
    "    except NoSuchElementException:\n",
    "        No_owners.append(\"Na\")        \n",
    "                "
   ]
  },
  {
   "cell_type": "code",
   "execution_count": 147,
   "metadata": {},
   "outputs": [],
   "source": [
    "olx15=pd.DataFrame({})\n",
    "olx15['Price']=Price\n",
    "olx15['Brand']=Brand\n",
    "olx15['Model']=Model\n",
    "olx15['Kilometers_driven']=Kilometers_driven\n",
    "olx15['Year']=Year\n",
    "olx15['Fuel']=Fuel\n",
    "olx15['Transmission']=Transmission\n",
    "olx15['Variant']=Variant\n",
    "olx15['No_owners']=No_owners\n",
    "olx15['Location']='Ranchi'"
   ]
  },
  {
   "cell_type": "code",
   "execution_count": 148,
   "metadata": {},
   "outputs": [
    {
     "data": {
      "text/html": [
       "<div>\n",
       "<style scoped>\n",
       "    .dataframe tbody tr th:only-of-type {\n",
       "        vertical-align: middle;\n",
       "    }\n",
       "\n",
       "    .dataframe tbody tr th {\n",
       "        vertical-align: top;\n",
       "    }\n",
       "\n",
       "    .dataframe thead th {\n",
       "        text-align: right;\n",
       "    }\n",
       "</style>\n",
       "<table border=\"1\" class=\"dataframe\">\n",
       "  <thead>\n",
       "    <tr style=\"text-align: right;\">\n",
       "      <th></th>\n",
       "      <th>Price</th>\n",
       "      <th>Brand</th>\n",
       "      <th>Model</th>\n",
       "      <th>Kilometers_driven</th>\n",
       "      <th>Year</th>\n",
       "      <th>Fuel</th>\n",
       "      <th>Transmission</th>\n",
       "      <th>Variant</th>\n",
       "      <th>No_owners</th>\n",
       "      <th>Location</th>\n",
       "    </tr>\n",
       "  </thead>\n",
       "  <tbody>\n",
       "    <tr>\n",
       "      <th>0</th>\n",
       "      <td>₹ 4,01,000</td>\n",
       "      <td>Honda</td>\n",
       "      <td>Accord</td>\n",
       "      <td>40,000 km</td>\n",
       "      <td>2008</td>\n",
       "      <td>Petrol</td>\n",
       "      <td>Manual</td>\n",
       "      <td>2.4 Elegance Manual</td>\n",
       "      <td>1st</td>\n",
       "      <td>Ranchi</td>\n",
       "    </tr>\n",
       "    <tr>\n",
       "      <th>1</th>\n",
       "      <td>₹ 3,31,000</td>\n",
       "      <td>Honda</td>\n",
       "      <td>City</td>\n",
       "      <td>84,000 km</td>\n",
       "      <td>2009</td>\n",
       "      <td>Petrol</td>\n",
       "      <td>Manual</td>\n",
       "      <td>2008-2011 1.5 S MT</td>\n",
       "      <td>2nd</td>\n",
       "      <td>Ranchi</td>\n",
       "    </tr>\n",
       "    <tr>\n",
       "      <th>2</th>\n",
       "      <td>₹ 65,000</td>\n",
       "      <td>Maruti Suzuki</td>\n",
       "      <td>Zen</td>\n",
       "      <td>45,850 km</td>\n",
       "      <td>1997</td>\n",
       "      <td>Petrol</td>\n",
       "      <td>Manual</td>\n",
       "      <td>VX</td>\n",
       "      <td>2nd</td>\n",
       "      <td>Ranchi</td>\n",
       "    </tr>\n",
       "    <tr>\n",
       "      <th>3</th>\n",
       "      <td>₹ 16,00,000</td>\n",
       "      <td>Toyota</td>\n",
       "      <td>Fortuner</td>\n",
       "      <td>120,000 km</td>\n",
       "      <td>2011</td>\n",
       "      <td>Diesel</td>\n",
       "      <td>Manual</td>\n",
       "      <td>Others</td>\n",
       "      <td>1st</td>\n",
       "      <td>Ranchi</td>\n",
       "    </tr>\n",
       "    <tr>\n",
       "      <th>4</th>\n",
       "      <td>₹ 9,71,000</td>\n",
       "      <td>Mahindra</td>\n",
       "      <td>XUV500</td>\n",
       "      <td>50,000 km</td>\n",
       "      <td>2016</td>\n",
       "      <td>Diesel</td>\n",
       "      <td>Manual</td>\n",
       "      <td>W10 2WD</td>\n",
       "      <td>1st</td>\n",
       "      <td>Ranchi</td>\n",
       "    </tr>\n",
       "    <tr>\n",
       "      <th>5</th>\n",
       "      <td>₹ 1,51,000</td>\n",
       "      <td>Mahindra</td>\n",
       "      <td>Jeep</td>\n",
       "      <td>50,000 km</td>\n",
       "      <td>1993</td>\n",
       "      <td>Diesel</td>\n",
       "      <td>Manual</td>\n",
       "      <td>CJ 500 DI</td>\n",
       "      <td>2nd</td>\n",
       "      <td>Ranchi</td>\n",
       "    </tr>\n",
       "    <tr>\n",
       "      <th>6</th>\n",
       "      <td></td>\n",
       "      <td>Na</td>\n",
       "      <td>Na</td>\n",
       "      <td>Na</td>\n",
       "      <td>Na</td>\n",
       "      <td>Na</td>\n",
       "      <td>Na</td>\n",
       "      <td>Na</td>\n",
       "      <td>Na</td>\n",
       "      <td>Ranchi</td>\n",
       "    </tr>\n",
       "  </tbody>\n",
       "</table>\n",
       "</div>"
      ],
      "text/plain": [
       "         Price          Brand     Model Kilometers_driven  Year    Fuel  \\\n",
       "0   ₹ 4,01,000          Honda    Accord         40,000 km  2008  Petrol   \n",
       "1   ₹ 3,31,000          Honda      City         84,000 km  2009  Petrol   \n",
       "2     ₹ 65,000  Maruti Suzuki       Zen         45,850 km  1997  Petrol   \n",
       "3  ₹ 16,00,000         Toyota  Fortuner        120,000 km  2011  Diesel   \n",
       "4   ₹ 9,71,000       Mahindra    XUV500         50,000 km  2016  Diesel   \n",
       "5   ₹ 1,51,000       Mahindra      Jeep         50,000 km  1993  Diesel   \n",
       "6                          Na        Na                Na    Na      Na   \n",
       "\n",
       "  Transmission              Variant No_owners Location  \n",
       "0       Manual  2.4 Elegance Manual       1st   Ranchi  \n",
       "1       Manual   2008-2011 1.5 S MT       2nd   Ranchi  \n",
       "2       Manual                   VX       2nd   Ranchi  \n",
       "3       Manual               Others       1st   Ranchi  \n",
       "4       Manual              W10 2WD       1st   Ranchi  \n",
       "5       Manual            CJ 500 DI       2nd   Ranchi  \n",
       "6           Na                   Na        Na   Ranchi  "
      ]
     },
     "execution_count": 148,
     "metadata": {},
     "output_type": "execute_result"
    }
   ],
   "source": [
    "olx15.head(7)"
   ]
  },
  {
   "cell_type": "code",
   "execution_count": 149,
   "metadata": {},
   "outputs": [],
   "source": [
    "driver.close()"
   ]
  },
  {
   "cell_type": "code",
   "execution_count": 150,
   "metadata": {},
   "outputs": [],
   "source": [
    "#Indore"
   ]
  },
  {
   "cell_type": "code",
   "execution_count": 151,
   "metadata": {},
   "outputs": [],
   "source": [
    "driver=webdriver.Firefox(\"C:\\geckodriver-v0.29.1-win64\")"
   ]
  },
  {
   "cell_type": "code",
   "execution_count": 152,
   "metadata": {},
   "outputs": [],
   "source": [
    "driver.get(\"https://www.olx.in/\")"
   ]
  },
  {
   "cell_type": "code",
   "execution_count": 153,
   "metadata": {},
   "outputs": [],
   "source": [
    "location=driver.find_element_by_xpath(\"//input[@class='_2xvhw']\") #finding option to enter the city name"
   ]
  },
  {
   "cell_type": "code",
   "execution_count": 154,
   "metadata": {},
   "outputs": [],
   "source": [
    "location.clear()"
   ]
  },
  {
   "cell_type": "code",
   "execution_count": 155,
   "metadata": {},
   "outputs": [],
   "source": [
    "location.send_keys(\"Indore\")"
   ]
  },
  {
   "cell_type": "code",
   "execution_count": 156,
   "metadata": {},
   "outputs": [],
   "source": [
    "driver.find_element_by_xpath(\"//div[@class='_2HzJo']/div[1]\").click()"
   ]
  },
  {
   "cell_type": "code",
   "execution_count": 157,
   "metadata": {},
   "outputs": [],
   "source": [
    "cars=driver.find_element_by_xpath(\"//form[@class='rui-1Azjs _20jkh']/fieldset/div/input\") \n",
    "#finding option to enter cars in search option"
   ]
  },
  {
   "cell_type": "code",
   "execution_count": 158,
   "metadata": {},
   "outputs": [],
   "source": [
    "cars.send_keys(\"Cars\")"
   ]
  },
  {
   "cell_type": "code",
   "execution_count": 159,
   "metadata": {},
   "outputs": [],
   "source": [
    "driver.find_element_by_xpath(\"//div[@class='_3b3oR']\").click() #click search option"
   ]
  },
  {
   "cell_type": "code",
   "execution_count": 160,
   "metadata": {},
   "outputs": [],
   "source": [
    "load_more=driver.find_element_by_xpath(\"//button[@class='rui-39-wj rui-3evoE rui-1JPTg']\") \n",
    "#selecting load more option to load for more cars"
   ]
  },
  {
   "cell_type": "code",
   "execution_count": 161,
   "metadata": {},
   "outputs": [],
   "source": [
    "load_more.click()"
   ]
  },
  {
   "cell_type": "code",
   "execution_count": 162,
   "metadata": {},
   "outputs": [],
   "source": [
    "urls=[] #collecting urls for each car\n",
    "for i in driver.find_elements_by_xpath(\"//ul[@class='rl3f9 _3mXOU']/li/a\"):\n",
    "    urls.append(i.get_attribute('href'))\n",
    "time.sleep(4)\n",
    "driver.find_element_by_xpath(\"//button[@class='rui-39-wj rui-3evoE rui-1JPTg']\").click()\n",
    "while True:\n",
    "    time.sleep(3)\n",
    "    for j in driver.find_elements_by_xpath(\"//ul[@class='rl3f9 _3mXOU']/li/a\"):\n",
    "        urls.append(j.get_attribute('href'))\n",
    "    try:\n",
    "        driver.find_element_by_xpath(\"//button[@class='rui-39-wj rui-3evoE rui-1JPTg'][2]\").click()\n",
    "        time.sleep(5)\n",
    "    except:\n",
    "        break"
   ]
  },
  {
   "cell_type": "code",
   "execution_count": 163,
   "metadata": {},
   "outputs": [
    {
     "data": {
      "text/plain": [
       "100"
      ]
     },
     "execution_count": 163,
     "metadata": {},
     "output_type": "execute_result"
    }
   ],
   "source": [
    "len(urls)"
   ]
  },
  {
   "cell_type": "code",
   "execution_count": 164,
   "metadata": {},
   "outputs": [],
   "source": [
    "#Scrapping data of each cars:\n",
    "Price=[]\n",
    "Brand=[]\n",
    "Model=[]\n",
    "Kilometers_driven=[]\n",
    "Year=[]\n",
    "Fuel=[]\n",
    "Transmission=[]\n",
    "Variant=[]\n",
    "No_owners=[]"
   ]
  },
  {
   "cell_type": "code",
   "execution_count": 165,
   "metadata": {},
   "outputs": [],
   "source": [
    "for i in urls[0:50]:\n",
    "    driver.get(i)\n",
    "    time.sleep(5)\n",
    "    try:\n",
    "        first=driver.find_element_by_xpath(\"//section[@class='_2wMiF']/span[1]\")\n",
    "        Price.append(first.text)\n",
    "    except NoSuchElementException:\n",
    "        Price.append(\"Na\")\n",
    "    try:\n",
    "        second=driver.find_element_by_xpath(\"//div[@class='_3JPEe']/div[1]/div/span[2]\")\n",
    "        Brand.append(second.text)\n",
    "    except NoSuchElementException:\n",
    "        Brand.append(\"Na\")\n",
    "        \n",
    "    try:\n",
    "        third=driver.find_element_by_xpath(\"//div[@class='_3JPEe']/div[2]/div/span[2]\")\n",
    "        Model.append(third.text)\n",
    "    except NoSuchElementException:\n",
    "        Model.append(\"Na\")\n",
    "        \n",
    "    try:\n",
    "        fourt=driver.find_element_by_xpath(\"//div[@class='_3JPEe']/div[3]/div/span[2]\")\n",
    "        Variant.append(fourt.text)\n",
    "    except NoSuchElementException:\n",
    "        Variant.append(\"Na\")\n",
    "        \n",
    "    try:\n",
    "        fifth=driver.find_element_by_xpath(\"//div[@class='_3JPEe']/div[4]/div/span[2]\")\n",
    "        Year.append(fifth.text)\n",
    "    except NoSuchElementException:\n",
    "        Year.append(\"Na\")\n",
    "        \n",
    "            \n",
    "    try:\n",
    "        Sixth=driver.find_element_by_xpath(\"//div[@class='_3JPEe']/div[5]/div/span[2]\")\n",
    "        Fuel.append(Sixth.text)\n",
    "    except NoSuchElementException:\n",
    "        Fuel.append(\"Na\")\n",
    "        \n",
    "    try:\n",
    "        Seventh=driver.find_element_by_xpath(\"//div[@class='_3JPEe']/div[6]/div/span[2]\")\n",
    "        Transmission.append(Seventh.text)\n",
    "    except NoSuchElementException:\n",
    "        Transmission.append(\"Na\")\n",
    "        \n",
    "    try:\n",
    "        Eighth=driver.find_element_by_xpath(\"//div[@class='_3JPEe']/div[7]/div/span[2]\")\n",
    "        Kilometers_driven.append(Eighth.text)\n",
    "    except NoSuchElementException:\n",
    "        Kilometers_driven.append(\"Na\")\n",
    "        \n",
    "    try:\n",
    "        Ninth=driver.find_element_by_xpath(\"//div[@class='_3JPEe']/div[8]/div/span[2]\")\n",
    "        No_owners.append(Ninth.text)\n",
    "    except NoSuchElementException:\n",
    "        No_owners.append(\"Na\")        \n",
    "                "
   ]
  },
  {
   "cell_type": "code",
   "execution_count": 166,
   "metadata": {},
   "outputs": [],
   "source": [
    "olx16=pd.DataFrame({})\n",
    "olx16['Price']=Price\n",
    "olx16['Brand']=Brand\n",
    "olx16['Model']=Model\n",
    "olx16['Kilometers_driven']=Kilometers_driven\n",
    "olx16['Year']=Year\n",
    "olx16['Fuel']=Fuel\n",
    "olx16['Transmission']=Transmission\n",
    "olx16['Variant']=Variant\n",
    "olx16['No_owners']=No_owners\n",
    "olx16['Location']='Indore'"
   ]
  },
  {
   "cell_type": "code",
   "execution_count": 167,
   "metadata": {},
   "outputs": [
    {
     "data": {
      "text/html": [
       "<div>\n",
       "<style scoped>\n",
       "    .dataframe tbody tr th:only-of-type {\n",
       "        vertical-align: middle;\n",
       "    }\n",
       "\n",
       "    .dataframe tbody tr th {\n",
       "        vertical-align: top;\n",
       "    }\n",
       "\n",
       "    .dataframe thead th {\n",
       "        text-align: right;\n",
       "    }\n",
       "</style>\n",
       "<table border=\"1\" class=\"dataframe\">\n",
       "  <thead>\n",
       "    <tr style=\"text-align: right;\">\n",
       "      <th></th>\n",
       "      <th>Price</th>\n",
       "      <th>Brand</th>\n",
       "      <th>Model</th>\n",
       "      <th>Kilometers_driven</th>\n",
       "      <th>Year</th>\n",
       "      <th>Fuel</th>\n",
       "      <th>Transmission</th>\n",
       "      <th>Variant</th>\n",
       "      <th>No_owners</th>\n",
       "      <th>Location</th>\n",
       "    </tr>\n",
       "  </thead>\n",
       "  <tbody>\n",
       "    <tr>\n",
       "      <th>0</th>\n",
       "      <td>₹ 7,25,000</td>\n",
       "      <td>Maruti Suzuki</td>\n",
       "      <td>Vitara Brezza</td>\n",
       "      <td>65,000 km</td>\n",
       "      <td>2017</td>\n",
       "      <td>Diesel</td>\n",
       "      <td>Manual</td>\n",
       "      <td>LDi Option</td>\n",
       "      <td>1st</td>\n",
       "      <td>Indore</td>\n",
       "    </tr>\n",
       "    <tr>\n",
       "      <th>1</th>\n",
       "      <td>₹ 7,75,000</td>\n",
       "      <td>Maruti Suzuki</td>\n",
       "      <td>Ciaz</td>\n",
       "      <td>59,983 km</td>\n",
       "      <td>2016</td>\n",
       "      <td>Diesel</td>\n",
       "      <td>Manual</td>\n",
       "      <td>2014-2017 ZDi Plus</td>\n",
       "      <td>1st</td>\n",
       "      <td>Indore</td>\n",
       "    </tr>\n",
       "    <tr>\n",
       "      <th>2</th>\n",
       "      <td>₹ 15,95,000</td>\n",
       "      <td>Mahindra</td>\n",
       "      <td>XUV500</td>\n",
       "      <td>42,172 km</td>\n",
       "      <td>2018</td>\n",
       "      <td>Diesel</td>\n",
       "      <td>Manual</td>\n",
       "      <td>W9</td>\n",
       "      <td>1st</td>\n",
       "      <td>Indore</td>\n",
       "    </tr>\n",
       "    <tr>\n",
       "      <th>3</th>\n",
       "      <td>Na</td>\n",
       "      <td>Na</td>\n",
       "      <td>Na</td>\n",
       "      <td>Na</td>\n",
       "      <td>Na</td>\n",
       "      <td>Na</td>\n",
       "      <td>Na</td>\n",
       "      <td>Na</td>\n",
       "      <td>Na</td>\n",
       "      <td>Indore</td>\n",
       "    </tr>\n",
       "    <tr>\n",
       "      <th>4</th>\n",
       "      <td>Na</td>\n",
       "      <td>Na</td>\n",
       "      <td>Na</td>\n",
       "      <td>Na</td>\n",
       "      <td>Na</td>\n",
       "      <td>Na</td>\n",
       "      <td>Na</td>\n",
       "      <td>Na</td>\n",
       "      <td>Na</td>\n",
       "      <td>Indore</td>\n",
       "    </tr>\n",
       "  </tbody>\n",
       "</table>\n",
       "</div>"
      ],
      "text/plain": [
       "         Price          Brand          Model Kilometers_driven  Year    Fuel  \\\n",
       "0   ₹ 7,25,000  Maruti Suzuki  Vitara Brezza         65,000 km  2017  Diesel   \n",
       "1   ₹ 7,75,000  Maruti Suzuki           Ciaz         59,983 km  2016  Diesel   \n",
       "2  ₹ 15,95,000       Mahindra         XUV500         42,172 km  2018  Diesel   \n",
       "3           Na             Na             Na                Na    Na      Na   \n",
       "4           Na             Na             Na                Na    Na      Na   \n",
       "\n",
       "  Transmission             Variant No_owners Location  \n",
       "0       Manual          LDi Option       1st   Indore  \n",
       "1       Manual  2014-2017 ZDi Plus       1st   Indore  \n",
       "2       Manual                  W9       1st   Indore  \n",
       "3           Na                  Na        Na   Indore  \n",
       "4           Na                  Na        Na   Indore  "
      ]
     },
     "execution_count": 167,
     "metadata": {},
     "output_type": "execute_result"
    }
   ],
   "source": [
    "olx16.head()"
   ]
  },
  {
   "cell_type": "code",
   "execution_count": 168,
   "metadata": {},
   "outputs": [],
   "source": [
    "driver.close()"
   ]
  },
  {
   "cell_type": "code",
   "execution_count": 169,
   "metadata": {},
   "outputs": [],
   "source": [
    "#Panaji"
   ]
  },
  {
   "cell_type": "code",
   "execution_count": 170,
   "metadata": {},
   "outputs": [],
   "source": [
    "driver=webdriver.Firefox(\"C:\\geckodriver-v0.29.1-win64\")"
   ]
  },
  {
   "cell_type": "code",
   "execution_count": 171,
   "metadata": {},
   "outputs": [],
   "source": [
    "driver.get(\"https://www.olx.in/\")"
   ]
  },
  {
   "cell_type": "code",
   "execution_count": 172,
   "metadata": {},
   "outputs": [],
   "source": [
    "location=driver.find_element_by_xpath(\"//input[@class='_2xvhw']\") #finding option to enter the city name"
   ]
  },
  {
   "cell_type": "code",
   "execution_count": 173,
   "metadata": {},
   "outputs": [],
   "source": [
    "location.clear()"
   ]
  },
  {
   "cell_type": "code",
   "execution_count": 174,
   "metadata": {},
   "outputs": [],
   "source": [
    "location.send_keys(\"Panaji\")"
   ]
  },
  {
   "cell_type": "code",
   "execution_count": 175,
   "metadata": {},
   "outputs": [],
   "source": [
    "driver.find_element_by_xpath(\"//div[@class='_2HzJo']/div[1]\").click()"
   ]
  },
  {
   "cell_type": "code",
   "execution_count": 176,
   "metadata": {},
   "outputs": [],
   "source": [
    "cars=driver.find_element_by_xpath(\"//form[@class='rui-1Azjs _20jkh']/fieldset/div/input\") \n",
    "#finding option to enter cars in search option"
   ]
  },
  {
   "cell_type": "code",
   "execution_count": 177,
   "metadata": {},
   "outputs": [],
   "source": [
    "cars.send_keys(\"Cars\")"
   ]
  },
  {
   "cell_type": "code",
   "execution_count": 178,
   "metadata": {},
   "outputs": [],
   "source": [
    "driver.find_element_by_xpath(\"//div[@class='_3b3oR']\").click() #click search option"
   ]
  },
  {
   "cell_type": "code",
   "execution_count": 179,
   "metadata": {},
   "outputs": [],
   "source": [
    "load_more=driver.find_element_by_xpath(\"//button[@class='rui-39-wj rui-3evoE rui-1JPTg']\") \n",
    "#selecting load more option to load for more cars"
   ]
  },
  {
   "cell_type": "code",
   "execution_count": 180,
   "metadata": {},
   "outputs": [],
   "source": [
    "load_more.click()"
   ]
  },
  {
   "cell_type": "code",
   "execution_count": 181,
   "metadata": {},
   "outputs": [],
   "source": [
    "urls=[] #collecting urls for each car\n",
    "for i in driver.find_elements_by_xpath(\"//ul[@class='rl3f9 _3mXOU']/li/a\"):\n",
    "    urls.append(i.get_attribute('href'))\n",
    "time.sleep(4)\n",
    "driver.find_element_by_xpath(\"//button[@class='rui-39-wj rui-3evoE rui-1JPTg']\").click()\n",
    "while True:\n",
    "    time.sleep(3)\n",
    "    for j in driver.find_elements_by_xpath(\"//ul[@class='rl3f9 _3mXOU']/li/a\"):\n",
    "        urls.append(j.get_attribute('href'))\n",
    "    try:\n",
    "        driver.find_element_by_xpath(\"//button[@class='rui-39-wj rui-3evoE rui-1JPTg'][2]\").click()\n",
    "        time.sleep(5)\n",
    "    except:\n",
    "        break"
   ]
  },
  {
   "cell_type": "code",
   "execution_count": 182,
   "metadata": {},
   "outputs": [
    {
     "data": {
      "text/plain": [
       "100"
      ]
     },
     "execution_count": 182,
     "metadata": {},
     "output_type": "execute_result"
    }
   ],
   "source": [
    "len(urls)"
   ]
  },
  {
   "cell_type": "code",
   "execution_count": 183,
   "metadata": {},
   "outputs": [],
   "source": [
    "#Scrapping data of each cars:\n",
    "Price=[]\n",
    "Brand=[]\n",
    "Model=[]\n",
    "Kilometers_driven=[]\n",
    "Year=[]\n",
    "Fuel=[]\n",
    "Transmission=[]\n",
    "Variant=[]\n",
    "No_owners=[]"
   ]
  },
  {
   "cell_type": "code",
   "execution_count": 184,
   "metadata": {},
   "outputs": [],
   "source": [
    "for i in urls[0:50]:\n",
    "    driver.get(i)\n",
    "    time.sleep(5)\n",
    "    try:\n",
    "        first=driver.find_element_by_xpath(\"//section[@class='_2wMiF']/span[1]\")\n",
    "        Price.append(first.text)\n",
    "    except NoSuchElementException:\n",
    "        Price.append(\"Na\")\n",
    "    try:\n",
    "        second=driver.find_element_by_xpath(\"//div[@class='_3JPEe']/div[1]/div/span[2]\")\n",
    "        Brand.append(second.text)\n",
    "    except NoSuchElementException:\n",
    "        Brand.append(\"Na\")\n",
    "        \n",
    "    try:\n",
    "        third=driver.find_element_by_xpath(\"//div[@class='_3JPEe']/div[2]/div/span[2]\")\n",
    "        Model.append(third.text)\n",
    "    except NoSuchElementException:\n",
    "        Model.append(\"Na\")\n",
    "        \n",
    "    try:\n",
    "        fourt=driver.find_element_by_xpath(\"//div[@class='_3JPEe']/div[3]/div/span[2]\")\n",
    "        Variant.append(fourt.text)\n",
    "    except NoSuchElementException:\n",
    "        Variant.append(\"Na\")\n",
    "        \n",
    "    try:\n",
    "        fifth=driver.find_element_by_xpath(\"//div[@class='_3JPEe']/div[4]/div/span[2]\")\n",
    "        Year.append(fifth.text)\n",
    "    except NoSuchElementException:\n",
    "        Year.append(\"Na\")\n",
    "        \n",
    "            \n",
    "    try:\n",
    "        Sixth=driver.find_element_by_xpath(\"//div[@class='_3JPEe']/div[5]/div/span[2]\")\n",
    "        Fuel.append(Sixth.text)\n",
    "    except NoSuchElementException:\n",
    "        Fuel.append(\"Na\")\n",
    "        \n",
    "    try:\n",
    "        Seventh=driver.find_element_by_xpath(\"//div[@class='_3JPEe']/div[6]/div/span[2]\")\n",
    "        Transmission.append(Seventh.text)\n",
    "    except NoSuchElementException:\n",
    "        Transmission.append(\"Na\")\n",
    "        \n",
    "    try:\n",
    "        Eighth=driver.find_element_by_xpath(\"//div[@class='_3JPEe']/div[7]/div/span[2]\")\n",
    "        Kilometers_driven.append(Eighth.text)\n",
    "    except NoSuchElementException:\n",
    "        Kilometers_driven.append(\"Na\")\n",
    "        \n",
    "    try:\n",
    "        Ninth=driver.find_element_by_xpath(\"//div[@class='_3JPEe']/div[8]/div/span[2]\")\n",
    "        No_owners.append(Ninth.text)\n",
    "    except NoSuchElementException:\n",
    "        No_owners.append(\"Na\")        \n",
    "                "
   ]
  },
  {
   "cell_type": "code",
   "execution_count": 185,
   "metadata": {},
   "outputs": [],
   "source": [
    "olx17=pd.DataFrame({})\n",
    "olx17['Price']=Price\n",
    "olx17['Brand']=Brand\n",
    "olx17['Model']=Model\n",
    "olx17['Kilometers_driven']=Kilometers_driven\n",
    "olx17['Year']=Year\n",
    "olx17['Fuel']=Fuel\n",
    "olx17['Transmission']=Transmission\n",
    "olx17['Variant']=Variant\n",
    "olx17['No_owners']=No_owners\n",
    "olx17['Location']='Panaji'"
   ]
  },
  {
   "cell_type": "code",
   "execution_count": 186,
   "metadata": {},
   "outputs": [
    {
     "data": {
      "text/html": [
       "<div>\n",
       "<style scoped>\n",
       "    .dataframe tbody tr th:only-of-type {\n",
       "        vertical-align: middle;\n",
       "    }\n",
       "\n",
       "    .dataframe tbody tr th {\n",
       "        vertical-align: top;\n",
       "    }\n",
       "\n",
       "    .dataframe thead th {\n",
       "        text-align: right;\n",
       "    }\n",
       "</style>\n",
       "<table border=\"1\" class=\"dataframe\">\n",
       "  <thead>\n",
       "    <tr style=\"text-align: right;\">\n",
       "      <th></th>\n",
       "      <th>Price</th>\n",
       "      <th>Brand</th>\n",
       "      <th>Model</th>\n",
       "      <th>Kilometers_driven</th>\n",
       "      <th>Year</th>\n",
       "      <th>Fuel</th>\n",
       "      <th>Transmission</th>\n",
       "      <th>Variant</th>\n",
       "      <th>No_owners</th>\n",
       "      <th>Location</th>\n",
       "    </tr>\n",
       "  </thead>\n",
       "  <tbody>\n",
       "    <tr>\n",
       "      <th>0</th>\n",
       "      <td>₹ 7,70,000</td>\n",
       "      <td>Maruti Suzuki</td>\n",
       "      <td>Vitara Brezza</td>\n",
       "      <td>36,000 km</td>\n",
       "      <td>2017</td>\n",
       "      <td>Diesel</td>\n",
       "      <td>Manual</td>\n",
       "      <td>ZDi</td>\n",
       "      <td>1st</td>\n",
       "      <td>Panaji</td>\n",
       "    </tr>\n",
       "    <tr>\n",
       "      <th>1</th>\n",
       "      <td>₹ 3,60,000</td>\n",
       "      <td>Honda</td>\n",
       "      <td>Civic</td>\n",
       "      <td>77,000 km</td>\n",
       "      <td>2011</td>\n",
       "      <td>Petrol</td>\n",
       "      <td>Manual</td>\n",
       "      <td>1.8 V MT Elegance</td>\n",
       "      <td>2nd</td>\n",
       "      <td>Panaji</td>\n",
       "    </tr>\n",
       "    <tr>\n",
       "      <th>2</th>\n",
       "      <td>₹ 4,99,999</td>\n",
       "      <td>Renault</td>\n",
       "      <td>Lodgy</td>\n",
       "      <td>35,000 km</td>\n",
       "      <td>2016</td>\n",
       "      <td>Diesel</td>\n",
       "      <td>Manual</td>\n",
       "      <td>85PS RxZ</td>\n",
       "      <td>1st</td>\n",
       "      <td>Panaji</td>\n",
       "    </tr>\n",
       "    <tr>\n",
       "      <th>3</th>\n",
       "      <td>₹ 2,70,000</td>\n",
       "      <td>Maruti Suzuki</td>\n",
       "      <td>Alto K10</td>\n",
       "      <td>24,000 km</td>\n",
       "      <td>2014</td>\n",
       "      <td>Petrol</td>\n",
       "      <td>Manual</td>\n",
       "      <td>2010-2014 2010-2014 VXI</td>\n",
       "      <td>1st</td>\n",
       "      <td>Panaji</td>\n",
       "    </tr>\n",
       "    <tr>\n",
       "      <th>4</th>\n",
       "      <td>₹ 2,75,000</td>\n",
       "      <td>Maruti Suzuki</td>\n",
       "      <td>Alto K10</td>\n",
       "      <td>50,000 km</td>\n",
       "      <td>2016.0</td>\n",
       "      <td>Petrol</td>\n",
       "      <td>Manual</td>\n",
       "      <td>LXI</td>\n",
       "      <td>1st</td>\n",
       "      <td>Panaji</td>\n",
       "    </tr>\n",
       "  </tbody>\n",
       "</table>\n",
       "</div>"
      ],
      "text/plain": [
       "        Price          Brand          Model Kilometers_driven    Year    Fuel  \\\n",
       "0  ₹ 7,70,000  Maruti Suzuki  Vitara Brezza         36,000 km    2017  Diesel   \n",
       "1  ₹ 3,60,000          Honda          Civic         77,000 km    2011  Petrol   \n",
       "2  ₹ 4,99,999        Renault          Lodgy         35,000 km    2016  Diesel   \n",
       "3  ₹ 2,70,000  Maruti Suzuki       Alto K10         24,000 km    2014  Petrol   \n",
       "4  ₹ 2,75,000  Maruti Suzuki       Alto K10         50,000 km  2016.0  Petrol   \n",
       "\n",
       "  Transmission                  Variant No_owners Location  \n",
       "0       Manual                      ZDi       1st   Panaji  \n",
       "1       Manual        1.8 V MT Elegance       2nd   Panaji  \n",
       "2       Manual                 85PS RxZ       1st   Panaji  \n",
       "3       Manual  2010-2014 2010-2014 VXI       1st   Panaji  \n",
       "4       Manual                      LXI       1st   Panaji  "
      ]
     },
     "execution_count": 186,
     "metadata": {},
     "output_type": "execute_result"
    }
   ],
   "source": [
    "olx17.head()"
   ]
  },
  {
   "cell_type": "code",
   "execution_count": 187,
   "metadata": {},
   "outputs": [],
   "source": [
    "driver.close()"
   ]
  },
  {
   "cell_type": "code",
   "execution_count": 188,
   "metadata": {},
   "outputs": [],
   "source": [
    "#Jaipur"
   ]
  },
  {
   "cell_type": "code",
   "execution_count": 189,
   "metadata": {},
   "outputs": [],
   "source": [
    "driver=webdriver.Firefox(\"C:\\geckodriver-v0.29.1-win64\")"
   ]
  },
  {
   "cell_type": "code",
   "execution_count": 190,
   "metadata": {},
   "outputs": [],
   "source": [
    "driver.get(\"https://www.olx.in/\")"
   ]
  },
  {
   "cell_type": "code",
   "execution_count": 191,
   "metadata": {},
   "outputs": [],
   "source": [
    "location=driver.find_element_by_xpath(\"//input[@class='_2xvhw']\") #finding option to enter the city name"
   ]
  },
  {
   "cell_type": "code",
   "execution_count": 192,
   "metadata": {},
   "outputs": [],
   "source": [
    "location.clear()"
   ]
  },
  {
   "cell_type": "code",
   "execution_count": 193,
   "metadata": {},
   "outputs": [],
   "source": [
    "location.send_keys(\"Jaipur\")"
   ]
  },
  {
   "cell_type": "code",
   "execution_count": 194,
   "metadata": {},
   "outputs": [],
   "source": [
    "driver.find_element_by_xpath(\"//div[@class='_2HzJo']/div[1]\").click()"
   ]
  },
  {
   "cell_type": "code",
   "execution_count": 195,
   "metadata": {},
   "outputs": [],
   "source": [
    "cars=driver.find_element_by_xpath(\"//form[@class='rui-1Azjs _20jkh']/fieldset/div/input\") \n",
    "#finding option to enter cars in search option"
   ]
  },
  {
   "cell_type": "code",
   "execution_count": 196,
   "metadata": {},
   "outputs": [],
   "source": [
    "cars.send_keys(\"Cars\")"
   ]
  },
  {
   "cell_type": "code",
   "execution_count": 197,
   "metadata": {},
   "outputs": [],
   "source": [
    "driver.find_element_by_xpath(\"//div[@class='_3b3oR']\").click() #click search option"
   ]
  },
  {
   "cell_type": "code",
   "execution_count": 198,
   "metadata": {},
   "outputs": [],
   "source": [
    "load_more=driver.find_element_by_xpath(\"//button[@class='rui-39-wj rui-3evoE rui-1JPTg']\") \n",
    "#selecting load more option to load for more cars"
   ]
  },
  {
   "cell_type": "code",
   "execution_count": 199,
   "metadata": {},
   "outputs": [],
   "source": [
    "load_more.click()"
   ]
  },
  {
   "cell_type": "code",
   "execution_count": 200,
   "metadata": {},
   "outputs": [],
   "source": [
    "urls=[] #collecting urls for each car\n",
    "for i in driver.find_elements_by_xpath(\"//ul[@class='rl3f9 _3mXOU']/li/a\"):\n",
    "    urls.append(i.get_attribute('href'))\n",
    "time.sleep(4)\n",
    "driver.find_element_by_xpath(\"//button[@class='rui-39-wj rui-3evoE rui-1JPTg']\").click()\n",
    "while True:\n",
    "    time.sleep(3)\n",
    "    for j in driver.find_elements_by_xpath(\"//ul[@class='rl3f9 _3mXOU']/li/a\"):\n",
    "        urls.append(j.get_attribute('href'))\n",
    "    try:\n",
    "        driver.find_element_by_xpath(\"//button[@class='rui-39-wj rui-3evoE rui-1JPTg'][2]\").click()\n",
    "        time.sleep(5)\n",
    "    except:\n",
    "        break"
   ]
  },
  {
   "cell_type": "code",
   "execution_count": 201,
   "metadata": {},
   "outputs": [
    {
     "data": {
      "text/plain": [
       "100"
      ]
     },
     "execution_count": 201,
     "metadata": {},
     "output_type": "execute_result"
    }
   ],
   "source": [
    "len(urls)"
   ]
  },
  {
   "cell_type": "code",
   "execution_count": 202,
   "metadata": {},
   "outputs": [],
   "source": [
    "#Scrapping data of each cars:\n",
    "Price=[]\n",
    "Brand=[]\n",
    "Model=[]\n",
    "Kilometers_driven=[]\n",
    "Year=[]\n",
    "Fuel=[]\n",
    "Transmission=[]\n",
    "Variant=[]\n",
    "No_owners=[]"
   ]
  },
  {
   "cell_type": "code",
   "execution_count": 203,
   "metadata": {},
   "outputs": [],
   "source": [
    "for i in urls[0:50]:\n",
    "    driver.get(i)\n",
    "    time.sleep(5)\n",
    "    try:\n",
    "        first=driver.find_element_by_xpath(\"//section[@class='_2wMiF']/span[1]\")\n",
    "        Price.append(first.text)\n",
    "    except NoSuchElementException:\n",
    "        Price.append(\"Na\")\n",
    "    try:\n",
    "        second=driver.find_element_by_xpath(\"//div[@class='_3JPEe']/div[1]/div/span[2]\")\n",
    "        Brand.append(second.text)\n",
    "    except NoSuchElementException:\n",
    "        Brand.append(\"Na\")\n",
    "        \n",
    "    try:\n",
    "        third=driver.find_element_by_xpath(\"//div[@class='_3JPEe']/div[2]/div/span[2]\")\n",
    "        Model.append(third.text)\n",
    "    except NoSuchElementException:\n",
    "        Model.append(\"Na\")\n",
    "        \n",
    "    try:\n",
    "        fourt=driver.find_element_by_xpath(\"//div[@class='_3JPEe']/div[3]/div/span[2]\")\n",
    "        Variant.append(fourt.text)\n",
    "    except NoSuchElementException:\n",
    "        Variant.append(\"Na\")\n",
    "        \n",
    "    try:\n",
    "        fifth=driver.find_element_by_xpath(\"//div[@class='_3JPEe']/div[4]/div/span[2]\")\n",
    "        Year.append(fifth.text)\n",
    "    except NoSuchElementException:\n",
    "        Year.append(\"Na\")\n",
    "        \n",
    "            \n",
    "    try:\n",
    "        Sixth=driver.find_element_by_xpath(\"//div[@class='_3JPEe']/div[5]/div/span[2]\")\n",
    "        Fuel.append(Sixth.text)\n",
    "    except NoSuchElementException:\n",
    "        Fuel.append(\"Na\")\n",
    "        \n",
    "    try:\n",
    "        Seventh=driver.find_element_by_xpath(\"//div[@class='_3JPEe']/div[6]/div/span[2]\")\n",
    "        Transmission.append(Seventh.text)\n",
    "    except NoSuchElementException:\n",
    "        Transmission.append(\"Na\")\n",
    "        \n",
    "    try:\n",
    "        Eighth=driver.find_element_by_xpath(\"//div[@class='_3JPEe']/div[7]/div/span[2]\")\n",
    "        Kilometers_driven.append(Eighth.text)\n",
    "    except NoSuchElementException:\n",
    "        Kilometers_driven.append(\"Na\")\n",
    "        \n",
    "    try:\n",
    "        Ninth=driver.find_element_by_xpath(\"//div[@class='_3JPEe']/div[8]/div/span[2]\")\n",
    "        No_owners.append(Ninth.text)\n",
    "    except NoSuchElementException:\n",
    "        No_owners.append(\"Na\")        \n",
    "                "
   ]
  },
  {
   "cell_type": "code",
   "execution_count": 204,
   "metadata": {},
   "outputs": [],
   "source": [
    "olx18=pd.DataFrame({})\n",
    "olx18['Price']=Price\n",
    "olx18['Brand']=Brand\n",
    "olx18['Model']=Model\n",
    "olx18['Kilometers_driven']=Kilometers_driven\n",
    "olx18['Year']=Year\n",
    "olx18['Fuel']=Fuel\n",
    "olx18['Transmission']=Transmission\n",
    "olx18['Variant']=Variant\n",
    "olx18['No_owners']=No_owners\n",
    "olx18['Location']='Jaipur'"
   ]
  },
  {
   "cell_type": "code",
   "execution_count": 205,
   "metadata": {},
   "outputs": [
    {
     "data": {
      "text/html": [
       "<div>\n",
       "<style scoped>\n",
       "    .dataframe tbody tr th:only-of-type {\n",
       "        vertical-align: middle;\n",
       "    }\n",
       "\n",
       "    .dataframe tbody tr th {\n",
       "        vertical-align: top;\n",
       "    }\n",
       "\n",
       "    .dataframe thead th {\n",
       "        text-align: right;\n",
       "    }\n",
       "</style>\n",
       "<table border=\"1\" class=\"dataframe\">\n",
       "  <thead>\n",
       "    <tr style=\"text-align: right;\">\n",
       "      <th></th>\n",
       "      <th>Price</th>\n",
       "      <th>Brand</th>\n",
       "      <th>Model</th>\n",
       "      <th>Kilometers_driven</th>\n",
       "      <th>Year</th>\n",
       "      <th>Fuel</th>\n",
       "      <th>Transmission</th>\n",
       "      <th>Variant</th>\n",
       "      <th>No_owners</th>\n",
       "      <th>Location</th>\n",
       "    </tr>\n",
       "  </thead>\n",
       "  <tbody>\n",
       "    <tr>\n",
       "      <th>0</th>\n",
       "      <td>₹ 4,35,000</td>\n",
       "      <td>Volkswagen</td>\n",
       "      <td>Polo</td>\n",
       "      <td>80,000 km</td>\n",
       "      <td>2014</td>\n",
       "      <td>Diesel</td>\n",
       "      <td>Manual</td>\n",
       "      <td>2009-2013 Diesel Comfortline 1.2L</td>\n",
       "      <td>1st</td>\n",
       "      <td>Jaipur</td>\n",
       "    </tr>\n",
       "    <tr>\n",
       "      <th>1</th>\n",
       "      <td>₹ 6,40,000</td>\n",
       "      <td>Mahindra</td>\n",
       "      <td>XUV500</td>\n",
       "      <td>85,000 km</td>\n",
       "      <td>2013</td>\n",
       "      <td>Diesel</td>\n",
       "      <td>Manual</td>\n",
       "      <td>2011-2015 W8 2WD</td>\n",
       "      <td>2nd</td>\n",
       "      <td>Jaipur</td>\n",
       "    </tr>\n",
       "    <tr>\n",
       "      <th>2</th>\n",
       "      <td>₹ 22,00,000</td>\n",
       "      <td>Ford</td>\n",
       "      <td>Endeavour</td>\n",
       "      <td>77,300 km</td>\n",
       "      <td>2016</td>\n",
       "      <td>Diesel</td>\n",
       "      <td>Automatic</td>\n",
       "      <td>3.2 Titanium AT 4X4</td>\n",
       "      <td>2nd</td>\n",
       "      <td>Jaipur</td>\n",
       "    </tr>\n",
       "    <tr>\n",
       "      <th>3</th>\n",
       "      <td>Na</td>\n",
       "      <td>Na</td>\n",
       "      <td>Na</td>\n",
       "      <td>Na</td>\n",
       "      <td>Na</td>\n",
       "      <td>Na</td>\n",
       "      <td>Na</td>\n",
       "      <td>Na</td>\n",
       "      <td>Na</td>\n",
       "      <td>Jaipur</td>\n",
       "    </tr>\n",
       "    <tr>\n",
       "      <th>4</th>\n",
       "      <td>Na</td>\n",
       "      <td>Na</td>\n",
       "      <td>Na</td>\n",
       "      <td>Na</td>\n",
       "      <td>Na</td>\n",
       "      <td>Na</td>\n",
       "      <td>Na</td>\n",
       "      <td>Na</td>\n",
       "      <td>Na</td>\n",
       "      <td>Jaipur</td>\n",
       "    </tr>\n",
       "  </tbody>\n",
       "</table>\n",
       "</div>"
      ],
      "text/plain": [
       "         Price       Brand      Model Kilometers_driven  Year    Fuel  \\\n",
       "0   ₹ 4,35,000  Volkswagen       Polo         80,000 km  2014  Diesel   \n",
       "1   ₹ 6,40,000    Mahindra     XUV500         85,000 km  2013  Diesel   \n",
       "2  ₹ 22,00,000        Ford  Endeavour         77,300 km  2016  Diesel   \n",
       "3           Na          Na         Na                Na    Na      Na   \n",
       "4           Na          Na         Na                Na    Na      Na   \n",
       "\n",
       "  Transmission                            Variant No_owners Location  \n",
       "0       Manual  2009-2013 Diesel Comfortline 1.2L       1st   Jaipur  \n",
       "1       Manual                   2011-2015 W8 2WD       2nd   Jaipur  \n",
       "2    Automatic                3.2 Titanium AT 4X4       2nd   Jaipur  \n",
       "3           Na                                 Na        Na   Jaipur  \n",
       "4           Na                                 Na        Na   Jaipur  "
      ]
     },
     "execution_count": 205,
     "metadata": {},
     "output_type": "execute_result"
    }
   ],
   "source": [
    "olx18.head()"
   ]
  },
  {
   "cell_type": "code",
   "execution_count": 206,
   "metadata": {},
   "outputs": [],
   "source": [
    "driver.close()"
   ]
  },
  {
   "cell_type": "code",
   "execution_count": 207,
   "metadata": {},
   "outputs": [],
   "source": [
    "#Patna"
   ]
  },
  {
   "cell_type": "code",
   "execution_count": 208,
   "metadata": {},
   "outputs": [],
   "source": [
    "driver=webdriver.Firefox(\"C:\\geckodriver-v0.29.1-win64\")"
   ]
  },
  {
   "cell_type": "code",
   "execution_count": 209,
   "metadata": {},
   "outputs": [],
   "source": [
    "driver.get(\"https://www.olx.in/\")"
   ]
  },
  {
   "cell_type": "code",
   "execution_count": 210,
   "metadata": {},
   "outputs": [],
   "source": [
    "location=driver.find_element_by_xpath(\"//input[@class='_2xvhw']\") #finding option to enter the city name"
   ]
  },
  {
   "cell_type": "code",
   "execution_count": 211,
   "metadata": {},
   "outputs": [],
   "source": [
    "location.clear()"
   ]
  },
  {
   "cell_type": "code",
   "execution_count": 212,
   "metadata": {},
   "outputs": [],
   "source": [
    "location.send_keys(\"Patna\")"
   ]
  },
  {
   "cell_type": "code",
   "execution_count": 213,
   "metadata": {},
   "outputs": [],
   "source": [
    "driver.find_element_by_xpath(\"//div[@class='_2HzJo']/div[1]\").click()"
   ]
  },
  {
   "cell_type": "code",
   "execution_count": 214,
   "metadata": {},
   "outputs": [],
   "source": [
    "cars=driver.find_element_by_xpath(\"//form[@class='rui-1Azjs _20jkh']/fieldset/div/input\") \n",
    "#finding option to enter cars in search option"
   ]
  },
  {
   "cell_type": "code",
   "execution_count": 215,
   "metadata": {},
   "outputs": [],
   "source": [
    "cars.send_keys(\"Cars\")"
   ]
  },
  {
   "cell_type": "code",
   "execution_count": 216,
   "metadata": {},
   "outputs": [],
   "source": [
    "driver.find_element_by_xpath(\"//div[@class='_3b3oR']\").click() #click search option"
   ]
  },
  {
   "cell_type": "code",
   "execution_count": 217,
   "metadata": {},
   "outputs": [],
   "source": [
    "load_more=driver.find_element_by_xpath(\"//button[@class='rui-39-wj rui-3evoE rui-1JPTg']\") \n",
    "#selecting load more option to load for more cars"
   ]
  },
  {
   "cell_type": "code",
   "execution_count": 218,
   "metadata": {},
   "outputs": [],
   "source": [
    "load_more.click()"
   ]
  },
  {
   "cell_type": "code",
   "execution_count": 219,
   "metadata": {},
   "outputs": [],
   "source": [
    "urls=[] #collecting urls for each car\n",
    "for i in driver.find_elements_by_xpath(\"//ul[@class='rl3f9 _3mXOU']/li/a\"):\n",
    "    urls.append(i.get_attribute('href'))\n",
    "time.sleep(4)\n",
    "driver.find_element_by_xpath(\"//button[@class='rui-39-wj rui-3evoE rui-1JPTg']\").click()\n",
    "while True:\n",
    "    time.sleep(3)\n",
    "    for j in driver.find_elements_by_xpath(\"//ul[@class='rl3f9 _3mXOU']/li/a\"):\n",
    "        urls.append(j.get_attribute('href'))\n",
    "    try:\n",
    "        driver.find_element_by_xpath(\"//button[@class='rui-39-wj rui-3evoE rui-1JPTg'][2]\").click()\n",
    "        time.sleep(5)\n",
    "    except:\n",
    "        break"
   ]
  },
  {
   "cell_type": "code",
   "execution_count": 220,
   "metadata": {},
   "outputs": [
    {
     "data": {
      "text/plain": [
       "100"
      ]
     },
     "execution_count": 220,
     "metadata": {},
     "output_type": "execute_result"
    }
   ],
   "source": [
    "len(urls)"
   ]
  },
  {
   "cell_type": "code",
   "execution_count": 221,
   "metadata": {},
   "outputs": [],
   "source": [
    "#Scrapping data of each cars:\n",
    "Price=[]\n",
    "Brand=[]\n",
    "Model=[]\n",
    "Kilometers_driven=[]\n",
    "Year=[]\n",
    "Fuel=[]\n",
    "Transmission=[]\n",
    "Variant=[]\n",
    "No_owners=[]"
   ]
  },
  {
   "cell_type": "code",
   "execution_count": 222,
   "metadata": {},
   "outputs": [],
   "source": [
    "for i in urls[0:50]:\n",
    "    driver.get(i)\n",
    "    time.sleep(5)\n",
    "    try:\n",
    "        first=driver.find_element_by_xpath(\"//section[@class='_2wMiF']/span[1]\")\n",
    "        Price.append(first.text)\n",
    "    except NoSuchElementException:\n",
    "        Price.append(\"Na\")\n",
    "    try:\n",
    "        second=driver.find_element_by_xpath(\"//div[@class='_3JPEe']/div[1]/div/span[2]\")\n",
    "        Brand.append(second.text)\n",
    "    except NoSuchElementException:\n",
    "        Brand.append(\"Na\")\n",
    "        \n",
    "    try:\n",
    "        third=driver.find_element_by_xpath(\"//div[@class='_3JPEe']/div[2]/div/span[2]\")\n",
    "        Model.append(third.text)\n",
    "    except NoSuchElementException:\n",
    "        Model.append(\"Na\")\n",
    "        \n",
    "    try:\n",
    "        fourt=driver.find_element_by_xpath(\"//div[@class='_3JPEe']/div[3]/div/span[2]\")\n",
    "        Variant.append(fourt.text)\n",
    "    except NoSuchElementException:\n",
    "        Variant.append(\"Na\")\n",
    "        \n",
    "    try:\n",
    "        fifth=driver.find_element_by_xpath(\"//div[@class='_3JPEe']/div[4]/div/span[2]\")\n",
    "        Year.append(fifth.text)\n",
    "    except NoSuchElementException:\n",
    "        Year.append(\"Na\")\n",
    "        \n",
    "            \n",
    "    try:\n",
    "        Sixth=driver.find_element_by_xpath(\"//div[@class='_3JPEe']/div[5]/div/span[2]\")\n",
    "        Fuel.append(Sixth.text)\n",
    "    except NoSuchElementException:\n",
    "        Fuel.append(\"Na\")\n",
    "        \n",
    "    try:\n",
    "        Seventh=driver.find_element_by_xpath(\"//div[@class='_3JPEe']/div[6]/div/span[2]\")\n",
    "        Transmission.append(Seventh.text)\n",
    "    except NoSuchElementException:\n",
    "        Transmission.append(\"Na\")\n",
    "        \n",
    "    try:\n",
    "        Eighth=driver.find_element_by_xpath(\"//div[@class='_3JPEe']/div[7]/div/span[2]\")\n",
    "        Kilometers_driven.append(Eighth.text)\n",
    "    except NoSuchElementException:\n",
    "        Kilometers_driven.append(\"Na\")\n",
    "        \n",
    "    try:\n",
    "        Ninth=driver.find_element_by_xpath(\"//div[@class='_3JPEe']/div[8]/div/span[2]\")\n",
    "        No_owners.append(Ninth.text)\n",
    "    except NoSuchElementException:\n",
    "        No_owners.append(\"Na\")        \n",
    "                "
   ]
  },
  {
   "cell_type": "code",
   "execution_count": 223,
   "metadata": {},
   "outputs": [],
   "source": [
    "olx19=pd.DataFrame({})\n",
    "olx19['Price']=Price\n",
    "olx19['Brand']=Brand\n",
    "olx19['Model']=Model\n",
    "olx19['Kilometers_driven']=Kilometers_driven\n",
    "olx19['Year']=Year\n",
    "olx19['Fuel']=Fuel\n",
    "olx19['Transmission']=Transmission\n",
    "olx19['Variant']=Variant\n",
    "olx19['No_owners']=No_owners\n",
    "olx19['Location']='Patna'"
   ]
  },
  {
   "cell_type": "code",
   "execution_count": 224,
   "metadata": {},
   "outputs": [
    {
     "data": {
      "text/html": [
       "<div>\n",
       "<style scoped>\n",
       "    .dataframe tbody tr th:only-of-type {\n",
       "        vertical-align: middle;\n",
       "    }\n",
       "\n",
       "    .dataframe tbody tr th {\n",
       "        vertical-align: top;\n",
       "    }\n",
       "\n",
       "    .dataframe thead th {\n",
       "        text-align: right;\n",
       "    }\n",
       "</style>\n",
       "<table border=\"1\" class=\"dataframe\">\n",
       "  <thead>\n",
       "    <tr style=\"text-align: right;\">\n",
       "      <th></th>\n",
       "      <th>Price</th>\n",
       "      <th>Brand</th>\n",
       "      <th>Model</th>\n",
       "      <th>Kilometers_driven</th>\n",
       "      <th>Year</th>\n",
       "      <th>Fuel</th>\n",
       "      <th>Transmission</th>\n",
       "      <th>Variant</th>\n",
       "      <th>No_owners</th>\n",
       "      <th>Location</th>\n",
       "    </tr>\n",
       "  </thead>\n",
       "  <tbody>\n",
       "    <tr>\n",
       "      <th>0</th>\n",
       "      <td>₹ 12,50,000</td>\n",
       "      <td>Kia</td>\n",
       "      <td>Others</td>\n",
       "      <td>2,800 km</td>\n",
       "      <td>2021</td>\n",
       "      <td>Petrol</td>\n",
       "      <td>Automatic</td>\n",
       "      <td>Others</td>\n",
       "      <td>1st</td>\n",
       "      <td>Patna</td>\n",
       "    </tr>\n",
       "    <tr>\n",
       "      <th>1</th>\n",
       "      <td>₹ 5,90,000</td>\n",
       "      <td>Tata</td>\n",
       "      <td>Tigor</td>\n",
       "      <td>22,800 km</td>\n",
       "      <td>2020</td>\n",
       "      <td>Petrol</td>\n",
       "      <td>Manual</td>\n",
       "      <td>XZ Plus</td>\n",
       "      <td>1st</td>\n",
       "      <td>Patna</td>\n",
       "    </tr>\n",
       "    <tr>\n",
       "      <th>2</th>\n",
       "      <td>₹ 2,85,000</td>\n",
       "      <td>Tata</td>\n",
       "      <td>Indigo Ecs</td>\n",
       "      <td>84,600 km</td>\n",
       "      <td>2016</td>\n",
       "      <td>Diesel</td>\n",
       "      <td>Automatic</td>\n",
       "      <td>Others</td>\n",
       "      <td>1st</td>\n",
       "      <td>Patna</td>\n",
       "    </tr>\n",
       "    <tr>\n",
       "      <th>3</th>\n",
       "      <td>₹ 5,20,000</td>\n",
       "      <td>Hyundai</td>\n",
       "      <td>Santro</td>\n",
       "      <td>7,000 km</td>\n",
       "      <td>2020</td>\n",
       "      <td>Petrol</td>\n",
       "      <td>Manual</td>\n",
       "      <td>Asta</td>\n",
       "      <td>1st</td>\n",
       "      <td>Patna</td>\n",
       "    </tr>\n",
       "    <tr>\n",
       "      <th>4</th>\n",
       "      <td>₹ 1,50,000</td>\n",
       "      <td>Chevrolet</td>\n",
       "      <td>Aveo U-VA</td>\n",
       "      <td>45,000 km</td>\n",
       "      <td>2010</td>\n",
       "      <td>Petrol</td>\n",
       "      <td>Manual</td>\n",
       "      <td>1.2 LS</td>\n",
       "      <td>1st</td>\n",
       "      <td>Patna</td>\n",
       "    </tr>\n",
       "  </tbody>\n",
       "</table>\n",
       "</div>"
      ],
      "text/plain": [
       "         Price      Brand       Model Kilometers_driven  Year    Fuel  \\\n",
       "0  ₹ 12,50,000        Kia      Others          2,800 km  2021  Petrol   \n",
       "1   ₹ 5,90,000       Tata       Tigor         22,800 km  2020  Petrol   \n",
       "2   ₹ 2,85,000       Tata  Indigo Ecs         84,600 km  2016  Diesel   \n",
       "3   ₹ 5,20,000    Hyundai      Santro          7,000 km  2020  Petrol   \n",
       "4   ₹ 1,50,000  Chevrolet   Aveo U-VA         45,000 km  2010  Petrol   \n",
       "\n",
       "  Transmission  Variant No_owners Location  \n",
       "0    Automatic   Others       1st    Patna  \n",
       "1       Manual  XZ Plus       1st    Patna  \n",
       "2    Automatic   Others       1st    Patna  \n",
       "3       Manual     Asta       1st    Patna  \n",
       "4       Manual   1.2 LS       1st    Patna  "
      ]
     },
     "execution_count": 224,
     "metadata": {},
     "output_type": "execute_result"
    }
   ],
   "source": [
    "olx19.head()"
   ]
  },
  {
   "cell_type": "code",
   "execution_count": 225,
   "metadata": {},
   "outputs": [],
   "source": [
    "driver.close()"
   ]
  },
  {
   "cell_type": "code",
   "execution_count": 226,
   "metadata": {},
   "outputs": [],
   "source": [
    "#Visakhapatnam"
   ]
  },
  {
   "cell_type": "code",
   "execution_count": 227,
   "metadata": {},
   "outputs": [],
   "source": [
    "driver=webdriver.Firefox(\"C:\\geckodriver-v0.29.1-win64\")"
   ]
  },
  {
   "cell_type": "code",
   "execution_count": 228,
   "metadata": {},
   "outputs": [],
   "source": [
    "driver.get(\"https://www.olx.in/\")"
   ]
  },
  {
   "cell_type": "code",
   "execution_count": 229,
   "metadata": {},
   "outputs": [],
   "source": [
    "location=driver.find_element_by_xpath(\"//input[@class='_2xvhw']\") #finding option to enter the city name"
   ]
  },
  {
   "cell_type": "code",
   "execution_count": 230,
   "metadata": {},
   "outputs": [],
   "source": [
    "location.clear()"
   ]
  },
  {
   "cell_type": "code",
   "execution_count": 231,
   "metadata": {},
   "outputs": [],
   "source": [
    "location.send_keys(\"Visakhapatnam\")"
   ]
  },
  {
   "cell_type": "code",
   "execution_count": 232,
   "metadata": {},
   "outputs": [],
   "source": [
    "driver.find_element_by_xpath(\"//div[@class='_2HzJo']/div[1]\").click()"
   ]
  },
  {
   "cell_type": "code",
   "execution_count": 233,
   "metadata": {},
   "outputs": [],
   "source": [
    "cars=driver.find_element_by_xpath(\"//form[@class='rui-1Azjs _20jkh']/fieldset/div/input\") \n",
    "#finding option to enter cars in search option"
   ]
  },
  {
   "cell_type": "code",
   "execution_count": 234,
   "metadata": {},
   "outputs": [],
   "source": [
    "cars.send_keys(\"Cars\")"
   ]
  },
  {
   "cell_type": "code",
   "execution_count": 235,
   "metadata": {},
   "outputs": [],
   "source": [
    "driver.find_element_by_xpath(\"//div[@class='_3b3oR']\").click() #click search option"
   ]
  },
  {
   "cell_type": "code",
   "execution_count": 236,
   "metadata": {},
   "outputs": [],
   "source": [
    "load_more=driver.find_element_by_xpath(\"//button[@class='rui-39-wj rui-3evoE rui-1JPTg']\") \n",
    "#selecting load more option to load for more cars"
   ]
  },
  {
   "cell_type": "code",
   "execution_count": 237,
   "metadata": {},
   "outputs": [],
   "source": [
    "load_more.click()"
   ]
  },
  {
   "cell_type": "code",
   "execution_count": 238,
   "metadata": {},
   "outputs": [],
   "source": [
    "urls=[] #collecting urls for each car\n",
    "for i in driver.find_elements_by_xpath(\"//ul[@class='rl3f9 _3mXOU']/li/a\"):\n",
    "    urls.append(i.get_attribute('href'))\n",
    "time.sleep(4)\n",
    "driver.find_element_by_xpath(\"//button[@class='rui-39-wj rui-3evoE rui-1JPTg']\").click()\n",
    "while True:\n",
    "    time.sleep(3)\n",
    "    for j in driver.find_elements_by_xpath(\"//ul[@class='rl3f9 _3mXOU']/li/a\"):\n",
    "        urls.append(j.get_attribute('href'))\n",
    "    try:\n",
    "        driver.find_element_by_xpath(\"//button[@class='rui-39-wj rui-3evoE rui-1JPTg'][2]\").click()\n",
    "        time.sleep(5)\n",
    "    except:\n",
    "        break"
   ]
  },
  {
   "cell_type": "code",
   "execution_count": 239,
   "metadata": {},
   "outputs": [
    {
     "data": {
      "text/plain": [
       "100"
      ]
     },
     "execution_count": 239,
     "metadata": {},
     "output_type": "execute_result"
    }
   ],
   "source": [
    "len(urls)"
   ]
  },
  {
   "cell_type": "code",
   "execution_count": 240,
   "metadata": {},
   "outputs": [],
   "source": [
    "#Scrapping data of each cars:\n",
    "Price=[]\n",
    "Brand=[]\n",
    "Model=[]\n",
    "Kilometers_driven=[]\n",
    "Year=[]\n",
    "Fuel=[]\n",
    "Transmission=[]\n",
    "Variant=[]\n",
    "No_owners=[]"
   ]
  },
  {
   "cell_type": "code",
   "execution_count": 241,
   "metadata": {},
   "outputs": [],
   "source": [
    "for i in urls[0:50]:\n",
    "    driver.get(i)\n",
    "    time.sleep(5)\n",
    "    try:\n",
    "        first=driver.find_element_by_xpath(\"//section[@class='_2wMiF']/span[1]\")\n",
    "        Price.append(first.text)\n",
    "    except NoSuchElementException:\n",
    "        Price.append(\"Na\")\n",
    "    try:\n",
    "        second=driver.find_element_by_xpath(\"//div[@class='_3JPEe']/div[1]/div/span[2]\")\n",
    "        Brand.append(second.text)\n",
    "    except NoSuchElementException:\n",
    "        Brand.append(\"Na\")\n",
    "        \n",
    "    try:\n",
    "        third=driver.find_element_by_xpath(\"//div[@class='_3JPEe']/div[2]/div/span[2]\")\n",
    "        Model.append(third.text)\n",
    "    except NoSuchElementException:\n",
    "        Model.append(\"Na\")\n",
    "        \n",
    "    try:\n",
    "        fourt=driver.find_element_by_xpath(\"//div[@class='_3JPEe']/div[3]/div/span[2]\")\n",
    "        Variant.append(fourt.text)\n",
    "    except NoSuchElementException:\n",
    "        Variant.append(\"Na\")\n",
    "        \n",
    "    try:\n",
    "        fifth=driver.find_element_by_xpath(\"//div[@class='_3JPEe']/div[4]/div/span[2]\")\n",
    "        Year.append(fifth.text)\n",
    "    except NoSuchElementException:\n",
    "        Year.append(\"Na\")\n",
    "        \n",
    "            \n",
    "    try:\n",
    "        Sixth=driver.find_element_by_xpath(\"//div[@class='_3JPEe']/div[5]/div/span[2]\")\n",
    "        Fuel.append(Sixth.text)\n",
    "    except NoSuchElementException:\n",
    "        Fuel.append(\"Na\")\n",
    "        \n",
    "    try:\n",
    "        Seventh=driver.find_element_by_xpath(\"//div[@class='_3JPEe']/div[6]/div/span[2]\")\n",
    "        Transmission.append(Seventh.text)\n",
    "    except NoSuchElementException:\n",
    "        Transmission.append(\"Na\")\n",
    "        \n",
    "    try:\n",
    "        Eighth=driver.find_element_by_xpath(\"//div[@class='_3JPEe']/div[7]/div/span[2]\")\n",
    "        Kilometers_driven.append(Eighth.text)\n",
    "    except NoSuchElementException:\n",
    "        Kilometers_driven.append(\"Na\")\n",
    "        \n",
    "    try:\n",
    "        Ninth=driver.find_element_by_xpath(\"//div[@class='_3JPEe']/div[8]/div/span[2]\")\n",
    "        No_owners.append(Ninth.text)\n",
    "    except NoSuchElementException:\n",
    "        No_owners.append(\"Na\")        \n",
    "                "
   ]
  },
  {
   "cell_type": "code",
   "execution_count": 242,
   "metadata": {},
   "outputs": [],
   "source": [
    "olx20=pd.DataFrame({})\n",
    "olx20['Price']=Price\n",
    "olx20['Brand']=Brand\n",
    "olx20['Model']=Model\n",
    "olx20['Kilometers_driven']=Kilometers_driven\n",
    "olx20['Year']=Year\n",
    "olx20['Fuel']=Fuel\n",
    "olx20['Transmission']=Transmission\n",
    "olx20['Variant']=Variant\n",
    "olx20['No_owners']=No_owners\n",
    "olx20['Location']='Visakhapatnam'"
   ]
  },
  {
   "cell_type": "code",
   "execution_count": 243,
   "metadata": {},
   "outputs": [
    {
     "data": {
      "text/html": [
       "<div>\n",
       "<style scoped>\n",
       "    .dataframe tbody tr th:only-of-type {\n",
       "        vertical-align: middle;\n",
       "    }\n",
       "\n",
       "    .dataframe tbody tr th {\n",
       "        vertical-align: top;\n",
       "    }\n",
       "\n",
       "    .dataframe thead th {\n",
       "        text-align: right;\n",
       "    }\n",
       "</style>\n",
       "<table border=\"1\" class=\"dataframe\">\n",
       "  <thead>\n",
       "    <tr style=\"text-align: right;\">\n",
       "      <th></th>\n",
       "      <th>Price</th>\n",
       "      <th>Brand</th>\n",
       "      <th>Model</th>\n",
       "      <th>Kilometers_driven</th>\n",
       "      <th>Year</th>\n",
       "      <th>Fuel</th>\n",
       "      <th>Transmission</th>\n",
       "      <th>Variant</th>\n",
       "      <th>No_owners</th>\n",
       "      <th>Location</th>\n",
       "    </tr>\n",
       "  </thead>\n",
       "  <tbody>\n",
       "    <tr>\n",
       "      <th>0</th>\n",
       "      <td>₹ 5,70,000</td>\n",
       "      <td>Honda</td>\n",
       "      <td>Mobilio</td>\n",
       "      <td>106,000 km</td>\n",
       "      <td>2014</td>\n",
       "      <td>Diesel</td>\n",
       "      <td>Manual</td>\n",
       "      <td>V i-DTEC</td>\n",
       "      <td>2nd</td>\n",
       "      <td>Visakhapatnam</td>\n",
       "    </tr>\n",
       "    <tr>\n",
       "      <th>1</th>\n",
       "      <td>₹ 4,50,000</td>\n",
       "      <td>Honda</td>\n",
       "      <td>City</td>\n",
       "      <td>79,000 km</td>\n",
       "      <td>2011</td>\n",
       "      <td>Petrol</td>\n",
       "      <td>Manual</td>\n",
       "      <td>2011-2013 V MT</td>\n",
       "      <td>2nd</td>\n",
       "      <td>Visakhapatnam</td>\n",
       "    </tr>\n",
       "    <tr>\n",
       "      <th>2</th>\n",
       "      <td>₹ 2,60,000</td>\n",
       "      <td>Hyundai</td>\n",
       "      <td>i10</td>\n",
       "      <td>52,300 km</td>\n",
       "      <td>2010</td>\n",
       "      <td>Petrol</td>\n",
       "      <td>Manual</td>\n",
       "      <td>1.2 Kappa Magna</td>\n",
       "      <td>2nd</td>\n",
       "      <td>Visakhapatnam</td>\n",
       "    </tr>\n",
       "    <tr>\n",
       "      <th>3</th>\n",
       "      <td>₹ 4,05,000</td>\n",
       "      <td>Volkswagen</td>\n",
       "      <td>Polo</td>\n",
       "      <td>105,000 km</td>\n",
       "      <td>2014</td>\n",
       "      <td>Diesel</td>\n",
       "      <td>Manual</td>\n",
       "      <td>1.5 TDI Comfortline</td>\n",
       "      <td>2nd</td>\n",
       "      <td>Visakhapatnam</td>\n",
       "    </tr>\n",
       "    <tr>\n",
       "      <th>4</th>\n",
       "      <td>₹ 2,00,000</td>\n",
       "      <td>Nissan</td>\n",
       "      <td>Micra</td>\n",
       "      <td>101,600 km</td>\n",
       "      <td>2012</td>\n",
       "      <td>Diesel</td>\n",
       "      <td>Manual</td>\n",
       "      <td>2010-2012 XV Primo</td>\n",
       "      <td>1st</td>\n",
       "      <td>Visakhapatnam</td>\n",
       "    </tr>\n",
       "  </tbody>\n",
       "</table>\n",
       "</div>"
      ],
      "text/plain": [
       "        Price       Brand    Model Kilometers_driven  Year    Fuel  \\\n",
       "0  ₹ 5,70,000       Honda  Mobilio        106,000 km  2014  Diesel   \n",
       "1  ₹ 4,50,000       Honda     City         79,000 km  2011  Petrol   \n",
       "2  ₹ 2,60,000     Hyundai      i10         52,300 km  2010  Petrol   \n",
       "3  ₹ 4,05,000  Volkswagen     Polo        105,000 km  2014  Diesel   \n",
       "4  ₹ 2,00,000      Nissan    Micra        101,600 km  2012  Diesel   \n",
       "\n",
       "  Transmission              Variant No_owners       Location  \n",
       "0       Manual             V i-DTEC       2nd  Visakhapatnam  \n",
       "1       Manual       2011-2013 V MT       2nd  Visakhapatnam  \n",
       "2       Manual      1.2 Kappa Magna       2nd  Visakhapatnam  \n",
       "3       Manual  1.5 TDI Comfortline       2nd  Visakhapatnam  \n",
       "4       Manual   2010-2012 XV Primo       1st  Visakhapatnam  "
      ]
     },
     "execution_count": 243,
     "metadata": {},
     "output_type": "execute_result"
    }
   ],
   "source": [
    "olx20.head()"
   ]
  },
  {
   "cell_type": "code",
   "execution_count": 244,
   "metadata": {},
   "outputs": [],
   "source": [
    "driver.close()"
   ]
  },
  {
   "cell_type": "code",
   "execution_count": 245,
   "metadata": {},
   "outputs": [],
   "source": [
    "#Gangtok"
   ]
  },
  {
   "cell_type": "code",
   "execution_count": 246,
   "metadata": {},
   "outputs": [],
   "source": [
    "driver=webdriver.Firefox(\"C:\\geckodriver-v0.29.1-win64\")"
   ]
  },
  {
   "cell_type": "code",
   "execution_count": 247,
   "metadata": {},
   "outputs": [],
   "source": [
    "driver.get(\"https://www.olx.in/\")"
   ]
  },
  {
   "cell_type": "code",
   "execution_count": 248,
   "metadata": {},
   "outputs": [],
   "source": [
    "location=driver.find_element_by_xpath(\"//input[@class='_2xvhw']\") #finding option to enter the city name"
   ]
  },
  {
   "cell_type": "code",
   "execution_count": 249,
   "metadata": {},
   "outputs": [],
   "source": [
    "location.clear()"
   ]
  },
  {
   "cell_type": "code",
   "execution_count": 250,
   "metadata": {},
   "outputs": [],
   "source": [
    "location.send_keys(\"Gangtok\")"
   ]
  },
  {
   "cell_type": "code",
   "execution_count": 251,
   "metadata": {},
   "outputs": [],
   "source": [
    "driver.find_element_by_xpath(\"//div[@class='_2HzJo']/div[1]\").click()"
   ]
  },
  {
   "cell_type": "code",
   "execution_count": 252,
   "metadata": {},
   "outputs": [],
   "source": [
    "cars=driver.find_element_by_xpath(\"//form[@class='rui-1Azjs _20jkh']/fieldset/div/input\") \n",
    "#finding option to enter cars in search option"
   ]
  },
  {
   "cell_type": "code",
   "execution_count": 253,
   "metadata": {},
   "outputs": [],
   "source": [
    "cars.send_keys(\"Cars\")"
   ]
  },
  {
   "cell_type": "code",
   "execution_count": 254,
   "metadata": {},
   "outputs": [],
   "source": [
    "driver.find_element_by_xpath(\"//div[@class='_3b3oR']\").click() #click search option"
   ]
  },
  {
   "cell_type": "code",
   "execution_count": 255,
   "metadata": {},
   "outputs": [],
   "source": [
    "load_more=driver.find_element_by_xpath(\"//button[@class='rui-39-wj rui-3evoE rui-1JPTg']\") \n",
    "#selecting load more option to load for more cars"
   ]
  },
  {
   "cell_type": "code",
   "execution_count": 256,
   "metadata": {},
   "outputs": [],
   "source": [
    "load_more.click()"
   ]
  },
  {
   "cell_type": "code",
   "execution_count": 257,
   "metadata": {},
   "outputs": [],
   "source": [
    "urls=[] #collecting urls for each car\n",
    "for i in driver.find_elements_by_xpath(\"//ul[@class='rl3f9 _3mXOU']/li/a\"):\n",
    "    urls.append(i.get_attribute('href'))\n",
    "time.sleep(4)\n",
    "driver.find_element_by_xpath(\"//button[@class='rui-39-wj rui-3evoE rui-1JPTg']\").click()\n",
    "while True:\n",
    "    time.sleep(3)\n",
    "    for j in driver.find_elements_by_xpath(\"//ul[@class='rl3f9 _3mXOU']/li/a\"):\n",
    "        urls.append(j.get_attribute('href'))\n",
    "    try:\n",
    "        driver.find_element_by_xpath(\"//button[@class='rui-39-wj rui-3evoE rui-1JPTg'][2]\").click()\n",
    "        time.sleep(5)\n",
    "    except:\n",
    "        break"
   ]
  },
  {
   "cell_type": "code",
   "execution_count": 258,
   "metadata": {},
   "outputs": [
    {
     "data": {
      "text/plain": [
       "100"
      ]
     },
     "execution_count": 258,
     "metadata": {},
     "output_type": "execute_result"
    }
   ],
   "source": [
    "len(urls)"
   ]
  },
  {
   "cell_type": "code",
   "execution_count": 259,
   "metadata": {},
   "outputs": [],
   "source": [
    "#Scrapping data of each cars:\n",
    "Price=[]\n",
    "Brand=[]\n",
    "Model=[]\n",
    "Kilometers_driven=[]\n",
    "Year=[]\n",
    "Fuel=[]\n",
    "Transmission=[]\n",
    "Variant=[]\n",
    "No_owners=[]"
   ]
  },
  {
   "cell_type": "code",
   "execution_count": 260,
   "metadata": {},
   "outputs": [],
   "source": [
    "for i in urls[0:50]:\n",
    "    driver.get(i)\n",
    "    time.sleep(5)\n",
    "    try:\n",
    "        first=driver.find_element_by_xpath(\"//section[@class='_2wMiF']/span[1]\")\n",
    "        Price.append(first.text)\n",
    "    except NoSuchElementException:\n",
    "        Price.append(\"Na\")\n",
    "    try:\n",
    "        second=driver.find_element_by_xpath(\"//div[@class='_3JPEe']/div[1]/div/span[2]\")\n",
    "        Brand.append(second.text)\n",
    "    except NoSuchElementException:\n",
    "        Brand.append(\"Na\")\n",
    "        \n",
    "    try:\n",
    "        third=driver.find_element_by_xpath(\"//div[@class='_3JPEe']/div[2]/div/span[2]\")\n",
    "        Model.append(third.text)\n",
    "    except NoSuchElementException:\n",
    "        Model.append(\"Na\")\n",
    "        \n",
    "    try:\n",
    "        fourt=driver.find_element_by_xpath(\"//div[@class='_3JPEe']/div[3]/div/span[2]\")\n",
    "        Variant.append(fourt.text)\n",
    "    except NoSuchElementException:\n",
    "        Variant.append(\"Na\")\n",
    "        \n",
    "    try:\n",
    "        fifth=driver.find_element_by_xpath(\"//div[@class='_3JPEe']/div[4]/div/span[2]\")\n",
    "        Year.append(fifth.text)\n",
    "    except NoSuchElementException:\n",
    "        Year.append(\"Na\")\n",
    "        \n",
    "            \n",
    "    try:\n",
    "        Sixth=driver.find_element_by_xpath(\"//div[@class='_3JPEe']/div[5]/div/span[2]\")\n",
    "        Fuel.append(Sixth.text)\n",
    "    except NoSuchElementException:\n",
    "        Fuel.append(\"Na\")\n",
    "        \n",
    "    try:\n",
    "        Seventh=driver.find_element_by_xpath(\"//div[@class='_3JPEe']/div[6]/div/span[2]\")\n",
    "        Transmission.append(Seventh.text)\n",
    "    except NoSuchElementException:\n",
    "        Transmission.append(\"Na\")\n",
    "        \n",
    "    try:\n",
    "        Eighth=driver.find_element_by_xpath(\"//div[@class='_3JPEe']/div[7]/div/span[2]\")\n",
    "        Kilometers_driven.append(Eighth.text)\n",
    "    except NoSuchElementException:\n",
    "        Kilometers_driven.append(\"Na\")\n",
    "        \n",
    "    try:\n",
    "        Ninth=driver.find_element_by_xpath(\"//div[@class='_3JPEe']/div[8]/div/span[2]\")\n",
    "        No_owners.append(Ninth.text)\n",
    "    except NoSuchElementException:\n",
    "        No_owners.append(\"Na\")        \n",
    "                "
   ]
  },
  {
   "cell_type": "code",
   "execution_count": 261,
   "metadata": {},
   "outputs": [],
   "source": [
    "olx21=pd.DataFrame({})\n",
    "olx21['Price']=Price\n",
    "olx21['Brand']=Brand\n",
    "olx21['Model']=Model\n",
    "olx21['Kilometers_driven']=Kilometers_driven\n",
    "olx21['Year']=Year\n",
    "olx21['Fuel']=Fuel\n",
    "olx21['Transmission']=Transmission\n",
    "olx21['Variant']=Variant\n",
    "olx21['No_owners']=No_owners\n",
    "olx21['Location']='Gangtok'"
   ]
  },
  {
   "cell_type": "code",
   "execution_count": 262,
   "metadata": {},
   "outputs": [
    {
     "data": {
      "text/html": [
       "<div>\n",
       "<style scoped>\n",
       "    .dataframe tbody tr th:only-of-type {\n",
       "        vertical-align: middle;\n",
       "    }\n",
       "\n",
       "    .dataframe tbody tr th {\n",
       "        vertical-align: top;\n",
       "    }\n",
       "\n",
       "    .dataframe thead th {\n",
       "        text-align: right;\n",
       "    }\n",
       "</style>\n",
       "<table border=\"1\" class=\"dataframe\">\n",
       "  <thead>\n",
       "    <tr style=\"text-align: right;\">\n",
       "      <th></th>\n",
       "      <th>Price</th>\n",
       "      <th>Brand</th>\n",
       "      <th>Model</th>\n",
       "      <th>Kilometers_driven</th>\n",
       "      <th>Year</th>\n",
       "      <th>Fuel</th>\n",
       "      <th>Transmission</th>\n",
       "      <th>Variant</th>\n",
       "      <th>No_owners</th>\n",
       "      <th>Location</th>\n",
       "    </tr>\n",
       "  </thead>\n",
       "  <tbody>\n",
       "    <tr>\n",
       "      <th>0</th>\n",
       "      <td>₹ 5,60,000</td>\n",
       "      <td>Renault</td>\n",
       "      <td>Duster</td>\n",
       "      <td>85,000 km</td>\n",
       "      <td>2012</td>\n",
       "      <td>Diesel</td>\n",
       "      <td>Manual</td>\n",
       "      <td>2012-2015 110PS Diesel-RxZ</td>\n",
       "      <td>1st</td>\n",
       "      <td>Gangtok</td>\n",
       "    </tr>\n",
       "    <tr>\n",
       "      <th>1</th>\n",
       "      <td>₹ 8,70,000</td>\n",
       "      <td>Mahindra</td>\n",
       "      <td>TUV 300</td>\n",
       "      <td>80,000 km</td>\n",
       "      <td>2016</td>\n",
       "      <td>Diesel</td>\n",
       "      <td>Manual</td>\n",
       "      <td>mHAWK100 T8</td>\n",
       "      <td>1st</td>\n",
       "      <td>Gangtok</td>\n",
       "    </tr>\n",
       "    <tr>\n",
       "      <th>2</th>\n",
       "      <td>₹ 1,01,000</td>\n",
       "      <td>Maruti Suzuki</td>\n",
       "      <td>Alto</td>\n",
       "      <td>80,000 km</td>\n",
       "      <td>2008</td>\n",
       "      <td>Petrol</td>\n",
       "      <td>Automatic</td>\n",
       "      <td>2005-2010 Std BSII</td>\n",
       "      <td>2nd</td>\n",
       "      <td>Gangtok</td>\n",
       "    </tr>\n",
       "    <tr>\n",
       "      <th>3</th>\n",
       "      <td>₹ 91,000</td>\n",
       "      <td>Maruti Suzuki</td>\n",
       "      <td>Alto</td>\n",
       "      <td>99,999 km</td>\n",
       "      <td>2009</td>\n",
       "      <td>Petrol</td>\n",
       "      <td>Automatic</td>\n",
       "      <td>2005-2010 LXi BSIII</td>\n",
       "      <td>2nd</td>\n",
       "      <td>Gangtok</td>\n",
       "    </tr>\n",
       "    <tr>\n",
       "      <th>4</th>\n",
       "      <td>₹ 7,45,000</td>\n",
       "      <td>Others</td>\n",
       "      <td>2007</td>\n",
       "      <td>Na</td>\n",
       "      <td>Na</td>\n",
       "      <td>Na</td>\n",
       "      <td>Na</td>\n",
       "      <td>45,600 km</td>\n",
       "      <td>Na</td>\n",
       "      <td>Gangtok</td>\n",
       "    </tr>\n",
       "  </tbody>\n",
       "</table>\n",
       "</div>"
      ],
      "text/plain": [
       "        Price          Brand    Model Kilometers_driven  Year    Fuel  \\\n",
       "0  ₹ 5,60,000        Renault   Duster         85,000 km  2012  Diesel   \n",
       "1  ₹ 8,70,000       Mahindra  TUV 300         80,000 km  2016  Diesel   \n",
       "2  ₹ 1,01,000  Maruti Suzuki     Alto         80,000 km  2008  Petrol   \n",
       "3    ₹ 91,000  Maruti Suzuki     Alto         99,999 km  2009  Petrol   \n",
       "4  ₹ 7,45,000         Others     2007                Na    Na      Na   \n",
       "\n",
       "  Transmission                     Variant No_owners Location  \n",
       "0       Manual  2012-2015 110PS Diesel-RxZ       1st  Gangtok  \n",
       "1       Manual                 mHAWK100 T8       1st  Gangtok  \n",
       "2    Automatic          2005-2010 Std BSII       2nd  Gangtok  \n",
       "3    Automatic         2005-2010 LXi BSIII       2nd  Gangtok  \n",
       "4           Na                   45,600 km        Na  Gangtok  "
      ]
     },
     "execution_count": 262,
     "metadata": {},
     "output_type": "execute_result"
    }
   ],
   "source": [
    "olx21.head()"
   ]
  },
  {
   "cell_type": "code",
   "execution_count": 263,
   "metadata": {},
   "outputs": [],
   "source": [
    "driver.close()"
   ]
  },
  {
   "cell_type": "code",
   "execution_count": 264,
   "metadata": {},
   "outputs": [],
   "source": [
    "#Dehradun"
   ]
  },
  {
   "cell_type": "code",
   "execution_count": 265,
   "metadata": {},
   "outputs": [],
   "source": [
    "driver=webdriver.Firefox(\"C:\\geckodriver-v0.29.1-win64\")"
   ]
  },
  {
   "cell_type": "code",
   "execution_count": 266,
   "metadata": {},
   "outputs": [],
   "source": [
    "driver.get(\"https://www.olx.in/\")"
   ]
  },
  {
   "cell_type": "code",
   "execution_count": 267,
   "metadata": {},
   "outputs": [],
   "source": [
    "location=driver.find_element_by_xpath(\"//input[@class='_2xvhw']\") #finding option to enter the city name"
   ]
  },
  {
   "cell_type": "code",
   "execution_count": 268,
   "metadata": {},
   "outputs": [],
   "source": [
    "location.clear()"
   ]
  },
  {
   "cell_type": "code",
   "execution_count": 269,
   "metadata": {},
   "outputs": [],
   "source": [
    "location.send_keys(\"Dehradun\")"
   ]
  },
  {
   "cell_type": "code",
   "execution_count": 270,
   "metadata": {},
   "outputs": [],
   "source": [
    "driver.find_element_by_xpath(\"//div[@class='_2HzJo']/div[1]\").click()"
   ]
  },
  {
   "cell_type": "code",
   "execution_count": 271,
   "metadata": {},
   "outputs": [],
   "source": [
    "cars=driver.find_element_by_xpath(\"//form[@class='rui-1Azjs _20jkh']/fieldset/div/input\") \n",
    "#finding option to enter cars in search option"
   ]
  },
  {
   "cell_type": "code",
   "execution_count": 272,
   "metadata": {},
   "outputs": [],
   "source": [
    "cars.send_keys(\"Cars\")"
   ]
  },
  {
   "cell_type": "code",
   "execution_count": 273,
   "metadata": {},
   "outputs": [],
   "source": [
    "driver.find_element_by_xpath(\"//div[@class='_3b3oR']\").click() #click search option"
   ]
  },
  {
   "cell_type": "code",
   "execution_count": 274,
   "metadata": {},
   "outputs": [],
   "source": [
    "load_more=driver.find_element_by_xpath(\"//button[@class='rui-39-wj rui-3evoE rui-1JPTg']\") \n",
    "#selecting load more option to load for more cars"
   ]
  },
  {
   "cell_type": "code",
   "execution_count": 275,
   "metadata": {},
   "outputs": [],
   "source": [
    "load_more.click()"
   ]
  },
  {
   "cell_type": "code",
   "execution_count": 276,
   "metadata": {},
   "outputs": [],
   "source": [
    "urls=[] #collecting urls for each car\n",
    "for i in driver.find_elements_by_xpath(\"//ul[@class='rl3f9 _3mXOU']/li/a\"):\n",
    "    urls.append(i.get_attribute('href'))\n",
    "time.sleep(4)\n",
    "driver.find_element_by_xpath(\"//button[@class='rui-39-wj rui-3evoE rui-1JPTg']\").click()\n",
    "while True:\n",
    "    time.sleep(3)\n",
    "    for j in driver.find_elements_by_xpath(\"//ul[@class='rl3f9 _3mXOU']/li/a\"):\n",
    "        urls.append(j.get_attribute('href'))\n",
    "    try:\n",
    "        driver.find_element_by_xpath(\"//button[@class='rui-39-wj rui-3evoE rui-1JPTg'][2]\").click()\n",
    "        time.sleep(5)\n",
    "    except:\n",
    "        break"
   ]
  },
  {
   "cell_type": "code",
   "execution_count": 277,
   "metadata": {},
   "outputs": [
    {
     "data": {
      "text/plain": [
       "100"
      ]
     },
     "execution_count": 277,
     "metadata": {},
     "output_type": "execute_result"
    }
   ],
   "source": [
    "len(urls)"
   ]
  },
  {
   "cell_type": "code",
   "execution_count": 278,
   "metadata": {},
   "outputs": [],
   "source": [
    "#Scrapping data of each cars:\n",
    "Price=[]\n",
    "Brand=[]\n",
    "Model=[]\n",
    "Kilometers_driven=[]\n",
    "Year=[]\n",
    "Fuel=[]\n",
    "Transmission=[]\n",
    "Variant=[]\n",
    "No_owners=[]"
   ]
  },
  {
   "cell_type": "code",
   "execution_count": 279,
   "metadata": {},
   "outputs": [],
   "source": [
    "for i in urls[0:50]:\n",
    "    driver.get(i)\n",
    "    time.sleep(5)\n",
    "    try:\n",
    "        first=driver.find_element_by_xpath(\"//section[@class='_2wMiF']/span[1]\")\n",
    "        Price.append(first.text)\n",
    "    except NoSuchElementException:\n",
    "        Price.append(\"Na\")\n",
    "    try:\n",
    "        second=driver.find_element_by_xpath(\"//div[@class='_3JPEe']/div[1]/div/span[2]\")\n",
    "        Brand.append(second.text)\n",
    "    except NoSuchElementException:\n",
    "        Brand.append(\"Na\")\n",
    "        \n",
    "    try:\n",
    "        third=driver.find_element_by_xpath(\"//div[@class='_3JPEe']/div[2]/div/span[2]\")\n",
    "        Model.append(third.text)\n",
    "    except NoSuchElementException:\n",
    "        Model.append(\"Na\")\n",
    "        \n",
    "    try:\n",
    "        fourt=driver.find_element_by_xpath(\"//div[@class='_3JPEe']/div[3]/div/span[2]\")\n",
    "        Variant.append(fourt.text)\n",
    "    except NoSuchElementException:\n",
    "        Variant.append(\"Na\")\n",
    "        \n",
    "    try:\n",
    "        fifth=driver.find_element_by_xpath(\"//div[@class='_3JPEe']/div[4]/div/span[2]\")\n",
    "        Year.append(fifth.text)\n",
    "    except NoSuchElementException:\n",
    "        Year.append(\"Na\")\n",
    "        \n",
    "            \n",
    "    try:\n",
    "        Sixth=driver.find_element_by_xpath(\"//div[@class='_3JPEe']/div[5]/div/span[2]\")\n",
    "        Fuel.append(Sixth.text)\n",
    "    except NoSuchElementException:\n",
    "        Fuel.append(\"Na\")\n",
    "        \n",
    "    try:\n",
    "        Seventh=driver.find_element_by_xpath(\"//div[@class='_3JPEe']/div[6]/div/span[2]\")\n",
    "        Transmission.append(Seventh.text)\n",
    "    except NoSuchElementException:\n",
    "        Transmission.append(\"Na\")\n",
    "        \n",
    "    try:\n",
    "        Eighth=driver.find_element_by_xpath(\"//div[@class='_3JPEe']/div[7]/div/span[2]\")\n",
    "        Kilometers_driven.append(Eighth.text)\n",
    "    except NoSuchElementException:\n",
    "        Kilometers_driven.append(\"Na\")\n",
    "        \n",
    "    try:\n",
    "        Ninth=driver.find_element_by_xpath(\"//div[@class='_3JPEe']/div[8]/div/span[2]\")\n",
    "        No_owners.append(Ninth.text)\n",
    "    except NoSuchElementException:\n",
    "        No_owners.append(\"Na\")        \n",
    "                "
   ]
  },
  {
   "cell_type": "code",
   "execution_count": 280,
   "metadata": {},
   "outputs": [],
   "source": [
    "olx22=pd.DataFrame({})\n",
    "olx22['Price']=Price\n",
    "olx22['Brand']=Brand\n",
    "olx22['Model']=Model\n",
    "olx22['Kilometers_driven']=Kilometers_driven\n",
    "olx22['Year']=Year\n",
    "olx22['Fuel']=Fuel\n",
    "olx22['Transmission']=Transmission\n",
    "olx22['Variant']=Variant\n",
    "olx22['No_owners']=No_owners\n",
    "olx22['Location']='Dehradun'"
   ]
  },
  {
   "cell_type": "code",
   "execution_count": 281,
   "metadata": {},
   "outputs": [
    {
     "data": {
      "text/html": [
       "<div>\n",
       "<style scoped>\n",
       "    .dataframe tbody tr th:only-of-type {\n",
       "        vertical-align: middle;\n",
       "    }\n",
       "\n",
       "    .dataframe tbody tr th {\n",
       "        vertical-align: top;\n",
       "    }\n",
       "\n",
       "    .dataframe thead th {\n",
       "        text-align: right;\n",
       "    }\n",
       "</style>\n",
       "<table border=\"1\" class=\"dataframe\">\n",
       "  <thead>\n",
       "    <tr style=\"text-align: right;\">\n",
       "      <th></th>\n",
       "      <th>Price</th>\n",
       "      <th>Brand</th>\n",
       "      <th>Model</th>\n",
       "      <th>Kilometers_driven</th>\n",
       "      <th>Year</th>\n",
       "      <th>Fuel</th>\n",
       "      <th>Transmission</th>\n",
       "      <th>Variant</th>\n",
       "      <th>No_owners</th>\n",
       "      <th>Location</th>\n",
       "    </tr>\n",
       "  </thead>\n",
       "  <tbody>\n",
       "    <tr>\n",
       "      <th>0</th>\n",
       "      <td>₹ 5,25,000</td>\n",
       "      <td>Mahindra</td>\n",
       "      <td>Scorpio</td>\n",
       "      <td>52,000 km</td>\n",
       "      <td>2014</td>\n",
       "      <td>Diesel</td>\n",
       "      <td>Manual</td>\n",
       "      <td>2009-2014 VLX 2WD ABS AT BSIII</td>\n",
       "      <td>1st</td>\n",
       "      <td>Dehradun</td>\n",
       "    </tr>\n",
       "    <tr>\n",
       "      <th>1</th>\n",
       "      <td>₹ 2,50,000</td>\n",
       "      <td>Mahindra</td>\n",
       "      <td>Quanto</td>\n",
       "      <td>65,000 km</td>\n",
       "      <td>2013</td>\n",
       "      <td>Diesel</td>\n",
       "      <td>Manual</td>\n",
       "      <td>C8</td>\n",
       "      <td>1st</td>\n",
       "      <td>Dehradun</td>\n",
       "    </tr>\n",
       "    <tr>\n",
       "      <th>2</th>\n",
       "      <td>₹ 2,50,000</td>\n",
       "      <td>Maruti Suzuki</td>\n",
       "      <td>Alto K10</td>\n",
       "      <td>56,000 km</td>\n",
       "      <td>2012</td>\n",
       "      <td>Petrol</td>\n",
       "      <td>Manual</td>\n",
       "      <td>VXI</td>\n",
       "      <td>1st</td>\n",
       "      <td>Dehradun</td>\n",
       "    </tr>\n",
       "    <tr>\n",
       "      <th>3</th>\n",
       "      <td>₹ 35,000</td>\n",
       "      <td>Jaguar</td>\n",
       "      <td>XF</td>\n",
       "      <td>0 km</td>\n",
       "      <td>2012</td>\n",
       "      <td>Diesel</td>\n",
       "      <td>Automatic</td>\n",
       "      <td>3.0 Litre S Premium Luxury</td>\n",
       "      <td>2nd</td>\n",
       "      <td>Dehradun</td>\n",
       "    </tr>\n",
       "    <tr>\n",
       "      <th>4</th>\n",
       "      <td>₹ 95,000</td>\n",
       "      <td>Hyundai</td>\n",
       "      <td>Santro Xing</td>\n",
       "      <td>88,000 km</td>\n",
       "      <td>2006</td>\n",
       "      <td>Petrol</td>\n",
       "      <td>Manual</td>\n",
       "      <td>XG</td>\n",
       "      <td>3rd</td>\n",
       "      <td>Dehradun</td>\n",
       "    </tr>\n",
       "  </tbody>\n",
       "</table>\n",
       "</div>"
      ],
      "text/plain": [
       "        Price          Brand        Model Kilometers_driven  Year    Fuel  \\\n",
       "0  ₹ 5,25,000       Mahindra      Scorpio         52,000 km  2014  Diesel   \n",
       "1  ₹ 2,50,000       Mahindra       Quanto         65,000 km  2013  Diesel   \n",
       "2  ₹ 2,50,000  Maruti Suzuki     Alto K10         56,000 km  2012  Petrol   \n",
       "3    ₹ 35,000         Jaguar           XF              0 km  2012  Diesel   \n",
       "4    ₹ 95,000        Hyundai  Santro Xing         88,000 km  2006  Petrol   \n",
       "\n",
       "  Transmission                         Variant No_owners  Location  \n",
       "0       Manual  2009-2014 VLX 2WD ABS AT BSIII       1st  Dehradun  \n",
       "1       Manual                              C8       1st  Dehradun  \n",
       "2       Manual                             VXI       1st  Dehradun  \n",
       "3    Automatic      3.0 Litre S Premium Luxury       2nd  Dehradun  \n",
       "4       Manual                              XG       3rd  Dehradun  "
      ]
     },
     "execution_count": 281,
     "metadata": {},
     "output_type": "execute_result"
    }
   ],
   "source": [
    "olx22.head()"
   ]
  },
  {
   "cell_type": "code",
   "execution_count": 282,
   "metadata": {},
   "outputs": [],
   "source": [
    "driver.close()"
   ]
  },
  {
   "cell_type": "code",
   "execution_count": 283,
   "metadata": {},
   "outputs": [],
   "source": [
    "df2=pd.concat([olx9,olx10,olx11,olx12,olx13,olx14,olx15,olx16,olx17,olx18,olx19,olx20,olx21,olx22])"
   ]
  },
  {
   "cell_type": "code",
   "execution_count": 284,
   "metadata": {},
   "outputs": [
    {
     "data": {
      "text/plain": [
       "(700, 10)"
      ]
     },
     "execution_count": 284,
     "metadata": {},
     "output_type": "execute_result"
    }
   ],
   "source": [
    "df2.shape"
   ]
  },
  {
   "cell_type": "code",
   "execution_count": 285,
   "metadata": {},
   "outputs": [],
   "source": [
    "df2.to_csv('Second_scrapped_olx_data.csv')"
   ]
  },
  {
   "cell_type": "markdown",
   "metadata": {},
   "source": [
    "Quicker"
   ]
  },
  {
   "cell_type": "code",
   "execution_count": 97,
   "metadata": {},
   "outputs": [],
   "source": [
    "#Chennai"
   ]
  },
  {
   "cell_type": "code",
   "execution_count": 55,
   "metadata": {},
   "outputs": [],
   "source": [
    "driver.close()"
   ]
  },
  {
   "cell_type": "code",
   "execution_count": 56,
   "metadata": {},
   "outputs": [],
   "source": [
    "driver=webdriver.Firefox(\"C:\\geckodriver-v0.29.1-win64\")\n"
   ]
  },
  {
   "cell_type": "code",
   "execution_count": 57,
   "metadata": {},
   "outputs": [],
   "source": [
    "driver.get(\"https://www.quikr.com/\")"
   ]
  },
  {
   "cell_type": "code",
   "execution_count": 65,
   "metadata": {},
   "outputs": [],
   "source": [
    "locatio=driver.find_element_by_xpath(\"//i[@class='icon-arrow']\")"
   ]
  },
  {
   "cell_type": "code",
   "execution_count": 66,
   "metadata": {},
   "outputs": [],
   "source": [
    "locatio.click()"
   ]
  },
  {
   "cell_type": "code",
   "execution_count": 67,
   "metadata": {},
   "outputs": [],
   "source": [
    "city=driver.find_element_by_xpath(\"//div[@class='drop-layers']/div/div/input\")"
   ]
  },
  {
   "cell_type": "code",
   "execution_count": 68,
   "metadata": {},
   "outputs": [],
   "source": [
    "city.send_keys(\"Chennai\")"
   ]
  },
  {
   "cell_type": "code",
   "execution_count": 69,
   "metadata": {},
   "outputs": [],
   "source": [
    "driver.find_element_by_id(\"hSuggCityList\").click()"
   ]
  },
  {
   "cell_type": "code",
   "execution_count": 70,
   "metadata": {},
   "outputs": [],
   "source": [
    "cars=driver.find_element_by_xpath(\"//ul[@id='fixed-category']/li[6]\")"
   ]
  },
  {
   "cell_type": "code",
   "execution_count": 71,
   "metadata": {},
   "outputs": [],
   "source": [
    "cars.click()"
   ]
  },
  {
   "cell_type": "code",
   "execution_count": 72,
   "metadata": {},
   "outputs": [],
   "source": [
    "search=driver.find_element_by_xpath(\"//button[@class='mdc-button mdc-ripple-upgraded mdc-ripple-upgraded--unbounded mdc-button--primary mdc-button--unelevated mdc-ripple-upgraded--foreground-deactivation mdc-button__width-full']\")"
   ]
  },
  {
   "cell_type": "code",
   "execution_count": 73,
   "metadata": {},
   "outputs": [],
   "source": [
    "search.click()"
   ]
  },
  {
   "cell_type": "code",
   "execution_count": 74,
   "metadata": {},
   "outputs": [],
   "source": [
    "driver.execute_script(\"window.scrollTo(0, document.body.scrollHeight);\") #this code will scroll the web page till bottom"
   ]
  },
  {
   "cell_type": "code",
   "execution_count": 75,
   "metadata": {},
   "outputs": [],
   "source": [
    "urls=[]\n",
    "for i in driver.find_elements_by_xpath(\"//div[@class='mdc-layout-grid__cell mdc-layout-grid__cell--span-4-desktop mdc-layout-grid__cell mdc-layout-grid__cell--span-12-phone']/a\")[0:100]:\n",
    "    urls.append(i.get_attribute('href'))\n",
    "time.sleep(4)"
   ]
  },
  {
   "cell_type": "code",
   "execution_count": 76,
   "metadata": {},
   "outputs": [
    {
     "data": {
      "text/plain": [
       "100"
      ]
     },
     "execution_count": 76,
     "metadata": {},
     "output_type": "execute_result"
    }
   ],
   "source": [
    "len(urls)"
   ]
  },
  {
   "cell_type": "code",
   "execution_count": 77,
   "metadata": {},
   "outputs": [],
   "source": [
    "#Scrapping data of each cars:\n",
    "Price=[]\n",
    "Brand=[]\n",
    "Model=[]\n",
    "Kilometers_driven=[]\n",
    "Year=[]\n",
    "Fuel=[]\n",
    "Transmission=[]\n",
    "Variant=[]\n",
    "No_owners=[]"
   ]
  },
  {
   "cell_type": "code",
   "execution_count": 78,
   "metadata": {},
   "outputs": [],
   "source": [
    "for i in driver.find_elements_by_xpath(\"//div[@class='price']\")[0:100]:\n",
    "    Price.append(i.text) "
   ]
  },
  {
   "cell_type": "code",
   "execution_count": 79,
   "metadata": {},
   "outputs": [
    {
     "data": {
      "text/plain": [
       "100"
      ]
     },
     "execution_count": 79,
     "metadata": {},
     "output_type": "execute_result"
    }
   ],
   "source": [
    "len(Price)"
   ]
  },
  {
   "cell_type": "code",
   "execution_count": 80,
   "metadata": {},
   "outputs": [],
   "source": [
    "for i in urls:\n",
    "    driver.get(i)\n",
    "    time.sleep(5)\n",
    "    \n",
    "    try:\n",
    "        driver.find_element_by_xpath(\"//span[@class='sc-1sbb775-3 eaiAQu ttC cP dF w100 jcC']\").click()\n",
    "    except NoSuchElementException:\n",
    "        pass\n",
    "\n",
    "    try:\n",
    "        second=driver.find_element_by_xpath(\"//ul[@class='sc-1sbb775-0 fkgsye dF fwW jcSB']/li[3]/span\")\n",
    "        Brand.append(second.text)\n",
    "    except NoSuchElementException:\n",
    "        Brand.append(\"Na\")\n",
    "        \n",
    "    try:\n",
    "        third=driver.find_element_by_xpath(\"//ul[@class='sc-1sbb775-0 fkgsye dF fwW jcSB']/li[8]/span\")\n",
    "        Model.append(third.text)\n",
    "    except NoSuchElementException:\n",
    "        Model.append(\"Na\")\n",
    "        \n",
    "    try:\n",
    "        fourt=driver.find_element_by_xpath(\"//ul[@class='sc-1sbb775-0 fkgsye dF fwW jcSB']/li[9]/span\")\n",
    "        Variant.append(fourt.text)\n",
    "    except NoSuchElementException:\n",
    "        Variant.append(\"Na\")\n",
    "        \n",
    "    try:\n",
    "        fifth=driver.find_element_by_xpath(\"//ul[@class='sc-1sbb775-0 fkgsye dF fwW jcSB']/li[5]/span\")\n",
    "        Year.append(fifth.text)\n",
    "    except NoSuchElementException:\n",
    "        Year.append(\"Na\")\n",
    "        \n",
    "            \n",
    "    try:\n",
    "        Sixth=driver.find_element_by_xpath(\"//ul[@class='rnzqd6-0 kKtfpp jcSB pR']/li[1]\")\n",
    "        Fuel.append(Sixth.text)\n",
    "    except NoSuchElementException:\n",
    "        Fuel.append(\"Na\")\n",
    "        \n",
    "    try:\n",
    "        Seventh=driver.find_element_by_xpath(\"//ul[@class='sc-1sbb775-0 fkgsye dF fwW jcSB']/li[11]/span\")\n",
    "        Transmission.append(Seventh.text)\n",
    "    except NoSuchElementException:\n",
    "        Transmission.append(\"Na\")\n",
    "        \n",
    "    try:\n",
    "        Eighth=driver.find_element_by_xpath(\"//ul[@class='rnzqd6-0 kKtfpp jcSB pR']/li[2]\")\n",
    "        Kilometers_driven.append(Eighth.text)\n",
    "    except NoSuchElementException:\n",
    "        Kilometers_driven.append(\"Na\")\n",
    "        \n",
    "    try:\n",
    "        Ninth=driver.find_element_by_xpath(\"//ul[@class='rnzqd6-0 kKtfpp jcSB pR']/li[3]\")\n",
    "        No_owners.append(Ninth.text)\n",
    "    except NoSuchElementException:\n",
    "        No_owners.append(\"Na\")        \n",
    "                \n",
    "    "
   ]
  },
  {
   "cell_type": "code",
   "execution_count": 81,
   "metadata": {},
   "outputs": [
    {
     "data": {
      "text/plain": [
       "100"
      ]
     },
     "execution_count": 81,
     "metadata": {},
     "output_type": "execute_result"
    }
   ],
   "source": [
    "len(No_owners)"
   ]
  },
  {
   "cell_type": "code",
   "execution_count": 82,
   "metadata": {},
   "outputs": [],
   "source": [
    "quikr1=pd.DataFrame({})\n",
    "quikr1['Price']=Price\n",
    "quikr1['Brand']=Brand\n",
    "quikr1['Model']=Model\n",
    "quikr1['Kilometers_driven']=Kilometers_driven\n",
    "quikr1['Year']=Year\n",
    "quikr1['Fuel']=Fuel\n",
    "quikr1['Transmission']=Transmission\n",
    "quikr1['Variant']=Variant\n",
    "quikr1['No_owners']=No_owners\n",
    "quikr1['Location']='Chennai'"
   ]
  },
  {
   "cell_type": "code",
   "execution_count": 95,
   "metadata": {},
   "outputs": [
    {
     "data": {
      "text/html": [
       "<div>\n",
       "<style scoped>\n",
       "    .dataframe tbody tr th:only-of-type {\n",
       "        vertical-align: middle;\n",
       "    }\n",
       "\n",
       "    .dataframe tbody tr th {\n",
       "        vertical-align: top;\n",
       "    }\n",
       "\n",
       "    .dataframe thead th {\n",
       "        text-align: right;\n",
       "    }\n",
       "</style>\n",
       "<table border=\"1\" class=\"dataframe\">\n",
       "  <thead>\n",
       "    <tr style=\"text-align: right;\">\n",
       "      <th></th>\n",
       "      <th>Price</th>\n",
       "      <th>Brand</th>\n",
       "      <th>Model</th>\n",
       "      <th>Kilometers_driven</th>\n",
       "      <th>Year</th>\n",
       "      <th>Fuel</th>\n",
       "      <th>Transmission</th>\n",
       "      <th>Variant</th>\n",
       "      <th>No_owners</th>\n",
       "      <th>Location</th>\n",
       "    </tr>\n",
       "  </thead>\n",
       "  <tbody>\n",
       "    <tr>\n",
       "      <th>0</th>\n",
       "      <td>₹88,00,000</td>\n",
       "      <td>Mercedes Benz</td>\n",
       "      <td>350d 4MATIC</td>\n",
       "      <td>22,910 KMS</td>\n",
       "      <td>22,910</td>\n",
       "      <td>DIESEL</td>\n",
       "      <td>Na</td>\n",
       "      <td>White</td>\n",
       "      <td>Na</td>\n",
       "      <td>Chennai</td>\n",
       "    </tr>\n",
       "    <tr>\n",
       "      <th>1</th>\n",
       "      <td>₹64,00,000</td>\n",
       "      <td>Volvo</td>\n",
       "      <td>Inscription</td>\n",
       "      <td>17,600 KMS</td>\n",
       "      <td>17,600</td>\n",
       "      <td>DIESEL</td>\n",
       "      <td>Na</td>\n",
       "      <td>Grey</td>\n",
       "      <td>Na</td>\n",
       "      <td>Chennai</td>\n",
       "    </tr>\n",
       "    <tr>\n",
       "      <th>2</th>\n",
       "      <td>₹6,90,000</td>\n",
       "      <td>Hyundai</td>\n",
       "      <td>Creta</td>\n",
       "      <td>70,000 KMS</td>\n",
       "      <td>2016</td>\n",
       "      <td>DIESEL</td>\n",
       "      <td>Three</td>\n",
       "      <td>1.6 SX O</td>\n",
       "      <td>THREE OWNER</td>\n",
       "      <td>Chennai</td>\n",
       "    </tr>\n",
       "    <tr>\n",
       "      <th>3</th>\n",
       "      <td>₹5,75,000</td>\n",
       "      <td>Hyundai</td>\n",
       "      <td>Grand I10</td>\n",
       "      <td>15,000 KMS</td>\n",
       "      <td>2019</td>\n",
       "      <td>PETROL</td>\n",
       "      <td>One</td>\n",
       "      <td>Sportz 1.2 Kappa VTVT</td>\n",
       "      <td>ONE OWNER</td>\n",
       "      <td>Chennai</td>\n",
       "    </tr>\n",
       "    <tr>\n",
       "      <th>4</th>\n",
       "      <td>₹38,50,000</td>\n",
       "      <td>Toyota</td>\n",
       "      <td>2.8 4x4 AT</td>\n",
       "      <td>49,950 KMS</td>\n",
       "      <td>49,950</td>\n",
       "      <td>DIESEL</td>\n",
       "      <td>Na</td>\n",
       "      <td>White</td>\n",
       "      <td>Na</td>\n",
       "      <td>Chennai</td>\n",
       "    </tr>\n",
       "  </tbody>\n",
       "</table>\n",
       "</div>"
      ],
      "text/plain": [
       "        Price          Brand        Model Kilometers_driven    Year    Fuel  \\\n",
       "0  ₹88,00,000  Mercedes Benz  350d 4MATIC        22,910 KMS  22,910  DIESEL   \n",
       "1  ₹64,00,000          Volvo  Inscription        17,600 KMS  17,600  DIESEL   \n",
       "2   ₹6,90,000        Hyundai        Creta        70,000 KMS    2016  DIESEL   \n",
       "3   ₹5,75,000        Hyundai    Grand I10        15,000 KMS    2019  PETROL   \n",
       "4  ₹38,50,000         Toyota   2.8 4x4 AT        49,950 KMS  49,950  DIESEL   \n",
       "\n",
       "  Transmission                Variant    No_owners Location  \n",
       "0           Na                  White           Na  Chennai  \n",
       "1           Na                   Grey           Na  Chennai  \n",
       "2        Three               1.6 SX O  THREE OWNER  Chennai  \n",
       "3          One  Sportz 1.2 Kappa VTVT    ONE OWNER  Chennai  \n",
       "4           Na                  White           Na  Chennai  "
      ]
     },
     "execution_count": 95,
     "metadata": {},
     "output_type": "execute_result"
    }
   ],
   "source": [
    "quikr1.head()"
   ]
  },
  {
   "cell_type": "code",
   "execution_count": 123,
   "metadata": {},
   "outputs": [],
   "source": [
    "driver.close()"
   ]
  },
  {
   "cell_type": "code",
   "execution_count": 124,
   "metadata": {},
   "outputs": [],
   "source": [
    "#Bangalore"
   ]
  },
  {
   "cell_type": "code",
   "execution_count": 125,
   "metadata": {},
   "outputs": [],
   "source": [
    "driver=webdriver.Firefox(\"C:\\geckodriver-v0.29.1-win64\")"
   ]
  },
  {
   "cell_type": "code",
   "execution_count": 126,
   "metadata": {},
   "outputs": [],
   "source": [
    "driver.get(\"https://www.quikr.com/\")"
   ]
  },
  {
   "cell_type": "code",
   "execution_count": 127,
   "metadata": {},
   "outputs": [],
   "source": [
    "locatio=driver.find_element_by_xpath(\"//i[@class='icon-arrow']\")"
   ]
  },
  {
   "cell_type": "code",
   "execution_count": 128,
   "metadata": {},
   "outputs": [],
   "source": [
    "locatio.click()"
   ]
  },
  {
   "cell_type": "code",
   "execution_count": 129,
   "metadata": {},
   "outputs": [],
   "source": [
    "city=driver.find_element_by_xpath(\"//div[@class='drop-layers']/div/div/input\")"
   ]
  },
  {
   "cell_type": "code",
   "execution_count": 130,
   "metadata": {},
   "outputs": [],
   "source": [
    "city.send_keys(\"Bangalore\")"
   ]
  },
  {
   "cell_type": "code",
   "execution_count": 131,
   "metadata": {},
   "outputs": [],
   "source": [
    "driver.find_element_by_id(\"hSuggCityList\").click()"
   ]
  },
  {
   "cell_type": "code",
   "execution_count": 132,
   "metadata": {},
   "outputs": [],
   "source": [
    "cars=driver.find_element_by_xpath(\"//ul[@id='fixed-category']/li[6]\")"
   ]
  },
  {
   "cell_type": "code",
   "execution_count": 133,
   "metadata": {},
   "outputs": [],
   "source": [
    "cars.click()"
   ]
  },
  {
   "cell_type": "code",
   "execution_count": 134,
   "metadata": {},
   "outputs": [],
   "source": [
    "search=driver.find_element_by_xpath(\"//button[@class='mdc-button mdc-ripple-upgraded mdc-ripple-upgraded--unbounded mdc-button--primary mdc-button--unelevated mdc-ripple-upgraded--foreground-deactivation mdc-button__width-full']\")\n",
    "search.click()"
   ]
  },
  {
   "cell_type": "code",
   "execution_count": 135,
   "metadata": {},
   "outputs": [],
   "source": [
    "driver.execute_script(\"window.scrollTo(0, document.body.scrollHeight);\") #this code will scroll the web page till bottom"
   ]
  },
  {
   "cell_type": "code",
   "execution_count": 136,
   "metadata": {},
   "outputs": [],
   "source": [
    "urls=[]\n",
    "for i in driver.find_elements_by_xpath(\"//div[@class='mdc-layout-grid__cell mdc-layout-grid__cell--span-4-desktop mdc-layout-grid__cell mdc-layout-grid__cell--span-12-phone']/a\")[0:100]:\n",
    "    urls.append(i.get_attribute('href'))\n",
    "time.sleep(4)"
   ]
  },
  {
   "cell_type": "code",
   "execution_count": 137,
   "metadata": {},
   "outputs": [
    {
     "data": {
      "text/plain": [
       "100"
      ]
     },
     "execution_count": 137,
     "metadata": {},
     "output_type": "execute_result"
    }
   ],
   "source": [
    "len(urls)"
   ]
  },
  {
   "cell_type": "code",
   "execution_count": 138,
   "metadata": {},
   "outputs": [],
   "source": [
    "#Scrapping data of each cars:\n",
    "Price=[]\n",
    "Brand=[]\n",
    "Model=[]\n",
    "Kilometers_driven=[]\n",
    "Year=[]\n",
    "Fuel=[]\n",
    "Transmission=[]\n",
    "Variant=[]\n",
    "No_owners=[]"
   ]
  },
  {
   "cell_type": "code",
   "execution_count": 139,
   "metadata": {},
   "outputs": [],
   "source": [
    "for i in driver.find_elements_by_xpath(\"//div[@class='price']\")[0:100]:\n",
    "    Price.append(i.text) "
   ]
  },
  {
   "cell_type": "code",
   "execution_count": 140,
   "metadata": {},
   "outputs": [
    {
     "data": {
      "text/plain": [
       "100"
      ]
     },
     "execution_count": 140,
     "metadata": {},
     "output_type": "execute_result"
    }
   ],
   "source": [
    "len(Price)"
   ]
  },
  {
   "cell_type": "code",
   "execution_count": 141,
   "metadata": {},
   "outputs": [],
   "source": [
    "for i in urls:\n",
    "    driver.get(i)\n",
    "    time.sleep(5)\n",
    "    \n",
    "    try:\n",
    "        driver.find_element_by_xpath(\"//span[@class='sc-1sbb775-3 eaiAQu ttC cP dF w100 jcC']\").click()\n",
    "    except NoSuchElementException:\n",
    "        pass\n",
    "\n",
    "    try:\n",
    "        second=driver.find_element_by_xpath(\"//ul[@class='sc-1sbb775-0 fkgsye dF fwW jcSB']/li[3]/span\")\n",
    "        Brand.append(second.text)\n",
    "    except NoSuchElementException:\n",
    "        Brand.append(\"Na\")\n",
    "        \n",
    "    try:\n",
    "        third=driver.find_element_by_xpath(\"//ul[@class='sc-1sbb775-0 fkgsye dF fwW jcSB']/li[8]/span\")\n",
    "        Model.append(third.text)\n",
    "    except NoSuchElementException:\n",
    "        Model.append(\"Na\")\n",
    "        \n",
    "    try:\n",
    "        fourt=driver.find_element_by_xpath(\"//ul[@class='sc-1sbb775-0 fkgsye dF fwW jcSB']/li[9]/span\")\n",
    "        Variant.append(fourt.text)\n",
    "    except NoSuchElementException:\n",
    "        Variant.append(\"Na\")\n",
    "        \n",
    "    try:\n",
    "        fifth=driver.find_element_by_xpath(\"//ul[@class='sc-1sbb775-0 fkgsye dF fwW jcSB']/li[4]/span\")\n",
    "        Year.append(fifth.text)\n",
    "    except NoSuchElementException:\n",
    "        Year.append(\"Na\")\n",
    "        \n",
    "            \n",
    "    try:\n",
    "        Sixth=driver.find_element_by_xpath(\"//ul[@class='rnzqd6-0 kKtfpp jcSB pR']/li[1]\")\n",
    "        Fuel.append(Sixth.text)\n",
    "    except NoSuchElementException:\n",
    "        Fuel.append(\"Na\")\n",
    "        \n",
    "    try:\n",
    "        Seventh=driver.find_element_by_xpath(\"//ul[@class='sc-1sbb775-0 fkgsye dF fwW jcSB']/li[11]/span\")\n",
    "        Transmission.append(Seventh.text)\n",
    "    except NoSuchElementException:\n",
    "        Transmission.append(\"Na\")\n",
    "        \n",
    "    try:\n",
    "        Eighth=driver.find_element_by_xpath(\"//ul[@class='rnzqd6-0 kKtfpp jcSB pR']/li[2]\")\n",
    "        Kilometers_driven.append(Eighth.text)\n",
    "    except NoSuchElementException:\n",
    "        Kilometers_driven.append(\"Na\")\n",
    "        \n",
    "    try:\n",
    "        Ninth=driver.find_element_by_xpath(\"//ul[@class='rnzqd6-0 kKtfpp jcSB pR']/li[3]\")\n",
    "        No_owners.append(Ninth.text)\n",
    "    except NoSuchElementException:\n",
    "        No_owners.append(\"Na\")   "
   ]
  },
  {
   "cell_type": "code",
   "execution_count": 142,
   "metadata": {},
   "outputs": [],
   "source": [
    "quikr2=pd.DataFrame({})\n",
    "quikr2['Price']=Price\n",
    "quikr2['Brand']=Brand\n",
    "quikr2['Model']=Model\n",
    "quikr2['Kilometers_driven']=Kilometers_driven\n",
    "quikr2['Year']=Year\n",
    "quikr2['Fuel']=Fuel\n",
    "quikr2['Transmission']=Transmission\n",
    "quikr2['Variant']=Variant\n",
    "quikr2['No_owners']=No_owners\n",
    "quikr2['Location']='Bangalore'"
   ]
  },
  {
   "cell_type": "code",
   "execution_count": 143,
   "metadata": {},
   "outputs": [
    {
     "data": {
      "text/html": [
       "<div>\n",
       "<style scoped>\n",
       "    .dataframe tbody tr th:only-of-type {\n",
       "        vertical-align: middle;\n",
       "    }\n",
       "\n",
       "    .dataframe tbody tr th {\n",
       "        vertical-align: top;\n",
       "    }\n",
       "\n",
       "    .dataframe thead th {\n",
       "        text-align: right;\n",
       "    }\n",
       "</style>\n",
       "<table border=\"1\" class=\"dataframe\">\n",
       "  <thead>\n",
       "    <tr style=\"text-align: right;\">\n",
       "      <th></th>\n",
       "      <th>Price</th>\n",
       "      <th>Brand</th>\n",
       "      <th>Model</th>\n",
       "      <th>Kilometers_driven</th>\n",
       "      <th>Year</th>\n",
       "      <th>Fuel</th>\n",
       "      <th>Transmission</th>\n",
       "      <th>Variant</th>\n",
       "      <th>No_owners</th>\n",
       "      <th>Location</th>\n",
       "    </tr>\n",
       "  </thead>\n",
       "  <tbody>\n",
       "    <tr>\n",
       "      <th>0</th>\n",
       "      <td>₹2,40,000</td>\n",
       "      <td>Maruti Suzuki</td>\n",
       "      <td>LXi BS III</td>\n",
       "      <td>36,000 KMS</td>\n",
       "      <td>2010</td>\n",
       "      <td>PETROL</td>\n",
       "      <td>Na</td>\n",
       "      <td>Beige</td>\n",
       "      <td>Na</td>\n",
       "      <td>Bangalore</td>\n",
       "    </tr>\n",
       "    <tr>\n",
       "      <th>1</th>\n",
       "      <td>₹2,10,000</td>\n",
       "      <td>Maruti Suzuki</td>\n",
       "      <td>VXi AMT</td>\n",
       "      <td>47,000 KMS</td>\n",
       "      <td>2011</td>\n",
       "      <td>PETROL</td>\n",
       "      <td>Na</td>\n",
       "      <td>Golden</td>\n",
       "      <td>Na</td>\n",
       "      <td>Bangalore</td>\n",
       "    </tr>\n",
       "    <tr>\n",
       "      <th>2</th>\n",
       "      <td>₹40,00,000</td>\n",
       "      <td>Audi</td>\n",
       "      <td>35 TDI Premium</td>\n",
       "      <td>12,000 KMS</td>\n",
       "      <td>2019</td>\n",
       "      <td>DIESEL</td>\n",
       "      <td>Na</td>\n",
       "      <td>Na</td>\n",
       "      <td>Na</td>\n",
       "      <td>Bangalore</td>\n",
       "    </tr>\n",
       "    <tr>\n",
       "      <th>3</th>\n",
       "      <td>₹3,00,000</td>\n",
       "      <td>Chevrolet</td>\n",
       "      <td>SS D1 BSII</td>\n",
       "      <td>1,40,000 KMS</td>\n",
       "      <td>2005</td>\n",
       "      <td>DIESEL</td>\n",
       "      <td>Na</td>\n",
       "      <td>Manual</td>\n",
       "      <td>Na</td>\n",
       "      <td>Bangalore</td>\n",
       "    </tr>\n",
       "    <tr>\n",
       "      <th>4</th>\n",
       "      <td>₹3,85,000</td>\n",
       "      <td>Honda</td>\n",
       "      <td>1.8 V AT Inspire</td>\n",
       "      <td>76,559 KMS</td>\n",
       "      <td>2008</td>\n",
       "      <td>PETROL</td>\n",
       "      <td>Na</td>\n",
       "      <td>Na</td>\n",
       "      <td>Na</td>\n",
       "      <td>Bangalore</td>\n",
       "    </tr>\n",
       "  </tbody>\n",
       "</table>\n",
       "</div>"
      ],
      "text/plain": [
       "        Price          Brand             Model Kilometers_driven  Year  \\\n",
       "0   ₹2,40,000  Maruti Suzuki        LXi BS III        36,000 KMS  2010   \n",
       "1   ₹2,10,000  Maruti Suzuki           VXi AMT        47,000 KMS  2011   \n",
       "2  ₹40,00,000           Audi    35 TDI Premium        12,000 KMS  2019   \n",
       "3   ₹3,00,000      Chevrolet        SS D1 BSII      1,40,000 KMS  2005   \n",
       "4   ₹3,85,000          Honda  1.8 V AT Inspire        76,559 KMS  2008   \n",
       "\n",
       "     Fuel Transmission Variant No_owners   Location  \n",
       "0  PETROL           Na   Beige        Na  Bangalore  \n",
       "1  PETROL           Na  Golden        Na  Bangalore  \n",
       "2  DIESEL           Na      Na        Na  Bangalore  \n",
       "3  DIESEL           Na  Manual        Na  Bangalore  \n",
       "4  PETROL           Na      Na        Na  Bangalore  "
      ]
     },
     "execution_count": 143,
     "metadata": {},
     "output_type": "execute_result"
    }
   ],
   "source": [
    "quikr2.head()"
   ]
  },
  {
   "cell_type": "code",
   "execution_count": 187,
   "metadata": {},
   "outputs": [],
   "source": [
    "driver.close()"
   ]
  },
  {
   "cell_type": "code",
   "execution_count": 188,
   "metadata": {},
   "outputs": [],
   "source": [
    "#Dehradun"
   ]
  },
  {
   "cell_type": "code",
   "execution_count": 189,
   "metadata": {},
   "outputs": [],
   "source": [
    "driver=webdriver.Firefox(\"C:\\geckodriver-v0.29.1-win64\")"
   ]
  },
  {
   "cell_type": "code",
   "execution_count": 190,
   "metadata": {},
   "outputs": [],
   "source": [
    "driver.get(\"https://www.quikr.com/\")"
   ]
  },
  {
   "cell_type": "code",
   "execution_count": 192,
   "metadata": {},
   "outputs": [],
   "source": [
    "locatio=driver.find_element_by_xpath(\"//i[@class='icon-arrow']\")"
   ]
  },
  {
   "cell_type": "code",
   "execution_count": 193,
   "metadata": {},
   "outputs": [],
   "source": [
    "locatio.click()"
   ]
  },
  {
   "cell_type": "code",
   "execution_count": 194,
   "metadata": {},
   "outputs": [],
   "source": [
    "city=driver.find_element_by_xpath(\"//div[@class='drop-layers']/div/div/input\")"
   ]
  },
  {
   "cell_type": "code",
   "execution_count": 195,
   "metadata": {},
   "outputs": [],
   "source": [
    "city.send_keys(\"Dehradun\")"
   ]
  },
  {
   "cell_type": "code",
   "execution_count": 196,
   "metadata": {},
   "outputs": [],
   "source": [
    "driver.find_element_by_id(\"hSuggCityList\").click()"
   ]
  },
  {
   "cell_type": "code",
   "execution_count": 197,
   "metadata": {},
   "outputs": [],
   "source": [
    "cars=driver.find_element_by_xpath(\"//ul[@id='fixed-category']/li[6]\")\n",
    "cars.click()"
   ]
  },
  {
   "cell_type": "code",
   "execution_count": 198,
   "metadata": {},
   "outputs": [],
   "source": [
    "search=driver.find_element_by_xpath(\"//button[@class='mdc-button mdc-ripple-upgraded mdc-ripple-upgraded--unbounded mdc-button--primary mdc-button--unelevated mdc-ripple-upgraded--foreground-deactivation mdc-button__width-full']\")\n",
    "search.click()"
   ]
  },
  {
   "cell_type": "code",
   "execution_count": 199,
   "metadata": {},
   "outputs": [],
   "source": [
    "driver.execute_script(\"window.scrollTo(0, document.body.scrollHeight);\") #this code will scroll the web page till bottom"
   ]
  },
  {
   "cell_type": "code",
   "execution_count": 200,
   "metadata": {},
   "outputs": [],
   "source": [
    "urls=[]\n",
    "for i in driver.find_elements_by_xpath(\"//div[@class='mdc-layout-grid__cell mdc-layout-grid__cell--span-4-desktop mdc-layout-grid__cell mdc-layout-grid__cell--span-12-phone']/a\")[0:100]:\n",
    "    urls.append(i.get_attribute('href'))\n",
    "time.sleep(4)"
   ]
  },
  {
   "cell_type": "code",
   "execution_count": 201,
   "metadata": {},
   "outputs": [
    {
     "data": {
      "text/plain": [
       "71"
      ]
     },
     "execution_count": 201,
     "metadata": {},
     "output_type": "execute_result"
    }
   ],
   "source": [
    "len(urls)"
   ]
  },
  {
   "cell_type": "code",
   "execution_count": 202,
   "metadata": {},
   "outputs": [],
   "source": [
    "#Scrapping data of each cars:\n",
    "Price=[]\n",
    "Brand=[]\n",
    "Model=[]\n",
    "Kilometers_driven=[]\n",
    "Year=[]\n",
    "Fuel=[]\n",
    "Transmission=[]\n",
    "Variant=[]\n",
    "No_owners=[]"
   ]
  },
  {
   "cell_type": "code",
   "execution_count": 203,
   "metadata": {},
   "outputs": [
    {
     "data": {
      "text/plain": [
       "71"
      ]
     },
     "execution_count": 203,
     "metadata": {},
     "output_type": "execute_result"
    }
   ],
   "source": [
    "for i in driver.find_elements_by_xpath(\"//div[@class='price']\"):\n",
    "    Price.append(i.text) \n",
    "len(Price)"
   ]
  },
  {
   "cell_type": "code",
   "execution_count": 204,
   "metadata": {},
   "outputs": [],
   "source": [
    "for i in urls:\n",
    "    driver.get(i)\n",
    "    time.sleep(5)\n",
    "    \n",
    "    try:\n",
    "        driver.find_element_by_xpath(\"//span[@class='sc-1sbb775-3 eaiAQu ttC cP dF w100 jcC']\").click()\n",
    "    except NoSuchElementException:\n",
    "        pass\n",
    "\n",
    "    try:\n",
    "        second=driver.find_element_by_xpath(\"//ul[@class='sc-1sbb775-0 fkgsye dF fwW jcSB']/li[3]/span\")\n",
    "        Brand.append(second.text)\n",
    "    except NoSuchElementException:\n",
    "        Brand.append(\"Na\")\n",
    "        \n",
    "    try:\n",
    "        third=driver.find_element_by_xpath(\"//ul[@class='sc-1sbb775-0 fkgsye dF fwW jcSB']/li[8]/span\")\n",
    "        Model.append(third.text)\n",
    "    except NoSuchElementException:\n",
    "        Model.append(\"Na\")\n",
    "        \n",
    "    try:\n",
    "        fourt=driver.find_element_by_xpath(\"//ul[@class='sc-1sbb775-0 fkgsye dF fwW jcSB']/li[9]/span\")\n",
    "        Variant.append(fourt.text)\n",
    "    except NoSuchElementException:\n",
    "        Variant.append(\"Na\")\n",
    "        \n",
    "    try:\n",
    "        fifth=driver.find_element_by_xpath(\"//ul[@class='sc-1sbb775-0 fkgsye dF fwW jcSB']/li[4]/span\")\n",
    "        Year.append(fifth.text)\n",
    "    except NoSuchElementException:\n",
    "        Year.append(\"Na\")\n",
    "        \n",
    "            \n",
    "    try:\n",
    "        Sixth=driver.find_element_by_xpath(\"//ul[@class='rnzqd6-0 kKtfpp jcSB pR']/li[1]\")\n",
    "        Fuel.append(Sixth.text)\n",
    "    except NoSuchElementException:\n",
    "        Fuel.append(\"Na\")\n",
    "        \n",
    "    try:\n",
    "        Seventh=driver.find_element_by_xpath(\"//ul[@class='sc-1sbb775-0 fkgsye dF fwW jcSB']/li[11]/span\")\n",
    "        Transmission.append(Seventh.text)\n",
    "    except NoSuchElementException:\n",
    "        Transmission.append(\"Na\")\n",
    "        \n",
    "    try:\n",
    "        Eighth=driver.find_element_by_xpath(\"//ul[@class='rnzqd6-0 kKtfpp jcSB pR']/li[2]\")\n",
    "        Kilometers_driven.append(Eighth.text)\n",
    "    except NoSuchElementException:\n",
    "        Kilometers_driven.append(\"Na\")\n",
    "        \n",
    "    try:\n",
    "        Ninth=driver.find_element_by_xpath(\"//ul[@class='rnzqd6-0 kKtfpp jcSB pR']/li[3]\")\n",
    "        No_owners.append(Ninth.text)\n",
    "    except NoSuchElementException:\n",
    "        No_owners.append(\"Na\")     "
   ]
  },
  {
   "cell_type": "code",
   "execution_count": 205,
   "metadata": {},
   "outputs": [],
   "source": [
    "quikr3=pd.DataFrame({})\n",
    "quikr3['Price']=Price\n",
    "quikr3['Brand']=Brand\n",
    "quikr3['Model']=Model\n",
    "quikr3['Kilometers_driven']=Kilometers_driven\n",
    "quikr3['Year']=Year\n",
    "quikr3['Fuel']=Fuel\n",
    "quikr3['Transmission']=Transmission\n",
    "quikr3['Variant']=Variant\n",
    "quikr3['No_owners']=No_owners\n",
    "quikr3['Location']='Dehradun' "
   ]
  },
  {
   "cell_type": "code",
   "execution_count": 206,
   "metadata": {},
   "outputs": [
    {
     "data": {
      "text/html": [
       "<div>\n",
       "<style scoped>\n",
       "    .dataframe tbody tr th:only-of-type {\n",
       "        vertical-align: middle;\n",
       "    }\n",
       "\n",
       "    .dataframe tbody tr th {\n",
       "        vertical-align: top;\n",
       "    }\n",
       "\n",
       "    .dataframe thead th {\n",
       "        text-align: right;\n",
       "    }\n",
       "</style>\n",
       "<table border=\"1\" class=\"dataframe\">\n",
       "  <thead>\n",
       "    <tr style=\"text-align: right;\">\n",
       "      <th></th>\n",
       "      <th>Price</th>\n",
       "      <th>Brand</th>\n",
       "      <th>Model</th>\n",
       "      <th>Kilometers_driven</th>\n",
       "      <th>Year</th>\n",
       "      <th>Fuel</th>\n",
       "      <th>Transmission</th>\n",
       "      <th>Variant</th>\n",
       "      <th>No_owners</th>\n",
       "      <th>Location</th>\n",
       "    </tr>\n",
       "  </thead>\n",
       "  <tbody>\n",
       "    <tr>\n",
       "      <th>0</th>\n",
       "      <td>₹14,27,000</td>\n",
       "      <td>Audi</td>\n",
       "      <td>A6</td>\n",
       "      <td>60,000 KMS</td>\n",
       "      <td>Used</td>\n",
       "      <td>DIESEL</td>\n",
       "      <td>One</td>\n",
       "      <td>2.0 TDI Premium</td>\n",
       "      <td>ONE OWNER</td>\n",
       "      <td>Dehradun</td>\n",
       "    </tr>\n",
       "    <tr>\n",
       "      <th>1</th>\n",
       "      <td>₹4,25,000</td>\n",
       "      <td>Mahindra</td>\n",
       "      <td>Diesel</td>\n",
       "      <td>222 KMS</td>\n",
       "      <td>2019</td>\n",
       "      <td>DIESEL</td>\n",
       "      <td>Na</td>\n",
       "      <td>Na</td>\n",
       "      <td>Na</td>\n",
       "      <td>Dehradun</td>\n",
       "    </tr>\n",
       "    <tr>\n",
       "      <th>2</th>\n",
       "      <td>₹5,80,000</td>\n",
       "      <td>Skoda</td>\n",
       "      <td>3.6 FSI 4x4</td>\n",
       "      <td>74,000 KMS</td>\n",
       "      <td>2010</td>\n",
       "      <td>PETROL</td>\n",
       "      <td>Na</td>\n",
       "      <td>White</td>\n",
       "      <td>Na</td>\n",
       "      <td>Dehradun</td>\n",
       "    </tr>\n",
       "    <tr>\n",
       "      <th>3</th>\n",
       "      <td>₹2,10,000</td>\n",
       "      <td>Maruti Suzuki</td>\n",
       "      <td>VXI BSIII</td>\n",
       "      <td>31,300 KMS</td>\n",
       "      <td>2007</td>\n",
       "      <td>PETROL</td>\n",
       "      <td>Manual</td>\n",
       "      <td>Red</td>\n",
       "      <td>Na</td>\n",
       "      <td>Dehradun</td>\n",
       "    </tr>\n",
       "    <tr>\n",
       "      <th>4</th>\n",
       "      <td>₹1,50,000</td>\n",
       "      <td>Chevrolet</td>\n",
       "      <td>Beat</td>\n",
       "      <td>1,18,312 KMS</td>\n",
       "      <td>Used</td>\n",
       "      <td>PETROL</td>\n",
       "      <td>Na</td>\n",
       "      <td>White</td>\n",
       "      <td>ONE OWNER</td>\n",
       "      <td>Dehradun</td>\n",
       "    </tr>\n",
       "  </tbody>\n",
       "</table>\n",
       "</div>"
      ],
      "text/plain": [
       "        Price          Brand        Model Kilometers_driven  Year    Fuel  \\\n",
       "0  ₹14,27,000           Audi           A6        60,000 KMS  Used  DIESEL   \n",
       "1   ₹4,25,000       Mahindra       Diesel           222 KMS  2019  DIESEL   \n",
       "2   ₹5,80,000          Skoda  3.6 FSI 4x4        74,000 KMS  2010  PETROL   \n",
       "3   ₹2,10,000  Maruti Suzuki    VXI BSIII        31,300 KMS  2007  PETROL   \n",
       "4   ₹1,50,000      Chevrolet         Beat      1,18,312 KMS  Used  PETROL   \n",
       "\n",
       "  Transmission          Variant  No_owners  Location  \n",
       "0          One  2.0 TDI Premium  ONE OWNER  Dehradun  \n",
       "1           Na               Na         Na  Dehradun  \n",
       "2           Na            White         Na  Dehradun  \n",
       "3       Manual              Red         Na  Dehradun  \n",
       "4           Na            White  ONE OWNER  Dehradun  "
      ]
     },
     "execution_count": 206,
     "metadata": {},
     "output_type": "execute_result"
    }
   ],
   "source": [
    "quikr3.head()"
   ]
  },
  {
   "cell_type": "code",
   "execution_count": 257,
   "metadata": {},
   "outputs": [],
   "source": [
    "driver.close()"
   ]
  },
  {
   "cell_type": "code",
   "execution_count": 258,
   "metadata": {},
   "outputs": [],
   "source": [
    "#Hyderabad"
   ]
  },
  {
   "cell_type": "code",
   "execution_count": 259,
   "metadata": {},
   "outputs": [],
   "source": [
    "driver=webdriver.Firefox(\"C:\\geckodriver-v0.29.1-win64\")"
   ]
  },
  {
   "cell_type": "code",
   "execution_count": 260,
   "metadata": {},
   "outputs": [],
   "source": [
    "driver.get(\"https://www.quikr.com/\")"
   ]
  },
  {
   "cell_type": "code",
   "execution_count": 261,
   "metadata": {},
   "outputs": [],
   "source": [
    "locatio=driver.find_element_by_xpath(\"//i[@class='icon-arrow']\")\n",
    "locatio.click()"
   ]
  },
  {
   "cell_type": "code",
   "execution_count": 262,
   "metadata": {},
   "outputs": [],
   "source": [
    "city=driver.find_element_by_xpath(\"//div[@class='drop-layers']/div/div/input\")\n",
    "city.send_keys(\"Hyderabad\")"
   ]
  },
  {
   "cell_type": "code",
   "execution_count": 263,
   "metadata": {},
   "outputs": [],
   "source": [
    "driver.find_element_by_id(\"hSuggCityList\").click()"
   ]
  },
  {
   "cell_type": "code",
   "execution_count": 264,
   "metadata": {},
   "outputs": [],
   "source": [
    "cars=driver.find_element_by_xpath(\"//ul[@id='fixed-category']/li[6]\")\n",
    "cars.click()"
   ]
  },
  {
   "cell_type": "code",
   "execution_count": 265,
   "metadata": {},
   "outputs": [],
   "source": [
    "search=driver.find_element_by_xpath(\"//button[@class='mdc-button mdc-ripple-upgraded mdc-ripple-upgraded--unbounded mdc-button--primary mdc-button--unelevated mdc-ripple-upgraded--foreground-deactivation mdc-button__width-full']\")\n",
    "search.click()"
   ]
  },
  {
   "cell_type": "code",
   "execution_count": 266,
   "metadata": {},
   "outputs": [],
   "source": [
    "driver.execute_script(\"window.scrollTo(0, document.body.scrollHeight);\") #this code will scroll the web page till bottom"
   ]
  },
  {
   "cell_type": "code",
   "execution_count": 267,
   "metadata": {},
   "outputs": [],
   "source": [
    "urls=[]\n",
    "for i in driver.find_elements_by_xpath(\"//div[@class='mdc-layout-grid__cell mdc-layout-grid__cell--span-4-desktop mdc-layout-grid__cell mdc-layout-grid__cell--span-12-phone']/a\")[0:100]:\n",
    "    urls.append(i.get_attribute('href'))\n",
    "time.sleep(4)"
   ]
  },
  {
   "cell_type": "code",
   "execution_count": 268,
   "metadata": {},
   "outputs": [
    {
     "data": {
      "text/plain": [
       "100"
      ]
     },
     "execution_count": 268,
     "metadata": {},
     "output_type": "execute_result"
    }
   ],
   "source": [
    "len(urls)"
   ]
  },
  {
   "cell_type": "code",
   "execution_count": 269,
   "metadata": {},
   "outputs": [],
   "source": [
    "#Scrapping data of each cars:\n",
    "Price=[]\n",
    "Brand=[]\n",
    "Model=[]\n",
    "Kilometers_driven=[]\n",
    "Year=[]\n",
    "Fuel=[]\n",
    "Transmission=[]\n",
    "Variant=[]\n",
    "No_owners=[]"
   ]
  },
  {
   "cell_type": "code",
   "execution_count": 270,
   "metadata": {},
   "outputs": [
    {
     "data": {
      "text/plain": [
       "100"
      ]
     },
     "execution_count": 270,
     "metadata": {},
     "output_type": "execute_result"
    }
   ],
   "source": [
    "for i in driver.find_elements_by_xpath(\"//div[@class='price']\")[0:100]:\n",
    "    Price.append(i.text) \n",
    "len(Price)"
   ]
  },
  {
   "cell_type": "code",
   "execution_count": 271,
   "metadata": {},
   "outputs": [],
   "source": [
    "for i in urls:\n",
    "    driver.get(i)\n",
    "    time.sleep(5)\n",
    "    \n",
    "    try:\n",
    "        driver.find_element_by_xpath(\"//span[@class='sc-1sbb775-3 eaiAQu ttC cP dF w100 jcC']\").click()\n",
    "    except NoSuchElementException:\n",
    "        pass\n",
    "\n",
    "    try:\n",
    "        second=driver.find_element_by_xpath(\"//ul[@class='sc-1sbb775-0 fkgsye dF fwW jcSB']/li[3]/span\")\n",
    "        Brand.append(second.text)\n",
    "    except NoSuchElementException:\n",
    "        Brand.append(\"Na\")\n",
    "        \n",
    "    try:\n",
    "        third=driver.find_element_by_xpath(\"//ul[@class='sc-1sbb775-0 fkgsye dF fwW jcSB']/li[8]/span\")\n",
    "        Model.append(third.text)\n",
    "    except NoSuchElementException:\n",
    "        Model.append(\"Na\")\n",
    "        \n",
    "    try:\n",
    "        fourt=driver.find_element_by_xpath(\"//ul[@class='sc-1sbb775-0 fkgsye dF fwW jcSB']/li[9]/span\")\n",
    "        Variant.append(fourt.text)\n",
    "    except NoSuchElementException:\n",
    "        Variant.append(\"Na\")\n",
    "        \n",
    "    try:\n",
    "        fifth=driver.find_element_by_xpath(\"//ul[@class='sc-1sbb775-0 fkgsye dF fwW jcSB']/li[4]/span\")\n",
    "        Year.append(fifth.text)\n",
    "    except NoSuchElementException:\n",
    "        Year.append(\"Na\")\n",
    "        \n",
    "            \n",
    "    try:\n",
    "        Sixth=driver.find_element_by_xpath(\"//ul[@class='rnzqd6-0 kKtfpp jcSB pR']/li[1]\")\n",
    "        Fuel.append(Sixth.text)\n",
    "    except NoSuchElementException:\n",
    "        Fuel.append(\"Na\")\n",
    "        \n",
    "    try:\n",
    "        Seventh=driver.find_element_by_xpath(\"//ul[@class='sc-1sbb775-0 fkgsye dF fwW jcSB']/li[11]/span\")\n",
    "        Transmission.append(Seventh.text)\n",
    "    except NoSuchElementException:\n",
    "        Transmission.append(\"Na\")\n",
    "        \n",
    "    try:\n",
    "        Eighth=driver.find_element_by_xpath(\"//ul[@class='rnzqd6-0 kKtfpp jcSB pR']/li[2]\")\n",
    "        Kilometers_driven.append(Eighth.text)\n",
    "    except NoSuchElementException:\n",
    "        Kilometers_driven.append(\"Na\")\n",
    "        \n",
    "    try:\n",
    "        Ninth=driver.find_element_by_xpath(\"//ul[@class='rnzqd6-0 kKtfpp jcSB pR']/li[3]\")\n",
    "        No_owners.append(Ninth.text)\n",
    "    except NoSuchElementException:\n",
    "        No_owners.append(\"Na\")"
   ]
  },
  {
   "cell_type": "code",
   "execution_count": 272,
   "metadata": {},
   "outputs": [],
   "source": [
    "quikr4=pd.DataFrame({})\n",
    "quikr4['Price']=Price\n",
    "quikr4['Brand']=Brand\n",
    "quikr4['Model']=Model\n",
    "quikr4['Kilometers_driven']=Kilometers_driven\n",
    "quikr4['Year']=Year\n",
    "quikr4['Fuel']=Fuel\n",
    "quikr4['Transmission']=Transmission\n",
    "quikr4['Variant']=Variant\n",
    "quikr4['No_owners']=No_owners\n",
    "quikr4['Location']='Hyderabad' "
   ]
  },
  {
   "cell_type": "code",
   "execution_count": 277,
   "metadata": {},
   "outputs": [
    {
     "data": {
      "text/html": [
       "<div>\n",
       "<style scoped>\n",
       "    .dataframe tbody tr th:only-of-type {\n",
       "        vertical-align: middle;\n",
       "    }\n",
       "\n",
       "    .dataframe tbody tr th {\n",
       "        vertical-align: top;\n",
       "    }\n",
       "\n",
       "    .dataframe thead th {\n",
       "        text-align: right;\n",
       "    }\n",
       "</style>\n",
       "<table border=\"1\" class=\"dataframe\">\n",
       "  <thead>\n",
       "    <tr style=\"text-align: right;\">\n",
       "      <th></th>\n",
       "      <th>Price</th>\n",
       "      <th>Brand</th>\n",
       "      <th>Model</th>\n",
       "      <th>Kilometers_driven</th>\n",
       "      <th>Year</th>\n",
       "      <th>Fuel</th>\n",
       "      <th>Transmission</th>\n",
       "      <th>Variant</th>\n",
       "      <th>No_owners</th>\n",
       "      <th>Location</th>\n",
       "    </tr>\n",
       "  </thead>\n",
       "  <tbody>\n",
       "    <tr>\n",
       "      <th>95</th>\n",
       "      <td>₹1,70,000</td>\n",
       "      <td>Hyundai</td>\n",
       "      <td>Santro Xing</td>\n",
       "      <td>54,000 KMS</td>\n",
       "      <td>Used</td>\n",
       "      <td>PETROL</td>\n",
       "      <td>Two</td>\n",
       "      <td>XO ERLX Euro III</td>\n",
       "      <td>TWO OWNER</td>\n",
       "      <td>Hyderabad</td>\n",
       "    </tr>\n",
       "    <tr>\n",
       "      <th>96</th>\n",
       "      <td>₹3,80,000</td>\n",
       "      <td>Tata</td>\n",
       "      <td>Aria</td>\n",
       "      <td>1,62,000 KMS</td>\n",
       "      <td>Used</td>\n",
       "      <td>DIESEL</td>\n",
       "      <td>Oct 10 2021</td>\n",
       "      <td>Pure LX 4x2</td>\n",
       "      <td>TWO OWNER</td>\n",
       "      <td>Hyderabad</td>\n",
       "    </tr>\n",
       "    <tr>\n",
       "      <th>97</th>\n",
       "      <td>₹2,99,000</td>\n",
       "      <td>Datsun</td>\n",
       "      <td>RediGo</td>\n",
       "      <td>15,400 KMS</td>\n",
       "      <td>Used</td>\n",
       "      <td>PETROL</td>\n",
       "      <td>Jul 01 2022</td>\n",
       "      <td>T O</td>\n",
       "      <td>ONE OWNER</td>\n",
       "      <td>Hyderabad</td>\n",
       "    </tr>\n",
       "    <tr>\n",
       "      <th>98</th>\n",
       "      <td>₹5,50,000</td>\n",
       "      <td>Ford</td>\n",
       "      <td>Na</td>\n",
       "      <td>70,000 KMS</td>\n",
       "      <td>2014</td>\n",
       "      <td>DIESEL</td>\n",
       "      <td>Na</td>\n",
       "      <td>Na</td>\n",
       "      <td>Na</td>\n",
       "      <td>Hyderabad</td>\n",
       "    </tr>\n",
       "    <tr>\n",
       "      <th>99</th>\n",
       "      <td>₹15,75,000</td>\n",
       "      <td>Hyundai</td>\n",
       "      <td>Elantra</td>\n",
       "      <td>17,000 KMS</td>\n",
       "      <td>Used</td>\n",
       "      <td>PETROL</td>\n",
       "      <td>One</td>\n",
       "      <td>2.0 SX O AT</td>\n",
       "      <td>ONE OWNER</td>\n",
       "      <td>Hyderabad</td>\n",
       "    </tr>\n",
       "  </tbody>\n",
       "</table>\n",
       "</div>"
      ],
      "text/plain": [
       "         Price    Brand        Model Kilometers_driven  Year    Fuel  \\\n",
       "95   ₹1,70,000  Hyundai  Santro Xing        54,000 KMS  Used  PETROL   \n",
       "96   ₹3,80,000     Tata         Aria      1,62,000 KMS  Used  DIESEL   \n",
       "97   ₹2,99,000   Datsun       RediGo        15,400 KMS  Used  PETROL   \n",
       "98   ₹5,50,000     Ford           Na        70,000 KMS  2014  DIESEL   \n",
       "99  ₹15,75,000  Hyundai      Elantra        17,000 KMS  Used  PETROL   \n",
       "\n",
       "   Transmission           Variant  No_owners   Location  \n",
       "95          Two  XO ERLX Euro III  TWO OWNER  Hyderabad  \n",
       "96  Oct 10 2021       Pure LX 4x2  TWO OWNER  Hyderabad  \n",
       "97  Jul 01 2022               T O  ONE OWNER  Hyderabad  \n",
       "98           Na                Na         Na  Hyderabad  \n",
       "99          One       2.0 SX O AT  ONE OWNER  Hyderabad  "
      ]
     },
     "execution_count": 277,
     "metadata": {},
     "output_type": "execute_result"
    }
   ],
   "source": [
    "quikr4.tail()"
   ]
  },
  {
   "cell_type": "code",
   "execution_count": 278,
   "metadata": {},
   "outputs": [],
   "source": [
    "df_quikr=pd.concat([quikr1,quikr2,quikr3,quikr4])"
   ]
  },
  {
   "cell_type": "code",
   "execution_count": 279,
   "metadata": {},
   "outputs": [],
   "source": [
    "df_quikr.to_csv(\"Scrapped_data_quickr_first.csv\")"
   ]
  },
  {
   "cell_type": "code",
   "execution_count": 2,
   "metadata": {},
   "outputs": [],
   "source": [
    "#Delhi"
   ]
  },
  {
   "cell_type": "code",
   "execution_count": 3,
   "metadata": {},
   "outputs": [],
   "source": [
    "driver=webdriver.Firefox(\"C:\\geckodriver-v0.29.1-win64\")"
   ]
  },
  {
   "cell_type": "code",
   "execution_count": 4,
   "metadata": {},
   "outputs": [],
   "source": [
    "driver.get(\"https://www.quikr.com/\")"
   ]
  },
  {
   "cell_type": "code",
   "execution_count": 6,
   "metadata": {},
   "outputs": [],
   "source": [
    "locatio=driver.find_element_by_xpath(\"//i[@class='icon-arrow']\")\n",
    "locatio.click()"
   ]
  },
  {
   "cell_type": "code",
   "execution_count": 7,
   "metadata": {},
   "outputs": [],
   "source": [
    "city=driver.find_element_by_xpath(\"//div[@class='drop-layers']/div/div/input\")\n",
    "city.send_keys(\"Delhi\")"
   ]
  },
  {
   "cell_type": "code",
   "execution_count": 8,
   "metadata": {},
   "outputs": [],
   "source": [
    "driver.find_element_by_id(\"hSuggCityList\").click()"
   ]
  },
  {
   "cell_type": "code",
   "execution_count": 9,
   "metadata": {},
   "outputs": [],
   "source": [
    "cars=driver.find_element_by_xpath(\"//ul[@id='fixed-category']/li[6]\")\n",
    "cars.click()"
   ]
  },
  {
   "cell_type": "code",
   "execution_count": 10,
   "metadata": {},
   "outputs": [],
   "source": [
    "search=driver.find_element_by_xpath(\"//button[@class='mdc-button mdc-ripple-upgraded mdc-ripple-upgraded--unbounded mdc-button--primary mdc-button--unelevated mdc-ripple-upgraded--foreground-deactivation mdc-button__width-full']\")\n",
    "search.click()"
   ]
  },
  {
   "cell_type": "code",
   "execution_count": 11,
   "metadata": {},
   "outputs": [],
   "source": [
    "driver.execute_script(\"window.scrollTo(0, document.body.scrollHeight);\") #this code will scroll the web page till bottom"
   ]
  },
  {
   "cell_type": "code",
   "execution_count": 12,
   "metadata": {},
   "outputs": [],
   "source": [
    "urls=[]\n",
    "for i in driver.find_elements_by_xpath(\"//div[@class='mdc-layout-grid__cell mdc-layout-grid__cell--span-4-desktop mdc-layout-grid__cell mdc-layout-grid__cell--span-12-phone']/a\")[0:100]:\n",
    "    urls.append(i.get_attribute('href'))\n",
    "time.sleep(4)"
   ]
  },
  {
   "cell_type": "code",
   "execution_count": 13,
   "metadata": {},
   "outputs": [
    {
     "data": {
      "text/plain": [
       "100"
      ]
     },
     "execution_count": 13,
     "metadata": {},
     "output_type": "execute_result"
    }
   ],
   "source": [
    "len(urls)"
   ]
  },
  {
   "cell_type": "code",
   "execution_count": 14,
   "metadata": {},
   "outputs": [],
   "source": [
    "#Scrapping data of each cars:\n",
    "Price=[]\n",
    "Brand=[]\n",
    "Model=[]\n",
    "Kilometers_driven=[]\n",
    "Year=[]\n",
    "Fuel=[]\n",
    "Transmission=[]\n",
    "Variant=[]\n",
    "No_owners=[]"
   ]
  },
  {
   "cell_type": "code",
   "execution_count": 15,
   "metadata": {},
   "outputs": [
    {
     "data": {
      "text/plain": [
       "100"
      ]
     },
     "execution_count": 15,
     "metadata": {},
     "output_type": "execute_result"
    }
   ],
   "source": [
    "for i in driver.find_elements_by_xpath(\"//div[@class='price']\")[0:100]:\n",
    "    Price.append(i.text) \n",
    "len(Price)"
   ]
  },
  {
   "cell_type": "code",
   "execution_count": 16,
   "metadata": {},
   "outputs": [],
   "source": [
    "for i in urls:\n",
    "    driver.get(i)\n",
    "    time.sleep(5)\n",
    "    \n",
    "    try:\n",
    "        driver.find_element_by_xpath(\"//span[@class='sc-1sbb775-3 eaiAQu ttC cP dF w100 jcC']\").click()\n",
    "    except NoSuchElementException:\n",
    "        pass\n",
    "\n",
    "    try:\n",
    "        second=driver.find_element_by_xpath(\"//ul[@class='sc-1sbb775-0 fkgsye dF fwW jcSB']/li[3]/span\")\n",
    "        Brand.append(second.text)\n",
    "    except NoSuchElementException:\n",
    "        Brand.append(\"Na\")\n",
    "        \n",
    "    try:\n",
    "        third=driver.find_element_by_xpath(\"//ul[@class='sc-1sbb775-0 fkgsye dF fwW jcSB']/li[8]/span\")\n",
    "        Model.append(third.text)\n",
    "    except NoSuchElementException:\n",
    "        Model.append(\"Na\")\n",
    "        \n",
    "    try:\n",
    "        fourt=driver.find_element_by_xpath(\"//ul[@class='sc-1sbb775-0 fkgsye dF fwW jcSB']/li[9]/span\")\n",
    "        Variant.append(fourt.text)\n",
    "    except NoSuchElementException:\n",
    "        Variant.append(\"Na\")\n",
    "        \n",
    "    try:\n",
    "        fifth=driver.find_element_by_xpath(\"//ul[@class='sc-1sbb775-0 fkgsye dF fwW jcSB']/li[4]/span\")\n",
    "        Year.append(fifth.text)\n",
    "    except NoSuchElementException:\n",
    "        Year.append(\"Na\")\n",
    "        \n",
    "            \n",
    "    try:\n",
    "        Sixth=driver.find_element_by_xpath(\"//ul[@class='rnzqd6-0 kKtfpp jcSB pR']/li[1]\")\n",
    "        Fuel.append(Sixth.text)\n",
    "    except NoSuchElementException:\n",
    "        Fuel.append(\"Na\")\n",
    "        \n",
    "    try:\n",
    "        Seventh=driver.find_element_by_xpath(\"//ul[@class='sc-1sbb775-0 fkgsye dF fwW jcSB']/li[11]/span\")\n",
    "        Transmission.append(Seventh.text)\n",
    "    except NoSuchElementException:\n",
    "        Transmission.append(\"Na\")\n",
    "        \n",
    "    try:\n",
    "        Eighth=driver.find_element_by_xpath(\"//ul[@class='rnzqd6-0 kKtfpp jcSB pR']/li[2]\")\n",
    "        Kilometers_driven.append(Eighth.text)\n",
    "    except NoSuchElementException:\n",
    "        Kilometers_driven.append(\"Na\")\n",
    "        \n",
    "    try:\n",
    "        Ninth=driver.find_element_by_xpath(\"//ul[@class='rnzqd6-0 kKtfpp jcSB pR']/li[3]\")\n",
    "        No_owners.append(Ninth.text)\n",
    "    except NoSuchElementException:\n",
    "        No_owners.append(\"Na\") "
   ]
  },
  {
   "cell_type": "code",
   "execution_count": 17,
   "metadata": {},
   "outputs": [],
   "source": [
    "quikr5=pd.DataFrame({})\n",
    "quikr5['Price']=Price\n",
    "quikr5['Brand']=Brand\n",
    "quikr5['Model']=Model\n",
    "quikr5['Kilometers_driven']=Kilometers_driven\n",
    "quikr5['Year']=Year\n",
    "quikr5['Fuel']=Fuel\n",
    "quikr5['Transmission']=Transmission\n",
    "quikr5['Variant']=Variant\n",
    "quikr5['No_owners']=No_owners\n",
    "quikr5['Location']='Delhi' "
   ]
  },
  {
   "cell_type": "code",
   "execution_count": 18,
   "metadata": {},
   "outputs": [
    {
     "data": {
      "text/html": [
       "<div>\n",
       "<style scoped>\n",
       "    .dataframe tbody tr th:only-of-type {\n",
       "        vertical-align: middle;\n",
       "    }\n",
       "\n",
       "    .dataframe tbody tr th {\n",
       "        vertical-align: top;\n",
       "    }\n",
       "\n",
       "    .dataframe thead th {\n",
       "        text-align: right;\n",
       "    }\n",
       "</style>\n",
       "<table border=\"1\" class=\"dataframe\">\n",
       "  <thead>\n",
       "    <tr style=\"text-align: right;\">\n",
       "      <th></th>\n",
       "      <th>Price</th>\n",
       "      <th>Brand</th>\n",
       "      <th>Model</th>\n",
       "      <th>Kilometers_driven</th>\n",
       "      <th>Year</th>\n",
       "      <th>Fuel</th>\n",
       "      <th>Transmission</th>\n",
       "      <th>Variant</th>\n",
       "      <th>No_owners</th>\n",
       "      <th>Location</th>\n",
       "    </tr>\n",
       "  </thead>\n",
       "  <tbody>\n",
       "    <tr>\n",
       "      <th>0</th>\n",
       "      <td>₹7,51,000</td>\n",
       "      <td>Audi</td>\n",
       "      <td>2.0 TDI 177bhp Premium</td>\n",
       "      <td>1,20,000 KMS</td>\n",
       "      <td>2011</td>\n",
       "      <td>DIESEL</td>\n",
       "      <td>Na</td>\n",
       "      <td>Black</td>\n",
       "      <td>Na</td>\n",
       "      <td>Delhi</td>\n",
       "    </tr>\n",
       "    <tr>\n",
       "      <th>1</th>\n",
       "      <td>₹7,50,000</td>\n",
       "      <td>Audi</td>\n",
       "      <td>2.0 TDI 177bhp Premium Plus</td>\n",
       "      <td>1,20,000 KMS</td>\n",
       "      <td>2011</td>\n",
       "      <td>DIESEL</td>\n",
       "      <td>Na</td>\n",
       "      <td>Black</td>\n",
       "      <td>Na</td>\n",
       "      <td>Delhi</td>\n",
       "    </tr>\n",
       "    <tr>\n",
       "      <th>2</th>\n",
       "      <td>₹2,90,000</td>\n",
       "      <td>Maruti Suzuki</td>\n",
       "      <td>VDi</td>\n",
       "      <td>72,000 KMS</td>\n",
       "      <td>2012</td>\n",
       "      <td>DIESEL</td>\n",
       "      <td>Na</td>\n",
       "      <td>Aug 11 2021</td>\n",
       "      <td>Na</td>\n",
       "      <td>Delhi</td>\n",
       "    </tr>\n",
       "    <tr>\n",
       "      <th>3</th>\n",
       "      <td>₹7,75,000</td>\n",
       "      <td>Maruti Suzuki</td>\n",
       "      <td>Delta AT 1.2</td>\n",
       "      <td>5,500 KMS</td>\n",
       "      <td>2020</td>\n",
       "      <td>PETROL</td>\n",
       "      <td>Na</td>\n",
       "      <td>White</td>\n",
       "      <td>Na</td>\n",
       "      <td>Delhi</td>\n",
       "    </tr>\n",
       "    <tr>\n",
       "      <th>4</th>\n",
       "      <td>₹2,80,000</td>\n",
       "      <td>Maruti Suzuki</td>\n",
       "      <td>Dzire</td>\n",
       "      <td>90,000 KMS</td>\n",
       "      <td>Used</td>\n",
       "      <td>DIESEL</td>\n",
       "      <td>One</td>\n",
       "      <td>LDI</td>\n",
       "      <td>ONE OWNER</td>\n",
       "      <td>Delhi</td>\n",
       "    </tr>\n",
       "  </tbody>\n",
       "</table>\n",
       "</div>"
      ],
      "text/plain": [
       "       Price          Brand                        Model Kilometers_driven  \\\n",
       "0  ₹7,51,000           Audi       2.0 TDI 177bhp Premium      1,20,000 KMS   \n",
       "1  ₹7,50,000           Audi  2.0 TDI 177bhp Premium Plus      1,20,000 KMS   \n",
       "2  ₹2,90,000  Maruti Suzuki                          VDi        72,000 KMS   \n",
       "3  ₹7,75,000  Maruti Suzuki                 Delta AT 1.2         5,500 KMS   \n",
       "4  ₹2,80,000  Maruti Suzuki                        Dzire        90,000 KMS   \n",
       "\n",
       "   Year    Fuel Transmission      Variant  No_owners Location  \n",
       "0  2011  DIESEL           Na        Black         Na    Delhi  \n",
       "1  2011  DIESEL           Na        Black         Na    Delhi  \n",
       "2  2012  DIESEL           Na  Aug 11 2021         Na    Delhi  \n",
       "3  2020  PETROL           Na        White         Na    Delhi  \n",
       "4  Used  DIESEL          One          LDI  ONE OWNER    Delhi  "
      ]
     },
     "execution_count": 18,
     "metadata": {},
     "output_type": "execute_result"
    }
   ],
   "source": [
    "quikr5.head()"
   ]
  },
  {
   "cell_type": "code",
   "execution_count": 20,
   "metadata": {},
   "outputs": [],
   "source": [
    "driver.close()"
   ]
  },
  {
   "cell_type": "code",
   "execution_count": 21,
   "metadata": {},
   "outputs": [],
   "source": [
    "#Lucknow"
   ]
  },
  {
   "cell_type": "code",
   "execution_count": 22,
   "metadata": {},
   "outputs": [],
   "source": [
    "driver=webdriver.Firefox(\"C:\\geckodriver-v0.29.1-win64\")"
   ]
  },
  {
   "cell_type": "code",
   "execution_count": 23,
   "metadata": {},
   "outputs": [],
   "source": [
    "driver.get(\"https://www.quikr.com/\")"
   ]
  },
  {
   "cell_type": "code",
   "execution_count": 24,
   "metadata": {},
   "outputs": [],
   "source": [
    "locatio=driver.find_element_by_xpath(\"//i[@class='icon-arrow']\")\n",
    "locatio.click()"
   ]
  },
  {
   "cell_type": "code",
   "execution_count": 25,
   "metadata": {},
   "outputs": [],
   "source": [
    "city=driver.find_element_by_xpath(\"//div[@class='drop-layers']/div/div/input\")\n",
    "city.send_keys(\"Lucknow\")"
   ]
  },
  {
   "cell_type": "code",
   "execution_count": 26,
   "metadata": {},
   "outputs": [],
   "source": [
    "driver.find_element_by_id(\"hSuggCityList\").click()"
   ]
  },
  {
   "cell_type": "code",
   "execution_count": 27,
   "metadata": {},
   "outputs": [],
   "source": [
    "cars=driver.find_element_by_xpath(\"//ul[@id='fixed-category']/li[6]\")\n",
    "cars.click()"
   ]
  },
  {
   "cell_type": "code",
   "execution_count": 28,
   "metadata": {},
   "outputs": [],
   "source": [
    "search=driver.find_element_by_xpath(\"//button[@class='mdc-button mdc-ripple-upgraded mdc-ripple-upgraded--unbounded mdc-button--primary mdc-button--unelevated mdc-ripple-upgraded--foreground-deactivation mdc-button__width-full']\")\n",
    "search.click()"
   ]
  },
  {
   "cell_type": "code",
   "execution_count": 29,
   "metadata": {},
   "outputs": [],
   "source": [
    "driver.execute_script(\"window.scrollTo(0, document.body.scrollHeight);\") #this code will scroll the web page till bottom"
   ]
  },
  {
   "cell_type": "code",
   "execution_count": 30,
   "metadata": {},
   "outputs": [],
   "source": [
    "urls=[]\n",
    "for i in driver.find_elements_by_xpath(\"//div[@class='mdc-layout-grid__cell mdc-layout-grid__cell--span-4-desktop mdc-layout-grid__cell mdc-layout-grid__cell--span-12-phone']/a\")[0:100]:\n",
    "    urls.append(i.get_attribute('href'))\n",
    "time.sleep(4)"
   ]
  },
  {
   "cell_type": "code",
   "execution_count": 31,
   "metadata": {},
   "outputs": [
    {
     "data": {
      "text/plain": [
       "100"
      ]
     },
     "execution_count": 31,
     "metadata": {},
     "output_type": "execute_result"
    }
   ],
   "source": [
    "len(urls)"
   ]
  },
  {
   "cell_type": "code",
   "execution_count": 32,
   "metadata": {},
   "outputs": [],
   "source": [
    "#Scrapping data of each cars:\n",
    "Price=[]\n",
    "Brand=[]\n",
    "Model=[]\n",
    "Kilometers_driven=[]\n",
    "Year=[]\n",
    "Fuel=[]\n",
    "Transmission=[]\n",
    "Variant=[]\n",
    "No_owners=[]"
   ]
  },
  {
   "cell_type": "code",
   "execution_count": 33,
   "metadata": {},
   "outputs": [
    {
     "data": {
      "text/plain": [
       "100"
      ]
     },
     "execution_count": 33,
     "metadata": {},
     "output_type": "execute_result"
    }
   ],
   "source": [
    "for i in driver.find_elements_by_xpath(\"//div[@class='price']\")[0:100]:\n",
    "    Price.append(i.text) \n",
    "len(Price)"
   ]
  },
  {
   "cell_type": "code",
   "execution_count": 35,
   "metadata": {},
   "outputs": [],
   "source": [
    "for i in urls:\n",
    "    driver.get(i)\n",
    "    time.sleep(5)\n",
    "    \n",
    "    try:\n",
    "        driver.find_element_by_xpath(\"//span[@class='sc-1sbb775-3 eaiAQu ttC cP dF w100 jcC']\").click()\n",
    "    except NoSuchElementException:\n",
    "        pass\n",
    "\n",
    "    try:\n",
    "        second=driver.find_element_by_xpath(\"//ul[@class='sc-1sbb775-0 fkgsye dF fwW jcSB']/li[3]/span\")\n",
    "        Brand.append(second.text)\n",
    "    except NoSuchElementException:\n",
    "        Brand.append(\"Na\")\n",
    "        \n",
    "    try:\n",
    "        third=driver.find_element_by_xpath(\"//ul[@class='sc-1sbb775-0 fkgsye dF fwW jcSB']/li[8]/span\")\n",
    "        Model.append(third.text)\n",
    "    except NoSuchElementException:\n",
    "        Model.append(\"Na\")\n",
    "        \n",
    "    try:\n",
    "        fourt=driver.find_element_by_xpath(\"//ul[@class='sc-1sbb775-0 fkgsye dF fwW jcSB']/li[9]/span\")\n",
    "        Variant.append(fourt.text)\n",
    "    except NoSuchElementException:\n",
    "        Variant.append(\"Na\")\n",
    "        \n",
    "    try:\n",
    "        fifth=driver.find_element_by_xpath(\"//ul[@class='sc-1sbb775-0 fkgsye dF fwW jcSB']/li[4]/span\")\n",
    "        Year.append(fifth.text)\n",
    "    except NoSuchElementException:\n",
    "        Year.append(\"Na\")\n",
    "        \n",
    "            \n",
    "    try:\n",
    "        Sixth=driver.find_element_by_xpath(\"//ul[@class='rnzqd6-0 kKtfpp jcSB pR']/li[1]\")\n",
    "        Fuel.append(Sixth.text)\n",
    "    except NoSuchElementException:\n",
    "        Fuel.append(\"Na\")\n",
    "        \n",
    "    try:\n",
    "        Seventh=driver.find_element_by_xpath(\"//ul[@class='sc-1sbb775-0 fkgsye dF fwW jcSB']/li[11]/span\")\n",
    "        Transmission.append(Seventh.text)\n",
    "    except NoSuchElementException:\n",
    "        Transmission.append(\"Na\")\n",
    "        \n",
    "    try:\n",
    "        Eighth=driver.find_element_by_xpath(\"//ul[@class='rnzqd6-0 kKtfpp jcSB pR']/li[2]\")\n",
    "        Kilometers_driven.append(Eighth.text)\n",
    "    except NoSuchElementException:\n",
    "        Kilometers_driven.append(\"Na\")\n",
    "        \n",
    "    try:\n",
    "        Ninth=driver.find_element_by_xpath(\"//ul[@class='rnzqd6-0 kKtfpp jcSB pR']/li[3]\")\n",
    "        No_owners.append(Ninth.text)\n",
    "    except NoSuchElementException:\n",
    "        No_owners.append(\"Na\")   "
   ]
  },
  {
   "cell_type": "code",
   "execution_count": 37,
   "metadata": {},
   "outputs": [],
   "source": [
    "quikr6=pd.DataFrame({})\n",
    "quikr6['Price']=Price\n",
    "quikr6['Brand']=Brand\n",
    "quikr6['Model']=Model\n",
    "quikr6['Kilometers_driven']=Kilometers_driven\n",
    "quikr6['Year']=Year\n",
    "quikr6['Fuel']=Fuel\n",
    "quikr6['Transmission']=Transmission\n",
    "quikr6['Variant']=Variant\n",
    "quikr6['No_owners']=No_owners\n",
    "quikr6['Location']='Lucknow' "
   ]
  },
  {
   "cell_type": "code",
   "execution_count": 38,
   "metadata": {},
   "outputs": [
    {
     "data": {
      "text/html": [
       "<div>\n",
       "<style scoped>\n",
       "    .dataframe tbody tr th:only-of-type {\n",
       "        vertical-align: middle;\n",
       "    }\n",
       "\n",
       "    .dataframe tbody tr th {\n",
       "        vertical-align: top;\n",
       "    }\n",
       "\n",
       "    .dataframe thead th {\n",
       "        text-align: right;\n",
       "    }\n",
       "</style>\n",
       "<table border=\"1\" class=\"dataframe\">\n",
       "  <thead>\n",
       "    <tr style=\"text-align: right;\">\n",
       "      <th></th>\n",
       "      <th>Price</th>\n",
       "      <th>Brand</th>\n",
       "      <th>Model</th>\n",
       "      <th>Kilometers_driven</th>\n",
       "      <th>Year</th>\n",
       "      <th>Fuel</th>\n",
       "      <th>Transmission</th>\n",
       "      <th>Variant</th>\n",
       "      <th>No_owners</th>\n",
       "      <th>Location</th>\n",
       "    </tr>\n",
       "  </thead>\n",
       "  <tbody>\n",
       "    <tr>\n",
       "      <th>0</th>\n",
       "      <td>₹5,50,000</td>\n",
       "      <td>Mahindra</td>\n",
       "      <td>T6 Plus</td>\n",
       "      <td>85,000 KMS</td>\n",
       "      <td>2016</td>\n",
       "      <td>DIESEL</td>\n",
       "      <td>Na</td>\n",
       "      <td>White</td>\n",
       "      <td>Na</td>\n",
       "      <td>Lucknow</td>\n",
       "    </tr>\n",
       "    <tr>\n",
       "      <th>1</th>\n",
       "      <td>₹5,20,000</td>\n",
       "      <td>Maruti Suzuki</td>\n",
       "      <td>Swift Dzire</td>\n",
       "      <td>46,000 KMS</td>\n",
       "      <td>Used</td>\n",
       "      <td>PETROL</td>\n",
       "      <td>Manual</td>\n",
       "      <td>ZXi</td>\n",
       "      <td>TWO OWNER</td>\n",
       "      <td>Lucknow</td>\n",
       "    </tr>\n",
       "    <tr>\n",
       "      <th>2</th>\n",
       "      <td>₹12,00,000</td>\n",
       "      <td>Tata</td>\n",
       "      <td>XM 4x2 7 STR</td>\n",
       "      <td>69,000 KMS</td>\n",
       "      <td>2018</td>\n",
       "      <td>DIESEL</td>\n",
       "      <td>Na</td>\n",
       "      <td>Na</td>\n",
       "      <td>Na</td>\n",
       "      <td>Lucknow</td>\n",
       "    </tr>\n",
       "    <tr>\n",
       "      <th>3</th>\n",
       "      <td>₹4,63,000</td>\n",
       "      <td>Mahindra</td>\n",
       "      <td>Diesel</td>\n",
       "      <td>25 KMS</td>\n",
       "      <td>2020</td>\n",
       "      <td>DIESEL</td>\n",
       "      <td>Na</td>\n",
       "      <td>Na</td>\n",
       "      <td>Na</td>\n",
       "      <td>Lucknow</td>\n",
       "    </tr>\n",
       "    <tr>\n",
       "      <th>4</th>\n",
       "      <td>₹14,00,000</td>\n",
       "      <td>Tata</td>\n",
       "      <td>2.2 VX 4x2 Varicor400</td>\n",
       "      <td>36,000 KMS</td>\n",
       "      <td>2019</td>\n",
       "      <td>DIESEL</td>\n",
       "      <td>Na</td>\n",
       "      <td>Na</td>\n",
       "      <td>Na</td>\n",
       "      <td>Lucknow</td>\n",
       "    </tr>\n",
       "  </tbody>\n",
       "</table>\n",
       "</div>"
      ],
      "text/plain": [
       "        Price          Brand                  Model Kilometers_driven  Year  \\\n",
       "0   ₹5,50,000       Mahindra                T6 Plus        85,000 KMS  2016   \n",
       "1   ₹5,20,000  Maruti Suzuki            Swift Dzire        46,000 KMS  Used   \n",
       "2  ₹12,00,000           Tata           XM 4x2 7 STR        69,000 KMS  2018   \n",
       "3   ₹4,63,000       Mahindra                 Diesel            25 KMS  2020   \n",
       "4  ₹14,00,000           Tata  2.2 VX 4x2 Varicor400        36,000 KMS  2019   \n",
       "\n",
       "     Fuel Transmission Variant  No_owners Location  \n",
       "0  DIESEL           Na   White         Na  Lucknow  \n",
       "1  PETROL       Manual     ZXi  TWO OWNER  Lucknow  \n",
       "2  DIESEL           Na      Na         Na  Lucknow  \n",
       "3  DIESEL           Na      Na         Na  Lucknow  \n",
       "4  DIESEL           Na      Na         Na  Lucknow  "
      ]
     },
     "execution_count": 38,
     "metadata": {},
     "output_type": "execute_result"
    }
   ],
   "source": [
    "quikr6.head()"
   ]
  },
  {
   "cell_type": "code",
   "execution_count": 39,
   "metadata": {},
   "outputs": [],
   "source": [
    "driver.close()"
   ]
  },
  {
   "cell_type": "code",
   "execution_count": 40,
   "metadata": {},
   "outputs": [],
   "source": [
    "#Jaipur"
   ]
  },
  {
   "cell_type": "code",
   "execution_count": 41,
   "metadata": {},
   "outputs": [],
   "source": [
    "driver=webdriver.Firefox(\"C:\\geckodriver-v0.29.1-win64\")"
   ]
  },
  {
   "cell_type": "code",
   "execution_count": 42,
   "metadata": {},
   "outputs": [],
   "source": [
    "driver.get(\"https://www.quikr.com/\")"
   ]
  },
  {
   "cell_type": "code",
   "execution_count": 43,
   "metadata": {},
   "outputs": [],
   "source": [
    "locatio=driver.find_element_by_xpath(\"//i[@class='icon-arrow']\")\n",
    "locatio.click()"
   ]
  },
  {
   "cell_type": "code",
   "execution_count": 44,
   "metadata": {},
   "outputs": [],
   "source": [
    "city=driver.find_element_by_xpath(\"//div[@class='drop-layers']/div/div/input\")\n",
    "city.send_keys(\"Jaipur\")"
   ]
  },
  {
   "cell_type": "code",
   "execution_count": 45,
   "metadata": {},
   "outputs": [],
   "source": [
    "driver.find_element_by_id(\"hSuggCityList\").click()"
   ]
  },
  {
   "cell_type": "code",
   "execution_count": 46,
   "metadata": {},
   "outputs": [],
   "source": [
    "cars=driver.find_element_by_xpath(\"//ul[@id='fixed-category']/li[6]\")\n",
    "cars.click()"
   ]
  },
  {
   "cell_type": "code",
   "execution_count": 47,
   "metadata": {},
   "outputs": [],
   "source": [
    "search=driver.find_element_by_xpath(\"//button[@class='mdc-button mdc-ripple-upgraded mdc-ripple-upgraded--unbounded mdc-button--primary mdc-button--unelevated mdc-ripple-upgraded--foreground-deactivation mdc-button__width-full']\")\n",
    "search.click()"
   ]
  },
  {
   "cell_type": "code",
   "execution_count": 48,
   "metadata": {},
   "outputs": [],
   "source": [
    "driver.execute_script(\"window.scrollTo(0, document.body.scrollHeight);\") #this code will scroll the web page till bottom"
   ]
  },
  {
   "cell_type": "code",
   "execution_count": 49,
   "metadata": {},
   "outputs": [],
   "source": [
    "urls=[]\n",
    "for i in driver.find_elements_by_xpath(\"//div[@class='mdc-layout-grid__cell mdc-layout-grid__cell--span-4-desktop mdc-layout-grid__cell mdc-layout-grid__cell--span-12-phone']/a\")[0:100]:\n",
    "    urls.append(i.get_attribute('href'))\n",
    "time.sleep(4)"
   ]
  },
  {
   "cell_type": "code",
   "execution_count": 50,
   "metadata": {},
   "outputs": [
    {
     "data": {
      "text/plain": [
       "100"
      ]
     },
     "execution_count": 50,
     "metadata": {},
     "output_type": "execute_result"
    }
   ],
   "source": [
    "len(urls)"
   ]
  },
  {
   "cell_type": "code",
   "execution_count": 51,
   "metadata": {},
   "outputs": [],
   "source": [
    "#Scrapping data of each cars:\n",
    "Price=[]\n",
    "Brand=[]\n",
    "Model=[]\n",
    "Kilometers_driven=[]\n",
    "Year=[]\n",
    "Fuel=[]\n",
    "Transmission=[]\n",
    "Variant=[]\n",
    "No_owners=[]"
   ]
  },
  {
   "cell_type": "code",
   "execution_count": 52,
   "metadata": {},
   "outputs": [
    {
     "data": {
      "text/plain": [
       "100"
      ]
     },
     "execution_count": 52,
     "metadata": {},
     "output_type": "execute_result"
    }
   ],
   "source": [
    "for i in driver.find_elements_by_xpath(\"//div[@class='price']\")[0:100]:\n",
    "    Price.append(i.text) \n",
    "len(Price)"
   ]
  },
  {
   "cell_type": "code",
   "execution_count": 54,
   "metadata": {},
   "outputs": [],
   "source": [
    "for i in urls:\n",
    "    driver.get(i)\n",
    "    time.sleep(5)\n",
    "    \n",
    "    try:\n",
    "        driver.find_element_by_xpath(\"//span[@class='sc-1sbb775-3 eaiAQu ttC cP dF w100 jcC']\").click()\n",
    "    except NoSuchElementException:\n",
    "        pass\n",
    "\n",
    "    try:\n",
    "        second=driver.find_element_by_xpath(\"//ul[@class='sc-1sbb775-0 fkgsye dF fwW jcSB']/li[3]/span\")\n",
    "        Brand.append(second.text)\n",
    "    except NoSuchElementException:\n",
    "        Brand.append(\"Na\")\n",
    "        \n",
    "    try:\n",
    "        third=driver.find_element_by_xpath(\"//ul[@class='sc-1sbb775-0 fkgsye dF fwW jcSB']/li[8]/span\")\n",
    "        Model.append(third.text)\n",
    "    except NoSuchElementException:\n",
    "        Model.append(\"Na\")\n",
    "        \n",
    "    try:\n",
    "        fourt=driver.find_element_by_xpath(\"//ul[@class='sc-1sbb775-0 fkgsye dF fwW jcSB']/li[9]/span\")\n",
    "        Variant.append(fourt.text)\n",
    "    except NoSuchElementException:\n",
    "        Variant.append(\"Na\")\n",
    "        \n",
    "    try:\n",
    "        fifth=driver.find_element_by_xpath(\"//ul[@class='sc-1sbb775-0 fkgsye dF fwW jcSB']/li[4]/span\")\n",
    "        Year.append(fifth.text)\n",
    "    except NoSuchElementException:\n",
    "        Year.append(\"Na\")\n",
    "        \n",
    "            \n",
    "    try:\n",
    "        Sixth=driver.find_element_by_xpath(\"//ul[@class='rnzqd6-0 kKtfpp jcSB pR']/li[1]\")\n",
    "        Fuel.append(Sixth.text)\n",
    "    except NoSuchElementException:\n",
    "        Fuel.append(\"Na\")\n",
    "        \n",
    "    try:\n",
    "        Seventh=driver.find_element_by_xpath(\"//ul[@class='sc-1sbb775-0 fkgsye dF fwW jcSB']/li[11]/span\")\n",
    "        Transmission.append(Seventh.text)\n",
    "    except NoSuchElementException:\n",
    "        Transmission.append(\"Na\")\n",
    "        \n",
    "    try:\n",
    "        Eighth=driver.find_element_by_xpath(\"//ul[@class='rnzqd6-0 kKtfpp jcSB pR']/li[2]\")\n",
    "        Kilometers_driven.append(Eighth.text)\n",
    "    except NoSuchElementException:\n",
    "        Kilometers_driven.append(\"Na\")\n",
    "        \n",
    "    try:\n",
    "        Ninth=driver.find_element_by_xpath(\"//ul[@class='rnzqd6-0 kKtfpp jcSB pR']/li[3]\")\n",
    "        No_owners.append(Ninth.text)\n",
    "    except NoSuchElementException:\n",
    "        No_owners.append(\"Na\")  "
   ]
  },
  {
   "cell_type": "code",
   "execution_count": 55,
   "metadata": {},
   "outputs": [],
   "source": [
    "quikr7=pd.DataFrame({})\n",
    "quikr7['Price']=Price\n",
    "quikr7['Brand']=Brand\n",
    "quikr7['Model']=Model\n",
    "quikr7['Kilometers_driven']=Kilometers_driven\n",
    "quikr7['Year']=Year\n",
    "quikr7['Fuel']=Fuel\n",
    "quikr7['Transmission']=Transmission\n",
    "quikr7['Variant']=Variant\n",
    "quikr7['No_owners']=No_owners\n",
    "quikr7['Location']='Jaipur' "
   ]
  },
  {
   "cell_type": "code",
   "execution_count": 56,
   "metadata": {},
   "outputs": [
    {
     "data": {
      "text/html": [
       "<div>\n",
       "<style scoped>\n",
       "    .dataframe tbody tr th:only-of-type {\n",
       "        vertical-align: middle;\n",
       "    }\n",
       "\n",
       "    .dataframe tbody tr th {\n",
       "        vertical-align: top;\n",
       "    }\n",
       "\n",
       "    .dataframe thead th {\n",
       "        text-align: right;\n",
       "    }\n",
       "</style>\n",
       "<table border=\"1\" class=\"dataframe\">\n",
       "  <thead>\n",
       "    <tr style=\"text-align: right;\">\n",
       "      <th></th>\n",
       "      <th>Price</th>\n",
       "      <th>Brand</th>\n",
       "      <th>Model</th>\n",
       "      <th>Kilometers_driven</th>\n",
       "      <th>Year</th>\n",
       "      <th>Fuel</th>\n",
       "      <th>Transmission</th>\n",
       "      <th>Variant</th>\n",
       "      <th>No_owners</th>\n",
       "      <th>Location</th>\n",
       "    </tr>\n",
       "  </thead>\n",
       "  <tbody>\n",
       "    <tr>\n",
       "      <th>0</th>\n",
       "      <td>₹1,60,000</td>\n",
       "      <td>Maruti Suzuki</td>\n",
       "      <td>VXi 1.2 BS IV</td>\n",
       "      <td>55,000 KMS</td>\n",
       "      <td>2008</td>\n",
       "      <td>PETROL</td>\n",
       "      <td>Na</td>\n",
       "      <td>Black</td>\n",
       "      <td>Na</td>\n",
       "      <td>Jaipur</td>\n",
       "    </tr>\n",
       "    <tr>\n",
       "      <th>1</th>\n",
       "      <td>₹1,95,000</td>\n",
       "      <td>Maruti Suzuki</td>\n",
       "      <td>LXI BS IV</td>\n",
       "      <td>45,000 KMS</td>\n",
       "      <td>2010</td>\n",
       "      <td>PETROL</td>\n",
       "      <td>Manual</td>\n",
       "      <td>Silver</td>\n",
       "      <td>Na</td>\n",
       "      <td>Jaipur</td>\n",
       "    </tr>\n",
       "    <tr>\n",
       "      <th>2</th>\n",
       "      <td>₹2,25,000</td>\n",
       "      <td>Volkswagen</td>\n",
       "      <td>Trendline 1.2L D</td>\n",
       "      <td>76,000 KMS</td>\n",
       "      <td>2011</td>\n",
       "      <td>DIESEL</td>\n",
       "      <td>Na</td>\n",
       "      <td>Red</td>\n",
       "      <td>Na</td>\n",
       "      <td>Jaipur</td>\n",
       "    </tr>\n",
       "    <tr>\n",
       "      <th>3</th>\n",
       "      <td>₹4,25,000</td>\n",
       "      <td>Hyundai</td>\n",
       "      <td>Sportz O 1.2 Kappa VTVT</td>\n",
       "      <td>58,000 KMS</td>\n",
       "      <td>2016</td>\n",
       "      <td>PETROL</td>\n",
       "      <td>Na</td>\n",
       "      <td>White</td>\n",
       "      <td>Na</td>\n",
       "      <td>Jaipur</td>\n",
       "    </tr>\n",
       "    <tr>\n",
       "      <th>4</th>\n",
       "      <td>₹6,60,000</td>\n",
       "      <td>Maruti Suzuki</td>\n",
       "      <td>VXi 1.2 ABS BS IV</td>\n",
       "      <td>11,000 KMS</td>\n",
       "      <td>2020</td>\n",
       "      <td>PETROL</td>\n",
       "      <td>Na</td>\n",
       "      <td>White</td>\n",
       "      <td>Na</td>\n",
       "      <td>Jaipur</td>\n",
       "    </tr>\n",
       "  </tbody>\n",
       "</table>\n",
       "</div>"
      ],
      "text/plain": [
       "       Price          Brand                    Model Kilometers_driven  Year  \\\n",
       "0  ₹1,60,000  Maruti Suzuki            VXi 1.2 BS IV        55,000 KMS  2008   \n",
       "1  ₹1,95,000  Maruti Suzuki                LXI BS IV        45,000 KMS  2010   \n",
       "2  ₹2,25,000     Volkswagen         Trendline 1.2L D        76,000 KMS  2011   \n",
       "3  ₹4,25,000        Hyundai  Sportz O 1.2 Kappa VTVT        58,000 KMS  2016   \n",
       "4  ₹6,60,000  Maruti Suzuki        VXi 1.2 ABS BS IV        11,000 KMS  2020   \n",
       "\n",
       "     Fuel Transmission Variant No_owners Location  \n",
       "0  PETROL           Na   Black        Na   Jaipur  \n",
       "1  PETROL       Manual  Silver        Na   Jaipur  \n",
       "2  DIESEL           Na     Red        Na   Jaipur  \n",
       "3  PETROL           Na   White        Na   Jaipur  \n",
       "4  PETROL           Na   White        Na   Jaipur  "
      ]
     },
     "execution_count": 56,
     "metadata": {},
     "output_type": "execute_result"
    }
   ],
   "source": [
    "quikr7.head()"
   ]
  },
  {
   "cell_type": "code",
   "execution_count": 99,
   "metadata": {},
   "outputs": [],
   "source": [
    "driver.close()"
   ]
  },
  {
   "cell_type": "code",
   "execution_count": 100,
   "metadata": {},
   "outputs": [],
   "source": [
    "#Ahmedabad"
   ]
  },
  {
   "cell_type": "code",
   "execution_count": 101,
   "metadata": {},
   "outputs": [],
   "source": [
    "driver=webdriver.Firefox(\"C:\\geckodriver-v0.29.1-win64\")"
   ]
  },
  {
   "cell_type": "code",
   "execution_count": 102,
   "metadata": {},
   "outputs": [],
   "source": [
    "driver.get(\"https://www.quikr.com/\")"
   ]
  },
  {
   "cell_type": "code",
   "execution_count": 103,
   "metadata": {},
   "outputs": [],
   "source": [
    "locatio=driver.find_element_by_xpath(\"//i[@class='icon-arrow']\")\n",
    "locatio.click()"
   ]
  },
  {
   "cell_type": "code",
   "execution_count": 104,
   "metadata": {},
   "outputs": [],
   "source": [
    "city=driver.find_element_by_xpath(\"//div[@class='drop-layers']/div/div/input\")\n",
    "city.send_keys(\"Ahmedabad\")"
   ]
  },
  {
   "cell_type": "code",
   "execution_count": 105,
   "metadata": {},
   "outputs": [],
   "source": [
    "driver.find_element_by_id(\"hSuggCityList\").click()"
   ]
  },
  {
   "cell_type": "code",
   "execution_count": 106,
   "metadata": {},
   "outputs": [],
   "source": [
    "cars=driver.find_element_by_xpath(\"//ul[@id='fixed-category']/li[6]\")\n",
    "cars.click()"
   ]
  },
  {
   "cell_type": "code",
   "execution_count": 107,
   "metadata": {},
   "outputs": [],
   "source": [
    "search=driver.find_element_by_xpath(\"//button[@class='mdc-button mdc-ripple-upgraded mdc-ripple-upgraded--unbounded mdc-button--primary mdc-button--unelevated mdc-ripple-upgraded--foreground-deactivation mdc-button__width-full']\")\n",
    "search.click()"
   ]
  },
  {
   "cell_type": "code",
   "execution_count": 108,
   "metadata": {},
   "outputs": [],
   "source": [
    "driver.execute_script(\"window.scrollTo(0, document.body.scrollHeight);\") #this code will scroll the web page till bottom"
   ]
  },
  {
   "cell_type": "code",
   "execution_count": 109,
   "metadata": {},
   "outputs": [
    {
     "data": {
      "text/plain": [
       "120"
      ]
     },
     "execution_count": 109,
     "metadata": {},
     "output_type": "execute_result"
    }
   ],
   "source": [
    "urls=[]\n",
    "for i in driver.find_elements_by_xpath(\"//div[@class='mdc-layout-grid__cell mdc-layout-grid__cell--span-4-desktop mdc-layout-grid__cell mdc-layout-grid__cell--span-12-phone']/a\")[0:120]:\n",
    "    urls.append(i.get_attribute('href'))\n",
    "time.sleep(4)\n",
    "len(urls)"
   ]
  },
  {
   "cell_type": "code",
   "execution_count": 110,
   "metadata": {},
   "outputs": [],
   "source": [
    "#Scrapping data of each cars:\n",
    "Price=[]\n",
    "Brand=[]\n",
    "Model=[]\n",
    "Kilometers_driven=[]\n",
    "Year=[]\n",
    "Fuel=[]\n",
    "Transmission=[]\n",
    "Variant=[]\n",
    "No_owners=[]"
   ]
  },
  {
   "cell_type": "code",
   "execution_count": 111,
   "metadata": {},
   "outputs": [
    {
     "data": {
      "text/plain": [
       "150"
      ]
     },
     "execution_count": 111,
     "metadata": {},
     "output_type": "execute_result"
    }
   ],
   "source": [
    "for i in driver.find_elements_by_xpath(\"//div[@class='price']\")[0:150]:\n",
    "    Price.append(i.text) \n",
    "len(Price)"
   ]
  },
  {
   "cell_type": "code",
   "execution_count": 112,
   "metadata": {},
   "outputs": [],
   "source": [
    "for i in urls:\n",
    "    driver.get(i)\n",
    "    time.sleep(5)\n",
    "    \n",
    "    try:\n",
    "        driver.find_element_by_xpath(\"//span[@class='sc-1sbb775-3 eaiAQu ttC cP dF w100 jcC']\").click()\n",
    "    except NoSuchElementException:\n",
    "        pass\n",
    "\n",
    "    try:\n",
    "        second=driver.find_element_by_xpath(\"//ul[@class='sc-1sbb775-0 fkgsye dF fwW jcSB']/li[3]/span\")\n",
    "        Brand.append(second.text)\n",
    "    except NoSuchElementException:\n",
    "        Brand.append(\"Na\")\n",
    "        \n",
    "    try:\n",
    "        third=driver.find_element_by_xpath(\"//ul[@class='sc-1sbb775-0 fkgsye dF fwW jcSB']/li[8]/span\")\n",
    "        Model.append(third.text)\n",
    "    except NoSuchElementException:\n",
    "        Model.append(\"Na\")\n",
    "        \n",
    "    try:\n",
    "        fourt=driver.find_element_by_xpath(\"//ul[@class='sc-1sbb775-0 fkgsye dF fwW jcSB']/li[9]/span\")\n",
    "        Variant.append(fourt.text)\n",
    "    except NoSuchElementException:\n",
    "        Variant.append(\"Na\")\n",
    "        \n",
    "    try:\n",
    "        fifth=driver.find_element_by_xpath(\"//ul[@class='sc-1sbb775-0 fkgsye dF fwW jcSB']/li[4]/span\")\n",
    "        Year.append(fifth.text)\n",
    "    except NoSuchElementException:\n",
    "        Year.append(\"Na\")\n",
    "        \n",
    "            \n",
    "    try:\n",
    "        Sixth=driver.find_element_by_xpath(\"//ul[@class='rnzqd6-0 kKtfpp jcSB pR']/li[1]\")\n",
    "        Fuel.append(Sixth.text)\n",
    "    except NoSuchElementException:\n",
    "        Fuel.append(\"Na\")\n",
    "        \n",
    "    try:\n",
    "        Seventh=driver.find_element_by_xpath(\"//ul[@class='sc-1sbb775-0 fkgsye dF fwW jcSB']/li[11]/span\")\n",
    "        Transmission.append(Seventh.text)\n",
    "    except NoSuchElementException:\n",
    "        Transmission.append(\"Na\")\n",
    "        \n",
    "    try:\n",
    "        Eighth=driver.find_element_by_xpath(\"//ul[@class='rnzqd6-0 kKtfpp jcSB pR']/li[2]\")\n",
    "        Kilometers_driven.append(Eighth.text)\n",
    "    except NoSuchElementException:\n",
    "        Kilometers_driven.append(\"Na\")\n",
    "        \n",
    "    try:\n",
    "        Ninth=driver.find_element_by_xpath(\"//ul[@class='rnzqd6-0 kKtfpp jcSB pR']/li[3]\")\n",
    "        No_owners.append(Ninth.text)\n",
    "    except NoSuchElementException:\n",
    "        No_owners.append(\"Na\")  "
   ]
  },
  {
   "cell_type": "code",
   "execution_count": 113,
   "metadata": {},
   "outputs": [],
   "source": [
    "quikr8=pd.DataFrame({})\n",
    "quikr8['Price']=Price[0:120]\n",
    "quikr8['Brand']=Brand\n",
    "quikr8['Model']=Model\n",
    "quikr8['Kilometers_driven']=Kilometers_driven\n",
    "quikr8['Year']=Year\n",
    "quikr8['Fuel']=Fuel\n",
    "quikr8['Transmission']=Transmission\n",
    "quikr8['Variant']=Variant\n",
    "quikr8['No_owners']=No_owners\n",
    "quikr8['Location']='Ahmedabad' "
   ]
  },
  {
   "cell_type": "code",
   "execution_count": 115,
   "metadata": {},
   "outputs": [
    {
     "data": {
      "text/html": [
       "<div>\n",
       "<style scoped>\n",
       "    .dataframe tbody tr th:only-of-type {\n",
       "        vertical-align: middle;\n",
       "    }\n",
       "\n",
       "    .dataframe tbody tr th {\n",
       "        vertical-align: top;\n",
       "    }\n",
       "\n",
       "    .dataframe thead th {\n",
       "        text-align: right;\n",
       "    }\n",
       "</style>\n",
       "<table border=\"1\" class=\"dataframe\">\n",
       "  <thead>\n",
       "    <tr style=\"text-align: right;\">\n",
       "      <th></th>\n",
       "      <th>Price</th>\n",
       "      <th>Brand</th>\n",
       "      <th>Model</th>\n",
       "      <th>Kilometers_driven</th>\n",
       "      <th>Year</th>\n",
       "      <th>Fuel</th>\n",
       "      <th>Transmission</th>\n",
       "      <th>Variant</th>\n",
       "      <th>No_owners</th>\n",
       "      <th>Location</th>\n",
       "    </tr>\n",
       "  </thead>\n",
       "  <tbody>\n",
       "    <tr>\n",
       "      <th>0</th>\n",
       "      <td>₹4,75,000</td>\n",
       "      <td>Honda</td>\n",
       "      <td>Mobilio</td>\n",
       "      <td>75,000 KMS</td>\n",
       "      <td>Used</td>\n",
       "      <td>DIESEL</td>\n",
       "      <td>Manual</td>\n",
       "      <td>V I DTEC</td>\n",
       "      <td>Na</td>\n",
       "      <td>Ahmedabad</td>\n",
       "    </tr>\n",
       "    <tr>\n",
       "      <th>1</th>\n",
       "      <td>₹7,50,000</td>\n",
       "      <td>Hyundai</td>\n",
       "      <td>Verna Fluidic</td>\n",
       "      <td>65,000 KMS</td>\n",
       "      <td>Used</td>\n",
       "      <td>DIESEL</td>\n",
       "      <td>Na</td>\n",
       "      <td>New</td>\n",
       "      <td>Na</td>\n",
       "      <td>Ahmedabad</td>\n",
       "    </tr>\n",
       "    <tr>\n",
       "      <th>2</th>\n",
       "      <td>₹4,11,000</td>\n",
       "      <td>Mahindra</td>\n",
       "      <td>C8</td>\n",
       "      <td>85,000 KMS</td>\n",
       "      <td>2015</td>\n",
       "      <td>DIESEL</td>\n",
       "      <td>Na</td>\n",
       "      <td>Manual</td>\n",
       "      <td>Na</td>\n",
       "      <td>Ahmedabad</td>\n",
       "    </tr>\n",
       "    <tr>\n",
       "      <th>3</th>\n",
       "      <td>₹4,11,000</td>\n",
       "      <td>Mahindra</td>\n",
       "      <td>C8</td>\n",
       "      <td>85,000 KMS</td>\n",
       "      <td>2015</td>\n",
       "      <td>DIESEL</td>\n",
       "      <td>Na</td>\n",
       "      <td>Manual</td>\n",
       "      <td>Na</td>\n",
       "      <td>Ahmedabad</td>\n",
       "    </tr>\n",
       "    <tr>\n",
       "      <th>4</th>\n",
       "      <td>₹3,11,000</td>\n",
       "      <td>Mahindra</td>\n",
       "      <td>C8</td>\n",
       "      <td>8,50,003 KMS</td>\n",
       "      <td>2013</td>\n",
       "      <td>DIESEL</td>\n",
       "      <td>Na</td>\n",
       "      <td>Manual</td>\n",
       "      <td>Na</td>\n",
       "      <td>Ahmedabad</td>\n",
       "    </tr>\n",
       "  </tbody>\n",
       "</table>\n",
       "</div>"
      ],
      "text/plain": [
       "       Price     Brand          Model Kilometers_driven  Year    Fuel  \\\n",
       "0  ₹4,75,000     Honda        Mobilio        75,000 KMS  Used  DIESEL   \n",
       "1  ₹7,50,000   Hyundai  Verna Fluidic        65,000 KMS  Used  DIESEL   \n",
       "2  ₹4,11,000  Mahindra             C8        85,000 KMS  2015  DIESEL   \n",
       "3  ₹4,11,000  Mahindra             C8        85,000 KMS  2015  DIESEL   \n",
       "4  ₹3,11,000  Mahindra             C8      8,50,003 KMS  2013  DIESEL   \n",
       "\n",
       "  Transmission   Variant No_owners   Location  \n",
       "0       Manual  V I DTEC        Na  Ahmedabad  \n",
       "1           Na       New        Na  Ahmedabad  \n",
       "2           Na    Manual        Na  Ahmedabad  \n",
       "3           Na    Manual        Na  Ahmedabad  \n",
       "4           Na    Manual        Na  Ahmedabad  "
      ]
     },
     "execution_count": 115,
     "metadata": {},
     "output_type": "execute_result"
    }
   ],
   "source": [
    "quikr8.head()"
   ]
  },
  {
   "cell_type": "code",
   "execution_count": 136,
   "metadata": {},
   "outputs": [],
   "source": [
    "driver.close()"
   ]
  },
  {
   "cell_type": "code",
   "execution_count": 137,
   "metadata": {},
   "outputs": [],
   "source": [
    "#Pune"
   ]
  },
  {
   "cell_type": "code",
   "execution_count": 138,
   "metadata": {},
   "outputs": [],
   "source": [
    "driver=webdriver.Firefox(\"C:\\geckodriver-v0.29.1-win64\")"
   ]
  },
  {
   "cell_type": "code",
   "execution_count": 139,
   "metadata": {},
   "outputs": [],
   "source": [
    "driver.get(\"https://www.quikr.com/\")"
   ]
  },
  {
   "cell_type": "code",
   "execution_count": 140,
   "metadata": {},
   "outputs": [],
   "source": [
    "locatio=driver.find_element_by_xpath(\"//i[@class='icon-arrow']\")\n",
    "locatio.click()"
   ]
  },
  {
   "cell_type": "code",
   "execution_count": 141,
   "metadata": {},
   "outputs": [],
   "source": [
    "city=driver.find_element_by_xpath(\"//div[@class='drop-layers']/div/div/input\")\n",
    "city.send_keys(\"Pune\")"
   ]
  },
  {
   "cell_type": "code",
   "execution_count": 142,
   "metadata": {},
   "outputs": [],
   "source": [
    "driver.find_element_by_id(\"hSuggCityList\").click()"
   ]
  },
  {
   "cell_type": "code",
   "execution_count": 143,
   "metadata": {},
   "outputs": [],
   "source": [
    "cars=driver.find_element_by_xpath(\"//ul[@id='fixed-category']/li[6]\")\n",
    "cars.click()"
   ]
  },
  {
   "cell_type": "code",
   "execution_count": 144,
   "metadata": {},
   "outputs": [],
   "source": [
    "search=driver.find_element_by_xpath(\"//button[@class='mdc-button mdc-ripple-upgraded mdc-ripple-upgraded--unbounded mdc-button--primary mdc-button--unelevated mdc-ripple-upgraded--foreground-deactivation mdc-button__width-full']\")\n",
    "search.click()"
   ]
  },
  {
   "cell_type": "code",
   "execution_count": 145,
   "metadata": {},
   "outputs": [],
   "source": [
    "driver.execute_script(\"window.scrollTo(0, document.body.scrollHeight);\") #this code will scroll the web page till bottom"
   ]
  },
  {
   "cell_type": "code",
   "execution_count": 146,
   "metadata": {},
   "outputs": [
    {
     "data": {
      "text/plain": [
       "130"
      ]
     },
     "execution_count": 146,
     "metadata": {},
     "output_type": "execute_result"
    }
   ],
   "source": [
    "urls=[]\n",
    "for i in driver.find_elements_by_xpath(\"//div[@class='mdc-layout-grid__cell mdc-layout-grid__cell--span-4-desktop mdc-layout-grid__cell mdc-layout-grid__cell--span-12-phone']/a\")[0:130]:\n",
    "    urls.append(i.get_attribute('href'))\n",
    "time.sleep(4)\n",
    "len(urls)"
   ]
  },
  {
   "cell_type": "code",
   "execution_count": 147,
   "metadata": {},
   "outputs": [],
   "source": [
    "#Scrapping data of each cars:\n",
    "Price=[]\n",
    "Brand=[]\n",
    "Model=[]\n",
    "Kilometers_driven=[]\n",
    "Year=[]\n",
    "Fuel=[]\n",
    "Transmission=[]\n",
    "Variant=[]\n",
    "No_owners=[]"
   ]
  },
  {
   "cell_type": "code",
   "execution_count": 148,
   "metadata": {},
   "outputs": [
    {
     "data": {
      "text/plain": [
       "130"
      ]
     },
     "execution_count": 148,
     "metadata": {},
     "output_type": "execute_result"
    }
   ],
   "source": [
    "for i in driver.find_elements_by_xpath(\"//div[@class='price']\")[0:130]:\n",
    "    Price.append(i.text) \n",
    "len(Price)"
   ]
  },
  {
   "cell_type": "code",
   "execution_count": 149,
   "metadata": {},
   "outputs": [],
   "source": [
    "for i in urls:\n",
    "    driver.get(i)\n",
    "    time.sleep(5)\n",
    "    \n",
    "    try:\n",
    "        driver.find_element_by_xpath(\"//span[@class='sc-1sbb775-3 eaiAQu ttC cP dF w100 jcC']\").click()\n",
    "    except NoSuchElementException:\n",
    "        pass\n",
    "\n",
    "    try:\n",
    "        second=driver.find_element_by_xpath(\"//ul[@class='sc-1sbb775-0 fkgsye dF fwW jcSB']/li[3]/span\")\n",
    "        Brand.append(second.text)\n",
    "    except NoSuchElementException:\n",
    "        Brand.append(\"Na\")\n",
    "        \n",
    "    try:\n",
    "        third=driver.find_element_by_xpath(\"//ul[@class='sc-1sbb775-0 fkgsye dF fwW jcSB']/li[8]/span\")\n",
    "        Model.append(third.text)\n",
    "    except NoSuchElementException:\n",
    "        Model.append(\"Na\")\n",
    "        \n",
    "    try:\n",
    "        fourt=driver.find_element_by_xpath(\"//ul[@class='sc-1sbb775-0 fkgsye dF fwW jcSB']/li[9]/span\")\n",
    "        Variant.append(fourt.text)\n",
    "    except NoSuchElementException:\n",
    "        Variant.append(\"Na\")\n",
    "        \n",
    "    try:\n",
    "        fifth=driver.find_element_by_xpath(\"//ul[@class='sc-1sbb775-0 fkgsye dF fwW jcSB']/li[4]/span\")\n",
    "        Year.append(fifth.text)\n",
    "    except NoSuchElementException:\n",
    "        Year.append(\"Na\")\n",
    "        \n",
    "            \n",
    "    try:\n",
    "        Sixth=driver.find_element_by_xpath(\"//ul[@class='rnzqd6-0 kKtfpp jcSB pR']/li[1]\")\n",
    "        Fuel.append(Sixth.text)\n",
    "    except NoSuchElementException:\n",
    "        Fuel.append(\"Na\")\n",
    "        \n",
    "    try:\n",
    "        Seventh=driver.find_element_by_xpath(\"//ul[@class='sc-1sbb775-0 fkgsye dF fwW jcSB']/li[11]/span\")\n",
    "        Transmission.append(Seventh.text)\n",
    "    except NoSuchElementException:\n",
    "        Transmission.append(\"Na\")\n",
    "        \n",
    "    try:\n",
    "        Eighth=driver.find_element_by_xpath(\"//ul[@class='rnzqd6-0 kKtfpp jcSB pR']/li[2]\")\n",
    "        Kilometers_driven.append(Eighth.text)\n",
    "    except NoSuchElementException:\n",
    "        Kilometers_driven.append(\"Na\")\n",
    "        \n",
    "    try:\n",
    "        Ninth=driver.find_element_by_xpath(\"//ul[@class='rnzqd6-0 kKtfpp jcSB pR']/li[3]\")\n",
    "        No_owners.append(Ninth.text)\n",
    "    except NoSuchElementException:\n",
    "        No_owners.append(\"Na\")       "
   ]
  },
  {
   "cell_type": "code",
   "execution_count": 150,
   "metadata": {},
   "outputs": [
    {
     "data": {
      "text/plain": [
       "130"
      ]
     },
     "execution_count": 150,
     "metadata": {},
     "output_type": "execute_result"
    }
   ],
   "source": [
    "len(No_owners)"
   ]
  },
  {
   "cell_type": "code",
   "execution_count": 151,
   "metadata": {},
   "outputs": [],
   "source": [
    "quikr9=pd.DataFrame({})\n",
    "quikr9['Price']=Price\n",
    "quikr9['Brand']=Brand\n",
    "quikr9['Model']=Model\n",
    "quikr9['Kilometers_driven']=Kilometers_driven\n",
    "quikr9['Year']=Year\n",
    "quikr9['Fuel']=Fuel\n",
    "quikr9['Transmission']=Transmission\n",
    "quikr9['Variant']=Variant\n",
    "quikr9['No_owners']=No_owners\n",
    "quikr9['Location']='Pune' "
   ]
  },
  {
   "cell_type": "code",
   "execution_count": 152,
   "metadata": {},
   "outputs": [
    {
     "data": {
      "text/html": [
       "<div>\n",
       "<style scoped>\n",
       "    .dataframe tbody tr th:only-of-type {\n",
       "        vertical-align: middle;\n",
       "    }\n",
       "\n",
       "    .dataframe tbody tr th {\n",
       "        vertical-align: top;\n",
       "    }\n",
       "\n",
       "    .dataframe thead th {\n",
       "        text-align: right;\n",
       "    }\n",
       "</style>\n",
       "<table border=\"1\" class=\"dataframe\">\n",
       "  <thead>\n",
       "    <tr style=\"text-align: right;\">\n",
       "      <th></th>\n",
       "      <th>Price</th>\n",
       "      <th>Brand</th>\n",
       "      <th>Model</th>\n",
       "      <th>Kilometers_driven</th>\n",
       "      <th>Year</th>\n",
       "      <th>Fuel</th>\n",
       "      <th>Transmission</th>\n",
       "      <th>Variant</th>\n",
       "      <th>No_owners</th>\n",
       "      <th>Location</th>\n",
       "    </tr>\n",
       "  </thead>\n",
       "  <tbody>\n",
       "    <tr>\n",
       "      <th>0</th>\n",
       "      <td>₹5,99,999</td>\n",
       "      <td>Skoda</td>\n",
       "      <td>Elegance 2.0 TDI CR AT</td>\n",
       "      <td>78,000 KMS</td>\n",
       "      <td>2010</td>\n",
       "      <td>DIESEL</td>\n",
       "      <td>Automatic</td>\n",
       "      <td>White</td>\n",
       "      <td>Na</td>\n",
       "      <td>Pune</td>\n",
       "    </tr>\n",
       "    <tr>\n",
       "      <th>1</th>\n",
       "      <td>₹5,99,999</td>\n",
       "      <td>Ford</td>\n",
       "      <td>2.5L 4x2</td>\n",
       "      <td>82,000 KMS</td>\n",
       "      <td>2012</td>\n",
       "      <td>DIESEL</td>\n",
       "      <td>Na</td>\n",
       "      <td>White</td>\n",
       "      <td>Na</td>\n",
       "      <td>Pune</td>\n",
       "    </tr>\n",
       "    <tr>\n",
       "      <th>2</th>\n",
       "      <td>₹3,69,999</td>\n",
       "      <td>Skoda</td>\n",
       "      <td>Elegance 1.8 TSI AT</td>\n",
       "      <td>62,000 KMS</td>\n",
       "      <td>2010</td>\n",
       "      <td>PETROL</td>\n",
       "      <td>Automatic</td>\n",
       "      <td>Red</td>\n",
       "      <td>Na</td>\n",
       "      <td>Pune</td>\n",
       "    </tr>\n",
       "    <tr>\n",
       "      <th>3</th>\n",
       "      <td>₹2,79,999</td>\n",
       "      <td>Volkswagen</td>\n",
       "      <td>Highline Petrol</td>\n",
       "      <td>58,000 KMS</td>\n",
       "      <td>2010</td>\n",
       "      <td>PETROL</td>\n",
       "      <td>Na</td>\n",
       "      <td>White</td>\n",
       "      <td>Na</td>\n",
       "      <td>Pune</td>\n",
       "    </tr>\n",
       "    <tr>\n",
       "      <th>4</th>\n",
       "      <td>₹4,69,999</td>\n",
       "      <td>Volkswagen</td>\n",
       "      <td>Highline Diesel</td>\n",
       "      <td>65,000 KMS</td>\n",
       "      <td>2013</td>\n",
       "      <td>DIESEL</td>\n",
       "      <td>Na</td>\n",
       "      <td>Blue</td>\n",
       "      <td>Na</td>\n",
       "      <td>Pune</td>\n",
       "    </tr>\n",
       "  </tbody>\n",
       "</table>\n",
       "</div>"
      ],
      "text/plain": [
       "       Price       Brand                   Model Kilometers_driven  Year  \\\n",
       "0  ₹5,99,999       Skoda  Elegance 2.0 TDI CR AT        78,000 KMS  2010   \n",
       "1  ₹5,99,999        Ford                2.5L 4x2        82,000 KMS  2012   \n",
       "2  ₹3,69,999       Skoda     Elegance 1.8 TSI AT        62,000 KMS  2010   \n",
       "3  ₹2,79,999  Volkswagen         Highline Petrol        58,000 KMS  2010   \n",
       "4  ₹4,69,999  Volkswagen         Highline Diesel        65,000 KMS  2013   \n",
       "\n",
       "     Fuel Transmission Variant No_owners Location  \n",
       "0  DIESEL    Automatic   White        Na     Pune  \n",
       "1  DIESEL           Na   White        Na     Pune  \n",
       "2  PETROL    Automatic     Red        Na     Pune  \n",
       "3  PETROL           Na   White        Na     Pune  \n",
       "4  DIESEL           Na    Blue        Na     Pune  "
      ]
     },
     "execution_count": 152,
     "metadata": {},
     "output_type": "execute_result"
    }
   ],
   "source": [
    "quikr9.head()"
   ]
  },
  {
   "cell_type": "code",
   "execution_count": 208,
   "metadata": {},
   "outputs": [],
   "source": [
    "driver.close()"
   ]
  },
  {
   "cell_type": "code",
   "execution_count": 209,
   "metadata": {},
   "outputs": [],
   "source": [
    "#Mumbai"
   ]
  },
  {
   "cell_type": "code",
   "execution_count": 210,
   "metadata": {},
   "outputs": [],
   "source": [
    "driver=webdriver.Firefox(\"C:\\geckodriver-v0.29.1-win64\")"
   ]
  },
  {
   "cell_type": "code",
   "execution_count": 211,
   "metadata": {},
   "outputs": [],
   "source": [
    "driver.get(\"https://www.quikr.com/\")"
   ]
  },
  {
   "cell_type": "code",
   "execution_count": 212,
   "metadata": {},
   "outputs": [],
   "source": [
    "locatio=driver.find_element_by_xpath(\"//i[@class='icon-arrow']\")\n",
    "locatio.click()"
   ]
  },
  {
   "cell_type": "code",
   "execution_count": 213,
   "metadata": {},
   "outputs": [],
   "source": [
    "city=driver.find_element_by_xpath(\"//div[@class='drop-layers']/div/div/input\")\n",
    "city.send_keys(\"Mumbai\")"
   ]
  },
  {
   "cell_type": "code",
   "execution_count": 214,
   "metadata": {},
   "outputs": [],
   "source": [
    "driver.find_element_by_id(\"hSuggCityList\").click()"
   ]
  },
  {
   "cell_type": "code",
   "execution_count": 215,
   "metadata": {},
   "outputs": [],
   "source": [
    "cars=driver.find_element_by_xpath(\"//ul[@id='fixed-category']/li[6]\")\n",
    "cars.click()"
   ]
  },
  {
   "cell_type": "code",
   "execution_count": 216,
   "metadata": {},
   "outputs": [],
   "source": [
    "search=driver.find_element_by_xpath(\"//button[@class='mdc-button mdc-ripple-upgraded mdc-ripple-upgraded--unbounded mdc-button--primary mdc-button--unelevated mdc-ripple-upgraded--foreground-deactivation mdc-button__width-full']\")\n",
    "search.click()"
   ]
  },
  {
   "cell_type": "code",
   "execution_count": 217,
   "metadata": {},
   "outputs": [],
   "source": [
    "driver.execute_script(\"window.scrollTo(0, document.body.scrollHeight);\") #this code will scroll the web page till bottom"
   ]
  },
  {
   "cell_type": "code",
   "execution_count": 218,
   "metadata": {},
   "outputs": [
    {
     "data": {
      "text/plain": [
       "130"
      ]
     },
     "execution_count": 218,
     "metadata": {},
     "output_type": "execute_result"
    }
   ],
   "source": [
    "urls=[]\n",
    "for i in driver.find_elements_by_xpath(\"//div[@class='mdc-layout-grid__cell mdc-layout-grid__cell--span-4-desktop mdc-layout-grid__cell mdc-layout-grid__cell--span-12-phone']/a\")[0:130]:\n",
    "    urls.append(i.get_attribute('href'))\n",
    "time.sleep(4)\n",
    "len(urls)"
   ]
  },
  {
   "cell_type": "code",
   "execution_count": 219,
   "metadata": {},
   "outputs": [],
   "source": [
    "#Scrapping data of each cars:\n",
    "Price=[]\n",
    "Brand=[]\n",
    "Model=[]\n",
    "Kilometers_driven=[]\n",
    "Year=[]\n",
    "Fuel=[]\n",
    "Transmission=[]\n",
    "Variant=[]\n",
    "No_owners=[]"
   ]
  },
  {
   "cell_type": "code",
   "execution_count": 220,
   "metadata": {},
   "outputs": [
    {
     "data": {
      "text/plain": [
       "130"
      ]
     },
     "execution_count": 220,
     "metadata": {},
     "output_type": "execute_result"
    }
   ],
   "source": [
    "for i in driver.find_elements_by_xpath(\"//div[@class='price']\")[0:130]:\n",
    "    Price.append(i.text) \n",
    "len(Price)"
   ]
  },
  {
   "cell_type": "code",
   "execution_count": 221,
   "metadata": {},
   "outputs": [],
   "source": [
    "for i in urls:\n",
    "    driver.get(i)\n",
    "    time.sleep(5)\n",
    "    \n",
    "    try:\n",
    "        driver.find_element_by_xpath(\"//span[@class='sc-1sbb775-3 eaiAQu ttC cP dF w100 jcC']\").click()\n",
    "    except NoSuchElementException:\n",
    "        pass\n",
    "\n",
    "    try:\n",
    "        second=driver.find_element_by_xpath(\"//ul[@class='sc-1sbb775-0 fkgsye dF fwW jcSB']/li[3]/span\")\n",
    "        Brand.append(second.text)\n",
    "    except NoSuchElementException:\n",
    "        Brand.append(\"Na\")\n",
    "        \n",
    "    try:\n",
    "        third=driver.find_element_by_xpath(\"//ul[@class='sc-1sbb775-0 fkgsye dF fwW jcSB']/li[8]/span\")\n",
    "        Model.append(third.text)\n",
    "    except NoSuchElementException:\n",
    "        Model.append(\"Na\")\n",
    "        \n",
    "    try:\n",
    "        fourt=driver.find_element_by_xpath(\"//ul[@class='sc-1sbb775-0 fkgsye dF fwW jcSB']/li[9]/span\")\n",
    "        Variant.append(fourt.text)\n",
    "    except NoSuchElementException:\n",
    "        Variant.append(\"Na\")\n",
    "        \n",
    "    try:\n",
    "        fifth=driver.find_element_by_xpath(\"//ul[@class='sc-1sbb775-0 fkgsye dF fwW jcSB']/li[4]/span\")\n",
    "        Year.append(fifth.text)\n",
    "    except NoSuchElementException:\n",
    "        Year.append(\"Na\")\n",
    "        \n",
    "            \n",
    "    try:\n",
    "        Sixth=driver.find_element_by_xpath(\"//ul[@class='rnzqd6-0 kKtfpp jcSB pR']/li[1]\")\n",
    "        Fuel.append(Sixth.text)\n",
    "    except NoSuchElementException:\n",
    "        Fuel.append(\"Na\")\n",
    "        \n",
    "    try:\n",
    "        Seventh=driver.find_element_by_xpath(\"//ul[@class='sc-1sbb775-0 fkgsye dF fwW jcSB']/li[11]/span\")\n",
    "        Transmission.append(Seventh.text)\n",
    "    except NoSuchElementException:\n",
    "        Transmission.append(\"Na\")\n",
    "        \n",
    "    try:\n",
    "        Eighth=driver.find_element_by_xpath(\"//ul[@class='rnzqd6-0 kKtfpp jcSB pR']/li[2]\")\n",
    "        Kilometers_driven.append(Eighth.text)\n",
    "    except NoSuchElementException:\n",
    "        Kilometers_driven.append(\"Na\")\n",
    "        \n",
    "    try:\n",
    "        Ninth=driver.find_element_by_xpath(\"//ul[@class='rnzqd6-0 kKtfpp jcSB pR']/li[3]\")\n",
    "        No_owners.append(Ninth.text)\n",
    "    except NoSuchElementException:\n",
    "        No_owners.append(\"Na\")  "
   ]
  },
  {
   "cell_type": "code",
   "execution_count": 222,
   "metadata": {},
   "outputs": [],
   "source": [
    "quikr10=pd.DataFrame({})\n",
    "quikr10['Price']=Price\n",
    "quikr10['Brand']=Brand\n",
    "quikr10['Model']=Model\n",
    "quikr10['Kilometers_driven']=Kilometers_driven\n",
    "quikr10['Year']=Year\n",
    "quikr10['Fuel']=Fuel\n",
    "quikr10['Transmission']=Transmission\n",
    "quikr10['Variant']=Variant\n",
    "quikr10['No_owners']=No_owners\n",
    "quikr10['Location']='Mumbai' "
   ]
  },
  {
   "cell_type": "code",
   "execution_count": 223,
   "metadata": {},
   "outputs": [
    {
     "data": {
      "text/html": [
       "<div>\n",
       "<style scoped>\n",
       "    .dataframe tbody tr th:only-of-type {\n",
       "        vertical-align: middle;\n",
       "    }\n",
       "\n",
       "    .dataframe tbody tr th {\n",
       "        vertical-align: top;\n",
       "    }\n",
       "\n",
       "    .dataframe thead th {\n",
       "        text-align: right;\n",
       "    }\n",
       "</style>\n",
       "<table border=\"1\" class=\"dataframe\">\n",
       "  <thead>\n",
       "    <tr style=\"text-align: right;\">\n",
       "      <th></th>\n",
       "      <th>Price</th>\n",
       "      <th>Brand</th>\n",
       "      <th>Model</th>\n",
       "      <th>Kilometers_driven</th>\n",
       "      <th>Year</th>\n",
       "      <th>Fuel</th>\n",
       "      <th>Transmission</th>\n",
       "      <th>Variant</th>\n",
       "      <th>No_owners</th>\n",
       "      <th>Location</th>\n",
       "    </tr>\n",
       "  </thead>\n",
       "  <tbody>\n",
       "    <tr>\n",
       "      <th>0</th>\n",
       "      <td>₹25,00,000</td>\n",
       "      <td>Mercedes Benz</td>\n",
       "      <td>350 L</td>\n",
       "      <td>20,000 KMS</td>\n",
       "      <td>2006</td>\n",
       "      <td>PETROL</td>\n",
       "      <td>Na</td>\n",
       "      <td>Automatic</td>\n",
       "      <td>Na</td>\n",
       "      <td>Mumbai</td>\n",
       "    </tr>\n",
       "    <tr>\n",
       "      <th>1</th>\n",
       "      <td>₹25,00,000</td>\n",
       "      <td>BMW</td>\n",
       "      <td>XDrive20d XLine</td>\n",
       "      <td>53,000 KMS</td>\n",
       "      <td>2016</td>\n",
       "      <td>DIESEL</td>\n",
       "      <td>Na</td>\n",
       "      <td>Na</td>\n",
       "      <td>Na</td>\n",
       "      <td>Mumbai</td>\n",
       "    </tr>\n",
       "    <tr>\n",
       "      <th>2</th>\n",
       "      <td>₹11,00,000</td>\n",
       "      <td>Volkswagen</td>\n",
       "      <td>Highline Plus Petrol</td>\n",
       "      <td>14,000 KMS</td>\n",
       "      <td>2019</td>\n",
       "      <td>PETROL</td>\n",
       "      <td>Na</td>\n",
       "      <td>Na</td>\n",
       "      <td>Na</td>\n",
       "      <td>Mumbai</td>\n",
       "    </tr>\n",
       "    <tr>\n",
       "      <th>3</th>\n",
       "      <td>₹40,00,000</td>\n",
       "      <td>Audi</td>\n",
       "      <td>35 TDI Premium</td>\n",
       "      <td>12,000 KMS</td>\n",
       "      <td>2019</td>\n",
       "      <td>DIESEL</td>\n",
       "      <td>Na</td>\n",
       "      <td>Na</td>\n",
       "      <td>Na</td>\n",
       "      <td>Mumbai</td>\n",
       "    </tr>\n",
       "    <tr>\n",
       "      <th>4</th>\n",
       "      <td>₹62,00,000</td>\n",
       "      <td>Volvo</td>\n",
       "      <td>Inscription</td>\n",
       "      <td>31,000 KMS</td>\n",
       "      <td>2020</td>\n",
       "      <td>DIESEL</td>\n",
       "      <td>Na</td>\n",
       "      <td>Na</td>\n",
       "      <td>Na</td>\n",
       "      <td>Mumbai</td>\n",
       "    </tr>\n",
       "  </tbody>\n",
       "</table>\n",
       "</div>"
      ],
      "text/plain": [
       "        Price          Brand                 Model Kilometers_driven  Year  \\\n",
       "0  ₹25,00,000  Mercedes Benz                 350 L        20,000 KMS  2006   \n",
       "1  ₹25,00,000            BMW       XDrive20d XLine        53,000 KMS  2016   \n",
       "2  ₹11,00,000     Volkswagen  Highline Plus Petrol        14,000 KMS  2019   \n",
       "3  ₹40,00,000           Audi        35 TDI Premium        12,000 KMS  2019   \n",
       "4  ₹62,00,000          Volvo           Inscription        31,000 KMS  2020   \n",
       "\n",
       "     Fuel Transmission    Variant No_owners Location  \n",
       "0  PETROL           Na  Automatic        Na   Mumbai  \n",
       "1  DIESEL           Na         Na        Na   Mumbai  \n",
       "2  PETROL           Na         Na        Na   Mumbai  \n",
       "3  DIESEL           Na         Na        Na   Mumbai  \n",
       "4  DIESEL           Na         Na        Na   Mumbai  "
      ]
     },
     "execution_count": 223,
     "metadata": {},
     "output_type": "execute_result"
    }
   ],
   "source": [
    "quikr10.head()"
   ]
  },
  {
   "cell_type": "code",
   "execution_count": 224,
   "metadata": {},
   "outputs": [],
   "source": [
    "df1_quikr=pd.concat([quikr5,quikr6,quikr7,quikr8,quikr9,quikr10])"
   ]
  },
  {
   "cell_type": "code",
   "execution_count": 225,
   "metadata": {},
   "outputs": [
    {
     "data": {
      "text/plain": [
       "(680, 10)"
      ]
     },
     "execution_count": 225,
     "metadata": {},
     "output_type": "execute_result"
    }
   ],
   "source": [
    "df1_quikr.shape"
   ]
  },
  {
   "cell_type": "code",
   "execution_count": 226,
   "metadata": {},
   "outputs": [],
   "source": [
    "df1_quikr.to_csv(\"second_scrapped_data_quickr.cav\")"
   ]
  },
  {
   "cell_type": "code",
   "execution_count": 2,
   "metadata": {},
   "outputs": [],
   "source": [
    "#Chandigarh"
   ]
  },
  {
   "cell_type": "code",
   "execution_count": 3,
   "metadata": {},
   "outputs": [],
   "source": [
    "driver=webdriver.Firefox(\"C:\\geckodriver-v0.29.1-win64\")"
   ]
  },
  {
   "cell_type": "code",
   "execution_count": 4,
   "metadata": {},
   "outputs": [],
   "source": [
    "driver.get(\"https://www.quikr.com/\")"
   ]
  },
  {
   "cell_type": "code",
   "execution_count": 5,
   "metadata": {},
   "outputs": [],
   "source": [
    "locatio=driver.find_element_by_xpath(\"//i[@class='icon-arrow']\")\n",
    "locatio.click()"
   ]
  },
  {
   "cell_type": "code",
   "execution_count": 6,
   "metadata": {},
   "outputs": [],
   "source": [
    "city=driver.find_element_by_xpath(\"//div[@class='drop-layers']/div/div/input\")\n",
    "city.send_keys(\"Chandigarh\")"
   ]
  },
  {
   "cell_type": "code",
   "execution_count": 7,
   "metadata": {},
   "outputs": [],
   "source": [
    "driver.find_element_by_id(\"hSuggCityList\").click()"
   ]
  },
  {
   "cell_type": "code",
   "execution_count": 8,
   "metadata": {},
   "outputs": [],
   "source": [
    "cars=driver.find_element_by_xpath(\"//ul[@id='fixed-category']/li[6]\")\n",
    "cars.click()"
   ]
  },
  {
   "cell_type": "code",
   "execution_count": 9,
   "metadata": {},
   "outputs": [],
   "source": [
    "search=driver.find_element_by_xpath(\"//button[@class='mdc-button mdc-ripple-upgraded mdc-ripple-upgraded--unbounded mdc-button--primary mdc-button--unelevated mdc-ripple-upgraded--foreground-deactivation mdc-button__width-full']\")\n",
    "search.click()"
   ]
  },
  {
   "cell_type": "code",
   "execution_count": 10,
   "metadata": {},
   "outputs": [],
   "source": [
    "driver.execute_script(\"window.scrollTo(0, document.body.scrollHeight);\") #this code will scroll the web page till bottom"
   ]
  },
  {
   "cell_type": "code",
   "execution_count": 11,
   "metadata": {},
   "outputs": [
    {
     "data": {
      "text/plain": [
       "85"
      ]
     },
     "execution_count": 11,
     "metadata": {},
     "output_type": "execute_result"
    }
   ],
   "source": [
    "urls=[]\n",
    "for i in driver.find_elements_by_xpath(\"//div[@class='mdc-layout-grid__cell mdc-layout-grid__cell--span-4-desktop mdc-layout-grid__cell mdc-layout-grid__cell--span-12-phone']/a\"):\n",
    "    urls.append(i.get_attribute('href'))\n",
    "time.sleep(4)\n",
    "len(urls)"
   ]
  },
  {
   "cell_type": "code",
   "execution_count": 12,
   "metadata": {},
   "outputs": [],
   "source": [
    "#Scrapping data of each cars:\n",
    "Price=[]\n",
    "Brand=[]\n",
    "Model=[]\n",
    "Kilometers_driven=[]\n",
    "Year=[]\n",
    "Fuel=[]\n",
    "Transmission=[]\n",
    "Variant=[]\n",
    "No_owners=[]"
   ]
  },
  {
   "cell_type": "code",
   "execution_count": 13,
   "metadata": {},
   "outputs": [
    {
     "data": {
      "text/plain": [
       "85"
      ]
     },
     "execution_count": 13,
     "metadata": {},
     "output_type": "execute_result"
    }
   ],
   "source": [
    "for i in driver.find_elements_by_xpath(\"//div[@class='price']\"):\n",
    "    Price.append(i.text) \n",
    "len(Price)"
   ]
  },
  {
   "cell_type": "code",
   "execution_count": 14,
   "metadata": {},
   "outputs": [],
   "source": [
    "for i in urls:\n",
    "    driver.get(i)\n",
    "    time.sleep(5)\n",
    "    \n",
    "    try:\n",
    "        driver.find_element_by_xpath(\"//span[@class='sc-1sbb775-3 eaiAQu ttC cP dF w100 jcC']\").click()\n",
    "    except NoSuchElementException:\n",
    "        pass\n",
    "\n",
    "    try:\n",
    "        second=driver.find_element_by_xpath(\"//ul[@class='sc-1sbb775-0 fkgsye dF fwW jcSB']/li[3]/span\")\n",
    "        Brand.append(second.text)\n",
    "    except NoSuchElementException:\n",
    "        Brand.append(\"Na\")\n",
    "        \n",
    "    try:\n",
    "        third=driver.find_element_by_xpath(\"//ul[@class='sc-1sbb775-0 fkgsye dF fwW jcSB']/li[8]/span\")\n",
    "        Model.append(third.text)\n",
    "    except NoSuchElementException:\n",
    "        Model.append(\"Na\")\n",
    "        \n",
    "    try:\n",
    "        fourt=driver.find_element_by_xpath(\"//ul[@class='sc-1sbb775-0 fkgsye dF fwW jcSB']/li[9]/span\")\n",
    "        Variant.append(fourt.text)\n",
    "    except NoSuchElementException:\n",
    "        Variant.append(\"Na\")\n",
    "        \n",
    "    try:\n",
    "        fifth=driver.find_element_by_xpath(\"//ul[@class='sc-1sbb775-0 fkgsye dF fwW jcSB']/li[4]/span\")\n",
    "        Year.append(fifth.text)\n",
    "    except NoSuchElementException:\n",
    "        Year.append(\"Na\")\n",
    "        \n",
    "            \n",
    "    try:\n",
    "        Sixth=driver.find_element_by_xpath(\"//ul[@class='rnzqd6-0 kKtfpp jcSB pR']/li[1]\")\n",
    "        Fuel.append(Sixth.text)\n",
    "    except NoSuchElementException:\n",
    "        Fuel.append(\"Na\")\n",
    "        \n",
    "    try:\n",
    "        Seventh=driver.find_element_by_xpath(\"//ul[@class='sc-1sbb775-0 fkgsye dF fwW jcSB']/li[11]/span\")\n",
    "        Transmission.append(Seventh.text)\n",
    "    except NoSuchElementException:\n",
    "        Transmission.append(\"Na\")\n",
    "        \n",
    "    try:\n",
    "        Eighth=driver.find_element_by_xpath(\"//ul[@class='rnzqd6-0 kKtfpp jcSB pR']/li[2]\")\n",
    "        Kilometers_driven.append(Eighth.text)\n",
    "    except NoSuchElementException:\n",
    "        Kilometers_driven.append(\"Na\")\n",
    "        \n",
    "    try:\n",
    "        Ninth=driver.find_element_by_xpath(\"//ul[@class='rnzqd6-0 kKtfpp jcSB pR']/li[3]\")\n",
    "        No_owners.append(Ninth.text)\n",
    "    except NoSuchElementException:\n",
    "        No_owners.append(\"Na\")"
   ]
  },
  {
   "cell_type": "code",
   "execution_count": 15,
   "metadata": {},
   "outputs": [],
   "source": [
    "quikr11=pd.DataFrame({})\n",
    "quikr11['Price']=Price\n",
    "quikr11['Brand']=Brand\n",
    "quikr11['Model']=Model\n",
    "quikr11['Kilometers_driven']=Kilometers_driven\n",
    "quikr11['Year']=Year\n",
    "quikr11['Fuel']=Fuel\n",
    "quikr11['Transmission']=Transmission\n",
    "quikr11['Variant']=Variant\n",
    "quikr11['No_owners']=No_owners\n",
    "quikr11['Location']='Chandigarh' "
   ]
  },
  {
   "cell_type": "code",
   "execution_count": 16,
   "metadata": {},
   "outputs": [
    {
     "data": {
      "text/html": [
       "<div>\n",
       "<style scoped>\n",
       "    .dataframe tbody tr th:only-of-type {\n",
       "        vertical-align: middle;\n",
       "    }\n",
       "\n",
       "    .dataframe tbody tr th {\n",
       "        vertical-align: top;\n",
       "    }\n",
       "\n",
       "    .dataframe thead th {\n",
       "        text-align: right;\n",
       "    }\n",
       "</style>\n",
       "<table border=\"1\" class=\"dataframe\">\n",
       "  <thead>\n",
       "    <tr style=\"text-align: right;\">\n",
       "      <th></th>\n",
       "      <th>Price</th>\n",
       "      <th>Brand</th>\n",
       "      <th>Model</th>\n",
       "      <th>Kilometers_driven</th>\n",
       "      <th>Year</th>\n",
       "      <th>Fuel</th>\n",
       "      <th>Transmission</th>\n",
       "      <th>Variant</th>\n",
       "      <th>No_owners</th>\n",
       "      <th>Location</th>\n",
       "    </tr>\n",
       "  </thead>\n",
       "  <tbody>\n",
       "    <tr>\n",
       "      <th>0</th>\n",
       "      <td>₹2,90,000</td>\n",
       "      <td>Hyundai</td>\n",
       "      <td>Asta</td>\n",
       "      <td>90,000 KMS</td>\n",
       "      <td>2011</td>\n",
       "      <td>PETROL</td>\n",
       "      <td>Na</td>\n",
       "      <td>Manual</td>\n",
       "      <td>Na</td>\n",
       "      <td>Chandigarh</td>\n",
       "    </tr>\n",
       "    <tr>\n",
       "      <th>1</th>\n",
       "      <td>₹3,00,000</td>\n",
       "      <td>Toyota</td>\n",
       "      <td>2.5 Z Diesel 7 Seater</td>\n",
       "      <td>25,000 KMS</td>\n",
       "      <td>2007</td>\n",
       "      <td>DIESEL</td>\n",
       "      <td>Na</td>\n",
       "      <td>Manual</td>\n",
       "      <td>Na</td>\n",
       "      <td>Chandigarh</td>\n",
       "    </tr>\n",
       "    <tr>\n",
       "      <th>2</th>\n",
       "      <td>₹1,70,000</td>\n",
       "      <td>Hyundai</td>\n",
       "      <td>Asta</td>\n",
       "      <td>1,10,000 KMS</td>\n",
       "      <td>2010</td>\n",
       "      <td>PETROL</td>\n",
       "      <td>Na</td>\n",
       "      <td>Manual</td>\n",
       "      <td>Na</td>\n",
       "      <td>Chandigarh</td>\n",
       "    </tr>\n",
       "    <tr>\n",
       "      <th>3</th>\n",
       "      <td>₹8,80,000</td>\n",
       "      <td>Toyota</td>\n",
       "      <td>Innova</td>\n",
       "      <td>87,000 KMS</td>\n",
       "      <td>Used</td>\n",
       "      <td>DIESEL</td>\n",
       "      <td>May 25 2022</td>\n",
       "      <td>2.5 V 7 STR</td>\n",
       "      <td>ONE OWNER</td>\n",
       "      <td>Chandigarh</td>\n",
       "    </tr>\n",
       "    <tr>\n",
       "      <th>4</th>\n",
       "      <td>₹1,50,000</td>\n",
       "      <td>Honda</td>\n",
       "      <td>GXi</td>\n",
       "      <td>1,008 KMS</td>\n",
       "      <td>2018</td>\n",
       "      <td>PETROL</td>\n",
       "      <td>Na</td>\n",
       "      <td>Manual</td>\n",
       "      <td>Na</td>\n",
       "      <td>Chandigarh</td>\n",
       "    </tr>\n",
       "  </tbody>\n",
       "</table>\n",
       "</div>"
      ],
      "text/plain": [
       "       Price    Brand                  Model Kilometers_driven  Year    Fuel  \\\n",
       "0  ₹2,90,000  Hyundai                   Asta        90,000 KMS  2011  PETROL   \n",
       "1  ₹3,00,000   Toyota  2.5 Z Diesel 7 Seater        25,000 KMS  2007  DIESEL   \n",
       "2  ₹1,70,000  Hyundai                   Asta      1,10,000 KMS  2010  PETROL   \n",
       "3  ₹8,80,000   Toyota                 Innova        87,000 KMS  Used  DIESEL   \n",
       "4  ₹1,50,000    Honda                    GXi         1,008 KMS  2018  PETROL   \n",
       "\n",
       "  Transmission      Variant  No_owners    Location  \n",
       "0           Na       Manual         Na  Chandigarh  \n",
       "1           Na       Manual         Na  Chandigarh  \n",
       "2           Na       Manual         Na  Chandigarh  \n",
       "3  May 25 2022  2.5 V 7 STR  ONE OWNER  Chandigarh  \n",
       "4           Na       Manual         Na  Chandigarh  "
      ]
     },
     "execution_count": 16,
     "metadata": {},
     "output_type": "execute_result"
    }
   ],
   "source": [
    "quikr11.head()"
   ]
  },
  {
   "cell_type": "code",
   "execution_count": 17,
   "metadata": {},
   "outputs": [],
   "source": [
    "driver.close()"
   ]
  },
  {
   "cell_type": "code",
   "execution_count": 18,
   "metadata": {},
   "outputs": [],
   "source": [
    "#Pondicherry"
   ]
  },
  {
   "cell_type": "code",
   "execution_count": 19,
   "metadata": {},
   "outputs": [],
   "source": [
    "driver=webdriver.Firefox(\"C:\\geckodriver-v0.29.1-win64\")"
   ]
  },
  {
   "cell_type": "code",
   "execution_count": 20,
   "metadata": {},
   "outputs": [],
   "source": [
    "driver.get(\"https://www.quikr.com/\")"
   ]
  },
  {
   "cell_type": "code",
   "execution_count": 21,
   "metadata": {},
   "outputs": [],
   "source": [
    "locatio=driver.find_element_by_xpath(\"//i[@class='icon-arrow']\")\n",
    "locatio.click()"
   ]
  },
  {
   "cell_type": "code",
   "execution_count": 22,
   "metadata": {},
   "outputs": [],
   "source": [
    "city=driver.find_element_by_xpath(\"//div[@class='drop-layers']/div/div/input\")\n",
    "city.send_keys(\"Pondicherry\")"
   ]
  },
  {
   "cell_type": "code",
   "execution_count": 23,
   "metadata": {},
   "outputs": [],
   "source": [
    "driver.find_element_by_id(\"hSuggCityList\").click()"
   ]
  },
  {
   "cell_type": "code",
   "execution_count": 24,
   "metadata": {},
   "outputs": [],
   "source": [
    "cars=driver.find_element_by_xpath(\"//ul[@id='fixed-category']/li[6]\")\n",
    "cars.click()"
   ]
  },
  {
   "cell_type": "code",
   "execution_count": 25,
   "metadata": {},
   "outputs": [],
   "source": [
    "search=driver.find_element_by_xpath(\"//button[@class='mdc-button mdc-ripple-upgraded mdc-ripple-upgraded--unbounded mdc-button--primary mdc-button--unelevated mdc-ripple-upgraded--foreground-deactivation mdc-button__width-full']\")\n",
    "search.click()"
   ]
  },
  {
   "cell_type": "code",
   "execution_count": 26,
   "metadata": {},
   "outputs": [],
   "source": [
    "driver.execute_script(\"window.scrollTo(0, document.body.scrollHeight);\") #this code will scroll the web page till bottom\n"
   ]
  },
  {
   "cell_type": "code",
   "execution_count": 27,
   "metadata": {},
   "outputs": [
    {
     "data": {
      "text/plain": [
       "30"
      ]
     },
     "execution_count": 27,
     "metadata": {},
     "output_type": "execute_result"
    }
   ],
   "source": [
    "urls=[]\n",
    "for i in driver.find_elements_by_xpath(\"//div[@class='mdc-layout-grid__cell mdc-layout-grid__cell--span-4-desktop mdc-layout-grid__cell mdc-layout-grid__cell--span-12-phone']/a\"):\n",
    "    urls.append(i.get_attribute('href'))\n",
    "time.sleep(4)\n",
    "len(urls)"
   ]
  },
  {
   "cell_type": "code",
   "execution_count": 28,
   "metadata": {},
   "outputs": [],
   "source": [
    "#Scrapping data of each cars:\n",
    "Price=[]\n",
    "Brand=[]\n",
    "Model=[]\n",
    "Kilometers_driven=[]\n",
    "Year=[]\n",
    "Fuel=[]\n",
    "Transmission=[]\n",
    "Variant=[]\n",
    "No_owners=[]"
   ]
  },
  {
   "cell_type": "code",
   "execution_count": 29,
   "metadata": {},
   "outputs": [
    {
     "data": {
      "text/plain": [
       "30"
      ]
     },
     "execution_count": 29,
     "metadata": {},
     "output_type": "execute_result"
    }
   ],
   "source": [
    "for i in driver.find_elements_by_xpath(\"//div[@class='price']\")[0:100]:\n",
    "    Price.append(i.text) \n",
    "len(Price)"
   ]
  },
  {
   "cell_type": "code",
   "execution_count": 30,
   "metadata": {},
   "outputs": [],
   "source": [
    "for i in urls:\n",
    "    driver.get(i)\n",
    "    time.sleep(5)\n",
    "    \n",
    "    try:\n",
    "        driver.find_element_by_xpath(\"//span[@class='sc-1sbb775-3 eaiAQu ttC cP dF w100 jcC']\").click()\n",
    "    except NoSuchElementException:\n",
    "        pass\n",
    "\n",
    "    try:\n",
    "        second=driver.find_element_by_xpath(\"//ul[@class='sc-1sbb775-0 fkgsye dF fwW jcSB']/li[3]/span\")\n",
    "        Brand.append(second.text)\n",
    "    except NoSuchElementException:\n",
    "        Brand.append(\"Na\")\n",
    "        \n",
    "    try:\n",
    "        third=driver.find_element_by_xpath(\"//ul[@class='sc-1sbb775-0 fkgsye dF fwW jcSB']/li[8]/span\")\n",
    "        Model.append(third.text)\n",
    "    except NoSuchElementException:\n",
    "        Model.append(\"Na\")\n",
    "        \n",
    "    try:\n",
    "        fourt=driver.find_element_by_xpath(\"//ul[@class='sc-1sbb775-0 fkgsye dF fwW jcSB']/li[9]/span\")\n",
    "        Variant.append(fourt.text)\n",
    "    except NoSuchElementException:\n",
    "        Variant.append(\"Na\")\n",
    "        \n",
    "    try:\n",
    "        fifth=driver.find_element_by_xpath(\"//ul[@class='sc-1sbb775-0 fkgsye dF fwW jcSB']/li[4]/span\")\n",
    "        Year.append(fifth.text)\n",
    "    except NoSuchElementException:\n",
    "        Year.append(\"Na\")\n",
    "        \n",
    "            \n",
    "    try:\n",
    "        Sixth=driver.find_element_by_xpath(\"//ul[@class='rnzqd6-0 kKtfpp jcSB pR']/li[1]\")\n",
    "        Fuel.append(Sixth.text)\n",
    "    except NoSuchElementException:\n",
    "        Fuel.append(\"Na\")\n",
    "        \n",
    "    try:\n",
    "        Seventh=driver.find_element_by_xpath(\"//ul[@class='sc-1sbb775-0 fkgsye dF fwW jcSB']/li[11]/span\")\n",
    "        Transmission.append(Seventh.text)\n",
    "    except NoSuchElementException:\n",
    "        Transmission.append(\"Na\")\n",
    "        \n",
    "    try:\n",
    "        Eighth=driver.find_element_by_xpath(\"//ul[@class='rnzqd6-0 kKtfpp jcSB pR']/li[2]\")\n",
    "        Kilometers_driven.append(Eighth.text)\n",
    "    except NoSuchElementException:\n",
    "        Kilometers_driven.append(\"Na\")\n",
    "        \n",
    "    try:\n",
    "        Ninth=driver.find_element_by_xpath(\"//ul[@class='rnzqd6-0 kKtfpp jcSB pR']/li[3]\")\n",
    "        No_owners.append(Ninth.text)\n",
    "    except NoSuchElementException:\n",
    "        No_owners.append(\"Na\") "
   ]
  },
  {
   "cell_type": "code",
   "execution_count": 31,
   "metadata": {},
   "outputs": [],
   "source": [
    "quikr12=pd.DataFrame({})\n",
    "quikr12['Price']=Price\n",
    "quikr12['Brand']=Brand\n",
    "quikr12['Model']=Model\n",
    "quikr12['Kilometers_driven']=Kilometers_driven\n",
    "quikr12['Year']=Year\n",
    "quikr12['Fuel']=Fuel\n",
    "quikr12['Transmission']=Transmission\n",
    "quikr12['Variant']=Variant\n",
    "quikr12['No_owners']=No_owners\n",
    "quikr12['Location']='Pondicherry' "
   ]
  },
  {
   "cell_type": "code",
   "execution_count": 32,
   "metadata": {},
   "outputs": [
    {
     "data": {
      "text/html": [
       "<div>\n",
       "<style scoped>\n",
       "    .dataframe tbody tr th:only-of-type {\n",
       "        vertical-align: middle;\n",
       "    }\n",
       "\n",
       "    .dataframe tbody tr th {\n",
       "        vertical-align: top;\n",
       "    }\n",
       "\n",
       "    .dataframe thead th {\n",
       "        text-align: right;\n",
       "    }\n",
       "</style>\n",
       "<table border=\"1\" class=\"dataframe\">\n",
       "  <thead>\n",
       "    <tr style=\"text-align: right;\">\n",
       "      <th></th>\n",
       "      <th>Price</th>\n",
       "      <th>Brand</th>\n",
       "      <th>Model</th>\n",
       "      <th>Kilometers_driven</th>\n",
       "      <th>Year</th>\n",
       "      <th>Fuel</th>\n",
       "      <th>Transmission</th>\n",
       "      <th>Variant</th>\n",
       "      <th>No_owners</th>\n",
       "      <th>Location</th>\n",
       "    </tr>\n",
       "  </thead>\n",
       "  <tbody>\n",
       "    <tr>\n",
       "      <th>0</th>\n",
       "      <td>₹8,95,000</td>\n",
       "      <td>Mahindra</td>\n",
       "      <td>XUV500</td>\n",
       "      <td>58,300 KMS</td>\n",
       "      <td>Used</td>\n",
       "      <td>DIESEL</td>\n",
       "      <td>Na</td>\n",
       "      <td>W8</td>\n",
       "      <td>Na</td>\n",
       "      <td>Pondicherry</td>\n",
       "    </tr>\n",
       "    <tr>\n",
       "      <th>1</th>\n",
       "      <td>₹1,25,000</td>\n",
       "      <td>Fiat</td>\n",
       "      <td>Linea</td>\n",
       "      <td>98,000 KMS</td>\n",
       "      <td>Used</td>\n",
       "      <td>DIESEL</td>\n",
       "      <td>Na</td>\n",
       "      <td>Na</td>\n",
       "      <td>Na</td>\n",
       "      <td>Pondicherry</td>\n",
       "    </tr>\n",
       "    <tr>\n",
       "      <th>2</th>\n",
       "      <td>₹16,75,000</td>\n",
       "      <td>MG Motors</td>\n",
       "      <td>Hector</td>\n",
       "      <td>24,500 KMS</td>\n",
       "      <td>Used</td>\n",
       "      <td>DIESEL</td>\n",
       "      <td>Aug 06 2021</td>\n",
       "      <td>Sharp 2.0 Diesel</td>\n",
       "      <td>ONE OWNER</td>\n",
       "      <td>Pondicherry</td>\n",
       "    </tr>\n",
       "    <tr>\n",
       "      <th>3</th>\n",
       "      <td>₹1,26,000</td>\n",
       "      <td>Hyundai</td>\n",
       "      <td>GLS</td>\n",
       "      <td>90,000 KMS</td>\n",
       "      <td>2006</td>\n",
       "      <td>PETROL</td>\n",
       "      <td>Na</td>\n",
       "      <td>Aug 19 2021</td>\n",
       "      <td>Na</td>\n",
       "      <td>Pondicherry</td>\n",
       "    </tr>\n",
       "    <tr>\n",
       "      <th>4</th>\n",
       "      <td>₹10,25,000</td>\n",
       "      <td>BMW</td>\n",
       "      <td>3 Series</td>\n",
       "      <td>82,000 KMS</td>\n",
       "      <td>Used</td>\n",
       "      <td>DIESEL</td>\n",
       "      <td>Apr 13 2022</td>\n",
       "      <td>320d Highline</td>\n",
       "      <td>ONE OWNER</td>\n",
       "      <td>Pondicherry</td>\n",
       "    </tr>\n",
       "  </tbody>\n",
       "</table>\n",
       "</div>"
      ],
      "text/plain": [
       "        Price      Brand     Model Kilometers_driven  Year    Fuel  \\\n",
       "0   ₹8,95,000   Mahindra    XUV500        58,300 KMS  Used  DIESEL   \n",
       "1   ₹1,25,000       Fiat     Linea        98,000 KMS  Used  DIESEL   \n",
       "2  ₹16,75,000  MG Motors    Hector        24,500 KMS  Used  DIESEL   \n",
       "3   ₹1,26,000    Hyundai       GLS        90,000 KMS  2006  PETROL   \n",
       "4  ₹10,25,000        BMW  3 Series        82,000 KMS  Used  DIESEL   \n",
       "\n",
       "  Transmission           Variant  No_owners     Location  \n",
       "0           Na                W8         Na  Pondicherry  \n",
       "1           Na                Na         Na  Pondicherry  \n",
       "2  Aug 06 2021  Sharp 2.0 Diesel  ONE OWNER  Pondicherry  \n",
       "3           Na       Aug 19 2021         Na  Pondicherry  \n",
       "4  Apr 13 2022     320d Highline  ONE OWNER  Pondicherry  "
      ]
     },
     "execution_count": 32,
     "metadata": {},
     "output_type": "execute_result"
    }
   ],
   "source": [
    "quikr12.head()"
   ]
  },
  {
   "cell_type": "code",
   "execution_count": 52,
   "metadata": {},
   "outputs": [],
   "source": [
    "driver.close()"
   ]
  },
  {
   "cell_type": "code",
   "execution_count": 56,
   "metadata": {},
   "outputs": [],
   "source": [
    "df_quickr2=pd.concat([quikr12,quikr11])"
   ]
  },
  {
   "cell_type": "code",
   "execution_count": 57,
   "metadata": {},
   "outputs": [],
   "source": [
    "df_quickr2.to_csv(\"third_scrapped_quickr.csv\")"
   ]
  },
  {
   "cell_type": "code",
   "execution_count": 58,
   "metadata": {},
   "outputs": [
    {
     "data": {
      "text/plain": [
       "(115, 10)"
      ]
     },
     "execution_count": 58,
     "metadata": {},
     "output_type": "execute_result"
    }
   ],
   "source": [
    "df_quickr2.shape"
   ]
  },
  {
   "cell_type": "code",
   "execution_count": 19,
   "metadata": {},
   "outputs": [],
   "source": [
    "driver.close()"
   ]
  },
  {
   "cell_type": "code",
   "execution_count": 20,
   "metadata": {},
   "outputs": [],
   "source": [
    "#Visakhapatnam"
   ]
  },
  {
   "cell_type": "code",
   "execution_count": 21,
   "metadata": {},
   "outputs": [],
   "source": [
    "driver=webdriver.Firefox(\"C:\\geckodriver-v0.29.1-win64\")"
   ]
  },
  {
   "cell_type": "code",
   "execution_count": 22,
   "metadata": {},
   "outputs": [],
   "source": [
    "driver.get(\"https://www.quikr.com/\")"
   ]
  },
  {
   "cell_type": "code",
   "execution_count": 23,
   "metadata": {},
   "outputs": [],
   "source": [
    "locatio=driver.find_element_by_xpath(\"//i[@class='icon-arrow']\")\n",
    "locatio.click()"
   ]
  },
  {
   "cell_type": "code",
   "execution_count": 24,
   "metadata": {},
   "outputs": [],
   "source": [
    "city=driver.find_element_by_xpath(\"//div[@class='drop-layers']/div/div/input\")\n",
    "city.send_keys(\"Vizag\")"
   ]
  },
  {
   "cell_type": "code",
   "execution_count": 25,
   "metadata": {},
   "outputs": [],
   "source": [
    "driver.find_element_by_id(\"hSuggCityList\").click()"
   ]
  },
  {
   "cell_type": "code",
   "execution_count": 26,
   "metadata": {},
   "outputs": [],
   "source": [
    "cars=driver.find_element_by_xpath(\"//ul[@id='fixed-category']/li[6]\")\n",
    "cars.click()"
   ]
  },
  {
   "cell_type": "code",
   "execution_count": 27,
   "metadata": {},
   "outputs": [],
   "source": [
    "search=driver.find_element_by_xpath(\"//button[@class='mdc-button mdc-ripple-upgraded mdc-ripple-upgraded--unbounded mdc-button--primary mdc-button--unelevated mdc-ripple-upgraded--foreground-deactivation mdc-button__width-full']\")\n",
    "search.click()"
   ]
  },
  {
   "cell_type": "code",
   "execution_count": 28,
   "metadata": {},
   "outputs": [],
   "source": [
    "driver.execute_script(\"window.scrollTo(0, document.body.scrollHeight);\") #this code will scroll the web page till bottom"
   ]
  },
  {
   "cell_type": "code",
   "execution_count": 29,
   "metadata": {},
   "outputs": [
    {
     "data": {
      "text/plain": [
       "120"
      ]
     },
     "execution_count": 29,
     "metadata": {},
     "output_type": "execute_result"
    }
   ],
   "source": [
    "urls=[]\n",
    "for i in driver.find_elements_by_xpath(\"//div[@class='mdc-layout-grid__cell mdc-layout-grid__cell--span-4-desktop mdc-layout-grid__cell mdc-layout-grid__cell--span-12-phone']/a\")[0:120]:\n",
    "    urls.append(i.get_attribute('href'))\n",
    "time.sleep(4)\n",
    "len(urls)"
   ]
  },
  {
   "cell_type": "code",
   "execution_count": 30,
   "metadata": {},
   "outputs": [],
   "source": [
    "#Scrapping data of each cars:\n",
    "Price=[]\n",
    "Brand=[]\n",
    "Model=[]\n",
    "Kilometers_driven=[]\n",
    "Year=[]\n",
    "Fuel=[]\n",
    "Transmission=[]\n",
    "Variant=[]\n",
    "No_owners=[]"
   ]
  },
  {
   "cell_type": "code",
   "execution_count": 31,
   "metadata": {},
   "outputs": [
    {
     "data": {
      "text/plain": [
       "120"
      ]
     },
     "execution_count": 31,
     "metadata": {},
     "output_type": "execute_result"
    }
   ],
   "source": [
    "for i in driver.find_elements_by_xpath(\"//div[@class='price']\")[0:120]:\n",
    "    Price.append(i.text) \n",
    "len(Price)"
   ]
  },
  {
   "cell_type": "code",
   "execution_count": 32,
   "metadata": {},
   "outputs": [],
   "source": [
    "for i in urls:\n",
    "    driver.get(i)\n",
    "    time.sleep(5)\n",
    "    \n",
    "    try:\n",
    "        driver.find_element_by_xpath(\"//span[@class='sc-1sbb775-3 eaiAQu ttC cP dF w100 jcC']\").click()\n",
    "    except NoSuchElementException:\n",
    "        pass\n",
    "\n",
    "    try:\n",
    "        second=driver.find_element_by_xpath(\"//ul[@class='sc-1sbb775-0 fkgsye dF fwW jcSB']/li[3]/span\")\n",
    "        Brand.append(second.text)\n",
    "    except NoSuchElementException:\n",
    "        Brand.append(\"Na\")\n",
    "        \n",
    "    try:\n",
    "        third=driver.find_element_by_xpath(\"//ul[@class='sc-1sbb775-0 fkgsye dF fwW jcSB']/li[8]/span\")\n",
    "        Model.append(third.text)\n",
    "    except NoSuchElementException:\n",
    "        Model.append(\"Na\")\n",
    "        \n",
    "    try:\n",
    "        fourt=driver.find_element_by_xpath(\"//ul[@class='sc-1sbb775-0 fkgsye dF fwW jcSB']/li[9]/span\")\n",
    "        Variant.append(fourt.text)\n",
    "    except NoSuchElementException:\n",
    "        Variant.append(\"Na\")\n",
    "        \n",
    "    try:\n",
    "        fifth=driver.find_element_by_xpath(\"//ul[@class='sc-1sbb775-0 fkgsye dF fwW jcSB']/li[4]/span\")\n",
    "        Year.append(fifth.text)\n",
    "    except NoSuchElementException:\n",
    "        Year.append(\"Na\")\n",
    "        \n",
    "            \n",
    "    try:\n",
    "        Sixth=driver.find_element_by_xpath(\"//ul[@class='rnzqd6-0 kKtfpp jcSB pR']/li[1]\")\n",
    "        Fuel.append(Sixth.text)\n",
    "    except NoSuchElementException:\n",
    "        Fuel.append(\"Na\")\n",
    "        \n",
    "    try:\n",
    "        Seventh=driver.find_element_by_xpath(\"//ul[@class='sc-1sbb775-0 fkgsye dF fwW jcSB']/li[11]/span\")\n",
    "        Transmission.append(Seventh.text)\n",
    "    except NoSuchElementException:\n",
    "        Transmission.append(\"Na\")\n",
    "        \n",
    "    try:\n",
    "        Eighth=driver.find_element_by_xpath(\"//ul[@class='rnzqd6-0 kKtfpp jcSB pR']/li[2]\")\n",
    "        Kilometers_driven.append(Eighth.text)\n",
    "    except NoSuchElementException:\n",
    "        Kilometers_driven.append(\"Na\")\n",
    "        \n",
    "    try:\n",
    "        Ninth=driver.find_element_by_xpath(\"//ul[@class='rnzqd6-0 kKtfpp jcSB pR']/li[3]\")\n",
    "        No_owners.append(Ninth.text)\n",
    "    except NoSuchElementException:\n",
    "        No_owners.append(\"Na\")   "
   ]
  },
  {
   "cell_type": "code",
   "execution_count": 33,
   "metadata": {},
   "outputs": [],
   "source": [
    "quikr13=pd.DataFrame({})\n",
    "quikr13['Price']=Price\n",
    "quikr13['Brand']=Brand\n",
    "quikr13['Model']=Model\n",
    "quikr13['Kilometers_driven']=Kilometers_driven\n",
    "quikr13['Year']=Year\n",
    "quikr13['Fuel']=Fuel\n",
    "quikr13['Transmission']=Transmission\n",
    "quikr13['Variant']=Variant\n",
    "quikr13['No_owners']=No_owners\n",
    "quikr13['Location']='Visakhapatnam' "
   ]
  },
  {
   "cell_type": "code",
   "execution_count": 34,
   "metadata": {},
   "outputs": [
    {
     "data": {
      "text/html": [
       "<div>\n",
       "<style scoped>\n",
       "    .dataframe tbody tr th:only-of-type {\n",
       "        vertical-align: middle;\n",
       "    }\n",
       "\n",
       "    .dataframe tbody tr th {\n",
       "        vertical-align: top;\n",
       "    }\n",
       "\n",
       "    .dataframe thead th {\n",
       "        text-align: right;\n",
       "    }\n",
       "</style>\n",
       "<table border=\"1\" class=\"dataframe\">\n",
       "  <thead>\n",
       "    <tr style=\"text-align: right;\">\n",
       "      <th></th>\n",
       "      <th>Price</th>\n",
       "      <th>Brand</th>\n",
       "      <th>Model</th>\n",
       "      <th>Kilometers_driven</th>\n",
       "      <th>Year</th>\n",
       "      <th>Fuel</th>\n",
       "      <th>Transmission</th>\n",
       "      <th>Variant</th>\n",
       "      <th>No_owners</th>\n",
       "      <th>Location</th>\n",
       "    </tr>\n",
       "  </thead>\n",
       "  <tbody>\n",
       "    <tr>\n",
       "      <th>0</th>\n",
       "      <td>₹8,50,000</td>\n",
       "      <td>Honda</td>\n",
       "      <td>VX</td>\n",
       "      <td>1,29,000 KMS</td>\n",
       "      <td>2016</td>\n",
       "      <td>PETROL</td>\n",
       "      <td>Na</td>\n",
       "      <td>Brown</td>\n",
       "      <td>Na</td>\n",
       "      <td>Visakhapatnam</td>\n",
       "    </tr>\n",
       "    <tr>\n",
       "      <th>1</th>\n",
       "      <td>₹5,50,000</td>\n",
       "      <td>Hyundai</td>\n",
       "      <td>Santro</td>\n",
       "      <td>5,900 KMS</td>\n",
       "      <td>Used</td>\n",
       "      <td>PETROL</td>\n",
       "      <td>Na</td>\n",
       "      <td>Na</td>\n",
       "      <td>Na</td>\n",
       "      <td>Visakhapatnam</td>\n",
       "    </tr>\n",
       "    <tr>\n",
       "      <th>2</th>\n",
       "      <td>₹2,30,000</td>\n",
       "      <td>Mahindra</td>\n",
       "      <td>SLX 2.6 Turbo 7 Str</td>\n",
       "      <td>1,50,000 KMS</td>\n",
       "      <td>2007</td>\n",
       "      <td>DIESEL</td>\n",
       "      <td>Na</td>\n",
       "      <td>Black</td>\n",
       "      <td>Na</td>\n",
       "      <td>Visakhapatnam</td>\n",
       "    </tr>\n",
       "    <tr>\n",
       "      <th>3</th>\n",
       "      <td>₹3,50,000</td>\n",
       "      <td>Volkswagen</td>\n",
       "      <td>Highline1.2L P</td>\n",
       "      <td>82,500 KMS</td>\n",
       "      <td>2011</td>\n",
       "      <td>PETROL</td>\n",
       "      <td>Na</td>\n",
       "      <td>Grey</td>\n",
       "      <td>Na</td>\n",
       "      <td>Visakhapatnam</td>\n",
       "    </tr>\n",
       "    <tr>\n",
       "      <th>4</th>\n",
       "      <td>₹2,80,000</td>\n",
       "      <td>Honda</td>\n",
       "      <td>1.8S MT</td>\n",
       "      <td>82,891 KMS</td>\n",
       "      <td>2007</td>\n",
       "      <td>PETROL</td>\n",
       "      <td>Na</td>\n",
       "      <td>Na</td>\n",
       "      <td>Na</td>\n",
       "      <td>Visakhapatnam</td>\n",
       "    </tr>\n",
       "  </tbody>\n",
       "</table>\n",
       "</div>"
      ],
      "text/plain": [
       "       Price       Brand                Model Kilometers_driven  Year    Fuel  \\\n",
       "0  ₹8,50,000       Honda                   VX      1,29,000 KMS  2016  PETROL   \n",
       "1  ₹5,50,000     Hyundai               Santro         5,900 KMS  Used  PETROL   \n",
       "2  ₹2,30,000    Mahindra  SLX 2.6 Turbo 7 Str      1,50,000 KMS  2007  DIESEL   \n",
       "3  ₹3,50,000  Volkswagen       Highline1.2L P        82,500 KMS  2011  PETROL   \n",
       "4  ₹2,80,000       Honda              1.8S MT        82,891 KMS  2007  PETROL   \n",
       "\n",
       "  Transmission Variant No_owners       Location  \n",
       "0           Na   Brown        Na  Visakhapatnam  \n",
       "1           Na      Na        Na  Visakhapatnam  \n",
       "2           Na   Black        Na  Visakhapatnam  \n",
       "3           Na    Grey        Na  Visakhapatnam  \n",
       "4           Na      Na        Na  Visakhapatnam  "
      ]
     },
     "execution_count": 34,
     "metadata": {},
     "output_type": "execute_result"
    }
   ],
   "source": [
    "quikr13.head()"
   ]
  },
  {
   "cell_type": "code",
   "execution_count": 53,
   "metadata": {},
   "outputs": [],
   "source": [
    "driver.close()"
   ]
  },
  {
   "cell_type": "code",
   "execution_count": 54,
   "metadata": {},
   "outputs": [],
   "source": [
    "#Thiruvananthapuram"
   ]
  },
  {
   "cell_type": "code",
   "execution_count": 55,
   "metadata": {},
   "outputs": [],
   "source": [
    "driver=webdriver.Firefox(\"C:\\geckodriver-v0.29.1-win64\")"
   ]
  },
  {
   "cell_type": "code",
   "execution_count": 56,
   "metadata": {},
   "outputs": [],
   "source": [
    "driver.get(\"https://www.quikr.com/\")"
   ]
  },
  {
   "cell_type": "code",
   "execution_count": 57,
   "metadata": {},
   "outputs": [],
   "source": [
    "locatio=driver.find_element_by_xpath(\"//i[@class='icon-arrow']\")\n",
    "locatio.click()"
   ]
  },
  {
   "cell_type": "code",
   "execution_count": 58,
   "metadata": {},
   "outputs": [],
   "source": [
    "city=driver.find_element_by_xpath(\"//div[@class='drop-layers']/div/div/input\")\n",
    "city.send_keys(\"Trivandrum\")"
   ]
  },
  {
   "cell_type": "code",
   "execution_count": 59,
   "metadata": {},
   "outputs": [],
   "source": [
    "driver.find_element_by_id(\"hSuggCityList\").click()"
   ]
  },
  {
   "cell_type": "code",
   "execution_count": 60,
   "metadata": {},
   "outputs": [],
   "source": [
    "cars=driver.find_element_by_xpath(\"//ul[@id='fixed-category']/li[6]\")\n",
    "cars.click()"
   ]
  },
  {
   "cell_type": "code",
   "execution_count": 61,
   "metadata": {},
   "outputs": [],
   "source": [
    "search=driver.find_element_by_xpath(\"//button[@class='mdc-button mdc-ripple-upgraded mdc-ripple-upgraded--unbounded mdc-button--primary mdc-button--unelevated mdc-ripple-upgraded--foreground-deactivation mdc-button__width-full']\")\n",
    "search.click()"
   ]
  },
  {
   "cell_type": "code",
   "execution_count": 62,
   "metadata": {},
   "outputs": [],
   "source": [
    "driver.execute_script(\"window.scrollTo(0, document.body.scrollHeight);\") #this code will scroll the web page till bottom"
   ]
  },
  {
   "cell_type": "code",
   "execution_count": 63,
   "metadata": {},
   "outputs": [
    {
     "data": {
      "text/plain": [
       "71"
      ]
     },
     "execution_count": 63,
     "metadata": {},
     "output_type": "execute_result"
    }
   ],
   "source": [
    "urls=[]\n",
    "for i in driver.find_elements_by_xpath(\"//div[@class='mdc-layout-grid__cell mdc-layout-grid__cell--span-4-desktop mdc-layout-grid__cell mdc-layout-grid__cell--span-12-phone']/a\"):\n",
    "    urls.append(i.get_attribute('href'))\n",
    "time.sleep(4)\n",
    "len(urls)"
   ]
  },
  {
   "cell_type": "code",
   "execution_count": 64,
   "metadata": {},
   "outputs": [],
   "source": [
    "#Scrapping data of each cars:\n",
    "Price=[]\n",
    "Brand=[]\n",
    "Model=[]\n",
    "Kilometers_driven=[]\n",
    "Year=[]\n",
    "Fuel=[]\n",
    "Transmission=[]\n",
    "Variant=[]\n",
    "No_owners=[]"
   ]
  },
  {
   "cell_type": "code",
   "execution_count": 65,
   "metadata": {},
   "outputs": [
    {
     "data": {
      "text/plain": [
       "71"
      ]
     },
     "execution_count": 65,
     "metadata": {},
     "output_type": "execute_result"
    }
   ],
   "source": [
    "for i in driver.find_elements_by_xpath(\"//div[@class='price']\"):\n",
    "    Price.append(i.text) \n",
    "len(Price)"
   ]
  },
  {
   "cell_type": "code",
   "execution_count": 66,
   "metadata": {},
   "outputs": [],
   "source": [
    "for i in urls:\n",
    "    driver.get(i)\n",
    "    time.sleep(5)\n",
    "    \n",
    "    try:\n",
    "        driver.find_element_by_xpath(\"//span[@class='sc-1sbb775-3 eaiAQu ttC cP dF w100 jcC']\").click()\n",
    "    except NoSuchElementException:\n",
    "        pass\n",
    "\n",
    "    try:\n",
    "        second=driver.find_element_by_xpath(\"//ul[@class='sc-1sbb775-0 fkgsye dF fwW jcSB']/li[3]/span\")\n",
    "        Brand.append(second.text)\n",
    "    except NoSuchElementException:\n",
    "        Brand.append(\"Na\")\n",
    "        \n",
    "    try:\n",
    "        third=driver.find_element_by_xpath(\"//ul[@class='sc-1sbb775-0 fkgsye dF fwW jcSB']/li[8]/span\")\n",
    "        Model.append(third.text)\n",
    "    except NoSuchElementException:\n",
    "        Model.append(\"Na\")\n",
    "        \n",
    "    try:\n",
    "        fourt=driver.find_element_by_xpath(\"//ul[@class='sc-1sbb775-0 fkgsye dF fwW jcSB']/li[9]/span\")\n",
    "        Variant.append(fourt.text)\n",
    "    except NoSuchElementException:\n",
    "        Variant.append(\"Na\")\n",
    "        \n",
    "    try:\n",
    "        fifth=driver.find_element_by_xpath(\"//ul[@class='sc-1sbb775-0 fkgsye dF fwW jcSB']/li[4]/span\")\n",
    "        Year.append(fifth.text)\n",
    "    except NoSuchElementException:\n",
    "        Year.append(\"Na\")\n",
    "        \n",
    "            \n",
    "    try:\n",
    "        Sixth=driver.find_element_by_xpath(\"//ul[@class='rnzqd6-0 kKtfpp jcSB pR']/li[1]\")\n",
    "        Fuel.append(Sixth.text)\n",
    "    except NoSuchElementException:\n",
    "        Fuel.append(\"Na\")\n",
    "        \n",
    "    try:\n",
    "        Seventh=driver.find_element_by_xpath(\"//ul[@class='sc-1sbb775-0 fkgsye dF fwW jcSB']/li[11]/span\")\n",
    "        Transmission.append(Seventh.text)\n",
    "    except NoSuchElementException:\n",
    "        Transmission.append(\"Na\")\n",
    "        \n",
    "    try:\n",
    "        Eighth=driver.find_element_by_xpath(\"//ul[@class='rnzqd6-0 kKtfpp jcSB pR']/li[2]\")\n",
    "        Kilometers_driven.append(Eighth.text)\n",
    "    except NoSuchElementException:\n",
    "        Kilometers_driven.append(\"Na\")\n",
    "        \n",
    "    try:\n",
    "        Ninth=driver.find_element_by_xpath(\"//ul[@class='rnzqd6-0 kKtfpp jcSB pR']/li[3]\")\n",
    "        No_owners.append(Ninth.text)\n",
    "    except NoSuchElementException:\n",
    "        No_owners.append(\"Na\") "
   ]
  },
  {
   "cell_type": "code",
   "execution_count": 67,
   "metadata": {},
   "outputs": [],
   "source": [
    "quikr14=pd.DataFrame({})\n",
    "quikr14['Price']=Price\n",
    "quikr14['Brand']=Brand\n",
    "quikr14['Model']=Model\n",
    "quikr14['Kilometers_driven']=Kilometers_driven\n",
    "quikr14['Year']=Year\n",
    "quikr14['Fuel']=Fuel\n",
    "quikr14['Transmission']=Transmission\n",
    "quikr14['Variant']=Variant\n",
    "quikr14['No_owners']=No_owners\n",
    "quikr14['Location']='Thiruvananthapuram' "
   ]
  },
  {
   "cell_type": "code",
   "execution_count": 68,
   "metadata": {},
   "outputs": [
    {
     "data": {
      "text/html": [
       "<div>\n",
       "<style scoped>\n",
       "    .dataframe tbody tr th:only-of-type {\n",
       "        vertical-align: middle;\n",
       "    }\n",
       "\n",
       "    .dataframe tbody tr th {\n",
       "        vertical-align: top;\n",
       "    }\n",
       "\n",
       "    .dataframe thead th {\n",
       "        text-align: right;\n",
       "    }\n",
       "</style>\n",
       "<table border=\"1\" class=\"dataframe\">\n",
       "  <thead>\n",
       "    <tr style=\"text-align: right;\">\n",
       "      <th></th>\n",
       "      <th>Price</th>\n",
       "      <th>Brand</th>\n",
       "      <th>Model</th>\n",
       "      <th>Kilometers_driven</th>\n",
       "      <th>Year</th>\n",
       "      <th>Fuel</th>\n",
       "      <th>Transmission</th>\n",
       "      <th>Variant</th>\n",
       "      <th>No_owners</th>\n",
       "      <th>Location</th>\n",
       "    </tr>\n",
       "  </thead>\n",
       "  <tbody>\n",
       "    <tr>\n",
       "      <th>0</th>\n",
       "      <td>₹10,25,000</td>\n",
       "      <td>Honda</td>\n",
       "      <td>City</td>\n",
       "      <td>24,000 KMS</td>\n",
       "      <td>Used</td>\n",
       "      <td>PETROL</td>\n",
       "      <td>Feb 05 2022</td>\n",
       "      <td>1.5 V MT</td>\n",
       "      <td>ONE OWNER</td>\n",
       "      <td>Thiruvananthapuram</td>\n",
       "    </tr>\n",
       "    <tr>\n",
       "      <th>1</th>\n",
       "      <td>₹3,50,000</td>\n",
       "      <td>Maruti Suzuki</td>\n",
       "      <td>VXi AMT</td>\n",
       "      <td>89,000 KMS</td>\n",
       "      <td>2014</td>\n",
       "      <td>PETROL</td>\n",
       "      <td>Na</td>\n",
       "      <td>Na</td>\n",
       "      <td>Na</td>\n",
       "      <td>Thiruvananthapuram</td>\n",
       "    </tr>\n",
       "    <tr>\n",
       "      <th>2</th>\n",
       "      <td>₹2,85,000</td>\n",
       "      <td>Maruti Suzuki</td>\n",
       "      <td>Star LXI</td>\n",
       "      <td>37,800 KMS</td>\n",
       "      <td>2009</td>\n",
       "      <td>PETROL</td>\n",
       "      <td>Na</td>\n",
       "      <td>Na</td>\n",
       "      <td>Na</td>\n",
       "      <td>Thiruvananthapuram</td>\n",
       "    </tr>\n",
       "    <tr>\n",
       "      <th>3</th>\n",
       "      <td>₹4,10,000</td>\n",
       "      <td>Datsun</td>\n",
       "      <td>T</td>\n",
       "      <td>9,500 KMS</td>\n",
       "      <td>2020</td>\n",
       "      <td>PETROL</td>\n",
       "      <td>Na</td>\n",
       "      <td>Na</td>\n",
       "      <td>Na</td>\n",
       "      <td>Thiruvananthapuram</td>\n",
       "    </tr>\n",
       "    <tr>\n",
       "      <th>4</th>\n",
       "      <td>₹3,80,000</td>\n",
       "      <td>Datsun</td>\n",
       "      <td>T</td>\n",
       "      <td>9,500 KMS</td>\n",
       "      <td>2020</td>\n",
       "      <td>PETROL</td>\n",
       "      <td>Na</td>\n",
       "      <td>Na</td>\n",
       "      <td>Na</td>\n",
       "      <td>Thiruvananthapuram</td>\n",
       "    </tr>\n",
       "  </tbody>\n",
       "</table>\n",
       "</div>"
      ],
      "text/plain": [
       "        Price          Brand     Model Kilometers_driven  Year    Fuel  \\\n",
       "0  ₹10,25,000          Honda      City        24,000 KMS  Used  PETROL   \n",
       "1   ₹3,50,000  Maruti Suzuki   VXi AMT        89,000 KMS  2014  PETROL   \n",
       "2   ₹2,85,000  Maruti Suzuki  Star LXI        37,800 KMS  2009  PETROL   \n",
       "3   ₹4,10,000         Datsun         T         9,500 KMS  2020  PETROL   \n",
       "4   ₹3,80,000         Datsun         T         9,500 KMS  2020  PETROL   \n",
       "\n",
       "  Transmission   Variant  No_owners            Location  \n",
       "0  Feb 05 2022  1.5 V MT  ONE OWNER  Thiruvananthapuram  \n",
       "1           Na        Na         Na  Thiruvananthapuram  \n",
       "2           Na        Na         Na  Thiruvananthapuram  \n",
       "3           Na        Na         Na  Thiruvananthapuram  \n",
       "4           Na        Na         Na  Thiruvananthapuram  "
      ]
     },
     "execution_count": 68,
     "metadata": {},
     "output_type": "execute_result"
    }
   ],
   "source": [
    "quikr14.head()"
   ]
  },
  {
   "cell_type": "code",
   "execution_count": 112,
   "metadata": {},
   "outputs": [],
   "source": [
    "driver.close()"
   ]
  },
  {
   "cell_type": "code",
   "execution_count": 113,
   "metadata": {},
   "outputs": [],
   "source": [
    "#Kolkata"
   ]
  },
  {
   "cell_type": "code",
   "execution_count": 114,
   "metadata": {},
   "outputs": [],
   "source": [
    "driver=webdriver.Firefox(\"C:\\geckodriver-v0.29.1-win64\")"
   ]
  },
  {
   "cell_type": "code",
   "execution_count": 115,
   "metadata": {},
   "outputs": [],
   "source": [
    "driver.get(\"https://www.quikr.com/\")"
   ]
  },
  {
   "cell_type": "code",
   "execution_count": 116,
   "metadata": {},
   "outputs": [],
   "source": [
    "locatio=driver.find_element_by_xpath(\"//i[@class='icon-arrow']\")\n",
    "locatio.click()"
   ]
  },
  {
   "cell_type": "code",
   "execution_count": 117,
   "metadata": {},
   "outputs": [],
   "source": [
    "city=driver.find_element_by_xpath(\"//div[@class='drop-layers']/div/div/input\")\n",
    "city.send_keys(\"Kolkata\")"
   ]
  },
  {
   "cell_type": "code",
   "execution_count": 118,
   "metadata": {},
   "outputs": [],
   "source": [
    "driver.find_element_by_id(\"hSuggCityList\").click()"
   ]
  },
  {
   "cell_type": "code",
   "execution_count": 119,
   "metadata": {},
   "outputs": [],
   "source": [
    "cars=driver.find_element_by_xpath(\"//ul[@id='fixed-category']/li[6]\")\n",
    "cars.click()"
   ]
  },
  {
   "cell_type": "code",
   "execution_count": 120,
   "metadata": {},
   "outputs": [],
   "source": [
    "search=driver.find_element_by_xpath(\"//button[@class='mdc-button mdc-ripple-upgraded mdc-ripple-upgraded--unbounded mdc-button--primary mdc-button--unelevated mdc-ripple-upgraded--foreground-deactivation mdc-button__width-full']\")\n",
    "search.click()"
   ]
  },
  {
   "cell_type": "code",
   "execution_count": 121,
   "metadata": {},
   "outputs": [],
   "source": [
    "driver.execute_script(\"window.scrollTo(0, document.body.scrollHeight);\") #this code will scroll the web page till bottom"
   ]
  },
  {
   "cell_type": "code",
   "execution_count": 122,
   "metadata": {},
   "outputs": [
    {
     "data": {
      "text/plain": [
       "120"
      ]
     },
     "execution_count": 122,
     "metadata": {},
     "output_type": "execute_result"
    }
   ],
   "source": [
    "urls=[]\n",
    "for i in driver.find_elements_by_xpath(\"//div[@class='mdc-layout-grid__cell mdc-layout-grid__cell--span-4-desktop mdc-layout-grid__cell mdc-layout-grid__cell--span-12-phone']/a\")[0:120]:\n",
    "    urls.append(i.get_attribute('href'))\n",
    "time.sleep(4)\n",
    "len(urls)"
   ]
  },
  {
   "cell_type": "code",
   "execution_count": 125,
   "metadata": {},
   "outputs": [],
   "source": [
    "#Scrapping data of each cars:\n",
    "Price=[]\n",
    "Brand=[]\n",
    "Model=[]\n",
    "Kilometers_driven=[]\n",
    "Year=[]\n",
    "Fuel=[]\n",
    "Transmission=[]\n",
    "Variant=[]\n",
    "No_owners=[]"
   ]
  },
  {
   "cell_type": "code",
   "execution_count": 126,
   "metadata": {},
   "outputs": [
    {
     "data": {
      "text/plain": [
       "120"
      ]
     },
     "execution_count": 126,
     "metadata": {},
     "output_type": "execute_result"
    }
   ],
   "source": [
    "for i in driver.find_elements_by_xpath(\"//div[@class='price']\")[0:120]:\n",
    "    Price.append(i.text) \n",
    "len(Price)"
   ]
  },
  {
   "cell_type": "code",
   "execution_count": 127,
   "metadata": {},
   "outputs": [],
   "source": [
    "for i in urls:\n",
    "    driver.get(i)\n",
    "    time.sleep(5)\n",
    "    \n",
    "    try:\n",
    "        driver.find_element_by_xpath(\"//span[@class='sc-1sbb775-3 eaiAQu ttC cP dF w100 jcC']\").click()\n",
    "    except NoSuchElementException:\n",
    "        pass\n",
    "\n",
    "    try:\n",
    "        second=driver.find_element_by_xpath(\"//ul[@class='sc-1sbb775-0 fkgsye dF fwW jcSB']/li[3]/span\")\n",
    "        Brand.append(second.text)\n",
    "    except NoSuchElementException:\n",
    "        Brand.append(\"Na\")\n",
    "        \n",
    "    try:\n",
    "        third=driver.find_element_by_xpath(\"//ul[@class='sc-1sbb775-0 fkgsye dF fwW jcSB']/li[8]/span\")\n",
    "        Model.append(third.text)\n",
    "    except NoSuchElementException:\n",
    "        Model.append(\"Na\")\n",
    "        \n",
    "    try:\n",
    "        fourt=driver.find_element_by_xpath(\"//ul[@class='sc-1sbb775-0 fkgsye dF fwW jcSB']/li[9]/span\")\n",
    "        Variant.append(fourt.text)\n",
    "    except NoSuchElementException:\n",
    "        Variant.append(\"Na\")\n",
    "        \n",
    "    try:\n",
    "        fifth=driver.find_element_by_xpath(\"//ul[@class='sc-1sbb775-0 fkgsye dF fwW jcSB']/li[4]/span\")\n",
    "        Year.append(fifth.text)\n",
    "    except NoSuchElementException:\n",
    "        Year.append(\"Na\")\n",
    "        \n",
    "            \n",
    "    try:\n",
    "        Sixth=driver.find_element_by_xpath(\"//ul[@class='rnzqd6-0 kKtfpp jcSB pR']/li[1]\")\n",
    "        Fuel.append(Sixth.text)\n",
    "    except NoSuchElementException:\n",
    "        Fuel.append(\"Na\")\n",
    "        \n",
    "    try:\n",
    "        Seventh=driver.find_element_by_xpath(\"//ul[@class='sc-1sbb775-0 fkgsye dF fwW jcSB']/li[11]/span\")\n",
    "        Transmission.append(Seventh.text)\n",
    "    except NoSuchElementException:\n",
    "        Transmission.append(\"Na\")\n",
    "        \n",
    "    try:\n",
    "        Eighth=driver.find_element_by_xpath(\"//ul[@class='rnzqd6-0 kKtfpp jcSB pR']/li[2]\")\n",
    "        Kilometers_driven.append(Eighth.text)\n",
    "    except NoSuchElementException:\n",
    "        Kilometers_driven.append(\"Na\")\n",
    "        \n",
    "    try:\n",
    "        Ninth=driver.find_element_by_xpath(\"//ul[@class='rnzqd6-0 kKtfpp jcSB pR']/li[3]\")\n",
    "        No_owners.append(Ninth.text)\n",
    "    except NoSuchElementException:\n",
    "        No_owners.append(\"Na\") "
   ]
  },
  {
   "cell_type": "code",
   "execution_count": 128,
   "metadata": {},
   "outputs": [
    {
     "data": {
      "text/plain": [
       "120"
      ]
     },
     "execution_count": 128,
     "metadata": {},
     "output_type": "execute_result"
    }
   ],
   "source": [
    "len(Brand)"
   ]
  },
  {
   "cell_type": "code",
   "execution_count": 129,
   "metadata": {},
   "outputs": [],
   "source": [
    "quikr15=pd.DataFrame({})\n",
    "quikr15['Price']=Price\n",
    "quikr15['Brand']=Brand\n",
    "quikr15['Model']=Model\n",
    "quikr15['Kilometers_driven']=Kilometers_driven\n",
    "quikr15['Year']=Year\n",
    "quikr15['Fuel']=Fuel\n",
    "quikr15['Transmission']=Transmission\n",
    "quikr15['Variant']=Variant\n",
    "quikr15['No_owners']=No_owners\n",
    "quikr15['Location']='Kolkata' "
   ]
  },
  {
   "cell_type": "code",
   "execution_count": 130,
   "metadata": {
    "scrolled": true
   },
   "outputs": [
    {
     "data": {
      "text/html": [
       "<div>\n",
       "<style scoped>\n",
       "    .dataframe tbody tr th:only-of-type {\n",
       "        vertical-align: middle;\n",
       "    }\n",
       "\n",
       "    .dataframe tbody tr th {\n",
       "        vertical-align: top;\n",
       "    }\n",
       "\n",
       "    .dataframe thead th {\n",
       "        text-align: right;\n",
       "    }\n",
       "</style>\n",
       "<table border=\"1\" class=\"dataframe\">\n",
       "  <thead>\n",
       "    <tr style=\"text-align: right;\">\n",
       "      <th></th>\n",
       "      <th>Price</th>\n",
       "      <th>Brand</th>\n",
       "      <th>Model</th>\n",
       "      <th>Kilometers_driven</th>\n",
       "      <th>Year</th>\n",
       "      <th>Fuel</th>\n",
       "      <th>Transmission</th>\n",
       "      <th>Variant</th>\n",
       "      <th>No_owners</th>\n",
       "      <th>Location</th>\n",
       "    </tr>\n",
       "  </thead>\n",
       "  <tbody>\n",
       "    <tr>\n",
       "      <th>0</th>\n",
       "      <td>₹4,75,000</td>\n",
       "      <td>Honda</td>\n",
       "      <td>V MT</td>\n",
       "      <td>20,000 KMS</td>\n",
       "      <td>2016</td>\n",
       "      <td>PETROL</td>\n",
       "      <td>Na</td>\n",
       "      <td>Na</td>\n",
       "      <td>Na</td>\n",
       "      <td>Kolkata</td>\n",
       "    </tr>\n",
       "    <tr>\n",
       "      <th>1</th>\n",
       "      <td>₹10,75,000</td>\n",
       "      <td>Mercedes Benz</td>\n",
       "      <td>B 180 Sport</td>\n",
       "      <td>20,000 KMS</td>\n",
       "      <td>2013</td>\n",
       "      <td>PETROL</td>\n",
       "      <td>Na</td>\n",
       "      <td>Na</td>\n",
       "      <td>Na</td>\n",
       "      <td>Kolkata</td>\n",
       "    </tr>\n",
       "    <tr>\n",
       "      <th>2</th>\n",
       "      <td>₹3,91,000</td>\n",
       "      <td>Honda</td>\n",
       "      <td>1.8V AT Sunroof</td>\n",
       "      <td>35,000 KMS</td>\n",
       "      <td>2012</td>\n",
       "      <td>PETROL</td>\n",
       "      <td>Na</td>\n",
       "      <td>Na</td>\n",
       "      <td>Na</td>\n",
       "      <td>Kolkata</td>\n",
       "    </tr>\n",
       "    <tr>\n",
       "      <th>3</th>\n",
       "      <td>₹1,75,000</td>\n",
       "      <td>Honda</td>\n",
       "      <td>1.8V MT</td>\n",
       "      <td>35,000 KMS</td>\n",
       "      <td>2007</td>\n",
       "      <td>PETROL</td>\n",
       "      <td>Na</td>\n",
       "      <td>Na</td>\n",
       "      <td>Na</td>\n",
       "      <td>Kolkata</td>\n",
       "    </tr>\n",
       "    <tr>\n",
       "      <th>4</th>\n",
       "      <td>₹5,75,000</td>\n",
       "      <td>Honda</td>\n",
       "      <td>1.5 V MT</td>\n",
       "      <td>50,000 KMS</td>\n",
       "      <td>2015</td>\n",
       "      <td>PETROL</td>\n",
       "      <td>Na</td>\n",
       "      <td>Na</td>\n",
       "      <td>Na</td>\n",
       "      <td>Kolkata</td>\n",
       "    </tr>\n",
       "  </tbody>\n",
       "</table>\n",
       "</div>"
      ],
      "text/plain": [
       "        Price          Brand            Model Kilometers_driven  Year    Fuel  \\\n",
       "0   ₹4,75,000          Honda             V MT        20,000 KMS  2016  PETROL   \n",
       "1  ₹10,75,000  Mercedes Benz      B 180 Sport        20,000 KMS  2013  PETROL   \n",
       "2   ₹3,91,000          Honda  1.8V AT Sunroof        35,000 KMS  2012  PETROL   \n",
       "3   ₹1,75,000          Honda          1.8V MT        35,000 KMS  2007  PETROL   \n",
       "4   ₹5,75,000          Honda         1.5 V MT        50,000 KMS  2015  PETROL   \n",
       "\n",
       "  Transmission Variant No_owners Location  \n",
       "0           Na      Na        Na  Kolkata  \n",
       "1           Na      Na        Na  Kolkata  \n",
       "2           Na      Na        Na  Kolkata  \n",
       "3           Na      Na        Na  Kolkata  \n",
       "4           Na      Na        Na  Kolkata  "
      ]
     },
     "execution_count": 130,
     "metadata": {},
     "output_type": "execute_result"
    }
   ],
   "source": [
    "quikr15.head()"
   ]
  },
  {
   "cell_type": "code",
   "execution_count": 132,
   "metadata": {},
   "outputs": [],
   "source": [
    "driver.close()"
   ]
  },
  {
   "cell_type": "code",
   "execution_count": 133,
   "metadata": {},
   "outputs": [],
   "source": [
    "#Shimla"
   ]
  },
  {
   "cell_type": "code",
   "execution_count": 134,
   "metadata": {},
   "outputs": [],
   "source": [
    "driver=webdriver.Firefox(\"C:\\geckodriver-v0.29.1-win64\")"
   ]
  },
  {
   "cell_type": "code",
   "execution_count": 135,
   "metadata": {},
   "outputs": [],
   "source": [
    "driver.get(\"https://www.quikr.com/\")"
   ]
  },
  {
   "cell_type": "code",
   "execution_count": 136,
   "metadata": {},
   "outputs": [],
   "source": [
    "locatio=driver.find_element_by_xpath(\"//i[@class='icon-arrow']\")\n",
    "locatio.click()"
   ]
  },
  {
   "cell_type": "code",
   "execution_count": 137,
   "metadata": {},
   "outputs": [],
   "source": [
    "city=driver.find_element_by_xpath(\"//div[@class='drop-layers']/div/div/input\")\n",
    "city.send_keys(\"Shimla\")"
   ]
  },
  {
   "cell_type": "code",
   "execution_count": 138,
   "metadata": {},
   "outputs": [],
   "source": [
    "driver.find_element_by_id(\"hSuggCityList\").click()"
   ]
  },
  {
   "cell_type": "code",
   "execution_count": 139,
   "metadata": {},
   "outputs": [],
   "source": [
    "cars=driver.find_element_by_xpath(\"//ul[@id='fixed-category']/li[6]\")\n",
    "cars.click()"
   ]
  },
  {
   "cell_type": "code",
   "execution_count": 140,
   "metadata": {},
   "outputs": [],
   "source": [
    "search=driver.find_element_by_xpath(\"//button[@class='mdc-button mdc-ripple-upgraded mdc-ripple-upgraded--unbounded mdc-button--primary mdc-button--unelevated mdc-ripple-upgraded--foreground-deactivation mdc-button__width-full']\")\n",
    "search.click()"
   ]
  },
  {
   "cell_type": "code",
   "execution_count": 141,
   "metadata": {},
   "outputs": [],
   "source": [
    "driver.execute_script(\"window.scrollTo(0, document.body.scrollHeight);\") #this code will scroll the web page till bottom"
   ]
  },
  {
   "cell_type": "code",
   "execution_count": 142,
   "metadata": {},
   "outputs": [
    {
     "data": {
      "text/plain": [
       "12"
      ]
     },
     "execution_count": 142,
     "metadata": {},
     "output_type": "execute_result"
    }
   ],
   "source": [
    "urls=[]\n",
    "for i in driver.find_elements_by_xpath(\"//div[@class='mdc-layout-grid__cell mdc-layout-grid__cell--span-4-desktop mdc-layout-grid__cell mdc-layout-grid__cell--span-12-phone']/a\"):\n",
    "    urls.append(i.get_attribute('href'))\n",
    "time.sleep(4)\n",
    "len(urls)"
   ]
  },
  {
   "cell_type": "code",
   "execution_count": 143,
   "metadata": {},
   "outputs": [],
   "source": [
    "#Scrapping data of each cars:\n",
    "Price=[]\n",
    "Brand=[]\n",
    "Model=[]\n",
    "Kilometers_driven=[]\n",
    "Year=[]\n",
    "Fuel=[]\n",
    "Transmission=[]\n",
    "Variant=[]\n",
    "No_owners=[]"
   ]
  },
  {
   "cell_type": "code",
   "execution_count": 144,
   "metadata": {},
   "outputs": [
    {
     "data": {
      "text/plain": [
       "12"
      ]
     },
     "execution_count": 144,
     "metadata": {},
     "output_type": "execute_result"
    }
   ],
   "source": [
    "for i in driver.find_elements_by_xpath(\"//div[@class='price']\")[0:100]:\n",
    "    Price.append(i.text) \n",
    "len(Price)"
   ]
  },
  {
   "cell_type": "code",
   "execution_count": 145,
   "metadata": {},
   "outputs": [],
   "source": [
    "for i in urls:\n",
    "    driver.get(i)\n",
    "    time.sleep(5)\n",
    "    \n",
    "    try:\n",
    "        driver.find_element_by_xpath(\"//span[@class='sc-1sbb775-3 eaiAQu ttC cP dF w100 jcC']\").click()\n",
    "    except NoSuchElementException:\n",
    "        pass\n",
    "\n",
    "    try:\n",
    "        second=driver.find_element_by_xpath(\"//ul[@class='sc-1sbb775-0 fkgsye dF fwW jcSB']/li[3]/span\")\n",
    "        Brand.append(second.text)\n",
    "    except NoSuchElementException:\n",
    "        Brand.append(\"Na\")\n",
    "        \n",
    "    try:\n",
    "        third=driver.find_element_by_xpath(\"//ul[@class='sc-1sbb775-0 fkgsye dF fwW jcSB']/li[8]/span\")\n",
    "        Model.append(third.text)\n",
    "    except NoSuchElementException:\n",
    "        Model.append(\"Na\")\n",
    "        \n",
    "    try:\n",
    "        fourt=driver.find_element_by_xpath(\"//ul[@class='sc-1sbb775-0 fkgsye dF fwW jcSB']/li[9]/span\")\n",
    "        Variant.append(fourt.text)\n",
    "    except NoSuchElementException:\n",
    "        Variant.append(\"Na\")\n",
    "        \n",
    "    try:\n",
    "        fifth=driver.find_element_by_xpath(\"//ul[@class='sc-1sbb775-0 fkgsye dF fwW jcSB']/li[4]/span\")\n",
    "        Year.append(fifth.text)\n",
    "    except NoSuchElementException:\n",
    "        Year.append(\"Na\")\n",
    "        \n",
    "            \n",
    "    try:\n",
    "        Sixth=driver.find_element_by_xpath(\"//ul[@class='rnzqd6-0 kKtfpp jcSB pR']/li[1]\")\n",
    "        Fuel.append(Sixth.text)\n",
    "    except NoSuchElementException:\n",
    "        Fuel.append(\"Na\")\n",
    "        \n",
    "    try:\n",
    "        Seventh=driver.find_element_by_xpath(\"//ul[@class='sc-1sbb775-0 fkgsye dF fwW jcSB']/li[11]/span\")\n",
    "        Transmission.append(Seventh.text)\n",
    "    except NoSuchElementException:\n",
    "        Transmission.append(\"Na\")\n",
    "        \n",
    "    try:\n",
    "        Eighth=driver.find_element_by_xpath(\"//ul[@class='rnzqd6-0 kKtfpp jcSB pR']/li[2]\")\n",
    "        Kilometers_driven.append(Eighth.text)\n",
    "    except NoSuchElementException:\n",
    "        Kilometers_driven.append(\"Na\")\n",
    "        \n",
    "    try:\n",
    "        Ninth=driver.find_element_by_xpath(\"//ul[@class='rnzqd6-0 kKtfpp jcSB pR']/li[3]\")\n",
    "        No_owners.append(Ninth.text)\n",
    "    except NoSuchElementException:\n",
    "        No_owners.append(\"Na\")    "
   ]
  },
  {
   "cell_type": "code",
   "execution_count": 146,
   "metadata": {},
   "outputs": [],
   "source": [
    "quikr16=pd.DataFrame({})\n",
    "quikr16['Price']=Price\n",
    "quikr16['Brand']=Brand\n",
    "quikr16['Model']=Model\n",
    "quikr16['Kilometers_driven']=Kilometers_driven\n",
    "quikr16['Year']=Year\n",
    "quikr16['Fuel']=Fuel\n",
    "quikr16['Transmission']=Transmission\n",
    "quikr16['Variant']=Variant\n",
    "quikr16['No_owners']=No_owners\n",
    "quikr16['Location']='Shimla' "
   ]
  },
  {
   "cell_type": "code",
   "execution_count": 147,
   "metadata": {},
   "outputs": [
    {
     "data": {
      "text/html": [
       "<div>\n",
       "<style scoped>\n",
       "    .dataframe tbody tr th:only-of-type {\n",
       "        vertical-align: middle;\n",
       "    }\n",
       "\n",
       "    .dataframe tbody tr th {\n",
       "        vertical-align: top;\n",
       "    }\n",
       "\n",
       "    .dataframe thead th {\n",
       "        text-align: right;\n",
       "    }\n",
       "</style>\n",
       "<table border=\"1\" class=\"dataframe\">\n",
       "  <thead>\n",
       "    <tr style=\"text-align: right;\">\n",
       "      <th></th>\n",
       "      <th>Price</th>\n",
       "      <th>Brand</th>\n",
       "      <th>Model</th>\n",
       "      <th>Kilometers_driven</th>\n",
       "      <th>Year</th>\n",
       "      <th>Fuel</th>\n",
       "      <th>Transmission</th>\n",
       "      <th>Variant</th>\n",
       "      <th>No_owners</th>\n",
       "      <th>Location</th>\n",
       "    </tr>\n",
       "  </thead>\n",
       "  <tbody>\n",
       "    <tr>\n",
       "      <th>0</th>\n",
       "      <td>₹3,00,000</td>\n",
       "      <td>Skoda</td>\n",
       "      <td>Ambiente</td>\n",
       "      <td>90,000 KMS</td>\n",
       "      <td>2011</td>\n",
       "      <td>DIESEL</td>\n",
       "      <td>Na</td>\n",
       "      <td>White</td>\n",
       "      <td>Na</td>\n",
       "      <td>Shimla</td>\n",
       "    </tr>\n",
       "    <tr>\n",
       "      <th>1</th>\n",
       "      <td>₹10,30,000</td>\n",
       "      <td>Hyundai</td>\n",
       "      <td>1.6 VTVT SX O</td>\n",
       "      <td>20,000 KMS</td>\n",
       "      <td>2018</td>\n",
       "      <td>PETROL</td>\n",
       "      <td>Na</td>\n",
       "      <td>Dec 06 2021</td>\n",
       "      <td>Na</td>\n",
       "      <td>Shimla</td>\n",
       "    </tr>\n",
       "    <tr>\n",
       "      <th>2</th>\n",
       "      <td>₹16,00,000</td>\n",
       "      <td>Toyota</td>\n",
       "      <td>Innova Crysta</td>\n",
       "      <td>50,000 KMS</td>\n",
       "      <td>Used</td>\n",
       "      <td>DIESEL</td>\n",
       "      <td>Na</td>\n",
       "      <td>Na</td>\n",
       "      <td>Na</td>\n",
       "      <td>Shimla</td>\n",
       "    </tr>\n",
       "    <tr>\n",
       "      <th>3</th>\n",
       "      <td>₹6,80,000</td>\n",
       "      <td>Honda</td>\n",
       "      <td>WR V</td>\n",
       "      <td>45,000 KMS</td>\n",
       "      <td>Used</td>\n",
       "      <td>PETROL</td>\n",
       "      <td>Na</td>\n",
       "      <td>Na</td>\n",
       "      <td>Na</td>\n",
       "      <td>Shimla</td>\n",
       "    </tr>\n",
       "    <tr>\n",
       "      <th>4</th>\n",
       "      <td>₹1,20,000</td>\n",
       "      <td>Chevrolet</td>\n",
       "      <td>1</td>\n",
       "      <td>1,30,000 KMS</td>\n",
       "      <td>2009</td>\n",
       "      <td>PETROL</td>\n",
       "      <td>Na</td>\n",
       "      <td>Manual</td>\n",
       "      <td>Na</td>\n",
       "      <td>Shimla</td>\n",
       "    </tr>\n",
       "  </tbody>\n",
       "</table>\n",
       "</div>"
      ],
      "text/plain": [
       "        Price      Brand          Model Kilometers_driven  Year    Fuel  \\\n",
       "0   ₹3,00,000      Skoda       Ambiente        90,000 KMS  2011  DIESEL   \n",
       "1  ₹10,30,000    Hyundai  1.6 VTVT SX O        20,000 KMS  2018  PETROL   \n",
       "2  ₹16,00,000     Toyota  Innova Crysta        50,000 KMS  Used  DIESEL   \n",
       "3   ₹6,80,000      Honda           WR V        45,000 KMS  Used  PETROL   \n",
       "4   ₹1,20,000  Chevrolet              1      1,30,000 KMS  2009  PETROL   \n",
       "\n",
       "  Transmission      Variant No_owners Location  \n",
       "0           Na        White        Na   Shimla  \n",
       "1           Na  Dec 06 2021        Na   Shimla  \n",
       "2           Na           Na        Na   Shimla  \n",
       "3           Na           Na        Na   Shimla  \n",
       "4           Na       Manual        Na   Shimla  "
      ]
     },
     "execution_count": 147,
     "metadata": {},
     "output_type": "execute_result"
    }
   ],
   "source": [
    "quikr16.head()"
   ]
  },
  {
   "cell_type": "code",
   "execution_count": 148,
   "metadata": {},
   "outputs": [],
   "source": [
    "driver.close()"
   ]
  },
  {
   "cell_type": "code",
   "execution_count": 149,
   "metadata": {},
   "outputs": [],
   "source": [
    "#Noida"
   ]
  },
  {
   "cell_type": "code",
   "execution_count": 150,
   "metadata": {},
   "outputs": [],
   "source": [
    "driver=webdriver.Firefox(\"C:\\geckodriver-v0.29.1-win64\")"
   ]
  },
  {
   "cell_type": "code",
   "execution_count": 151,
   "metadata": {},
   "outputs": [],
   "source": [
    "driver.get(\"https://www.quikr.com/\")"
   ]
  },
  {
   "cell_type": "code",
   "execution_count": 152,
   "metadata": {},
   "outputs": [],
   "source": [
    "locatio=driver.find_element_by_xpath(\"//i[@class='icon-arrow']\")\n",
    "locatio.click()"
   ]
  },
  {
   "cell_type": "code",
   "execution_count": 153,
   "metadata": {},
   "outputs": [],
   "source": [
    "city=driver.find_element_by_xpath(\"//div[@class='drop-layers']/div/div/input\")\n",
    "city.send_keys(\"Noida\")"
   ]
  },
  {
   "cell_type": "code",
   "execution_count": 154,
   "metadata": {},
   "outputs": [],
   "source": [
    "driver.find_element_by_id(\"hSuggCityList\").click()"
   ]
  },
  {
   "cell_type": "code",
   "execution_count": 155,
   "metadata": {},
   "outputs": [],
   "source": [
    "cars=driver.find_element_by_xpath(\"//ul[@id='fixed-category']/li[6]\")\n",
    "cars.click()"
   ]
  },
  {
   "cell_type": "code",
   "execution_count": 156,
   "metadata": {},
   "outputs": [],
   "source": [
    "search=driver.find_element_by_xpath(\"//button[@class='mdc-button mdc-ripple-upgraded mdc-ripple-upgraded--unbounded mdc-button--primary mdc-button--unelevated mdc-ripple-upgraded--foreground-deactivation mdc-button__width-full']\")\n",
    "search.click()"
   ]
  },
  {
   "cell_type": "code",
   "execution_count": 157,
   "metadata": {},
   "outputs": [],
   "source": [
    "driver.execute_script(\"window.scrollTo(0, document.body.scrollHeight);\") #this code will scroll the web page till bottom"
   ]
  },
  {
   "cell_type": "code",
   "execution_count": 158,
   "metadata": {},
   "outputs": [
    {
     "data": {
      "text/plain": [
       "150"
      ]
     },
     "execution_count": 158,
     "metadata": {},
     "output_type": "execute_result"
    }
   ],
   "source": [
    "urls=[]\n",
    "for i in driver.find_elements_by_xpath(\"//div[@class='mdc-layout-grid__cell mdc-layout-grid__cell--span-4-desktop mdc-layout-grid__cell mdc-layout-grid__cell--span-12-phone']/a\")[0:150]:\n",
    "    urls.append(i.get_attribute('href'))\n",
    "time.sleep(4)\n",
    "len(urls)"
   ]
  },
  {
   "cell_type": "code",
   "execution_count": 159,
   "metadata": {},
   "outputs": [],
   "source": [
    "#Scrapping data of each cars:\n",
    "Price=[]\n",
    "Brand=[]\n",
    "Model=[]\n",
    "Kilometers_driven=[]\n",
    "Year=[]\n",
    "Fuel=[]\n",
    "Transmission=[]\n",
    "Variant=[]\n",
    "No_owners=[]"
   ]
  },
  {
   "cell_type": "code",
   "execution_count": 160,
   "metadata": {},
   "outputs": [
    {
     "data": {
      "text/plain": [
       "150"
      ]
     },
     "execution_count": 160,
     "metadata": {},
     "output_type": "execute_result"
    }
   ],
   "source": [
    "for i in driver.find_elements_by_xpath(\"//div[@class='price']\")[0:150]:\n",
    "    Price.append(i.text) \n",
    "len(Price)"
   ]
  },
  {
   "cell_type": "code",
   "execution_count": 161,
   "metadata": {},
   "outputs": [],
   "source": [
    "for i in urls:\n",
    "    driver.get(i)\n",
    "    time.sleep(5)\n",
    "    \n",
    "    try:\n",
    "        driver.find_element_by_xpath(\"//span[@class='sc-1sbb775-3 eaiAQu ttC cP dF w100 jcC']\").click()\n",
    "    except NoSuchElementException:\n",
    "        pass\n",
    "\n",
    "    try:\n",
    "        second=driver.find_element_by_xpath(\"//ul[@class='sc-1sbb775-0 fkgsye dF fwW jcSB']/li[3]/span\")\n",
    "        Brand.append(second.text)\n",
    "    except NoSuchElementException:\n",
    "        Brand.append(\"Na\")\n",
    "        \n",
    "    try:\n",
    "        third=driver.find_element_by_xpath(\"//ul[@class='sc-1sbb775-0 fkgsye dF fwW jcSB']/li[8]/span\")\n",
    "        Model.append(third.text)\n",
    "    except NoSuchElementException:\n",
    "        Model.append(\"Na\")\n",
    "        \n",
    "    try:\n",
    "        fourt=driver.find_element_by_xpath(\"//ul[@class='sc-1sbb775-0 fkgsye dF fwW jcSB']/li[9]/span\")\n",
    "        Variant.append(fourt.text)\n",
    "    except NoSuchElementException:\n",
    "        Variant.append(\"Na\")\n",
    "        \n",
    "    try:\n",
    "        fifth=driver.find_element_by_xpath(\"//ul[@class='sc-1sbb775-0 fkgsye dF fwW jcSB']/li[4]/span\")\n",
    "        Year.append(fifth.text)\n",
    "    except NoSuchElementException:\n",
    "        Year.append(\"Na\")\n",
    "        \n",
    "            \n",
    "    try:\n",
    "        Sixth=driver.find_element_by_xpath(\"//ul[@class='rnzqd6-0 kKtfpp jcSB pR']/li[1]\")\n",
    "        Fuel.append(Sixth.text)\n",
    "    except NoSuchElementException:\n",
    "        Fuel.append(\"Na\")\n",
    "        \n",
    "    try:\n",
    "        Seventh=driver.find_element_by_xpath(\"//ul[@class='sc-1sbb775-0 fkgsye dF fwW jcSB']/li[11]/span\")\n",
    "        Transmission.append(Seventh.text)\n",
    "    except NoSuchElementException:\n",
    "        Transmission.append(\"Na\")\n",
    "        \n",
    "    try:\n",
    "        Eighth=driver.find_element_by_xpath(\"//ul[@class='rnzqd6-0 kKtfpp jcSB pR']/li[2]\")\n",
    "        Kilometers_driven.append(Eighth.text)\n",
    "    except NoSuchElementException:\n",
    "        Kilometers_driven.append(\"Na\")\n",
    "        \n",
    "    try:\n",
    "        Ninth=driver.find_element_by_xpath(\"//ul[@class='rnzqd6-0 kKtfpp jcSB pR']/li[3]\")\n",
    "        No_owners.append(Ninth.text)\n",
    "    except NoSuchElementException:\n",
    "        No_owners.append(\"Na\") "
   ]
  },
  {
   "cell_type": "code",
   "execution_count": 162,
   "metadata": {},
   "outputs": [],
   "source": [
    "quikr17=pd.DataFrame({})\n",
    "quikr17['Price']=Price\n",
    "quikr17['Brand']=Brand\n",
    "quikr17['Model']=Model\n",
    "quikr17['Kilometers_driven']=Kilometers_driven\n",
    "quikr17['Year']=Year\n",
    "quikr17['Fuel']=Fuel\n",
    "quikr17['Transmission']=Transmission\n",
    "quikr17['Variant']=Variant\n",
    "quikr17['No_owners']=No_owners\n",
    "quikr17['Location']='Noida'\n",
    "                "
   ]
  },
  {
   "cell_type": "code",
   "execution_count": 163,
   "metadata": {},
   "outputs": [
    {
     "data": {
      "text/html": [
       "<div>\n",
       "<style scoped>\n",
       "    .dataframe tbody tr th:only-of-type {\n",
       "        vertical-align: middle;\n",
       "    }\n",
       "\n",
       "    .dataframe tbody tr th {\n",
       "        vertical-align: top;\n",
       "    }\n",
       "\n",
       "    .dataframe thead th {\n",
       "        text-align: right;\n",
       "    }\n",
       "</style>\n",
       "<table border=\"1\" class=\"dataframe\">\n",
       "  <thead>\n",
       "    <tr style=\"text-align: right;\">\n",
       "      <th></th>\n",
       "      <th>Price</th>\n",
       "      <th>Brand</th>\n",
       "      <th>Model</th>\n",
       "      <th>Kilometers_driven</th>\n",
       "      <th>Year</th>\n",
       "      <th>Fuel</th>\n",
       "      <th>Transmission</th>\n",
       "      <th>Variant</th>\n",
       "      <th>No_owners</th>\n",
       "      <th>Location</th>\n",
       "    </tr>\n",
       "  </thead>\n",
       "  <tbody>\n",
       "    <tr>\n",
       "      <th>0</th>\n",
       "      <td>₹2,45,000</td>\n",
       "      <td>Volkswagen</td>\n",
       "      <td>Trendline 1.2L P</td>\n",
       "      <td>75,000 KMS</td>\n",
       "      <td>2011</td>\n",
       "      <td>PETROL</td>\n",
       "      <td>Na</td>\n",
       "      <td>Mar 31 2022</td>\n",
       "      <td>Na</td>\n",
       "      <td>Noida</td>\n",
       "    </tr>\n",
       "    <tr>\n",
       "      <th>1</th>\n",
       "      <td>₹7,51,000</td>\n",
       "      <td>Audi</td>\n",
       "      <td>2.0 TDI 177bhp Premium</td>\n",
       "      <td>1,20,000 KMS</td>\n",
       "      <td>2011</td>\n",
       "      <td>DIESEL</td>\n",
       "      <td>Na</td>\n",
       "      <td>Black</td>\n",
       "      <td>Na</td>\n",
       "      <td>Noida</td>\n",
       "    </tr>\n",
       "    <tr>\n",
       "      <th>2</th>\n",
       "      <td>₹7,50,000</td>\n",
       "      <td>Audi</td>\n",
       "      <td>2.0 TDI 177bhp Premium Plus</td>\n",
       "      <td>1,20,000 KMS</td>\n",
       "      <td>2011</td>\n",
       "      <td>DIESEL</td>\n",
       "      <td>Na</td>\n",
       "      <td>Black</td>\n",
       "      <td>Na</td>\n",
       "      <td>Noida</td>\n",
       "    </tr>\n",
       "    <tr>\n",
       "      <th>3</th>\n",
       "      <td>₹2,90,000</td>\n",
       "      <td>Maruti Suzuki</td>\n",
       "      <td>VDi</td>\n",
       "      <td>72,000 KMS</td>\n",
       "      <td>2012</td>\n",
       "      <td>DIESEL</td>\n",
       "      <td>Na</td>\n",
       "      <td>Aug 11 2021</td>\n",
       "      <td>Na</td>\n",
       "      <td>Noida</td>\n",
       "    </tr>\n",
       "    <tr>\n",
       "      <th>4</th>\n",
       "      <td>₹7,75,000</td>\n",
       "      <td>Maruti Suzuki</td>\n",
       "      <td>Delta AT 1.2</td>\n",
       "      <td>5,500 KMS</td>\n",
       "      <td>2020</td>\n",
       "      <td>PETROL</td>\n",
       "      <td>Na</td>\n",
       "      <td>White</td>\n",
       "      <td>Na</td>\n",
       "      <td>Noida</td>\n",
       "    </tr>\n",
       "  </tbody>\n",
       "</table>\n",
       "</div>"
      ],
      "text/plain": [
       "       Price          Brand                        Model Kilometers_driven  \\\n",
       "0  ₹2,45,000     Volkswagen             Trendline 1.2L P        75,000 KMS   \n",
       "1  ₹7,51,000           Audi       2.0 TDI 177bhp Premium      1,20,000 KMS   \n",
       "2  ₹7,50,000           Audi  2.0 TDI 177bhp Premium Plus      1,20,000 KMS   \n",
       "3  ₹2,90,000  Maruti Suzuki                          VDi        72,000 KMS   \n",
       "4  ₹7,75,000  Maruti Suzuki                 Delta AT 1.2         5,500 KMS   \n",
       "\n",
       "   Year    Fuel Transmission      Variant No_owners Location  \n",
       "0  2011  PETROL           Na  Mar 31 2022        Na    Noida  \n",
       "1  2011  DIESEL           Na        Black        Na    Noida  \n",
       "2  2011  DIESEL           Na        Black        Na    Noida  \n",
       "3  2012  DIESEL           Na  Aug 11 2021        Na    Noida  \n",
       "4  2020  PETROL           Na        White        Na    Noida  "
      ]
     },
     "execution_count": 163,
     "metadata": {},
     "output_type": "execute_result"
    }
   ],
   "source": [
    "quikr17.head()"
   ]
  },
  {
   "cell_type": "code",
   "execution_count": 248,
   "metadata": {},
   "outputs": [],
   "source": [
    "driver.close()"
   ]
  },
  {
   "cell_type": "code",
   "execution_count": 249,
   "metadata": {},
   "outputs": [],
   "source": [
    "#Panaji"
   ]
  },
  {
   "cell_type": "code",
   "execution_count": 250,
   "metadata": {},
   "outputs": [],
   "source": [
    "driver=webdriver.Firefox(\"C:\\geckodriver-v0.29.1-win64\")"
   ]
  },
  {
   "cell_type": "code",
   "execution_count": 251,
   "metadata": {},
   "outputs": [],
   "source": [
    "driver.get(\"https://www.quikr.com/\")"
   ]
  },
  {
   "cell_type": "code",
   "execution_count": 252,
   "metadata": {},
   "outputs": [],
   "source": [
    "locatio=driver.find_element_by_xpath(\"//i[@class='icon-arrow']\")\n",
    "locatio.click()"
   ]
  },
  {
   "cell_type": "code",
   "execution_count": 253,
   "metadata": {},
   "outputs": [],
   "source": [
    "city=driver.find_element_by_xpath(\"//div[@class='drop-layers']/div/div/input\")\n",
    "city.send_keys(\"Goa\")"
   ]
  },
  {
   "cell_type": "code",
   "execution_count": 254,
   "metadata": {},
   "outputs": [],
   "source": [
    "driver.find_element_by_id(\"hSuggCityList\").click()"
   ]
  },
  {
   "cell_type": "code",
   "execution_count": 255,
   "metadata": {},
   "outputs": [],
   "source": [
    "cars=driver.find_element_by_xpath(\"//ul[@id='fixed-category']/li[6]\")\n",
    "cars.click()"
   ]
  },
  {
   "cell_type": "code",
   "execution_count": 256,
   "metadata": {},
   "outputs": [],
   "source": [
    "search=driver.find_element_by_xpath(\"//button[@class='mdc-button mdc-ripple-upgraded mdc-ripple-upgraded--unbounded mdc-button--primary mdc-button--unelevated mdc-ripple-upgraded--foreground-deactivation mdc-button__width-full']\")\n",
    "search.click()"
   ]
  },
  {
   "cell_type": "code",
   "execution_count": 257,
   "metadata": {},
   "outputs": [],
   "source": [
    "driver.execute_script(\"window.scrollTo(0, document.body.scrollHeight);\") #this code will scroll the web page till bottom"
   ]
  },
  {
   "cell_type": "code",
   "execution_count": 258,
   "metadata": {},
   "outputs": [
    {
     "data": {
      "text/plain": [
       "48"
      ]
     },
     "execution_count": 258,
     "metadata": {},
     "output_type": "execute_result"
    }
   ],
   "source": [
    "urls=[]\n",
    "for i in driver.find_elements_by_xpath(\"//div[@class='mdc-layout-grid__cell mdc-layout-grid__cell--span-4-desktop mdc-layout-grid__cell mdc-layout-grid__cell--span-12-phone']/a\"):\n",
    "    urls.append(i.get_attribute('href'))\n",
    "time.sleep(4)\n",
    "len(urls)"
   ]
  },
  {
   "cell_type": "code",
   "execution_count": 259,
   "metadata": {},
   "outputs": [],
   "source": [
    "#Scrapping data of each cars:\n",
    "Price=[]\n",
    "Brand=[]\n",
    "Model=[]\n",
    "Kilometers_driven=[]\n",
    "Year=[]\n",
    "Fuel=[]\n",
    "Transmission=[]\n",
    "Variant=[]\n",
    "No_owners=[]"
   ]
  },
  {
   "cell_type": "code",
   "execution_count": 260,
   "metadata": {},
   "outputs": [
    {
     "data": {
      "text/plain": [
       "48"
      ]
     },
     "execution_count": 260,
     "metadata": {},
     "output_type": "execute_result"
    }
   ],
   "source": [
    "for i in driver.find_elements_by_xpath(\"//div[@class='price']\"):\n",
    "    Price.append(i.text) \n",
    "len(Price)"
   ]
  },
  {
   "cell_type": "code",
   "execution_count": 261,
   "metadata": {},
   "outputs": [],
   "source": [
    "for i in urls:\n",
    "    driver.get(i)\n",
    "    time.sleep(5)\n",
    "    \n",
    "    try:\n",
    "        driver.find_element_by_xpath(\"//span[@class='sc-1sbb775-3 eaiAQu ttC cP dF w100 jcC']\").click()\n",
    "    except NoSuchElementException:\n",
    "        pass\n",
    "\n",
    "    try:\n",
    "        second=driver.find_element_by_xpath(\"//ul[@class='sc-1sbb775-0 fkgsye dF fwW jcSB']/li[3]/span\")\n",
    "        Brand.append(second.text)\n",
    "    except NoSuchElementException:\n",
    "        Brand.append(\"Na\")\n",
    "        \n",
    "    try:\n",
    "        third=driver.find_element_by_xpath(\"//ul[@class='sc-1sbb775-0 fkgsye dF fwW jcSB']/li[8]/span\")\n",
    "        Model.append(third.text)\n",
    "    except NoSuchElementException:\n",
    "        Model.append(\"Na\")\n",
    "        \n",
    "    try:\n",
    "        fourt=driver.find_element_by_xpath(\"//ul[@class='sc-1sbb775-0 fkgsye dF fwW jcSB']/li[9]/span\")\n",
    "        Variant.append(fourt.text)\n",
    "    except NoSuchElementException:\n",
    "        Variant.append(\"Na\")\n",
    "        \n",
    "    try:\n",
    "        fifth=driver.find_element_by_xpath(\"//ul[@class='sc-1sbb775-0 fkgsye dF fwW jcSB']/li[4]/span\")\n",
    "        Year.append(fifth.text)\n",
    "    except NoSuchElementException:\n",
    "        Year.append(\"Na\")\n",
    "        \n",
    "            \n",
    "    try:\n",
    "        Sixth=driver.find_element_by_xpath(\"//ul[@class='rnzqd6-0 kKtfpp jcSB pR']/li[1]\")\n",
    "        Fuel.append(Sixth.text)\n",
    "    except NoSuchElementException:\n",
    "        Fuel.append(\"Na\")\n",
    "        \n",
    "    try:\n",
    "        Seventh=driver.find_element_by_xpath(\"//ul[@class='sc-1sbb775-0 fkgsye dF fwW jcSB']/li[11]/span\")\n",
    "        Transmission.append(Seventh.text)\n",
    "    except NoSuchElementException:\n",
    "        Transmission.append(\"Na\")\n",
    "        \n",
    "    try:\n",
    "        Eighth=driver.find_element_by_xpath(\"//ul[@class='rnzqd6-0 kKtfpp jcSB pR']/li[2]\")\n",
    "        Kilometers_driven.append(Eighth.text)\n",
    "    except NoSuchElementException:\n",
    "        Kilometers_driven.append(\"Na\")\n",
    "        \n",
    "    try:\n",
    "        Ninth=driver.find_element_by_xpath(\"//ul[@class='rnzqd6-0 kKtfpp jcSB pR']/li[3]\")\n",
    "        No_owners.append(Ninth.text)\n",
    "    except NoSuchElementException:\n",
    "        No_owners.append(\"Na\")  "
   ]
  },
  {
   "cell_type": "code",
   "execution_count": 262,
   "metadata": {},
   "outputs": [],
   "source": [
    "quikr18=pd.DataFrame({})\n",
    "quikr18['Price']=Price\n",
    "quikr18['Brand']=Brand\n",
    "quikr18['Model']=Model\n",
    "quikr18['Kilometers_driven']=Kilometers_driven\n",
    "quikr18['Year']=Year\n",
    "quikr18['Fuel']=Fuel\n",
    "quikr18['Transmission']=Transmission\n",
    "quikr18['Variant']=Variant\n",
    "quikr18['No_owners']=No_owners\n",
    "quikr18['Location']='Panaji' "
   ]
  },
  {
   "cell_type": "code",
   "execution_count": 263,
   "metadata": {},
   "outputs": [
    {
     "data": {
      "text/html": [
       "<div>\n",
       "<style scoped>\n",
       "    .dataframe tbody tr th:only-of-type {\n",
       "        vertical-align: middle;\n",
       "    }\n",
       "\n",
       "    .dataframe tbody tr th {\n",
       "        vertical-align: top;\n",
       "    }\n",
       "\n",
       "    .dataframe thead th {\n",
       "        text-align: right;\n",
       "    }\n",
       "</style>\n",
       "<table border=\"1\" class=\"dataframe\">\n",
       "  <thead>\n",
       "    <tr style=\"text-align: right;\">\n",
       "      <th></th>\n",
       "      <th>Price</th>\n",
       "      <th>Brand</th>\n",
       "      <th>Model</th>\n",
       "      <th>Kilometers_driven</th>\n",
       "      <th>Year</th>\n",
       "      <th>Fuel</th>\n",
       "      <th>Transmission</th>\n",
       "      <th>Variant</th>\n",
       "      <th>No_owners</th>\n",
       "      <th>Location</th>\n",
       "    </tr>\n",
       "  </thead>\n",
       "  <tbody>\n",
       "    <tr>\n",
       "      <th>0</th>\n",
       "      <td>₹28,50,000</td>\n",
       "      <td>Audi</td>\n",
       "      <td>30 TFSI Technology Pack</td>\n",
       "      <td>65,646 KMS</td>\n",
       "      <td>2018</td>\n",
       "      <td>PETROL</td>\n",
       "      <td>Na</td>\n",
       "      <td>Blue</td>\n",
       "      <td>Na</td>\n",
       "      <td>Panaji</td>\n",
       "    </tr>\n",
       "    <tr>\n",
       "      <th>1</th>\n",
       "      <td>₹4,35,000</td>\n",
       "      <td>Mahindra</td>\n",
       "      <td>Diesel</td>\n",
       "      <td>217 KMS</td>\n",
       "      <td>2020</td>\n",
       "      <td>DIESEL</td>\n",
       "      <td>Na</td>\n",
       "      <td>Na</td>\n",
       "      <td>Na</td>\n",
       "      <td>Panaji</td>\n",
       "    </tr>\n",
       "    <tr>\n",
       "      <th>2</th>\n",
       "      <td>₹2,90,000</td>\n",
       "      <td>Ford</td>\n",
       "      <td>Trend 1.5 TDCi</td>\n",
       "      <td>1,08,000 KMS</td>\n",
       "      <td>2015</td>\n",
       "      <td>DIESEL</td>\n",
       "      <td>Na</td>\n",
       "      <td>White</td>\n",
       "      <td>Na</td>\n",
       "      <td>Panaji</td>\n",
       "    </tr>\n",
       "    <tr>\n",
       "      <th>3</th>\n",
       "      <td>₹1,50,000</td>\n",
       "      <td>Tata</td>\n",
       "      <td>Twist XT</td>\n",
       "      <td>30,000 KMS</td>\n",
       "      <td>2015</td>\n",
       "      <td>PETROL</td>\n",
       "      <td>Manual</td>\n",
       "      <td>White</td>\n",
       "      <td>Na</td>\n",
       "      <td>Panaji</td>\n",
       "    </tr>\n",
       "    <tr>\n",
       "      <th>4</th>\n",
       "      <td>₹3,50,000</td>\n",
       "      <td>Volkswagen</td>\n",
       "      <td>Comfortline 1.2L D</td>\n",
       "      <td>1,28,800 KMS</td>\n",
       "      <td>2011</td>\n",
       "      <td>DIESEL</td>\n",
       "      <td>Na</td>\n",
       "      <td>Na</td>\n",
       "      <td>Na</td>\n",
       "      <td>Panaji</td>\n",
       "    </tr>\n",
       "  </tbody>\n",
       "</table>\n",
       "</div>"
      ],
      "text/plain": [
       "        Price       Brand                    Model Kilometers_driven  Year  \\\n",
       "0  ₹28,50,000        Audi  30 TFSI Technology Pack        65,646 KMS  2018   \n",
       "1   ₹4,35,000    Mahindra                   Diesel           217 KMS  2020   \n",
       "2   ₹2,90,000        Ford           Trend 1.5 TDCi      1,08,000 KMS  2015   \n",
       "3   ₹1,50,000        Tata                 Twist XT        30,000 KMS  2015   \n",
       "4   ₹3,50,000  Volkswagen       Comfortline 1.2L D      1,28,800 KMS  2011   \n",
       "\n",
       "     Fuel Transmission Variant No_owners Location  \n",
       "0  PETROL           Na    Blue        Na   Panaji  \n",
       "1  DIESEL           Na      Na        Na   Panaji  \n",
       "2  DIESEL           Na   White        Na   Panaji  \n",
       "3  PETROL       Manual   White        Na   Panaji  \n",
       "4  DIESEL           Na      Na        Na   Panaji  "
      ]
     },
     "execution_count": 263,
     "metadata": {},
     "output_type": "execute_result"
    }
   ],
   "source": [
    "quikr18.head()"
   ]
  },
  {
   "cell_type": "code",
   "execution_count": 210,
   "metadata": {},
   "outputs": [],
   "source": [
    "driver.close()"
   ]
  },
  {
   "cell_type": "code",
   "execution_count": 211,
   "metadata": {},
   "outputs": [],
   "source": [
    "#Indore"
   ]
  },
  {
   "cell_type": "code",
   "execution_count": 212,
   "metadata": {},
   "outputs": [],
   "source": [
    "driver=webdriver.Firefox(\"C:\\geckodriver-v0.29.1-win64\")"
   ]
  },
  {
   "cell_type": "code",
   "execution_count": 213,
   "metadata": {},
   "outputs": [],
   "source": [
    "driver.get(\"https://www.quikr.com/\")"
   ]
  },
  {
   "cell_type": "code",
   "execution_count": 214,
   "metadata": {},
   "outputs": [],
   "source": [
    "locatio=driver.find_element_by_xpath(\"//i[@class='icon-arrow']\")\n",
    "locatio.click()"
   ]
  },
  {
   "cell_type": "code",
   "execution_count": 215,
   "metadata": {},
   "outputs": [],
   "source": [
    "city=driver.find_element_by_xpath(\"//div[@class='drop-layers']/div/div/input\")\n",
    "city.send_keys(\"Indore\")"
   ]
  },
  {
   "cell_type": "code",
   "execution_count": 216,
   "metadata": {},
   "outputs": [],
   "source": [
    "driver.find_element_by_id(\"hSuggCityList\").click()"
   ]
  },
  {
   "cell_type": "code",
   "execution_count": 217,
   "metadata": {},
   "outputs": [],
   "source": [
    "cars=driver.find_element_by_xpath(\"//ul[@id='fixed-category']/li[6]\")\n",
    "cars.click()"
   ]
  },
  {
   "cell_type": "code",
   "execution_count": 218,
   "metadata": {},
   "outputs": [],
   "source": [
    "search=driver.find_element_by_xpath(\"//button[@class='mdc-button mdc-ripple-upgraded mdc-ripple-upgraded--unbounded mdc-button--primary mdc-button--unelevated mdc-ripple-upgraded--foreground-deactivation mdc-button__width-full']\")\n",
    "search.click()"
   ]
  },
  {
   "cell_type": "code",
   "execution_count": 219,
   "metadata": {},
   "outputs": [],
   "source": [
    "driver.execute_script(\"window.scrollTo(0, document.body.scrollHeight);\") #this code will scroll the web page till bottom"
   ]
  },
  {
   "cell_type": "code",
   "execution_count": 220,
   "metadata": {},
   "outputs": [
    {
     "data": {
      "text/plain": [
       "80"
      ]
     },
     "execution_count": 220,
     "metadata": {},
     "output_type": "execute_result"
    }
   ],
   "source": [
    "urls=[]\n",
    "for i in driver.find_elements_by_xpath(\"//div[@class='mdc-layout-grid__cell mdc-layout-grid__cell--span-4-desktop mdc-layout-grid__cell mdc-layout-grid__cell--span-12-phone']/a\"):\n",
    "    urls.append(i.get_attribute('href'))\n",
    "time.sleep(4)\n",
    "len(urls)"
   ]
  },
  {
   "cell_type": "code",
   "execution_count": 221,
   "metadata": {},
   "outputs": [],
   "source": [
    "#Scrapping data of each cars:\n",
    "Price=[]\n",
    "Brand=[]\n",
    "Model=[]\n",
    "Kilometers_driven=[]\n",
    "Year=[]\n",
    "Fuel=[]\n",
    "Transmission=[]\n",
    "Variant=[]\n",
    "No_owners=[]"
   ]
  },
  {
   "cell_type": "code",
   "execution_count": 222,
   "metadata": {},
   "outputs": [
    {
     "data": {
      "text/plain": [
       "80"
      ]
     },
     "execution_count": 222,
     "metadata": {},
     "output_type": "execute_result"
    }
   ],
   "source": [
    "for i in driver.find_elements_by_xpath(\"//div[@class='price']\")[0:100]:\n",
    "    Price.append(i.text) \n",
    "len(Price)"
   ]
  },
  {
   "cell_type": "code",
   "execution_count": 223,
   "metadata": {},
   "outputs": [],
   "source": [
    "for i in urls:\n",
    "    driver.get(i)\n",
    "    time.sleep(5)\n",
    "    \n",
    "    try:\n",
    "        driver.find_element_by_xpath(\"//span[@class='sc-1sbb775-3 eaiAQu ttC cP dF w100 jcC']\").click()\n",
    "    except NoSuchElementException:\n",
    "        pass\n",
    "\n",
    "    try:\n",
    "        second=driver.find_element_by_xpath(\"//ul[@class='sc-1sbb775-0 fkgsye dF fwW jcSB']/li[3]/span\")\n",
    "        Brand.append(second.text)\n",
    "    except NoSuchElementException:\n",
    "        Brand.append(\"Na\")\n",
    "        \n",
    "    try:\n",
    "        third=driver.find_element_by_xpath(\"//ul[@class='sc-1sbb775-0 fkgsye dF fwW jcSB']/li[8]/span\")\n",
    "        Model.append(third.text)\n",
    "    except NoSuchElementException:\n",
    "        Model.append(\"Na\")\n",
    "        \n",
    "    try:\n",
    "        fourt=driver.find_element_by_xpath(\"//ul[@class='sc-1sbb775-0 fkgsye dF fwW jcSB']/li[9]/span\")\n",
    "        Variant.append(fourt.text)\n",
    "    except NoSuchElementException:\n",
    "        Variant.append(\"Na\")\n",
    "        \n",
    "    try:\n",
    "        fifth=driver.find_element_by_xpath(\"//ul[@class='sc-1sbb775-0 fkgsye dF fwW jcSB']/li[4]/span\")\n",
    "        Year.append(fifth.text)\n",
    "    except NoSuchElementException:\n",
    "        Year.append(\"Na\")\n",
    "        \n",
    "            \n",
    "    try:\n",
    "        Sixth=driver.find_element_by_xpath(\"//ul[@class='rnzqd6-0 kKtfpp jcSB pR']/li[1]\")\n",
    "        Fuel.append(Sixth.text)\n",
    "    except NoSuchElementException:\n",
    "        Fuel.append(\"Na\")\n",
    "        \n",
    "    try:\n",
    "        Seventh=driver.find_element_by_xpath(\"//ul[@class='sc-1sbb775-0 fkgsye dF fwW jcSB']/li[11]/span\")\n",
    "        Transmission.append(Seventh.text)\n",
    "    except NoSuchElementException:\n",
    "        Transmission.append(\"Na\")\n",
    "        \n",
    "    try:\n",
    "        Eighth=driver.find_element_by_xpath(\"//ul[@class='rnzqd6-0 kKtfpp jcSB pR']/li[2]\")\n",
    "        Kilometers_driven.append(Eighth.text)\n",
    "    except NoSuchElementException:\n",
    "        Kilometers_driven.append(\"Na\")\n",
    "        \n",
    "    try:\n",
    "        Ninth=driver.find_element_by_xpath(\"//ul[@class='rnzqd6-0 kKtfpp jcSB pR']/li[3]\")\n",
    "        No_owners.append(Ninth.text)\n",
    "    except NoSuchElementException:\n",
    "        No_owners.append(\"Na\") "
   ]
  },
  {
   "cell_type": "code",
   "execution_count": 224,
   "metadata": {},
   "outputs": [],
   "source": [
    "quikr19=pd.DataFrame({})\n",
    "quikr19['Price']=Price\n",
    "quikr19['Brand']=Brand\n",
    "quikr19['Model']=Model\n",
    "quikr19['Kilometers_driven']=Kilometers_driven\n",
    "quikr19['Year']=Year\n",
    "quikr19['Fuel']=Fuel\n",
    "quikr19['Transmission']=Transmission\n",
    "quikr19['Variant']=Variant\n",
    "quikr19['No_owners']=No_owners\n",
    "quikr19['Location']='Indore' "
   ]
  },
  {
   "cell_type": "code",
   "execution_count": 225,
   "metadata": {},
   "outputs": [
    {
     "data": {
      "text/html": [
       "<div>\n",
       "<style scoped>\n",
       "    .dataframe tbody tr th:only-of-type {\n",
       "        vertical-align: middle;\n",
       "    }\n",
       "\n",
       "    .dataframe tbody tr th {\n",
       "        vertical-align: top;\n",
       "    }\n",
       "\n",
       "    .dataframe thead th {\n",
       "        text-align: right;\n",
       "    }\n",
       "</style>\n",
       "<table border=\"1\" class=\"dataframe\">\n",
       "  <thead>\n",
       "    <tr style=\"text-align: right;\">\n",
       "      <th></th>\n",
       "      <th>Price</th>\n",
       "      <th>Brand</th>\n",
       "      <th>Model</th>\n",
       "      <th>Kilometers_driven</th>\n",
       "      <th>Year</th>\n",
       "      <th>Fuel</th>\n",
       "      <th>Transmission</th>\n",
       "      <th>Variant</th>\n",
       "      <th>No_owners</th>\n",
       "      <th>Location</th>\n",
       "    </tr>\n",
       "  </thead>\n",
       "  <tbody>\n",
       "    <tr>\n",
       "      <th>0</th>\n",
       "      <td>₹4,69,500</td>\n",
       "      <td>Mahindra</td>\n",
       "      <td>Diesel</td>\n",
       "      <td>29 KMS</td>\n",
       "      <td>2020</td>\n",
       "      <td>DIESEL</td>\n",
       "      <td>Na</td>\n",
       "      <td>Na</td>\n",
       "      <td>Na</td>\n",
       "      <td>Indore</td>\n",
       "    </tr>\n",
       "    <tr>\n",
       "      <th>1</th>\n",
       "      <td>₹4,67,000</td>\n",
       "      <td>Mahindra</td>\n",
       "      <td>Diesel</td>\n",
       "      <td>28 KMS</td>\n",
       "      <td>2020</td>\n",
       "      <td>DIESEL</td>\n",
       "      <td>Na</td>\n",
       "      <td>Na</td>\n",
       "      <td>Na</td>\n",
       "      <td>Indore</td>\n",
       "    </tr>\n",
       "    <tr>\n",
       "      <th>2</th>\n",
       "      <td>₹6,29,999</td>\n",
       "      <td>Mahindra</td>\n",
       "      <td>TUV300</td>\n",
       "      <td>52,888 KMS</td>\n",
       "      <td>Used</td>\n",
       "      <td>DIESEL</td>\n",
       "      <td>Na</td>\n",
       "      <td>Na</td>\n",
       "      <td>Na</td>\n",
       "      <td>Indore</td>\n",
       "    </tr>\n",
       "    <tr>\n",
       "      <th>3</th>\n",
       "      <td>₹7,70,000</td>\n",
       "      <td>Renault</td>\n",
       "      <td>Triber</td>\n",
       "      <td>2,600 KMS</td>\n",
       "      <td>Used</td>\n",
       "      <td>PETROL</td>\n",
       "      <td>Apr 25 2023</td>\n",
       "      <td>RXT</td>\n",
       "      <td>ONE OWNER</td>\n",
       "      <td>Indore</td>\n",
       "    </tr>\n",
       "    <tr>\n",
       "      <th>4</th>\n",
       "      <td>₹1,70,000</td>\n",
       "      <td>Hyundai</td>\n",
       "      <td>GLS</td>\n",
       "      <td>56,785 KMS</td>\n",
       "      <td>2008</td>\n",
       "      <td>PETROL</td>\n",
       "      <td>Na</td>\n",
       "      <td>White</td>\n",
       "      <td>Na</td>\n",
       "      <td>Indore</td>\n",
       "    </tr>\n",
       "  </tbody>\n",
       "</table>\n",
       "</div>"
      ],
      "text/plain": [
       "       Price     Brand   Model Kilometers_driven  Year    Fuel Transmission  \\\n",
       "0  ₹4,69,500  Mahindra  Diesel            29 KMS  2020  DIESEL           Na   \n",
       "1  ₹4,67,000  Mahindra  Diesel            28 KMS  2020  DIESEL           Na   \n",
       "2  ₹6,29,999  Mahindra  TUV300        52,888 KMS  Used  DIESEL           Na   \n",
       "3  ₹7,70,000   Renault  Triber         2,600 KMS  Used  PETROL  Apr 25 2023   \n",
       "4  ₹1,70,000   Hyundai     GLS        56,785 KMS  2008  PETROL           Na   \n",
       "\n",
       "  Variant  No_owners Location  \n",
       "0      Na         Na   Indore  \n",
       "1      Na         Na   Indore  \n",
       "2      Na         Na   Indore  \n",
       "3     RXT  ONE OWNER   Indore  \n",
       "4   White         Na   Indore  "
      ]
     },
     "execution_count": 225,
     "metadata": {},
     "output_type": "execute_result"
    }
   ],
   "source": [
    "quikr19.head()"
   ]
  },
  {
   "cell_type": "code",
   "execution_count": 264,
   "metadata": {},
   "outputs": [],
   "source": [
    "df2_quikr=pd.concat([quikr13,quikr14,quikr15,quikr16,quikr17,quikr18,quikr19])"
   ]
  },
  {
   "cell_type": "code",
   "execution_count": 265,
   "metadata": {},
   "outputs": [],
   "source": [
    "df2_quikr.to_csv(\"fourth_scrapped_quickr.cav\")"
   ]
  },
  {
   "cell_type": "code",
   "execution_count": null,
   "metadata": {},
   "outputs": [],
   "source": []
  },
  {
   "cell_type": "markdown",
   "metadata": {},
   "source": [
    "# Let's concatenate the whole scrapped data into one signle data frame and save it as a CSV file for future use."
   ]
  },
  {
   "cell_type": "code",
   "execution_count": 1,
   "metadata": {},
   "outputs": [],
   "source": [
    "import pandas as pd\n",
    "df1=pd.read_csv(\"First_scrap_data_olx.csv\")\n",
    "df2=pd.read_csv(\"Second_scrapped_olx_data.csv\")\n",
    "df3=pd.read_csv(\"Scrapped_data_quickr_first.csv\")\n",
    "df4=pd.read_csv(\"second_scrapped_data_quickr.cav\")\n",
    "df5=pd.read_csv(\"third_scrapped_quickr.csv\")\n",
    "df6=pd.read_csv(\"fourth_scrapped_quickr.cav\")"
   ]
  },
  {
   "cell_type": "code",
   "execution_count": 11,
   "metadata": {},
   "outputs": [],
   "source": [
    "df=pd.concat([df1,df2])"
   ]
  },
  {
   "cell_type": "code",
   "execution_count": 12,
   "metadata": {},
   "outputs": [
    {
     "data": {
      "text/plain": [
       "(1100, 11)"
      ]
     },
     "execution_count": 12,
     "metadata": {},
     "output_type": "execute_result"
    }
   ],
   "source": [
    "df.shape"
   ]
  },
  {
   "cell_type": "code",
   "execution_count": 13,
   "metadata": {},
   "outputs": [
    {
     "data": {
      "text/html": [
       "<div>\n",
       "<style scoped>\n",
       "    .dataframe tbody tr th:only-of-type {\n",
       "        vertical-align: middle;\n",
       "    }\n",
       "\n",
       "    .dataframe tbody tr th {\n",
       "        vertical-align: top;\n",
       "    }\n",
       "\n",
       "    .dataframe thead th {\n",
       "        text-align: right;\n",
       "    }\n",
       "</style>\n",
       "<table border=\"1\" class=\"dataframe\">\n",
       "  <thead>\n",
       "    <tr style=\"text-align: right;\">\n",
       "      <th></th>\n",
       "      <th>Unnamed: 0</th>\n",
       "      <th>Price</th>\n",
       "      <th>Brand</th>\n",
       "      <th>Model</th>\n",
       "      <th>Kilometers_driven</th>\n",
       "      <th>Year</th>\n",
       "      <th>Fuel</th>\n",
       "      <th>Transmission</th>\n",
       "      <th>Variant</th>\n",
       "      <th>No_owners</th>\n",
       "      <th>Location</th>\n",
       "    </tr>\n",
       "  </thead>\n",
       "  <tbody>\n",
       "    <tr>\n",
       "      <th>0</th>\n",
       "      <td>0</td>\n",
       "      <td>₹ 2,29,000</td>\n",
       "      <td>Chevrolet</td>\n",
       "      <td>Beat</td>\n",
       "      <td>69,000 km</td>\n",
       "      <td>2011</td>\n",
       "      <td>Diesel</td>\n",
       "      <td>Manual</td>\n",
       "      <td>2010-2013 Diesel LT Option</td>\n",
       "      <td>3rd</td>\n",
       "      <td>Bangalore</td>\n",
       "    </tr>\n",
       "    <tr>\n",
       "      <th>1</th>\n",
       "      <td>1</td>\n",
       "      <td>₹ 25,90,000</td>\n",
       "      <td>Toyota</td>\n",
       "      <td>Camry</td>\n",
       "      <td>22,000 km</td>\n",
       "      <td>2016</td>\n",
       "      <td>Petrol</td>\n",
       "      <td>Automatic</td>\n",
       "      <td>2.5 Hybrid</td>\n",
       "      <td>1st</td>\n",
       "      <td>Bangalore</td>\n",
       "    </tr>\n",
       "    <tr>\n",
       "      <th>2</th>\n",
       "      <td>2</td>\n",
       "      <td>₹ 1,95,000</td>\n",
       "      <td>Maruti Suzuki</td>\n",
       "      <td>Zen Estilo</td>\n",
       "      <td>69,000 km</td>\n",
       "      <td>2009</td>\n",
       "      <td>Petrol</td>\n",
       "      <td>Manual</td>\n",
       "      <td>VXI BSIII</td>\n",
       "      <td>3rd</td>\n",
       "      <td>Bangalore</td>\n",
       "    </tr>\n",
       "    <tr>\n",
       "      <th>3</th>\n",
       "      <td>3</td>\n",
       "      <td>Na</td>\n",
       "      <td>Na</td>\n",
       "      <td>Na</td>\n",
       "      <td>Na</td>\n",
       "      <td>Na</td>\n",
       "      <td>Na</td>\n",
       "      <td>Na</td>\n",
       "      <td>Na</td>\n",
       "      <td>Na</td>\n",
       "      <td>Bangalore</td>\n",
       "    </tr>\n",
       "    <tr>\n",
       "      <th>4</th>\n",
       "      <td>4</td>\n",
       "      <td>Na</td>\n",
       "      <td>Na</td>\n",
       "      <td>Na</td>\n",
       "      <td>Na</td>\n",
       "      <td>Na</td>\n",
       "      <td>Na</td>\n",
       "      <td>Na</td>\n",
       "      <td>Na</td>\n",
       "      <td>Na</td>\n",
       "      <td>Bangalore</td>\n",
       "    </tr>\n",
       "  </tbody>\n",
       "</table>\n",
       "</div>"
      ],
      "text/plain": [
       "   Unnamed: 0        Price          Brand       Model Kilometers_driven  Year  \\\n",
       "0           0   ₹ 2,29,000      Chevrolet        Beat         69,000 km  2011   \n",
       "1           1  ₹ 25,90,000         Toyota       Camry         22,000 km  2016   \n",
       "2           2   ₹ 1,95,000  Maruti Suzuki  Zen Estilo         69,000 km  2009   \n",
       "3           3           Na             Na          Na                Na    Na   \n",
       "4           4           Na             Na          Na                Na    Na   \n",
       "\n",
       "     Fuel Transmission                     Variant No_owners   Location  \n",
       "0  Diesel       Manual  2010-2013 Diesel LT Option       3rd  Bangalore  \n",
       "1  Petrol    Automatic                  2.5 Hybrid       1st  Bangalore  \n",
       "2  Petrol       Manual                   VXI BSIII       3rd  Bangalore  \n",
       "3      Na           Na                          Na        Na  Bangalore  \n",
       "4      Na           Na                          Na        Na  Bangalore  "
      ]
     },
     "execution_count": 13,
     "metadata": {},
     "output_type": "execute_result"
    }
   ],
   "source": [
    "df.head()"
   ]
  },
  {
   "cell_type": "markdown",
   "metadata": {},
   "source": [
    "We can see that the column\"Unnamed:0\" is unnecessary column. we will remove it."
   ]
  },
  {
   "cell_type": "code",
   "execution_count": 14,
   "metadata": {},
   "outputs": [],
   "source": [
    "df.drop([\"Unnamed: 0\"],axis=1,inplace=True)"
   ]
  },
  {
   "cell_type": "code",
   "execution_count": 15,
   "metadata": {},
   "outputs": [],
   "source": [
    "#Now we will handle Price column\n",
    "df['Price']=df['Price'].str.replace(',','')\n",
    "df['Price']=df['Price'].str.replace('₹','')"
   ]
  },
  {
   "cell_type": "code",
   "execution_count": 16,
   "metadata": {},
   "outputs": [
    {
     "data": {
      "text/html": [
       "<div>\n",
       "<style scoped>\n",
       "    .dataframe tbody tr th:only-of-type {\n",
       "        vertical-align: middle;\n",
       "    }\n",
       "\n",
       "    .dataframe tbody tr th {\n",
       "        vertical-align: top;\n",
       "    }\n",
       "\n",
       "    .dataframe thead th {\n",
       "        text-align: right;\n",
       "    }\n",
       "</style>\n",
       "<table border=\"1\" class=\"dataframe\">\n",
       "  <thead>\n",
       "    <tr style=\"text-align: right;\">\n",
       "      <th></th>\n",
       "      <th>Price</th>\n",
       "      <th>Brand</th>\n",
       "      <th>Model</th>\n",
       "      <th>Kilometers_driven</th>\n",
       "      <th>Year</th>\n",
       "      <th>Fuel</th>\n",
       "      <th>Transmission</th>\n",
       "      <th>Variant</th>\n",
       "      <th>No_owners</th>\n",
       "      <th>Location</th>\n",
       "    </tr>\n",
       "  </thead>\n",
       "  <tbody>\n",
       "    <tr>\n",
       "      <th>0</th>\n",
       "      <td>229000</td>\n",
       "      <td>Chevrolet</td>\n",
       "      <td>Beat</td>\n",
       "      <td>69,000 km</td>\n",
       "      <td>2011</td>\n",
       "      <td>Diesel</td>\n",
       "      <td>Manual</td>\n",
       "      <td>2010-2013 Diesel LT Option</td>\n",
       "      <td>3rd</td>\n",
       "      <td>Bangalore</td>\n",
       "    </tr>\n",
       "    <tr>\n",
       "      <th>1</th>\n",
       "      <td>2590000</td>\n",
       "      <td>Toyota</td>\n",
       "      <td>Camry</td>\n",
       "      <td>22,000 km</td>\n",
       "      <td>2016</td>\n",
       "      <td>Petrol</td>\n",
       "      <td>Automatic</td>\n",
       "      <td>2.5 Hybrid</td>\n",
       "      <td>1st</td>\n",
       "      <td>Bangalore</td>\n",
       "    </tr>\n",
       "    <tr>\n",
       "      <th>2</th>\n",
       "      <td>195000</td>\n",
       "      <td>Maruti Suzuki</td>\n",
       "      <td>Zen Estilo</td>\n",
       "      <td>69,000 km</td>\n",
       "      <td>2009</td>\n",
       "      <td>Petrol</td>\n",
       "      <td>Manual</td>\n",
       "      <td>VXI BSIII</td>\n",
       "      <td>3rd</td>\n",
       "      <td>Bangalore</td>\n",
       "    </tr>\n",
       "    <tr>\n",
       "      <th>3</th>\n",
       "      <td>Na</td>\n",
       "      <td>Na</td>\n",
       "      <td>Na</td>\n",
       "      <td>Na</td>\n",
       "      <td>Na</td>\n",
       "      <td>Na</td>\n",
       "      <td>Na</td>\n",
       "      <td>Na</td>\n",
       "      <td>Na</td>\n",
       "      <td>Bangalore</td>\n",
       "    </tr>\n",
       "    <tr>\n",
       "      <th>4</th>\n",
       "      <td>Na</td>\n",
       "      <td>Na</td>\n",
       "      <td>Na</td>\n",
       "      <td>Na</td>\n",
       "      <td>Na</td>\n",
       "      <td>Na</td>\n",
       "      <td>Na</td>\n",
       "      <td>Na</td>\n",
       "      <td>Na</td>\n",
       "      <td>Bangalore</td>\n",
       "    </tr>\n",
       "  </tbody>\n",
       "</table>\n",
       "</div>"
      ],
      "text/plain": [
       "      Price          Brand       Model Kilometers_driven  Year    Fuel  \\\n",
       "0    229000      Chevrolet        Beat         69,000 km  2011  Diesel   \n",
       "1   2590000         Toyota       Camry         22,000 km  2016  Petrol   \n",
       "2    195000  Maruti Suzuki  Zen Estilo         69,000 km  2009  Petrol   \n",
       "3        Na             Na          Na                Na    Na      Na   \n",
       "4        Na             Na          Na                Na    Na      Na   \n",
       "\n",
       "  Transmission                     Variant No_owners   Location  \n",
       "0       Manual  2010-2013 Diesel LT Option       3rd  Bangalore  \n",
       "1    Automatic                  2.5 Hybrid       1st  Bangalore  \n",
       "2       Manual                   VXI BSIII       3rd  Bangalore  \n",
       "3           Na                          Na        Na  Bangalore  \n",
       "4           Na                          Na        Na  Bangalore  "
      ]
     },
     "execution_count": 16,
     "metadata": {},
     "output_type": "execute_result"
    }
   ],
   "source": [
    "df.head()"
   ]
  },
  {
   "cell_type": "code",
   "execution_count": 19,
   "metadata": {},
   "outputs": [
    {
     "data": {
      "text/plain": [
       "(1100, 10)"
      ]
     },
     "execution_count": 19,
     "metadata": {},
     "output_type": "execute_result"
    }
   ],
   "source": [
    "df.shape"
   ]
  },
  {
   "cell_type": "code",
   "execution_count": 20,
   "metadata": {},
   "outputs": [],
   "source": [
    "#Now we got the correct data save it as csv file for future use.\n",
    "df.to_csv(\"olx_data.csv\")"
   ]
  },
  {
   "cell_type": "code",
   "execution_count": null,
   "metadata": {},
   "outputs": [],
   "source": []
  }
 ],
 "metadata": {
  "kernelspec": {
   "display_name": "Python 3",
   "language": "python",
   "name": "python3"
  },
  "language_info": {
   "codemirror_mode": {
    "name": "ipython",
    "version": 3
   },
   "file_extension": ".py",
   "mimetype": "text/x-python",
   "name": "python",
   "nbconvert_exporter": "python",
   "pygments_lexer": "ipython3",
   "version": "3.8.3"
  }
 },
 "nbformat": 4,
 "nbformat_minor": 4
}
