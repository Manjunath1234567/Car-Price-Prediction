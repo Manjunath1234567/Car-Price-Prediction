{
 "cells": [
  {
   "cell_type": "raw",
   "metadata": {},
   "source": [
    "Data Description: clients works with small traders, who sell used cars. With the change in market due to covid 19 impact, client is facing problems with their previous car price valuation machine learning models. So, they are looking for new machine learning models from new data. We collected data from car dekho and OLx and we are using that data here to train the model"
   ]
  },
  {
   "cell_type": "markdown",
   "metadata": {},
   "source": [
    "Required Libraries"
   ]
  },
  {
   "cell_type": "code",
   "execution_count": 186,
   "metadata": {},
   "outputs": [],
   "source": [
    "import pandas as pd\n",
    "import numpy as np\n",
    "import matplotlib.pyplot as plt\n",
    "import seaborn as sns\n",
    "import warnings\n",
    "warnings.filterwarnings('ignore')"
   ]
  },
  {
   "cell_type": "markdown",
   "metadata": {},
   "source": [
    "Load the data"
   ]
  },
  {
   "cell_type": "code",
   "execution_count": 187,
   "metadata": {},
   "outputs": [],
   "source": [
    "df1=pd.read_csv(\"olx_data.csv\") #data scrapped from olx\n",
    "df2=pd.read_csv(\"Car_dekho_data.csv\")   #data scrapped from car dekho "
   ]
  },
  {
   "cell_type": "code",
   "execution_count": 188,
   "metadata": {},
   "outputs": [],
   "source": [
    "#Let's concatenate bot the data frames into single data frame\n",
    "df=pd.concat([df1,df2],ignore_index=True)"
   ]
  },
  {
   "cell_type": "code",
   "execution_count": 189,
   "metadata": {},
   "outputs": [
    {
     "data": {
      "text/html": [
       "<div>\n",
       "<style scoped>\n",
       "    .dataframe tbody tr th:only-of-type {\n",
       "        vertical-align: middle;\n",
       "    }\n",
       "\n",
       "    .dataframe tbody tr th {\n",
       "        vertical-align: top;\n",
       "    }\n",
       "\n",
       "    .dataframe thead th {\n",
       "        text-align: right;\n",
       "    }\n",
       "</style>\n",
       "<table border=\"1\" class=\"dataframe\">\n",
       "  <thead>\n",
       "    <tr style=\"text-align: right;\">\n",
       "      <th></th>\n",
       "      <th>Unnamed: 0</th>\n",
       "      <th>Price</th>\n",
       "      <th>Brand</th>\n",
       "      <th>Model</th>\n",
       "      <th>Kilometers_driven</th>\n",
       "      <th>Year</th>\n",
       "      <th>Fuel</th>\n",
       "      <th>Transmission</th>\n",
       "      <th>Variant</th>\n",
       "      <th>No_owners</th>\n",
       "      <th>Location</th>\n",
       "    </tr>\n",
       "  </thead>\n",
       "  <tbody>\n",
       "    <tr>\n",
       "      <th>0</th>\n",
       "      <td>0</td>\n",
       "      <td>229000</td>\n",
       "      <td>Chevrolet</td>\n",
       "      <td>Beat</td>\n",
       "      <td>69,000 km</td>\n",
       "      <td>2011</td>\n",
       "      <td>Diesel</td>\n",
       "      <td>Manual</td>\n",
       "      <td>2010-2013 Diesel LT Option</td>\n",
       "      <td>3rd</td>\n",
       "      <td>Bangalore</td>\n",
       "    </tr>\n",
       "    <tr>\n",
       "      <th>1</th>\n",
       "      <td>1</td>\n",
       "      <td>2590000</td>\n",
       "      <td>Toyota</td>\n",
       "      <td>Camry</td>\n",
       "      <td>22,000 km</td>\n",
       "      <td>2016</td>\n",
       "      <td>Petrol</td>\n",
       "      <td>Automatic</td>\n",
       "      <td>2.5 Hybrid</td>\n",
       "      <td>1st</td>\n",
       "      <td>Bangalore</td>\n",
       "    </tr>\n",
       "    <tr>\n",
       "      <th>2</th>\n",
       "      <td>2</td>\n",
       "      <td>195000</td>\n",
       "      <td>Maruti Suzuki</td>\n",
       "      <td>Zen Estilo</td>\n",
       "      <td>69,000 km</td>\n",
       "      <td>2009</td>\n",
       "      <td>Petrol</td>\n",
       "      <td>Manual</td>\n",
       "      <td>VXI BSIII</td>\n",
       "      <td>3rd</td>\n",
       "      <td>Bangalore</td>\n",
       "    </tr>\n",
       "    <tr>\n",
       "      <th>3</th>\n",
       "      <td>3</td>\n",
       "      <td>Na</td>\n",
       "      <td>Na</td>\n",
       "      <td>Na</td>\n",
       "      <td>Na</td>\n",
       "      <td>Na</td>\n",
       "      <td>Na</td>\n",
       "      <td>Na</td>\n",
       "      <td>Na</td>\n",
       "      <td>Na</td>\n",
       "      <td>Bangalore</td>\n",
       "    </tr>\n",
       "    <tr>\n",
       "      <th>4</th>\n",
       "      <td>4</td>\n",
       "      <td>Na</td>\n",
       "      <td>Na</td>\n",
       "      <td>Na</td>\n",
       "      <td>Na</td>\n",
       "      <td>Na</td>\n",
       "      <td>Na</td>\n",
       "      <td>Na</td>\n",
       "      <td>Na</td>\n",
       "      <td>Na</td>\n",
       "      <td>Bangalore</td>\n",
       "    </tr>\n",
       "  </tbody>\n",
       "</table>\n",
       "</div>"
      ],
      "text/plain": [
       "   Unnamed: 0     Price          Brand       Model Kilometers_driven  Year  \\\n",
       "0           0    229000      Chevrolet        Beat         69,000 km  2011   \n",
       "1           1   2590000         Toyota       Camry         22,000 km  2016   \n",
       "2           2    195000  Maruti Suzuki  Zen Estilo         69,000 km  2009   \n",
       "3           3        Na             Na          Na                Na    Na   \n",
       "4           4        Na             Na          Na                Na    Na   \n",
       "\n",
       "     Fuel Transmission                     Variant No_owners   Location  \n",
       "0  Diesel       Manual  2010-2013 Diesel LT Option       3rd  Bangalore  \n",
       "1  Petrol    Automatic                  2.5 Hybrid       1st  Bangalore  \n",
       "2  Petrol       Manual                   VXI BSIII       3rd  Bangalore  \n",
       "3      Na           Na                          Na        Na  Bangalore  \n",
       "4      Na           Na                          Na        Na  Bangalore  "
      ]
     },
     "execution_count": 189,
     "metadata": {},
     "output_type": "execute_result"
    }
   ],
   "source": [
    "df.head()"
   ]
  },
  {
   "cell_type": "code",
   "execution_count": 190,
   "metadata": {},
   "outputs": [
    {
     "data": {
      "text/html": [
       "<div>\n",
       "<style scoped>\n",
       "    .dataframe tbody tr th:only-of-type {\n",
       "        vertical-align: middle;\n",
       "    }\n",
       "\n",
       "    .dataframe tbody tr th {\n",
       "        vertical-align: top;\n",
       "    }\n",
       "\n",
       "    .dataframe thead th {\n",
       "        text-align: right;\n",
       "    }\n",
       "</style>\n",
       "<table border=\"1\" class=\"dataframe\">\n",
       "  <thead>\n",
       "    <tr style=\"text-align: right;\">\n",
       "      <th></th>\n",
       "      <th>Unnamed: 0</th>\n",
       "      <th>Price</th>\n",
       "      <th>Brand</th>\n",
       "      <th>Model</th>\n",
       "      <th>Kilometers_driven</th>\n",
       "      <th>Year</th>\n",
       "      <th>Fuel</th>\n",
       "      <th>Transmission</th>\n",
       "      <th>Variant</th>\n",
       "      <th>No_owners</th>\n",
       "      <th>Location</th>\n",
       "    </tr>\n",
       "  </thead>\n",
       "  <tbody>\n",
       "    <tr>\n",
       "      <th>6256</th>\n",
       "      <td>1979</td>\n",
       "      <td>950000</td>\n",
       "      <td>Hyundai</td>\n",
       "      <td>Venue</td>\n",
       "      <td>10,000 kms</td>\n",
       "      <td>2020</td>\n",
       "      <td>Petrol</td>\n",
       "      <td>Manual</td>\n",
       "      <td>SX Opt Turbo BSIV</td>\n",
       "      <td>SecondOwner</td>\n",
       "      <td>Shimla</td>\n",
       "    </tr>\n",
       "    <tr>\n",
       "      <th>6257</th>\n",
       "      <td>1980</td>\n",
       "      <td>300000</td>\n",
       "      <td>Maruti</td>\n",
       "      <td>Swift</td>\n",
       "      <td>50,000 kms</td>\n",
       "      <td>2011</td>\n",
       "      <td>Petrol</td>\n",
       "      <td>Manual</td>\n",
       "      <td>VXi</td>\n",
       "      <td>SecondOwner</td>\n",
       "      <td>Shimla</td>\n",
       "    </tr>\n",
       "    <tr>\n",
       "      <th>6258</th>\n",
       "      <td>1981</td>\n",
       "      <td>130000</td>\n",
       "      <td>Maruti</td>\n",
       "      <td>800</td>\n",
       "      <td>30,000 kms</td>\n",
       "      <td>2013</td>\n",
       "      <td>Petrol</td>\n",
       "      <td>Manual</td>\n",
       "      <td>Std BSIII</td>\n",
       "      <td>SecondOwner</td>\n",
       "      <td>Shimla</td>\n",
       "    </tr>\n",
       "    <tr>\n",
       "      <th>6259</th>\n",
       "      <td>1982</td>\n",
       "      <td>115000</td>\n",
       "      <td>Maruti</td>\n",
       "      <td>Alto</td>\n",
       "      <td>80,000 kms</td>\n",
       "      <td>2004</td>\n",
       "      <td>Petrol</td>\n",
       "      <td>Manual</td>\n",
       "      <td>LX</td>\n",
       "      <td>Thirdowner</td>\n",
       "      <td>Shimla</td>\n",
       "    </tr>\n",
       "    <tr>\n",
       "      <th>6260</th>\n",
       "      <td>1983</td>\n",
       "      <td>NaN</td>\n",
       "      <td>Maruti</td>\n",
       "      <td>800</td>\n",
       "      <td>15,000 kms</td>\n",
       "      <td>2002</td>\n",
       "      <td>Petrol</td>\n",
       "      <td>Manual</td>\n",
       "      <td>AC</td>\n",
       "      <td>Thirdowner</td>\n",
       "      <td>Shimla</td>\n",
       "    </tr>\n",
       "  </tbody>\n",
       "</table>\n",
       "</div>"
      ],
      "text/plain": [
       "      Unnamed: 0   Price    Brand  Model Kilometers_driven  Year    Fuel  \\\n",
       "6256        1979  950000  Hyundai  Venue        10,000 kms  2020  Petrol   \n",
       "6257        1980  300000   Maruti  Swift        50,000 kms  2011  Petrol   \n",
       "6258        1981  130000   Maruti    800        30,000 kms  2013  Petrol   \n",
       "6259        1982  115000   Maruti   Alto        80,000 kms  2004  Petrol   \n",
       "6260        1983     NaN   Maruti    800        15,000 kms  2002  Petrol   \n",
       "\n",
       "     Transmission            Variant    No_owners Location  \n",
       "6256       Manual  SX Opt Turbo BSIV  SecondOwner   Shimla  \n",
       "6257       Manual                VXi  SecondOwner   Shimla  \n",
       "6258       Manual          Std BSIII  SecondOwner   Shimla  \n",
       "6259       Manual                 LX   Thirdowner   Shimla  \n",
       "6260       Manual                 AC   Thirdowner   Shimla  "
      ]
     },
     "execution_count": 190,
     "metadata": {},
     "output_type": "execute_result"
    }
   ],
   "source": [
    "df.tail()"
   ]
  },
  {
   "cell_type": "code",
   "execution_count": 191,
   "metadata": {},
   "outputs": [
    {
     "data": {
      "text/plain": [
       "(6261, 11)"
      ]
     },
     "execution_count": 191,
     "metadata": {},
     "output_type": "execute_result"
    }
   ],
   "source": [
    "df.shape"
   ]
  },
  {
   "cell_type": "code",
   "execution_count": 192,
   "metadata": {},
   "outputs": [],
   "source": [
    "#In the given data there are values \"NA\" these are Nan values. So change all \"Na\" values to Null values.\n",
    "#First change \"Na\" values to Null valuesand drop those null value.\n",
    "df.replace(\"Na\",np.nan,inplace=True)\n",
    "df.dropna(axis=0,inplace=True)"
   ]
  },
  {
   "cell_type": "code",
   "execution_count": 193,
   "metadata": {},
   "outputs": [
    {
     "name": "stdout",
     "output_type": "stream",
     "text": [
      "<class 'pandas.core.frame.DataFrame'>\n",
      "Int64Index: 5868 entries, 0 to 6259\n",
      "Data columns (total 11 columns):\n",
      " #   Column             Non-Null Count  Dtype \n",
      "---  ------             --------------  ----- \n",
      " 0   Unnamed: 0         5868 non-null   int64 \n",
      " 1   Price              5868 non-null   object\n",
      " 2   Brand              5868 non-null   object\n",
      " 3   Model              5868 non-null   object\n",
      " 4   Kilometers_driven  5868 non-null   object\n",
      " 5   Year               5868 non-null   object\n",
      " 6   Fuel               5868 non-null   object\n",
      " 7   Transmission       5868 non-null   object\n",
      " 8   Variant            5868 non-null   object\n",
      " 9   No_owners          5868 non-null   object\n",
      " 10  Location           5868 non-null   object\n",
      "dtypes: int64(1), object(10)\n",
      "memory usage: 550.1+ KB\n"
     ]
    }
   ],
   "source": [
    "df.info()"
   ]
  },
  {
   "cell_type": "code",
   "execution_count": 194,
   "metadata": {},
   "outputs": [],
   "source": [
    "#column \"Unnamed: 0\" is unnecessary column it just contains the s.no,let's remove this column\n",
    "df.drop([\"Unnamed: 0\"],axis=1,inplace=True)"
   ]
  },
  {
   "cell_type": "code",
   "execution_count": 195,
   "metadata": {},
   "outputs": [
    {
     "data": {
      "text/plain": [
       "Index(['Price', 'Brand', 'Model', 'Kilometers_driven', 'Year', 'Fuel',\n",
       "       'Transmission', 'Variant', 'No_owners', 'Location'],\n",
       "      dtype='object')"
      ]
     },
     "execution_count": 195,
     "metadata": {},
     "output_type": "execute_result"
    }
   ],
   "source": [
    "df.columns"
   ]
  },
  {
   "cell_type": "code",
   "execution_count": 196,
   "metadata": {},
   "outputs": [
    {
     "data": {
      "text/plain": [
       "Price                1138\n",
       "Brand                  35\n",
       "Model                 245\n",
       "Kilometers_driven    2396\n",
       "Year                   53\n",
       "Fuel                    7\n",
       "Transmission            3\n",
       "Variant              1661\n",
       "No_owners              16\n",
       "Location               22\n",
       "dtype: int64"
      ]
     },
     "execution_count": 196,
     "metadata": {},
     "output_type": "execute_result"
    }
   ],
   "source": [
    "df.nunique()"
   ]
  },
  {
   "cell_type": "raw",
   "metadata": {},
   "source": [
    "*** We can see that the columns \"Year\", \"Fuel\", \"Transmission\", \"No_owners\" having more unique values than expected.So we will check these columns seperately."
   ]
  },
  {
   "cell_type": "markdown",
   "metadata": {},
   "source": [
    "Year"
   ]
  },
  {
   "cell_type": "code",
   "execution_count": 197,
   "metadata": {},
   "outputs": [
    {
     "data": {
      "text/plain": [
       "2016              543\n",
       "2015              507\n",
       "2012              502\n",
       "2017              475\n",
       "2018              467\n",
       "2014              456\n",
       "2013              432\n",
       "2011              359\n",
       "2010              313\n",
       "2019              260\n",
       "2009              212\n",
       "2008              143\n",
       "2007              107\n",
       "2016               92\n",
       "2020               88\n",
       "2013               82\n",
       "2017               80\n",
       "2012               78\n",
       "2014               78\n",
       "2018               75\n",
       "2015               71\n",
       "2010               54\n",
       "2006               53\n",
       "2011               47\n",
       "2019               41\n",
       "2005               34\n",
       "Semi-Furnished     31\n",
       "2020               24\n",
       "2007               22\n",
       "2009               21\n",
       "2008               20\n",
       "2021               18\n",
       "2004               15\n",
       "2021               13\n",
       "2006               10\n",
       "2003                8\n",
       "2002                5\n",
       "2005                4\n",
       "1998                3\n",
       "2000                3\n",
       "2001                3\n",
       "1993                2\n",
       "1999                2\n",
       "2003                2\n",
       "2016.0              2\n",
       "1997                2\n",
       "2004                2\n",
       "2002                2\n",
       "2015.0              1\n",
       "1995                1\n",
       "2014.0              1\n",
       "1994                1\n",
       "2012.0              1\n",
       "Name: Year, dtype: int64"
      ]
     },
     "execution_count": 197,
     "metadata": {},
     "output_type": "execute_result"
    }
   ],
   "source": [
    "pd.set_option('display.max_rows',80)\n",
    "df[\"Year\"].value_counts()"
   ]
  },
  {
   "cell_type": "code",
   "execution_count": 198,
   "metadata": {},
   "outputs": [],
   "source": [
    "#We can see that some how we got #Semi-Furnished value in column year\n",
    "   \n",
    "#we will replace these values with nan\n",
    "#Also some years have float we will replace them as integer"
   ]
  },
  {
   "cell_type": "code",
   "execution_count": 199,
   "metadata": {},
   "outputs": [],
   "source": [
    "df['Year']=df['Year'].replace('Semi-Furnished', np.NaN)\n",
    "df['Year']=df['Year'].astype(float) #I changed the datatype as float because then only the replaced nan values will be shown"
   ]
  },
  {
   "cell_type": "markdown",
   "metadata": {},
   "source": [
    "Fuel"
   ]
  },
  {
   "cell_type": "code",
   "execution_count": 200,
   "metadata": {},
   "outputs": [
    {
     "data": {
      "text/plain": [
       "Petrol           3099\n",
       "Diesel           2652\n",
       "CNG                51\n",
       "Ready to Move      31\n",
       "LPG                17\n",
       "CNG & Hybrids      16\n",
       "Electric            2\n",
       "Name: Fuel, dtype: int64"
      ]
     },
     "execution_count": 200,
     "metadata": {},
     "output_type": "execute_result"
    }
   ],
   "source": [
    "df['Fuel'].value_counts()"
   ]
  },
  {
   "cell_type": "code",
   "execution_count": 201,
   "metadata": {},
   "outputs": [],
   "source": [
    "#In the column \"Fuel\" except \"Petrol\", \"Diesel\", \"CNG\", \"CNG & Hybrids\", \"LPG\", \"Electric\" the remaining data is not right.\n",
    "#we will replace the wrong data with nan nalues"
   ]
  },
  {
   "cell_type": "code",
   "execution_count": 202,
   "metadata": {},
   "outputs": [],
   "source": [
    "df['Fuel']=df['Fuel'].astype(str).replace('Ready to Move',np.nan).replace('Manual', np.nan).replace('Automatic',np.nan).replace('1 km',np.nan).replace('56,000 km',np.nan).replace('1st',np.nan).replace('670,000 km',np.nan).replace('88,000 km',np.nan).replace('110,000 km',np.nan).replace('70,000 km',np.nan).replace('112,000 km',np.nan).replace('28,300 km',np.nan).replace('61,000 km',np.nan).replace('71,000 km',np.nan).replace('129,000 km',np.nan).replace('14,700 km',np.nan).replace('50,000 km',np.nan).replace('33,500 km',np.nan).replace('45,900 km',np.nan )"
   ]
  },
  {
   "cell_type": "markdown",
   "metadata": {},
   "source": [
    "Transmission"
   ]
  },
  {
   "cell_type": "code",
   "execution_count": 203,
   "metadata": {},
   "outputs": [
    {
     "data": {
      "text/plain": [
       "Manual       4701\n",
       "Automatic    1136\n",
       "Builder        31\n",
       "Name: Transmission, dtype: int64"
      ]
     },
     "execution_count": 203,
     "metadata": {},
     "output_type": "execute_result"
    }
   ],
   "source": [
    "df[\"Transmission\"].value_counts()"
   ]
  },
  {
   "cell_type": "code",
   "execution_count": 204,
   "metadata": {},
   "outputs": [],
   "source": [
    "#From the above we can see that except Manual and Automatic all other values should be replced. \n",
    "#we will replace them with nan values\n",
    "df['Transmission']=df['Transmission'].astype(str).replace('Builder',np.nan)"
   ]
  },
  {
   "cell_type": "code",
   "execution_count": 205,
   "metadata": {},
   "outputs": [
    {
     "data": {
      "text/plain": [
       "Manual       4701\n",
       "Automatic    1136\n",
       "Name: Transmission, dtype: int64"
      ]
     },
     "execution_count": 205,
     "metadata": {},
     "output_type": "execute_result"
    }
   ],
   "source": [
    "df[\"Transmission\"].value_counts()"
   ]
  },
  {
   "cell_type": "markdown",
   "metadata": {},
   "source": [
    "No_owners"
   ]
  },
  {
   "cell_type": "code",
   "execution_count": 206,
   "metadata": {},
   "outputs": [
    {
     "data": {
      "text/plain": [
       "FirstOwner     1888\n",
       "SecondOwner    1849\n",
       "Thirdowner      658\n",
       "1st             563\n",
       "2nd             229\n",
       "First owner     200\n",
       "Firstowner      200\n",
       "FirstOnwer      197\n",
       "3rd              39\n",
       "700              24\n",
       "ThirdOwner        9\n",
       "4th               3\n",
       "600               3\n",
       "4+                2\n",
       "2000              2\n",
       "2150              2\n",
       "Name: No_owners, dtype: int64"
      ]
     },
     "execution_count": 206,
     "metadata": {},
     "output_type": "execute_result"
    }
   ],
   "source": [
    "df['No_owners'].value_counts()"
   ]
  },
  {
   "cell_type": "code",
   "execution_count": 207,
   "metadata": {},
   "outputs": [],
   "source": [
    "#From above we can see that first second and third owners are mentioned in different ways. \n",
    "#So we will replace that different ways to one way \n",
    "#and some wrong data also is there we have to replace them with nan values"
   ]
  },
  {
   "cell_type": "code",
   "execution_count": 208,
   "metadata": {},
   "outputs": [],
   "source": [
    "df['No_owners']=df['No_owners'].astype(str).replace('Firstowner','FirstOwner').replace('1st','FirstOwner').replace('First owner','FirstOwner').replace('FirstOnwer','FirstOwner')\n",
    "df['No_owners']=df['No_owners'].astype(str).replace('2nd','SecondOwner')\n",
    "df['No_owners']=df['No_owners'].astype(str).replace('ThirdOwner','Thirdowner').replace('3rd','Thirdowner').replace('4th','Thirdowner').replace('4+','Thirdowner')\n",
    "df['No_owners']=df['No_owners'].astype(str).replace('700',np.nan).replace('600',np.nan).replace('2000',np.nan).replace('2150',np.nan)"
   ]
  },
  {
   "cell_type": "code",
   "execution_count": 209,
   "metadata": {},
   "outputs": [
    {
     "data": {
      "text/plain": [
       "FirstOwner     3048\n",
       "SecondOwner    2078\n",
       "Thirdowner      711\n",
       "Name: No_owners, dtype: int64"
      ]
     },
     "execution_count": 209,
     "metadata": {},
     "output_type": "execute_result"
    }
   ],
   "source": [
    "df['No_owners'].value_counts()"
   ]
  },
  {
   "cell_type": "markdown",
   "metadata": {},
   "source": [
    "Kilometers_driven"
   ]
  },
  {
   "cell_type": "code",
   "execution_count": 210,
   "metadata": {},
   "outputs": [
    {
     "data": {
      "text/plain": [
       "0    69,000 km\n",
       "1    22,000 km\n",
       "2    69,000 km\n",
       "5    19,000 km\n",
       "6    39,283 km\n",
       "Name: Kilometers_driven, dtype: object"
      ]
     },
     "execution_count": 210,
     "metadata": {},
     "output_type": "execute_result"
    }
   ],
   "source": [
    "df['Kilometers_driven'].head()"
   ]
  },
  {
   "cell_type": "code",
   "execution_count": 211,
   "metadata": {},
   "outputs": [
    {
     "data": {
      "text/plain": [
       "6253    1,20,000 kms\n",
       "6256      10,000 kms\n",
       "6257      50,000 kms\n",
       "6258      30,000 kms\n",
       "6259      80,000 kms\n",
       "Name: Kilometers_driven, dtype: object"
      ]
     },
     "execution_count": 211,
     "metadata": {},
     "output_type": "execute_result"
    }
   ],
   "source": [
    "df['Kilometers_driven'].tail()"
   ]
  },
  {
   "cell_type": "code",
   "execution_count": 212,
   "metadata": {},
   "outputs": [],
   "source": [
    "#we can see that the coulmn Kilometers_driven contains \"commas,kms and Km\" we need remove these strings\n",
    "df['Kilometers_driven']=df['Kilometers_driven'].str.replace(',','')\n",
    "df['Kilometers_driven']=df['Kilometers_driven'].str.replace('km','')\n",
    "df['Kilometers_driven']=df['Kilometers_driven'].str.replace('kms','')\n",
    "df['Kilometers_driven']=df['Kilometers_driven'].str.replace('s','')"
   ]
  },
  {
   "cell_type": "code",
   "execution_count": 213,
   "metadata": {},
   "outputs": [],
   "source": [
    "df['Kilometers_driven']=df['Kilometers_driven'].astype(str).replace('1 Lakh ',np.nan)"
   ]
  },
  {
   "cell_type": "code",
   "execution_count": 214,
   "metadata": {},
   "outputs": [
    {
     "data": {
      "text/html": [
       "<div>\n",
       "<style scoped>\n",
       "    .dataframe tbody tr th:only-of-type {\n",
       "        vertical-align: middle;\n",
       "    }\n",
       "\n",
       "    .dataframe tbody tr th {\n",
       "        vertical-align: top;\n",
       "    }\n",
       "\n",
       "    .dataframe thead th {\n",
       "        text-align: right;\n",
       "    }\n",
       "</style>\n",
       "<table border=\"1\" class=\"dataframe\">\n",
       "  <thead>\n",
       "    <tr style=\"text-align: right;\">\n",
       "      <th></th>\n",
       "      <th>Price</th>\n",
       "      <th>Brand</th>\n",
       "      <th>Model</th>\n",
       "      <th>Kilometers_driven</th>\n",
       "      <th>Year</th>\n",
       "      <th>Fuel</th>\n",
       "      <th>Transmission</th>\n",
       "      <th>Variant</th>\n",
       "      <th>No_owners</th>\n",
       "      <th>Location</th>\n",
       "    </tr>\n",
       "  </thead>\n",
       "  <tbody>\n",
       "    <tr>\n",
       "      <th>0</th>\n",
       "      <td>229000</td>\n",
       "      <td>Chevrolet</td>\n",
       "      <td>Beat</td>\n",
       "      <td>69000</td>\n",
       "      <td>2011.0</td>\n",
       "      <td>Diesel</td>\n",
       "      <td>Manual</td>\n",
       "      <td>2010-2013 Diesel LT Option</td>\n",
       "      <td>Thirdowner</td>\n",
       "      <td>Bangalore</td>\n",
       "    </tr>\n",
       "    <tr>\n",
       "      <th>1</th>\n",
       "      <td>2590000</td>\n",
       "      <td>Toyota</td>\n",
       "      <td>Camry</td>\n",
       "      <td>22000</td>\n",
       "      <td>2016.0</td>\n",
       "      <td>Petrol</td>\n",
       "      <td>Automatic</td>\n",
       "      <td>2.5 Hybrid</td>\n",
       "      <td>FirstOwner</td>\n",
       "      <td>Bangalore</td>\n",
       "    </tr>\n",
       "    <tr>\n",
       "      <th>2</th>\n",
       "      <td>195000</td>\n",
       "      <td>Maruti Suzuki</td>\n",
       "      <td>Zen Estilo</td>\n",
       "      <td>69000</td>\n",
       "      <td>2009.0</td>\n",
       "      <td>Petrol</td>\n",
       "      <td>Manual</td>\n",
       "      <td>VXI BSIII</td>\n",
       "      <td>Thirdowner</td>\n",
       "      <td>Bangalore</td>\n",
       "    </tr>\n",
       "    <tr>\n",
       "      <th>5</th>\n",
       "      <td>2250000</td>\n",
       "      <td>Toyota</td>\n",
       "      <td>Innova Crysta</td>\n",
       "      <td>19000</td>\n",
       "      <td>2019.0</td>\n",
       "      <td>Diesel</td>\n",
       "      <td>Manual</td>\n",
       "      <td>2.4 V</td>\n",
       "      <td>FirstOwner</td>\n",
       "      <td>Bangalore</td>\n",
       "    </tr>\n",
       "    <tr>\n",
       "      <th>6</th>\n",
       "      <td>395000</td>\n",
       "      <td>Maruti Suzuki</td>\n",
       "      <td>Wagon R</td>\n",
       "      <td>39283</td>\n",
       "      <td>2014.0</td>\n",
       "      <td>Petrol</td>\n",
       "      <td>Manual</td>\n",
       "      <td>VXI BS IV</td>\n",
       "      <td>FirstOwner</td>\n",
       "      <td>Bangalore</td>\n",
       "    </tr>\n",
       "  </tbody>\n",
       "</table>\n",
       "</div>"
      ],
      "text/plain": [
       "      Price          Brand          Model Kilometers_driven    Year    Fuel  \\\n",
       "0    229000      Chevrolet           Beat            69000   2011.0  Diesel   \n",
       "1   2590000         Toyota          Camry            22000   2016.0  Petrol   \n",
       "2    195000  Maruti Suzuki     Zen Estilo            69000   2009.0  Petrol   \n",
       "5   2250000         Toyota  Innova Crysta            19000   2019.0  Diesel   \n",
       "6    395000  Maruti Suzuki        Wagon R            39283   2014.0  Petrol   \n",
       "\n",
       "  Transmission                     Variant   No_owners   Location  \n",
       "0       Manual  2010-2013 Diesel LT Option  Thirdowner  Bangalore  \n",
       "1    Automatic                  2.5 Hybrid  FirstOwner  Bangalore  \n",
       "2       Manual                   VXI BSIII  Thirdowner  Bangalore  \n",
       "5       Manual                       2.4 V  FirstOwner  Bangalore  \n",
       "6       Manual                   VXI BS IV  FirstOwner  Bangalore  "
      ]
     },
     "execution_count": 214,
     "metadata": {},
     "output_type": "execute_result"
    }
   ],
   "source": [
    "df.head()"
   ]
  },
  {
   "cell_type": "code",
   "execution_count": 215,
   "metadata": {},
   "outputs": [
    {
     "data": {
      "text/html": [
       "<div>\n",
       "<style scoped>\n",
       "    .dataframe tbody tr th:only-of-type {\n",
       "        vertical-align: middle;\n",
       "    }\n",
       "\n",
       "    .dataframe tbody tr th {\n",
       "        vertical-align: top;\n",
       "    }\n",
       "\n",
       "    .dataframe thead th {\n",
       "        text-align: right;\n",
       "    }\n",
       "</style>\n",
       "<table border=\"1\" class=\"dataframe\">\n",
       "  <thead>\n",
       "    <tr style=\"text-align: right;\">\n",
       "      <th></th>\n",
       "      <th>Price</th>\n",
       "      <th>Brand</th>\n",
       "      <th>Model</th>\n",
       "      <th>Kilometers_driven</th>\n",
       "      <th>Year</th>\n",
       "      <th>Fuel</th>\n",
       "      <th>Transmission</th>\n",
       "      <th>Variant</th>\n",
       "      <th>No_owners</th>\n",
       "      <th>Location</th>\n",
       "    </tr>\n",
       "  </thead>\n",
       "  <tbody>\n",
       "    <tr>\n",
       "      <th>6253</th>\n",
       "      <td>250000</td>\n",
       "      <td>Hyundai</td>\n",
       "      <td>i20</td>\n",
       "      <td>120000</td>\n",
       "      <td>2010.0</td>\n",
       "      <td>Petrol</td>\n",
       "      <td>Manual</td>\n",
       "      <td>1.2 Magna</td>\n",
       "      <td>SecondOwner</td>\n",
       "      <td>Shimla</td>\n",
       "    </tr>\n",
       "    <tr>\n",
       "      <th>6256</th>\n",
       "      <td>950000</td>\n",
       "      <td>Hyundai</td>\n",
       "      <td>Venue</td>\n",
       "      <td>10000</td>\n",
       "      <td>2020.0</td>\n",
       "      <td>Petrol</td>\n",
       "      <td>Manual</td>\n",
       "      <td>SX Opt Turbo BSIV</td>\n",
       "      <td>SecondOwner</td>\n",
       "      <td>Shimla</td>\n",
       "    </tr>\n",
       "    <tr>\n",
       "      <th>6257</th>\n",
       "      <td>300000</td>\n",
       "      <td>Maruti</td>\n",
       "      <td>Swift</td>\n",
       "      <td>50000</td>\n",
       "      <td>2011.0</td>\n",
       "      <td>Petrol</td>\n",
       "      <td>Manual</td>\n",
       "      <td>VXi</td>\n",
       "      <td>SecondOwner</td>\n",
       "      <td>Shimla</td>\n",
       "    </tr>\n",
       "    <tr>\n",
       "      <th>6258</th>\n",
       "      <td>130000</td>\n",
       "      <td>Maruti</td>\n",
       "      <td>800</td>\n",
       "      <td>30000</td>\n",
       "      <td>2013.0</td>\n",
       "      <td>Petrol</td>\n",
       "      <td>Manual</td>\n",
       "      <td>Std BSIII</td>\n",
       "      <td>SecondOwner</td>\n",
       "      <td>Shimla</td>\n",
       "    </tr>\n",
       "    <tr>\n",
       "      <th>6259</th>\n",
       "      <td>115000</td>\n",
       "      <td>Maruti</td>\n",
       "      <td>Alto</td>\n",
       "      <td>80000</td>\n",
       "      <td>2004.0</td>\n",
       "      <td>Petrol</td>\n",
       "      <td>Manual</td>\n",
       "      <td>LX</td>\n",
       "      <td>Thirdowner</td>\n",
       "      <td>Shimla</td>\n",
       "    </tr>\n",
       "  </tbody>\n",
       "</table>\n",
       "</div>"
      ],
      "text/plain": [
       "       Price    Brand  Model Kilometers_driven    Year    Fuel Transmission  \\\n",
       "6253  250000  Hyundai    i20           120000   2010.0  Petrol       Manual   \n",
       "6256  950000  Hyundai  Venue            10000   2020.0  Petrol       Manual   \n",
       "6257  300000   Maruti  Swift            50000   2011.0  Petrol       Manual   \n",
       "6258  130000   Maruti    800            30000   2013.0  Petrol       Manual   \n",
       "6259  115000   Maruti   Alto            80000   2004.0  Petrol       Manual   \n",
       "\n",
       "                Variant    No_owners Location  \n",
       "6253          1.2 Magna  SecondOwner   Shimla  \n",
       "6256  SX Opt Turbo BSIV  SecondOwner   Shimla  \n",
       "6257                VXi  SecondOwner   Shimla  \n",
       "6258          Std BSIII  SecondOwner   Shimla  \n",
       "6259                 LX   Thirdowner   Shimla  "
      ]
     },
     "execution_count": 215,
     "metadata": {},
     "output_type": "execute_result"
    }
   ],
   "source": [
    "df.tail()"
   ]
  },
  {
   "cell_type": "code",
   "execution_count": 216,
   "metadata": {},
   "outputs": [],
   "source": [
    "df[\"Price\"]=df[\"Price\"].astype(float)\n",
    "df[\"Kilometers_driven\"]=df[\"Kilometers_driven\"].astype(float)"
   ]
  },
  {
   "cell_type": "markdown",
   "metadata": {},
   "source": [
    "Brand"
   ]
  },
  {
   "cell_type": "code",
   "execution_count": 217,
   "metadata": {},
   "outputs": [
    {
     "data": {
      "text/plain": [
       "Maruti              1568\n",
       "Hyundai             1135\n",
       "Honda                487\n",
       "Toyota               380\n",
       "Mahindra             327\n",
       "Ford                 274\n",
       "Volkswagen           271\n",
       "Maruti Suzuki        248\n",
       "Tata                 169\n",
       "Renault              163\n",
       "Mercedes-Benz        140\n",
       "BMW                  126\n",
       "Chevrolet            121\n",
       "Audi                 100\n",
       "Skoda                 83\n",
       "Nissan                75\n",
       "Apartments            27\n",
       "Fiat                  22\n",
       "Mitsubishi            21\n",
       "Land                  20\n",
       "Datsun                17\n",
       "Jaguar                16\n",
       "Jeep                  14\n",
       "MG                    14\n",
       "Volvo                 11\n",
       "Kia                   10\n",
       "Mini                   7\n",
       "Land Rover             6\n",
       "Porsche                5\n",
       "Houses & Villas        4\n",
       "Isuzu                  2\n",
       "Other Brands           2\n",
       "Aston                  1\n",
       "Premier                1\n",
       "Mahindra Renault       1\n",
       "Name: Brand, dtype: int64"
      ]
     },
     "execution_count": 217,
     "metadata": {},
     "output_type": "execute_result"
    }
   ],
   "source": [
    "df[\"Brand\"].value_counts()"
   ]
  },
  {
   "cell_type": "code",
   "execution_count": 218,
   "metadata": {},
   "outputs": [],
   "source": [
    "#from above brand column value_count we can see that somehow we got \"Houses & Villas\" in 4 rows, and \"Apartment\" in 27 rows let's replace these with nan values.\n",
    "df['Brand']=df['Brand'].astype(str).replace(\"Houses & Villas\",np.nan)\n",
    "df['Brand']=df['Brand'].astype(str).replace(\"Apartments\",np.nan)"
   ]
  },
  {
   "cell_type": "markdown",
   "metadata": {},
   "source": [
    "Descreptive statistcs"
   ]
  },
  {
   "cell_type": "code",
   "execution_count": 219,
   "metadata": {},
   "outputs": [
    {
     "data": {
      "text/html": [
       "<div>\n",
       "<style scoped>\n",
       "    .dataframe tbody tr th:only-of-type {\n",
       "        vertical-align: middle;\n",
       "    }\n",
       "\n",
       "    .dataframe tbody tr th {\n",
       "        vertical-align: top;\n",
       "    }\n",
       "\n",
       "    .dataframe thead th {\n",
       "        text-align: right;\n",
       "    }\n",
       "</style>\n",
       "<table border=\"1\" class=\"dataframe\">\n",
       "  <thead>\n",
       "    <tr style=\"text-align: right;\">\n",
       "      <th></th>\n",
       "      <th>Price</th>\n",
       "      <th>Kilometers_driven</th>\n",
       "      <th>Year</th>\n",
       "    </tr>\n",
       "  </thead>\n",
       "  <tbody>\n",
       "    <tr>\n",
       "      <th>count</th>\n",
       "      <td>5.868000e+03</td>\n",
       "      <td>5867.000000</td>\n",
       "      <td>5837.000000</td>\n",
       "    </tr>\n",
       "    <tr>\n",
       "      <th>mean</th>\n",
       "      <td>6.504643e+05</td>\n",
       "      <td>63403.936935</td>\n",
       "      <td>2013.860887</td>\n",
       "    </tr>\n",
       "    <tr>\n",
       "      <th>std</th>\n",
       "      <td>7.682090e+05</td>\n",
       "      <td>39426.623299</td>\n",
       "      <td>3.601487</td>\n",
       "    </tr>\n",
       "    <tr>\n",
       "      <th>min</th>\n",
       "      <td>1.500000e+04</td>\n",
       "      <td>0.000000</td>\n",
       "      <td>1993.000000</td>\n",
       "    </tr>\n",
       "    <tr>\n",
       "      <th>25%</th>\n",
       "      <td>2.957500e+05</td>\n",
       "      <td>37513.000000</td>\n",
       "      <td>2012.000000</td>\n",
       "    </tr>\n",
       "    <tr>\n",
       "      <th>50%</th>\n",
       "      <td>4.650000e+05</td>\n",
       "      <td>60000.000000</td>\n",
       "      <td>2014.000000</td>\n",
       "    </tr>\n",
       "    <tr>\n",
       "      <th>75%</th>\n",
       "      <td>6.720000e+05</td>\n",
       "      <td>82000.000000</td>\n",
       "      <td>2017.000000</td>\n",
       "    </tr>\n",
       "    <tr>\n",
       "      <th>max</th>\n",
       "      <td>1.150000e+07</td>\n",
       "      <td>750000.000000</td>\n",
       "      <td>2021.000000</td>\n",
       "    </tr>\n",
       "  </tbody>\n",
       "</table>\n",
       "</div>"
      ],
      "text/plain": [
       "              Price  Kilometers_driven         Year\n",
       "count  5.868000e+03        5867.000000  5837.000000\n",
       "mean   6.504643e+05       63403.936935  2013.860887\n",
       "std    7.682090e+05       39426.623299     3.601487\n",
       "min    1.500000e+04           0.000000  1993.000000\n",
       "25%    2.957500e+05       37513.000000  2012.000000\n",
       "50%    4.650000e+05       60000.000000  2014.000000\n",
       "75%    6.720000e+05       82000.000000  2017.000000\n",
       "max    1.150000e+07      750000.000000  2021.000000"
      ]
     },
     "execution_count": 219,
     "metadata": {},
     "output_type": "execute_result"
    }
   ],
   "source": [
    "df.describe()"
   ]
  },
  {
   "cell_type": "code",
   "execution_count": 228,
   "metadata": {},
   "outputs": [],
   "source": [
    "#from descrpetive statistcs we can see that the Kilometers_driven column has min value 0 and max value 750000. \n",
    "#It means there is skewness in the data."
   ]
  },
  {
   "cell_type": "code",
   "execution_count": 229,
   "metadata": {},
   "outputs": [
    {
     "data": {
      "text/plain": [
       "Price                 0\n",
       "Brand                27\n",
       "Model                 0\n",
       "Kilometers_driven     1\n",
       "Year                 31\n",
       "Fuel                 31\n",
       "Transmission         31\n",
       "Variant               0\n",
       "No_owners            31\n",
       "Location              0\n",
       "dtype: int64"
      ]
     },
     "execution_count": 229,
     "metadata": {},
     "output_type": "execute_result"
    }
   ],
   "source": [
    "df.isnull().sum()"
   ]
  },
  {
   "cell_type": "code",
   "execution_count": 230,
   "metadata": {},
   "outputs": [],
   "source": [
    "#Let's drop all the missing values"
   ]
  },
  {
   "cell_type": "code",
   "execution_count": 231,
   "metadata": {},
   "outputs": [],
   "source": [
    "df.dropna(axis=0,inplace=True)"
   ]
  },
  {
   "cell_type": "code",
   "execution_count": 232,
   "metadata": {},
   "outputs": [
    {
     "data": {
      "text/plain": [
       "Price                0\n",
       "Brand                0\n",
       "Model                0\n",
       "Kilometers_driven    0\n",
       "Year                 0\n",
       "Fuel                 0\n",
       "Transmission         0\n",
       "Variant              0\n",
       "No_owners            0\n",
       "Location             0\n",
       "dtype: int64"
      ]
     },
     "execution_count": 232,
     "metadata": {},
     "output_type": "execute_result"
    }
   ],
   "source": [
    "df.isnull().sum()"
   ]
  },
  {
   "cell_type": "code",
   "execution_count": 234,
   "metadata": {},
   "outputs": [],
   "source": [
    "#Skewness check"
   ]
  },
  {
   "cell_type": "code",
   "execution_count": 235,
   "metadata": {},
   "outputs": [
    {
     "data": {
      "image/png": "[encoded data removed]",
      "text/plain": [
       "<Figure size 432x288 with 1 Axes>"
      ]
     },
     "metadata": {
      "needs_background": "light"
     },
     "output_type": "display_data"
    },
    {
     "data": {
      "image/png": "[encoded data removed]",
      "text/plain": [
       "<Figure size 432x288 with 1 Axes>"
      ]
     },
     "metadata": {
      "needs_background": "light"
     },
     "output_type": "display_data"
    },
    {
     "data": {
      "image/png": "[encoded data removed]",
      "text/plain": [
       "<Figure size 432x288 with 1 Axes>"
      ]
     },
     "metadata": {
      "needs_background": "light"
     },
     "output_type": "display_data"
    }
   ],
   "source": [
    "for i in df.describe().columns:\n",
    "    sns.distplot(df[i].dropna())\n",
    "    plt.show()"
   ]
  },
  {
   "cell_type": "code",
   "execution_count": 236,
   "metadata": {},
   "outputs": [
    {
     "data": {
      "text/plain": [
       "Price                4.385364\n",
       "Kilometers_driven    2.469979\n",
       "Year                -0.617623\n",
       "dtype: float64"
      ]
     },
     "execution_count": 236,
     "metadata": {},
     "output_type": "execute_result"
    }
   ],
   "source": [
    "df.skew()"
   ]
  },
  {
   "cell_type": "code",
   "execution_count": 237,
   "metadata": {},
   "outputs": [],
   "source": [
    "#we can see that there is skewness in columns Price and Kilometers_driven. Price is target variable. \n",
    "#So we need to treat skewness for Kilometers_driven column\n"
   ]
  },
  {
   "cell_type": "code",
   "execution_count": 238,
   "metadata": {},
   "outputs": [],
   "source": [
    "#we can do log or square root transformation to remove skewness"
   ]
  },
  {
   "cell_type": "code",
   "execution_count": 241,
   "metadata": {},
   "outputs": [],
   "source": [
    "df_log=pd.DataFrame({})\n",
    "df_log['Kilometers_driven']=np.log(df['Kilometers_driven']+1)"
   ]
  },
  {
   "cell_type": "code",
   "execution_count": 242,
   "metadata": {},
   "outputs": [
    {
     "data": {
      "text/plain": [
       "-4.269775075449798"
      ]
     },
     "execution_count": 242,
     "metadata": {},
     "output_type": "execute_result"
    }
   ],
   "source": [
    "df_log['Kilometers_driven'].skew()"
   ]
  },
  {
   "cell_type": "raw",
   "metadata": {},
   "source": [
    "Still we are seeing skewness so we will try squareroot transformation"
   ]
  },
  {
   "cell_type": "code",
   "execution_count": 243,
   "metadata": {},
   "outputs": [],
   "source": [
    "df_sqr=pd.DataFrame({})\n",
    "df_sqr['Kilometers_driven']=np.sqrt(df['Kilometers_driven'])"
   ]
  },
  {
   "cell_type": "code",
   "execution_count": 244,
   "metadata": {},
   "outputs": [
    {
     "data": {
      "text/plain": [
       "0.12998800769902785"
      ]
     },
     "execution_count": 244,
     "metadata": {},
     "output_type": "execute_result"
    }
   ],
   "source": [
    "df_sqr['Kilometers_driven'].skew()"
   ]
  },
  {
   "cell_type": "code",
   "execution_count": 245,
   "metadata": {},
   "outputs": [],
   "source": [
    "#we can see that squareroot transformation works.\n",
    "df['Kilometers_driven']=df_sqr['Kilometers_driven']"
   ]
  },
  {
   "cell_type": "markdown",
   "metadata": {},
   "source": [
    "Treating outliers"
   ]
  },
  {
   "cell_type": "code",
   "execution_count": 246,
   "metadata": {},
   "outputs": [
    {
     "data": {
      "image/png": "[encoded data removed]",
      "text/plain": [
       "<Figure size 432x288 with 1 Axes>"
      ]
     },
     "metadata": {
      "needs_background": "light"
     },
     "output_type": "display_data"
    },
    {
     "data": {
      "image/png": "[encoded data removed]",
      "text/plain": [
       "<Figure size 432x288 with 1 Axes>"
      ]
     },
     "metadata": {
      "needs_background": "light"
     },
     "output_type": "display_data"
    },
    {
     "data": {
      "image/png": "[encoded data removed]",
      "text/plain": [
       "<Figure size 432x288 with 1 Axes>"
      ]
     },
     "metadata": {
      "needs_background": "light"
     },
     "output_type": "display_data"
    }
   ],
   "source": [
    "for i in df.describe().columns:\n",
    "    sns.boxplot(df[i].dropna())\n",
    "    plt.show()"
   ]
  },
  {
   "cell_type": "code",
   "execution_count": 247,
   "metadata": {},
   "outputs": [],
   "source": [
    "#we can use zscore or IQR technique to remove outliers. We will use IQR here "
   ]
  },
  {
   "cell_type": "code",
   "execution_count": 248,
   "metadata": {},
   "outputs": [],
   "source": [
    "num_train = df.select_dtypes(include=[\"number\"])\n",
    "cat_train = df.select_dtypes(exclude=[\"number\"])"
   ]
  },
  {
   "cell_type": "code",
   "execution_count": 249,
   "metadata": {},
   "outputs": [],
   "source": [
    "Q1 = num_train.quantile(0.02)\n",
    "Q3 = num_train.quantile(0.98)\n",
    "IQR = Q3 - Q1\n",
    "idx = ~((num_train < (Q1 - 1.5 * IQR)) | (num_train > (Q3 + 1.5 * IQR))).any(axis=1)\n",
    "df = pd.concat([num_train.loc[idx], cat_train.loc[idx]], axis=1)"
   ]
  },
  {
   "cell_type": "code",
   "execution_count": 250,
   "metadata": {},
   "outputs": [
    {
     "data": {
      "text/plain": [
       "(5832, 10)"
      ]
     },
     "execution_count": 250,
     "metadata": {},
     "output_type": "execute_result"
    }
   ],
   "source": [
    "df.shape"
   ]
  },
  {
   "cell_type": "code",
   "execution_count": 251,
   "metadata": {},
   "outputs": [],
   "source": [
    "# we treated outliers too"
   ]
  },
  {
   "cell_type": "markdown",
   "metadata": {},
   "source": [
    "Encoding"
   ]
  },
  {
   "cell_type": "raw",
   "metadata": {},
   "source": [
    "We know that we need numerical data to train the model, but we categorical data also included. \n",
    "We will use encoding process to change these categorical data to numerical data."
   ]
  },
  {
   "cell_type": "code",
   "execution_count": 252,
   "metadata": {},
   "outputs": [
    {
     "data": {
      "text/plain": [
       "Index(['Price', 'Kilometers_driven', 'Year', 'Brand', 'Model', 'Fuel',\n",
       "       'Transmission', 'Variant', 'No_owners', 'Location'],\n",
       "      dtype='object')"
      ]
     },
     "execution_count": 252,
     "metadata": {},
     "output_type": "execute_result"
    }
   ],
   "source": [
    "df.columns"
   ]
  },
  {
   "cell_type": "code",
   "execution_count": 253,
   "metadata": {},
   "outputs": [],
   "source": [
    "from sklearn.preprocessing import LabelEncoder\n",
    "le=LabelEncoder()\n",
    "df['Brand']=le.fit_transform(df['Brand'].values.reshape(-1,1))\n",
    "df['Model']=le.fit_transform(df['Model'].values.reshape(-1,1))\n",
    "df['Fuel']=le.fit_transform(df['Fuel'].values.reshape(-1,1))\n",
    "df['Transmission']=le.fit_transform(df['Transmission'].values.reshape(-1,1))\n",
    "df['Variant']=le.fit_transform(df['Variant'].values.reshape(-1,1))\n",
    "df['No_owners']=le.fit_transform(df['No_owners'].values.reshape(-1,1))\n",
    "df['Location']=le.fit_transform(df['Location'].values.reshape(-1,1))"
   ]
  },
  {
   "cell_type": "code",
   "execution_count": 254,
   "metadata": {},
   "outputs": [
    {
     "data": {
      "text/html": [
       "<div>\n",
       "<style scoped>\n",
       "    .dataframe tbody tr th:only-of-type {\n",
       "        vertical-align: middle;\n",
       "    }\n",
       "\n",
       "    .dataframe tbody tr th {\n",
       "        vertical-align: top;\n",
       "    }\n",
       "\n",
       "    .dataframe thead th {\n",
       "        text-align: right;\n",
       "    }\n",
       "</style>\n",
       "<table border=\"1\" class=\"dataframe\">\n",
       "  <thead>\n",
       "    <tr style=\"text-align: right;\">\n",
       "      <th></th>\n",
       "      <th>Price</th>\n",
       "      <th>Kilometers_driven</th>\n",
       "      <th>Year</th>\n",
       "      <th>Brand</th>\n",
       "      <th>Model</th>\n",
       "      <th>Fuel</th>\n",
       "      <th>Transmission</th>\n",
       "      <th>Variant</th>\n",
       "      <th>No_owners</th>\n",
       "      <th>Location</th>\n",
       "    </tr>\n",
       "  </thead>\n",
       "  <tbody>\n",
       "    <tr>\n",
       "      <th>0</th>\n",
       "      <td>229000.0</td>\n",
       "      <td>262.678511</td>\n",
       "      <td>2011.0</td>\n",
       "      <td>2</td>\n",
       "      <td>31</td>\n",
       "      <td>2</td>\n",
       "      <td>1</td>\n",
       "      <td>545</td>\n",
       "      <td>2</td>\n",
       "      <td>1</td>\n",
       "    </tr>\n",
       "    <tr>\n",
       "      <th>1</th>\n",
       "      <td>2590000.0</td>\n",
       "      <td>148.323970</td>\n",
       "      <td>2016.0</td>\n",
       "      <td>29</td>\n",
       "      <td>40</td>\n",
       "      <td>5</td>\n",
       "      <td>0</td>\n",
       "      <td>457</td>\n",
       "      <td>0</td>\n",
       "      <td>1</td>\n",
       "    </tr>\n",
       "    <tr>\n",
       "      <th>2</th>\n",
       "      <td>195000.0</td>\n",
       "      <td>262.678511</td>\n",
       "      <td>2009.0</td>\n",
       "      <td>18</td>\n",
       "      <td>235</td>\n",
       "      <td>5</td>\n",
       "      <td>1</td>\n",
       "      <td>1463</td>\n",
       "      <td>2</td>\n",
       "      <td>1</td>\n",
       "    </tr>\n",
       "    <tr>\n",
       "      <th>5</th>\n",
       "      <td>2250000.0</td>\n",
       "      <td>137.840488</td>\n",
       "      <td>2019.0</td>\n",
       "      <td>29</td>\n",
       "      <td>111</td>\n",
       "      <td>2</td>\n",
       "      <td>1</td>\n",
       "      <td>425</td>\n",
       "      <td>0</td>\n",
       "      <td>1</td>\n",
       "    </tr>\n",
       "    <tr>\n",
       "      <th>6</th>\n",
       "      <td>395000.0</td>\n",
       "      <td>198.199395</td>\n",
       "      <td>2014.0</td>\n",
       "      <td>18</td>\n",
       "      <td>213</td>\n",
       "      <td>5</td>\n",
       "      <td>1</td>\n",
       "      <td>1461</td>\n",
       "      <td>0</td>\n",
       "      <td>1</td>\n",
       "    </tr>\n",
       "  </tbody>\n",
       "</table>\n",
       "</div>"
      ],
      "text/plain": [
       "       Price  Kilometers_driven    Year  Brand  Model  Fuel  Transmission  \\\n",
       "0   229000.0         262.678511  2011.0      2     31     2             1   \n",
       "1  2590000.0         148.323970  2016.0     29     40     5             0   \n",
       "2   195000.0         262.678511  2009.0     18    235     5             1   \n",
       "5  2250000.0         137.840488  2019.0     29    111     2             1   \n",
       "6   395000.0         198.199395  2014.0     18    213     5             1   \n",
       "\n",
       "   Variant  No_owners  Location  \n",
       "0      545          2         1  \n",
       "1      457          0         1  \n",
       "2     1463          2         1  \n",
       "5      425          0         1  \n",
       "6     1461          0         1  "
      ]
     },
     "execution_count": 254,
     "metadata": {},
     "output_type": "execute_result"
    }
   ],
   "source": [
    "df.head()"
   ]
  },
  {
   "cell_type": "code",
   "execution_count": 255,
   "metadata": {},
   "outputs": [],
   "source": [
    "#we will split the data into x(independent) and y (target) variables."
   ]
  },
  {
   "cell_type": "code",
   "execution_count": 256,
   "metadata": {},
   "outputs": [],
   "source": [
    "x=df.drop(['Price'],axis=1)\n",
    "y=df['Price']"
   ]
  },
  {
   "cell_type": "markdown",
   "metadata": {},
   "source": [
    "Required libraries to train the model."
   ]
  },
  {
   "cell_type": "code",
   "execution_count": 257,
   "metadata": {},
   "outputs": [],
   "source": [
    "from sklearn.model_selection import train_test_split\n",
    "from sklearn.linear_model import LinearRegression\n",
    "from sklearn.tree import DecisionTreeRegressor\n",
    "from sklearn.ensemble import RandomForestRegressor\n",
    "from sklearn.neighbors import KNeighborsRegressor\n",
    "from sklearn.metrics import r2_score, mean_squared_error,mean_absolute_error"
   ]
  },
  {
   "cell_type": "code",
   "execution_count": 258,
   "metadata": {},
   "outputs": [],
   "source": [
    "lr=LinearRegression()\n",
    "dr=DecisionTreeRegressor()\n",
    "rf=RandomForestRegressor()\n",
    "kn=KNeighborsRegressor()"
   ]
  },
  {
   "cell_type": "code",
   "execution_count": 259,
   "metadata": {},
   "outputs": [],
   "source": [
    "model=[lr,dr,rf,kn]"
   ]
  },
  {
   "cell_type": "raw",
   "metadata": {},
   "source": [
    "Splitting data for training and testing "
   ]
  },
  {
   "cell_type": "code",
   "execution_count": 260,
   "metadata": {},
   "outputs": [],
   "source": [
    "x_train,x_test,y_train,y_test=train_test_split(x,y,test_size=0.30,random_state=40)"
   ]
  },
  {
   "cell_type": "code",
   "execution_count": 261,
   "metadata": {},
   "outputs": [],
   "source": [
    "#we will use for loop and we will train the data with all the above mentioned machinelearning algorithms.From this we will get r2_score and mean_absolute, mean_squared error values."
   ]
  },
  {
   "cell_type": "code",
   "execution_count": 262,
   "metadata": {},
   "outputs": [
    {
     "name": "stdout",
     "output_type": "stream",
     "text": [
      "LinearRegression()\n",
      "r2_score: 0.3646650679868234\n",
      "mean_squared_error: 224170417134.6158\n",
      "mean_absolute_error: 275994.81065743545\n",
      "root_mean_squared_error 473466.38437656354\n",
      "\n",
      "\n",
      "DecisionTreeRegressor()\n",
      "r2_score: 0.4955080914610904\n",
      "mean_squared_error: 178004003683.305\n",
      "mean_absolute_error: 151097.46666666667\n",
      "root_mean_squared_error 421905.2069876657\n",
      "\n",
      "\n",
      "RandomForestRegressor()\n",
      "r2_score: 0.759487891801458\n",
      "mean_squared_error: 84861853022.86325\n",
      "mean_absolute_error: 120754.80186008658\n",
      "root_mean_squared_error 291310.5782886424\n",
      "\n",
      "\n",
      "KNeighborsRegressor()\n",
      "r2_score: 0.44437988295945174\n",
      "mean_squared_error: 196043987398.41458\n",
      "mean_absolute_error: 223257.5288\n",
      "root_mean_squared_error 442768.54833921365\n",
      "\n",
      "\n"
     ]
    }
   ],
   "source": [
    "for m in model:\n",
    "    x_train,x_test,y_train,y_test=train_test_split(x,y,test_size=0.30,random_state=34)\n",
    "    m.fit(x_train,y_train)\n",
    "    predv=m.predict(x_test)\n",
    "    print(m)\n",
    "    print('r2_score:',r2_score(y_test,predv))\n",
    "    print('mean_squared_error:',mean_squared_error(y_test,predv))\n",
    "    print('mean_absolute_error:',mean_absolute_error(y_test,predv))\n",
    "    print('root_mean_squared_error',np.sqrt(mean_squared_error(y_test,predv)))\n",
    "    print('\\n')"
   ]
  },
  {
   "cell_type": "raw",
   "metadata": {},
   "source": [
    "We can see that RandomForestRegressor is working good with 75.9% r2_score, but still will do some tunnings to get better accuracy and reduce RMSE(Root Mean Squared Error).First we will do Regularization. "
   ]
  },
  {
   "cell_type": "markdown",
   "metadata": {},
   "source": [
    "Required Liabraries for Regulariation."
   ]
  },
  {
   "cell_type": "code",
   "execution_count": 264,
   "metadata": {},
   "outputs": [],
   "source": [
    "from sklearn.model_selection import GridSearchCV\n",
    "from sklearn.model_selection import cross_val_score\n",
    "from sklearn.linear_model import Lasso"
   ]
  },
  {
   "cell_type": "code",
   "execution_count": 265,
   "metadata": {},
   "outputs": [],
   "source": [
    "#Here Grid search cv is to find best parameters for the Lasso regularization.\n",
    "#Cross_val_score is crossvalidation technique.\n",
    "#Cross-validation is a technique used to protect against overfitting in a predictive model, particularly in a case where the amount of data may be limited. \n",
    "#In cross-validation, you make a fixed number of K-folds (or partitions) of the data, run the analysis on each fold, and then average (mean) the overall error estimate."
   ]
  },
  {
   "cell_type": "code",
   "execution_count": 266,
   "metadata": {},
   "outputs": [],
   "source": [
    "#let's find best alpha value for the lasso."
   ]
  },
  {
   "cell_type": "code",
   "execution_count": 267,
   "metadata": {},
   "outputs": [
    {
     "name": "stdout",
     "output_type": "stream",
     "text": [
      "{'alpha': 10, 'random_state': 0}\n"
     ]
    }
   ],
   "source": [
    "parameters={'alpha':[.0001,.001,.01,.1,1,10],'random_state':list(range(0,10))}\n",
    "ls=Lasso()\n",
    "clf=GridSearchCV(ls,parameters)\n",
    "clf.fit(x_train,y_train)\n",
    "print(clf.best_params_)"
   ]
  },
  {
   "cell_type": "code",
   "execution_count": 268,
   "metadata": {},
   "outputs": [],
   "source": [
    "#Now we will use the above alpha and random_state best parameters for lasso and willcheck the r2_score.#Now we will use the above alpha and random_state best parameters for lasso and willcheck the r2_score."
   ]
  },
  {
   "cell_type": "code",
   "execution_count": 269,
   "metadata": {},
   "outputs": [
    {
     "data": {
      "text/plain": [
       "0.3646715707483754"
      ]
     },
     "execution_count": 269,
     "metadata": {},
     "output_type": "execute_result"
    }
   ],
   "source": [
    "ls=Lasso(alpha=10,random_state=0)\n",
    "ls.fit(x_train,y_train)\n",
    "ls.score(x_train,y_train)\n",
    "pre=ls.predict(x_test)\n",
    "lss=r2_score(y_test,pre)\n",
    "lss"
   ]
  },
  {
   "cell_type": "code",
   "execution_count": 270,
   "metadata": {},
   "outputs": [],
   "source": [
    "#let's do cross validation for this regularization."
   ]
  },
  {
   "cell_type": "code",
   "execution_count": 271,
   "metadata": {},
   "outputs": [
    {
     "data": {
      "text/plain": [
       "0.3941970050643035"
      ]
     },
     "execution_count": 271,
     "metadata": {},
     "output_type": "execute_result"
    }
   ],
   "source": [
    "cv_score=cross_val_score(ls,x,y,cv=5)\n",
    "cv_mean=cv_score.mean()\n",
    "cv_mean"
   ]
  },
  {
   "cell_type": "raw",
   "metadata": {},
   "source": [
    "The lasso cross validation is not better than RandomforestRegressor.So we will do Hyper parameter tunning for Randomforestregressor for getting best parameters. "
   ]
  },
  {
   "cell_type": "markdown",
   "metadata": {},
   "source": [
    "Hyper parameter Tunning."
   ]
  },
  {
   "cell_type": "code",
   "execution_count": 272,
   "metadata": {},
   "outputs": [
    {
     "name": "stdout",
     "output_type": "stream",
     "text": [
      "best_parameter: {'criterion': 'mse', 'max_depth': 20, 'max_features': 'sqrt'}\n"
     ]
    }
   ],
   "source": [
    "parameters={'criterion':['mse','mae'],'max_features':['auto','sqrt','log2'],'max_depth':[10,20,30]}\n",
    "gd=GridSearchCV(estimator=rf,param_grid=parameters,scoring='r2',cv=5)\n",
    "gd.fit(x_train,y_train)\n",
    "best_parameter=gd.best_params_\n",
    "print('best_parameter:',best_parameter)"
   ]
  },
  {
   "cell_type": "code",
   "execution_count": 273,
   "metadata": {},
   "outputs": [],
   "source": [
    "#we got best parameters.now with the help of these best parameters we will get the r2_score."
   ]
  },
  {
   "cell_type": "code",
   "execution_count": 274,
   "metadata": {},
   "outputs": [],
   "source": [
    "gd_pred=gd.best_estimator_.predict(x_test)"
   ]
  },
  {
   "cell_type": "code",
   "execution_count": 275,
   "metadata": {},
   "outputs": [
    {
     "data": {
      "text/plain": [
       "0.7961741558494452"
      ]
     },
     "execution_count": 275,
     "metadata": {},
     "output_type": "execute_result"
    }
   ],
   "source": [
    "r2_score(y_test,gd_pred)"
   ]
  },
  {
   "cell_type": "code",
   "execution_count": 276,
   "metadata": {},
   "outputs": [
    {
     "name": "stdout",
     "output_type": "stream",
     "text": [
      "root_mean_squared_error 268174.45555879985\n"
     ]
    }
   ],
   "source": [
    "print('root_mean_squared_error',np.sqrt(mean_squared_error(y_test,gd_pred)))"
   ]
  },
  {
   "cell_type": "raw",
   "metadata": {},
   "source": [
    "Finally we got some better accuracy which is 79.6%, also we reduce the RMSE. Now we will plot the data points to check how the model is fitting. For this we will use scatter plot and line plot. "
   ]
  },
  {
   "cell_type": "code",
   "execution_count": 278,
   "metadata": {},
   "outputs": [
    {
     "data": {
      "image/png": "[encoded data removed]",
      "text/plain": [
       "<Figure size 432x288 with 1 Axes>"
      ]
     },
     "metadata": {
      "needs_background": "light"
     },
     "output_type": "display_data"
    }
   ],
   "source": [
    "plt.scatter(x=y_test,y=gd_pred,color='r')\n",
    "plt.plot(y_test,y_test,color='b')\n",
    "plt.show()"
   ]
  },
  {
   "cell_type": "raw",
   "metadata": {},
   "source": [
    "We can see that most of the data points (red dots) are connected to the line.We will save this best parameters randomforestregressor by importing joblib to test the provided test data in future. "
   ]
  },
  {
   "cell_type": "code",
   "execution_count": 279,
   "metadata": {},
   "outputs": [
    {
     "data": {
      "text/plain": [
       "['car_price.obj']"
      ]
     },
     "execution_count": 279,
     "metadata": {},
     "output_type": "execute_result"
    }
   ],
   "source": [
    "import joblib\n",
    "joblib.dump(gd.best_estimator_,'car_price.obj')"
   ]
  },
  {
   "cell_type": "markdown",
   "metadata": {},
   "source": [
    "End of the task"
   ]
  },
  {
   "cell_type": "code",
   "execution_count": null,
   "metadata": {},
   "outputs": [],
   "source": []
  }
 ],
 "metadata": {
  "kernelspec": {
   "display_name": "Python 3",
   "language": "python",
   "name": "python3"
  },
  "language_info": {
   "codemirror_mode": {
    "name": "ipython",
    "version": 3
   },
   "file_extension": ".py",
   "mimetype": "text/x-python",
   "name": "python",
   "nbconvert_exporter": "python",
   "pygments_lexer": "ipython3",
   "version": "3.8.3"
  }
 },
 "nbformat": 4,
 "nbformat_minor": 4
}
